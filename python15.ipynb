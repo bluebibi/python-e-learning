{
 "metadata": {
  "name": "",
  "signature": "sha256:b5af42ef3cbf2396acd3b84335a30235dbb8458778fa4f7b8061657ae294275d"
 },
 "nbformat": 3,
 "nbformat_minor": 0,
 "worksheets": [
  {
   "cells": [
    {
     "cell_type": "markdown",
     "metadata": {},
     "source": [
      "***\n",
      "***\n",
      "# 15. \ud30c\uc774\uc36c \ubaa8\ub4c8\n",
      "***\n",
      "***"
     ]
    },
    {
     "cell_type": "markdown",
     "metadata": {},
     "source": [
      "***\n",
      "## 1 \uc2a4\ucf54\ud551\n",
      "***\n",
      "- \uc774\ub984 \uacf5\uac04 \ub610\ub294 \uc2a4\ucf54\ud504 (Naming Space or Scope): \uc774\ub984\uc774 \uc874\uc7ac\ud558\ub294 \uc7a5\uc18c. \ud30c\uc774\uc36c\uc740 \uc2e4\ud589 \uc2dc\uac04\uc5d0 \uac01 \uc774\ub984\ub4e4\uc744 \uc801\uc808\ud55c \uc774\ub984 \uacf5\uac04\uc5d0 \ub123\uc5b4 \uad00\ub9ac\ud55c\ub2e4.\n",
      "- \uc774\ub984 \uacf5\uac04(\uc2a4\ucf54\ud504)\uc758 \uc885\ub958\n",
      "  - \uc9c0\uc5ed(Local): \uac01 \ud568\uc218 \ub0b4\ubd80\n",
      "  - \uc804\uc5ed(Global): \ubaa8\ub4c8 (\ud30c\uc77c) \ub0b4\ubd80\n",
      "  - \ub0b4\uc7a5(Built-in): \ud30c\uc774\uc36c \uc5b8\uc5b4 \uc790\uccb4\uc5d0\uc11c \uc815\uc758\ud55c \uc601\uc5ed\n",
      "- \ubcc0\uc218\uc758 \uc2a4\ucf54\ud504\uac00 \uacb0\uc815\ub418\ub294 \uaddc\uce59 (Scoping Rule)\n",
      "  - \ubcc0\uc218\uac00 \uc815\uc758\ub418\ub294 \uc704\uce58\uc5d0 \uc758\ud574 \uc815\ud574\uc9d0\n",
      "  - \ud30c\uc774\uc36c\uc5d0\uc11c \ubcc0\uc218\uc758 \uc815\uc758\n",
      "    - \ubcc0\uc218\uac00 l-value\ub85c \uc0ac\uc6a9\ub420 \ub54c\n",
      "- \ubcc0\uc218\uac00 r-value\ub85c \uc0ac\uc6a9\ub420 \ub54c \ud574\ub2f9 \ubcc0\uc218\uc758 \uac12\uc744 \ucc3e\ub294 \uc21c\uc11c \uaddc\uce59\n",
      "  - L --> G --> B"
     ]
    },
    {
     "cell_type": "markdown",
     "metadata": {},
     "source": [
      "![image](images/scoping_rule.png)"
     ]
    },
    {
     "cell_type": "markdown",
     "metadata": {},
     "source": [
      "### 1-1 \uc9c0\uc5ed\ubcc0\uc218\uc640 \uc804\uc5ed\ubcc0\uc218\n",
      "- \ubcc0\uc218\uc758 \uc2a4\ucf54\ud504\ub294 \ud574\ub2f9 \ubcc0\uc218\uac00 l-value\ub85c\uc11c \uc815\uc758\ub418\ub294 \uc704\uce58\uc5d0 \ub530\ub77c \ub2ec\ub77c\uc9d0\n",
      "- \ubcc0\uc218\uac00 \ud568\uc218 \ub0b4\uc5d0\uc11c \uc815\uc758\ub418\uba74 \ud574\ub2f9 \ud568\uc218\uc758 \uc9c0\uc5ed \ubcc0\uc218\uac00 \ub41c\ub2e4."
     ]
    },
    {
     "cell_type": "code",
     "collapsed": false,
     "input": [
      "# g, h\ub294 \uc804\uc5ed \ubcc0\uc218\n",
      "g = 10\n",
      "h = 5\n",
      "\n",
      "def f(a):          # a\ub294 \uc9c0\uc5ed \ubcc0\uc218\n",
      "    h = a + 10     # h\ub294 \uc9c0\uc5ed, \uc0c8\ub85c l-value\ub85c \uc815\uc758\ud588\uc74c\n",
      "    b = h + a + g  # b\ub3c4 \uc9c0\uc5ed, g\ub294 r-value\uc774\ubbc0\ub85c \uae30\uc874 \uac12\uc744 \ucc38\uc870 - \uc804\uc5ed \ubcc0\uc218\n",
      "    return b\n",
      "\n",
      "print f(h)         # \ud568\uc218 \ud638\ucd9c\uc2dc\uc5d0 \uc0ac\uc6a9\ub418\ub294 \ubcc0\uc218\ub294 \ud574\ub2f9 \uc704\uce58\uc758 \uc2a4\ucf54\ud504\uc5d0\uc11c \uac12\uc744 \ucc3e\uc74c - \uc804\uc5ed \ubcc0\uc218\n",
      "print h            # \uc804\uc5ed \ubcc0\uc218 h\ub294 \ubcc0\ud568 \uc5c6\uc74c"
     ],
     "language": "python",
     "metadata": {},
     "outputs": [
      {
       "output_type": "stream",
       "stream": "stdout",
       "text": [
        "30\n",
        "5\n"
       ]
      }
     ],
     "prompt_number": 62
    },
    {
     "cell_type": "markdown",
     "metadata": {},
     "source": [
      "- \ud568\uc218 \ub0b4\ubd80\uc5d0\uc11c \uc804\uc5ed \ubcc0\uc218\ub97c \uc9c1\uc811 \uc0ac\uc6a9\ud558\uace0\uc790 \ud560 \ub54c\n",
      "  - global \ud0a4\uc6cc\ub4dc \ud65c\uc6a9"
     ]
    },
    {
     "cell_type": "code",
     "collapsed": false,
     "input": [
      "h = 5\n",
      "\n",
      "def f(a):      # a\ub294 \uc9c0\uc5ed\n",
      "    global h   # h \ubcc0\uc218\ub97c \uc804\uc5ed\uc774\ub77c\uace0 \ubbf8\ub9ac \uc120\uc5b8\ud568\n",
      "    h = a + 10 # h\ub294 l-velue\ub85c \uc815\uc758\ub418\ub354\ub77c\ub3c4 \ubbf8\ub9ac \uc120\uc5b8\ub41c \ub0b4\uc6a9 \ub54c\ubb38\uc5d0 \uc804\uc5ed \ubcc0\uc218\n",
      "    return h\n",
      "\n",
      "print f(10)\n",
      "print h        # \uc804\uc5ed \ubcc0\uc218 h \uac12\uc774 \ud568\uc218 \ub0b4\uc5d0\uc11c \ubcc0\uacbd\ub418\uc5c8\uc74c"
     ],
     "language": "python",
     "metadata": {},
     "outputs": [
      {
       "output_type": "stream",
       "stream": "stdout",
       "text": [
        "20\n",
        "20\n"
       ]
      }
     ],
     "prompt_number": 63
    },
    {
     "cell_type": "markdown",
     "metadata": {},
     "source": [
      "- [\uc8fc\uc758] \ub3d9\uc77c \ud568\uc218 \ub0b4\uc5d0\uc11c \ub3d9\uc77c\ud55c \ubcc0\uc218\uac00 \uc9c0\uc5ed\ubcc0\uc218\uc640 \uc804\uc5ed\ubcc0\uc218\ub85c \ub3d9\uc2dc\uc5d0 \ud65c\uc6a9\ub420 \uc218 \uc5c6\uc74c\n",
      "  - \ud568\uc218 \ub0b4\uc5d0\uc11c \uc815\uc758\ub418\ub294 \ubcc0\uc218\ub294 \uc9c0\uc5ed \ubcc0\uc218\ub85c \uac04\uc8fc\n",
      "  - \uc9c0\uc5ed \ubcc0\uc218\ub85c \uc120\uc5b8\ub418\uae30 \uc774\uc804\uc5d0 \ud574\ub2f9 \ubcc0\uc218\ub97c \uc0ac\uc6a9\ud560 \uc218 \uc5c6\uc74c"
     ]
    },
    {
     "cell_type": "code",
     "collapsed": false,
     "input": [
      "g = 10\n",
      "\n",
      "def f():\n",
      "    a = g      # l-value\ub85c \uc0ac\uc6a9\ub418\ub294 g\ub294 \uc804\uc5ed \ubcc0\uc218\n",
      "    g = 20     # r-value\ub85c \uc815\uc758\ub418\ub294 g\ub294 \uc9c0\uc5ed \ubcc0\uc218\n",
      "    return a\n",
      "\n",
      "print f()"
     ],
     "language": "python",
     "metadata": {},
     "outputs": [
      {
       "ename": "UnboundLocalError",
       "evalue": "local variable 'g' referenced before assignment",
       "output_type": "pyerr",
       "traceback": [
        "\u001b[0;31m---------------------------------------------------------------------------\u001b[0m\n\u001b[0;31mUnboundLocalError\u001b[0m                         Traceback (most recent call last)",
        "\u001b[0;32m<ipython-input-68-e323361344da>\u001b[0m in \u001b[0;36m<module>\u001b[0;34m()\u001b[0m\n\u001b[1;32m      6\u001b[0m     \u001b[0;32mreturn\u001b[0m \u001b[0ma\u001b[0m\u001b[0;34m\u001b[0m\u001b[0m\n\u001b[1;32m      7\u001b[0m \u001b[0;34m\u001b[0m\u001b[0m\n\u001b[0;32m----> 8\u001b[0;31m \u001b[0;32mprint\u001b[0m \u001b[0mf\u001b[0m\u001b[0;34m(\u001b[0m\u001b[0;34m)\u001b[0m\u001b[0;34m\u001b[0m\u001b[0m\n\u001b[0m",
        "\u001b[0;32m<ipython-input-68-e323361344da>\u001b[0m in \u001b[0;36mf\u001b[0;34m()\u001b[0m\n\u001b[1;32m      2\u001b[0m \u001b[0;34m\u001b[0m\u001b[0m\n\u001b[1;32m      3\u001b[0m \u001b[0;32mdef\u001b[0m \u001b[0mf\u001b[0m\u001b[0;34m(\u001b[0m\u001b[0;34m)\u001b[0m\u001b[0;34m:\u001b[0m\u001b[0;34m\u001b[0m\u001b[0m\n\u001b[0;32m----> 4\u001b[0;31m     \u001b[0ma\u001b[0m \u001b[0;34m=\u001b[0m \u001b[0mg\u001b[0m      \u001b[0;31m# l-value\ub85c \uc0ac\uc6a9\ub418\ub294 g\ub294 \uc804\uc5ed \ubcc0\uc218\u001b[0m\u001b[0;34m\u001b[0m\u001b[0m\n\u001b[0m\u001b[1;32m      5\u001b[0m     \u001b[0mg\u001b[0m \u001b[0;34m=\u001b[0m \u001b[0;36m20\u001b[0m     \u001b[0;31m# r-value\ub85c \uc815\uc758\ub418\ub294 g\ub294 \uc9c0\uc5ed \ubcc0\uc218\u001b[0m\u001b[0;34m\u001b[0m\u001b[0m\n\u001b[1;32m      6\u001b[0m     \u001b[0;32mreturn\u001b[0m \u001b[0ma\u001b[0m\u001b[0;34m\u001b[0m\u001b[0m\n",
        "\u001b[0;31mUnboundLocalError\u001b[0m: local variable 'g' referenced before assignment"
       ]
      }
     ],
     "prompt_number": 68
    },
    {
     "cell_type": "code",
     "collapsed": false,
     "input": [
      "g = 10\n",
      "\n",
      "def f():\n",
      "    global g    # g\ub294 \uc804\uc5ed \ubcc0\uc218\ub85c \uc120\uc5b8\ub428\n",
      "    a = g       # a\ub294 \uc9c0\uc5ed \ubcc0\uc218, g\ub294 \uc804\uc5ed \ubcc0\uc218\n",
      "    g = 20      # g\ub294 \uc804\uc5ed \ubcc0\uc218\n",
      "    return a\n",
      "\n",
      "print f()"
     ],
     "language": "python",
     "metadata": {},
     "outputs": [
      {
       "output_type": "stream",
       "stream": "stdout",
       "text": [
        "10\n"
       ]
      }
     ],
     "prompt_number": 67
    },
    {
     "cell_type": "markdown",
     "metadata": {},
     "source": [
      "### 1-2 \ub0b4\uc7a5 \uc601\uc5ed\uc758 \uc774\ub984 \uc54c\uc544\ubcf4\uae30"
     ]
    },
    {
     "cell_type": "markdown",
     "metadata": {},
     "source": [
      "- \uc774\ub984(Name)\n",
      "  - \ubcc0\uc218 \uc774\ub984\n",
      "  - \ud568\uc218 \uc774\ub984\n",
      "  - \ud074\ub798\uc2a4 \uc774\ub984\n",
      "  - \uac1d\uccb4 \uc774\ub984\n",
      "  - \ubaa8\ub4c8 \uc774\ub984\n",
      "- dir(): \ud568\uc218\uac00 \ud638\ucd9c\ub41c \uc2a4\ucf54\ud504\uc5d0\uc11c \uc815\uc758\ub418\uc5b4 \uc788\ub294 \ubaa8\ub4e0 Name\ub4e4\uc744 \ubb38\uc790\uc5f4 \ub9ac\uc2a4\ud2b8\ub85c \ubc18\ud658\ud55c\ub2e4. \n",
      "- dir(object): object\uc774 \uc9c0\ub2c8\uace0 \uc788\ub294 \ubaa8\ub4e0 Name\ub4e4\uc744 \ubb38\uc790\uc5f4 \ub9ac\uc2a4\ud2b8\ub85c \ubc18\ud658\ud55c\ub2e4."
     ]
    },
    {
     "cell_type": "code",
     "collapsed": false,
     "input": [
      "l = []\n",
      "print dir(l)"
     ],
     "language": "python",
     "metadata": {},
     "outputs": [
      {
       "output_type": "stream",
       "stream": "stdout",
       "text": [
        "['__add__', '__class__', '__contains__', '__delattr__', '__delitem__', '__delslice__', '__doc__', '__eq__', '__format__', '__ge__', '__getattribute__', '__getitem__', '__getslice__', '__gt__', '__hash__', '__iadd__', '__imul__', '__init__', '__iter__', '__le__', '__len__', '__lt__', '__mul__', '__ne__', '__new__', '__reduce__', '__reduce_ex__', '__repr__', '__reversed__', '__rmul__', '__setattr__', '__setitem__', '__setslice__', '__sizeof__', '__str__', '__subclasshook__', 'append', 'count', 'extend', 'index', 'insert', 'pop', 'remove', 'reverse', 'sort']\n"
       ]
      }
     ],
     "prompt_number": 73
    },
    {
     "cell_type": "markdown",
     "metadata": {},
     "source": [
      "- \\_\\_builtins__: built-in \ubaa8\ub4c8 \uac1d\uccb4"
     ]
    },
    {
     "cell_type": "code",
     "collapsed": false,
     "input": [
      "print __builtin__.abs(-5)\n",
      "\n",
      "print __builtin__.bool(0)"
     ],
     "language": "python",
     "metadata": {},
     "outputs": [
      {
       "output_type": "stream",
       "stream": "stdout",
       "text": [
        "5\n",
        "False\n"
       ]
      }
     ],
     "prompt_number": 75
    },
    {
     "cell_type": "code",
     "collapsed": false,
     "input": [
      "print dir(__builtins__)"
     ],
     "language": "python",
     "metadata": {},
     "outputs": [
      {
       "output_type": "stream",
       "stream": "stdout",
       "text": [
        "['ArithmeticError', 'AssertionError', 'AttributeError', 'BaseException', 'BufferError', 'BytesWarning', 'DeprecationWarning', 'EOFError', 'Ellipsis', 'EnvironmentError', 'Exception', 'False', 'FloatingPointError', 'FutureWarning', 'GeneratorExit', 'IOError', 'ImportError', 'ImportWarning', 'IndentationError', 'IndexError', 'KeyError', 'KeyboardInterrupt', 'LookupError', 'MemoryError', 'NameError', 'None', 'NotImplemented', 'NotImplementedError', 'OSError', 'OverflowError', 'PendingDeprecationWarning', 'ReferenceError', 'RuntimeError', 'RuntimeWarning', 'StandardError', 'StopIteration', 'SyntaxError', 'SyntaxWarning', 'SystemError', 'SystemExit', 'TabError', 'True', 'TypeError', 'UnboundLocalError', 'UnicodeDecodeError', 'UnicodeEncodeError', 'UnicodeError', 'UnicodeTranslateError', 'UnicodeWarning', 'UserWarning', 'ValueError', 'Warning', 'ZeroDivisionError', '__IPYTHON__', '__IPYTHON__active', '__debug__', '__doc__', '__import__', '__name__', '__package__', 'abs', 'all', 'any', 'apply', 'basestring', 'bin', 'bool', 'buffer', 'bytearray', 'bytes', 'callable', 'chr', 'classmethod', 'cmp', 'coerce', 'compile', 'complex', 'copyright', 'credits', 'delattr', 'dict', 'dir', 'divmod', 'dreload', 'enumerate', 'eval', 'execfile', 'file', 'filter', 'float', 'format', 'frozenset', 'get_ipython', 'getattr', 'globals', 'hasattr', 'hash', 'help', 'hex', 'id', 'input', 'int', 'intern', 'isinstance', 'issubclass', 'iter', 'len', 'license', 'list', 'locals', 'long', 'map', 'max', 'memoryview', 'min', 'next', 'object', 'oct', 'open', 'ord', 'pow', 'print', 'property', 'range', 'raw_input', 'reduce', 'reload', 'repr', 'reversed', 'round', 'set', 'setattr', 'slice', 'sorted', 'staticmethod', 'str', 'sum', 'super', 'tuple', 'type', 'unichr', 'unicode', 'vars', 'xrange', 'zip']\n"
       ]
      }
     ],
     "prompt_number": 69
    },
    {
     "cell_type": "markdown",
     "metadata": {},
     "source": [
      "### 1-3 \ud568\uc218\uc758 \uc911\ucca9 \uc601\uc5ed(Nested Scopes) \uc9c0\uc6d0\n",
      "- Nested Scope: \ud568\uc218 \uc548\uc5d0 \uc815\uc758\ub418\uc5b4 \uc788\ub294 \ud568\uc218 \ub0b4\ubd80\n",
      "  - \uac00\uc7a5 \uc548\ucabd\uc758 \uc2a4\ucf54\ud504\ubd80\ud130 \ubc14\uae65\ucabd\uc758 \uc2a4\ucf54\ud504\ucabd\uc73c\ub85c \ubcc0\uc218\ub97c \ucc3e\ub294\ub2e4."
     ]
    },
    {
     "cell_type": "code",
     "collapsed": false,
     "input": [
      "x = 2\n",
      "def F():\n",
      "    x = 1\n",
      "    def G():\n",
      "        print x\n",
      "    G()\n",
      "\n",
      "F()"
     ],
     "language": "python",
     "metadata": {},
     "outputs": [
      {
       "output_type": "stream",
       "stream": "stdout",
       "text": [
        "1\n"
       ]
      }
     ],
     "prompt_number": 76
    },
    {
     "cell_type": "code",
     "collapsed": false,
     "input": [
      "def f(x):\n",
      "    def g(i):\n",
      "        print i,\n",
      "        if i: g(i-1)\n",
      "    g(x)\n",
      "    \n",
      "f(3)"
     ],
     "language": "python",
     "metadata": {},
     "outputs": [
      {
       "output_type": "stream",
       "stream": "stdout",
       "text": [
        "3 2 1 0\n"
       ]
      }
     ],
     "prompt_number": 73
    },
    {
     "cell_type": "markdown",
     "metadata": {},
     "source": [
      "- \uc911\ucca9 \uc601\uc5ed\uc774 \uc874\uc7ac\ud558\ub294 \ud568\uc218 \uc815\uc758\uc2dc \uc8fc\uc758\ud560 \uc810\n",
      "  - \uc678\ubd80 \ud568\uc218\uc5d0 \uc815\uc758\ub41c \ubcc0\uc218\ub97c \uc911\ucca9\ub41c \ub0b4\ubd80 \ud568\uc218\uc5d0\uc11c \uc811\uadfc\ud560 \ub54c global\uacfc \uac19\uc740 \ud0a4\uc6cc\ub4dc \uc0ac\uc6a9\ud560 \uc218 \uc5c6\uc74c\n",
      "  - \uc544\ub798 \ucf54\ub4dc\uc5d0\uc11c balance\ub294 deposit\uacfc withdraw \ud568\uc218 \ub0b4\uc5d0\uc11c r-value\uc640 l-value\ub85c\uc11c \ub3d9\uc2dc\uc5d0 \uc0ac\uc6a9\ud568\n",
      "    - \uc989, balance\ub294 deposit\uacfc withdraw \ud568\uc218 \ub0b4 \uc9c0\uc5ed \ubcc0\uc218\uc774\uc9c0\ub9cc \uc120\uc5b8\uc5c6\uc774 \uc0ac\uc6a9\ud55c\ub2e4\ub294 \uc5d0\ub7ec \ubc1c\uc0dd"
     ]
    },
    {
     "cell_type": "code",
     "collapsed": false,
     "input": [
      "def bank_account1(initial_balance):\n",
      "    balance = initial_balance\n",
      "    def deposit(amount):\n",
      "        balance = balance + amount\n",
      "        return balance\n",
      "    def withdraw(amount):\n",
      "        balance = balance - amount\n",
      "        return balance\n",
      "    return deposit, withdraw\n",
      "\n",
      "d, w = bank_account1(100)\n",
      "print d(100)"
     ],
     "language": "python",
     "metadata": {},
     "outputs": [
      {
       "ename": "UnboundLocalError",
       "evalue": "local variable 'balance' referenced before assignment",
       "output_type": "pyerr",
       "traceback": [
        "\u001b[0;31m---------------------------------------------------------------------------\u001b[0m\n\u001b[0;31mUnboundLocalError\u001b[0m                         Traceback (most recent call last)",
        "\u001b[0;32m<ipython-input-78-1f31280de582>\u001b[0m in \u001b[0;36m<module>\u001b[0;34m()\u001b[0m\n\u001b[1;32m     10\u001b[0m \u001b[0;34m\u001b[0m\u001b[0m\n\u001b[1;32m     11\u001b[0m \u001b[0md\u001b[0m\u001b[0;34m,\u001b[0m \u001b[0mw\u001b[0m \u001b[0;34m=\u001b[0m \u001b[0mbank_account1\u001b[0m\u001b[0;34m(\u001b[0m\u001b[0;36m100\u001b[0m\u001b[0;34m)\u001b[0m\u001b[0;34m\u001b[0m\u001b[0m\n\u001b[0;32m---> 12\u001b[0;31m \u001b[0;32mprint\u001b[0m \u001b[0md\u001b[0m\u001b[0;34m(\u001b[0m\u001b[0;36m100\u001b[0m\u001b[0;34m)\u001b[0m\u001b[0;34m\u001b[0m\u001b[0m\n\u001b[0m",
        "\u001b[0;32m<ipython-input-78-1f31280de582>\u001b[0m in \u001b[0;36mdeposit\u001b[0;34m(amount)\u001b[0m\n\u001b[1;32m      2\u001b[0m     \u001b[0mbalance\u001b[0m \u001b[0;34m=\u001b[0m \u001b[0minitial_balance\u001b[0m\u001b[0;34m\u001b[0m\u001b[0m\n\u001b[1;32m      3\u001b[0m     \u001b[0;32mdef\u001b[0m \u001b[0mdeposit\u001b[0m\u001b[0;34m(\u001b[0m\u001b[0mamount\u001b[0m\u001b[0;34m)\u001b[0m\u001b[0;34m:\u001b[0m\u001b[0;34m\u001b[0m\u001b[0m\n\u001b[0;32m----> 4\u001b[0;31m         \u001b[0mbalance\u001b[0m \u001b[0;34m=\u001b[0m \u001b[0mbalance\u001b[0m \u001b[0;34m+\u001b[0m \u001b[0mamount\u001b[0m\u001b[0;34m\u001b[0m\u001b[0m\n\u001b[0m\u001b[1;32m      5\u001b[0m         \u001b[0;32mreturn\u001b[0m \u001b[0mbalance\u001b[0m\u001b[0;34m\u001b[0m\u001b[0m\n\u001b[1;32m      6\u001b[0m     \u001b[0;32mdef\u001b[0m \u001b[0mwithdraw\u001b[0m\u001b[0;34m(\u001b[0m\u001b[0mamount\u001b[0m\u001b[0;34m)\u001b[0m\u001b[0;34m:\u001b[0m\u001b[0;34m\u001b[0m\u001b[0m\n",
        "\u001b[0;31mUnboundLocalError\u001b[0m: local variable 'balance' referenced before assignment"
       ]
      }
     ],
     "prompt_number": 78
    },
    {
     "cell_type": "markdown",
     "metadata": {},
     "source": [
      "- \uc704 \ucf54\ub4dc\ub97c \uac1c\uc120\ud55c \ucf54\ub4dc\n",
      "  - balance\ub294 \uc804\uc5ed \ubcc0\uc218\uac00 \uc544\ub2c8\uae30 \ub54c\ubb38\uc5d0 global \ud0a4\uc6cc\ub4dc \uc0ac\uc6a9 \ubabb\ud568\n",
      "  - deposit\uacfc widthdraw \ud568\uc218 \ub0b4\uc5d0\uc11c balance \ubcc0\uc218 \uc790\uccb4\ub97c l-value\ub85c \uc120\uc5b8\ud558\uc9c0 \uc54a\ub294 \ubc29\ubc95 \ud65c\uc6a9\n",
      "  - balance[0]\uc740 \uae30\uc874 balance \ubcc0\uc218\uc5d0 indexing\ud558\uc5ec \uc0ac\uc6a9\ud558\ub294 \ucf54\ub4dc\uc784"
     ]
    },
    {
     "cell_type": "code",
     "collapsed": false,
     "input": [
      "def bank_account2(initial_balance):\n",
      "    balance = [initial_balance]\n",
      "    def deposit(amount):\n",
      "        balance[0] = balance[0] + amount\n",
      "        return balance[0]\n",
      "    \n",
      "    def withdraw(amount):\n",
      "        balance[0] = balance[0] - amount\n",
      "        return balance[0]\n",
      "    return deposit, withdraw\n",
      "\n",
      "d, w = bank_account2(100)\n",
      "print d(100)\n",
      "print w(50)"
     ],
     "language": "python",
     "metadata": {},
     "outputs": [
      {
       "output_type": "stream",
       "stream": "stdout",
       "text": [
        "200\n",
        "150\n"
       ]
      }
     ],
     "prompt_number": 80
    },
    {
     "cell_type": "markdown",
     "metadata": {},
     "source": [
      "***\n",
      "## 2 \ubaa8\ub4c8\uc758 \uc815\uc758\n",
      "***\n",
      "- \ubaa8\ub4c8: \ud30c\uc774\uc36c \ud504\ub85c\uadf8\ub7a8 \ud30c\uc77c\ub85c\uc11c \ud30c\uc774\uc36c \ub370\uc774\ud130\uc640 \ud568\uc218\ub4f1\uc744 \uc815\uc758\ud558\uace0 \uc788\ub294 \ub2e8\uc704\n",
      "  - \ubaa8\ub4c8\uc744 \uc0ac\uc6a9\ud558\ub294 \uce21\uc774 \ubaa8\ub4c8\uc5d0 \uc815\uc758\ub41c \ud568\uc218\ub098 \ubcc0\uc218 \uc774\ub984\uc744 \uc0ac\uc6a9\ud558\ub3c4\ub85d \ud5c8\uc6a9\ud558\ub294 \uac83\n",
      "  - \uc11c\ub85c \uc5f0\uad00\ub41c \uc791\uc5c5\uc744 \ud558\ub294 \ucf54\ub4dc\ub4e4\uc744 \ubb36\uc5b4\uc11c \ub3c5\ub9bd\uc131\uc744 \uc720\uc9c0\ud558\ub418 \uc7ac\uc0ac\uc6a9 \uac00\ub2a5\ud558\uac8c \ub9cc\ub4dc\ub294 \ub2e8\uc704\n",
      "- \ubaa8\ub4c8\uc758 \uc885\ub958\n",
      "  - \ud45c\uc900 \ubaa8\ub4c8\n",
      "    - \ud30c\uc774\uc36c \uc5b8\uc5b4 \ud328\ud0a4\uc9c0 \uc548\uc5d0 \uae30\ubcf8\uc801\uc73c\ub85c \ud3ec\ud568\ub41c \ubaa8\ub4c8\n",
      "  - \uc0ac\uc6a9\uc790 \uc0dd\uc131 \ubaa8\ub4c8\n",
      "    - \uac1c\ubc1c\uc790\uac00 \uc9c1\uc811 \uc815\uc758\ud55c \ubaa8\ub4c8\n",
      "  - \uc368\ub4dc \ud30c\ud2f0 \ubaa8\ub4c8\n",
      "    - \ub2e4\ub978 \uc5c5\uccb4\ub098 \uac1c\uc778\uc774 \ub9cc\ub4e4\uc5b4\uc11c \uc81c\uacf5\ud558\ub294 \ubaa8\ub4c8"
     ]
    },
    {
     "cell_type": "markdown",
     "metadata": {},
     "source": [
      "### 2-1 \ubaa8\ub4c8\uc740 \uc5b4\ub514\uc5d0 \uc800\uc7a5\ub418\ub294\uac00\n",
      "- \ubaa8\ub4c8\uc774 \uc815\uc758\ub418\uace0 \uc800\uc7a5\ub418\ub294 \uacf3\uc740 \ud30c\uc77c\n",
      "  - \ud30c\uc77c\n",
      "    - \ubaa8\ub4c8 \ucf54\ub4dc\ub97c \uc800\uc7a5\ud558\ub294 \ubb3c\ub9ac\uc801\uc778 \ub2e8\uc704\n",
      "  - \ubaa8\ub4c8\n",
      "    - \ub17c\ub9ac\uc801\uc73c\ub85c \ud558\ub098\uc758 \ub2e8\uc704\ub85c \uc870\uc9c1\ub41c \ucf54\ub4dc\uc758 \ubaa8\uc784\n",
      "- \ud30c\uc774\uc36c \ubaa8\ub4c8\uc774 \uc815\uc758\ub418\ub294 \ud30c\uc77c\uc758 \ud655\uc7a5\uc790: .py"
     ]
    },
    {
     "cell_type": "markdown",
     "metadata": {},
     "source": [
      "### 2-2 \uc0ac\uc6a9\uc790 \ubaa8\ub4c8 \ub9cc\ub4e4\uae30\uc640 \ud638\ucd9c\ud558\uae30"
     ]
    },
    {
     "cell_type": "code",
     "collapsed": false,
     "input": [
      "#File: mymath.py\n",
      "mypi = 3.14\n",
      "\n",
      "def add(a, b):\n",
      "    return a + b\n",
      "\n",
      "def area(r):\n",
      "    return mypi * r * r"
     ],
     "language": "python",
     "metadata": {},
     "outputs": [],
     "prompt_number": 3
    },
    {
     "cell_type": "markdown",
     "metadata": {},
     "source": [
      "- \ubaa8\ub4c8 \uc774\ub984\uc740 \ud574\ub2f9 \ubaa8\ub4c8\uc744 \uc815\uc758\ud55c \ud30c\uc77c \uc774\ub984\uc5d0\uc11c .py\ub97c \uc81c\uc678\ud55c \uac83\n",
      "  - \ubaa8\ub4c8\uc744 \ubd88\ub7ec\uc624\ub294 \ud0a4\uc6cc\ub4dc: import\n",
      "- \ubaa8\ub4c8\uc5d0\uc11c \uc815\uc758\ud55c \uc774\ub984 \uc0ac\uc6a9\ud558\uae30"
     ]
    },
    {
     "cell_type": "code",
     "collapsed": false,
     "input": [
      "import mymath\n",
      "\n",
      "print dir(mymath)    # mymath\uc5d0 \uc815\uc758\ub41c \uc774\ub984\ub4e4 \ud655\uc778\ud558\uae30\n",
      "print mymath.mypi    # mymath \uc548\uc5d0 \uc815\uc758\ub41c mypi\ub97c \uc0ac\uc6a9\ud55c\ub2e4\n",
      "print mymath.area(5) # mymath \uc548\uc5d0 \uc815\uc758\ub41c area\ub97c \uc0ac\uc6a9\ud55c\ub2e4"
     ],
     "language": "python",
     "metadata": {},
     "outputs": [
      {
       "output_type": "stream",
       "stream": "stdout",
       "text": [
        "['__builtins__', '__doc__', '__file__', '__name__', '__package__', 'add', 'area', 'mypi']\n",
        "3.14\n",
        "78.5\n"
       ]
      }
     ],
     "prompt_number": 2
    },
    {
     "cell_type": "markdown",
     "metadata": {},
     "source": [
      "### 2-3 \ubaa8\ub4c8\uc744 \uc65c \uc0ac\uc6a9\ud558\ub294\uac00?\n",
      "- \ud568\uc218\uc640 \ubaa8\ub4c8\n",
      "  - \ud568\uc218: \ud30c\uc77c \ub0b4\uc5d0\uc11c \uc77c\ubd80 \ucf54\ub4dc\ub97c \ubb36\ub294 \uac83\n",
      "  - \ubaa8\ub4c8: \ud30c\uc77c \ub2e8\uc704\ub85c \ucf54\ub4dc\ub4e4\uc744 \ubb36\ub294 \uac83\n",
      "    - \ube44\uc2b7\ud558\uac70\ub098 \uad00\ub828\ub41c \uc77c\uc744 \ud558\ub294 \ud568\uc218\ub098 \uc0c1\uc218\uac12\ub4e4\uc744 \ubaa8\uc544\uc11c \ud558\ub098\uc758 \ud30c\uc77c\uc5d0 \uc800\uc7a5\ud558\uace0 \ucd94\ud6c4\uc5d0 \uc7ac\uc0ac\uc6a9\ud558\ub294 \ub2e8\uc704\n",
      "- \ub300\ud45c\uc801\uc778 \ud45c\uc900 \ubaa8\ub4c8 \uc608\n",
      "  - math\n",
      "  - string\n",
      "- \ubaa8\ub4c8 \uc0ac\uc6a9\uc758 \uc774\uc810\n",
      "  - \ucf54\ub4dc\uc758 \uc7ac\uc0ac\uc6a9\n",
      "  - \ud504\ub85c\uadf8\ub7a8 \uac1c\ubc1c\uc2dc\uc5d0 \uc804\uccb4 \ucf54\ub4dc\ub4e4\uc744 \uc5ec\ub7ec \ubaa8\ub4c8 \ub2e8\uc704\ub85c \ubd84\ub9ac\ud558\uc5ec \uc124\uacc4\ud568\uc73c\ub85c\uc368 \uc791\uc5c5\uc758 \ud6a8\uc728\uc744 \ub192\uc77c \uc218 \uc788\uc74c\n",
      "  - \ubcc4\ub3c4\uc758 \uc774\ub984 \uacf5\uac04(\uc2a4\ucf54\ud504)\ub97c \uc81c\uacf5\ud568\uc73c\ub85c\uc368 \ub3d9\uc77c\ud55c \uc774\ub984\uc758 \uc5ec\ub7ec \ud568\uc218\ub098 \ubcc0\uc218\ub4e4\uc774 \uac01 \ubaa8\ub4c8\ub9c8\ub2e4 \ub3c5\ub9bd\uc801\uc73c\ub85c \uc815\uc758\ub420 \uc218 \uc788\ub2e4.\n",
      "- \ubcc4\ub3c4 \ud30c\uc77c \ub0b4\uc5d0 \ud30c\uc774\uc36c \ucf54\ub4dc\ub97c \uc800\uc7a5\ud560 \ub54c (\uc989, \ubaa8\ub4c8\uc744 \ucf54\ub529\ud560 \ub54c) \ud55c\uae00 \ucc98\ub9ac\n",
      "  - \ud30c\uc77c\uc758 \ub9e8 \uc704\uc5d0 \ub2e4\uc74c \ucf54\ub4dc\ub97c \ub123\uc5b4 \uc900\ub2e4.\n",
      "    - \\# -\\*- coding:utf-8 -*-\n",
      "- \ubaa8\ub4c8\uc740 \ud558\ub098\uc758 \ub3c5\ub9bd\ub41c \uc774\ub984 \uacf5\uac04\uc744 \ud655\ubcf4\ud558\uba74\uc11c \uc815\uc758\ub41c\ub2e4."
     ]
    },
    {
     "cell_type": "markdown",
     "metadata": {},
     "source": [
      "### 2-4 \uc790\uaca9 \uc774\ub984, \ubb34\uc790\uaca9 \uc774\ub984\n",
      "- \uc790\uaca9 \uc774\ub984 (Qualified Name)\n",
      "  - X.Y.Z \uacfc \uac19\uc774 \ucd5c\uc885\uc801\uc778 \uc774\ub984 Z \uc55e\uc5d0 \uc774\ub984 \uacf5\uac04\uc744 \uba85\uc2dc\ud574\uc8fc\ub294 \uc774\ub984\n",
      "- \ubb34\uc790\uaca9 \uc774\ub984 (Unqualified Name)\n",
      "  - Z\uc640 \uac19\uc774 \uc774\ub984 \uacf5\uac04 \uc5c6\uc774 \uc0ac\uc6a9\ub418\ub294 \uc774\ub984\n",
      "- \uc790\uaca9 \uc774\ub984\uc758 \ucd5c\ucd08 \uc774\ub984 \uacf5\uac04(\uc704 \uc608\uc5d0\uc11c X) \uc774\ub098 \ubb34\uc790\uaca9 \uc774\ub984(\uc704 \uc608\uc5d0\uc11c Z) \ub4f1\uc744 \ucc3e\ub294 \uc21c\uc11c \uaddc\uce59\n",
      "  - LGB (Local -> Global -> Builtin)"
     ]
    },
    {
     "cell_type": "markdown",
     "metadata": {},
     "source": [
      "### 2-5 \uc804\uc5ed\uacf5\uac04\uacfc \uc9c0\uc5ed\uacf5\uac04 \uc54c\uc544\ub0b4\uae30-globals(), locals()\n",
      "- globals(): \uc804\uc5ed \uc2ec\ubcfc \ud14c\uc774\ube14\uc744 \ud3ec\ud568\ud55c \uc0ac\uc804 \ubc18\ud658 \n",
      "- locals(): \uc9c0\uc5ed \uc2ec\ubcfc \ud14c\uc774\ube14\uc744 \ud3ec\ud568\ud55c \uc0ac\uc804 \ubc18\ud658\n",
      "- \ucd5c\uc0c1\uc704 \ubaa8\ub4c8 \uc218\uc900\uc5d0\uc11c \ub450 \ud568\uc218\ub294 \ub3d9\uc77c\ud55c \uacb0\uacfc\ub97c \ubc18\ud658\ud55c\ub2e4."
     ]
    },
    {
     "cell_type": "code",
     "collapsed": false,
     "input": [
      "x = 10\n",
      "print globals()"
     ],
     "language": "python",
     "metadata": {},
     "outputs": [],
     "prompt_number": 90
    },
    {
     "cell_type": "code",
     "collapsed": false,
     "input": [
      "print locals() "
     ],
     "language": "python",
     "metadata": {},
     "outputs": [],
     "prompt_number": 91
    },
    {
     "cell_type": "code",
     "collapsed": false,
     "input": [
      "# -*- coding:utf-8 -*-\n",
      "a = 1\n",
      "b = 2\n",
      "\n",
      "def f():\n",
      "    localx = 10\n",
      "    localy = 20\n",
      "    print '\ud568\uc218 \ub0b4\uc5d0\uc11c \uc804\uc5ed \ubcc0\uc218:', globals()\n",
      "    print \n",
      "    print '\ud568\uc218 \ub0b4\uc5d0\uc11c \uc9c0\uc5ed \ubcc0\uc218:', locals()\n",
      "    \n",
      "f()\n",
      "print\n",
      "print '\ubaa8\ub4c8 \uc218\uc900\uc5d0\uc11c\uc758 \uc804\uc5ed \ubcc0\uc218:', globals()\n",
      "print\n",
      "print '\ubaa8\ub4c8 \uc218\uc900\uc5d0\uc11c\uc758 \uc9c0\uc5ed \ubcc0\uc218:', locals()"
     ],
     "language": "python",
     "metadata": {},
     "outputs": []
    },
    {
     "cell_type": "markdown",
     "metadata": {},
     "source": [
      "### 2-6 \uc804\uc5ed\uacf5\uac04 \ubcc0\uacbd\ud558\uae30-globals()"
     ]
    },
    {
     "cell_type": "code",
     "collapsed": false,
     "input": [
      "a = 1\n",
      "b = 2\n",
      "\n",
      "gns = globals()\n",
      "print gns \n",
      "print\n",
      "gns['c'] = 3 \n",
      "print gns"
     ],
     "language": "python",
     "metadata": {},
     "outputs": []
    },
    {
     "cell_type": "markdown",
     "metadata": {},
     "source": [
      "### 2-7 \ubaa8\ub4c8\uc774 \uc9c0\ub2cc \uc774\ub984\ub4e4 \uc54c\uc544\ubcf4\uae30\n",
      "- dir(\ubaa8\ub4c8): \ubaa8\ub4c8\uc774 \uc9c0\ub2c8\uace0 \uc788\ub294 \ubaa8\ub4e0 \uc774\ub984\ub4e4\uc744 \ub9ac\uc2a4\ud2b8\ub85c \ubc18\ud658  "
     ]
    },
    {
     "cell_type": "code",
     "collapsed": false,
     "input": [
      "import string\n",
      "print dir(string)"
     ],
     "language": "python",
     "metadata": {},
     "outputs": [
      {
       "output_type": "stream",
       "stream": "stdout",
       "text": [
        "['Formatter', 'Template', '_TemplateMetaclass', '__builtins__', '__doc__', '__file__', '__name__', '__package__', '_float', '_idmap', '_idmapL', '_int', '_long', '_multimap', '_re', 'ascii_letters', 'ascii_lowercase', 'ascii_uppercase', 'atof', 'atof_error', 'atoi', 'atoi_error', 'atol', 'atol_error', 'capitalize', 'capwords', 'center', 'count', 'digits', 'expandtabs', 'find', 'hexdigits', 'index', 'index_error', 'join', 'joinfields', 'letters', 'ljust', 'lower', 'lowercase', 'lstrip', 'maketrans', 'octdigits', 'printable', 'punctuation', 'replace', 'rfind', 'rindex', 'rjust', 'rsplit', 'rstrip', 'split', 'splitfields', 'strip', 'swapcase', 'translate', 'upper', 'uppercase', 'whitespace', 'zfill']\n"
       ]
      }
     ],
     "prompt_number": 14
    },
    {
     "cell_type": "code",
     "collapsed": false,
     "input": [
      "print string.__dict__        # \ucd9c\ub825\uc740 \ub108\ubb34 \uae38\uc5b4\uc11c \uc0dd\ub7b5\n",
      "print string.__dict__.keys() # \uc774\ub984 \ud0a4:\uc18d\uc131 \uc0ac\uc804\uc5d0\uc11c \ud0a4\ub9cc \ubf51\uc544\ub0bc \uc218 \uc788\ub2e4. \uc774\uac83\uc740 dir(string)\uacfc \ub3d9\uc77c"
     ],
     "language": "python",
     "metadata": {},
     "outputs": [
      {
       "output_type": "stream",
       "stream": "stdout",
       "text": [
        "['ascii_lowercase', 'upper', '_re', 'letters', 'atol_error', 'lstrip', 'uppercase', 'ascii_letters', 'find', 'atof', 'replace', 'capwords', 'index_error', 'expandtabs', 'Template', 'strip', 'ascii_uppercase', 'octdigits', 'index', 'ljust', 'whitespace', '_int', 'rindex', '_float', 'punctuation', '__package__', 'printable', 'splitfields', 'split', 'rstrip', 'translate', '__doc__', '_multimap', 'count', 'joinfields', 'rjust', '__builtins__', '__file__', 'lower', 'swapcase', 'atof_error', 'atoi', 'hexdigits', 'Formatter', 'atol', '__name__', 'rsplit', '_idmapL', 'digits', 'lowercase', 'join', 'center', '_long', 'rfind', 'atoi_error', 'maketrans', 'capitalize', '_TemplateMetaclass', 'zfill', '_idmap']\n"
       ]
      }
     ],
     "prompt_number": 24
    },
    {
     "cell_type": "code",
     "collapsed": false,
     "input": [
      "import string\n",
      "for name in dir(string):\n",
      "    if name not in string.__dict__.keys():\n",
      "        print name"
     ],
     "language": "python",
     "metadata": {},
     "outputs": [],
     "prompt_number": 1
    },
    {
     "cell_type": "markdown",
     "metadata": {},
     "source": [
      "### 2-8 \uc774\ub984 \uacf5\uac04\uc744 \uc81c\uacf5\ud558\ub294 \ub2e4\ub978 \uc608\ub4e4\n",
      "- \ub3c5\ub9bd\ub41c \uc774\ub984 \uacf5\uac04(\uc2a4\ucf54\ud504)\uc744 \uc81c\uacf5\ud558\ub294 \uac83\ub4e4\n",
      "  - \ubaa8\ub4c8\n",
      "  - \ud074\ub798\uc2a4\n",
      "  - \uac1d\uccb4\n",
      "  - \ud568\uc218"
     ]
    },
    {
     "cell_type": "markdown",
     "metadata": {},
     "source": [
      "- string \ubaa8\ub4c8 \uc774\ub984 \uacf5\uac04\uc5d0 \ubcc0\uc218 a\ub97c \uc0dd\uc131\ud55c\ub2e4.\n",
      "  - \ud45c\uc900 \ubaa8\ub4c8\uc5d0 \uc0ac\uc6a9\uc790\uac00 \uc815\uc758\ud558\ub294 \uc774\ub984\uc744 \uc0dd\uc131\ud558\ub294 \uac83\uc740 \ube44\ucd94\ucc9c\n",
      "  - \ub2e8\uce58 \ubaa8\ub4c8 \uc790\uccb4\uac00 \ub3c5\ub9bd\uc801\uc778 \uc774\ub984 \uacf5\uac04\uc744 \uc81c\uacf5\ud55c\ub2e4\ub294 \uac83\uc744 \uc54c\ub824\uc90c"
     ]
    },
    {
     "cell_type": "code",
     "collapsed": false,
     "input": [
      "import string\n",
      "string.a = 1\n",
      "print string.a"
     ],
     "language": "python",
     "metadata": {},
     "outputs": [
      {
       "output_type": "stream",
       "stream": "stdout",
       "text": [
        "1\n"
       ]
      }
     ],
     "prompt_number": 2
    },
    {
     "cell_type": "markdown",
     "metadata": {},
     "source": [
      "- \ud074\ub798\uc2a4\ub3c4 \ub3c5\ub9bd\uc801\uc778 \uc774\ub984 \uacf5\uac04"
     ]
    },
    {
     "cell_type": "code",
     "collapsed": false,
     "input": [
      "class C:            # \ud074\ub798\uc2a4\ub3c4 \ub3c5\ub9bd\uc801\uc778 \uc774\ub984 \uacf5\uac04\n",
      "    a = 2           # \ud074\ub798\uc2a4 \uc774\ub984 \uacf5\uac04 \ub0b4\uc5d0 \ubcc0\uc218 \uc120\uc5b8\n",
      "    pass            # \ud074\ub798\uc2a4 \uc815\uc758\n",
      "\n",
      "c = C()             # \ud074\ub798\uc2a4 \uc778\uc2a4\ud134\uc2a4 \uac1d\uccb4 \uc0dd\uc131\n",
      "c.a = 1             # \ud074\ub798\uc2a4\uc5d0\uc11c \uc0dd\uc131\ub41c \uc778\uc2a4\ud134\uc2a4 \uac1d\uccb4\ub3c4 \ubcc4\ub3c4\uc758 \uc774\ub984 \uacf5\uac04\n",
      "print c.a\n",
      "print c.__class__.a\n",
      "print C.a"
     ],
     "language": "python",
     "metadata": {},
     "outputs": [
      {
       "output_type": "stream",
       "stream": "stdout",
       "text": [
        "1\n",
        "2\n",
        "2\n"
       ]
      }
     ],
     "prompt_number": 5
    },
    {
     "cell_type": "markdown",
     "metadata": {},
     "source": [
      "- \ud568\uc218\ub3c4 \ub3c5\ub9bd\uc801\uc778 \uc774\ub984 \uacf5\uac04\n",
      "  - \ub2e4\ub9cc \ud568\uc218 \ub0b4\uc5d0\uc11c \uc120\uc5b8\ub41c \ub85c\uceec \ubcc0\uc218\ub294 \ud568\uc218 \uc678\ubd80\uc5d0\uc11c \uc811\uadfc\ud560 \uc218 \uc5c6\ub2e4."
     ]
    },
    {
     "cell_type": "code",
     "collapsed": false,
     "input": [
      "x = 10    # \ud604\uc7ac \ubaa8\ub4c8 \ub0b4\ubd80\uc5d0 \uc815\uc758\ub418\ub294 \uc774\ub984\n",
      "def f():\n",
      "    a = 1\n",
      "    b = 2 # \ud604\uc7ac \ubaa8\ub4c8\uc5d0 \uc815\uc758\ub418\ub294 \ud568\uc218 f \ub0b4\uc5d0 \uc774\ub984 a,b\ub97c \uc815\uc758\ud558\uace0\uc788\ub2e4. \ud568\uc218\ub3c4 \ub3c5\ub9bd\uc801\uc778 \uc774\ub984 \uacf5\uac04\n",
      "f.c = 1\n",
      "print f.c\n",
      "print\n",
      "print f.a"
     ],
     "language": "python",
     "metadata": {},
     "outputs": [
      {
       "output_type": "stream",
       "stream": "stdout",
       "text": [
        "1\n",
        "\n"
       ]
      },
      {
       "ename": "AttributeError",
       "evalue": "'function' object has no attribute 'a'",
       "output_type": "pyerr",
       "traceback": [
        "\u001b[0;31m---------------------------------------------------------------------------\u001b[0m\n\u001b[0;31mAttributeError\u001b[0m                            Traceback (most recent call last)",
        "\u001b[0;32m<ipython-input-6-1110995cdbd5>\u001b[0m in \u001b[0;36m<module>\u001b[0;34m()\u001b[0m\n\u001b[1;32m      6\u001b[0m \u001b[0;32mprint\u001b[0m \u001b[0mf\u001b[0m\u001b[0;34m.\u001b[0m\u001b[0mc\u001b[0m\u001b[0;34m\u001b[0m\u001b[0m\n\u001b[1;32m      7\u001b[0m \u001b[0;32mprint\u001b[0m\u001b[0;34m\u001b[0m\u001b[0m\n\u001b[0;32m----> 8\u001b[0;31m \u001b[0;32mprint\u001b[0m \u001b[0mf\u001b[0m\u001b[0;34m.\u001b[0m\u001b[0ma\u001b[0m\u001b[0;34m\u001b[0m\u001b[0m\n\u001b[0m",
        "\u001b[0;31mAttributeError\u001b[0m: 'function' object has no attribute 'a'"
       ]
      }
     ],
     "prompt_number": 6
    },
    {
     "cell_type": "markdown",
     "metadata": {},
     "source": [
      "***\n",
      "## 3 \ubaa8\ub4c8 \uac80\uc0c9 \uacbd\ub85c\n",
      "***"
     ]
    },
    {
     "cell_type": "markdown",
     "metadata": {},
     "source": [
      "### 3-1 PYTHONPATH \ud658\uacbd \ubcc0\uc218 \uc124\uc815\ud558\uae30\n",
      "- \ud30c\uc774\uc36c\uc774 \ubaa8\ub4c8\uc744 \ucc3e\ub294 \uc21c\uc11c\n",
      "  - 1) \uc774\ubbf8 \uba54\ubaa8\ub9ac\uc5d0 \ub85c\ub529\ub418\uc5b4\uc9c4 \uac83\n",
      "  - 2) \ud604\uc7ac \ub514\ub809\ud1a0\ub9ac (ipython\uc5d0\uc11c pwd \uba85\ub839\uc73c\ub85c \ud655\uc778 \uac00\ub2a5)\n",
      "  - 3) PYTHONPATH \ud658\uacbd \ubcc0\uc218\uc5d0 \uae30\uc220\ub41c \ub514\ub809\ud1a0\ub9ac \ubaa9\ub85d\uc744 \ucc28\ub840\ub85c \ud0d0\uc0c9\n",
      "  - 4) \ud45c\uc900 \ub77c\uc774\ube0c\ub7ec\ub9ac \ub514\ub809\ud1a0\ub9ac\ub4e4\n",
      "    - sys \ubaa8\ub4c8 \uc784\ud3ec\ud2b8 \ud6c4 sys.path \ub85c \ud655\uc778 \uac00\ub2a5\n",
      "    - sys.path.append(), sys.path.remove()\ub85c \ucd94\uac00, \uc0ad\uc81c \uac00\ub2a5\n",
      "- PYTHONPATH \ud658\uacbd \ubcc0\uc218 \uc124\uc815 \ubc29\ubc95\n",
      "  - \uc708\ub3c4\uc6b0\uc988\n",
      "    - \uc81c\uc5b4\ud310\\\uc2dc\uc2a4\ud15c \ubc0f \ubcf4\uc548\\\uc2dc\uc2a4\ud15c\\\uace0\uae09 \uc2dc\uc2a4\ud15c \uc124\uc815\\\ud658\uacbd \ubcc0\uc218\n",
      "      - \uc0c8\ub85c \ub9cc\ub4e4\uae30: \ubcc0\uc218 \uc774\ub984 - PYTHONPATH, \ubcc0\uc218 \uac12 - C:\\Users\\yhhan\\mypythonlib\n",
      "      - python \uc0c8\ub85c \uc2dc\uc791\ud558\uae30 (cmd\ucc3d \uc0c8\ub85c \uc2dc\uc791\ud55c \ud6c4)\n",
      "  - MAC\uc774\ub098 \ub9ac\ub205\uc2a4\n",
      "    - ~/.bash_profile \ud639\uc740 ~/.profile \ud30c\uc77c\uc5d0 \ub2e4\uc74c \ub77c\uc778 \ucd94\uac00\n",
      "      - export PYTHONPATH=/Users/yhhan/mypythonlib\n",
      "      - \ud130\ubbf8\ub110 \ucc3d\uc5d0\uc11c \ub2e4\uc74c \uba85\ub839\uc5b4 \uc218\ud589 \n",
      "        - source ~/.bash_profile\n",
      "  - \uc774\ud074\ub9bd\uc2a4\uc5d0\uc11c PYTHONPATH \uc124\uc815"
     ]
    },
    {
     "cell_type": "markdown",
     "metadata": {},
     "source": [
      "![inheritance](images/pythonpath_eclipse.png)"
     ]
    },
    {
     "cell_type": "markdown",
     "metadata": {},
     "source": [
      "- \ucf54\ub4dc \ub0b4\uc5d0\uc11c \ubaa8\ub4c8 \uac80\uc0c9 \uacbd\ub85c \ud655\uc778\ud558\uae30"
     ]
    },
    {
     "cell_type": "code",
     "collapsed": false,
     "input": [
      "import sys\n",
      "print sys.path"
     ],
     "language": "python",
     "metadata": {},
     "outputs": [
      {
       "output_type": "stream",
       "stream": "stdout",
       "text": [
        "['', '/Applications/Canopy.app/appdata/canopy-1.4.1.1975.macosx-x86_64/Canopy.app/Contents/lib/python27.zip', '/Applications/Canopy.app/appdata/canopy-1.4.1.1975.macosx-x86_64/Canopy.app/Contents/lib/python2.7', '/Applications/Canopy.app/appdata/canopy-1.4.1.1975.macosx-x86_64/Canopy.app/Contents/lib/python2.7/plat-darwin', '/Applications/Canopy.app/appdata/canopy-1.4.1.1975.macosx-x86_64/Canopy.app/Contents/lib/python2.7/plat-mac', '/Applications/Canopy.app/appdata/canopy-1.4.1.1975.macosx-x86_64/Canopy.app/Contents/lib/python2.7/plat-mac/lib-scriptpackages', '/Applications/Canopy.app/appdata/canopy-1.4.1.1975.macosx-x86_64/Canopy.app/Contents/lib/python2.7/lib-tk', '/Applications/Canopy.app/appdata/canopy-1.4.1.1975.macosx-x86_64/Canopy.app/Contents/lib/python2.7/lib-old', '/Applications/Canopy.app/appdata/canopy-1.4.1.1975.macosx-x86_64/Canopy.app/Contents/lib/python2.7/lib-dynload', '/Users/yhhan/Library/Enthought/Canopy_64bit/User/lib/python2.7/site-packages', '/Users/yhhan/Library/Enthought/Canopy_64bit/User/lib/python2.7/site-packages/PIL', '/Applications/Canopy.app/appdata/canopy-1.4.1.1975.macosx-x86_64/Canopy.app/Contents/lib/python2.7/site-packages', '/Users/yhhan/Library/Enthought/Canopy_64bit/User/lib/python2.7/site-packages/IPython/extensions', '~/mypythonlib']\n"
       ]
      }
     ],
     "prompt_number": 14
    },
    {
     "cell_type": "markdown",
     "metadata": {},
     "source": [
      "### 3-2 \ubaa8\ub4c8\uc758 \uac80\uc0c9 \uacbd\ub85c \ub3d9\uc801\uc73c\ub85c \ubc14\uafb8\uae30"
     ]
    },
    {
     "cell_type": "code",
     "collapsed": false,
     "input": [
      "import sys\n",
      "\n",
      "sys.path.append('~/mypythonlib')\n",
      "print sys.path"
     ],
     "language": "python",
     "metadata": {},
     "outputs": [
      {
       "output_type": "stream",
       "stream": "stdout",
       "text": [
        "['', '/Applications/Canopy.app/appdata/canopy-1.4.1.1975.macosx-x86_64/Canopy.app/Contents/lib/python27.zip', '/Applications/Canopy.app/appdata/canopy-1.4.1.1975.macosx-x86_64/Canopy.app/Contents/lib/python2.7', '/Applications/Canopy.app/appdata/canopy-1.4.1.1975.macosx-x86_64/Canopy.app/Contents/lib/python2.7/plat-darwin', '/Applications/Canopy.app/appdata/canopy-1.4.1.1975.macosx-x86_64/Canopy.app/Contents/lib/python2.7/plat-mac', '/Applications/Canopy.app/appdata/canopy-1.4.1.1975.macosx-x86_64/Canopy.app/Contents/lib/python2.7/plat-mac/lib-scriptpackages', '/Applications/Canopy.app/appdata/canopy-1.4.1.1975.macosx-x86_64/Canopy.app/Contents/lib/python2.7/lib-tk', '/Applications/Canopy.app/appdata/canopy-1.4.1.1975.macosx-x86_64/Canopy.app/Contents/lib/python2.7/lib-old', '/Applications/Canopy.app/appdata/canopy-1.4.1.1975.macosx-x86_64/Canopy.app/Contents/lib/python2.7/lib-dynload', '/Users/yhhan/Library/Enthought/Canopy_64bit/User/lib/python2.7/site-packages', '/Users/yhhan/Library/Enthought/Canopy_64bit/User/lib/python2.7/site-packages/PIL', '/Applications/Canopy.app/appdata/canopy-1.4.1.1975.macosx-x86_64/Canopy.app/Contents/lib/python2.7/site-packages', '/Users/yhhan/Library/Enthought/Canopy_64bit/User/lib/python2.7/site-packages/IPython/extensions', '~/mypythonlib']\n"
       ]
      }
     ],
     "prompt_number": 13
    },
    {
     "cell_type": "markdown",
     "metadata": {},
     "source": [
      "<p style='text-align: right;'>\ucc38\uace0 \ubb38\ud5cc: \ud30c\uc774\uc36c(\uc5f4\ud608\uac15\uc758)(\uac1c\uc815\ud310 VER.2), \uc774\uac15\uc131, FreeLec, 2005\ub144 8\uc6d4 29\uc77c</p>"
     ]
    }
   ],
   "metadata": {}
  }
 ]
}