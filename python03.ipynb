{
 "metadata": {
  "name": "",
  "signature": "sha256:d2b18d2f5552e66fe8f48d6e54a9f87d03ee81aa1915bdaf92fe23d868aca4fc"
 },
 "nbformat": 3,
 "nbformat_minor": 0,
 "worksheets": [
  {
   "cells": [
    {
     "cell_type": "markdown",
     "metadata": {},
     "source": [
      "***\n",
      "***\n",
      "# 3. \ub0b4\uc7a5 \uc790\ub8cc\ud615\uc758 \uae30\ucd08\n",
      "***\n",
      "***"
     ]
    },
    {
     "cell_type": "markdown",
     "metadata": {},
     "source": [
      "***\n",
      "## 1 \uc218\uce58 \uc790\ub8cc\ud615\n",
      "***"
     ]
    },
    {
     "cell_type": "markdown",
     "metadata": {},
     "source": [
      "### 1-1 \uc815\uc218\ud615 \uc0c1\uc218"
     ]
    },
    {
     "cell_type": "code",
     "collapsed": false,
     "input": [
      "a = 23      # 10\uc9c4 \uc815\uc218\n",
      "b = 023     # 8\uc9c4 \uc815\uc218\n",
      "c = 0x23    # 16\uc9c4 \uc815\uc218\n",
      "print type(a), type(b), type(c)\n",
      "print a, b, c"
     ],
     "language": "python",
     "metadata": {},
     "outputs": [
      {
       "output_type": "stream",
       "stream": "stdout",
       "text": [
        "<type 'int'> <type 'int'> <type 'int'>\n",
        "23 19 35\n"
       ]
      }
     ],
     "prompt_number": 1
    },
    {
     "cell_type": "code",
     "collapsed": false,
     "input": [
      "import sys\n",
      "print sys.maxint  # \ucd5c\ub300 \uc815\uc218 \uac12 \ud655\uc778"
     ],
     "language": "python",
     "metadata": {},
     "outputs": [
      {
       "output_type": "stream",
       "stream": "stdout",
       "text": [
        "9223372036854775807\n"
       ]
      }
     ],
     "prompt_number": 1
    },
    {
     "cell_type": "markdown",
     "metadata": {},
     "source": [
      "### 1-2 \uc2e4\uc218\ud615 \uc0c1\uc218"
     ]
    },
    {
     "cell_type": "code",
     "collapsed": false,
     "input": [
      "a = 1.2\n",
      "b = 3.5e3\n",
      "c = -0.2e-4\n",
      "print type(a), type(b), type(c)\n",
      "print a, b, c"
     ],
     "language": "python",
     "metadata": {},
     "outputs": [
      {
       "output_type": "stream",
       "stream": "stdout",
       "text": [
        "<type 'float'> <type 'float'> <type 'float'>\n",
        "1.2 3500.0 -2e-05\n"
       ]
      }
     ],
     "prompt_number": 2
    },
    {
     "cell_type": "markdown",
     "metadata": {},
     "source": [
      "### 1-3 \ub871\ud615 \uc0c1\uc218\n",
      "- \uba54\ubaa8\ub9ac\uac00 \ud5c8\uc6a9\ud558\ub294 \ud55c \uc720\ud6a8\uc790\ub9ac\uc218\ub294 \ubb34\ud55c\ub300"
     ]
    },
    {
     "cell_type": "code",
     "collapsed": false,
     "input": [
      "h1 = 123456789012345678901234567890L    # \ub9c8\uc9c0\ub9c9\uc5d0 L\uc744 \ubd99\uc5ec\uc11c \uba85\uc2dc\uc801\uc73c\ub85c long \ud615\uc774\ub77c\uace0 \uc54c\ub824\ub3c4 \ub418\uace0\n",
      "print type(h1)\n",
      "print h1 * h1\n",
      "print\n",
      "\n",
      "h2 = 123456789012345678901234567890     # L\uc744 \ubd99\uc774\uc9c0 \uc54a\uc544\ub3c4 int\ud615\uc774 \ub2f4\uc744 \uc218 \uc788\ub294 \uc218\uce58\ub97c \ucd08\uacfc\ud558\uba74 \uc790\ub3d9\uc73c\ub85c long\ud615\uc774 \ub41c\ub2e4.    \n",
      "print type(h2)\n",
      "print h2 * h2\n",
      "print\n",
      "\n",
      "h3 = 123L\n",
      "print type(h3)\n",
      "print\n",
      "\n",
      "h4 = 123\n",
      "print type(h4)"
     ],
     "language": "python",
     "metadata": {},
     "outputs": [
      {
       "output_type": "stream",
       "stream": "stdout",
       "text": [
        "<type 'long'>\n",
        "15241578753238836750495351562536198787501905199875019052100\n",
        "\n",
        "<type 'long'>\n",
        "15241578753238836750495351562536198787501905199875019052100\n",
        "\n",
        "<type 'long'>\n",
        "\n",
        "<type 'int'>\n"
       ]
      }
     ],
     "prompt_number": 2
    },
    {
     "cell_type": "code",
     "collapsed": false,
     "input": [
      "123456789012345678890  # \uc790\ub3d9 long\ud615 \ubcc0\ud658"
     ],
     "language": "python",
     "metadata": {},
     "outputs": [
      {
       "metadata": {},
       "output_type": "pyout",
       "prompt_number": 15,
       "text": [
        "123456789012345678890L"
       ]
      }
     ],
     "prompt_number": 15
    },
    {
     "cell_type": "markdown",
     "metadata": {},
     "source": [
      "### 1-4 \ubcf5\uc18c\uc218\ud615 \uc0c1\uc218"
     ]
    },
    {
     "cell_type": "code",
     "collapsed": false,
     "input": [
      "a = 10 + 20j\n",
      "print a\n",
      "\n",
      "b = 10 + 5j\n",
      "print a + b"
     ],
     "language": "python",
     "metadata": {},
     "outputs": [
      {
       "output_type": "stream",
       "stream": "stdout",
       "text": [
        "(10+20j)\n",
        "(20+25j)\n"
       ]
      }
     ],
     "prompt_number": 3
    },
    {
     "cell_type": "markdown",
     "metadata": {},
     "source": [
      "### 1-5 \uc218\uce58 \uc790\ub8cc\ud615\uc758 \uce58\ud658\n",
      "- \uc544\ub798 \uc608\uc5d0\uc11c\ub294 x\uac00 \uc9c0\ub2c8\uace0 \uc788\ub294 1\uc758 \uac12\uc774 \ubcc0\uacbd\ub418\ub294 \uac83\uc774 \uc544\ub2c8\ub77c \uc0c8\ub85c\uc6b4 \uac1d\uccb4 2\ub85c \ub808\ud37c\ub7f0\uc2a4\ub97c \ubcc0\uacbd\ud558\ub294 \uac83\uc784"
     ]
    },
    {
     "cell_type": "code",
     "collapsed": false,
     "input": [
      "x = 1\n",
      "x = 2"
     ],
     "language": "python",
     "metadata": {},
     "outputs": [],
     "prompt_number": 18
    },
    {
     "cell_type": "markdown",
     "metadata": {},
     "source": [
      "![image1](images/referenceChangeNumerical.png)"
     ]
    },
    {
     "cell_type": "markdown",
     "metadata": {},
     "source": [
      "### 1-6 \uc218\uce58 \uc5f0\uc0b0\uacfc \uad00\ub828\ub41c \ub0b4\uc7a5 \ud568\uc218"
     ]
    },
    {
     "cell_type": "code",
     "collapsed": false,
     "input": [
      "print abs(-3)\n",
      "print int(3.141592)\n",
      "print int(-3.1415)\n",
      "print long(3)\n",
      "print float(5)\n",
      "print complex(3.4, 5)\n",
      "print complex(6)"
     ],
     "language": "python",
     "metadata": {},
     "outputs": [
      {
       "output_type": "stream",
       "stream": "stdout",
       "text": [
        "3\n",
        "3\n",
        "-3\n",
        "3\n",
        "5.0\n",
        "(3.4+5j)\n",
        "(6+0j)\n"
       ]
      }
     ],
     "prompt_number": 105
    },
    {
     "cell_type": "code",
     "collapsed": false,
     "input": [
      "print divmod(5, 2)\n",
      "print\n",
      "print pow(2, 3)\n",
      "print pow(2.3, 3.5)"
     ],
     "language": "python",
     "metadata": {},
     "outputs": [
      {
       "output_type": "stream",
       "stream": "stdout",
       "text": [
        "(2, 1)\n",
        "\n",
        "8\n",
        "18.4521691056\n"
       ]
      }
     ],
     "prompt_number": 1
    },
    {
     "cell_type": "markdown",
     "metadata": {},
     "source": [
      "### 1-7 math \ubaa8\ub4c8\uc758 \uc218\uce58 \uc5f0\uc0b0 \ud568\uc218"
     ]
    },
    {
     "cell_type": "code",
     "collapsed": false,
     "input": [
      "import math\n",
      "\n",
      "print math.pi\n",
      "print math.e\n",
      "print math.sin(1.0) # 1.0 \ub77c\ub514\uc548\uc5d0 \ub300\ud55c \uc0ac\uc778 \uac12\n",
      "print math.sqrt(2) # \uc81c\uacf1\uadfc"
     ],
     "language": "python",
     "metadata": {},
     "outputs": [
      {
       "output_type": "stream",
       "stream": "stdout",
       "text": [
        "3.14159265359\n",
        "2.71828182846\n",
        "0.841470984808\n",
        "1.41421356237\n"
       ]
      }
     ],
     "prompt_number": 109
    },
    {
     "cell_type": "code",
     "collapsed": false,
     "input": [
      "r = 5.0 # \ubc18\uc9c0\ub984\n",
      "a = math.pi * r * r # \uba74\uc801\n",
      "\n",
      "degree = 60.0\n",
      "rad = math.pi * degree / 180.0 # \uac01\ub3c4\ub97c \ub77c\ub514\uc548\uc73c\ub85c \ubcc0\ud658\n",
      "print math.sin(rad), math.cos(rad), math.tan(rad) #sin, cos, tan"
     ],
     "language": "python",
     "metadata": {},
     "outputs": [
      {
       "output_type": "stream",
       "stream": "stdout",
       "text": [
        "0.866025403784 0.5 1.73205080757\n"
       ]
      }
     ],
     "prompt_number": 111
    },
    {
     "cell_type": "markdown",
     "metadata": {},
     "source": [
      "***\n",
      "## 2 \ubb38\uc790\uc5f4\n",
      "***"
     ]
    },
    {
     "cell_type": "markdown",
     "metadata": {},
     "source": [
      "### 2-1 \ubb38\uc790\uc5f4 \ud615\uc2dd"
     ]
    },
    {
     "cell_type": "markdown",
     "metadata": {},
     "source": [
      "- \ud55c \uc904 \ubb38\uc790\uc5f4 \ud615\uc2dd\n",
      "  - \ub2e8\uc77c \ub530\uc634\ud45c\n",
      "  - \uc774\uc911 \ub530\uc634\ud45c"
     ]
    },
    {
     "cell_type": "code",
     "collapsed": false,
     "input": [
      "print 'Hello World!'\n",
      "\n",
      "print \"Hello World!\""
     ],
     "language": "python",
     "metadata": {},
     "outputs": [
      {
       "output_type": "stream",
       "stream": "stdout",
       "text": [
        "Hello World!\n",
        "Hello World!\n"
       ]
      }
     ],
     "prompt_number": 81
    },
    {
     "cell_type": "markdown",
     "metadata": {},
     "source": [
      "- \uc5ec\ub7ec \uc904 \ubb38\uc790\uc5f4 \ud615\uc2dd\n",
      "  - \uc5f0\uc18d\ub41c \ub2e8\uc77c \ub530\uc634\ud45c \uc138 \uac1c\n",
      "  - \uc5f0\uc18d\ub41c \uc774\uc911 \ub530\uc634\ud45c \uc138 \uac1c"
     ]
    },
    {
     "cell_type": "code",
     "collapsed": false,
     "input": [
      "multiline = '''\n",
      "To be, or not to be\n",
      "that is the question\n",
      "'''\n",
      "print multiline\n",
      "\n",
      "multiline2 = \"\"\"\n",
      "To be, or not to be\n",
      "that is the question\n",
      "\"\"\"\n",
      "print multiline2"
     ],
     "language": "python",
     "metadata": {},
     "outputs": [
      {
       "output_type": "stream",
       "stream": "stdout",
       "text": [
        "\n",
        "To be, or not to be\n",
        "that is the question\n",
        "\n",
        "\n",
        "To be, or not to be\n",
        "that is the question\n",
        "\n"
       ]
      }
     ],
     "prompt_number": 1
    },
    {
     "cell_type": "markdown",
     "metadata": {},
     "source": [
      "### 2-2 \uc778\ub371\uc2f1(Indexing)\uacfc \uc2ac\ub77c\uc774\uc2f1(Slicing)"
     ]
    },
    {
     "cell_type": "markdown",
     "metadata": {},
     "source": [
      "- Indexing"
     ]
    },
    {
     "cell_type": "code",
     "collapsed": false,
     "input": [
      "s = \"Hello world!\"\n",
      "print s[0]\n",
      "print s[1]\n",
      "print s[-1]\n",
      "print s[-2]"
     ],
     "language": "python",
     "metadata": {},
     "outputs": [
      {
       "output_type": "stream",
       "stream": "stdout",
       "text": [
        "H\n",
        "e\n",
        "!\n",
        "d\n"
       ]
      }
     ],
     "prompt_number": 82
    },
    {
     "cell_type": "markdown",
     "metadata": {},
     "source": [
      "- Slicing\n",
      "  - \ud615\uc2dd: [start(included) : stop(excluded) : step]\n",
      "  - \uae30\ubcf8\uac12: start - 0, stop - \uc790\ub8cc\ud615\uc758 \ud06c\uae30, step - 1"
     ]
    },
    {
     "cell_type": "code",
     "collapsed": false,
     "input": [
      "s = \"Hello world!\"\n",
      "print s[1:3]\n",
      "print s[0:5]"
     ],
     "language": "python",
     "metadata": {},
     "outputs": [
      {
       "output_type": "stream",
       "stream": "stdout",
       "text": [
        "el\n",
        "Hello\n"
       ]
      }
     ],
     "prompt_number": 83
    },
    {
     "cell_type": "code",
     "collapsed": false,
     "input": [
      "s = 'Hello'\n",
      "print s[1:]\n",
      "print s[:3]\n",
      "print s[:]"
     ],
     "language": "python",
     "metadata": {},
     "outputs": [
      {
       "output_type": "stream",
       "stream": "stdout",
       "text": [
        "ello\n",
        "Hel\n",
        "Hello\n"
       ]
      }
     ],
     "prompt_number": 85
    },
    {
     "cell_type": "code",
     "collapsed": false,
     "input": [
      "s = 'abcd'\n",
      "print s[::2]\n",
      "print s[::-1]"
     ],
     "language": "python",
     "metadata": {},
     "outputs": [
      {
       "output_type": "stream",
       "stream": "stdout",
       "text": [
        "ac\n",
        "dcba\n"
       ]
      }
     ],
     "prompt_number": 86
    },
    {
     "cell_type": "markdown",
     "metadata": {},
     "source": [
      "- \ubb38\uc790\uc5f4 \uc790\ub8cc\ud615\uc740 \ubcc0\uacbd\ub418\uc9c0 \uc54a\ub294\ub2e4."
     ]
    },
    {
     "cell_type": "code",
     "collapsed": false,
     "input": [
      "s = 'Hello World'\n",
      "s[0] = 'h'"
     ],
     "language": "python",
     "metadata": {},
     "outputs": [
      {
       "ename": "TypeError",
       "evalue": "'str' object does not support item assignment",
       "output_type": "pyerr",
       "traceback": [
        "\u001b[0;31m---------------------------------------------------------------------------\u001b[0m\n\u001b[0;31mTypeError\u001b[0m                                 Traceback (most recent call last)",
        "\u001b[0;32m<ipython-input-88-28020f3d59a5>\u001b[0m in \u001b[0;36m<module>\u001b[0;34m()\u001b[0m\n\u001b[1;32m      1\u001b[0m \u001b[0ms\u001b[0m \u001b[0;34m=\u001b[0m \u001b[0;34m'Hello World'\u001b[0m\u001b[0;34m\u001b[0m\u001b[0m\n\u001b[0;32m----> 2\u001b[0;31m \u001b[0ms\u001b[0m\u001b[0;34m[\u001b[0m\u001b[0;36m0\u001b[0m\u001b[0;34m]\u001b[0m \u001b[0;34m=\u001b[0m \u001b[0;34m'h'\u001b[0m\u001b[0;34m\u001b[0m\u001b[0m\n\u001b[0m",
        "\u001b[0;31mTypeError\u001b[0m: 'str' object does not support item assignment"
       ]
      }
     ],
     "prompt_number": 88
    },
    {
     "cell_type": "markdown",
     "metadata": {},
     "source": [
      "- \ubb38\uc790\uc5f4\uc744 \ubcc0\uacbd\ud558\ub824\uba74 Slicing \ubc0f \uc5f0\uacb0 \uc5f0\uc0b0 (+)\uc744 \uc8fc\ub85c \uc774\uc6a9\ud55c\ub2e4."
     ]
    },
    {
     "cell_type": "code",
     "collapsed": false,
     "input": [
      "s = 'Hello World'\n",
      "s = 'h' + s[1:]\n",
      "s"
     ],
     "language": "python",
     "metadata": {},
     "outputs": [
      {
       "metadata": {},
       "output_type": "pyout",
       "prompt_number": 9,
       "text": [
        "'hello World'"
       ]
      }
     ],
     "prompt_number": 9
    },
    {
     "cell_type": "markdown",
     "metadata": {},
     "source": [
      "### 2-3 \ubb38\uc790\uc5f4 \uc5f0\uc0b0\n",
      "- +: \uc5f0\uacb0\n",
      "- *: \ubc18\ubcf5"
     ]
    },
    {
     "cell_type": "code",
     "collapsed": false,
     "input": [
      "print 'Hello' + '' + 'World'\n",
      "print 'Hello' * 3\n",
      "print '-' * 60"
     ],
     "language": "python",
     "metadata": {},
     "outputs": [
      {
       "output_type": "stream",
       "stream": "stdout",
       "text": [
        "HelloWorld\n",
        "HelloHelloHello\n",
        "------------------------------------------------------------\n"
       ]
      }
     ],
     "prompt_number": 87
    },
    {
     "cell_type": "markdown",
     "metadata": {},
     "source": [
      "### 2-4 \ubb38\uc790\uc5f4\uc758 \uae38\uc774\n",
      "- len(): \ubb38\uc790\uc5f4\uc758 \uae38\uc774\ub97c \ubc18\ud658\ud558\ub294 \ub0b4\uc7a5\ud568\uc218"
     ]
    },
    {
     "cell_type": "code",
     "collapsed": false,
     "input": [
      "s = 'Hello World'\n",
      "len(s)"
     ],
     "language": "python",
     "metadata": {},
     "outputs": [
      {
       "metadata": {},
       "output_type": "pyout",
       "prompt_number": 90,
       "text": [
        "11"
       ]
      }
     ],
     "prompt_number": 90
    },
    {
     "cell_type": "markdown",
     "metadata": {},
     "source": [
      "### 2-5 \ubb38\uc790\uc5f4\ub0b4 \ud3ec\ud568 \uad00\uacc4 \uc5ec\ubd80\n",
      "- in, not in: \ubb38\uc790\uc5f4\ub0b4\uc5d0 \uc77c\ubd80 \ubb38\uc790\uc5f4\uc774 \ud3ec\ud568\ub418\uc5b4 \uc788\ub294\uc9c0\ub97c \ud30c\uc545\ud558\ub294 \ud0a4\uc6cc\ub4dc"
     ]
    },
    {
     "cell_type": "code",
     "collapsed": false,
     "input": [
      "s = 'Hello World'\n",
      "print 'World' in s\n",
      "print 'World' not in s"
     ],
     "language": "python",
     "metadata": {},
     "outputs": [
      {
       "output_type": "stream",
       "stream": "stdout",
       "text": [
        "True\n",
        "False\n"
       ]
      }
     ],
     "prompt_number": 92
    },
    {
     "cell_type": "markdown",
     "metadata": {},
     "source": [
      "<p style='text-align: right;'>\ucc38\uace0 \ubb38\ud5cc: \ud30c\uc774\uc36c(\uc5f4\ud608\uac15\uc758)(\uac1c\uc815\ud310 VER.2), \uc774\uac15\uc131, FreeLec, 2005\ub144 8\uc6d4 29\uc77c</p>"
     ]
    }
   ],
   "metadata": {}
  }
 ]
}