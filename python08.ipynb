{
 "metadata": {
  "name": "",
  "signature": "sha256:f8e3501595a8ca4a8002bf601a3a1e5435ccb725a2f0bdd39beb4f77729396d9"
 },
 "nbformat": 3,
 "nbformat_minor": 0,
 "worksheets": [
  {
   "cells": [
    {
     "cell_type": "markdown",
     "metadata": {},
     "source": [
      "***\n",
      "***\n",
      "# 8. \ubb38\uc790\uc5f4 \uba54\uc18c\ub4dc\uc640 \ud3ec\uba67\ud305\n",
      "***\n",
      "***"
     ]
    },
    {
     "cell_type": "markdown",
     "metadata": {},
     "source": [
      "***\n",
      "## 1 \ubb38\uc790\uc5f4 \uba54\uc18c\ub4dc(Methods)\n",
      "***"
     ]
    },
    {
     "cell_type": "code",
     "collapsed": false,
     "input": [
      "s = 'i like programming.'\n",
      "print s.upper()\n",
      "print s.upper().lower()\n",
      "print 'I Like Programming'.swapcase()  # \ub300\ubb38\uc790\ub294 \uc18c\ubb38\uc790\ub85c, \uc18c\ubb38\uc790\ub294 \ub300\ubb38\uc790\ub85c \ubcc0\ud658\n",
      "print s.capitalize() # \uccab \ubb38\uc790\ub97c \ub300\ubb38\uc790\ub85c \ubcc0\ud658\n",
      "print s.title()      # \uac01 \ub2e8\uc5b4\uc758 \uccab \ubb38\uc790\ub97c \ub300\ubb38\uc790\ub85c \ubcc0\ud658 "
     ],
     "language": "python",
     "metadata": {},
     "outputs": [
      {
       "output_type": "stream",
       "stream": "stdout",
       "text": [
        "I LIKE PROGRAMMING.\n",
        "i like programming.\n",
        "i lIKE pROGRAMMING\n",
        "I like programming.\n",
        "I Like Programming.\n"
       ]
      }
     ],
     "prompt_number": 18
    },
    {
     "cell_type": "code",
     "collapsed": false,
     "input": [
      "s = 'i like programming, i like swimming.'\n",
      "print s.count('like') # 'like' \ubb38\uc790\uc5f4\uc774 \ucd9c\ud604\ud55c \ud69f\uc218\ub97c \ubc18\ud658\n",
      "print\n",
      "print s.find('like') # 'like'\uc758 \uccab\uae00\uc790 \uc704\uce58 (offset)\ub97c \ubc18\ud658\n",
      "print s.find('programming') # 'programming'\uc758 \uccab\uae00\uc790 \uc704\uce58\ub97c \ubc18\ud658\n",
      "print s.find('programmin') # 'programmin'\uc758 \uccab\uae00\uc790 \uc704\uce58\ub97c \ubc18\ud658\n",
      "print s.find('programmii') # 'programmii' \ub2e8\uc5b4\ub294 \uc5c6\uae30 \ub54c\ubb38\uc5d0 -1 \ubc18\ud658\n",
      "print\n",
      "print s.find('like', 3) # offset=3 \ubd80\ud130 'like'\uc744 \uac80\uc0c9\ud558\uc5ec 'like'\uc758 \uccab\uae00\uc790 \uc704\uce58 \ubc18\ud658 \n",
      "print s.find('my') # 'my' \ub2e8\uc5b4\ub294 \uc5c6\uae30 \ub54c\ubb38\uc5d0 -1 \ubc18\ud658"
     ],
     "language": "python",
     "metadata": {},
     "outputs": [
      {
       "output_type": "stream",
       "stream": "stdout",
       "text": [
        "2\n",
        "\n",
        "2\n",
        "7\n",
        "7\n",
        "-1\n",
        "\n",
        "22\n",
        "-1\n"
       ]
      }
     ],
     "prompt_number": 1
    },
    {
     "cell_type": "code",
     "collapsed": false,
     "input": [
      "s = 'i like programming, i like swimming.'\n",
      "print s.startswith('i like') # 'i like'\ub85c \uc2dc\uc791\ud558\ub294 \ubb38\uc790\uc5f4\uc778\uc9c0 \ud310\ub2e8\n",
      "print s.startswith('I like') # \ub300\uc18c\ubb38\uc790 \uad6c\ubcc4\n",
      "print\n",
      "\n",
      "print s.endswith('swimming.') # 'swimming.'\ub85c \ub05d\ub098\ub294 \ubb38\uc790\uc5f4\uc778\uc9c0 \ud310\ub2e8\n",
      "print s.startswith('progr', 7) # 7\ubc88\uc9f8 \ubb38\uc790\uc5f4\uc774 'progr'\ub85c \uc2dc\uc791\ud558\ub294\uc9c0 \ud310\ub2e8\n",
      "print"
     ],
     "language": "python",
     "metadata": {},
     "outputs": [
      {
       "output_type": "stream",
       "stream": "stdout",
       "text": [
        "True\n",
        "False\n",
        "\n",
        "True\n",
        "True\n",
        "\n"
       ]
      }
     ],
     "prompt_number": 2
    },
    {
     "cell_type": "code",
     "collapsed": false,
     "input": [
      "u = ' spam and ham          '\n",
      "print u.strip() # \uc88c\uc6b0 \uacf5\ubc31\uc744 \uc81c\uac70\ud558\uc5ec \uc0c8\ub85c\uc6b4 \uc2a4\ud2b8\ub9c1 \uc0dd\uc131\n",
      "print u # \uc2a4\ud2b8\ub9c1\uc740 \ubcc0\uacbd\ubd88\uac00\ub2a5 \n",
      "y = u.strip() # strip()\ub294 \uc0c8\ub85c\uc6b4 \uc2a4\ud2b8\ub9c1\uc744 \uc0dd\uc131\ud568\n",
      "print y\n",
      "print\n",
      "\n",
      "print u.rstrip() # \uc624\ub978\ucabd \uacf5\ubc31 \uc81c\uac70\n",
      "print u.lstrip() # \uc67c\ucabd \uacf5\ubc31 \uc81c\uac70   \n",
      "print '     abc '.strip()                            \n",
      "print '><><abc<><><>'.strip('<>') # \uc778\uc790\ub85c \uc8fc\uc5b4\uc9c4 \uc2a4\ud2b8\ub9c1 \uc548\uc5d0 \uc9c0\uc815\ub41c \ubaa8\ub4e0 \ubb38\uc790\ub97c \uc88c\uc6b0\uc5d0\uc11c \uc81c\uac70"
     ],
     "language": "python",
     "metadata": {},
     "outputs": [
      {
       "output_type": "stream",
       "stream": "stdout",
       "text": [
        "spam and ham\n",
        " spam and ham          \n",
        "spam and ham\n",
        "\n",
        " spam and ham\n",
        "spam and ham          \n",
        "abc\n",
        "abc\n"
       ]
      }
     ],
     "prompt_number": 4
    },
    {
     "cell_type": "code",
     "collapsed": false,
     "input": [
      "p = ' \\t abc \\t '\n",
      "print p\n",
      "print p.strip() # \\t\ub3c4 \uacf5\ubc31\ubb38\uc790\uc774\ubbc0\ub85c \uc81c\uac70\ub428"
     ],
     "language": "python",
     "metadata": {},
     "outputs": [
      {
       "output_type": "stream",
       "stream": "stdout",
       "text": [
        " \t abc \t \n",
        "abc\n"
       ]
      }
     ],
     "prompt_number": 2
    },
    {
     "cell_type": "code",
     "collapsed": false,
     "input": [
      "u = 'spam and ham'\n",
      "print u.replace('spam', 'spam, egg') # replace()\ub294 \uc0c8\ub85c\uc6b4 \uc2a4\ud2b8\ub9c1\uc744 \uc0dd\uc131\ud568\n",
      "print u"
     ],
     "language": "python",
     "metadata": {},
     "outputs": [
      {
       "output_type": "stream",
       "stream": "stdout",
       "text": [
        "spam, egg and ham\n",
        "spam and ham\n"
       ]
      }
     ],
     "prompt_number": 3
    },
    {
     "cell_type": "code",
     "collapsed": false,
     "input": [
      "u = ' spam and ham     '\n",
      "print u.split() # \uacf5\ubc31\uc73c\ub85c \ubd84\ub9ac (\ubaa8\ub4e0 \uacf5\ubc31 \uc81c\uac70 \ubc0f \ubb38\uc790\uc5f4 \ub0b4\uc758 \ub2e8\uc5b4 \ub9ac\uc2a4\ud2b8\ub97c \uc5bb\uc744 \uc218 \uc788\uc74c)\n",
      "print u.split('and') # 'and'\ub85c \ubd84\ub9ac\n",
      "print\n",
      "\n",
      "u2 = 'spam and ham\\tegg\\ncheese'\n",
      "print u2.split()"
     ],
     "language": "python",
     "metadata": {},
     "outputs": [
      {
       "output_type": "stream",
       "stream": "stdout",
       "text": [
        "['spam', 'and', 'ham']\n",
        "[' spam ', ' ham     ']\n",
        "\n",
        "['spam', 'and', 'ham', 'egg', 'cheese']\n"
       ]
      }
     ],
     "prompt_number": 7
    },
    {
     "cell_type": "code",
     "collapsed": false,
     "input": [
      "u = 'spam ham\\tegg\\ncheese'\n",
      "t = u.split() # \ubb38\uc790\uc5f4 \ub0b4\uc758 \ub2e8\uc5b4 \ub9ac\uc2a4\ud2b8    \n",
      "print t\n",
      "print\n",
      "t2 = ':'.join(t) # \ub9ac\uc2a4\ud2b8 t \ub0b4\ubd80\uc758 \uac01 \uc6d0\uc18c\ub4e4\uc744 ':'\ub85c \uc5f0\uacb0\ud55c \ubb38\uc790\uc5f4 \ubc18\ud658\n",
      "print type(t2)\n",
      "print t2\n",
      "print\n",
      "t3 = \",\".join(t) # \ub9ac\uc2a4\ud2b8 t \ub0b4\ubd80\uc758 \uac01 \uc6d0\uc18c\ub4e4\uc744 ','\uc73c\ub85c \uc5f0\uacb0\ud55c \ubb38\uc790\uc5f4 \ubc18\ud658\n",
      "print t3\n",
      "print\n",
      "t4 = '\\n'.join(t) # \ub9ac\uc2a4\ud2b8 t \ub0b4\ubd80\uc758 \uac01 \uc6d0\uc18c\ub4e4\uc744 '\\n'\uc73c\ub85c \uc5f0\uacb0\ud55c \ubb38\uc790\uc5f4 \ubc18\ud658\n",
      "print t4\n",
      "print"
     ],
     "language": "python",
     "metadata": {},
     "outputs": [
      {
       "output_type": "stream",
       "stream": "stdout",
       "text": [
        "['spam', 'ham', 'egg', 'cheese']\n",
        "\n",
        "<type 'str'>\n",
        "spam:ham:egg:cheese\n",
        "\n",
        "spam,ham,egg,cheese\n",
        "\n",
        "spam\n",
        "ham\n",
        "egg\n",
        "cheese\n",
        "\n"
       ]
      }
     ],
     "prompt_number": 4
    },
    {
     "cell_type": "code",
     "collapsed": false,
     "input": [
      "u2 = u\"\uc2a4\ud338 \ud584 \uacc4\ub780 \uce58\uc988\"\n",
      "t2 = u2.split()\n",
      "print t2\n",
      "print t2[0], t2[1], t2[2], t2[3]"
     ],
     "language": "python",
     "metadata": {},
     "outputs": [
      {
       "output_type": "stream",
       "stream": "stdout",
       "text": [
        "[u'\\uc2a4\\ud338', u'\\ud584', u'\\uacc4\\ub780', u'\\uce58\\uc988']\n",
        "\uc2a4\ud338 \ud584 \uacc4\ub780 \uce58\uc988\n"
       ]
      }
     ],
     "prompt_number": 5
    },
    {
     "cell_type": "code",
     "collapsed": false,
     "input": [
      "lines = '''first line\n",
      "second line\n",
      "third line'''\n",
      "print type(lines)\n",
      "lines2 = lines.splitlines() # \ubb38\uc790\uc5f4\uc744 \ub77c\uc778 \ub2e8\uc704\ub85c \ubd84\ub9ac\ud55c \uac01 \uc6d0\uc18c\ub4e4\uc744 \uc9c0\ub2cc \ub9ac\uc2a4\ud2b8 \ubc18\ud658\n",
      "print type(lines2)\n",
      "print lines2"
     ],
     "language": "python",
     "metadata": {},
     "outputs": [
      {
       "output_type": "stream",
       "stream": "stdout",
       "text": [
        "<type 'str'>\n",
        "<type 'list'>\n",
        "['first line', 'second line', 'third line']\n"
       ]
      }
     ],
     "prompt_number": 9
    },
    {
     "cell_type": "code",
     "collapsed": false,
     "input": [
      "u = 'spam and egg'\n",
      "c = u.center(60) # 60\uc790\ub9ac\ub97c \ud655\ubcf4\ud558\ub418 \uae30\uc874 \ubb38\uc790\uc5f4\uc744 \uac00\uc6b4\ub370 \uc815\ub82c\ud55c \uc0c8\ub85c\uc6b4 \ubb38\uc790\uc5f4 \ubc18\ud658\n",
      "print type(c)\n",
      "print c\n",
      "print u.ljust(60) # 60\uc790\ub9ac\ub97c \ud655\ubcf4\ud558\ub418 \uae30\uc874 \ubb38\uc790\uc5f4\uc744 \uc67c\ucabd \uc815\ub82c\ud55c \uc0c8\ub85c\uc6b4 \ubb38\uc790\uc5f4 \ubc18\ud658\n",
      "print u.rjust(60) # 60\uc790\ub9ac\ub97c \ud655\ubcf4\ud558\ub418 \uae30\uc874 \ubb38\uc790\uc5f4\uc744 \uc624\ub978\ucabd \uc815\ub82c\ud55c \uc0c8\ub85c\uc6b4 \ubb38\uc790\uc5f4 \ubc18\ud658"
     ],
     "language": "python",
     "metadata": {},
     "outputs": [
      {
       "output_type": "stream",
       "stream": "stdout",
       "text": [
        "<type 'str'>\n",
        "                        spam and egg                        \n",
        "spam and egg                                                \n",
        "                                                spam and egg\n"
       ]
      }
     ],
     "prompt_number": 34
    },
    {
     "cell_type": "code",
     "collapsed": false,
     "input": [
      "u = 'spam and egg'\n",
      "print u.center(60, '-') # \uacf5\ubc31\uc5d0 \ucc44\uc6cc\uc9c8 \ubb38\uc790\ub97c \uc120\ud0dd\ud560 \uc218 \uc788\uc74c\n",
      "print u.ljust(60, '-')\n",
      "print u.rjust(60, '-')"
     ],
     "language": "python",
     "metadata": {},
     "outputs": [
      {
       "output_type": "stream",
       "stream": "stdout",
       "text": [
        "------------------------spam and egg------------------------\n",
        "spam and egg------------------------------------------------\n",
        "------------------------------------------------spam and egg\n"
       ]
      }
     ],
     "prompt_number": 12
    },
    {
     "cell_type": "code",
     "collapsed": false,
     "input": [
      "print '1234'.isdigit() # \ubb38\uc790\uc5f4 \ub0b4\uc758 Character\ub4e4\uc774 \ubaa8\ub450 \uc22b\uc790\uc778\uac00?\n",
      "print 'abcd'.isalpha() # \ubb38\uc790\uc5f4 \ub0b4\uc758 Character\ub4e4\uc774 \ubaa8\ub450 \uc601\ubb38\uc790\uc778\uac00?\n",
      "print '1abc234'.isalnum() # \ubb38\uc790\uc5f4 \ub0b4\uc758 Character\ub4e4\uc774 \ubaa8\ub450 \uc601\ubb38\uc790 \ub610\ub294 \uc22b\uc790\uc778\uac00? \n",
      "print 'abc'.islower() # \ubb38\uc790\uc5f4 \ub0b4\uc758 Character\ub4e4\uc774 \ubaa8\ub450 \uc18c\ubb38\uc790\uc778\uac00?\n",
      "print 'ABC'.isupper() # \ubb38\uc790\uc5f4 \ub0b4\uc758 Character\ub4e4\uc774 \ubaa8\ub450 \ub300\ubb38\uc790\uc778\uac00?\n",
      "print '\\t\\r\\n'.isspace() # \ubb38\uc790\uc5f4 \ub0b4\uc758 Character\ub4e4\uc774 \ubaa8\ub450 \uacf5\ubc31 \ubb38\uc790\uc778\uac00?\n",
      "print 'This Is A Title'.istitle() # \ubb38\uc790\uc5f4\uc774 Title \ud615\uc2dd (\uac01 \ub2e8\uc5b4\uc758 \uccab\uae00\uc790\uac00 \ub300\ubb38\uc790)\uc778\uac00?"
     ],
     "language": "python",
     "metadata": {},
     "outputs": [
      {
       "output_type": "stream",
       "stream": "stdout",
       "text": [
        "True\n",
        "True\n",
        "True\n",
        "True\n",
        "True\n",
        "True\n",
        "True\n"
       ]
      }
     ],
     "prompt_number": 42
    },
    {
     "cell_type": "code",
     "collapsed": false,
     "input": [
      "s = '123'\n",
      "print s.zfill(5) # 5\uae00\uc790 \uc790\ub9ac \ud655\ubcf4\ub4a4 \ubb38\uc790\uc5f4\uc744 \uc4f0\ub418 \ub0a8\ub294 \uacf5\ubc31\uc5d0\ub294 zero (0)\ub97c \ucc44\uc6c0 \n",
      "print 'goofy'.zfill(6) # 6\uae00\uc790 \uc790\ub9ac \ud655\ubcf4\ub4a4 ..."
     ],
     "language": "python",
     "metadata": {},
     "outputs": [
      {
       "output_type": "stream",
       "stream": "stdout",
       "text": [
        "00123\n",
        "0goofy\n"
       ]
      }
     ],
     "prompt_number": 45
    },
    {
     "cell_type": "markdown",
     "metadata": {},
     "source": [
      "***\n",
      "## 2 \ubb38\uc790\uc5f4 \ud3ec\ub9e4\ud305\n",
      "***"
     ]
    },
    {
     "cell_type": "markdown",
     "metadata": {},
     "source": [
      "### 2-1 \ud29c\ud50c\uc744 \uc774\uc6a9\ud55c \ud3ec\ub9e4\ud305"
     ]
    },
    {
     "cell_type": "markdown",
     "metadata": {},
     "source": [
      "#### 1) \ubb38\uc790\uc5f4 \ubcc0\ud658"
     ]
    },
    {
     "cell_type": "markdown",
     "metadata": {},
     "source": [
      "- \ud3ec\ub9f7\ud305 \ubb38\uc790\n",
      "  - \ubb38\uc790\uc5f4 \ub0b4\uc5d0 \uc874\uc7ac\ud558\ub294 %\n",
      "- \ud3ec\ucea3\ud305\uc744 \ud65c\uc6a9\ud55c \ubb38\uc790\uc5f4 \ubcc0\ud658\n",
      "  - \ud3ec\ub9f7\ud305 \ubb38\uc790\ub97c \ud3ec\ud568\ud558\ub294 \ubb38\uc790\uc5f4 % \ud29c\ud50c"
     ]
    },
    {
     "cell_type": "code",
     "collapsed": false,
     "input": [
      "print 'name = %s, age = %s' % ('gslee', '24')"
     ],
     "language": "python",
     "metadata": {},
     "outputs": [
      {
       "output_type": "stream",
       "stream": "stdout",
       "text": [
        "name = gslee, age = 24\n"
       ]
      }
     ],
     "prompt_number": 7
    },
    {
     "cell_type": "code",
     "collapsed": false,
     "input": [
      "letter = '''\n",
      "\uc548\ub155\ud558\uc138\uc694 %s\ub2d8,\n",
      "\n",
      "\uc624\ub298 \ubc24 \ud30c\ud2f0\uc5d0 \ucc38\uc11d\ud574 \uc8fc\uc2e4 \uc218 \uc788\ub098\uc694?\n",
      "\n",
      "\uadf8\ub7fc..\n",
      "\n",
      "\uc774\uac15\uc131 \ub4dc\ub9bc'''\n",
      "name = '\ud64d\uae38\ub3d9'\n",
      "print letter % name\n",
      "print \n",
      "names = ['\ud55c\ud559\uc2e0', '\uc815\uc778\uc219', '\ubc15\ubbf8\uacbd']\n",
      "for name in names:\n",
      "    print letter % name\n",
      "    print '-' * 40\n",
      "    print"
     ],
     "language": "python",
     "metadata": {},
     "outputs": [
      {
       "output_type": "stream",
       "stream": "stdout",
       "text": [
        "\n",
        "\uc548\ub155\ud558\uc138\uc694 \ud64d\uae38\ub3d9\ub2d8,\n",
        "\n",
        "\uc624\ub298 \ubc24 \ud30c\ud2f0\uc5d0 \ucc38\uc11d\ud574 \uc8fc\uc2e4 \uc218 \uc788\ub098\uc694?\n",
        "\n",
        "\uadf8\ub7fc..\n",
        "\n",
        "\uc774\uac15\uc131 \ub4dc\ub9bc\n",
        "\n",
        "\n",
        "\uc548\ub155\ud558\uc138\uc694 \ud55c\ud559\uc2e0\ub2d8,\n",
        "\n",
        "\uc624\ub298 \ubc24 \ud30c\ud2f0\uc5d0 \ucc38\uc11d\ud574 \uc8fc\uc2e4 \uc218 \uc788\ub098\uc694?\n",
        "\n",
        "\uadf8\ub7fc..\n",
        "\n",
        "\uc774\uac15\uc131 \ub4dc\ub9bc\n",
        "----------------------------------------\n",
        "\n",
        "\n",
        "\uc548\ub155\ud558\uc138\uc694 \uc815\uc778\uc219\ub2d8,\n",
        "\n",
        "\uc624\ub298 \ubc24 \ud30c\ud2f0\uc5d0 \ucc38\uc11d\ud574 \uc8fc\uc2e4 \uc218 \uc788\ub098\uc694?\n",
        "\n",
        "\uadf8\ub7fc..\n",
        "\n",
        "\uc774\uac15\uc131 \ub4dc\ub9bc\n",
        "----------------------------------------\n",
        "\n",
        "\n",
        "\uc548\ub155\ud558\uc138\uc694 \ubc15\ubbf8\uacbd\ub2d8,\n",
        "\n",
        "\uc624\ub298 \ubc24 \ud30c\ud2f0\uc5d0 \ucc38\uc11d\ud574 \uc8fc\uc2e4 \uc218 \uc788\ub098\uc694?\n",
        "\n",
        "\uadf8\ub7fc..\n",
        "\n",
        "\uc774\uac15\uc131 \ub4dc\ub9bc\n",
        "----------------------------------------\n",
        "\n"
       ]
      }
     ],
     "prompt_number": 27
    },
    {
     "cell_type": "markdown",
     "metadata": {},
     "source": [
      "#### 2) \uc22b\uc790 \ubcc0\ud658"
     ]
    },
    {
     "cell_type": "markdown",
     "metadata": {},
     "source": [
      "| \ud3ec\ub9f7\ud305 \ubb38\uc790 | \uc124\uba85                                                                         |\n",
      "|-------------|------------------------------------------------------------------------------|\n",
      "|     %s      | \ubb38\uc790\uc5f4\uc744 \ud3ec\ud568\ud55c \uc784\uc758\uc758 \uac1d\uccb4\ub97c \ubb38\uc790\uc5f4\ub85c \ubcc0\ud658\ud558\uc5ec \ucd9c\ub825 (str() \ub0b4\uc7a5 \ud568\uc218 \uc0ac\uc6a9)  |\n",
      "| %r          | \ubb38\uc790\uc5f4\uc744 \ud3ec\ud568\ud55c \uc784\uc758\uc758 \uac1d\uccb4\ub97c \ubb38\uc790\uc5f4\ub85c \ubcc0\ud658\ud558\uc5ec \ucd9c\ub825 (repr() \ub0b4\uc7a5 \ud568\uc218 \uc0ac\uc6a9) |\n",
      "| %c          | 1\uae00\uc790 \ubb38\uc790 (ex. '%c' % 'k)                                                   |\n",
      "| %d          | 10\uc9c4 \uc815\uc218 (%5d: 5\uc790\ub9ac\ub97c \ud655\ubcf4\ud55c \ud6c4 \uc815\uc218 \ud3ec\ub9f7\ud305)                               |\n",
      "| %i          | %d\uc640 \ub3d9\uc77c                                                                    |\n",
      "| %u          | \ubd80\ud638 \uc5c6\ub294 \uc815\uc218. \uc74c\uc218\ub294 \uc591\uc218\ucc98\ub7fc \ud574\uc11d\ud568 (ex. '%u' % -12 --> '4294967284')     |\n",
      "| %o          | 8\uc9c4\uc218 \uc815\uc218 (ex. '%o' % 13 --> 15)                                            |\n",
      "| %x          | 16\uc9c4\uc218 \uc815\uc218 (\uc18c\ubb38\uc790 \ud45c\ud604) (ex. '%x' % 13 --> 'd')                            |\n",
      "| %X          | 16\uc9c4\uc218 \uc815\uc218 (\ub300\ubb38\uc790 \ud45c\ud604) (ex. '%X' % 13 --> 'D')                            |\n",
      "| %e          | \ubd80\ub3d9 \uc18c\uc218\uc810 \uc2e4\uc218\ub97c \uc9c0\uc218 \ud615\ud0dc\ub85c \ud45c\ud604 (%.2e: 2\uc790\ub9ac\ub294 \uc18c\uc218\uc810 \uc774\ud558 \uc790\ub9ac\uc218)  |\n",
      "| %E          | %e \uc640 \ub3d9\uc77c (\ub300\ubb38\uc790 E \ud45c\ud604)  |\n",
      "| %f          | \ubd80\ub3d9 \uc18c\uc218\uc810 \uc2e4\uc218 (%5.2f: \uc18c\uc218\uc810 \ud3ec\ud568 \ucd1d 5\uc790\ub9ac \ud655\ubcf4\ud55c \ud6c4 2\uc790\ub9ac\ub294 \uc18c\uc218\uc810 \uc774\ud558 \uc790\ub9ac\uc218)  |\n",
      "| %g          | \ubd80\ub3d9 \uc18c\uc218\uc810\uc744 \ud3b8\uc758\uc5d0 \ub530\ub77c \uc77c\ubc18 \uc2e4\uc218 \ud615\uc2dd\uc774\ub098 \uc9c0\uc218 \ud615\uc2dd\uc73c\ub85c \ubcc0\ud658 |\n",
      "| %G          | %g\uc640 \ub3d9\uc77c (\ub300\ubb38\uc790 E \ud45c\ud604) |"
     ]
    },
    {
     "cell_type": "code",
     "collapsed": false,
     "input": [
      "print \"%s -- %s -- %d -- %f -- %e\" % ((1, 2), [3,4,5], 5, 5.3, 101.3)"
     ],
     "language": "python",
     "metadata": {},
     "outputs": [
      {
       "output_type": "stream",
       "stream": "stdout",
       "text": [
        "(1, 2) -- [3, 4, 5] -- 5 -- 5.300000 -- 1.013000e+02\n"
       ]
      }
     ],
     "prompt_number": 2
    },
    {
     "cell_type": "code",
     "collapsed": false,
     "input": [
      "print \"%3d -- %5.2f -- %.2e\" % (5, 5.356, 101.3)"
     ],
     "language": "python",
     "metadata": {},
     "outputs": [
      {
       "output_type": "stream",
       "stream": "stdout",
       "text": [
        "  5 --  5.36 -- 1.01e+02\n"
       ]
      }
     ],
     "prompt_number": 4
    },
    {
     "cell_type": "code",
     "collapsed": false,
     "input": [
      "a = 456\n",
      "print '%d -- %o -- %x -- %X' % (a, a, a, a)"
     ],
     "language": "python",
     "metadata": {},
     "outputs": [
      {
       "output_type": "stream",
       "stream": "stdout",
       "text": [
        "456 -- 710 -- 1c8 -- 1C8\n"
       ]
      }
     ],
     "prompt_number": 5
    },
    {
     "cell_type": "markdown",
     "metadata": {},
     "source": [
      "### 2-2 \uc0ac\uc804(Dictionary)\uc744 \uc774\uc6a9\ud55c \ud3ec\ub9e4\ud305"
     ]
    },
    {
     "cell_type": "code",
     "collapsed": false,
     "input": [
      "print '%(\uc774\ub984)s -- %(\uc804\ud654\ubc88\ud638)s' %{'\uc774\ub984':'\ud64d\uae38\ub3d9', '\uc804\ud654\ubc88\ud638':5284}\n",
      "print '%(\uc774\ub984)s -- %(\uc804\ud654\ubc88\ud638)s' %{'\uc804\ud654\ubc88\ud638':5284, '\uc774\ub984':'\ud64d\uae38\ub3d9'}\n",
      "print '%(\uc774\ub984)s -- %(\uc804\ud654\ubc88\ud638)s' %{'\uc804\ud654\ubc88\ud638':5284, '\uc774\ub984':'\ud64d\uae38\ub3d9', '\uc8fc\uc18c':'Seoul'}"
     ],
     "language": "python",
     "metadata": {},
     "outputs": [
      {
       "output_type": "stream",
       "stream": "stdout",
       "text": [
        "\ud64d\uae38\ub3d9 -- 5284\n",
        "\ud64d\uae38\ub3d9 -- 5284\n",
        "\ud64d\uae38\ub3d9 -- 5284\n"
       ]
      }
     ],
     "prompt_number": 1
    },
    {
     "cell_type": "markdown",
     "metadata": {},
     "source": [
      "<p style='text-align: right;'>\ucc38\uace0 \ubb38\ud5cc: \ud30c\uc774\uc36c(\uc5f4\ud608\uac15\uc758)(\uac1c\uc815\ud310 VER.2), \uc774\uac15\uc131, FreeLec, 2005\ub144 8\uc6d4 29\uc77c</p>"
     ]
    }
   ],
   "metadata": {}
  }
 ]
}