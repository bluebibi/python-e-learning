{
 "metadata": {
  "name": "",
  "signature": "sha256:15a90436dacf4db2161e836c784cac43a4fda0ed876e22bd8990ddcda539f9b8"
 },
 "nbformat": 3,
 "nbformat_minor": 0,
 "worksheets": [
  {
   "cells": [
    {
     "cell_type": "markdown",
     "metadata": {},
     "source": [
      "***\n",
      "***\n",
      "# 8. \ud29c\ud50c\uacfc \uc9d1\ud569\n",
      "***\n",
      "***"
     ]
    },
    {
     "cell_type": "markdown",
     "metadata": {},
     "source": [
      "***\n",
      "## 1 \ud29c\ud50c \ud65c\uc6a9\ubc95\n",
      "***\n",
      "- \ud29c\ud50c(Tuples): \uc21c\uc11c\uc788\ub294 \uc784\uc758\uc758 \uac1d\uccb4 \ubaa8\uc74c (\uc2dc\ud000\uc2a4\ud615)\n",
      "- \ud29c\ud50c\uc740 \ubcc0\uacbd \ubd88\uac00\ub2a5(Immutable)\n",
      "- \uc2dc\ud000\uc2a4\ud615\uc774 \uac00\uc9c0\ub294 \ub2e4\uc74c \uc5f0\uc0b0 \ubaa8\ub450 \uc9c0\uc6d0\n",
      "  - \uc778\ub371\uc2f1, \uc2ac\ub77c\uc774\uc2f1, \uc5f0\uacb0, \ubc18\ubcf5, \uba64\ubc84\uc27d \ud14c\uc2a4\ud2b8"
     ]
    },
    {
     "cell_type": "markdown",
     "metadata": {},
     "source": [
      "### 1-1 \ud29c\ud50c \uc5f0\uc0b0"
     ]
    },
    {
     "cell_type": "code",
     "collapsed": false,
     "input": [
      "t1 = ()      # \ube44\uc5b4\uc788\ub294 \ud29c\ud50c\n",
      "t2 = (1,2,3) # \uad04\ud638 \uc0ac\uc6a9\n",
      "\n",
      "t3 = 1,2,3   # \uad04\ud638\uac00 \uc5c6\uc5b4\ub3c4 \ud29c\ud50c\uc774 \ub428\n",
      "print type(t1), type(t2), type(t3)"
     ],
     "language": "python",
     "metadata": {},
     "outputs": [
      {
       "output_type": "stream",
       "stream": "stdout",
       "text": [
        "<type 'tuple'> <type 'tuple'> <type 'tuple'>\n"
       ]
      }
     ],
     "prompt_number": 6
    },
    {
     "cell_type": "code",
     "collapsed": false,
     "input": [
      "r = (1,) # \uc790\ub8cc\uac00 \ud55c \uac1c\uc77c \ub54c\ub294 \ubc18\ub4dc\uc2dc \ucf64\ub9c8\uac00 \uc788\uc5b4\uc57c \ud55c\ub2e4.\n",
      "r = 1,   # \uad04\ud638\ub294 \uc5c6\uc5b4\ub3c4 \ucf64\ub9c8\ub294 \uc788\uc5b4\uc57c \ud55c\ub2e4."
     ],
     "language": "python",
     "metadata": {},
     "outputs": [],
     "prompt_number": 7
    },
    {
     "cell_type": "code",
     "collapsed": false,
     "input": [
      "t = (1, 2, 3)\n",
      "print t * 2                   # \ubc18\ubcf5\n",
      "print t + ('PyKUG', 'users')  # \uc5f0\uacb0\n",
      "print t[0], t[1:3]            # \uc778\ub371\uc2f1, \uc2ac\ub77c\uc774\uc2f1\n",
      "print len(t)                  # \uae38\uc774\n",
      "print 1 in t                  # \uba64\ubc84\uc2ed \ud14c\uc2a4\ud2b8"
     ],
     "language": "python",
     "metadata": {},
     "outputs": [
      {
       "output_type": "stream",
       "stream": "stdout",
       "text": [
        "(1, 2, 3, 1, 2, 3)\n",
        "(1, 2, 3, 'PyKUG', 'users')\n",
        "1 (2, 3)\n",
        "3\n",
        "True\n"
       ]
      }
     ],
     "prompt_number": 8
    },
    {
     "cell_type": "code",
     "collapsed": false,
     "input": [
      "t[0] = 100 # \ud29c\ud50c\uc740 \ubcc0\uacbd \ubd88\uac00\ub2a5, \uc5d0\ub7ec\ubc1c\uc0dd"
     ],
     "language": "python",
     "metadata": {},
     "outputs": [
      {
       "ename": "TypeError",
       "evalue": "'tuple' object does not support item assignment",
       "output_type": "pyerr",
       "traceback": [
        "\u001b[0;31m---------------------------------------------------------------------------\u001b[0m\n\u001b[0;31mTypeError\u001b[0m                                 Traceback (most recent call last)",
        "\u001b[0;32m<ipython-input-10-ded308ebf8b1>\u001b[0m in \u001b[0;36m<module>\u001b[0;34m()\u001b[0m\n\u001b[0;32m----> 1\u001b[0;31m \u001b[0mt\u001b[0m\u001b[0;34m[\u001b[0m\u001b[0;36m0\u001b[0m\u001b[0;34m]\u001b[0m \u001b[0;34m=\u001b[0m \u001b[0;36m100\u001b[0m \u001b[0;31m# \ud29c\ud50c\uc740 \ubcc0\uacbd \ubd88\uac00\ub2a5, \uc5d0\ub7ec\ubc1c\uc0dd\u001b[0m\u001b[0;34m\u001b[0m\u001b[0m\n\u001b[0m",
        "\u001b[0;31mTypeError\u001b[0m: 'tuple' object does not support item assignment"
       ]
      }
     ],
     "prompt_number": 10
    },
    {
     "cell_type": "code",
     "collapsed": false,
     "input": [
      "t = (12345, 54321, 'hello!') \n",
      "u = t, (1, 2, 3, 4, 5)        # \ud29c\ud50c \uc548 \uc6d0\uc18c\ub85c \ub2e4\ub978 \ud29c\ud50c\uc744 \uac00\uc9c8 \uc218 \uc788\uc74c\n",
      "print u\n",
      "\n",
      "t2 = [1, 2, 3]                # \ud29c\ud50c \uc548 \uc6d0\uc18c\ub85c \ub9ac\uc2a4\ud2b8 \uac00\uc9c8 \uc218 \uc788\uc74c \n",
      "u2 = t2, (1, 2, 4)\n",
      "print u2\n",
      "\n",
      "t3 = {1:\"abc\", 2:\"def\"}       # \ud29c\ud50c \uc548 \uc6d0\uc18c\ub85c \uc0ac\uc804 \uac00\uc9c8 \uc218 \uc788\uc74c \n",
      "u3 = t3, (1, 2, 3)\n",
      "print u3"
     ],
     "language": "python",
     "metadata": {},
     "outputs": [
      {
       "output_type": "stream",
       "stream": "stdout",
       "text": [
        "((12345, 54321, 'hello!'), (1, 2, 3, 4, 5))\n",
        "([1, 2, 3], (1, 2, 4))\n",
        "({1: 'abc', 2: 'def'}, (1, 2, 3))\n"
       ]
      }
     ],
     "prompt_number": 14
    },
    {
     "cell_type": "code",
     "collapsed": false,
     "input": [
      "x, y, z = 1, 2, 3             # \ud29c\ud50c\uc744 \uc774\uc6a9\ud55c \ubcf5\uc218 \uac1c\uc758 \uc790\ub8cc \ud560\ub2f9\n",
      "print type(x), type(y), type(z)\n",
      "print x\n",
      "print y\n",
      "print z"
     ],
     "language": "python",
     "metadata": {},
     "outputs": [
      {
       "output_type": "stream",
       "stream": "stdout",
       "text": [
        "<type 'int'> <type 'int'> <type 'int'>\n",
        "1\n",
        "2\n",
        "3\n"
       ]
      }
     ],
     "prompt_number": 17
    },
    {
     "cell_type": "code",
     "collapsed": false,
     "input": [
      "x = 1\n",
      "y = 2\n",
      "x, y = y, x                   # \ud29c\ud50c\uc744 \uc774\uc6a9\ud55c \ub450 \uc790\ub8cc\uc758 \uac12 \ubcc0\uacbd\n",
      "x, y"
     ],
     "language": "python",
     "metadata": {},
     "outputs": [
      {
       "metadata": {},
       "output_type": "pyout",
       "prompt_number": 18,
       "text": [
        "(2, 1)"
       ]
      }
     ],
     "prompt_number": 18
    },
    {
     "cell_type": "markdown",
     "metadata": {},
     "source": [
      "### 1-2 \ud328\ud0b9\uacfc \uc5b8\ud328\ud0b9"
     ]
    },
    {
     "cell_type": "markdown",
     "metadata": {},
     "source": [
      "- \ud328\ud0b9 (Packing): \ud558\ub098\uc758 \ud29c\ud50c \uc548\uc5d0 \uc5ec\ub7ec \uac1c\uc758 \ub370\uc774\ud130\ub97c \ub123\ub294 \uc791\uc5c5"
     ]
    },
    {
     "cell_type": "code",
     "collapsed": false,
     "input": [
      "t = 1, 2, 'hello'"
     ],
     "language": "python",
     "metadata": {},
     "outputs": [],
     "prompt_number": 20
    },
    {
     "cell_type": "markdown",
     "metadata": {},
     "source": [
      "- \uc5b8\ud328\ud0b9 (Unpacking): \ud558\ub098\uc758 \ud29c\ud50c\uc5d0\uc11c \uc5ec\ub7ec \uac1c\uc758 \ub370\uc774\ud130\ub97c \ud55c\uaebc\ubc88\uc5d0 \uaebc\ub0b4\uc640 \uac01\uac01 \ubcc0\uc218\uc5d0 \ud560\ub2f9\ud558\ub294 \uc791\uc5c5"
     ]
    },
    {
     "cell_type": "code",
     "collapsed": false,
     "input": [
      "x, y, z = t"
     ],
     "language": "python",
     "metadata": {},
     "outputs": [],
     "prompt_number": 19
    },
    {
     "cell_type": "markdown",
     "metadata": {},
     "source": [
      "- \ub9ac\uc2a4\ud2b8\ub85c\ub3c4 \ube44\uc2b7\ud55c \uc791\uc5c5\uc774 \uac00\ub2a5\ud558\uc9c0\ub9cc, \ub2e8\uc21c \ud328\ud0b9/\uc5b8\ud328\ud0b9 \uc791\uc5c5\ub9cc\uc744 \ubaa9\uc801\uc73c\ub85c \ud55c\ub2e4\uba74 \ud29c\ud50c \uc0ac\uc6a9 \ucd94\ucc9c"
     ]
    },
    {
     "cell_type": "code",
     "collapsed": false,
     "input": [
      "a = ['foo', 'bar', 4, 5]\n",
      "[x, y, z, w] = a"
     ],
     "language": "python",
     "metadata": {},
     "outputs": [],
     "prompt_number": 22
    },
    {
     "cell_type": "markdown",
     "metadata": {},
     "source": [
      "- \ud29c\ud50c\uacfc \ub9ac\uc2a4\ud2b8\uc640\uc758 \uacf5\ud1b5\uc810\n",
      "  - \uc6d0\uc18c\ub85c\uc11c \uc784\uc758\uc758 \uac1d\uccb4\ub97c \uc800\uc7a5\n",
      "  - \uc2dc\ud000\uc2a4 \uc790\ub8cc\ud615\n",
      "    - \uc778\ub371\uc2f1, \uc2ac\ub77c\uc774\uc2f1, \uc5f0\uacb0, \ubc18\ubcf5, \uba64\ubc84\uc27d \ud14c\uc2a4\ud2b8 \uc5f0\uc0b0 \uc9c0\uc6d0\n",
      "    \n",
      "- \ub9ac\uc2a4\ud2b8\uc640 \ub2e4\ub978 \ud29c\ud50c\ub9cc\uc758 \ud2b9\uc9d5\n",
      "  - \ubcc0\uacbd \ubd88\uac00\ub2a5 (Immutable)\n",
      "  - \uba54\uc18c\ub4dc\ub97c \uac00\uc9c0\uc9c0 \uc54a\ub294\ub2e4.\n",
      "\n",
      "- list() \uc640 tuple() \ub0b4\uc7a5 \ud568\uc218\ub97c \uc0ac\uc6a9\ud558\uc5ec \ub9ac\uc2a4\ud2b8\uc640 \ud29c\ud50c\uc744 \uc0c1\ud638 \ubcc0\ud658\ud560 \uc218 \uc788\uc74c"
     ]
    },
    {
     "cell_type": "code",
     "collapsed": false,
     "input": [
      "T = (1,2,3,4,5)\n",
      "L = list(T)\n",
      "L[0] = 100\n",
      "print L\n",
      "\n",
      "T = tuple(L)\n",
      "print T"
     ],
     "language": "python",
     "metadata": {},
     "outputs": [
      {
       "output_type": "stream",
       "stream": "stdout",
       "text": [
        "[100, 2, 3, 4, 5]\n",
        "(100, 2, 3, 4, 5)\n"
       ]
      }
     ],
     "prompt_number": 25
    },
    {
     "cell_type": "markdown",
     "metadata": {},
     "source": [
      "### 1-3 \ud29c\ud50c\uc758 \uc0ac\uc6a9 \uc6a9\ub3c4"
     ]
    },
    {
     "cell_type": "markdown",
     "metadata": {},
     "source": [
      "- \ud29c\ud50c\uc744 \uc0ac\uc6a9\ud558\ub294 \uacbd\uc6b0 1: \ud568\uc218\uac00 \ud558\ub098 \uc774\uc0c1\uc758 \uac12\uc744 \ub9ac\ud134\ud558\ub294 \uacbd\uc6b0"
     ]
    },
    {
     "cell_type": "code",
     "collapsed": false,
     "input": [
      "def calc(a, b):\n",
      "    return a+b, a*b\n",
      "\n",
      "x, y = calc(5, 4)"
     ],
     "language": "python",
     "metadata": {},
     "outputs": [],
     "prompt_number": 27
    },
    {
     "cell_type": "markdown",
     "metadata": {},
     "source": [
      "- \ud29c\ud50c\uc744 \uc0ac\uc6a9\ud558\ub294 \uacbd\uc6b0 2: \ubb38\uc790\uc5f4 \ud3ec\uba67\ud305"
     ]
    },
    {
     "cell_type": "code",
     "collapsed": false,
     "input": [
      "print 'id : %s, name : %s' % ('gslee', 'GangSeong')"
     ],
     "language": "python",
     "metadata": {},
     "outputs": [
      {
       "output_type": "stream",
       "stream": "stdout",
       "text": [
        "id : gslee, name : GangSeong\n"
       ]
      }
     ],
     "prompt_number": 28
    },
    {
     "cell_type": "markdown",
     "metadata": {},
     "source": [
      "- \ud29c\ud50c\uc744 \uc0ac\uc6a9\ud558\ub294 \uacbd\uc6b0 3: \ud568\uc218\uc5d0 \uc5ec\ub7ec \uc778\uc218\ub97c \ub118\uae30\ub294 \uacbd\uc6b0"
     ]
    },
    {
     "cell_type": "code",
     "collapsed": false,
     "input": [
      "def calc(a, b):\n",
      "    return a+b, a*b\n",
      "\n",
      "args = (4,5)\n",
      "calc(*args)"
     ],
     "language": "python",
     "metadata": {},
     "outputs": [
      {
       "metadata": {},
       "output_type": "pyout",
       "prompt_number": 24,
       "text": [
        "(9, 20)"
       ]
      }
     ],
     "prompt_number": 24
    },
    {
     "cell_type": "markdown",
     "metadata": {},
     "source": [
      "- \ud29c\ud50c\uc744 \uc0ac\uc6a9\ud558\ub294 \uacbd\uc6b0 4: \uace0\uc815\ub41c \uac12\uc744 \uc30d\uc73c\ub85c \ud45c\ud604\ud558\ub294 \uacbd\uc6b0"
     ]
    },
    {
     "cell_type": "code",
     "collapsed": false,
     "input": [
      "d = {'one':1, 'two':2}\n",
      "d.items()"
     ],
     "language": "python",
     "metadata": {},
     "outputs": [
      {
       "metadata": {},
       "output_type": "pyout",
       "prompt_number": 30,
       "text": [
        "[('two', 2), ('one', 1)]"
       ]
      }
     ],
     "prompt_number": 30
    },
    {
     "cell_type": "markdown",
     "metadata": {},
     "source": [
      "***\n",
      "## 2 \uc9d1\ud569 \uc790\ub8cc\ud615\n",
      "***\n",
      "- set\uc740 \ubcc0\uacbd \ubd88\uac00\ub2a5(Immutable)\ud55c \uc6d0\uc18c\ub4e4\uc744 \uc9c0\ub2c8\ub294 \ubcc0\uacbd \uac00\ub2a5(Mutable)\ud55c \uac1d\uccb4\uc774\ub2e4.\n",
      "  - \uac01 \uc6d0\uc18c\uac04\uc5d0 \uc21c\uc11c\ub294 \uc5c6\ub2e4.\n",
      "  - \uac01 \uc6d0\uc18c\ub294 \uc911\ubcf5\ub420 \uc218 \uc5c6\ub2e4."
     ]
    },
    {
     "cell_type": "markdown",
     "metadata": {},
     "source": [
      "### 2-1 \uc9d1\ud569 \uc790\ub8cc\ud615 \uc0dd\uc131"
     ]
    },
    {
     "cell_type": "code",
     "collapsed": false,
     "input": [
      "a = set([1, 2, 3])\n",
      "print type(a)\n",
      "print a\n",
      "print\n",
      "\n",
      "b=set((1, 2, 3))\n",
      "print type(b)\n",
      "print b\n",
      "print\n",
      "\n",
      "c=set({'a':1, 'b':2, 'c':3})\n",
      "print type(c)\n",
      "print c\n",
      "print\n",
      "\n",
      "d=set({'a':1, 'b':2, 'c':3}.values())\n",
      "print type(d)\n",
      "print d"
     ],
     "language": "python",
     "metadata": {},
     "outputs": [
      {
       "output_type": "stream",
       "stream": "stdout",
       "text": [
        "<type 'set'>\n",
        "set([1, 2, 3])\n",
        "\n",
        "<type 'set'>\n",
        "set([1, 2, 3])\n",
        "\n",
        "<type 'set'>\n",
        "set(['a', 'c', 'b'])\n",
        "\n",
        "<type 'set'>\n",
        "set([1, 2, 3])\n"
       ]
      }
     ],
     "prompt_number": 14
    },
    {
     "cell_type": "code",
     "collapsed": false,
     "input": [
      "print set()                  # \ube48 set \uac1d\uccb4 \uc0dd\uc131\n",
      "print set([1,2,3,4,5])       # \ucd08\uae30 \uac12\uc740 \uc77c\ubc18\uc801\uc73c\ub85c \uc2dc\ud000\uc2a4 \uc790\ub8cc\ud615\uc778 \ub9ac\uc2a4\ud2b8\ub97c \ub123\uc5b4\uc900\ub2e4.\n",
      "print set([1,2,3,2,3,4])     # \uc911\ubcf5\ub41c \uc6d0\uc18c\ub294 \ud55c \ubc88\ub9cc \ud45c\ud604\n",
      "print set('abc')             # \ubb38\uc790\uc5f4\uc740 \uac01 \ubb38\uc790\ub97c \uc9d1\ud569 \uc6d0\uc18c\ub85c \uc9c0\ub2cc\ub2e4.  \n",
      "print set([(1,2,3),(4,5,6)]) # \uac01 \ud29c\ud50c\uc740 \uc6d0\uc18c\ub85c \uac00\uc9c8 \uc218 \uc788\uc74c \n",
      "print set([[1,2,3],[4,5,6]]) # \ubcc0\uacbd \uac00\ub2a5 \uc790\ub8cc\uc778 \ub9ac\uc2a4\ud2b8\ub294 \uc9d1\ud569\uc758 \uc6d0\uc18c\uac00 \ub420 \uc218 \uc5c6\ub2e4."
     ],
     "language": "python",
     "metadata": {},
     "outputs": [
      {
       "output_type": "stream",
       "stream": "stdout",
       "text": [
        "set([])\n",
        "set([1, 2, 3, 4, 5])\n",
        "set([1, 2, 3, 4])\n",
        "set(['a', 'c', 'b'])\n",
        "set([(4, 5, 6), (1, 2, 3)])\n"
       ]
      },
      {
       "ename": "TypeError",
       "evalue": "unhashable type: 'list'",
       "output_type": "pyerr",
       "traceback": [
        "\u001b[0;31m---------------------------------------------------------------------------\u001b[0m\n\u001b[0;31mTypeError\u001b[0m                                 Traceback (most recent call last)",
        "\u001b[0;32m<ipython-input-1-7f19fe538c1f>\u001b[0m in \u001b[0;36m<module>\u001b[0;34m()\u001b[0m\n\u001b[1;32m      4\u001b[0m \u001b[0;32mprint\u001b[0m \u001b[0mset\u001b[0m\u001b[0;34m(\u001b[0m\u001b[0;34m'abc'\u001b[0m\u001b[0;34m)\u001b[0m             \u001b[0;31m# \ubb38\uc790\uc5f4\uc740 \uac01 \ubb38\uc790\ub97c \uc9d1\ud569 \uc6d0\uc18c\ub85c \uc9c0\ub2cc\ub2e4.\u001b[0m\u001b[0;34m\u001b[0m\u001b[0m\n\u001b[1;32m      5\u001b[0m \u001b[0;32mprint\u001b[0m \u001b[0mset\u001b[0m\u001b[0;34m(\u001b[0m\u001b[0;34m[\u001b[0m\u001b[0;34m(\u001b[0m\u001b[0;36m1\u001b[0m\u001b[0;34m,\u001b[0m\u001b[0;36m2\u001b[0m\u001b[0;34m,\u001b[0m\u001b[0;36m3\u001b[0m\u001b[0;34m)\u001b[0m\u001b[0;34m,\u001b[0m\u001b[0;34m(\u001b[0m\u001b[0;36m4\u001b[0m\u001b[0;34m,\u001b[0m\u001b[0;36m5\u001b[0m\u001b[0;34m,\u001b[0m\u001b[0;36m6\u001b[0m\u001b[0;34m)\u001b[0m\u001b[0;34m]\u001b[0m\u001b[0;34m)\u001b[0m \u001b[0;31m# \uac01 \ud29c\ud50c\uc740 \uc6d0\uc18c\ub85c \uac00\uc9c8 \uc218 \uc788\uc74c\u001b[0m\u001b[0;34m\u001b[0m\u001b[0m\n\u001b[0;32m----> 6\u001b[0;31m \u001b[0;32mprint\u001b[0m \u001b[0mset\u001b[0m\u001b[0;34m(\u001b[0m\u001b[0;34m[\u001b[0m\u001b[0;34m[\u001b[0m\u001b[0;36m1\u001b[0m\u001b[0;34m,\u001b[0m\u001b[0;36m2\u001b[0m\u001b[0;34m,\u001b[0m\u001b[0;36m3\u001b[0m\u001b[0;34m]\u001b[0m\u001b[0;34m,\u001b[0m\u001b[0;34m[\u001b[0m\u001b[0;36m4\u001b[0m\u001b[0;34m,\u001b[0m\u001b[0;36m5\u001b[0m\u001b[0;34m,\u001b[0m\u001b[0;36m6\u001b[0m\u001b[0;34m]\u001b[0m\u001b[0;34m]\u001b[0m\u001b[0;34m)\u001b[0m \u001b[0;31m# \ubcc0\uacbd \uac00\ub2a5 \uc790\ub8cc\uc778 \ub9ac\uc2a4\ud2b8\ub294 \uc9d1\ud569\uc758 \uc6d0\uc18c\uac00 \ub420 \uc218 \uc5c6\ub2e4.\u001b[0m\u001b[0;34m\u001b[0m\u001b[0m\n\u001b[0m",
        "\u001b[0;31mTypeError\u001b[0m: unhashable type: 'list'"
       ]
      }
     ],
     "prompt_number": 1
    },
    {
     "cell_type": "code",
     "collapsed": false,
     "input": [
      "print set(((1, 2), (1, 2)))   # \ub3d9\uc77c\ud55c \ub0b4\uc6a9\uc758 \ud29c\ud50c 2\uac1c\ub294 \uc9d1\ud569 \ub0b4\uc5d0 \ud55c \uac1c\uc758 \uc6d0\uc18c\ub85c \uc800\uc7a5\ub41c\ub2e4.\n",
      "print set([(1, 2), (1, 2)])"
     ],
     "language": "python",
     "metadata": {},
     "outputs": [
      {
       "output_type": "stream",
       "stream": "stdout",
       "text": [
        "set([(1, 2)])\n",
        "set([(1, 2)])\n"
       ]
      }
     ],
     "prompt_number": 21
    },
    {
     "cell_type": "markdown",
     "metadata": {},
     "source": [
      "- set\uc758 \uae30\ubcf8 \uc5f0\uc0b0 \uba54\uc18c\ub4dc\uc640 \uc5f0\uc0b0\uc790\n",
      "\n",
      "|          set \uc5f0\uc0b0         | \ub3d9\uc77c \uc5f0\uc0b0\uc790 | \ub0b4\uc6a9                        |\n",
      "|---------------------------|-------------|-----------------------------|\n",
      "| len(s)                    |             | \uc6d0\uc18c\uc758 \uac1c\uc218                 |\n",
      "| x in s                    |             | x\uac00 \uc9d1\ud569 s\uc758 \uc6d0\uc18c\uc778\uac00?      |\n",
      "| x not in s                |             | x\uac00 \uc9d1\ud569 s\uc758 \uc6d0\uc18c\uac00 \uc544\ub2cc\uac00? |\n",
      "| s.issubset(t)             | s <= t      | s\uac00 t\uc758 \ubd80\ubd84\uc9d1\ud569\uc778\uac00?       |\n",
      "| s.issuperset(t)           | s >= t      | s\uac00 t\uc758 \uc288\ud37c\uc9d1\ud569\uc778\uac00?       |\n",
      "| s.union(t)                | s &#124; t       | \uc0c8\ub85c\uc6b4 s\uc640 t\uc758 \ud569\uc9d1\ud569       |\n",
      "| s.intersection(t)         | s & t       | \uc0c8\ub85c\uc6b4 s\uc640 t\uc758 \uad50\uc9d1\ud569       |\n",
      "| s.difference(t)           | s - t       | \uc0c8\ub85c\uc6b4 s\uc640 t\uc758 \ucc28\uc9d1\ud569       |\n",
      "| s.symmetric_difference(t) | s ^ t       | \uc0c8\ub85c\uc6b4 s\uc640 t\uc758 \ubc30\ud0c0\uc9d1\ud569     |\n",
      "| s.copy()                  |             | \uc9d1\ud569 s\uc758 shallow \ubcf5\uc0ac      |"
     ]
    },
    {
     "cell_type": "code",
     "collapsed": false,
     "input": [
      "A = set([1,2,3,4,5,6,7,8,9])\n",
      "\n",
      "print len(A)      # \uc9d1\ud569\uc758 \uc6d0\uc18c\uc758 \uc218\n",
      "print 5 in A      # \uba64\ubc84\uc2ed \ud14c\uc2a4\ud2b8\n",
      "print 10 not in A # \uba64\ubc84\uc2ed \ud14c\uc2a4\ud2b8"
     ],
     "language": "python",
     "metadata": {},
     "outputs": [
      {
       "output_type": "stream",
       "stream": "stdout",
       "text": [
        "9\n",
        "True\n",
        "True\n"
       ]
      }
     ],
     "prompt_number": 34
    },
    {
     "cell_type": "markdown",
     "metadata": {},
     "source": [
      "### 2-2 \uc9d1\ud569 \uc790\ub8cc\ud615 \uba54\uc18c\ub4dc"
     ]
    },
    {
     "cell_type": "code",
     "collapsed": false,
     "input": [
      "B = set([4,5,6,10,20,30])\n",
      "C = set([10,20,30])\n",
      "\n",
      "print C.issubset(B)    # C\uac00 B\uc758 \ubd80\ubd84\uc9d1\ud569?\n",
      "print C <= B\n",
      "print B.issuperset(C)  # B\uac00 C\ub97c \ud3ec\ud568\ud558\ub294 \uc9d1\ud569?\n",
      "print B >= C\n",
      "print"
     ],
     "language": "python",
     "metadata": {},
     "outputs": [
      {
       "output_type": "stream",
       "stream": "stdout",
       "text": [
        "True\n",
        "True\n",
        "True\n",
        "True\n",
        "\n"
       ]
      }
     ],
     "prompt_number": 33
    },
    {
     "cell_type": "code",
     "collapsed": false,
     "input": [
      "A = set([1,2,3,4,5,6,7,8,9])\n",
      "B = set([4,5,6,10,20,30])\n",
      "\n",
      "print A.union(B) #A\uc640 B\uc758 \ud569\uc9d1\ud569\n",
      "print A|B\n",
      "print A\n",
      "print\n",
      "\n",
      "print A.intersection(B) #A\uc640 B\uc758 \uad50\uc9d1\ud569\n",
      "print A&B #A\uc640 B\uc758 \uad50\uc9d1\ud569\n",
      "print A\n",
      "print\n",
      "\n",
      "print A.difference(B) #A - B (\ucc28\uc9d1\ud569)\n",
      "print A-B #A - B (\ucc28\uc9d1\ud569)\n",
      "print A\n",
      "print\n",
      "\n",
      "print A.symmetric_difference(B) #\ubca0\ud0c0\uc9d1\ud569. A,B \ud569\uc9d1\ud569\uc5d0\uc11c \uad50\uc9d1\ud569\uc758 \uc6d0\uc18c\ub97c \uc81c\uc678\ud55c \uc9d1\ud569\n",
      "print A^B\n",
      "print A"
     ],
     "language": "python",
     "metadata": {},
     "outputs": [
      {
       "output_type": "stream",
       "stream": "stdout",
       "text": [
        "set([1, 2, 3, 4, 5, 6, 7, 8, 9, 10, 20, 30])\n",
        "set([1, 2, 3, 4, 5, 6, 7, 8, 9, 10, 20, 30])\n",
        "set([1, 2, 3, 4, 5, 6, 7, 8, 9])\n",
        "\n",
        "set([4, 5, 6])\n",
        "set([4, 5, 6])\n",
        "set([1, 2, 3, 4, 5, 6, 7, 8, 9])\n",
        "\n",
        "set([1, 2, 3, 7, 8, 9])\n",
        "set([1, 2, 3, 7, 8, 9])\n",
        "set([1, 2, 3, 4, 5, 6, 7, 8, 9])\n",
        "\n",
        "set([1, 2, 3, 7, 8, 9, 10, 20, 30])\n",
        "set([1, 2, 3, 7, 8, 9, 10, 20, 30])\n",
        "set([1, 2, 3, 4, 5, 6, 7, 8, 9])\n"
       ]
      }
     ],
     "prompt_number": 6
    },
    {
     "cell_type": "code",
     "collapsed": false,
     "input": [
      "A = set([1,2,3,4,5,6,7,8,9])\n",
      "D = A.copy()                # Shallow \ubcf5\uc0ac\n",
      "print D\n",
      "print\n",
      "\n",
      "print A == D #\uc790\ub8cc\uac12 \ube44\uad50\n",
      "print A is D #\uac1d\uccb4 \ub3d9\ub4f1\uc131 \ube44\uad50"
     ],
     "language": "python",
     "metadata": {},
     "outputs": [
      {
       "output_type": "stream",
       "stream": "stdout",
       "text": [
        "set([1, 2, 3, 4, 5, 6, 7, 8, 9])\n",
        "\n",
        "True\n",
        "False\n"
       ]
      }
     ],
     "prompt_number": 39
    },
    {
     "cell_type": "markdown",
     "metadata": {},
     "source": [
      "- set\uc740 \uc2dc\ud000\uc2a4 \uc790\ub8cc\ud615\uc774 \uc544\ub2c8\ubbc0\ub85c \uc778\ub371\uc2f1, \uc2ac\ub77c\uc774\uc2f1, \uc815\ub82c \ub4f1\uc744 \uc9c0\uc6d0\ud558\uc9c0 \uc54a\ub294\ub2e4. "
     ]
    },
    {
     "cell_type": "code",
     "collapsed": false,
     "input": [
      "A = set([1,2,3,4,5,6,7,8,9])\n",
      "print A[0]"
     ],
     "language": "python",
     "metadata": {},
     "outputs": [
      {
       "ename": "TypeError",
       "evalue": "'set' object does not support indexing",
       "output_type": "pyerr",
       "traceback": [
        "\u001b[0;31m---------------------------------------------------------------------------\u001b[0m\n\u001b[0;31mTypeError\u001b[0m                                 Traceback (most recent call last)",
        "\u001b[0;32m<ipython-input-9-a0fca37959a3>\u001b[0m in \u001b[0;36m<module>\u001b[0;34m()\u001b[0m\n\u001b[1;32m      1\u001b[0m \u001b[0mA\u001b[0m \u001b[0;34m=\u001b[0m \u001b[0mset\u001b[0m\u001b[0;34m(\u001b[0m\u001b[0;34m[\u001b[0m\u001b[0;36m1\u001b[0m\u001b[0;34m,\u001b[0m\u001b[0;36m2\u001b[0m\u001b[0;34m,\u001b[0m\u001b[0;36m3\u001b[0m\u001b[0;34m,\u001b[0m\u001b[0;36m4\u001b[0m\u001b[0;34m,\u001b[0m\u001b[0;36m5\u001b[0m\u001b[0;34m,\u001b[0m\u001b[0;36m6\u001b[0m\u001b[0;34m,\u001b[0m\u001b[0;36m7\u001b[0m\u001b[0;34m,\u001b[0m\u001b[0;36m8\u001b[0m\u001b[0;34m,\u001b[0m\u001b[0;36m9\u001b[0m\u001b[0;34m]\u001b[0m\u001b[0;34m)\u001b[0m\u001b[0;34m\u001b[0m\u001b[0m\n\u001b[0;32m----> 2\u001b[0;31m \u001b[0;32mprint\u001b[0m \u001b[0mA\u001b[0m\u001b[0;34m[\u001b[0m\u001b[0;36m0\u001b[0m\u001b[0;34m]\u001b[0m\u001b[0;34m\u001b[0m\u001b[0m\n\u001b[0m",
        "\u001b[0;31mTypeError\u001b[0m: 'set' object does not support indexing"
       ]
      }
     ],
     "prompt_number": 9
    },
    {
     "cell_type": "code",
     "collapsed": false,
     "input": [
      "print A[1:4]"
     ],
     "language": "python",
     "metadata": {},
     "outputs": [
      {
       "ename": "TypeError",
       "evalue": "'set' object has no attribute '__getitem__'",
       "output_type": "pyerr",
       "traceback": [
        "\u001b[0;31m---------------------------------------------------------------------------\u001b[0m\n\u001b[0;31mTypeError\u001b[0m                                 Traceback (most recent call last)",
        "\u001b[0;32m<ipython-input-13-795e14598526>\u001b[0m in \u001b[0;36m<module>\u001b[0;34m()\u001b[0m\n\u001b[0;32m----> 1\u001b[0;31m \u001b[0;32mprint\u001b[0m \u001b[0mA\u001b[0m\u001b[0;34m[\u001b[0m\u001b[0;36m1\u001b[0m\u001b[0;34m:\u001b[0m\u001b[0;36m4\u001b[0m\u001b[0;34m]\u001b[0m\u001b[0;34m\u001b[0m\u001b[0m\n\u001b[0m",
        "\u001b[0;31mTypeError\u001b[0m: 'set' object has no attribute '__getitem__'"
       ]
      }
     ],
     "prompt_number": 13
    },
    {
     "cell_type": "code",
     "collapsed": false,
     "input": [
      "print A.sort()"
     ],
     "language": "python",
     "metadata": {},
     "outputs": [
      {
       "ename": "AttributeError",
       "evalue": "'set' object has no attribute 'sort'",
       "output_type": "pyerr",
       "traceback": [
        "\u001b[0;31m---------------------------------------------------------------------------\u001b[0m\n\u001b[0;31mAttributeError\u001b[0m                            Traceback (most recent call last)",
        "\u001b[0;32m<ipython-input-11-9fbe6777337f>\u001b[0m in \u001b[0;36m<module>\u001b[0;34m()\u001b[0m\n\u001b[0;32m----> 1\u001b[0;31m \u001b[0;32mprint\u001b[0m \u001b[0mA\u001b[0m\u001b[0;34m.\u001b[0m\u001b[0msort\u001b[0m\u001b[0;34m(\u001b[0m\u001b[0;34m)\u001b[0m\u001b[0;34m\u001b[0m\u001b[0m\n\u001b[0m",
        "\u001b[0;31mAttributeError\u001b[0m: 'set' object has no attribute 'sort'"
       ]
      }
     ],
     "prompt_number": 11
    },
    {
     "cell_type": "markdown",
     "metadata": {},
     "source": [
      "- \uc9d1\ud569\uc744 \ub9ac\uc2a4\ud2b8\ub098 \ud29c\ud50c\ub85c \ubcc0\uacbd\uac00\ub2a5\n",
      "  - \uc9d1\ud569\uc5d0 \uc778\ub371\uc2f1, \uc2ac\ub77c\uc774\uc2f1, \uc815\ub82c \ub4f1\uc744 \uc801\uc6a9\ud558\uae30 \uc704\ud574\uc11c\ub294 \ub9ac\uc2a4\ud2b8\ub098 \ud29c\ud50c\ub85c \ubcc0\uacbd\ud55c\ub2e4."
     ]
    },
    {
     "cell_type": "code",
     "collapsed": false,
     "input": [
      "print list(A)\n",
      "print tuple(A)"
     ],
     "language": "python",
     "metadata": {},
     "outputs": [
      {
       "output_type": "stream",
       "stream": "stdout",
       "text": [
        "[1, 2, 3, 4, 5, 6, 7, 8, 9]\n",
        "(1, 2, 3, 4, 5, 6, 7, 8, 9)\n"
       ]
      }
     ],
     "prompt_number": 14
    },
    {
     "cell_type": "markdown",
     "metadata": {},
     "source": [
      "- \ud558\uc9c0\ub9cc \uc9d1\ud569\uc5d0 for ~ in \uc5f0\uc0b0\uc740 \uc801\uc6a9 \uac00\ub2a5\ud558\ub2e4."
     ]
    },
    {
     "cell_type": "code",
     "collapsed": false,
     "input": [
      "A = set([1,2,3,4,5,6,7,8,9])\n",
      "for ele in A:\n",
      "    print ele,"
     ],
     "language": "python",
     "metadata": {},
     "outputs": [
      {
       "output_type": "stream",
       "stream": "stdout",
       "text": [
        "1 2 3 4 5 6 7 8 9\n"
       ]
      }
     ],
     "prompt_number": 15
    },
    {
     "cell_type": "markdown",
     "metadata": {},
     "source": [
      "- set\uc740 \ubcc0\uacbd \uac00\ub2a5(Mutable)\ud55c \uc790\ub8cc \uad6c\uc870 \uac1d\uccb4 \n",
      "- \ub2e4\uc74c \uba54\uc18c\ub4dc\ub4e4\uc740 set\uc744 \ubcc0\uacbd\ud558\ub294 \uc9d1\ud569 \uc790\ub8cc \uad6c\uc870 \uba54\uc18c\ub4dc\ub4e4\uc784\n",
      "\n",
      "|          set \uc5f0\uc0b0         | \ub3d9\uc77c \uc5f0\uc0b0\uc790 | \ub0b4\uc6a9                        |\n",
      "|---------------------------|-------------|-----------------------------|\n",
      "| s.update(t)               | s &#124;= t      | s\uc640 t\uc758 \ud569\uc9d1\ud569\uc744 s\uc5d0 \uc800\uc7a5      |\n",
      "| s.intersection_update(t)  | s &= t      | s\uc640 t\uc758 \uad50\uc9d1\ud569\uc744 s\uc5d0 \uc800\uc7a5      |\n",
      "| s.difference_update(t)    | s -= t      | s\uc640 t\uc758 \ucc28\uc9d1\ud569\uc744 s\uc5d0 \uc800\uc7a5      |\n",
      "| s.symmetric_difference_update(t)| s ^= t  | s\uc640 t\uc758 \ubc30\ud0c0\uc9d1\ud569\uc744 s\uc5d0 \uc800\uc7a5     |\n",
      "| s.add(x)                  |             | \uc6d0\uc18c x\ub97c \uc9d1\ud569 s\uc5d0 \ucd94\uac00      |\n",
      "| s.remove(x)               |             | \uc6d0\uc18c x\ub97c \uc9d1\ud569 s\uc5d0\uc11c \uc81c\uac70, \uc6d0\uc18c x\uac00 \uc9d1\ud569 s\uc5d0 \uc5c6\uc73c\uba74 \uc608\uc678 \ubc1c\uc0dd       |\n",
      "| s.discard(x)              |             | \uc6d0\uc18c x\ub97c \uc9d1\ud569 s\uc5d0\uc11c \uc81c\uac70       |\n",
      "| s.pop()                   |             | \uc784\uc758\uc758 \uc6d0\uc18c\ub97c \uc9d1\ud569 s\uc5d0\uc11c \uc81c\uac70, \uc9d1\ud569 s\uac00 \uacf5\uc9d1\ud569\uc774\uba74 \uc608\uc678 \ubc1c\uc0dd       |\n",
      "| s.clear()                 |             | \uc9d1\ud569 s\uc758 \ubaa8\ub4e0 \uc6d0\uc18c \uc81c\uac70     |"
     ]
    },
    {
     "cell_type": "code",
     "collapsed": false,
     "input": [
      "A = set([1,2,3,4])\n",
      "B = set([3,4,5,6])\n",
      "\n",
      "A.update(B) # A\uc5d0 B \uc9d1\ud569\uc758 \uc6d0\uc18c\ub97c \ucd94\uac00 \uc2dc\ud0b4\n",
      "print A\n",
      "\n",
      "A.intersection_update([4,5,6,7,8])     # &=\n",
      "print A\n",
      "\n",
      "A.difference_update([6,7,8])           # -=\n",
      "print A\n",
      "\n",
      "A.symmetric_difference_update([5,6,7]) # ^=\n",
      "print A\n",
      "\n",
      "A.add(8)    # \uc6d0\uc18c \ucd94\uac00\n",
      "print A\n",
      "\n",
      "A.remove(8) # \uc6d0\uc18c \uc81c\uac70\n",
      "print A"
     ],
     "language": "python",
     "metadata": {},
     "outputs": [
      {
       "output_type": "stream",
       "stream": "stdout",
       "text": [
        "set([1, 2, 3, 4, 5, 6])\n",
        "set([4, 5, 6])\n",
        "set([4, 5])\n",
        "set([4, 6, 7])\n",
        "set([8, 4, 6, 7])\n",
        "set([4, 6, 7])\n"
       ]
      }
     ],
     "prompt_number": 40
    },
    {
     "cell_type": "code",
     "collapsed": false,
     "input": [
      "A.remove(10) #\uc5c6\ub294 \uc6d0\uc18c\ub97c \uc81c\uac70\ud558\uba74 KeyError \ubc1c\uc0dd"
     ],
     "language": "python",
     "metadata": {},
     "outputs": [
      {
       "ename": "KeyError",
       "evalue": "10",
       "output_type": "pyerr",
       "traceback": [
        "\u001b[0;31m---------------------------------------------------------------------------\u001b[0m\n\u001b[0;31mKeyError\u001b[0m                                  Traceback (most recent call last)",
        "\u001b[0;32m<ipython-input-21-1bcb28846ad3>\u001b[0m in \u001b[0;36m<module>\u001b[0;34m()\u001b[0m\n\u001b[0;32m----> 1\u001b[0;31m \u001b[0mA\u001b[0m\u001b[0;34m.\u001b[0m\u001b[0mremove\u001b[0m\u001b[0;34m(\u001b[0m\u001b[0;36m10\u001b[0m\u001b[0;34m)\u001b[0m \u001b[0;31m#\uc5c6\ub294 \uc6d0\uc18c\ub97c \uc81c\uac70\ud558\uba74 KeyError \ubc1c\uc0dd\u001b[0m\u001b[0;34m\u001b[0m\u001b[0m\n\u001b[0m",
        "\u001b[0;31mKeyError\u001b[0m: 10"
       ]
      }
     ],
     "prompt_number": 21
    },
    {
     "cell_type": "code",
     "collapsed": false,
     "input": [
      "A.discard(10) #remove\uc640 \uac19\uc73c\ub098 \uc608\uc678\uac00 \ubc1c\uc0dd\ud558\uc9c0 \uc54a\uc74c\n",
      "A.discard(6) #\uc6d0\uc18c 6\uc81c\uac70\n",
      "print A\n",
      "\n",
      "A.pop() #\uc784\uc758\uc758 \uc6d0\uc18c \ud558\ub098 \uaebc\ub0b4\uae30\n",
      "print A \n",
      "\n",
      "A = set([1,2,3,4])\n",
      "A.clear() #\uc6d0\uc18c\ub4e4 \uc5c6\uc560\uae30\n",
      "print A"
     ],
     "language": "python",
     "metadata": {},
     "outputs": [
      {
       "output_type": "stream",
       "stream": "stdout",
       "text": [
        "set([4, 7])\n",
        "set([7])\n",
        "set([])\n"
       ]
      }
     ],
     "prompt_number": 41
    },
    {
     "cell_type": "markdown",
     "metadata": {},
     "source": [
      "<p style='text-align: right;'>\ucc38\uace0 \ubb38\ud5cc: \ud30c\uc774\uc36c(\uc5f4\ud608\uac15\uc758)(\uac1c\uc815\ud310 VER.2), \uc774\uac15\uc131, FreeLec, 2005\ub144 8\uc6d4 29\uc77c</p>"
     ]
    }
   ],
   "metadata": {}
  }
 ]
}