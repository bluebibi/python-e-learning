{
 "metadata": {
  "name": "",
  "signature": "sha256:de26fbd7be3e264327f6cd6dd40873e380cb1ef04ba39f5712110705d7fba5af"
 },
 "nbformat": 3,
 "nbformat_minor": 0,
 "worksheets": [
  {
   "cells": [
    {
     "cell_type": "markdown",
     "metadata": {},
     "source": [
      "***\n",
      "***\n",
      "# 8. \ub9ac\uc2a4\ud2b8\uc758 \ud65c\uc6a9\n",
      "***\n",
      "***"
     ]
    },
    {
     "cell_type": "markdown",
     "metadata": {},
     "source": [
      "***\n",
      "## 1 \ub9ac\uc2a4\ud2b8 \uc815\ub82c\ud558\uae30\n",
      "***"
     ]
    },
    {
     "cell_type": "markdown",
     "metadata": {},
     "source": [
      "### 1-1 \ub9ac\uc2a4\ud2b8\uc758 sort \uba54\uc18c\ub4dc"
     ]
    },
    {
     "cell_type": "code",
     "collapsed": false,
     "input": [
      "L = [1, 5, 3, 9, 8, 4, 2]\n",
      "L.sort()\n",
      "L"
     ],
     "language": "python",
     "metadata": {},
     "outputs": [
      {
       "metadata": {},
       "output_type": "pyout",
       "prompt_number": 44,
       "text": [
        "[1, 2, 3, 4, 5, 8, 9]"
       ]
      }
     ],
     "prompt_number": 44
    },
    {
     "cell_type": "markdown",
     "metadata": {},
     "source": [
      "- \ud30c\uc774\uc36c\uc740 \ub514\ud3f4\ud2b8\ub85c cmp(a, b) \ub0b4\uc7a5 \ud568\uc218\ub97c \uc774\uc6a9\ud558\uc5ec \uc815\ub82c \ubc29\uc2dd\uc744 \uacb0\uc815\ud55c\ub2e4.\n",
      "- cmp(a, b)\n",
      "  - if a < b: return -1\n",
      "  - if a > b: return 1\n",
      "  - if a == b: return 0"
     ]
    },
    {
     "cell_type": "code",
     "collapsed": false,
     "input": [
      "print cmp(1,2)\n",
      "\n",
      "print cmp(5,2)\n",
      "\n",
      "print cmp('abc', 'abc')"
     ],
     "language": "python",
     "metadata": {},
     "outputs": [
      {
       "output_type": "stream",
       "stream": "stdout",
       "text": [
        "-1\n",
        "1\n",
        "0\n"
       ]
      }
     ],
     "prompt_number": 45
    },
    {
     "cell_type": "markdown",
     "metadata": {},
     "source": [
      "- \uae30\ubcf8 \uc815\ub82c \ubc29\uc2dd\uc744 \ubcc0\uacbd\ud558\ub824\uba74 cmp(a, b)\uc640 \uac19\uc740 \ube44\uad50 \ud568\uc218\ub97c \uc9c1\uc811 \ub9cc\ub4e4\uc5b4\uc11c sort() \ud568\uc218\uc758 \uc778\uc790\ub85c \ub123\ub294\ub2e4."
     ]
    },
    {
     "cell_type": "code",
     "collapsed": false,
     "input": [
      "def mycmp(a1, a2):      # \ub300\uc18c\uad00\uacc4\uc5d0 \ub530\ub978 \uc21c\uc11c\ub97c \ubc18\ub300\ub85c \ubc14\uafb8\uc5c8\uc74c\n",
      "    return cmp(a2, a1)\n",
      "\n",
      "L = [1, 5, 3, 2, 4, 6]\n",
      "L.sort(mycmp)           # \uc5ed\uc21c\uc73c\ub85c \uc815\ub82c\n",
      "print L"
     ],
     "language": "python",
     "metadata": {},
     "outputs": [
      {
       "output_type": "stream",
       "stream": "stdout",
       "text": [
        "[6, 5, 4, 3, 2, 1]\n"
       ]
      }
     ],
     "prompt_number": 14
    },
    {
     "cell_type": "markdown",
     "metadata": {},
     "source": [
      "- \uc5ec\ub7ec \ud29c\ud50c\uc744 \uc694\uc18c\ub85c \uc9c0\ub2cc \ub9ac\uc2a4\ud2b8\uc778 \uacbd\uc6b0, \ud29c\ud50c\uc758 \uccab\ubc88\uc9f8 \uac12\uc774 \uc544\ub2cc \ub2e4\ub978 \uc704\uce58\uc5d0 \uc788\ub294 \uac12\uc744 \uae30\uc900\uc73c\ub85c \uc815\ub82c "
     ]
    },
    {
     "cell_type": "code",
     "collapsed": false,
     "input": [
      "def cmp_1(a1, a2):\n",
      "    return cmp(a1[1], a2[1])\n",
      "\n",
      "def cmp_2(a1, a2):\n",
      "    return cmp(a1[2], a2[2])\n",
      "\n",
      "L = [ ('lee', 5, 38), ('kim', 3, 28), ('jung', 10, 36)]\n",
      "L.sort()\n",
      "print 'sorted by name:', L\n",
      "\n",
      "L.sort(cmp_1)\n",
      "print 'sorted by experience:', L\n",
      "\n",
      "L.sort(cmp_2)\n",
      "print 'sorted by age:', L"
     ],
     "language": "python",
     "metadata": {},
     "outputs": [
      {
       "output_type": "stream",
       "stream": "stdout",
       "text": [
        "sorted by name: [('jung', 10, 36), ('kim', 3, 28), ('lee', 5, 38)]\n",
        "sorted by experience: [('kim', 3, 28), ('lee', 5, 38), ('jung', 10, 36)]\n",
        "sorted by age: [('kim', 3, 28), ('jung', 10, 36), ('lee', 5, 38)]\n"
       ]
      }
     ],
     "prompt_number": 49
    },
    {
     "cell_type": "markdown",
     "metadata": {},
     "source": [
      "- Python 2.4 \ubd80\ud130\ub294 sort() \ud568\uc218 \uc778\uc790\ub85c reverse \uac12\uc744 \ubc1b\uc744 \uc218 \uc788\ub3c4\ub85d \uc218\uc815\ub418\uc5c8\ub2e4.\n",
      "  - reverse \uc778\uc790\uac12\uc744 True\ub85c \uc8fc\uba74 \uc5ed\uc21c\uc73c\ub85c \uc815\ub82c\ub428"
     ]
    },
    {
     "cell_type": "code",
     "collapsed": false,
     "input": [
      "L = [1, 6, 3, 8, 6, 2, 9]\n",
      "L.sort(reverse = True)\n",
      "L"
     ],
     "language": "python",
     "metadata": {},
     "outputs": [
      {
       "metadata": {},
       "output_type": "pyout",
       "prompt_number": 56,
       "text": [
        "[9, 8, 6, 6, 3, 2, 1]"
       ]
      }
     ],
     "prompt_number": 56
    },
    {
     "cell_type": "markdown",
     "metadata": {},
     "source": [
      "- sort() \ud568\uc218 \uc778\uc790\ub85c key\uc5d0 \ud568\uc218\ub97c \ub123\uc5b4\uc904 \uc218 \uc788\ub2e4.\n",
      "  - \uac01 \ub9ac\uc2a4\ud2b8 \uc6d0\uc18c\uc5d0 \ub300\ud574 \ube44\uad50\ud568\uc218\ub97c \ud638\ucd9c \uc9c1\uc804\uc5d0 key \ud568\uc218\ub97c \uba3c\uc800 \ud638\ucd9c\ud55c\ub2e4.  "
     ]
    },
    {
     "cell_type": "code",
     "collapsed": false,
     "input": [
      "L = ['123', '34', '56', '2345']\n",
      "L.sort()\n",
      "print L\n",
      "\n",
      "L.sort(key=int)\n",
      "print L"
     ],
     "language": "python",
     "metadata": {},
     "outputs": [
      {
       "output_type": "stream",
       "stream": "stdout",
       "text": [
        "['123', '2345', '34', '56']\n",
        "['34', '56', '123', '2345']\n"
       ]
      }
     ],
     "prompt_number": 51
    },
    {
     "cell_type": "markdown",
     "metadata": {},
     "source": [
      "### 1-2 sorted \ub0b4\uc7a5 \ud568\uc218\n",
      "- L.sort() \ud568\uc218\ub294 \ub9ac\ud134\uac12\uc744 \ubc18\ud658\ud558\uc9c0 \uc54a\ub294\ub2e4.\n",
      "  - \uc989, L \uc790\uccb4\ub97c \uc815\ub82c\ud558\uc5ec \ubcc0\uacbd\ud55c\ub2e4."
     ]
    },
    {
     "cell_type": "code",
     "collapsed": false,
     "input": [
      "L = [1, 6, 3, 8, 6, 2, 9]\n",
      "newList = L.sort()\n",
      "print newList\n",
      "print L"
     ],
     "language": "python",
     "metadata": {},
     "outputs": [
      {
       "output_type": "stream",
       "stream": "stdout",
       "text": [
        "None\n",
        "[1, 2, 3, 6, 6, 8, 9]\n"
       ]
      }
     ],
     "prompt_number": 19
    },
    {
     "cell_type": "markdown",
     "metadata": {},
     "source": [
      "- sorted() \ub0b4\uc7a5\ud568\uc218\ub294 L \uc790\uccb4\uc5d0\ub294 \ub0b4\uc6a9 \ubcc0\uacbd \uc5c6\uc774 \uc815\ub82c\uc774 \ub418\uc5b4\uc9c4 \uc0c8\ub85c\uc6b4 \ub9ac\uc2a4\ud2b8\ub97c \ubc18\ud658\ud55c\ub2e4."
     ]
    },
    {
     "cell_type": "code",
     "collapsed": false,
     "input": [
      "L = [1, 6, 3, 8, 6, 2, 9]\n",
      "newList = sorted(L)\n",
      "print newList\n",
      "print L"
     ],
     "language": "python",
     "metadata": {},
     "outputs": [
      {
       "output_type": "stream",
       "stream": "stdout",
       "text": [
        "[1, 2, 3, 6, 6, 8, 9]\n",
        "[1, 6, 3, 8, 6, 2, 9]\n"
       ]
      }
     ],
     "prompt_number": 15
    },
    {
     "cell_type": "code",
     "collapsed": false,
     "input": [
      "for ele in sorted(L):\n",
      "    print ele,"
     ],
     "language": "python",
     "metadata": {},
     "outputs": [
      {
       "output_type": "stream",
       "stream": "stdout",
       "text": [
        "1 2 3 6 6 8 9\n"
       ]
      }
     ],
     "prompt_number": 55
    },
    {
     "cell_type": "markdown",
     "metadata": {},
     "source": [
      "- sorted() \ud568\uc218\uc758 \ub450\ubc88\uc9f8 \uc778\uc790\ub85c cmp \ud568\uc218 \uc9c0\uc815 \uac00\ub2a5"
     ]
    },
    {
     "cell_type": "code",
     "collapsed": false,
     "input": [
      "def mycmp(a1, a2):      # \ub300\uc18c\uad00\uacc4\uc5d0 \ub530\ub978 \uc21c\uc11c\ub97c \ubc18\ub300\ub85c \ubc14\uafb8\uc5c8\uc74c\n",
      "    return cmp(a2, a1)\n",
      "\n",
      "L = [1, 5, 3, 2, 4, 6]\n",
      "print sorted(L, mycmp)  # \uc5ed\uc21c\uc73c\ub85c \uc815\ub82c\n",
      "print L"
     ],
     "language": "python",
     "metadata": {},
     "outputs": [
      {
       "output_type": "stream",
       "stream": "stdout",
       "text": [
        "[6, 5, 4, 3, 2, 1]\n",
        "[1, 5, 3, 2, 4, 6]\n"
       ]
      }
     ],
     "prompt_number": 10
    },
    {
     "cell_type": "markdown",
     "metadata": {},
     "source": [
      "- \uc778\uc790\ub85c reverse\uc640 key \uc9c0\uc815 \uac00\ub2a5"
     ]
    },
    {
     "cell_type": "code",
     "collapsed": false,
     "input": [
      "L = [1, 6, 3, 8, 6, 2, 9]\n",
      "print sorted(L, reverse=True)\n",
      "\n",
      "L = ['123', '34', '56', '2345']\n",
      "print sorted(L, key=int)"
     ],
     "language": "python",
     "metadata": {},
     "outputs": [
      {
       "output_type": "stream",
       "stream": "stdout",
       "text": [
        "[9, 8, 6, 6, 3, 2, 1]\n",
        "['34', '56', '123', '2345']\n"
       ]
      }
     ],
     "prompt_number": 9
    },
    {
     "cell_type": "markdown",
     "metadata": {},
     "source": [
      "### 1-3 reversed \ub0b4\uc7a5 \ud568\uc218\n",
      "- L.reverse()\ub3c4 \ubc18\ud658\uac12\uc774 \uc5c6\ub2e4.\n",
      "  - \uc989, L \uc790\uccb4\ub97c \uc5ed\uc21c\uc73c\ub85c \ub4a4\uc9d1\ub294\ub2e4.\n",
      "  - [\uc8fc\uc758] \uc5ed\uc21c \uc815\ub82c\uc774 \uc544\ub2c8\ub2e4."
     ]
    },
    {
     "cell_type": "code",
     "collapsed": false,
     "input": [
      "L = [1, 6, 3, 8, 6, 2, 9]\n",
      "r = L.reverse()\n",
      "print r\n",
      "print L"
     ],
     "language": "python",
     "metadata": {},
     "outputs": [
      {
       "output_type": "stream",
       "stream": "stdout",
       "text": [
        "None\n",
        "[9, 2, 6, 8, 3, 6, 1]\n"
       ]
      }
     ],
     "prompt_number": 18
    },
    {
     "cell_type": "code",
     "collapsed": false,
     "input": [
      "L = [1, 6, 3, 8, 6, 2, 9]\n",
      "L.reverse()       # \uc5ed\uc21c\uc73c\ub85c \ub4a4\uc9d1\ub294\ub2e4.\n",
      "for ele in L:\n",
      "  print ele + 2,\n",
      "\n",
      "print\n",
      "L.reverse()       # \ub2e4\uc2dc \uc6d0\uc0c1\ud0dc\ub85c \ubcf5\uadc0\uc2dc\ud0a8\ub2e4.\n",
      "print L"
     ],
     "language": "python",
     "metadata": {},
     "outputs": [
      {
       "output_type": "stream",
       "stream": "stdout",
       "text": [
        "11 4 8 10 5 8 3\n",
        "[1, 6, 3, 8, 6, 2, 9]\n"
       ]
      }
     ],
     "prompt_number": 27
    },
    {
     "cell_type": "markdown",
     "metadata": {},
     "source": [
      "- reversed() \ub0b4\uc7a5\ud568\uc218\ub294 sorted() \ucc98\ub7fc \ub0b4\uc6a9\uc774 \ub4a4\uc9d1\ud78c \ub9ac\uc2a4\ud2b8\ub97c \ubc18\ud658\ud55c\ub2e4.\n",
      "  - sorted() \ucc98\ub7fc \uc6d0\ub798 \ub9ac\uc2a4\ud2b8 \ub0b4\uc6a9\uc5d0\ub294 \ubcc0\ud568\uc5c6\ub2e4."
     ]
    },
    {
     "cell_type": "code",
     "collapsed": false,
     "input": [
      "L = [1, 6, 3, 8, 6, 2, 9]\n",
      "print L\n",
      "for ele in reversed(L):\n",
      "    print ele + 2, \n",
      "print\n",
      "print L"
     ],
     "language": "python",
     "metadata": {},
     "outputs": [
      {
       "output_type": "stream",
       "stream": "stdout",
       "text": [
        "[1, 6, 3, 8, 6, 2, 9]\n",
        "11 4 8 10 5 8 3\n",
        "[1, 6, 3, 8, 6, 2, 9]\n"
       ]
      }
     ],
     "prompt_number": 31
    },
    {
     "cell_type": "markdown",
     "metadata": {},
     "source": [
      "***\n",
      "## 2 \ub9ac\uc2a4\ud2b8 \ub0b4\ud3ec(List Comprehension)\n",
      "***\n",
      "- \ub9ac\uc2a4\ud2b8 \ub0b4\ud3ec\ub294 \ud568\uc218\uc801 \ud504\ub85c\uadf8\ub798\ubc0d \uc5b8\uc5b4\uc778 Haskell (http://www.haskell.org )\uc5d0\uc11c \uadf8 \ud615\uc2dd\uc744 \ub530\uc628 \uac83 "
     ]
    },
    {
     "cell_type": "code",
     "collapsed": false,
     "input": [
      "L = []\n",
      "for k in range(10):\n",
      "    L.append(k*k)\n",
      "    \n",
      "print L"
     ],
     "language": "python",
     "metadata": {},
     "outputs": [
      {
       "output_type": "stream",
       "stream": "stdout",
       "text": [
        "[0, 1, 4, 9, 16, 25, 36, 49, 64, 81]\n"
       ]
      }
     ],
     "prompt_number": 74
    },
    {
     "cell_type": "markdown",
     "metadata": {},
     "source": [
      "- \uc704 \ucf54\ub529\uc740 \ub9ac\uc2a4\ud2b8 \ub0b4\ud3ec \ub9ac\ud130\ub7f4 \ubc29\uc2dd\uc744 \ud65c\uc6a9\ud574\uc11c \uc544\ub798\uc640 \uac19\uc774 \ubcc0\uacbd\ud560 \uc218 \uc788\ub2e4."
     ]
    },
    {
     "cell_type": "code",
     "collapsed": false,
     "input": [
      "L = [k * k for k in range(10)]\n",
      "print L"
     ],
     "language": "python",
     "metadata": {},
     "outputs": [
      {
       "output_type": "stream",
       "stream": "stdout",
       "text": [
        "[0, 1, 4, 9, 16, 25, 36, 49, 64, 81]\n"
       ]
      }
     ],
     "prompt_number": 32
    },
    {
     "cell_type": "markdown",
     "metadata": {},
     "source": [
      "- \ub9ac\uc2a4\ud2b8 \ub0b4\ud3ec \ub9ac\ud130\ub7f4\n",
      "<pre>\n",
      "[expression for expr1 in sequence1\n",
      "              for expr2 in sequence2 \n",
      "              ...\n",
      "              for exprN in sequenceN\n",
      "              if condition]\n",
      "</pre>\n",
      "- expression\uc758 \ud3c9\uac00 \uacb0\uacfc \ubc18\ub4dc\uc2dc \ud55c \uac1c\uc758 \uc6d0\uc18c\uac00 \ub098\uc640\uc57c \ud55c\ub2e4.\n",
      "  - \ud2c0\ub9b0 \uc608: [ x, y for x in seq1 for u in seq2 ]\n",
      "- \ub9cc\uc57d \ub450 \uac1c\uc758 \uc774\uc0c1\uc758 \ud3c9\uac00 \uacb0\uacfc\uac00 \ub098\uc624\uba74 \ud29c\ud50c \ub4f1\uc73c\ub85c \uac10\uc2f8 \uc8fc\uc5b4\uc57c \ud55c\ub2e4.\n",
      "  - \uc62c\ubc14\ub978 \uc608: [ (x, y) for x in seq1 for u in seq2 ]\n",
      "- \uc704 \ub9ac\ud130\ub7f4\uc740 \ub2e4\uc74c\uc758 \uc77c\ubc18\uc801\uc778 for \ubb38\uc758 \ub9ac\ud138\ub7ec\uacfc \ub3d9\uc77c\n",
      "<pre>\n",
      "l = []\n",
      "for expr1 in sequence1:\n",
      "   for expr2 in sequence2:\n",
      "      ...\n",
      "         for exprtN in sequenceN:\n",
      "            if condition:\n",
      "               l.append(expression)\n",
      "</pre>\n",
      "               "
     ]
    },
    {
     "cell_type": "code",
     "collapsed": false,
     "input": [
      "L = [k * k for k in range(10) if k % 2]   # \ud640\uc218\uc758 \uc81c\uacf1\ub9cc \ub9ac\uc2a4\ud2b8\ub85c \ud615\uc131\n",
      "print L"
     ],
     "language": "python",
     "metadata": {},
     "outputs": [
      {
       "output_type": "stream",
       "stream": "stdout",
       "text": [
        "[1, 9, 25, 49, 81]\n"
       ]
      }
     ],
     "prompt_number": 11
    },
    {
     "cell_type": "code",
     "collapsed": false,
     "input": [
      "L = []\n",
      "for k in range(10):\n",
      "    if k%2:\n",
      "        L.append(k*k)\n",
      "print L"
     ],
     "language": "python",
     "metadata": {},
     "outputs": [
      {
       "output_type": "stream",
       "stream": "stdout",
       "text": [
        "[1, 9, 25, 49, 81]\n"
       ]
      }
     ],
     "prompt_number": 2
    },
    {
     "cell_type": "markdown",
     "metadata": {},
     "source": [
      "- 20\ubcf4\ub2e4 \uc791\uc740 2\uc758 \ubc30\uc218\uc640 3\uc758 \ubc30\uc218\uc5d0 \ub300\ud574 \uadf8 \ub450 \uc218\uc758 \ud569\uc774 7\uc758 \ubc30\uc218\uc778 \uac83\ub4e4\uc5d0 \ub300\ud574 \uadf8 \ub450 \uc218\uc758 \uacf1\uc744 \ucd9c\ub825\ud558\ub294 \ucf54\ub4dc"
     ]
    },
    {
     "cell_type": "code",
     "collapsed": false,
     "input": [
      "[(i, j, i*j) for i in range(2, 20, 2)\n",
      "             for j in range(3, 20, 3)\n",
      "             if (i + j) % 7 == 0]\n"
     ],
     "language": "python",
     "metadata": {},
     "outputs": [
      {
       "metadata": {},
       "output_type": "pyout",
       "prompt_number": 3,
       "text": [
        "[(2, 12, 24),\n",
        " (4, 3, 12),\n",
        " (6, 15, 90),\n",
        " (8, 6, 48),\n",
        " (10, 18, 180),\n",
        " (12, 9, 108),\n",
        " (16, 12, 192),\n",
        " (18, 3, 54)]"
       ]
      }
     ],
     "prompt_number": 3
    },
    {
     "cell_type": "markdown",
     "metadata": {},
     "source": [
      "- \ub450 \uac1c\uc758 \uc2dc\ud000\uc2a4 \uc790\ub8cc\ud615\uc5d0 \ub300\ud574 \uac01\uac01\uc758 \uc6d0\uc18c\uc5d0 \ub300\ud55c \uc30d\uc744 \ud29c\ud50c \ud615\ud0dc\ub85c \ub9cc\ub4e4\uba74\uc11c \ub9ac\uc2a4\ud2b8\uc5d0 \uc800\uc7a5\ud558\ub294 \ucf54\ub4dc"
     ]
    },
    {
     "cell_type": "code",
     "collapsed": false,
     "input": [
      "seq1 = 'abc'\n",
      "seq2 = (1, 2, 3)\n",
      "[ (x, y) for x in seq1 for y in seq2]"
     ],
     "language": "python",
     "metadata": {},
     "outputs": [
      {
       "metadata": {},
       "output_type": "pyout",
       "prompt_number": 77,
       "text": [
        "[('a', 1),\n",
        " ('a', 2),\n",
        " ('a', 3),\n",
        " ('b', 1),\n",
        " ('b', 2),\n",
        " ('b', 3),\n",
        " ('c', 1),\n",
        " ('c', 2),\n",
        " ('c', 3)]"
       ]
      }
     ],
     "prompt_number": 77
    },
    {
     "cell_type": "code",
     "collapsed": false,
     "input": [
      "words = 'The quick brown fox jumps over the lazy dog'.split()\n",
      "stuff = [[w.upper(), w.lower(), len(w)] for w in words]\n",
      "for i in stuff:\n",
      "    print i"
     ],
     "language": "python",
     "metadata": {},
     "outputs": [
      {
       "output_type": "stream",
       "stream": "stdout",
       "text": [
        "['THE', 'the', 3]\n",
        "['QUICK', 'quick', 5]\n",
        "['BROWN', 'brown', 5]\n",
        "['FOX', 'fox', 3]\n",
        "['JUMPS', 'jumps', 5]\n",
        "['OVER', 'over', 4]\n",
        "['THE', 'the', 3]\n",
        "['LAZY', 'lazy', 4]\n",
        "['DOG', 'dog', 3]\n"
       ]
      }
     ],
     "prompt_number": 2
    },
    {
     "cell_type": "markdown",
     "metadata": {},
     "source": [
      "<p style='text-align: right;'>\ucc38\uace0 \ubb38\ud5cc: \ud30c\uc774\uc36c(\uc5f4\ud608\uac15\uc758)(\uac1c\uc815\ud310 VER.2), \uc774\uac15\uc131, FreeLec, 2005\ub144 8\uc6d4 29\uc77c</p>"
     ]
    }
   ],
   "metadata": {}
  }
 ]
}