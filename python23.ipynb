{
 "metadata": {
  "name": "",
  "signature": "sha256:dd56198c71e5c76b53130c7cd6518daf4675c06885222f32700bf065659ace5b"
 },
 "nbformat": 3,
 "nbformat_minor": 0,
 "worksheets": [
  {
   "cells": [
    {
     "cell_type": "markdown",
     "metadata": {},
     "source": [
      "***\n",
      "***\n",
      "# 21. \uc608\uc678\ucc98\ub9ac\n",
      "***\n",
      "***"
     ]
    },
    {
     "cell_type": "markdown",
     "metadata": {},
     "source": [
      "***\n",
      "## 1 \ud30c\uc774\uc36c \uc608\uc678\uc758 \uc885\ub958\n",
      "***"
     ]
    },
    {
     "cell_type": "markdown",
     "metadata": {},
     "source": [
      "- \uad6c\ubb38 \uc5d0\ub7ec (Syntax Error)\n",
      "  - \ubb38\ubc95\uc801 \uc5d0\ub7ec\n",
      "  - \uc774\ud074\ub9bd\uc2a4 \ub4f1\uc758 \ud1b5\ud569\uac1c\ubc1c\ud658\uacbd \ub3c4\uad6c\uc5d0\uc11c\ub294 \uc790\ub3d9\uc73c\ub85c \uc2e4\ud589 \uc804\uc5d0 \uad6c\ubb38 \uc5d0\ub7ec\ub97c \uccb4\ud06c \ud574 \uc90c\n",
      "  - \ud30c\uc774\uc36c\uc740 \uc0c1\ub300\uc801\uc73c\ub85c \uc5b8\uc5b4\uc801 \ubb38\ubc95\uc774 \uac04\ub2e8\ud558\uae30 \ub54c\ubb38\uc5d0 \uad6c\ubb38 \uc790\uccb4\uc758 \uc5d0\ub7ec \ubc1c\uc0dd \ube44\uc728\uc774 \ub0ae\uac70\ub098 \ub2e4\ub978 \ub3c4\uad6c\ub97c \uc0ac\uc6a9\ud558\uc5ec \uc644\ubcbd\ud558\uac8c \uc81c\uac70\ud560 \uc218 \uc788\uc74c\n",
      "\n",
      "- \uc608\uc678 (Exception)\n",
      "  - \uad6c\ubb38 \uc5d0\ub7ec\ub294 \uc5c6\uc73c\ub098 \ud504\ub85c\uadf8\ub7a8 \uc2e4\ud589 \uc911 \ub354 \uc774\uc0c1 \uc9c4\ud589 \ud560 \uc218 \uc5c6\ub294 \uc0c1\ud669"
     ]
    },
    {
     "cell_type": "markdown",
     "metadata": {},
     "source": [
      "### 1-1 \uc608\uc678 \ubc1c\uc0dd \uc608\uc81c \ubcf4\uae30\n",
      "- \uc608\uc678 \ubc1c\uc0dd \uc608\uc81c 1: \uc815\uc758\ub418\uc9c0 \uc54a\uc740 \ubcc0\uc218 \uc0ac\uc6a9\ud558\uae30\n",
      "  - NameError"
     ]
    },
    {
     "cell_type": "code",
     "collapsed": false,
     "input": [
      "4 + spam*3"
     ],
     "language": "python",
     "metadata": {},
     "outputs": [
      {
       "ename": "NameError",
       "evalue": "name 'spam' is not defined",
       "output_type": "pyerr",
       "traceback": [
        "\u001b[0;31m---------------------------------------------------------------------------\u001b[0m\n\u001b[0;31mNameError\u001b[0m                                 Traceback (most recent call last)",
        "\u001b[0;32m<ipython-input-2-6b1dfe582d2e>\u001b[0m in \u001b[0;36m<module>\u001b[0;34m()\u001b[0m\n\u001b[0;32m----> 1\u001b[0;31m \u001b[0;36m4\u001b[0m \u001b[0;34m+\u001b[0m \u001b[0mspam\u001b[0m\u001b[0;34m*\u001b[0m\u001b[0;36m3\u001b[0m\u001b[0;34m\u001b[0m\u001b[0m\n\u001b[0m",
        "\u001b[0;31mNameError\u001b[0m: name 'spam' is not defined"
       ]
      }
     ],
     "prompt_number": 2
    },
    {
     "cell_type": "markdown",
     "metadata": {},
     "source": [
      "- \uc608\uc678 \ubc1c\uc0dd \uc608\uc81c 2: 0\uc73c\ub85c \uc22b\uc790 \ub098\ub204\uae30\n",
      "  - ZeroDivisionError"
     ]
    },
    {
     "cell_type": "code",
     "collapsed": false,
     "input": [
      "a = 10\n",
      "b = 0 \n",
      "c = a / b"
     ],
     "language": "python",
     "metadata": {},
     "outputs": [
      {
       "ename": "ZeroDivisionError",
       "evalue": "integer division or modulo by zero",
       "output_type": "pyerr",
       "traceback": [
        "\u001b[0;31m---------------------------------------------------------------------------\u001b[0m\n\u001b[0;31mZeroDivisionError\u001b[0m                         Traceback (most recent call last)",
        "\u001b[0;32m<ipython-input-1-d055e09331c6>\u001b[0m in \u001b[0;36m<module>\u001b[0;34m()\u001b[0m\n\u001b[1;32m      1\u001b[0m \u001b[0ma\u001b[0m \u001b[0;34m=\u001b[0m \u001b[0;36m10\u001b[0m\u001b[0;34m\u001b[0m\u001b[0m\n\u001b[1;32m      2\u001b[0m \u001b[0mb\u001b[0m \u001b[0;34m=\u001b[0m \u001b[0;36m0\u001b[0m\u001b[0;34m\u001b[0m\u001b[0m\n\u001b[0;32m----> 3\u001b[0;31m \u001b[0mc\u001b[0m \u001b[0;34m=\u001b[0m \u001b[0ma\u001b[0m \u001b[0;34m/\u001b[0m \u001b[0mb\u001b[0m\u001b[0;34m\u001b[0m\u001b[0m\n\u001b[0m",
        "\u001b[0;31mZeroDivisionError\u001b[0m: integer division or modulo by zero"
       ]
      }
     ],
     "prompt_number": 1
    },
    {
     "cell_type": "markdown",
     "metadata": {},
     "source": [
      "- [note] \uc608\uc678\uac00 \ubc1c\uc0dd\ud558\uba74 \ud504\ub85c\uadf8\ub7a8\uc740 \ubc14\ub85c \uc885\ub8cc\ub41c\ub2e4."
     ]
    },
    {
     "cell_type": "code",
     "collapsed": false,
     "input": [
      "def division():\n",
      "    for n in range(0, 5):\n",
      "        print 10.0 / n\n",
      "\n",
      "division()   "
     ],
     "language": "python",
     "metadata": {},
     "outputs": [
      {
       "ename": "ZeroDivisionError",
       "evalue": "float division by zero",
       "output_type": "pyerr",
       "traceback": [
        "\u001b[0;31m---------------------------------------------------------------------------\u001b[0m\n\u001b[0;31mZeroDivisionError\u001b[0m                         Traceback (most recent call last)",
        "\u001b[0;32m<ipython-input-48-9618f69a4b0e>\u001b[0m in \u001b[0;36m<module>\u001b[0;34m()\u001b[0m\n\u001b[1;32m      3\u001b[0m         \u001b[0;32mprint\u001b[0m \u001b[0;36m10.0\u001b[0m \u001b[0;34m/\u001b[0m \u001b[0mn\u001b[0m\u001b[0;34m\u001b[0m\u001b[0m\n\u001b[1;32m      4\u001b[0m \u001b[0;34m\u001b[0m\u001b[0m\n\u001b[0;32m----> 5\u001b[0;31m \u001b[0mdivision\u001b[0m\u001b[0;34m(\u001b[0m\u001b[0;34m)\u001b[0m\u001b[0;34m\u001b[0m\u001b[0m\n\u001b[0m",
        "\u001b[0;32m<ipython-input-48-9618f69a4b0e>\u001b[0m in \u001b[0;36mdivision\u001b[0;34m()\u001b[0m\n\u001b[1;32m      1\u001b[0m \u001b[0;32mdef\u001b[0m \u001b[0mdivision\u001b[0m\u001b[0;34m(\u001b[0m\u001b[0;34m)\u001b[0m\u001b[0;34m:\u001b[0m\u001b[0;34m\u001b[0m\u001b[0m\n\u001b[1;32m      2\u001b[0m     \u001b[0;32mfor\u001b[0m \u001b[0mn\u001b[0m \u001b[0;32min\u001b[0m \u001b[0mrange\u001b[0m\u001b[0;34m(\u001b[0m\u001b[0;36m0\u001b[0m\u001b[0;34m,\u001b[0m \u001b[0;36m5\u001b[0m\u001b[0;34m)\u001b[0m\u001b[0;34m:\u001b[0m\u001b[0;34m\u001b[0m\u001b[0m\n\u001b[0;32m----> 3\u001b[0;31m         \u001b[0;32mprint\u001b[0m \u001b[0;36m10.0\u001b[0m \u001b[0;34m/\u001b[0m \u001b[0mn\u001b[0m\u001b[0;34m\u001b[0m\u001b[0m\n\u001b[0m\u001b[1;32m      4\u001b[0m \u001b[0;34m\u001b[0m\u001b[0m\n\u001b[1;32m      5\u001b[0m \u001b[0mdivision\u001b[0m\u001b[0;34m(\u001b[0m\u001b[0;34m)\u001b[0m\u001b[0;34m\u001b[0m\u001b[0m\n",
        "\u001b[0;31mZeroDivisionError\u001b[0m: float division by zero"
       ]
      }
     ],
     "prompt_number": 48
    },
    {
     "cell_type": "markdown",
     "metadata": {},
     "source": [
      "- \uc608\uc678 \ubc1c\uc0dd \uc608\uc81c 3: \ubb38\uc790\uc5f4\uacfc \uc22b\uc790 \ub354\ud558\uae30\n",
      "  - TypeError"
     ]
    },
    {
     "cell_type": "code",
     "collapsed": false,
     "input": [
      "'2' + 2"
     ],
     "language": "python",
     "metadata": {},
     "outputs": [
      {
       "ename": "TypeError",
       "evalue": "cannot concatenate 'str' and 'int' objects",
       "output_type": "pyerr",
       "traceback": [
        "\u001b[0;31m---------------------------------------------------------------------------\u001b[0m\n\u001b[0;31mTypeError\u001b[0m                                 Traceback (most recent call last)",
        "\u001b[0;32m<ipython-input-3-4c6dd5170204>\u001b[0m in \u001b[0;36m<module>\u001b[0;34m()\u001b[0m\n\u001b[0;32m----> 1\u001b[0;31m \u001b[0;34m'2'\u001b[0m \u001b[0;34m+\u001b[0m \u001b[0;36m2\u001b[0m\u001b[0;34m\u001b[0m\u001b[0m\n\u001b[0m",
        "\u001b[0;31mTypeError\u001b[0m: cannot concatenate 'str' and 'int' objects"
       ]
      }
     ],
     "prompt_number": 3
    },
    {
     "cell_type": "markdown",
     "metadata": {},
     "source": [
      "- \uc608\uc678 \ubc1c\uc0dd \uc608\uc81c 4: \ucc38\uc870 \ubc94\uc704\ub97c \ub118\uc5b4\uc11c \uc778\ub371\uc2a4 \uc0ac\uc6a9\n",
      "  - IndexError"
     ]
    },
    {
     "cell_type": "code",
     "collapsed": false,
     "input": [
      "l = [1, 2]\n",
      "print l[2]"
     ],
     "language": "python",
     "metadata": {},
     "outputs": [
      {
       "ename": "IndexError",
       "evalue": "list index out of range",
       "output_type": "pyerr",
       "traceback": [
        "\u001b[0;31m---------------------------------------------------------------------------\u001b[0m\n\u001b[0;31mIndexError\u001b[0m                                Traceback (most recent call last)",
        "\u001b[0;32m<ipython-input-3-e36f806c83e5>\u001b[0m in \u001b[0;36m<module>\u001b[0;34m()\u001b[0m\n\u001b[1;32m      1\u001b[0m \u001b[0ml\u001b[0m \u001b[0;34m=\u001b[0m \u001b[0;34m[\u001b[0m\u001b[0;36m1\u001b[0m\u001b[0;34m,\u001b[0m \u001b[0;36m2\u001b[0m\u001b[0;34m]\u001b[0m\u001b[0;34m\u001b[0m\u001b[0m\n\u001b[0;32m----> 2\u001b[0;31m \u001b[0;32mprint\u001b[0m \u001b[0ml\u001b[0m\u001b[0;34m[\u001b[0m\u001b[0;36m2\u001b[0m\u001b[0;34m]\u001b[0m\u001b[0;34m\u001b[0m\u001b[0m\n\u001b[0m",
        "\u001b[0;31mIndexError\u001b[0m: list index out of range"
       ]
      }
     ],
     "prompt_number": 3
    },
    {
     "cell_type": "markdown",
     "metadata": {},
     "source": [
      "- \uc608\uc678 \ubc1c\uc0dd \uc608\uc81c 5: \ub4f1\ub85d\ub418\uc9c0 \uc54a\uc740 \ud0a4\ub85c \uc0ac\uc804 \uac80\uc0c9\n",
      "  - KeyError"
     ]
    },
    {
     "cell_type": "code",
     "collapsed": false,
     "input": [
      "d = {\"a\": 1, \"b\": 2}\n",
      "print d['c']"
     ],
     "language": "python",
     "metadata": {},
     "outputs": [
      {
       "ename": "KeyError",
       "evalue": "'c'",
       "output_type": "pyerr",
       "traceback": [
        "\u001b[0;31m---------------------------------------------------------------------------\u001b[0m\n\u001b[0;31mKeyError\u001b[0m                                  Traceback (most recent call last)",
        "\u001b[0;32m<ipython-input-4-c5d228d3ae3c>\u001b[0m in \u001b[0;36m<module>\u001b[0;34m()\u001b[0m\n\u001b[1;32m      1\u001b[0m \u001b[0md\u001b[0m \u001b[0;34m=\u001b[0m \u001b[0;34m{\u001b[0m\u001b[0;34m\"a\"\u001b[0m\u001b[0;34m:\u001b[0m \u001b[0;36m1\u001b[0m\u001b[0;34m,\u001b[0m \u001b[0;34m\"b\"\u001b[0m\u001b[0;34m:\u001b[0m \u001b[0;36m2\u001b[0m\u001b[0;34m}\u001b[0m\u001b[0;34m\u001b[0m\u001b[0m\n\u001b[0;32m----> 2\u001b[0;31m \u001b[0;32mprint\u001b[0m \u001b[0md\u001b[0m\u001b[0;34m[\u001b[0m\u001b[0;34m'c'\u001b[0m\u001b[0;34m]\u001b[0m\u001b[0;34m\u001b[0m\u001b[0m\n\u001b[0m",
        "\u001b[0;31mKeyError\u001b[0m: 'c'"
       ]
      }
     ],
     "prompt_number": 4
    },
    {
     "cell_type": "markdown",
     "metadata": {},
     "source": [
      "- \uc608\uc678 \ubc1c\uc0dd \uc608\uc81c 6: \uc788\uc9c0\ub3c4 \uc54a\uc740 \ud30c\uc77c\uc744 \uc5f4\ub824\uace0 \ud560 \ub54c\n",
      "  - IOError"
     ]
    },
    {
     "cell_type": "code",
     "collapsed": false,
     "input": [
      "a = open('aaa.txt')"
     ],
     "language": "python",
     "metadata": {},
     "outputs": [
      {
       "ename": "IOError",
       "evalue": "[Errno 2] No such file or directory: 'aaa.txt'",
       "output_type": "pyerr",
       "traceback": [
        "\u001b[0;31m---------------------------------------------------------------------------\u001b[0m\n\u001b[0;31mIOError\u001b[0m                                   Traceback (most recent call last)",
        "\u001b[0;32m<ipython-input-6-971bbb0a7949>\u001b[0m in \u001b[0;36m<module>\u001b[0;34m()\u001b[0m\n\u001b[0;32m----> 1\u001b[0;31m \u001b[0ma\u001b[0m \u001b[0;34m=\u001b[0m \u001b[0mopen\u001b[0m\u001b[0;34m(\u001b[0m\u001b[0;34m'aaa.txt'\u001b[0m\u001b[0;34m)\u001b[0m\u001b[0;34m\u001b[0m\u001b[0m\n\u001b[0m",
        "\u001b[0;31mIOError\u001b[0m: [Errno 2] No such file or directory: 'aaa.txt'"
       ]
      }
     ],
     "prompt_number": 6
    },
    {
     "cell_type": "markdown",
     "metadata": {},
     "source": [
      "### 1-2 \ub0b4\uc7a5 \uc608\uc678\uc758 \uc885\ub958\n",
      "- \uc608\uc678 \ud074\ub798\uc2a4\uc758 \uacc4\uce35 \uad6c\uc870 ([\ucc38\uace0] https://docs.python.org/2/library/exceptions.html)\n",
      "<pre>BaseException\n",
      " +-- SystemExit\n",
      " +-- KeyboardInterrupt\n",
      " +-- GeneratorExit\n",
      " +-- Exception\n",
      "      +-- StopIteration\n",
      "      +-- StandardError\n",
      "      |    +-- BufferError\n",
      "      |    +-- ArithmeticError\n",
      "      |    |    +-- FloatingPointError\n",
      "      |    |    +-- OverflowError\n",
      "      |    |    +-- ZeroDivisionError\n",
      "      |    +-- AssertionError\n",
      "      |    +-- AttributeError\n",
      "      |    +-- EnvironmentError\n",
      "      |    |    +-- IOError\n",
      "      |    |    +-- OSError\n",
      "      |    |         +-- WindowsError (Windows)\n",
      "      |    |         +-- VMSError (VMS)\n",
      "      |    +-- EOFError\n",
      "      |    +-- ImportError\n",
      "      |    +-- LookupError\n",
      "      |    |    +-- IndexError\n",
      "      |    |    +-- KeyError\n",
      "      |    +-- MemoryError\n",
      "      |    +-- NameError\n",
      "      |    |    +-- UnboundLocalError\n",
      "      |    +-- ReferenceError\n",
      "      |    +-- RuntimeError\n",
      "      |    |    +-- NotImplementedError\n",
      "      |    +-- SyntaxError\n",
      "      |    |    +-- IndentationError\n",
      "      |    |         +-- TabError\n",
      "      |    +-- SystemError\n",
      "      |    +-- TypeError\n",
      "      |    +-- ValueError\n",
      "      |         +-- UnicodeError\n",
      "      |              +-- UnicodeDecodeError\n",
      "      |              +-- UnicodeEncodeError\n",
      "      |              +-- UnicodeTranslateError\n",
      "      +-- Warning\n",
      "           +-- DeprecationWarning\n",
      "           +-- PendingDeprecationWarning\n",
      "           +-- RuntimeWarning\n",
      "           +-- SyntaxWarning\n",
      "           +-- UserWarning\n",
      "           +-- FutureWarning\n",
      "\t   +-- ImportWarning\n",
      "\t   +-- UnicodeWarning\n",
      "\t   +-- BytesWarning\n",
      "</pre>"
     ]
    },
    {
     "cell_type": "markdown",
     "metadata": {},
     "source": [
      "***\n",
      "## 2 \uc608\uc678 \ucc98\ub9ac \ubc29\ubc95\n",
      "***"
     ]
    },
    {
     "cell_type": "markdown",
     "metadata": {},
     "source": [
      "### 1-1 try/except/else/finally \uc808 \uc0ac\uc6a9\ud558\uae30\n",
      "- \uc608\uc678\uac00 \ubc1c\uc0dd\ud560 \uc218 \uc788\ub294 \uc0c1\ud669\uc744 \uc608\uc0c1\ud558\uc5ec \uc608\uc678 \ubc1c\uc0dd \uc0c1\ud669\uc744 \uc804\uccb4 \ucf54\ub4dc \ud750\ub984\uc744 \ud568\uaed8 \uc81c\uc5b4\ud560 \uc218 \uc788\ub2e4.\n",
      "- try/except/else/finally \uc808\n",
      "  - \uad6c\ubb38\n",
      "> try:<br/>\n",
      "> &nbsp;&nbsp;&nbsp;&nbsp;(\uc608\uc678 \ubc1c\uc0dd \uac00\ub2a5\ud55c) \uc77c\ubc18\uc801\uc778 \uc218\ud589\ubb38\ub4e4<br/>\n",
      "> except Exception:<br/>\n",
      "> &nbsp;&nbsp;&nbsp;&nbsp;\uc608\uc678\uac00 \ubc1c\uc0dd\ud558\uc600\uc744 \ub54c \uc218\ud589\ub418\ub294 \ubb38\ub4e4<br/>\n",
      "> else:<br/>\n",
      "> &nbsp;&nbsp;&nbsp;&nbsp;\uc608\uc678\uac00 \ubc1c\uc0dd\ud558\uc9c0 \uc54a\uc558\uc744 \ub54c \uc218\ud589\ub418\ub294 \ubb38\ub4e4<br/>\n",
      "> finally:<br/>\n",
      "> &nbsp;&nbsp;&nbsp;&nbsp;\uc608\uc678 \ubc1c\uc0dd \uc720\ubb34\uc640 \uad00\uacc4\uc5c6\uc774 \ubb34\uc870\uac74 \uc218\ud589\ub418\ub294 \ubb38\ub4e4<br/>"
     ]
    },
    {
     "cell_type": "code",
     "collapsed": false,
     "input": [
      "try:\n",
      "    print 1.0 / 0.0\n",
      "except ZeroDivisionError:\n",
      "    print 'zero division error!!!'"
     ],
     "language": "python",
     "metadata": {},
     "outputs": [
      {
       "output_type": "stream",
       "stream": "stdout",
       "text": [
        "zero division error!!!\n"
       ]
      }
     ],
     "prompt_number": 14
    },
    {
     "cell_type": "markdown",
     "metadata": {},
     "source": [
      "- \uc608\uc678 \ucc98\ub9ac\ub97c \ud558\uba74 \uc608\uc678 \ubc1c\uc0dd\uc2dc \ud504\ub85c\uadf8\ub7a8 \uc885\ub8cc\uac00 \ub418\uc9c0 \uc54a\ub294\ub2e4."
     ]
    },
    {
     "cell_type": "code",
     "collapsed": false,
     "input": [
      "def division():\n",
      "    for n in range(0, 5):\n",
      "        try:\n",
      "            print 10.0 / n\n",
      "        except ZeroDivisionError, msg:\n",
      "            print msg\n",
      "\n",
      "division()"
     ],
     "language": "python",
     "metadata": {},
     "outputs": [
      {
       "output_type": "stream",
       "stream": "stdout",
       "text": [
        "float division by zero\n",
        "10.0\n",
        "5.0\n",
        "3.33333333333\n",
        "2.5\n"
       ]
      }
     ],
     "prompt_number": 1
    },
    {
     "cell_type": "markdown",
     "metadata": {},
     "source": [
      "- else: \uad6c\ubb38\uc740 except: \uad6c\ubb38\uc5c6\uc774 \uc0ac\uc6a9 \ubabb\ud55c\ub2e4.  "
     ]
    },
    {
     "cell_type": "code",
     "collapsed": false,
     "input": [
      "def division():\n",
      "    for n in range(0, 5):\n",
      "        try:\n",
      "            print 10.0 / n\n",
      "        else:\n",
      "            print \"Success\"\n",
      "\n",
      "division() "
     ],
     "language": "python",
     "metadata": {},
     "outputs": [
      {
       "ename": "SyntaxError",
       "evalue": "invalid syntax (<ipython-input-49-e039cc968e23>, line 5)",
       "output_type": "pyerr",
       "traceback": [
        "\u001b[0;36m  File \u001b[0;32m\"<ipython-input-49-e039cc968e23>\"\u001b[0;36m, line \u001b[0;32m5\u001b[0m\n\u001b[0;31m    else:\u001b[0m\n\u001b[0m       ^\u001b[0m\n\u001b[0;31mSyntaxError\u001b[0m\u001b[0;31m:\u001b[0m invalid syntax\n"
       ]
      }
     ],
     "prompt_number": 49
    },
    {
     "cell_type": "markdown",
     "metadata": {},
     "source": [
      "- \uc0c1\ud669\uc5d0 \ub530\ub77c\uc11c\ub294 \uc5d0\ub7ec\uc640 \ud568\uaed8 \ub530\ub77c\uc624\ub294 \uc815\ubcf4\ub97c \ud568\uaed8 \ubc1b\uc744 \uc218\ub3c4 \uc788\ub2e4."
     ]
    },
    {
     "cell_type": "code",
     "collapsed": false,
     "input": [
      "try:\n",
      "    spam()\n",
      "except NameError, msg:\n",
      "    print 'Error -', msg"
     ],
     "language": "python",
     "metadata": {},
     "outputs": [
      {
       "output_type": "stream",
       "stream": "stdout",
       "text": [
        "Error - name 'spam' is not defined\n"
       ]
      }
     ],
     "prompt_number": 2
    },
    {
     "cell_type": "code",
     "collapsed": false,
     "input": [
      "try:\n",
      "    spam()\n",
      "except NameError as msg:\n",
      "    print 'Error -', msg"
     ],
     "language": "python",
     "metadata": {},
     "outputs": [
      {
       "output_type": "stream",
       "stream": "stdout",
       "text": [
        "Error - name 'spam' is not defined\n"
       ]
      }
     ],
     "prompt_number": 3
    },
    {
     "cell_type": "markdown",
     "metadata": {},
     "source": [
      "- try \uc808 \uc548\uc5d0\uc11c \uac04\uc811\uc801\uc73c\ub85c \ud638\ucd9c\ud55c \ud568\uc218\uc758 \ub0b4\ubd80 \uc608\uc678\ub3c4 \ucc98\ub9ac\ud560 \uc218 \uc788\ub2e4."
     ]
    },
    {
     "cell_type": "code",
     "collapsed": false,
     "input": [
      "def zero_division():\n",
      "    x = 1 / 0\n",
      "\n",
      "try:\n",
      "    zero_division()\n",
      "except ZeroDivisionError, msg:\n",
      "    print 'zero division error!!! -', msg"
     ],
     "language": "python",
     "metadata": {},
     "outputs": [
      {
       "output_type": "stream",
       "stream": "stdout",
       "text": [
        "zero division error!!! -  integer division or modulo by zero\n"
       ]
      }
     ],
     "prompt_number": 18
    },
    {
     "cell_type": "code",
     "collapsed": false,
     "input": [
      "def zero_division():\n",
      "    x = 1 / 0\n",
      "\n",
      "try:\n",
      "    zero_division()\n",
      "except ZeroDivisionError as msg:\n",
      "    print 'zero division error!!! -', msg"
     ],
     "language": "python",
     "metadata": {},
     "outputs": [
      {
       "output_type": "stream",
       "stream": "stdout",
       "text": [
        "zero division error!!! - integer division or modulo by zero\n"
       ]
      }
     ],
     "prompt_number": 4
    },
    {
     "cell_type": "markdown",
     "metadata": {},
     "source": [
      "- except \ub4a4\uc5d0 \uc544\ubb34\ub7f0 \uc608\uc678\ub3c4 \uae30\uc220\ud558\uc9c0 \uc54a\uc73c\uba74 \ubaa8\ub4e0 \uc608\uc678\uc5d0 \ub300\ud574 \ucc98\ub9ac\ub41c\ub2e4."
     ]
    },
    {
     "cell_type": "code",
     "collapsed": false,
     "input": [
      "try:\n",
      "    spam()\n",
      "    print 1.0 / 0.0\n",
      "except:\n",
      "    print 'Error'"
     ],
     "language": "python",
     "metadata": {},
     "outputs": [
      {
       "output_type": "stream",
       "stream": "stdout",
       "text": [
        "Error\n"
       ]
      }
     ],
     "prompt_number": 31
    },
    {
     "cell_type": "markdown",
     "metadata": {},
     "source": [
      "- \uc5ec\ub7ec \uc608\uc678\ub4e4 \uac01\uac01\uc5d0 \ub300\ud574 except \uc808\uc744 \ub2e4\uc911\uc73c\ub85c \uc0bd\uc785\ud560 \uc218 \uc788\ub2e4."
     ]
    },
    {
     "cell_type": "code",
     "collapsed": false,
     "input": [
      "b = 0.0\n",
      "name = 'aaa.txt'\n",
      "try:\n",
      "    print 1.0 / b\n",
      "    spam()\n",
      "    f = open(name, 'r')\n",
      "    '2' + 2\n",
      "except NameError:\n",
      "    print 'NameError !!!'\n",
      "except ZeroDivisionError:\n",
      "    print 'ZeroDivisionError !!!'\n",
      "except (TypeError, IOError):\n",
      "    print 'TypeError or IOError !!!'\n",
      "else:\n",
      "    print 'No Exception !!!'\n",
      "finally:\n",
      "    print 'Exit !!!'"
     ],
     "language": "python",
     "metadata": {},
     "outputs": [
      {
       "output_type": "stream",
       "stream": "stdout",
       "text": [
        "ZeroDivisionError !!!\n",
        "Exit !!!\n"
       ]
      }
     ],
     "prompt_number": 7
    },
    {
     "cell_type": "markdown",
     "metadata": {},
     "source": [
      "- \ud30c\uc77c\uc5d0\uc11c \uc22b\uc790\ub97c \uc77d\uc5b4\uc640\uc11c \uc77d\uc740 \uc22b\uc790\ub85c \ub098\ub204\uae30\ub97c \ud558\ub294 \uc608\uc81c\n",
      "  - \uaf3c\uaf3c\ud55c \uc608\uc678 \ucc98\ub9ac \uc608\uc81c"
     ]
    },
    {
     "cell_type": "code",
     "collapsed": false,
     "input": [
      "import os\n",
      "print os.getcwd()\n",
      "filename = 't.txt'\n",
      "\n",
      "try:\n",
      "    f = open(filename, 'r')\n",
      "except IOError, msg:\n",
      "    print msg\n",
      "else:\n",
      "    a = float(f.readline())\n",
      "    try:\n",
      "        answer = 1.0 / a\n",
      "    except ZeroDivisionError, msg:\n",
      "        print msg\n",
      "    else:\n",
      "        print answer\n",
      "    finally:\n",
      "        print \"Finally!!!\"\n",
      "        f.close()"
     ],
     "language": "python",
     "metadata": {},
     "outputs": [
      {
       "output_type": "stream",
       "stream": "stdout",
       "text": [
        "/Users/yhhan/git/python-e-learning\n",
        "1.0\n",
        "Finally!!!\n"
       ]
      }
     ],
     "prompt_number": 9
    },
    {
     "cell_type": "markdown",
     "metadata": {},
     "source": [
      "### 2-2 \uac19\uc740 \ubd80\ub958\uc758 \uc608\uc678 \ub2e4 \uc7a1\uc544\ub0b4\uae30\n",
      "- \uc608\uc678 \ud074\ub798\uc2a4\ub4e4\uc740 \uc0c1\uc18d\uc5d0 \uc758\ud55c \uacc4\uce35 \uad00\uacc4\ub97c \uc9c0\ub2c8\uace0 \uc788\uae30 \ub54c\ubb38\uc5d0 \uc774\ub97c \uc774\uc6a9\ud558\uba74 \uc5ec\ub7ec \uc608\uc678\ub4e4\uc744 \ud55c\uaebc\ubc88\uc5d0 \uc7a1\uc744 \uc218 \uc788\ub2e4.\n",
      "- \uc608\ub97c \ub4e4\uc5b4, ArithmeticError\uc758 \ud558\uc704 \ud074\ub798\uc2a4\ub85c\uc11c FloatingPointError, OverflowError, ZeroDivisionError\uac00 \uc874\uc7ac\ud558\uae30 \ub54c\ubb38\uc5d0 \uc774\ub4e4 \ud558\uc704 \ud074\ub798\uc2a4 \uc608\uc678\uac00 \ubc1c\uc0dd\ud558\uc600\uc744 \uacbd\uc6b0 ArithmeticError\ub85c\uc11c \uc7a1\uc544\ub0bc \uc218 \uc788\ub2e4. "
     ]
    },
    {
     "cell_type": "code",
     "collapsed": false,
     "input": [
      "def dosomething():\n",
      "    a = 1/0\n",
      "\n",
      "try:\n",
      "    dosomething()\n",
      "except ArithmeticError:\n",
      "    print \"ArithmeticException occured\""
     ],
     "language": "python",
     "metadata": {},
     "outputs": [
      {
       "output_type": "stream",
       "stream": "stdout",
       "text": [
        "ArithmeticException occured\n"
       ]
      }
     ],
     "prompt_number": 16
    },
    {
     "cell_type": "markdown",
     "metadata": {},
     "source": [
      "- \uc608\uc678\uac00 \uc784\uc758\uc758 except\uc5d0 \uc758\ud574 \uc7a1\ud788\uba74 \ub2e4\ub978 except\uc5d0 \uc758\ud574\uc11c\ub294 \uc7a1\ud788\uc9c0 \uc54a\ub294\ub2e4. "
     ]
    },
    {
     "cell_type": "code",
     "collapsed": false,
     "input": [
      "def dosomething():\n",
      "    a = 1/0\n",
      "\n",
      "try:\n",
      "    dosomething()\n",
      "except ZeroDivisionError:  # ZeroDivisionError\ub294 \uc774\uacf3\uc5d0\uc11c \uc7a1\ud78c\ub2e4.\n",
      "    print \"ZeroDivisionError occured\"\n",
      "except ArithmeticError:    # FloatingPointError, OverflowError\ub294 \uc774\uacf3\uc5d0\uc11c \uc7a1\ud78c\ub2e4.\n",
      "    print \"ArithmeticException occured\""
     ],
     "language": "python",
     "metadata": {},
     "outputs": [
      {
       "output_type": "stream",
       "stream": "stdout",
       "text": [
        "ZeroDivisionError occured\n"
       ]
      }
     ],
     "prompt_number": 19
    },
    {
     "cell_type": "code",
     "collapsed": false,
     "input": [
      "def dosomething():\n",
      "    a = 1/0\n",
      "\n",
      "try:\n",
      "    dosomething()\n",
      "except ArithmeticError:\n",
      "    print \"ArithmeticException occured\"\n",
      "except ZeroDivisionError:  # \uc774\uacf3\uc5d0\uc11c ZeroDivisionError\ub294 \uc7a1\ud788\uc9c0 \uc54a\ub294\ub2e4. ==> \uc798\ubabb\ub41c \ucf54\ub4dc\n",
      "    print \"ZeroDivisionError occured\"    "
     ],
     "language": "python",
     "metadata": {},
     "outputs": [
      {
       "output_type": "stream",
       "stream": "stdout",
       "text": [
        "ArithmeticException occured\n"
       ]
      }
     ],
     "prompt_number": 20
    },
    {
     "cell_type": "markdown",
     "metadata": {},
     "source": [
      "***\n",
      "## 3 \uc608\uc678 \ubc1c\uc0dd\n",
      "***\n",
      "### 3-1 raise\ub85c \uc608\uc678 \ubc1c\uc0dd\ud558\uae30"
     ]
    },
    {
     "cell_type": "markdown",
     "metadata": {},
     "source": [
      "- \uc608\uc678\ub97c \ud2b9\uc815 \uc0c1\ud669 \uc870\uac74\uc5d0\uc11c raise \ud0a4\uc6cc\ub4dc\ub97c \ud1b5\ud574 \ubc1c\uc0dd\uc2dc\ud0ac \uc218 \uc788\ub2e4.\n",
      "- \uc544\ub798 \uc608\ub294 \uc2dc\ud000\uc2a4 \ud615 \ud074\ub798\uc2a4\ub97c \uc124\uacc4\ud560 \ub54c \uc778\ub371\uc2f1\uc744 \uad6c\ud604\ud558\ub294 \\_\\_getitem\\_\\_ \uba54\uc18c\ub4dc\uc5d0\uc11c \uc778\ub371\uc2a4\uac00 \ubc94\uc704\ub97c \ub118\uc744 \ub54c IndexError\ub97c \ubc1c\uc0dd\uc2dc\ud0a8\ub2e4."
     ]
    },
    {
     "cell_type": "code",
     "collapsed": false,
     "input": [
      "class SquareSeq:\n",
      "    def __init__(self, n):\n",
      "        self.n = n\n",
      "    def __getitem__(self, k):\n",
      "        if k >= self.n or k < 0 :\n",
      "            raise IndexError # \ucca8\uc790 \ubc94\uc704\ub97c \ubc97\uc5b4\ub098\uba74 IndexError \uc608\uc678\ub97c \ubc1c\uc0dd\uc2dc\ud0b4\n",
      "        return k * k\n",
      "    def __len__(self):\n",
      "        return self.n\n",
      "    \n",
      "s = SquareSeq(10)\n",
      "print s[2], s[4]\n",
      "for x in s:  # IndexError\uac00 \ubc1c\uc0dd\ud558\ub294 \uc2dc\uc810\uae4c\uc9c0 \ubc18\ubcf5\ud55c\ub2e4\n",
      "    print x,\n",
      "print s[20]  # \ucca8\uc790 \ubc94\uc704\uac00 \ub118\uc5c8\ub2e4"
     ],
     "language": "python",
     "metadata": {},
     "outputs": [
      {
       "output_type": "stream",
       "stream": "stdout",
       "text": [
        "4 16\n",
        "0 1 4 9 16 25 36 49 64 81"
       ]
      },
      {
       "ename": "IndexError",
       "evalue": "",
       "output_type": "pyerr",
       "traceback": [
        "\u001b[0;31m---------------------------------------------------------------------------\u001b[0m\n\u001b[0;31mIndexError\u001b[0m                                Traceback (most recent call last)",
        "\u001b[0;32m<ipython-input-6-f362c0e14e3a>\u001b[0m in \u001b[0;36m<module>\u001b[0;34m()\u001b[0m\n\u001b[1;32m     13\u001b[0m \u001b[0;32mfor\u001b[0m \u001b[0mx\u001b[0m \u001b[0;32min\u001b[0m \u001b[0ms\u001b[0m\u001b[0;34m:\u001b[0m  \u001b[0;31m# IndexError\uac00 \ubc1c\uc0dd\ud558\ub294 \uc2dc\uc810\uae4c\uc9c0 \ubc18\ubcf5\ud55c\ub2e4\u001b[0m\u001b[0;34m\u001b[0m\u001b[0m\n\u001b[1;32m     14\u001b[0m     \u001b[0;32mprint\u001b[0m \u001b[0mx\u001b[0m\u001b[0;34m,\u001b[0m\u001b[0;34m\u001b[0m\u001b[0m\n\u001b[0;32m---> 15\u001b[0;31m \u001b[0;32mprint\u001b[0m \u001b[0ms\u001b[0m\u001b[0;34m[\u001b[0m\u001b[0;36m20\u001b[0m\u001b[0;34m]\u001b[0m  \u001b[0;31m# \ucca8\uc790 \ubc94\uc704\uac00 \ub118\uc5c8\ub2e4\u001b[0m\u001b[0;34m\u001b[0m\u001b[0m\n\u001b[0m",
        "\u001b[0;32m<ipython-input-6-f362c0e14e3a>\u001b[0m in \u001b[0;36m__getitem__\u001b[0;34m(self, k)\u001b[0m\n\u001b[1;32m      4\u001b[0m     \u001b[0;32mdef\u001b[0m \u001b[0m__getitem__\u001b[0m\u001b[0;34m(\u001b[0m\u001b[0mself\u001b[0m\u001b[0;34m,\u001b[0m \u001b[0mk\u001b[0m\u001b[0;34m)\u001b[0m\u001b[0;34m:\u001b[0m\u001b[0;34m\u001b[0m\u001b[0m\n\u001b[1;32m      5\u001b[0m         \u001b[0;32mif\u001b[0m \u001b[0mk\u001b[0m \u001b[0;34m>=\u001b[0m \u001b[0mself\u001b[0m\u001b[0;34m.\u001b[0m\u001b[0mn\u001b[0m \u001b[0;32mor\u001b[0m \u001b[0mk\u001b[0m \u001b[0;34m<\u001b[0m \u001b[0;36m0\u001b[0m \u001b[0;34m:\u001b[0m\u001b[0;34m\u001b[0m\u001b[0m\n\u001b[0;32m----> 6\u001b[0;31m             \u001b[0;32mraise\u001b[0m \u001b[0mIndexError\u001b[0m \u001b[0;31m# \ucca8\uc790 \ubc94\uc704\ub97c \ubc97\uc5b4\ub098\uba74 IndexError \uc608\uc678\ub97c \ubc1c\uc0dd\uc2dc\ud0b4\u001b[0m\u001b[0;34m\u001b[0m\u001b[0m\n\u001b[0m\u001b[1;32m      7\u001b[0m         \u001b[0;32mreturn\u001b[0m \u001b[0mk\u001b[0m \u001b[0;34m*\u001b[0m \u001b[0mk\u001b[0m\u001b[0;34m\u001b[0m\u001b[0m\n\u001b[1;32m      8\u001b[0m     \u001b[0;32mdef\u001b[0m \u001b[0m__len__\u001b[0m\u001b[0;34m(\u001b[0m\u001b[0mself\u001b[0m\u001b[0;34m)\u001b[0m\u001b[0;34m:\u001b[0m\u001b[0;34m\u001b[0m\u001b[0m\n",
        "\u001b[0;31mIndexError\u001b[0m: "
       ]
      }
     ],
     "prompt_number": 6
    },
    {
     "cell_type": "markdown",
     "metadata": {},
     "source": [
      "### 3-2 \uc0ac\uc6a9\uc790 \ud074\ub798\uc2a4 \uc608\uc678 \uc815\uc758 \ubc0f \ubc1c\uc0dd\uc2dc\ud0a4\uae30\n",
      "- \uc0ac\uc6a9\uc790 \uc815\uc758 \uc608\uc678 \ud074\ub798\uc2a4\ub97c \uad6c\ud604\ud558\ub294 \uc77c\ubc18\uc801\uc778 \ubc29\ubc95\uc740 Exception \ud074\ub798\uc2a4\ub97c \uc0c1\uc18d \ubc1b\uc544 \uad6c\ud604\ud55c\ub2e4.\n",
      "  - Exception \ud074\ub798\uc2a4\uc758 \uc11c\ube0c \ud074\ub798\uc2a4 \uc911 \ud558\ub098\ub97c \uc0c1\uc18d \ubc1b\uc544\ub3c4 \ub41c\ub2e4.\n",
      "- \uc0ac\uc6a9\uc790 \uc815\uc758 \uc608\uc678 \ubc1c\uc0dd \ubc29\ubc95\n",
      "  - \ub0b4\uc7a5 \uc608\uc678 \ubc1c\uc0dd \ubc29\ubc95\uacfc \ub3d9\uc77c\ud558\uac8c raise [\ud074\ub798\uc2a4\uc758 \uc778\uc2a4\ud134\uc2a4] \uc640 \uac19\uc774 \ud574\ub2f9 \uc608\uc678 \ud074\ub798\uc2a4\uc758 \uc778\uc2a4\ud134\uc2a4\ub97c \ub358\uc9c4\ub2e4.\n",
      "- \uc0ac\uc6a9\uc790 \uc815\uc758 \uc608\uc678\ub97c \uc7a1\ub294 \ubc29\ubc95\n",
      "  - except [\ud074\ub798\uc2a4 \uc774\ub984] \uacfc \uac19\uc774 \ud574\ub2f9 \uc608\uc678 \ud074\ub798\uc2a4 \uc774\ub984\uc744 \uc0ac\uc6a9\ud55c\ub2e4.\n",
      "- \uc544\ub798 \uc608\uc5d0\uc11c except Big\uc774 \uc7a1\ub294 \uc608\uc678\ub294 Big\uacfc Small \uc774\ub2e4.\n",
      "  - \uc774\uc720: Small\uc740 Big\uc758 \ud558\uc704 \ud074\ub798\uc2a4\uc774\uae30 \ub54c\ubb38"
     ]
    },
    {
     "cell_type": "code",
     "collapsed": false,
     "input": [
      "class Big(Exception):\n",
      "    pass\n",
      "\n",
      "class Small(Big):\n",
      "    pass\n",
      "\n",
      "def dosomething1():\n",
      "    x = Big()\n",
      "    raise x\n",
      "    \n",
      "def dosomething2():\n",
      "    raise Small()\n",
      "    \n",
      "for f in (dosomething1, dosomething2):\n",
      "    try:\n",
      "        f()\n",
      "    except Big:\n",
      "        print \"Exception occurs!\""
     ],
     "language": "python",
     "metadata": {},
     "outputs": [
      {
       "output_type": "stream",
       "stream": "stdout",
       "text": [
        "Exception occurs!\n",
        "Exception occurs!\n"
       ]
      }
     ],
     "prompt_number": 11
    },
    {
     "cell_type": "markdown",
     "metadata": {},
     "source": [
      "### 3-3 \uc608\uc678\uac12 \uc804\ub2ec\ud558\uae30 \n",
      "- raise \ud0a4\uc6cc\ub4dc \ub4a4\uc5d0 \uc608\uc678\uc640 \ud568\uaed8, \ucd94\uac00 \uba54\uc2dc\uc9c0\ub97c \ud568\uaed8 \ub358\uc9c8 \uc218 \uc788\ub2e4."
     ]
    },
    {
     "cell_type": "code",
     "collapsed": false,
     "input": [
      "def f():\n",
      "    raise Exception, 'message!!!'\n",
      "    \n",
      "try:\n",
      "    f()\n",
      "except Exception, a:\n",
      "    print a"
     ],
     "language": "python",
     "metadata": {},
     "outputs": [
      {
       "output_type": "stream",
       "stream": "stdout",
       "text": [
        "message!!!\n"
       ]
      }
     ],
     "prompt_number": 13
    },
    {
     "cell_type": "markdown",
     "metadata": {},
     "source": [
      "- \uc0dd\uc131\uc790 \uc548\uc5d0 \ub123\uc5b4\uc900 \uc5d0\ub7ec \uba54\uc2dc\uc9c0\ub294 except \ud0a4\uc6cc\ub4dc \uc0ac\uc6a9\uc2dc\uc5d0 \ub450 \ubc88\uc9f8 \uc778\uc790\ub85c \ud574\ub2f9 \uba54\uc2dc\uc9c0\ub97c \ubc1b\uc744 \uc218 \uc788\ub2e4."
     ]
    },
    {
     "cell_type": "code",
     "collapsed": false,
     "input": [
      "a = 10\n",
      "b = 0\n",
      "try:\n",
      "    if b == 0:\n",
      "        raise ArithmeticError('0\uc73c\ub85c \ub098\ub204\uace0 \uc788\uc2b5\ub2c8\ub2e4.')\n",
      "    a / b\n",
      "except ArithmeticError, v:\n",
      "    print v"
     ],
     "language": "python",
     "metadata": {},
     "outputs": [
      {
       "output_type": "stream",
       "stream": "stdout",
       "text": [
        "0\uc73c\ub85c \ub098\ub204\uace0 \uc788\uc2b5\ub2c8\ub2e4.\n"
       ]
      }
     ],
     "prompt_number": 28
    },
    {
     "cell_type": "markdown",
     "metadata": {},
     "source": [
      "<p style='text-align: right;'>\ucc38\uace0 \ubb38\ud5cc: \ud30c\uc774\uc36c(\uc5f4\ud608\uac15\uc758)(\uac1c\uc815\ud310 VER.2), \uc774\uac15\uc131, FreeLec, 2005\ub144 8\uc6d4 29\uc77c</p>"
     ]
    }
   ],
   "metadata": {}
  }
 ]
}