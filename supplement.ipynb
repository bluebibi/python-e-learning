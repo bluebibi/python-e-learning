{
 "cells": [
  {
   "cell_type": "markdown",
   "metadata": {},
   "source": [
    "# 수업 보충 자료"
   ]
  },
  {
   "cell_type": "markdown",
   "metadata": {},
   "source": [
    "## 1. E-learning 1, 2 보충 자료"
   ]
  },
  {
   "cell_type": "markdown",
   "metadata": {},
   "source": [
    "### 1) 현재 이름 공간에 있는 이름 리스트 출력"
   ]
  },
  {
   "cell_type": "markdown",
   "metadata": {},
   "source": [
    "- dir() 내장 함수 사용\n",
    "  - 리턴형: 리스트 \n",
    "  \n",
    "- 아래 리스트 중 python 기본 이름\n",
    "  - \\_\\_builtin\\_\\_\n",
    "  - \\_\\_doc\\_\\_\n",
    "  - \\_\\_name\\_\\_\n",
    "  - \\_\\_package\\_\\_\n",
    "  \n",
    "- 나머지는 ipython이 자체적으로 생성한 이름들"
   ]
  },
  {
   "cell_type": "markdown",
   "metadata": {},
   "source": [
    "- 단순 이름만 출력: dir()\n",
    "  - 리턴형: 리스트"
   ]
  },
  {
   "cell_type": "code",
   "execution_count": 1,
   "metadata": {
    "collapsed": false
   },
   "outputs": [
    {
     "data": {
      "text/plain": [
       "['In',\n",
       " 'Out',\n",
       " '_',\n",
       " '__',\n",
       " '___',\n",
       " '__builtin__',\n",
       " '__builtins__',\n",
       " '__doc__',\n",
       " '__name__',\n",
       " '_dh',\n",
       " '_i',\n",
       " '_i1',\n",
       " '_ih',\n",
       " '_ii',\n",
       " '_iii',\n",
       " '_oh',\n",
       " '_sh',\n",
       " 'exit',\n",
       " 'get_ipython',\n",
       " 'quit']"
      ]
     },
     "execution_count": 1,
     "metadata": {},
     "output_type": "execute_result"
    }
   ],
   "source": [
    "dir()"
   ]
  },
  {
   "cell_type": "markdown",
   "metadata": {},
   "source": [
    "### 2) 특정 객체가 지니고 있는 이름 리스트 출력"
   ]
  },
  {
   "cell_type": "code",
   "execution_count": 2,
   "metadata": {
    "collapsed": false
   },
   "outputs": [
    {
     "name": "stdout",
     "output_type": "stream",
     "text": [
      "['__abs__', '__add__', '__and__', '__class__', '__cmp__', '__coerce__', '__delattr__', '__div__', '__divmod__', '__doc__', '__float__', '__floordiv__', '__format__', '__getattribute__', '__getnewargs__', '__hash__', '__hex__', '__index__', '__init__', '__int__', '__invert__', '__long__', '__lshift__', '__mod__', '__mul__', '__neg__', '__new__', '__nonzero__', '__oct__', '__or__', '__pos__', '__pow__', '__radd__', '__rand__', '__rdiv__', '__rdivmod__', '__reduce__', '__reduce_ex__', '__repr__', '__rfloordiv__', '__rlshift__', '__rmod__', '__rmul__', '__ror__', '__rpow__', '__rrshift__', '__rshift__', '__rsub__', '__rtruediv__', '__rxor__', '__setattr__', '__sizeof__', '__str__', '__sub__', '__subclasshook__', '__truediv__', '__trunc__', '__xor__', 'bit_length', 'conjugate', 'denominator', 'imag', 'numerator', 'real']\n"
     ]
    }
   ],
   "source": [
    "a = 10\n",
    "print dir(a)"
   ]
  },
  {
   "cell_type": "code",
   "execution_count": 3,
   "metadata": {
    "collapsed": false
   },
   "outputs": [
    {
     "name": "stdout",
     "output_type": "stream",
     "text": [
      "['ArithmeticError', 'AssertionError', 'AttributeError', 'BaseException', 'BufferError', 'BytesWarning', 'DeprecationWarning', 'EOFError', 'Ellipsis', 'EnvironmentError', 'Exception', 'False', 'FloatingPointError', 'FutureWarning', 'GeneratorExit', 'IOError', 'ImportError', 'ImportWarning', 'IndentationError', 'IndexError', 'KeyError', 'KeyboardInterrupt', 'LookupError', 'MemoryError', 'NameError', 'None', 'NotImplemented', 'NotImplementedError', 'OSError', 'OverflowError', 'PendingDeprecationWarning', 'ReferenceError', 'RuntimeError', 'RuntimeWarning', 'StandardError', 'StopIteration', 'SyntaxError', 'SyntaxWarning', 'SystemError', 'SystemExit', 'TabError', 'True', 'TypeError', 'UnboundLocalError', 'UnicodeDecodeError', 'UnicodeEncodeError', 'UnicodeError', 'UnicodeTranslateError', 'UnicodeWarning', 'UserWarning', 'ValueError', 'Warning', 'ZeroDivisionError', '__IPYTHON__', '__IPYTHON__active', '__debug__', '__doc__', '__import__', '__name__', '__package__', 'abs', 'all', 'any', 'apply', 'basestring', 'bin', 'bool', 'buffer', 'bytearray', 'bytes', 'callable', 'chr', 'classmethod', 'cmp', 'coerce', 'compile', 'complex', 'copyright', 'credits', 'delattr', 'dict', 'dir', 'divmod', 'dreload', 'enumerate', 'eval', 'execfile', 'file', 'filter', 'float', 'format', 'frozenset', 'get_ipython', 'getattr', 'globals', 'hasattr', 'hash', 'help', 'hex', 'id', 'input', 'int', 'intern', 'isinstance', 'issubclass', 'iter', 'len', 'license', 'list', 'locals', 'long', 'map', 'max', 'memoryview', 'min', 'next', 'object', 'oct', 'open', 'ord', 'pow', 'print', 'property', 'range', 'raw_input', 'reduce', 'reload', 'repr', 'reversed', 'round', 'set', 'setattr', 'slice', 'sorted', 'staticmethod', 'str', 'sum', 'super', 'tuple', 'type', 'unichr', 'unicode', 'vars', 'xrange', 'zip']\n"
     ]
    }
   ],
   "source": [
    "print dir(__builtin__)"
   ]
  },
  {
   "cell_type": "markdown",
   "metadata": {},
   "source": [
    "### 3) 파이썬 버전 및 모듈들이 존재할 수 있는 패스 알아보기"
   ]
  },
  {
   "cell_type": "code",
   "execution_count": 4,
   "metadata": {
    "collapsed": false
   },
   "outputs": [
    {
     "name": "stdout",
     "output_type": "stream",
     "text": [
      "2.7.9 | 64-bit | (default, Jun 30 2015, 22:40:22) \n",
      "[GCC 4.1.2 20080704 (Red Hat 4.1.2-55)]\n",
      "\n",
      "['', '/home/goslim/Canopy/appdata/canopy-1.5.5.3123.rh5-x86_64/lib/python27.zip', '/home/goslim/Canopy/appdata/canopy-1.5.5.3123.rh5-x86_64/lib/python2.7', '/home/goslim/Canopy/appdata/canopy-1.5.5.3123.rh5-x86_64/lib/python2.7/plat-linux2', '/home/goslim/Canopy/appdata/canopy-1.5.5.3123.rh5-x86_64/lib/python2.7/lib-tk', '/home/goslim/Canopy/appdata/canopy-1.5.5.3123.rh5-x86_64/lib/python2.7/lib-old', '/home/goslim/Canopy/appdata/canopy-1.5.5.3123.rh5-x86_64/lib/python2.7/lib-dynload', '/home/goslim/Enthought/Canopy_64bit/User/lib/python2.7/site-packages', '/home/goslim/Canopy/appdata/canopy-1.5.5.3123.rh5-x86_64/lib/python2.7/site-packages', '/home/goslim/Enthought/Canopy_64bit/User/lib/python2.7/site-packages/IPython/extensions']\n"
     ]
    }
   ],
   "source": [
    "import sys\n",
    "print sys.version\n",
    "print\n",
    "print sys.path"
   ]
  },
  {
   "cell_type": "code",
   "execution_count": 5,
   "metadata": {
    "collapsed": false
   },
   "outputs": [
    {
     "name": "stdout",
     "output_type": "stream",
     "text": [
      "['__displayhook__', '__doc__', '__excepthook__', '__name__', '__package__', '__stderr__', '__stdin__', '__stdout__', '_clear_type_cache', '_current_frames', '_getframe', '_home', '_mercurial', 'api_version', 'argv', 'base_exec_prefix', 'base_prefix', 'builtin_module_names', 'byteorder', 'call_tracing', 'callstats', 'copyright', 'displayhook', 'dont_write_bytecode', 'exc_clear', 'exc_info', 'exc_type', 'excepthook', 'exec_prefix', 'executable', 'exit', 'exitfunc', 'flags', 'float_info', 'float_repr_style', 'getcheckinterval', 'getdefaultencoding', 'getdlopenflags', 'getfilesystemencoding', 'getprofile', 'getrecursionlimit', 'getrefcount', 'getsizeof', 'gettrace', 'hexversion', 'long_info', 'maxint', 'maxsize', 'maxunicode', 'meta_path', 'modules', 'path', 'path_hooks', 'path_importer_cache', 'platform', 'prefix', 'ps1', 'ps2', 'ps3', 'py3kwarning', 'setcheckinterval', 'setdlopenflags', 'setprofile', 'setrecursionlimit', 'settrace', 'stderr', 'stdin', 'stdout', 'subversion', 'version', 'version_info', 'warnoptions']\n"
     ]
    }
   ],
   "source": [
    "print dir(sys)"
   ]
  },
  {
   "cell_type": "markdown",
   "metadata": {},
   "source": [
    "### 4) 연습문제"
   ]
  },
  {
   "cell_type": "markdown",
   "metadata": {},
   "source": [
    "- 다음은 math 모듈을 가져오는 코딩이다. math 모듈을 가져온 후 math 모듈에 정의된 함수를 이용하여 -4.3 값을 반올림한 후 절대값을 취하는 코딩을 한 줄로 완성하라."
   ]
  },
  {
   "cell_type": "code",
   "execution_count": 6,
   "metadata": {
    "collapsed": true
   },
   "outputs": [],
   "source": [
    "import math"
   ]
  },
  {
   "cell_type": "code",
   "execution_count": 7,
   "metadata": {
    "collapsed": false
   },
   "outputs": [
    {
     "data": {
      "text/plain": [
       "4.0"
      ]
     },
     "execution_count": 7,
     "metadata": {},
     "output_type": "execute_result"
    }
   ],
   "source": [
    "math.fabs(round(-4.3))"
   ]
  },
  {
   "cell_type": "markdown",
   "metadata": {},
   "source": [
    "- 다음은 두 점의 좌표 (x1, y1), (x3, y2)를 나타내는 변수 값들이다. math 모듈에 정의된 함수를 이용하여 이 두 점 사이의 거리를 구하는 식을 한 줄로 완성하라. "
   ]
  },
  {
   "cell_type": "code",
   "execution_count": 8,
   "metadata": {
    "collapsed": true
   },
   "outputs": [],
   "source": [
    "x1 = 10\n",
    "y1 = 20\n",
    "x2 = 30\n",
    "y2 = 40"
   ]
  },
  {
   "cell_type": "code",
   "execution_count": 9,
   "metadata": {
    "collapsed": false
   },
   "outputs": [
    {
     "data": {
      "text/plain": [
       "28.284271247461902"
      ]
     },
     "execution_count": 9,
     "metadata": {},
     "output_type": "execute_result"
    }
   ],
   "source": [
    "math.sqrt(math.pow(x1-x2,2)+math.pow(y1-y2,2))"
   ]
  },
  {
   "cell_type": "markdown",
   "metadata": {},
   "source": [
    "## 2. E-learning 3, 4 보충 자료"
   ]
  },
  {
   "cell_type": "markdown",
   "metadata": {},
   "source": [
    "### 1) 파이썬에서 지원하는 각종 타입들 알아보기"
   ]
  },
  {
   "cell_type": "code",
   "execution_count": 10,
   "metadata": {
    "collapsed": false
   },
   "outputs": [
    {
     "data": {
      "text/plain": [
       "['BooleanType',\n",
       " 'BufferType',\n",
       " 'BuiltinFunctionType',\n",
       " 'BuiltinMethodType',\n",
       " 'ClassType',\n",
       " 'CodeType',\n",
       " 'ComplexType',\n",
       " 'DictProxyType',\n",
       " 'DictType',\n",
       " 'DictionaryType',\n",
       " 'EllipsisType',\n",
       " 'FileType',\n",
       " 'FloatType',\n",
       " 'FrameType',\n",
       " 'FunctionType',\n",
       " 'GeneratorType',\n",
       " 'GetSetDescriptorType',\n",
       " 'InstanceType',\n",
       " 'IntType',\n",
       " 'LambdaType',\n",
       " 'ListType',\n",
       " 'LongType',\n",
       " 'MemberDescriptorType',\n",
       " 'MethodType',\n",
       " 'ModuleType',\n",
       " 'NoneType',\n",
       " 'NotImplementedType',\n",
       " 'ObjectType',\n",
       " 'SliceType',\n",
       " 'StringType',\n",
       " 'StringTypes',\n",
       " 'TracebackType',\n",
       " 'TupleType',\n",
       " 'TypeType',\n",
       " 'UnboundMethodType',\n",
       " 'UnicodeType',\n",
       " 'XRangeType',\n",
       " '__builtins__',\n",
       " '__doc__',\n",
       " '__file__',\n",
       " '__name__',\n",
       " '__package__']"
      ]
     },
     "execution_count": 10,
     "metadata": {},
     "output_type": "execute_result"
    }
   ],
   "source": [
    "import types\n",
    "\n",
    "dir(types)"
   ]
  },
  {
   "cell_type": "code",
   "execution_count": 11,
   "metadata": {
    "collapsed": false
   },
   "outputs": [
    {
     "name": "stdout",
     "output_type": "stream",
     "text": [
      "True\n",
      "True\n",
      "True\n",
      "True\n",
      "True\n",
      "True\n"
     ]
    }
   ],
   "source": [
    "print type(123) is types.IntType\n",
    "print type(123.0) is types.FloatType\n",
    "print type('abc') is types.StringType\n",
    "print type([]) is types.ListType\n",
    "print type(()) is types.TupleType\n",
    "print type({}) is types.DictionaryType"
   ]
  },
  {
   "cell_type": "markdown",
   "metadata": {},
   "source": [
    "### 2) 레퍼런스 카운트 (Reference Count)와 쓰레기 수집 (Garbage Collection) "
   ]
  },
  {
   "cell_type": "code",
   "execution_count": 12,
   "metadata": {
    "collapsed": true
   },
   "outputs": [],
   "source": [
    "x = y = z = 100"
   ]
  },
  {
   "cell_type": "markdown",
   "metadata": {},
   "source": [
    "![image](images/referenceCount1.png)"
   ]
  },
  {
   "cell_type": "code",
   "execution_count": 13,
   "metadata": {
    "collapsed": true
   },
   "outputs": [],
   "source": [
    "del x"
   ]
  },
  {
   "cell_type": "markdown",
   "metadata": {},
   "source": [
    "![image](images/referenceCount2.png)"
   ]
  },
  {
   "cell_type": "code",
   "execution_count": 14,
   "metadata": {
    "collapsed": true
   },
   "outputs": [],
   "source": [
    "y = 200\n",
    "z = 300"
   ]
  },
  {
   "cell_type": "markdown",
   "metadata": {},
   "source": [
    "![image](images/referenceCount3.png)"
   ]
  },
  {
   "cell_type": "markdown",
   "metadata": {},
   "source": [
    "- 레퍼런스 카운트를 얻는 법\n",
    "  - sys 모듈의 getrefcount() 함수: 본 함수가 작업 처리를 하기 위해 원래 레퍼런스 값보다 1 큰 값을 반환함"
   ]
  },
  {
   "cell_type": "code",
   "execution_count": 15,
   "metadata": {
    "collapsed": false
   },
   "outputs": [
    {
     "name": "stdout",
     "output_type": "stream",
     "text": [
      "3\n",
      "3\n",
      "\n",
      "4\n",
      "4\n",
      "3\n",
      "\n",
      "5\n",
      "5\n",
      "5\n",
      "\n",
      "2\n",
      "2\n",
      "\n",
      "3\n"
     ]
    }
   ],
   "source": [
    "import sys\n",
    "\n",
    "a1 = 191919\n",
    "print sys.getrefcount(a1)  # 새로운 191919 객체를 만들고 이 객체에 대한 reference count 반환\n",
    "\n",
    "a2 = 191919\n",
    "print sys.getrefcount(a2)  # 역시 새로운 191919 객체를 만들고 이 객체에 대한 reference count 반환\n",
    "\n",
    "print\n",
    "\n",
    "a3 = a1\n",
    "print sys.getrefcount(a3)  # a1이 참조하는 객체를 a3가 동시에 참조함\n",
    "print sys.getrefcount(a1)  # a1과 a3가 참조하는 객체는 동일하며, reference count는 기존보다 1이 증가되어 있음 \n",
    "print sys.getrefcount(a2)  # a2는 여전히 reference count가 이전 값과 동일함\n",
    "print\n",
    "\n",
    "aa1 = aa2 = aa3 = 202020\n",
    "print sys.getrefcount(aa1)\n",
    "print sys.getrefcount(aa2)\n",
    "print sys.getrefcount(aa3)\n",
    "\n",
    "print \n",
    "\n",
    "b1 = object()\n",
    "print sys.getrefcount(b1)\n",
    "\n",
    "b2 = object()\n",
    "print sys.getrefcount(b2)\n",
    "\n",
    "print\n",
    "\n",
    "print sys.getrefcount('foobar')"
   ]
  },
  {
   "cell_type": "markdown",
   "metadata": {},
   "source": [
    "### 3) 연습문제"
   ]
  },
  {
   "cell_type": "markdown",
   "metadata": {},
   "source": [
    "- int 형 객체 1에 대해 다음 예제를 살펴보고 위 예제와 결과가 왜 다른지 생각해 보시오. "
   ]
  },
  {
   "cell_type": "code",
   "execution_count": 16,
   "metadata": {
    "collapsed": false
   },
   "outputs": [
    {
     "name": "stdout",
     "output_type": "stream",
     "text": [
      "1805\n",
      "1804\n",
      "\n",
      "1805\n",
      "1805\n",
      "1805\n",
      "\n"
     ]
    }
   ],
   "source": [
    "a1 = 1\n",
    "print sys.getrefcount(a1)\n",
    "\n",
    "a2 = 1\n",
    "print sys.getrefcount(a2)\n",
    "\n",
    "print\n",
    "\n",
    "a3 = a1\n",
    "print sys.getrefcount(a3)\n",
    "print sys.getrefcount(a1) \n",
    "print sys.getrefcount(a2)\n",
    "print"
   ]
  },
  {
   "cell_type": "markdown",
   "metadata": {},
   "source": [
    "- 다음 사항을 읽고 요구하는 프로그램을 작성하시오.\n",
    "  * 정다각형은 모든 변의 길이와 내각의 크기가 같은 $n$개의 변으로 이루어진 다각형이다 (즉, 다각형이 등변이고 등각이다). \n",
    "  * 한변의 길이가 $s$일 때 정다각형의 넓이를 계산하는 공식은 다음과 같다.\n",
    "    * $정다각형의 넓이 = (n \\times s^2) / (4 \\times tan(\\pi / n))$\n",
    "  * 사용자로 부터 정다각형의 변의 개수와 변의 길이를 입력받고 정다각형의 넓이를 출력하는 프로그램을 작성하시오.\n",
    "  * 출력예는 다음과 같다.\n",
    "  \n",
    "      [출력예]\n",
    "   ```\n",
    "   변의 개수를 입력하세요: 5 \n",
    "   변의 길이를 입력하세요: 6.5\n",
    "   다각형의 넓이는 73.69017017488385 입니다.\n",
    "   ```"
   ]
  },
  {
   "cell_type": "code",
   "execution_count": 17,
   "metadata": {
    "collapsed": false
   },
   "outputs": [
    {
     "name": "stdout",
     "output_type": "stream",
     "text": [
      "변의 개수를 입력하세요: 4\n",
      "변의 길이를 입력하세요: 4\n",
      "다각형의 넓이는 16.0 입니다.\n"
     ]
    }
   ],
   "source": [
    "n  = input(\"변의 개수를 입력하세요: \")\n",
    "s  = input(\"변의 길이를 입력하세요: \")\n",
    "area = (n*s*s)/(4*math.tan(math.pi/n))\n",
    "print \"다각형의 넓이는 \"+str(area)+\" 입니다.\"\n"
   ]
  },
  {
   "cell_type": "markdown",
   "metadata": {},
   "source": [
    "- 다음 사항을 읽고 요구하는 프로그램을 작성하시오.\n",
    "  * 사용자로 부터 ASCII 코드 (0부터 127 사이의 정수)를 입력받는다. \n",
    "  * 입력받은 코드에 대한 문자를 출력하는 프로그램을 작성하시오.\n",
    "  * 출력예는 다음과 같다.\n",
    "    \n",
    "      [출력예]\n",
    "   ```\n",
    "   ASCII코드를 입력하세요: 69 \n",
    "   문자는 E 입니다.\n",
    "   ```"
   ]
  },
  {
   "cell_type": "code",
   "execution_count": 18,
   "metadata": {
    "collapsed": false
   },
   "outputs": [
    {
     "name": "stdout",
     "output_type": "stream",
     "text": [
      "ASCII코드를 입력하세요: 69\n",
      "문자는 E 입니다.\n"
     ]
    }
   ],
   "source": [
    "code = input(\"ASCII코드를 입력하세요: \")\n",
    "print \"문자는 \"+chr(code) +\" 입니다.\""
   ]
  },
  {
   "cell_type": "markdown",
   "metadata": {},
   "source": [
    "## 3. E-learning 5, 6 보충 자료"
   ]
  },
  {
   "cell_type": "markdown",
   "metadata": {},
   "source": [
    "### 1) 비트연산자"
   ]
  },
  {
   "cell_type": "markdown",
   "metadata": {},
   "source": [
    "- ~ : 비트 반전 (보수)\n",
    "- <<: 왼쪽으로 비트 이동\n",
    "  - a << b: a \\* 2 \\** b 와 동일\n",
    "- \\>>: 오른쪽으로 비트 이동\n",
    "  - a >> b: a / 2 \\** b 와 동일\n",
    "- & : 비트 단위 AND\n",
    "- | : 비트 단위 OR\n",
    "- ^ : 비트 단위 XOR"
   ]
  },
  {
   "cell_type": "code",
   "execution_count": 19,
   "metadata": {
    "collapsed": true
   },
   "outputs": [],
   "source": [
    "import math\n",
    "def bitcounter(n):\n",
    "    return math.floor(math.log(n,2)) + 1"
   ]
  },
  {
   "cell_type": "code",
   "execution_count": 20,
   "metadata": {
    "collapsed": false
   },
   "outputs": [
    {
     "name": "stdout",
     "output_type": "stream",
     "text": [
      "2\n",
      "0b11\n"
     ]
    }
   ],
   "source": [
    "a = 3                 # \"0000 0011\"\n",
    "print a.bit_length()  # 해당 수치를 표현하기 위한 비트의 개수를 반환 \n",
    "print bin(a)          # 해당 수치를 2진수로 변환"
   ]
  },
  {
   "cell_type": "code",
   "execution_count": 21,
   "metadata": {
    "collapsed": false
   },
   "outputs": [
    {
     "name": "stdout",
     "output_type": "stream",
     "text": [
      "12\n",
      "4\n",
      "0b1100\n"
     ]
    }
   ],
   "source": [
    "b = a << 2            # \"0000 1100\", 오른쪽에는 0으로 채워짐 (a * 2 ** 2 와 동일)\n",
    "print b\n",
    "print b.bit_length()\n",
    "print bin(b)"
   ]
  },
  {
   "cell_type": "code",
   "execution_count": 22,
   "metadata": {
    "collapsed": false
   },
   "outputs": [
    {
     "name": "stdout",
     "output_type": "stream",
     "text": [
      "340282366920938463463374607431768211456\n"
     ]
    }
   ],
   "source": [
    "print 1 << 128   # 1 * 2 ** 128 과 동일 (롱형으로 자동변환)"
   ]
  },
  {
   "cell_type": "code",
   "execution_count": 23,
   "metadata": {
    "collapsed": false
   },
   "outputs": [
    {
     "name": "stdout",
     "output_type": "stream",
     "text": [
      "2\n",
      "2\n"
     ]
    }
   ],
   "source": [
    "c = 4            # \"0000 0100\"\n",
    "print c >> 1     # \"0000 0010\", 왼쪽에도 0으로 채워짐, 4 / 2 ** 1과 동일\n",
    "\n",
    "d = 16\n",
    "print d >> 3     # 16 / 2 ** 3과 동일 "
   ]
  },
  {
   "cell_type": "markdown",
   "metadata": {},
   "source": [
    "- [참고] 2의 보수법으로 음수를 메모리에 표현하는 방법\n",
    "  - http://goo.gl/CIVefJ\n",
    "  - http://goo.gl/5bJ0v5"
   ]
  },
  {
   "cell_type": "code",
   "execution_count": 24,
   "metadata": {
    "collapsed": false
   },
   "outputs": [
    {
     "name": "stdout",
     "output_type": "stream",
     "text": [
      "-2\n"
     ]
    }
   ],
   "source": [
    "e = -4           # \"1111 1100\"  \n",
    "print e >> 1     # \"1111 1110\", 음수의 경우 왼쪽에는 1로 채워짐"
   ]
  },
  {
   "cell_type": "markdown",
   "metadata": {},
   "source": [
    "- Exclusive OR (XOR)\n",
    "  - 서로 같은 비트이면 False\n",
    "  - 서로 다른 비트이면 True"
   ]
  },
  {
   "cell_type": "code",
   "execution_count": 25,
   "metadata": {
    "collapsed": false
   },
   "outputs": [
    {
     "name": "stdout",
     "output_type": "stream",
     "text": [
      "2\n",
      "11\n",
      "9\n"
     ]
    }
   ],
   "source": [
    "f = 3\n",
    "print f & 2         #0000 0011 bit_and 0000 0010 = 0000 0010\n",
    "print f | 8         #0000 0011 bit_or 0000 1000 = 0000 1011\n",
    "print 0x0f ^ 0x06   #0000 1111 exclusive_or 0000 0110 = 0000 1001"
   ]
  },
  {
   "cell_type": "markdown",
   "metadata": {},
   "source": [
    "### 2) 코드 학습: 시각 다루기"
   ]
  },
  {
   "cell_type": "markdown",
   "metadata": {},
   "source": [
    "- Unix Epoch: 1970년 1월 1일 0시"
   ]
  },
  {
   "cell_type": "code",
   "execution_count": 26,
   "metadata": {
    "collapsed": false
   },
   "outputs": [
    {
     "name": "stdout",
     "output_type": "stream",
     "text": [
      "1442926438.95\n",
      "totalSeconds - 1442926438\n",
      "totalMinutes - 24048773\n",
      "totalHours - 400812\n",
      "현재 시각은 12 : 53 : 58 GMT 입니다.\n"
     ]
    }
   ],
   "source": [
    "import time\n",
    "\n",
    "currentTime = time.time()           # Unix Epoch 부터 현재까지 경과된 시각을 GMT/UST 기준 및 ms 단위로 얻어온다.\n",
    "print currentTime\n",
    "\n",
    "totalSeconds = int(currentTime)     # 1970년 1월 1일 0시 이후부터 현재시각까지의 전체 초 값을 얻어온다.\n",
    "print \"totalSeconds -\", totalSeconds\n",
    "currentSecond = totalSeconds % 60   # 현재 시각의 초 값을 얻어온다.\n",
    "\n",
    "totalMinutes = totalSeconds // 60   # 전체 분 값을 계산한다. \n",
    "print \"totalMinutes -\", totalMinutes\n",
    "currentMinute = totalMinutes % 60   # 현재 시각의 분 값을 얻어온다.\n",
    "\n",
    "totalHours = totalMinutes // 60      # 전체 시 값을 계산한다.\n",
    "print \"totalHours -\", totalHours\n",
    "currentHours = totalHours % 24      # 현재 시각의 시 값을 얻어온다.\n",
    "\n",
    "print \"현재 시각은\", currentHours, \":\", currentMinute, \":\", currentSecond, \"GMT 입니다.\""
   ]
  },
  {
   "cell_type": "markdown",
   "metadata": {},
   "source": [
    "- 대한민국의 Time Zone 및 로컬타임 얻기"
   ]
  },
  {
   "cell_type": "code",
   "execution_count": 27,
   "metadata": {
    "collapsed": false
   },
   "outputs": [
    {
     "name": "stdout",
     "output_type": "stream",
     "text": [
      "('KST', 'KST')\n",
      "\n",
      "time.struct_time(tm_year=2015, tm_mon=9, tm_mday=22, tm_hour=21, tm_min=53, tm_sec=59, tm_wday=1, tm_yday=265, tm_isdst=0)\n"
     ]
    }
   ],
   "source": [
    "print time.tzname\n",
    "print\n",
    "localtime = time.localtime()\n",
    "print localtime"
   ]
  },
  {
   "cell_type": "markdown",
   "metadata": {},
   "source": [
    "- 대한민국의 Time Zone 및 GMT/UST Time Zone 사이의 Offset 얻어오기\n",
    "  - https://en.wikipedia.org/wiki/List_of_UTC_time_offsets 에서 확인"
   ]
  },
  {
   "cell_type": "code",
   "execution_count": 28,
   "metadata": {
    "collapsed": false
   },
   "outputs": [
    {
     "name": "stdout",
     "output_type": "stream",
     "text": [
      "9\n"
     ]
    }
   ],
   "source": [
    "print localtime.tm_hour - currentHours"
   ]
  },
  {
   "cell_type": "markdown",
   "metadata": {},
   "source": [
    "### 3) 코드 학습: 숫자 맞추기 게임 소스"
   ]
  },
  {
   "cell_type": "code",
   "execution_count": 29,
   "metadata": {
    "collapsed": false
   },
   "outputs": [
    {
     "name": "stdout",
     "output_type": "stream",
     "text": [
      "Hello! What is your name?\n",
      "Youn-Hee Han\n",
      "Well, Youn-Hee Han, I am thinking of a number between 1 and 20.\n",
      "Take a guess.\n",
      "7\n",
      "Your guess is too low.\n",
      "Take a guess.\n",
      "10\n",
      "Your guess is too low.\n",
      "Take a guess.\n",
      "15\n",
      "Your guess is too low.\n",
      "Take a guess.\n",
      "17\n",
      "Your guess is too low.\n",
      "Take a guess.\n",
      "19\n",
      "Your guess is too low.\n",
      "Take a guess.\n",
      "20\n",
      "Good job, Youn-Hee Han! You guessed my number in 6 guesses!\n"
     ]
    }
   ],
   "source": [
    "# This is a guess the number game.\n",
    "import random\n",
    "\n",
    "guessesTaken = 0\n",
    "\n",
    "print('Hello! What is your name?')\n",
    "myName = raw_input()\n",
    "\n",
    "number = random.randint(1, 20) # return random integer in range [a, b], including both end points.\n",
    "print('Well, ' + myName + ', I am thinking of a number between 1 and 20.')\n",
    "\n",
    "while guessesTaken < 6:\n",
    "    print('Take a guess.') \n",
    "    guess = int(input())\n",
    "\n",
    "    guessesTaken = guessesTaken + 1\n",
    "\n",
    "    if guess < number:\n",
    "        print('Your guess is too low.')\n",
    "\n",
    "    if guess > number:\n",
    "        print('Your guess is too high.')\n",
    "\n",
    "    if guess == number:\n",
    "        break\n",
    "\n",
    "if guess == number:\n",
    "    guessesTaken = str(guessesTaken)\n",
    "    print('Good job, ' + myName + '! You guessed my number in ' + guessesTaken + ' guesses!')\n",
    "\n",
    "if guess != number:\n",
    "    number = str(number)\n",
    "    print('Nope. The number I was thinking of was ' + number)"
   ]
  },
  {
   "cell_type": "markdown",
   "metadata": {},
   "source": [
    "### 4) [참고] turtle 모듈 활용하기\n",
    " - https://opentechschool.github.io/python-beginners/ko/simple_drawing.html\n",
    " - http://openbookproject.net/thinkcs/python/english3e/hello_little_turtles.html\n",
    " - https://www.youtube.com/watch?v=vEkiaHtdwIk\n",
    " - https://python-turtle-demo.googlecode.com/files/SevenWaysToUseTurtle-PyCon2009.pdf"
   ]
  },
  {
   "cell_type": "code",
   "execution_count": 1,
   "metadata": {
    "collapsed": false
   },
   "outputs": [],
   "source": [
    "import turtle\n",
    "\n",
    "t = turtle.Turtle()\n",
    "t.pensize(3)             # 펜 사이즈를 3으로 설정한다.\n",
    "t.penup()                # 펜을 종이로 부터 들어올린다.\n",
    "t.goto(-200, -50)        # 해당 좌표로 이동한다.\n",
    "t.pendown()              # 펜을 종이에 놓는다.\n",
    "t.circle(40, steps=3)    # 반지름이 40인 원을 3 step으로만 그린다. ==> 삼각형이 그려짐\n",
    "\n",
    "t.penup()\n",
    "t.goto(-100, -50)\n",
    "t.pendown()\n",
    "t.circle(40, steps=4)\n",
    "\n",
    "t.penup()\n",
    "t.goto(0, -50)\n",
    "t.pendown()\n",
    "t.circle(40, steps=5)\n",
    "\n",
    "t.penup()\n",
    "t.goto(100, -50)\n",
    "t.pendown()\n",
    "t.circle(40, steps=6)\n",
    "\n",
    "t.penup()\n",
    "t.goto(200, -50)\n",
    "t.pendown()\n",
    "t.circle(40, steps=40)"
   ]
  },
  {
   "cell_type": "markdown",
   "metadata": {},
   "source": [
    " <div style=\"text-align:center; width:auto; margin-left:auto; margin-right:auto;\"><h4>Turtle의 펜 그리기 상태 메소드</div>\n",
    " \n",
    "| 메소드 명 | 설명 | \n",
    "| ---------- | :--------- |\n",
    "|turtle.pendown()|펜을 내려놓는다 - 움직일 때 그려진다.|\n",
    "|turtle.penup()|펜을 들어올린다 - 움직일 때 그려지지 않는다.|\n",
    "|turtle.pensize()|선의 두께를 특정 폭으로 설정한다.|"
   ]
  },
  {
   "cell_type": "markdown",
   "metadata": {},
   "source": [
    " "
   ]
  },
  {
   "cell_type": "markdown",
   "metadata": {},
   "source": [
    " <div style=\"text-align:center; width:auto; margin-left:auto; margin-right:auto;\"><h4>Turtle의 이동 메소드</div>\n",
    "\n",
    "|<div style=\"text-align:center\"> 메소드 명</div> | <div style=\"text-align:center\">설명 </div>| \n",
    "| ---------- | :--------- |\n",
    "|turtle.forward(d)|turtle이 향하고 있는 방향으로 특정 거리 d만큼 앞으로 이동시킨다.|\n",
    "|turtle.backward(d)|turtle이 향하고 있는 반대 방향으로 특정 거리 d만큼 뒤로 이동시킨다. turtle의 방향은 바뀌지 않는다.|\n",
    "|turtle.right(angle)|turtle을 특정 각만큼 오른쪽으로 회전시킨다.|\n",
    "|turtle.left(angle)|turtle을 특정 각만큼 왼쪽으로 회전시킨다.|\n",
    "|turtle.goto(x,y)|turtle을 절대 위치 (x,y)로 옮긴다.|\n",
    "|turtle.setx(x)|turtle의 x 좌표를 특정 위치로 옮긴다.|\n",
    "|turtle.setx(y)|turtle의 y 좌표를 특정 위치로 옮긴다.|\n",
    "|turtle.setheading(angle)|특정 각도로 turtle의 방향을 설정한다. 0-동쪽, 90-북쪽, 180-서쪽, 270-남쪽.|\n",
    "|turtle.home()|turtle을 원점 (0,0)으로 옮기고 동쪽 방향으로 설정한다.|\n",
    "|turtle.circle(r, ext, steps)|특정 반지름 r, 경계 ext와 단계 step인 원을 그린다.|\n",
    "|turtle.dot(diameter, color)|특정 지름 diameter와 색상 color인 원을 그린다.|\n",
    "|turtle.undo()|turtle의 마지막 명령을 (반복적으로)되돌린다.|\n",
    "|turtle.speed(s)|1부터 10사이의 정수(10이 최대) s로 turtle의 속도를 설정한다.|\n"
   ]
  },
  {
   "cell_type": "markdown",
   "metadata": {},
   "source": [
    " "
   ]
  },
  {
   "cell_type": "markdown",
   "metadata": {},
   "source": [
    " <div style=\"text-align:center; width:auto; margin-left:auto; margin-right:auto;\"><h4>Turtle 펜 색상, 채우기와 그리기 메소드</div>\n",
    "\n",
    "|<div style=\"text-align:center\"> 메소드 명</div> | <div style=\"text-align:center\">설명 </div>|\n",
    "| ---------- | :--------- |\n",
    "|turtle.color(c)|펜 색상을 c로 설정한다.|\n",
    "|turtle.fillcolor(c)|펜 채우기 색상을 c로 설정한다.|\n",
    "|turtle.begin_fill()|도형을 채우기 전에 이 메소드를 호출한다.|\n",
    "|turtle.end_fill()|begin_fill에 대한 마지막 호출전까지 그려진 도형을 채운다.|\n",
    "|turtle.filling()|채우기 상태를 반환한다. 채우기 상태이면 True, 그렇지 않으면 False|\n",
    "|turtle.clear()|창을 깨끗하게 지운다. turtle의 상태와 위치는 영향을 받지 않는다.|\n",
    "|turtle.reset()|창을 깨끗하게 지우고 turtle의 상태와 위치를 원래 기본값으로 재설정한다.|\n",
    "|turtle.screensize(w,h)|캔버스의 폭과 높이를 w와 h로 설정한다.|\n",
    "|turtle.hideturtle()|turtle을 보이지 않게 만든다.|\n",
    "|turtle.showturtle()|turtle을 보이게 만든다.|\n",
    "|turtle.isvisible()|turtle이 보이면 True를 반환한다.|\n",
    "|turtle.write(s,font=(\"Arial\",8,\"normal\"))|현재 turtle의 위치에 문자열 s를 쓴다. 폰트는 폰트명, 폰트크기, 폰트유형의 세 값으로 구성된다.|"
   ]
  },
  {
   "cell_type": "markdown",
   "metadata": {},
   "source": [
    "## 4. E-learning 7, 8 보충 자료"
   ]
  },
  {
   "cell_type": "markdown",
   "metadata": {},
   "source": [
    "### 1) unicode 추가 설명"
   ]
  },
  {
   "cell_type": "code",
   "execution_count": 7,
   "metadata": {
    "collapsed": false
   },
   "outputs": [],
   "source": [
    "a = unicode(\"한글과 세종대왕\", 'utf-8')\n",
    "b = u\"한글과 세종대왕\""
   ]
  },
  {
   "cell_type": "code",
   "execution_count": 9,
   "metadata": {
    "collapsed": false
   },
   "outputs": [
    {
     "name": "stdout",
     "output_type": "stream",
     "text": [
      "True\n",
      "False\n"
     ]
    }
   ],
   "source": [
    "print a == b\n",
    "print a is b"
   ]
  },
  {
   "cell_type": "code",
   "execution_count": 23,
   "metadata": {
    "collapsed": false
   },
   "outputs": [
    {
     "name": "stdout",
     "output_type": "stream",
     "text": [
      "65\n",
      "A\n"
     ]
    }
   ],
   "source": [
    "print ord('A')    # ord(): 문자의 ASCII 코드값 반환\n",
    "print chr(65)     # char(): ASCII 코드 65를 지니는 문자를 반환"
   ]
  },
  {
   "cell_type": "markdown",
   "metadata": {},
   "source": [
    "- http://www.fileformat.info/info/unicode/char/ac00/index.htm"
   ]
  },
  {
   "cell_type": "code",
   "execution_count": 27,
   "metadata": {
    "collapsed": false
   },
   "outputs": [
    {
     "name": "stdout",
     "output_type": "stream",
     "text": [
      "가\n",
      "가\n"
     ]
    }
   ],
   "source": [
    "print unichr(0xac00)  # unichr():  UNICODE 코드 0xac00를 지니는 문자를 반환\n",
    "print unichr(44032)   "
   ]
  },
  {
   "cell_type": "code",
   "execution_count": 29,
   "metadata": {
    "collapsed": false
   },
   "outputs": [
    {
     "name": "stdout",
     "output_type": "stream",
     "text": [
      "가 각 갂 갃 간 갅 갆 갇 갈 갉 갊 갋 갌 갍 갎 갏 감 갑 값 갓 갔 강 갖 갗 갘 같 갚 갛 개 객 갞 갟 갠 갡 갢 갣 갤 갥 갦 갧 갨 갩 갪 갫 갬 갭 갮 갯 갰 갱 갲 갳 갴 갵 갶 갷 갸 갹 갺 갻 갼 갽 갾 갿 걀 걁 걂 걃 걄 걅 걆 걇 걈 걉 걊 걋 걌 걍 걎 걏 걐 걑 걒 걓 걔 걕 걖 걗 걘 걙 걚 걛 걜 걝 걞 걟 걠 걡 걢 걣 걤 걥 걦 걧 걨 걩 걪 걫 걬 걭 걮 걯 거 걱 걲 걳 건 걵 걶 걷 걸 걹 걺 걻 걼 걽 걾 걿 검 겁 겂 것 겄 겅 겆 겇 겈 겉 겊 겋 게 겍 겎 겏 겐 겑 겒 겓 겔 겕 겖 겗 겘 겙 겚 겛 겜 겝 겞 겟 겠 겡 겢 겣 겤 겥 겦 겧 겨 격 겪 겫 견 겭 겮 겯 결 겱 겲 겳 겴 겵 겶 겷 겸 겹 겺 겻 겼 경 겾 겿 곀 곁 곂 곃 계 곅 곆 곇 곈 곉 곊 곋 곌 곍 곎 곏 곐 곑 곒 곓 곔 곕 곖 곗 곘 곙 곚 곛 곜 곝 곞 곟 고 곡 곢 곣 곤 곥 곦 곧 골 곩 곪 곫 곬 곭 곮 곯 곰 곱 곲 곳 곴 공 곶 곷 곸 곹 곺 곻 과 곽 곾 곿 관 괁 괂 괃 괄 괅 괆 괇 괈 괉 괊 괋 괌 괍 괎 괏 괐 광 괒 괓 괔 괕 괖 괗 괘 괙 괚 괛 괜 괝 괞 괟 괠 괡 괢 괣 괤 괥 괦 괧 괨 괩 괪 괫 괬 괭 괮 괯 괰 괱 괲 괳 괴 괵 괶 괷 괸 괹 괺 괻 괼 괽 괾 괿 굀 굁 굂 굃 굄 굅 굆 굇 굈 굉 굊 굋 굌 굍 굎 굏 교 굑 굒 굓 굔 굕 굖 굗 굘 굙 굚 굛 굜 굝 굞 굟 굠 굡 굢 굣 굤 굥 굦 굧 굨 굩 굪 굫 구 국 굮 굯 군 굱 굲 굳 굴 굵 굶 굷 굸 굹 굺 굻 굼 굽 굾 굿 궀 궁 궂 궃 궄 궅 궆 궇 궈 궉 궊 궋 권 궍 궎 궏 궐 궑 궒 궓 궔 궕 궖 궗 궘 궙 궚 궛 궜 궝 궞 궟 궠 궡 궢 궣 궤 궥 궦 궧 궨 궩 궪 궫 궬 궭 궮 궯 궰 궱 궲 궳 궴 궵 궶 궷 궸 궹 궺 궻 궼 궽 궾 궿 귀 귁 귂 귃 귄 귅 귆 귇 귈 귉 귊 귋 귌 귍 귎 귏 귐 귑 귒 귓 귔 귕 귖 귗 귘 귙 귚 귛 규 귝 귞 귟 균 귡 귢 귣 귤 귥 귦 귧 귨 귩 귪 귫 귬 귭 귮 귯 귰 귱 귲 귳 귴 귵 귶 귷 그 극 귺 귻 근 귽 귾 귿 글 긁 긂 긃 긄 긅 긆 긇 금 급 긊 긋 긌 긍 긎 긏 긐 긑 긒 긓 긔 긕 긖 긗 긘 긙 긚 긛 긜 긝 긞 긟 긠 긡 긢 긣 긤 긥 긦 긧 긨 긩 긪 긫 긬 긭 긮 긯 기 긱 긲 긳 긴 긵 긶 긷 길 긹 긺 긻 긼 긽 긾 긿 김 깁 깂 깃 깄 깅 깆 깇 깈 깉 깊 깋 까 깍 깎 깏 깐 깑 깒 깓 깔 깕 깖 깗 깘 깙 깚 깛 깜 깝 깞 깟 깠 깡 깢 깣 깤 깥 깦 깧 깨 깩 깪 깫 깬 깭 깮 깯 깰 깱 깲 깳 깴 깵 깶 깷 깸 깹 깺 깻 깼 깽 깾 깿 꺀 꺁 꺂 꺃 꺄 꺅 꺆 꺇 꺈 꺉 꺊 꺋 꺌 꺍 꺎 꺏 꺐 꺑 꺒 꺓 꺔 꺕 꺖 꺗 꺘 꺙 꺚 꺛 꺜 꺝 꺞 꺟 꺠 꺡 꺢 꺣 꺤 꺥 꺦 꺧 꺨 꺩 꺪 꺫 꺬 꺭 꺮 꺯 꺰 꺱 꺲 꺳 꺴 꺵 꺶 꺷 꺸 꺹 꺺 꺻 꺼 꺽 꺾 꺿 껀 껁 껂 껃 껄 껅 껆 껇 껈 껉 껊 껋 껌 껍 껎 껏 껐 껑 껒 껓 껔 껕 껖 껗 께 껙 껚 껛 껜 껝 껞 껟 껠 껡 껢 껣 껤 껥 껦 껧 껨 껩 껪 껫 껬 껭 껮 껯 껰 껱 껲 껳 껴 껵 껶 껷 껸 껹 껺 껻 껼 껽 껾 껿 꼀 꼁 꼂 꼃 꼄 꼅 꼆 꼇 꼈 꼉 꼊 꼋 꼌 꼍 꼎 꼏 꼐 꼑 꼒 꼓 꼔 꼕 꼖 꼗 꼘 꼙 꼚 꼛 꼜 꼝 꼞 꼟 꼠 꼡 꼢 꼣 꼤 꼥 꼦 꼧 꼨 꼩 꼪 꼫 꼬 꼭 꼮 꼯 꼰 꼱 꼲 꼳 꼴 꼵 꼶 꼷 꼸 꼹 꼺 꼻 꼼 꼽 꼾 꼿 꽀 꽁 꽂 꽃 꽄 꽅 꽆 꽇 꽈 꽉 꽊 꽋 꽌 꽍 꽎 꽏 꽐 꽑 꽒 꽓 꽔 꽕 꽖 꽗 꽘 꽙 꽚 꽛 꽜 꽝 꽞 꽟 꽠 꽡 꽢 꽣 꽤 꽥 꽦 꽧 꽨 꽩 꽪 꽫 꽬 꽭 꽮 꽯 꽰 꽱 꽲 꽳 꽴 꽵 꽶 꽷 꽸 꽹 꽺 꽻 꽼 꽽 꽾 꽿 꾀 꾁 꾂 꾃 꾄 꾅 꾆 꾇 꾈 꾉 꾊 꾋 꾌 꾍 꾎 꾏 꾐 꾑 꾒 꾓 꾔 꾕 꾖 꾗 꾘 꾙 꾚 꾛 꾜 꾝 꾞 꾟 꾠 꾡 꾢 꾣 꾤 꾥 꾦 꾧 꾨 꾩 꾪 꾫 꾬 꾭 꾮 꾯 꾰 꾱 꾲 꾳 꾴 꾵 꾶 꾷 꾸 꾹 꾺 꾻 꾼 꾽 꾾 꾿 꿀 꿁 꿂 꿃 꿄 꿅 꿆 꿇 꿈 꿉 꿊 꿋 꿌 꿍 꿎 꿏 꿐 꿑 꿒 꿓 꿔 꿕 꿖 꿗 꿘 꿙 꿚 꿛 꿜 꿝 꿞 꿟 꿠 꿡 꿢 꿣 꿤 꿥 꿦 꿧\n"
     ]
    }
   ],
   "source": [
    "i = 0\n",
    "while i < 1000:\n",
    "    print unichr(0xac00 + i),\n",
    "    i = i + 1"
   ]
  },
  {
   "cell_type": "markdown",
   "metadata": {},
   "source": [
    "### 2) str()과 repr()의 차이\n",
    "- str(): 객체의 비공식적인 (informal) 문자열 표현 - 가능하면 읽기 편하게...\n",
    "- repr(): 객체의 공식적인 (official) 문자열 표현 - 가능하면 실제 객체를 완벽하게 표현할 수 있도록...\n",
    "- [참고] http://pinocc.tistory.com/168"
   ]
  },
  {
   "cell_type": "code",
   "execution_count": 10,
   "metadata": {
    "collapsed": false
   },
   "outputs": [
    {
     "name": "stdout",
     "output_type": "stream",
     "text": [
      "1.23456789123\n",
      "1.23456789123\n",
      "1.234567891234568\n"
     ]
    }
   ],
   "source": [
    "f = 1.23456789123456789\n",
    "print f\n",
    "print str(f)\n",
    "print repr(f)        # repr()은 유효 숫자를 길게 출력"
   ]
  },
  {
   "cell_type": "code",
   "execution_count": 16,
   "metadata": {
    "collapsed": false
   },
   "outputs": [
    {
     "name": "stdout",
     "output_type": "stream",
     "text": [
      "1.23456789123, 1.234567891234568\n"
     ]
    }
   ],
   "source": [
    "print \"%s, %r\" % (f, f)   # str()과 repr() 호출"
   ]
  },
  {
   "cell_type": "code",
   "execution_count": 17,
   "metadata": {
    "collapsed": false
   },
   "outputs": [
    {
     "name": "stdout",
     "output_type": "stream",
     "text": [
      "(1, 2) -- [3, 4, 5]\n"
     ]
    }
   ],
   "source": [
    "print \"%s -- %s\" % ((1, 2), [3, 4, 5])   # str() 호출"
   ]
  },
  {
   "cell_type": "code",
   "execution_count": 13,
   "metadata": {
    "collapsed": false
   },
   "outputs": [
    {
     "name": "stdout",
     "output_type": "stream",
     "text": [
      "(1, 2) -- [3, 4, 5]\n"
     ]
    }
   ],
   "source": [
    "print \"%r -- %r\" % ((1, 2), [3, 4, 5])   # str() 대신에 repr() 내장 함수 사용"
   ]
  },
  {
   "cell_type": "code",
   "execution_count": 18,
   "metadata": {
    "collapsed": false
   },
   "outputs": [
    {
     "name": "stdout",
     "output_type": "stream",
     "text": [
      "0.3\n",
      "0.3\n"
     ]
    }
   ],
   "source": [
    "g = 0.3\n",
    "print str(g)\n",
    "print repr(g)"
   ]
  },
  {
   "cell_type": "code",
   "execution_count": 19,
   "metadata": {
    "collapsed": false
   },
   "outputs": [
    {
     "name": "stdout",
     "output_type": "stream",
     "text": [
      "Hello\n",
      "'Hello'\n"
     ]
    }
   ],
   "source": [
    "h = 'Hello'\n",
    "print str(h)\n",
    "print repr(h)"
   ]
  },
  {
   "cell_type": "code",
   "execution_count": 20,
   "metadata": {
    "collapsed": false
   },
   "outputs": [
    {
     "ename": "NameError",
     "evalue": "name 'Hello' is not defined",
     "output_type": "error",
     "traceback": [
      "\u001b[0;31m---------------------------------------------------------------------------\u001b[0m",
      "\u001b[0;31mNameError\u001b[0m                                 Traceback (most recent call last)",
      "\u001b[0;32m<ipython-input-20-282822699c67>\u001b[0m in \u001b[0;36m<module>\u001b[0;34m()\u001b[0m\n\u001b[0;32m----> 1\u001b[0;31m \u001b[0mx\u001b[0m \u001b[0;34m=\u001b[0m \u001b[0meval\u001b[0m\u001b[0;34m(\u001b[0m\u001b[0mstr\u001b[0m\u001b[0;34m(\u001b[0m\u001b[0mh\u001b[0m\u001b[0;34m)\u001b[0m\u001b[0;34m)\u001b[0m\u001b[0;34m\u001b[0m\u001b[0m\n\u001b[0m",
      "\u001b[0;32m<string>\u001b[0m in \u001b[0;36m<module>\u001b[0;34m()\u001b[0m\n",
      "\u001b[0;31mNameError\u001b[0m: name 'Hello' is not defined"
     ]
    }
   ],
   "source": [
    "x = eval(str(h))"
   ]
  },
  {
   "cell_type": "markdown",
   "metadata": {},
   "source": [
    "- repr() 내장함수에 의하여 반환된 문자열은 eval() 내장함수에 의하여 interpret 가 가능함 "
   ]
  },
  {
   "cell_type": "code",
   "execution_count": 22,
   "metadata": {
    "collapsed": true
   },
   "outputs": [],
   "source": [
    "x = eval(repr(h))"
   ]
  },
  {
   "cell_type": "markdown",
   "metadata": {},
   "source": [
    "### 3) 문서 문자열 (Documentation String, docstring)"
   ]
  },
  {
   "cell_type": "code",
   "execution_count": 30,
   "metadata": {
    "collapsed": true
   },
   "outputs": [],
   "source": [
    "def add(a, b):\n",
    "    \"add(a, b) returns a+b\"\n",
    "    return a + b"
   ]
  },
  {
   "cell_type": "code",
   "execution_count": 31,
   "metadata": {
    "collapsed": false
   },
   "outputs": [
    {
     "name": "stdout",
     "output_type": "stream",
     "text": [
      "add(a, b) returns a+b\n"
     ]
    }
   ],
   "source": [
    "print add.__doc__"
   ]
  },
  {
   "cell_type": "code",
   "execution_count": 32,
   "metadata": {
    "collapsed": false
   },
   "outputs": [
    {
     "name": "stdout",
     "output_type": "stream",
     "text": [
      "Help on function add in module __main__:\n",
      "\n",
      "add(a, b)\n",
      "    add(a, b) returns a+b\n",
      "\n"
     ]
    }
   ],
   "source": [
    "help(add)"
   ]
  },
  {
   "cell_type": "code",
   "execution_count": 34,
   "metadata": {
    "collapsed": true
   },
   "outputs": [],
   "source": [
    "add?"
   ]
  },
  {
   "cell_type": "markdown",
   "metadata": {},
   "source": [
    "### 4) string 모듈 상수"
   ]
  },
  {
   "cell_type": "code",
   "execution_count": 35,
   "metadata": {
    "collapsed": false
   },
   "outputs": [
    {
     "name": "stdout",
     "output_type": "stream",
     "text": [
      "0123456789\n",
      "01234567\n",
      "0123456789abcdefABCDEF\n",
      "ABCDEFGHIJKLMNOPQRSTUVWXYZabcdefghijklmnopqrstuvwxyz\n",
      "abcdefghijklmnopqrstuvwxyz\n",
      "ABCDEFGHIJKLMNOPQRSTUVWXYZ\n",
      "!\"#$%&'()*+,-./:;<=>?@[\\]^_`{|}~\n",
      "\n",
      "0123456789abcdefghijklmnopqrstuvwxyzABCDEFGHIJKLMNOPQRSTUVWXYZ!\"#$%&'()*+,-./:;<=>?@[\\]^_`{|}~ \t\n",
      "\r",
      "\u000b",
      "\f",
      "\n",
      "\t\n",
      "\u000b",
      "\f",
      "\r",
      " \n"
     ]
    }
   ],
   "source": [
    "import string\n",
    "\n",
    "print string.digits\n",
    "print string.octdigits\n",
    "print string.hexdigits\n",
    "print string.letters\n",
    "print string.lowercase\n",
    "print string.uppercase\n",
    "print string.punctuation   # 각종 기호들\n",
    "print\n",
    "print string.printable     # 인쇄 가능한 모든 문자들\n",
    "print string.whitespace    # 공백 문자들 '\\011\\012\\013\\014\\015'"
   ]
  },
  {
   "cell_type": "code",
   "execution_count": 36,
   "metadata": {
    "collapsed": false
   },
   "outputs": [
    {
     "name": "stdout",
     "output_type": "stream",
     "text": [
      "False\n",
      "True\n"
     ]
    }
   ],
   "source": [
    "x = 'a'\n",
    "print x in string.uppercase\n",
    "print x in string.lowercase"
   ]
  },
  {
   "cell_type": "code",
   "execution_count": 37,
   "metadata": {
    "collapsed": false
   },
   "outputs": [
    {
     "name": "stdout",
     "output_type": "stream",
     "text": [
      "ABCDEFGHIJKLMNOPQRSTUVWXYZabcdefghijklmnopqrstuvwxyz0123456789\n"
     ]
    }
   ],
   "source": [
    "d = string.letters + string.digits\n",
    "print d"
   ]
  },
  {
   "cell_type": "code",
   "execution_count": 38,
   "metadata": {
    "collapsed": false
   },
   "outputs": [
    {
     "name": "stdout",
     "output_type": "stream",
     "text": [
      "your id:ab#\n"
     ]
    }
   ],
   "source": [
    "userid = raw_input('your id:')"
   ]
  },
  {
   "cell_type": "code",
   "execution_count": 39,
   "metadata": {
    "collapsed": false
   },
   "outputs": [
    {
     "name": "stdout",
     "output_type": "stream",
     "text": [
      "invalid user id\n"
     ]
    }
   ],
   "source": [
    "d = string.letters + string.digits\n",
    "for ch in userid:\n",
    "    if ch not in d:\n",
    "        print 'invalid user id'\n",
    "        break"
   ]
  },
  {
   "cell_type": "markdown",
   "metadata": {},
   "source": [
    "### 5) 문자열 붙이기 코딩 방법 비교 (중요)"
   ]
  },
  {
   "cell_type": "code",
   "execution_count": 42,
   "metadata": {
    "collapsed": false
   },
   "outputs": [
    {
     "name": "stdout",
     "output_type": "stream",
     "text": [
      "0.243875980377\n"
     ]
    }
   ],
   "source": [
    "import time\n",
    "start_time = time.time()\n",
    "s = ''\n",
    "for k in range(1000000):\n",
    "    s += 'python'\n",
    "end_time = time.time()\n",
    "print end_time - start_time"
   ]
  },
  {
   "cell_type": "code",
   "execution_count": 43,
   "metadata": {
    "collapsed": false
   },
   "outputs": [
    {
     "name": "stdout",
     "output_type": "stream",
     "text": [
      "0.161774158478\n"
     ]
    }
   ],
   "source": [
    "start_time = time.time()\n",
    "t = []\n",
    "for k in range(1000000):\n",
    "    t.append('python')\n",
    "s = ''.join(t)\n",
    "end_time = time.time()\n",
    "print end_time - start_time"
   ]
  },
  {
   "cell_type": "code",
   "execution_count": 44,
   "metadata": {
    "collapsed": false
   },
   "outputs": [
    {
     "name": "stdout",
     "output_type": "stream",
     "text": [
      "0.000773191452026\n"
     ]
    }
   ],
   "source": [
    "start_time = time.time()\n",
    "s = 'python' * 1000000\n",
    "end_time = time.time()\n",
    "print end_time - start_time"
   ]
  },
  {
   "cell_type": "markdown",
   "metadata": {},
   "source": [
    "## 4. E-learning 9, 10 보충 자료"
   ]
  },
  {
   "cell_type": "markdown",
   "metadata": {},
   "source": [
    "### 1) 리스트를 배열처럼 활용하기"
   ]
  },
  {
   "cell_type": "markdown",
   "metadata": {},
   "source": [
    "- 1차원 배열처럼 활용하기"
   ]
  },
  {
   "cell_type": "code",
   "execution_count": 8,
   "metadata": {
    "collapsed": false
   },
   "outputs": [
    {
     "name": "stdout",
     "output_type": "stream",
     "text": [
      "[1, 2, 3, 4, 5]\n",
      "1\n",
      "[0, 1, 2, 3, 4, 5, 6, 7, 8, 9]\n",
      "1\n"
     ]
    }
   ],
   "source": [
    "a = [1, 2, 3, 4, 5]\n",
    "b = range(10)\n",
    "print a\n",
    "print a[0]\n",
    "print b\n",
    "print b[1]"
   ]
  },
  {
   "cell_type": "markdown",
   "metadata": {},
   "source": [
    "- 0으로 초기화된 사이즈 10인 1차원 배열 생성"
   ]
  },
  {
   "cell_type": "code",
   "execution_count": 9,
   "metadata": {
    "collapsed": false
   },
   "outputs": [
    {
     "data": {
      "text/plain": [
       "[0, 0, 0, 0, 0, 0, 0, 0, 0, 0]"
      ]
     },
     "execution_count": 9,
     "metadata": {},
     "output_type": "execute_result"
    }
   ],
   "source": [
    "a = [0] * 10\n",
    "a"
   ]
  },
  {
   "cell_type": "markdown",
   "metadata": {},
   "source": [
    "- 2차원 배열처럼 활용하기"
   ]
  },
  {
   "cell_type": "code",
   "execution_count": 10,
   "metadata": {
    "collapsed": false
   },
   "outputs": [
    {
     "name": "stdout",
     "output_type": "stream",
     "text": [
      "[[1, 2, 3], [4, 5, 6], [7, 8, 9]]\n",
      "6\n"
     ]
    }
   ],
   "source": [
    "mat = [     [1, 2, 3],\n",
    "            [4, 5, 6],\n",
    "            [7, 8, 9]     ]\n",
    "print mat\n",
    "print mat[1][2]"
   ]
  },
  {
   "cell_type": "markdown",
   "metadata": {},
   "source": [
    "### 2) 리스트 내포\n",
    "- 다음은 고등학교 수학에서 배운 집합의 표기 방법이다.\n",
    "  - A = {x^2 | x in {0, ..., 9}}\n",
    "  - B = {1, 2, 4, 8, 16, ..., 2^16}\n",
    "  - C = {x | x in S and x is odd}\n",
    "\n",
    "- 파이썬의 리스트 내포(list comprehension)는 바로 위 집합 표기법과 유사한 방식의 리터럴이다. \n",
    "- 위 집합들을 리스트 내포 방식으로 표현하면 다음과 같다. \n",
    "  - A = [x**2 for x in range(10)]\n",
    "  - B = [2**i for i in range(17)]\n",
    "  - C = [x for x in S if x % 2 == 1]"
   ]
  },
  {
   "cell_type": "markdown",
   "metadata": {},
   "source": [
    "- 예 1. 피타고라스 삼각형의 각 3변의 길이 리스트 (각 변의 길이는 30 보다 작아야 함)"
   ]
  },
  {
   "cell_type": "code",
   "execution_count": 1,
   "metadata": {
    "collapsed": false
   },
   "outputs": [
    {
     "data": {
      "text/plain": [
       "[(3, 4, 5),\n",
       " (5, 12, 13),\n",
       " (6, 8, 10),\n",
       " (7, 24, 25),\n",
       " (8, 15, 17),\n",
       " (9, 12, 15),\n",
       " (10, 24, 26),\n",
       " (12, 16, 20),\n",
       " (15, 20, 25),\n",
       " (20, 21, 29)]"
      ]
     },
     "execution_count": 1,
     "metadata": {},
     "output_type": "execute_result"
    }
   ],
   "source": [
    "[(x,y,z) for x in range(1,30) for y in range(x,30) for z in range(y,30) if x**2 + y**2 == z**2]"
   ]
  },
  {
   "cell_type": "markdown",
   "metadata": {},
   "source": [
    "- 예 2. 중첩 리스트 내포"
   ]
  },
  {
   "cell_type": "code",
   "execution_count": 2,
   "metadata": {
    "collapsed": false
   },
   "outputs": [
    {
     "name": "stdout",
     "output_type": "stream",
     "text": [
      "['AC', 'AD', 'BC', 'BD']\n",
      "\n",
      "[['AC', 'BC'], ['AD', 'BD']]\n"
     ]
    }
   ],
   "source": [
    "list_a = ['A', 'B']\n",
    "list_b = ['C', 'D']\n",
    "print [x+y for x in list_a for y in list_b]\n",
    "print\n",
    "print [[x+y for x in list_a] for y in list_b]"
   ]
  },
  {
   "cell_type": "markdown",
   "metadata": {},
   "source": [
    "- 위 예제의 마지막 코드는 아래와 동일하다."
   ]
  },
  {
   "cell_type": "code",
   "execution_count": 3,
   "metadata": {
    "collapsed": false
   },
   "outputs": [
    {
     "name": "stdout",
     "output_type": "stream",
     "text": [
      "[['AC', 'BC'], ['AD', 'BD']]\n"
     ]
    }
   ],
   "source": [
    "l = []\n",
    "for y in list_b:\n",
    "    l2 = []\n",
    "    for x in list_a:\n",
    "        l2.append(x+y)\n",
    "    l.append(l2)\n",
    "print l"
   ]
  },
  {
   "cell_type": "markdown",
   "metadata": {},
   "source": [
    "- 예 3. 리스트 내포를 활용한 2차원 배열 생성"
   ]
  },
  {
   "cell_type": "code",
   "execution_count": 11,
   "metadata": {
    "collapsed": false
   },
   "outputs": [
    {
     "name": "stdout",
     "output_type": "stream",
     "text": [
      "[[0, 0, 0, 0], [0, 0, 0, 0], [0, 0, 0, 0]]\n",
      "[[100, 0, 0, 0], [0, 0, 0, 0], [0, 0, 0, 0]]\n"
     ]
    }
   ],
   "source": [
    "mat = [ [0]*4 for x in range(3)]\n",
    "print mat\n",
    "\n",
    "mat[0][0] = 100\n",
    "print mat"
   ]
  },
  {
   "cell_type": "markdown",
   "metadata": {},
   "source": [
    "### 3) 특별 속성\n",
    "- 특별 속성: 파이썬 내에 존재하는 모든 객체 마다 부여되는 특별한 Read-only 속성\n",
    "  - [참고]: https://docs.python.org/2/library/stdtypes.html#object.__dict__"
   ]
  },
  {
   "cell_type": "code",
   "execution_count": 4,
   "metadata": {
    "collapsed": false
   },
   "outputs": [
    {
     "name": "stdout",
     "output_type": "stream",
     "text": [
      "__main__\n",
      "\n",
      "Automatically created module for IPython interactive environment\n",
      "\n"
     ]
    }
   ],
   "source": [
    "print __name__      # 로컬 이름 \n",
    "print\n",
    "\n",
    "print __doc__       # 로컬에 지정된 문서문자열\n",
    "print"
   ]
  },
  {
   "cell_type": "code",
   "execution_count": 5,
   "metadata": {
    "collapsed": false
   },
   "outputs": [
    {
     "name": "stdout",
     "output_type": "stream",
     "text": [
      "math.__name__:  math\n",
      "\n",
      "['__doc__', '__file__', '__name__', '__package__', 'acos', 'acosh', 'asin', 'asinh', 'atan', 'atan2', 'atanh', 'ceil', 'copysign', 'cos', 'cosh', 'degrees', 'e', 'erf', 'erfc', 'exp', 'expm1', 'fabs', 'factorial', 'floor', 'fmod', 'frexp', 'fsum', 'gamma', 'hypot', 'isinf', 'isnan', 'ldexp', 'lgamma', 'log', 'log10', 'log1p', 'modf', 'pi', 'pow', 'radians', 'sin', 'sinh', 'sqrt', 'tan', 'tanh', 'trunc']\n",
      "\n",
      "math.__doc__: This module is always available.  It provides access to the\n",
      "mathematical functions defined by the C standard.\n",
      "\n",
      "math.log10.__doc__:  log10(x)\n",
      "\n",
      "Return the base 10 logarithm of x.\n"
     ]
    }
   ],
   "source": [
    "import math\n",
    "\n",
    "print \"math.__name__: \", math.__name__\n",
    "print\n",
    "print dir(math)  # dir() 내장 함수에 모듈을 인자로 전달하면 해당 모듈이 지원하는 멤버 변수 및 함수 목록을 얻는다.\n",
    "print\n",
    "print \"math.__doc__:\", math.__doc__\n",
    "print\n",
    "print \"math.log10.__doc__: \", math.log10.__doc__"
   ]
  },
  {
   "cell_type": "markdown",
   "metadata": {},
   "source": [
    "### 4) 명령행 인수"
   ]
  },
  {
   "cell_type": "code",
   "execution_count": null,
   "metadata": {
    "collapsed": true
   },
   "outputs": [],
   "source": [
    "# file: arg.py\n",
    "import sys\n",
    "print sys.argv"
   ]
  },
  {
   "cell_type": "code",
   "execution_count": null,
   "metadata": {
    "collapsed": true
   },
   "outputs": [],
   "source": [
    "# python arg.py -l -a -v a b c"
   ]
  },
  {
   "cell_type": "markdown",
   "metadata": {},
   "source": [
    "### 5) [참고] numpy 모듈을 활용한 배열 생성\n",
    "- 여러가지 종류의 배열 생성 가능\n",
    "- 배열 자체에 많은 산술 연산을 효과적으로 처리 가능\n",
    "- 선형대수에 관한 각종 수학적 연산을 효과적으로 지원"
   ]
  },
  {
   "cell_type": "code",
   "execution_count": 14,
   "metadata": {
    "collapsed": false
   },
   "outputs": [
    {
     "name": "stdout",
     "output_type": "stream",
     "text": [
      "[[1 2 3]\n",
      " [4 5 6]\n",
      " [7 8 9]]\n",
      "\n",
      "[[ 0.  0.  0.]\n",
      " [ 0.  0.  0.]\n",
      " [ 0.  0.  0.]]\n",
      "\n",
      "[[ 1.  1.  1.]\n",
      " [ 1.  1.  1.]\n",
      " [ 1.  1.  1.]]\n",
      "\n"
     ]
    }
   ],
   "source": [
    "from numpy import *\n",
    "a = array(((1,2,3), (4,5,6), (7, 8, 9))) # 3*3 행렬 생성\n",
    "print a\n",
    "print\n",
    "\n",
    "b = zeros((3,3))\n",
    "print b\n",
    "print\n",
    "\n",
    "c = ones((3,3))\n",
    "print c\n",
    "print"
   ]
  },
  {
   "cell_type": "markdown",
   "metadata": {},
   "source": [
    "- 배열 자체에 산술 연산을 효과적으로 처리 가능"
   ]
  },
  {
   "cell_type": "code",
   "execution_count": 18,
   "metadata": {
    "collapsed": false
   },
   "outputs": [
    {
     "name": "stdout",
     "output_type": "stream",
     "text": [
      "[[  2.   3.   4.]\n",
      " [  5.   6.   7.]\n",
      " [  8.   9.  10.]]\n",
      "\n",
      "[[ 1  4  9]\n",
      " [16 25 36]\n",
      " [49 64 81]]\n",
      "\n",
      "[[  6.   6.   6.]\n",
      " [ 15.  15.  15.]\n",
      " [ 24.  24.  24.]]\n",
      "\n"
     ]
    }
   ],
   "source": [
    "f = a + c     # 각 원소들끼리의 덧셈\n",
    "print f\n",
    "print\n",
    "\n",
    "d = a * a     # 각 원소들끼리의 곱셈\n",
    "print d\n",
    "print\n",
    "\n",
    "e = dot(a, c) # 일반적인 행렬 곱셈 \n",
    "print e\n",
    "print"
   ]
  },
  {
   "cell_type": "markdown",
   "metadata": {},
   "source": [
    "- 선형대수에 관한 각종 수학적 연산을 효과적으로 지원"
   ]
  },
  {
   "cell_type": "code",
   "execution_count": 16,
   "metadata": {
    "collapsed": false
   },
   "outputs": [
    {
     "name": "stdout",
     "output_type": "stream",
     "text": [
      "[[ -4.50359963e+15   9.00719925e+15  -4.50359963e+15]\n",
      " [  9.00719925e+15  -1.80143985e+16   9.00719925e+15]\n",
      " [ -4.50359963e+15   9.00719925e+15  -4.50359963e+15]]\n",
      "\n",
      "(array([  1.61168440e+01,  -1.11684397e+00,  -1.30367773e-15]), array([[-0.23197069, -0.78583024,  0.40824829],\n",
      "       [-0.52532209, -0.08675134, -0.81649658],\n",
      "       [-0.8186735 ,  0.61232756,  0.40824829]]))\n",
      "\n"
     ]
    }
   ],
   "source": [
    "from numpy.linalg import *\n",
    "g = inv(a)\n",
    "print g\n",
    "print\n",
    "\n",
    "h = eig(a)\n",
    "print h\n",
    "print"
   ]
  }
 ],
 "metadata": {
  "kernelspec": {
   "display_name": "Python 2",
   "language": "python",
   "name": "python2"
  },
  "language_info": {
   "codemirror_mode": {
    "name": "ipython",
    "version": 2
   },
   "file_extension": ".py",
   "mimetype": "text/x-python",
   "name": "python",
   "nbconvert_exporter": "python",
   "pygments_lexer": "ipython2",
   "version": "2.7.6"
  }
 },
 "nbformat": 4,
 "nbformat_minor": 0
}
