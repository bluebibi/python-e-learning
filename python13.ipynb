{
 "metadata": {
  "name": "",
  "signature": "sha256:3517e74351a2f39456344c131e1d80c54f4d2260cf12e94b058e01ca952c6090"
 },
 "nbformat": 3,
 "nbformat_minor": 0,
 "worksheets": [
  {
   "cells": [
    {
     "cell_type": "markdown",
     "metadata": {},
     "source": [
      "***\n",
      "***\n",
      "# 13. \ub78c\ub2e4 \ud568\uc218\n",
      "***\n",
      "***"
     ]
    },
    {
     "cell_type": "markdown",
     "metadata": {},
     "source": [
      "---\n",
      "## 1. \ub78c\ub2e4(lambda) \ud568\uc218 \uc815\uc758\n",
      "---\n",
      "- \ub78c\ub2e4(lambda) \ud568\uc218 (or \ucd95\uc57d \ud568\uc218): https://wikidocs.net/64\n",
      "  - \uc77c\ubc18\uc801\uc778 \ud568\uc218\ub97c \ud55c \uc904\uc758 \ubb38(Statement)\uc73c\ub85c \uc815\uc758\ud560 \uc218 \uc788\ub294 \uc0c8\ub85c\uc6b4 \ud568\uc218 \uc815\uc758 \ub9ac\ud130\ub7f4\n",
      "    - \ud568\uc218 \ubab8\uccb4\uc5d0\ub294 \uc2dd(expression)\ub9cc\uc774 \uc62c \uc218 \uc788\ub2e4. \n",
      "  - \ub300\ubd80\ubd84\uc758 \uacbd\uc6b0 \ud568\uc218 \uc774\ub984\uc744 \uc815\uc758\ud558\uc9c0 \uc54a\uc73c\uba74\uc11c \uc77c\ud68c\uc131\uc73c\ub85c \ud65c\uc6a9\ud560 \ud568\uc218\ub97c \uc815\uc758\ud560 \ub54c \ud65c\uc6a9\n",
      "  - \uad6c\ubb38(syntax)\n",
      "    - lambda \ucf64\ub9c8\ub85c \uad6c\ubd84\ub41c \uc778\uc218\ub4e4: \uc2dd(expression)"
     ]
    },
    {
     "cell_type": "markdown",
     "metadata": {},
     "source": [
      "### 1-1 \ub78c\ub2e4 \ud568\uc218 \uc815\uc758 \uc608"
     ]
    },
    {
     "cell_type": "markdown",
     "metadata": {},
     "source": [
      "- \uc778\uc218\uac00 \uc5c6\ub294 \ub78c\ub2e4 \ud568\uc218 \uc815\uc758 "
     ]
    },
    {
     "cell_type": "code",
     "collapsed": false,
     "input": [
      "lambda: 1"
     ],
     "language": "python",
     "metadata": {},
     "outputs": [
      {
       "metadata": {},
       "output_type": "pyout",
       "prompt_number": 90,
       "text": [
        "<function __main__.<lambda>>"
       ]
      }
     ],
     "prompt_number": 90
    },
    {
     "cell_type": "markdown",
     "metadata": {},
     "source": [
      "- \uc778\uc218\uac00 \uc5c6\ub294 \ub78c\ub2e4 \ud568\uc218\ub97c \uc9c0\ub2c8\ub294 \ubcc0\uc218 \uc9c0\uc815 \ubc0f \ud568\uc218 \ud638\ucd9c"
     ]
    },
    {
     "cell_type": "code",
     "collapsed": false,
     "input": [
      "f = lambda: 1\n",
      "f()"
     ],
     "language": "python",
     "metadata": {},
     "outputs": [
      {
       "metadata": {},
       "output_type": "pyout",
       "prompt_number": 91,
       "text": [
        "1"
       ]
      }
     ],
     "prompt_number": 91
    },
    {
     "cell_type": "markdown",
     "metadata": {},
     "source": [
      "- \uc778\uc218\uac00 \ub450 \uac1c \uc788\ub294 \ub78c\ub2e4 \ud568\uc218\ub97c \uc9c0\ub2c8\ub294 \ubcc0\uc218 \uc9c0\uc815 \ubc0f \ud568\uc218 \ud638\ucd9c"
     ]
    },
    {
     "cell_type": "code",
     "collapsed": false,
     "input": [
      "g = lambda x, y: x + y\n",
      "print g(1, 2)"
     ],
     "language": "python",
     "metadata": {},
     "outputs": [
      {
       "output_type": "stream",
       "stream": "stdout",
       "text": [
        "3\n"
       ]
      }
     ],
     "prompt_number": 1
    },
    {
     "cell_type": "markdown",
     "metadata": {},
     "source": [
      "- \uae30\ubcf8 \uc778\uc218\ub97c \uc9c0\ub2c8\ub294 \ub78c\ub2e4 \ud568\uc218 \uc815\uc758"
     ]
    },
    {
     "cell_type": "code",
     "collapsed": false,
     "input": [
      "incr = lambda x, inc = 1: x + inc\n",
      "print incr(10) #inc \uae30\ubcf8 \uc778\uc218 \uac12\uc73c\ub85c 1 \uc0ac\uc6a9\n",
      "print incr(10, 5)"
     ],
     "language": "python",
     "metadata": {},
     "outputs": [
      {
       "output_type": "stream",
       "stream": "stdout",
       "text": [
        "11\n",
        "15\n"
       ]
      }
     ],
     "prompt_number": 99
    },
    {
     "cell_type": "markdown",
     "metadata": {},
     "source": [
      "- \uac00\ubcc0 \uc778\uc218\ub97c \uc9c0\ub2c8\ub294 \ub78c\ub2e4 \ud568\uc218 \uc815\uc758"
     ]
    },
    {
     "cell_type": "code",
     "collapsed": false,
     "input": [
      "vargs = lambda x, *args: args\n",
      "print vargs(1,2,3,4,5)"
     ],
     "language": "python",
     "metadata": {},
     "outputs": [
      {
       "output_type": "stream",
       "stream": "stdout",
       "text": [
        "(2, 3, 4, 5)\n"
       ]
      }
     ],
     "prompt_number": 100
    },
    {
     "cell_type": "markdown",
     "metadata": {},
     "source": [
      "- \ud0a4\uc6cc\ub4dc \uc778\uc218\ub97c \uc9c0\ub2c8\ub294 \ub78c\ub2e4 \ud568\uc218 \uc815\uc758"
     ]
    },
    {
     "cell_type": "code",
     "collapsed": false,
     "input": [
      "kwords = lambda x, *args, **kw: kw\n",
      "print kwords(1,2,3,a=4,b=6)"
     ],
     "language": "python",
     "metadata": {},
     "outputs": [
      {
       "output_type": "stream",
       "stream": "stdout",
       "text": [
        "{'a': 4, 'b': 6}\n"
       ]
      }
     ],
     "prompt_number": 1
    },
    {
     "cell_type": "markdown",
     "metadata": {},
     "source": [
      "### 1-2 \ub78c\ub2e4 \ud568\uc218 \uc0ac\uc6a9\ud558\uae30"
     ]
    },
    {
     "cell_type": "code",
     "collapsed": false,
     "input": [
      "def f1(x):\n",
      "    return x*x + 3*x - 10\n",
      "\n",
      "def f2(x):\n",
      "    return x*x*x\n",
      "\n",
      "def g(func):\n",
      "    return [func(x) for x in range(-10, 10)]\n",
      "\n",
      "print g(f1)\n",
      "print g(f2)"
     ],
     "language": "python",
     "metadata": {},
     "outputs": [
      {
       "output_type": "stream",
       "stream": "stdout",
       "text": [
        "[60, 44, 30, 18, 8, 0, -6, -10, -12, -12, -10, -6, 0, 8, 18, 30, 44, 60, 78, 98]\n",
        "[-1000, -729, -512, -343, -216, -125, -64, -27, -8, -1, 0, 1, 8, 27, 64, 125, 216, 343, 512, 729]\n"
       ]
      }
     ],
     "prompt_number": 2
    },
    {
     "cell_type": "code",
     "collapsed": false,
     "input": [
      "def g(func):\n",
      "    return [func(x) for x in range(-10, 10)]\n",
      "\n",
      "print g(lambda x: x*x + 3*x - 10)\n",
      "print g(lambda x: x*x*x)"
     ],
     "language": "python",
     "metadata": {},
     "outputs": [
      {
       "output_type": "stream",
       "stream": "stdout",
       "text": [
        "[60, 44, 30, 18, 8, 0, -6, -10, -12, -12, -10, -6, 0, 8, 18, 30, 44, 60, 78, 98]\n",
        "[-1000, -729, -512, -343, -216, -125, -64, -27, -8, -1, 0, 1, 8, 27, 64, 125, 216, 343, 512, 729]\n"
       ]
      }
     ],
     "prompt_number": 3
    },
    {
     "cell_type": "markdown",
     "metadata": {},
     "source": [
      "- \ub78c\ub2e4 \ud568\uc218\ub97c \uc0ac\uc6a9\ud558\ub294 \ucf54\ub4dc \uc608\uc81c"
     ]
    },
    {
     "cell_type": "code",
     "collapsed": false,
     "input": [
      "# \ub354\ud558\uae30, \ube7c\uae30, \uacf1\ud558\uae30, \ub098\ub204\uae30\uc5d0 \ud574\ub2f9\ud558\ub294 \ub78c\ub2e4 \ud568\uc218 \ub9ac\uc2a4\ud2b8 \uc815\uc758\n",
      "func = [lambda x, y: x + y, lambda x, y: x - y, lambda x, y: x * y, lambda x, y: x / y]\n",
      "\n",
      "# \uba54\ub274\ub97c \ud45c\uc2dc\ud558\uace0 \uba54\ub274\ub97c \uc785\ub825\ubc1b\ub294\ub2e4(0-4).\n",
      "def menu():\n",
      "    print \"0. add\"\n",
      "    print \"1. sub\"\n",
      "    print \"2. mul\"\n",
      "    print \"3. div\"\n",
      "    print \"4. quit\"\n",
      "    return input('Select menu:')\n",
      "\n",
      "# \uba54\ub274\ub97c \ud45c\uc2dc\ud558\uace0 \uc120\ud0dd\ub41c \uba54\ub274\ub97c \uc2e4\ud589\ud55c\ub2e4.\n",
      "while 1:\n",
      "    sel = menu()                     # \uba54\ub274 \ud45c\uc2dc\ud558\uace0 \ud0a4 \uc785\ub825 \ubc1b\uc74c\n",
      "    if sel < 0 or sel > len(func):   # \ubc94\uc704\ub97c \ubc97\uc5b4\ub098\uba74 \ub2e4\uc2dc \uba54\ub274 \ud45c\uc2dc\n",
      "        continue\n",
      "    if sel == len(func):             # quit\uc774\uba74 \uc885\ub8cc\n",
      "        break\n",
      "    x = input('First operand:')      # \uccab\ubc88\uc9f8 \uc778\uc218\n",
      "    y = input('Second operand:')     # \ub450\ubc88\uc9f8 \uc778\uc218\n",
      "    print 'Result =', func[sel](x,y) # \ud574\ub2f9\ud568\uc218 \ud638\ucd9c"
     ],
     "language": "python",
     "metadata": {},
     "outputs": [
      {
       "output_type": "stream",
       "stream": "stdout",
       "text": [
        "0. add\n",
        "1. sub\n",
        "2. mul\n",
        "3. div\n",
        "4. quit\n"
       ]
      },
      {
       "name": "stdout",
       "output_type": "stream",
       "stream": "stdout",
       "text": [
        "Select menu:0\n"
       ]
      },
      {
       "name": "stdout",
       "output_type": "stream",
       "stream": "stdout",
       "text": [
        "First operand:1\n"
       ]
      },
      {
       "name": "stdout",
       "output_type": "stream",
       "stream": "stdout",
       "text": [
        "Second operand:2\n"
       ]
      },
      {
       "output_type": "stream",
       "stream": "stdout",
       "text": [
        "Result = 3\n",
        "0. add\n",
        "1. sub\n",
        "2. mul\n",
        "3. div\n",
        "4. quit\n"
       ]
      }
     ]
    },
    {
     "cell_type": "markdown",
     "metadata": {},
     "source": [
      "***\n",
      "## 2 \ub78c\ub2e4 \ud568\uc218\uc758 \ud65c\uc6a9\n",
      "***\n",
      "- map, filter, reduce \ub0b4\uc7a5 \ud568\uc218\n",
      "  - \uccab\ubc88\uc9f8 \uc778\uc790: function\n",
      "    - \uccab\ubc88\uc9f8 \uc77c\ubc18\uc801\uc73c\ub85c \ub78c\ub2e4 \ud568\uc218\ub97c \uc778\uc790\ub85c \ubc1b\ub294\ub2e4.\n",
      "  - \ub450\ubc88\uc9f8 \uc778\uc790: \uc2dc\ud000\uc2a4 \uc790\ub8cc\ud615 (\ubb38\uc790\uc5f4, \ub9ac\uc2a4\ud2b8, \ud29c\ud50c)"
     ]
    },
    {
     "cell_type": "markdown",
     "metadata": {},
     "source": [
      "### 2-1 map \ub0b4\uc7a5 \ud568\uc218\n",
      "- map(function, seq)\n",
      "  - seq \uc2dc\ud000\uc2a4 \uc790\ub8cc\ud615\uc774 \uc9c0\ub2cc \uac01 \uc6d0\uc18c\uac12\ub4e4\uc5d0 \ub300\ud574 function\uc5d0 \uc801\uc6a9\ud55c \uacb0\uacfc\ub97c \ub3d9\uc77c \uc2dc\ud000\uc2a4 \uc790\ub8cc\ud615\uc73c\ub85c \ubc18\ud658\ud55c\ub2e4."
     ]
    },
    {
     "cell_type": "code",
     "collapsed": false,
     "input": [
      "def f(x):\n",
      "    return x * x\n",
      "\n",
      "X = [1, 2, 3, 4, 5]\n",
      "Y = map(f, X)\n",
      "print Y"
     ],
     "language": "python",
     "metadata": {},
     "outputs": [
      {
       "output_type": "stream",
       "stream": "stdout",
       "text": [
        "[1, 4, 9, 16, 25]\n"
       ]
      }
     ],
     "prompt_number": 22
    },
    {
     "cell_type": "markdown",
     "metadata": {},
     "source": [
      "- map \ub0b4\uc7a5 \ud568\uc218\ub97c \uc0ac\uc6a9\ud558\uc9c0 \uc54a\uc744 \ub54c \ucf54\ub4dc"
     ]
    },
    {
     "cell_type": "code",
     "collapsed": false,
     "input": [
      "def f(x):\n",
      "    return x * x\n",
      "\n",
      "X = [1, 2, 3, 4, 5]\n",
      "Y = []\n",
      "for x in X:\n",
      "    y = f(x)\n",
      "    Y.append(y)\n",
      "print Y"
     ],
     "language": "python",
     "metadata": {},
     "outputs": [
      {
       "output_type": "stream",
       "stream": "stdout",
       "text": [
        "[1, 4, 9, 16, 25]\n"
       ]
      }
     ],
     "prompt_number": 24
    },
    {
     "cell_type": "markdown",
     "metadata": {},
     "source": [
      "- map\uacfc \ub78c\ub2e4 \ud568\uc218\ub97c \ub3d9\uc2dc\uc5d0 \uc0ac\uc6a9\ud558\ub294 \ucf54\ub4dc (\uac00\uc7a5 \ucd94\ucc9c\ud558\ub294 \ucf54\ub4dc)"
     ]
    },
    {
     "cell_type": "code",
     "collapsed": false,
     "input": [
      "X = [1, 2, 3, 4, 5]\n",
      "print map(lambda x: x * x, X)"
     ],
     "language": "python",
     "metadata": {},
     "outputs": [
      {
       "output_type": "stream",
       "stream": "stdout",
       "text": [
        "[1, 4, 9, 16, 25]\n"
       ]
      }
     ],
     "prompt_number": 25
    },
    {
     "cell_type": "markdown",
     "metadata": {},
     "source": [
      "- X = range(10)\uc758 \ubaa8\ub4e0 \uac12 x\uc5d0 \ub300\ud574 f = x \\* x + 4 * x + 5\uc758 \uacc4\uc0b0 \uacb0\uacfc\ub97c \ub9ac\uc2a4\ud2b8\ub85c \uad6c\ud568"
     ]
    },
    {
     "cell_type": "code",
     "collapsed": false,
     "input": [
      "Y = map(lambda x: x * x + 4 * x + 5, range(10))\n",
      "print Y"
     ],
     "language": "python",
     "metadata": {},
     "outputs": [
      {
       "output_type": "stream",
       "stream": "stdout",
       "text": [
        "[5, 10, 17, 26, 37, 50, 65, 82, 101, 122]\n"
       ]
      }
     ],
     "prompt_number": 26
    },
    {
     "cell_type": "markdown",
     "metadata": {},
     "source": [
      "- \uac01 \ub2e8\uc5b4\ub4e4\uc758 \uae38\uc774 \ub9ac\uc2a4\ud2b8"
     ]
    },
    {
     "cell_type": "code",
     "collapsed": false,
     "input": [
      "y = map(lambda x: len(x), [\"Hello\", \"Python\", \"Programming\"])\n",
      "print y"
     ],
     "language": "python",
     "metadata": {},
     "outputs": [
      {
       "output_type": "stream",
       "stream": "stdout",
       "text": [
        "[5, 6, 11]\n"
       ]
      }
     ],
     "prompt_number": 3
    },
    {
     "cell_type": "markdown",
     "metadata": {},
     "source": [
      "### 2-2 \uc21c\uc11c\uc30d \ub9cc\ub4e4\uae30(map, zip)"
     ]
    },
    {
     "cell_type": "markdown",
     "metadata": {},
     "source": [
      "- map\ud568\uc218\uc5d0 \uc2dc\ud000\uc2a4 \uc790\ub8cc\ud615\uc744 \ub450 \uac1c \uc774\uc0c1 \ud560\ub2f9\ud560 \uc218 \uc788\ub2e4.\n",
      "  - \uc2dc\ud000\uc2a4 \uc790\ub8cc\ud615\uc774 n\uac1c \uc774\uba74 function\uc758 \uc778\uc790\ub3c4 n\uac1c \uc774\uc5b4\uc57c \ud568"
     ]
    },
    {
     "cell_type": "code",
     "collapsed": false,
     "input": [
      "Y1 = map(lambda x, y: x + y, [1, 2, 3, 4, 5], [6, 7, 8, 9, 10])\n",
      "Y2 = map(lambda x, y, z: x + y + z, [1, 2, 3], [4, 5, 6], [7, 8, 9])\n",
      "print Y1\n",
      "print Y2"
     ],
     "language": "python",
     "metadata": {},
     "outputs": [
      {
       "output_type": "stream",
       "stream": "stdout",
       "text": [
        "[7, 9, 11, 13, 15]\n",
        "[12, 15, 18]\n"
       ]
      }
     ],
     "prompt_number": 30
    },
    {
     "cell_type": "markdown",
     "metadata": {},
     "source": [
      "- \ub450 \uac1c \uc774\uc0c1\uc758 \uc2dc\ud000\uc2a4 \uc790\ub8cc\ud615\ub4e4\uc5d0 \ub300\ud574 map \ud568\uc218\ub97c \uc0ac\uc6a9\ud558\uc5ec \uc21c\uc11c\uc30d \ub9cc\ub4e4\uae30\n",
      "  - function \uc778\uc790\ub97c None\uc73c\ub85c \ud560\ub2f9"
     ]
    },
    {
     "cell_type": "code",
     "collapsed": false,
     "input": [
      "a = ['a', 'b', 'c', 'd']\n",
      "b = [1, 2, 3, 4]\n",
      "print map(None, a, b)"
     ],
     "language": "python",
     "metadata": {},
     "outputs": [
      {
       "output_type": "stream",
       "stream": "stdout",
       "text": [
        "[('a', 1), ('b', 2), ('c', 3), ('d', 4)]\n"
       ]
      }
     ],
     "prompt_number": 4
    },
    {
     "cell_type": "code",
     "collapsed": false,
     "input": [
      "a = ['a', 'b', 'c', 'd']\n",
      "b = [1, 2, 3, 4]\n",
      "c = [5, 6, 7, 8]\n",
      "print map(None, a, b, c)"
     ],
     "language": "python",
     "metadata": {},
     "outputs": [
      {
       "output_type": "stream",
       "stream": "stdout",
       "text": [
        "[('a', 1, 5), ('b', 2, 6), ('c', 3, 7), ('d', 4, 8)]\n"
       ]
      }
     ],
     "prompt_number": 5
    },
    {
     "cell_type": "code",
     "collapsed": false,
     "input": [
      "a = ['a', 'b', 'c', 'd']\n",
      "b = (1, 2, 3, 4)\n",
      "c = [5, 6, 7, 8]\n",
      "d = {'a': 1, 'b': 2, 'c': 3, 'd': 4}\n",
      "print map(None, a, b, c, d)"
     ],
     "language": "python",
     "metadata": {},
     "outputs": [
      {
       "output_type": "stream",
       "stream": "stdout",
       "text": [
        "[('a', 1, 5, 'a'), ('b', 2, 6, 'c'), ('c', 3, 7, 'b'), ('d', 4, 8, 'd')]\n"
       ]
      }
     ],
     "prompt_number": 10
    },
    {
     "cell_type": "markdown",
     "metadata": {},
     "source": [
      "- \ub450 \uac1c\uc758 \uc2dc\ud000\uc2a4 \uc790\ub8cc\ud615\uc758 \uc6d0\uc18c\uc758 \uac1c\uc218\uac00 \ub2e4\ub974\uba74 \ubd80\uc871\ud55c \uc6d0\uc18c\uc5d0\ub294 None\uc744 \ud560\ub2f9"
     ]
    },
    {
     "cell_type": "code",
     "collapsed": false,
     "input": [
      "a = ['a', 'b']\n",
      "b = [1, 2, 3, 4]\n",
      "print map(None, a, b)"
     ],
     "language": "python",
     "metadata": {},
     "outputs": [
      {
       "output_type": "stream",
       "stream": "stdout",
       "text": [
        "[('a', 1), ('b', 2), (None, 3), (None, 4)]\n"
       ]
      }
     ],
     "prompt_number": 9
    },
    {
     "cell_type": "markdown",
     "metadata": {},
     "source": [
      "- \uc21c\uc11c\uc30d\uc744 \ub9cc\ub4dc\ub294 \uc804\uc6a9 \ub0b4\uc7a5 \ud568\uc218 zip\uc740 None\uc744 \ucd94\uac00\ud558\uc9c0 \uc54a\uace0 \uc9e7\uc740 \uc778\uc790\ub97c \uae30\uc900\uc73c\ub85c \ub098\uba38\uc9c0\ub294 \ubc84\ub9b0\ub2e4."
     ]
    },
    {
     "cell_type": "code",
     "collapsed": false,
     "input": [
      "a = ['a', 'b']\n",
      "b = [1, 2, 3, 4]\n",
      "print zip(a, b)"
     ],
     "language": "python",
     "metadata": {},
     "outputs": [
      {
       "output_type": "stream",
       "stream": "stdout",
       "text": [
        "[('a', 1), ('b', 2)]\n"
       ]
      }
     ],
     "prompt_number": 6
    },
    {
     "cell_type": "code",
     "collapsed": false,
     "input": [
      "print zip([1, 2, 3], [4, 5, 6, 7, 8])"
     ],
     "language": "python",
     "metadata": {},
     "outputs": [
      {
       "output_type": "stream",
       "stream": "stdout",
       "text": [
        "[(1, 4), (2, 5), (3, 6)]\n"
       ]
      }
     ],
     "prompt_number": 7
    },
    {
     "cell_type": "markdown",
     "metadata": {},
     "source": [
      "- \uc5ec\ub7ec \uac1c\uc758 \uc2dc\ud000\uc2a4 \uc790\ub8cc\ud615\uc73c\ub85c \uc21c\uc11c\uc30d \ub9cc\ub4e4\uae30"
     ]
    },
    {
     "cell_type": "code",
     "collapsed": false,
     "input": [
      "print zip([1, 2, 3], [4, 5, 6], [7, 8, 9], [10, 11, 12])"
     ],
     "language": "python",
     "metadata": {},
     "outputs": [
      {
       "output_type": "stream",
       "stream": "stdout",
       "text": [
        "[(1, 4, 7, 10), (2, 5, 8, 11), (3, 6, 9, 12)]\n"
       ]
      }
     ],
     "prompt_number": 8
    },
    {
     "cell_type": "markdown",
     "metadata": {},
     "source": [
      "- \uc2dc\ud000\uc2a4 \uc790\ub8cc\ud615\uc744 \uc6d0\uc18c\ub4e4\uc744 zip\uc5d0 \uc778\uc790\ub85c \ub123\ub294 \ub2e4\ub978 \ubc29\ubc95"
     ]
    },
    {
     "cell_type": "code",
     "collapsed": false,
     "input": [
      "a = [[1, 2, 3], [4, 5, 6]]\n",
      "print zip(*a)\n",
      "print\n",
      "\n",
      "b = [(1, 2, 3), (4, 5, 6)]\n",
      "print zip(*b)\n",
      "print\n",
      "\n",
      "c = ([1, 2, 3], (4, 5, 6))\n",
      "print zip(*c)\n",
      "print"
     ],
     "language": "python",
     "metadata": {},
     "outputs": [
      {
       "output_type": "stream",
       "stream": "stdout",
       "text": [
        "[(1, 4), (2, 5), (3, 6)]\n",
        "\n",
        "[(1, 4), (2, 5), (3, 6)]\n",
        "\n",
        "[(1, 4), (2, 5), (3, 6)]\n",
        "\n",
        "[(1, 4), (2, 5), (3, 6)]\n"
       ]
      }
     ],
     "prompt_number": 12
    },
    {
     "cell_type": "markdown",
     "metadata": {},
     "source": [
      "### 2-3 filter \ub0b4\uc7a5 \ud568\uc218\n",
      "- filter(function, seq)\n",
      "  - seq \uc2dc\ud000\uc2a4 \uc790\ub8cc\ud615\uc774 \uc9c0\ub2cc \uac01 \uc6d0\uc18c\uac12\ub4e4\uc5d0 \ub300\ud574 function\uc5d0 \uc801\uc6a9\ud55c \uacb0\uacfc\uac00 \ucc38\uc778 \uc6d0\uc18c\uac12\ub4e4\ub9cc\uc744 \ub3d9\uc77c \uc2dc\ud000\uc2a4 \uc790\ub8cc\ud615\uc73c\ub85c \ubc18\ud658\ud55c\ub2e4."
     ]
    },
    {
     "cell_type": "code",
     "collapsed": false,
     "input": [
      "filter(lambda x: x > 2, [1, 2, 3, 34])"
     ],
     "language": "python",
     "metadata": {},
     "outputs": [
      {
       "metadata": {},
       "output_type": "pyout",
       "prompt_number": 8,
       "text": [
        "[3, 34]"
       ]
      }
     ],
     "prompt_number": 8
    },
    {
     "cell_type": "markdown",
     "metadata": {},
     "source": [
      "- \uc704 \ucf54\ub4dc\ub294 \uc544\ub798\uc640 \ub3d9\uc77c\ud558\ub2e4."
     ]
    },
    {
     "cell_type": "code",
     "collapsed": false,
     "input": [
      "y = []\n",
      "for x in [1, 2, 3, 34]:\n",
      "    if x > 2:\n",
      "        y.append(x)\n",
      "print y"
     ],
     "language": "python",
     "metadata": {},
     "outputs": [
      {
       "output_type": "stream",
       "stream": "stdout",
       "text": [
        "[3, 34]\n"
       ]
      }
     ],
     "prompt_number": 12
    },
    {
     "cell_type": "markdown",
     "metadata": {},
     "source": [
      "- \uc8fc\uc5b4\uc9c4 \uc2dc\ud000\uc2a4 \ub0b4\uc5d0 \uc788\ub294 \uc815\uc218\uc911 \ud640\uc218\ub9cc \ud544\ud130\ub9c1"
     ]
    },
    {
     "cell_type": "code",
     "collapsed": false,
     "input": [
      "filter(lambda x: x % 2, [1, 2, 3, 4, 5, 6])"
     ],
     "language": "python",
     "metadata": {},
     "outputs": [
      {
       "metadata": {},
       "output_type": "pyout",
       "prompt_number": 9,
       "text": [
        "[1, 3, 5]"
       ]
      }
     ],
     "prompt_number": 9
    },
    {
     "cell_type": "markdown",
     "metadata": {},
     "source": [
      "- \uc8fc\uc5b4\uc9c4 \uc2dc\ud000\uc2a4 \ub0b4\uc5d0 \uc788\ub294 \uc815\uc218\uc911 \uc9dd\uc218\ub9cc \ud544\ud130\ub9c1"
     ]
    },
    {
     "cell_type": "code",
     "collapsed": false,
     "input": [
      "filter(lambda x: x % 2 - 1, [1, 2, 3, 4, 5, 6])"
     ],
     "language": "python",
     "metadata": {},
     "outputs": [
      {
       "metadata": {},
       "output_type": "pyout",
       "prompt_number": 11,
       "text": [
        "[2, 4, 6]"
       ]
      }
     ],
     "prompt_number": 11
    },
    {
     "cell_type": "markdown",
     "metadata": {},
     "source": [
      "- \ud2b9\uc815 \ubc94\uc704\uc5d0 \uc788\ub294 \uc815\uc218\ub9cc \ud544\ud130\ub9c1"
     ]
    },
    {
     "cell_type": "code",
     "collapsed": false,
     "input": [
      "def F():\n",
      "    x = 1\n",
      "    print filter(lambda a: a > x, range(-5, 5))\n",
      "    \n",
      "F()"
     ],
     "language": "python",
     "metadata": {},
     "outputs": [
      {
       "output_type": "stream",
       "stream": "stdout",
       "text": [
        "[2, 3, 4]\n"
       ]
      }
     ],
     "prompt_number": 77
    },
    {
     "cell_type": "markdown",
     "metadata": {},
     "source": [
      "- filter\uc758 \uacb0\uacfc\ub294 \uc8fc\uc5b4\uc9c4 seq \uc790\ub8cc\ud615\uacfc \ub3d9\uc77c\ud568"
     ]
    },
    {
     "cell_type": "code",
     "collapsed": false,
     "input": [
      "print filter(lambda x: x > 2, [1, 2, 3, 34])\n",
      "print filter(lambda x: x > 2, (1, 2, 3, 34))\n",
      "print filter(lambda x: x < 'a', 'abcABCdefDEF')"
     ],
     "language": "python",
     "metadata": {},
     "outputs": [
      {
       "output_type": "stream",
       "stream": "stdout",
       "text": [
        "[3, 34]\n",
        "(3, 34)\n",
        "ABCDEF\n"
       ]
      }
     ],
     "prompt_number": 17
    },
    {
     "cell_type": "markdown",
     "metadata": {},
     "source": [
      "- filter\uc758 \uccab \uc778\uc790\uc758 \ud568\uc218\ub97c None\uc744 \ud560\ub2f9\ud558\uba74 seq \uc790\ub8cc\ud615\uc5d0 \uc788\ub294 \uac01 \uc6d0\uc18c\uac12 \uc790\uccb4\ub4e4\uc744 \ud3c9\uac00\ud558\uc5ec \ucc38\uc778 \uac83\ub4e4\ub9cc \ud544\ud130\ub9c1\ud55c\ub2e4."
     ]
    },
    {
     "cell_type": "code",
     "collapsed": false,
     "input": [
      "L = ['high', False, 'level', '', 'built-in', '', 'function', 0, 10]\n",
      "L = filter(None, L)\n",
      "print L"
     ],
     "language": "python",
     "metadata": {},
     "outputs": [
      {
       "output_type": "stream",
       "stream": "stdout",
       "text": [
        "['high', 'level', 'built-in', 'function', 10]\n"
       ]
      }
     ],
     "prompt_number": 20
    },
    {
     "cell_type": "markdown",
     "metadata": {},
     "source": [
      "### 2-4 reduce \ub0b4\uc7a5 \ud568\uc218\n",
      "- reduce (function, seq[, initial])\n",
      "  - seq \uc2dc\ud000\uc2a4 \uc790\ub8cc\ud615\uc774 \uc9c0\ub2cc \uc6d0\uc18c\uac12\ub4e4\uc5d0 \ub300\ud574 function \ud568\uc218\ub97c \uc801\uc6a9\ud558\uba74\uc11c \ud558\ub098\uc758 \uac12\uc73c\ub85c \ub9e4\ud551\ud55c\ub2e4.\n",
      "  - \uccab\ubc88\uc9f8 \uc778\uc790\uc778 function \ud568\uc218\ub294 \ubc18\ub4dc\uc2dc \ub450 \uac1c\uc758 \uc778\uc790 (\uc608\ub97c \ub4e4\uc5b4, x, y)\ub97c \ubc1b\uc544\uc57c \ud55c\ub2e4.\n",
      "    - seq \uc2dc\ud000\uc2a4 \uc790\ub8cc\ud615\uc758 \uac01 \uc6d0\uc18c\uac12\ub4e4\uc740 \uac01 \ub2e8\uacc4\ubcc4\ub85c y\uc5d0 \uc21c\ucc28\uc801\uc73c\ub85c \ub4e4\uc5b4\uac04\ub2e4. \n",
      "    - \ud568\uc218\uac00 \uc218\ud589\ub41c \uac12\uc740 \uac01 \ub2e8\uacc4\ubcc4\ub85c x\uc5d0 \uc21c\ucc28\uc801\uc73c\ub85c \ub4e4\uc5b4\uac04\ub2e4.\n",
      "  - \ucd94\uac00\uc801\uc73c\ub85c \uc81c\uacf5\uac00\ub2a5\ud55c \uc138\ubc88\uc9f8 \uc778\uc790\uc778 initial\uc740 \uccab\ubc88\uc9f8 \ub2e8\uacc4\uc5d0 x\uc5d0 \ud560\ub2f9\ud560 \ucd08\uae30\uac12\uc73c\ub85c \uc0ac\uc6a9\ub41c\ub2e4. "
     ]
    },
    {
     "cell_type": "code",
     "collapsed": false,
     "input": [
      "print reduce(lambda x, y: x + y, [1, 2, 3, 4, 5])"
     ],
     "language": "python",
     "metadata": {},
     "outputs": [
      {
       "output_type": "stream",
       "stream": "stdout",
       "text": [
        "15\n"
       ]
      }
     ],
     "prompt_number": 13
    },
    {
     "cell_type": "markdown",
     "metadata": {},
     "source": [
      "| \ub2e8\uacc4 | x | y | reduce  |\n",
      "|-----|---|---|---------|\n",
      "|  1  | 0 | 1 |    1    |\n",
      "|  2  | 1 | 2 |    3    |\n",
      "|  3  | 3 | 3 |    6    |\n",
      "|  4  | 6 | 4 |    10   |\n",
      "|  5  | 10| 5 |    15   | "
     ]
    },
    {
     "cell_type": "markdown",
     "metadata": {},
     "source": [
      "- initial \uac12 \ud560\ub2f9"
     ]
    },
    {
     "cell_type": "code",
     "collapsed": false,
     "input": [
      "print reduce(lambda x, y: x + y, [1, 2, 3, 4, 5], 100)"
     ],
     "language": "python",
     "metadata": {},
     "outputs": [
      {
       "output_type": "stream",
       "stream": "stdout",
       "text": [
        "115\n"
       ]
      }
     ],
     "prompt_number": 14
    },
    {
     "cell_type": "markdown",
     "metadata": {},
     "source": [
      "- 1\ubd80\ud130 10\uae4c\uc9c0 \uac01 \uc218\uc5d0 \ub300\ud55c \uc81c\uacf1\uac12\uc744 \ubaa8\ub450 \ub354\ud55c \uacb0\uacfc \uad6c\ud568"
     ]
    },
    {
     "cell_type": "code",
     "collapsed": false,
     "input": [
      "print reduce(lambda x, y: x + y * y, range(1, 11), 0)"
     ],
     "language": "python",
     "metadata": {},
     "outputs": [
      {
       "output_type": "stream",
       "stream": "stdout",
       "text": [
        "385\n"
       ]
      }
     ],
     "prompt_number": 15
    },
    {
     "cell_type": "code",
     "collapsed": false,
     "input": [
      "x = 0\n",
      "for y in range(1, 11):\n",
      "    x = x + y * y\n",
      "print x"
     ],
     "language": "python",
     "metadata": {},
     "outputs": [
      {
       "output_type": "stream",
       "stream": "stdout",
       "text": [
        "385\n"
       ]
      }
     ],
     "prompt_number": 13
    },
    {
     "cell_type": "markdown",
     "metadata": {},
     "source": [
      "- \ubb38\uc790\uc5f4 \uc21c\uc11c \ub4a4\uc9d1\uae30"
     ]
    },
    {
     "cell_type": "code",
     "collapsed": false,
     "input": [
      "print reduce(lambda x, y: y + x, 'abcde')"
     ],
     "language": "python",
     "metadata": {},
     "outputs": [
      {
       "output_type": "stream",
       "stream": "stdout",
       "text": [
        "edcba\n"
       ]
      }
     ],
     "prompt_number": 17
    },
    {
     "cell_type": "markdown",
     "metadata": {},
     "source": [
      "| \ub2e8\uacc4 | x | y | reduce  |\n",
      "|-----|---|---|---------|\n",
      "|  1  | 0 | 'a' |    'a'    |\n",
      "|  2  | 'a' | 'b' |    'ba'    |\n",
      "|  3  | 'ba' | 'c' |    'cba'    |\n",
      "|  4  | 'cba' | 'd' |    'dcba'   |\n",
      "|  5  | 'dcba' | 'e' |    'edcba'   | "
     ]
    },
    {
     "cell_type": "markdown",
     "metadata": {},
     "source": [
      "<p style='text-align: right;'>\ucc38\uace0 \ubb38\ud5cc: \ud30c\uc774\uc36c(\uc5f4\ud608\uac15\uc758)(\uac1c\uc815\ud310 VER.2), \uc774\uac15\uc131, FreeLec, 2005\ub144 8\uc6d4 29\uc77c</p>"
     ]
    }
   ],
   "metadata": {}
  }
 ]
}