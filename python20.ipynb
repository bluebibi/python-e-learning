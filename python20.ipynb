{
 "metadata": {
  "name": "",
  "signature": "sha256:87d50693b2d59012a00cd525c5e8a4a301b652b72b90297739a5b509d5eb9568"
 },
 "nbformat": 3,
 "nbformat_minor": 0,
 "worksheets": [
  {
   "cells": [
    {
     "cell_type": "markdown",
     "metadata": {},
     "source": [
      "***\n",
      "***\n",
      "# 20. \ud074\ub798\uc2a4\uc640 \uc5f0\uc0b0\uc790 \uc911\ubcf5 \uc815\uc758\n",
      "***\n",
      "***"
     ]
    },
    {
     "cell_type": "markdown",
     "metadata": {},
     "source": [
      "***\n",
      "## 1 \uc5f0\uc0b0\uc790 \uc911\ubcf5 (Operator Overloading)\n",
      "***"
     ]
    },
    {
     "cell_type": "markdown",
     "metadata": {},
     "source": [
      "### 1-1 \uc218\uce58 \uc5f0\uc0b0\uc790 \uc911\ubcf5\n",
      "- \uc9c1\uc811 \uc815\uc758\ud558\ub294 \ud074\ub798\uc2a4 \uc778\uc2a4\ud134\uc2a4\uc5d0 \uc5f0\uc0b0\uc790\ub97c \uc801\uc6a9\ud558\uae30 \uc704\ud558\uc5ec \ubbf8\ub9ac \uc57d\uc18d\ub418\uc5b4 \uc788\ub294 \uba54\uc18c\ub4dc\ub4e4\uc744 \uc815\uc758"
     ]
    },
    {
     "cell_type": "markdown",
     "metadata": {},
     "source": [
      "<table class=\"txc-table\" width=\"584\" cellspacing=\"0\" cellpadding=\"0\" border=\"0\" style=\"border:none;border-collapse:collapse;font-size:15px\" align=\"center\"><tbody><tr><td style=\"width: 194px; height: 24px; border: 1px solid rgb(204, 204, 204); background-color: rgb(234, 234, 234);\"><p style=\"text-align: center;\"><b>\uba54\uc18c\ub4dc(Method)</b></p></td>\n",
      "<td style=\"width: 194px; height: 24px; border-bottom-width: 1px; border-bottom-style: solid; border-bottom-color: rgb(204, 204, 204); border-right-width: 1px; border-right-style: solid; border-right-color: rgb(204, 204, 204); border-top-width: 1px; border-top-style: solid; border-top-color: rgb(204, 204, 204); background-color: rgb(234, 234, 234);\"><p style=\"text-align: center;\"><b>\uc5f0\uc0b0\uc790(Operator)</b></p></td>\n",
      "<td style=\"width: 194px; height: 24px; border-bottom-width: 1px; border-bottom-style: solid; border-bottom-color: rgb(204, 204, 204); border-right-width: 1px; border-right-style: solid; border-right-color: rgb(204, 204, 204); border-top-width: 1px; border-top-style: solid; border-top-color: rgb(204, 204, 204); background-color: rgb(234, 234, 234);\"><p style=\"text-align: center;\"><b>\uc778\uc2a4\ud134\uc2a4 o\uc5d0 \ub300\ud55c \uc0ac\uc6a9 \uc608</b></p></td>\n",
      "</tr>\n",
      "<tr><td style=\"width:194;height:24;border-bottom:1px solid #ccc;border-right:1px solid #ccc;border-left:1px solid #ccc;;\"><p style=\"text-align: center;\">\\_\\_add\\_\\_(self, B)</p></td>\n",
      "<td style=\"width:194;height:24;border-bottom:1px solid #ccc;border-right:1px solid #ccc;;\"><p style=\"text-align: center;\">+ (\uc774\ud56d)</p></td>\n",
      "<td style=\"width:194;height:24;border-bottom:1px solid #ccc;border-right:1px solid #ccc;;\"><p style=\"text-align: center;\">o + B, o += B</p></td>\n",
      "</tr>\n",
      "<tr><td style=\"width:194;height:24;border-bottom:1px solid #ccc;border-right:1px solid #ccc;border-left:1px solid #ccc;;\"><p style=\"text-align: center;\">\\_\\_sub\\_\\_(self, B)</p></td>\n",
      "<td style=\"width:194;height:24;border-bottom:1px solid #ccc;border-right:1px solid #ccc;;\"><p style=\"text-align: center;\">- (\uc774\ud56d)</p></td>\n",
      "<td style=\"width:194;height:24;border-bottom:1px solid #ccc;border-right:1px solid #ccc;;\"><p style=\"text-align: center;\">o - B, o -= B</p></td>\n",
      "</tr>\n",
      "<tr><td style=\"width:194;height:24;border-bottom:1px solid #ccc;border-right:1px solid #ccc;border-left:1px solid #ccc;;\"><p style=\"text-align: center;\">\\_\\_mul\\_\\_(self, B)</p></td>\n",
      "<td style=\"width:194;height:24;border-bottom:1px solid #ccc;border-right:1px solid #ccc;;\"><p style=\"text-align: center;\">\\*</p></td>\n",
      "<td style=\"width:194;height:24;border-bottom:1px solid #ccc;border-right:1px solid #ccc;;\"><p style=\"text-align: center;\">o \\* B, o \\*= B</p></td>\n",
      "</tr>\n",
      "<tr><td style=\"width: 194px; height: 24px; border-bottom-width: 1px; border-bottom-style: solid; border-bottom-color: rgb(204, 204, 204); border-right-width: 1px; border-right-style: solid; border-right-color: rgb(204, 204, 204); border-left-width: 1px; border-left-style: solid; border-left-color: rgb(204, 204, 204);\"><p style=\"text-align: center;\">\\_\\_div\\_\\_(self, B)</p></td>\n",
      "<td style=\"width: 194px; height: 24px; border-bottom-width: 1px; border-bottom-style: solid; border-bottom-color: rgb(204, 204, 204); border-right-width: 1px; border-right-style: solid; border-right-color: rgb(204, 204, 204);\"><p style=\"text-align: center;\">/</p></td>\n",
      "<td style=\"width: 194px; height: 24px; border-bottom-width: 1px; border-bottom-style: solid; border-bottom-color: rgb(204, 204, 204); border-right-width: 1px; border-right-style: solid; border-right-color: rgb(204, 204, 204);\"><p style=\"text-align: center;\">o / B, o /= B</p></td>\n",
      "</tr>\n",
      "<tr><td style=\"width: 194px; height: 24px; border-bottom-width: 1px; border-bottom-style: solid; border-bottom-color: rgb(204, 204, 204); border-right-width: 1px; border-right-style: solid; border-right-color: rgb(204, 204, 204); border-left-width: 1px; border-left-style: solid; border-left-color: rgb(204, 204, 204);\"><p style=\"text-align: center;\">\\_\\_floordiv\\_\\_(self, B)</p></td>\n",
      "<td style=\"width: 194px; height: 24px; border-bottom-width: 1px; border-bottom-style: solid; border-bottom-color: rgb(204, 204, 204); border-right-width: 1px; border-right-style: solid; border-right-color: rgb(204, 204, 204);\"><p style=\"text-align: center;\">//</p></td>\n",
      "<td style=\"width: 194px; height: 24px; border-bottom-width: 1px; border-bottom-style: solid; border-bottom-color: rgb(204, 204, 204); border-right-width: 1px; border-right-style: solid; border-right-color: rgb(204, 204, 204);\"><p style=\"text-align: center;\">o // B, o //= B</p></td>\n",
      "</tr>\n",
      "<tr><td style=\"width:194;height:24;border-bottom:1px solid #ccc;border-right:1px solid #ccc;border-left:1px solid #ccc;;\"><p style=\"text-align: center;\">\\_\\_mod\\_\\_(self, B)</p></td>\n",
      "<td style=\"width:194;height:24;border-bottom:1px solid #ccc;border-right:1px solid #ccc;;\"><p style=\"text-align: center;\">%</p></td>\n",
      "<td style=\"width:194;height:24;border-bottom:1px solid #ccc;border-right:1px solid #ccc;;\"><p style=\"text-align: center;\">o % B, o %= B</p></td>\n",
      "</tr>\n",
      "\n",
      "<tr>\n",
      "<td style=\"width:194;height:24;border-bottom:1px solid #ccc;border-right:1px solid #ccc;border-left:1px solid #ccc;;\"><p style=\"text-align: center;\">\\_\\_divmod\\_\\_(self, B)</p></td>\n",
      "<td style=\"width:194;height:24;border-bottom:1px solid #ccc;border-right:1px solid #ccc;;\"><p style=\"text-align: center;\">divmod()</p></td>\n",
      "<td style=\"width:194;height:24;border-bottom:1px solid #ccc;border-right:1px solid #ccc;;\"><p style=\"text-align: center;\">divmod(o, B)</p></td>\n",
      "</tr>\n",
      "\n",
      "<tr><td style=\"width:194;height:24;border-bottom:1px solid #ccc;border-right:1px solid #ccc;border-left:1px solid #ccc;;\"><p style=\"text-align: center;\">\\_\\_pow\\_\\_(self, B)</p></td>\n",
      "<td style=\"width:194;height:24;border-bottom:1px solid #ccc;border-right:1px solid #ccc;;\"><p style=\"text-align: center;\">pow(), \\*\\*</p></td>\n",
      "<td style=\"width:194;height:24;border-bottom:1px solid #ccc;border-right:1px solid #ccc;;\"><p style=\"text-align: center;\">pow(o, B), o \\*\\* B</p></td>\n",
      "</tr>\n",
      "<tr><td style=\"width:194;height:24;border-bottom:1px solid #ccc;border-right:1px solid #ccc;border-left:1px solid #ccc;;\"><p style=\"text-align: center;\">\\_\\_lshift\\_\\_(self, B)</p></td>\n",
      "<td style=\"width:194;height:24;border-bottom:1px solid #ccc;border-right:1px solid #ccc;;\"><p style=\"text-align: center;\">&lt;&lt;</p></td>\n",
      "<td style=\"width:194;height:24;border-bottom:1px solid #ccc;border-right:1px solid #ccc;;\"><p style=\"text-align: center;\">o &lt;&lt; B, o &lt;&lt;= B</p></td>\n",
      "</tr>\n",
      "<tr><td style=\"width:194;height:24;border-bottom:1px solid #ccc;border-right:1px solid #ccc;border-left:1px solid #ccc;;\"><p style=\"text-align: center;\">\\_\\_rshift\\_\\_(self, B)</p></td>\n",
      "<td style=\"width:194;height:24;border-bottom:1px solid #ccc;border-right:1px solid #ccc;;\"><p style=\"text-align: center;\">&gt;&gt;</p></td>\n",
      "<td style=\"width:194;height:24;border-bottom:1px solid #ccc;border-right:1px solid #ccc;;\"><p style=\"text-align: center;\">o &gt;&gt; B, o &gt;&gt;= B</p></td>\n",
      "</tr>\n",
      "<tr><td style=\"width:194;height:24;border-bottom:1px solid #ccc;border-right:1px solid #ccc;border-left:1px solid #ccc;;\"><p style=\"text-align: center;\">\\_\\_and\\_\\_(self, B)</p></td>\n",
      "<td style=\"width:194;height:24;border-bottom:1px solid #ccc;border-right:1px solid #ccc;;\"><p style=\"text-align: center;\">&amp;</p></td>\n",
      "<td style=\"width:194;height:24;border-bottom:1px solid #ccc;border-right:1px solid #ccc;;\"><p style=\"text-align: center;\">o &amp; B, o &amp;= B</p></td>\n",
      "</tr>\n",
      "<tr><td style=\"width:194;height:24;border-bottom:1px solid #ccc;border-right:1px solid #ccc;border-left:1px solid #ccc;;\"><p style=\"text-align: center;\">\\_\\_xor\\_\\_(self, B)</p></td>\n",
      "<td style=\"width:194;height:24;border-bottom:1px solid #ccc;border-right:1px solid #ccc;;\"><p style=\"text-align: center;\">^</p></td>\n",
      "<td style=\"width:194;height:24;border-bottom:1px solid #ccc;border-right:1px solid #ccc;;\"><p style=\"text-align: center;\">o ^ B, o ^= B</p></td>\n",
      "</tr>\n",
      "<tr><td style=\"width:194;height:24;border-bottom:1px solid #ccc;border-right:1px solid #ccc;border-left:1px solid #ccc;;\"><p style=\"text-align: center;\">\\_\\_or\\_\\_(self, B)&nbsp;</p></td>\n",
      "<td style=\"width:194;height:24;border-bottom:1px solid #ccc;border-right:1px solid #ccc;;\"><p style=\"text-align: center;\">|</p></td>\n",
      "<td style=\"width:194;height:24;border-bottom:1px solid #ccc;border-right:1px solid #ccc;;\"><p style=\"text-align: center;\">o | B, o |= B</p></td>\n",
      "</tr>\n",
      "<tr><td style=\"width:194;height:24;border-bottom:1px solid #ccc;border-right:1px solid #ccc;border-left:1px solid #ccc;;\"><p style=\"text-align: center;\">\\_\\_neg\\_\\_(self)</p></td>\n",
      "<td style=\"width:194;height:24;border-bottom:1px solid #ccc;border-right:1px solid #ccc;;\"><p style=\"text-align: center;\">- (\ub2e8\ud56d)</p></td>\n",
      "<td style=\"width:194;height:24;border-bottom:1px solid #ccc;border-right:1px solid #ccc;;\"><p style=\"text-align: center;\">-A</p></td>\n",
      "</tr>\n",
      "<tr><td style=\"width:194;height:24;border-bottom:1px solid #ccc;border-right:1px solid #ccc;border-left:1px solid #ccc;;\"><p style=\"text-align: center;\">\\_\\_abs\\_\\_(self)</p></td>\n",
      "<td style=\"width:194;height:24;border-bottom:1px solid #ccc;border-right:1px solid #ccc;;\"><p style=\"text-align: center;\">abs()</p></td>\n",
      "<td style=\"width:194;height:24;border-bottom:1px solid #ccc;border-right:1px solid #ccc;;\"><p style=\"text-align: center;\">abs(o)</p></td>\n",
      "</tr>\n",
      "<tr><td style=\"width:194;height:24;border-bottom:1px solid #ccc;border-right:1px solid #ccc;border-left:1px solid #ccc;;\"><p style=\"text-align: center;\">\\_\\_pos\\_\\_(self)</p></td>\n",
      "<td style=\"width:194;height:24;border-bottom:1px solid #ccc;border-right:1px solid #ccc;;\"><p style=\"text-align: center;\">+ (\ub2e8\ud56d)</p></td>\n",
      "<td style=\"width:194;height:24;border-bottom:1px solid #ccc;border-right:1px solid #ccc;;\"><p style=\"text-align: center;\">+o</p></td>\n",
      "</tr>\n",
      "<tr><td style=\"width:194;height:24;border-bottom:1px solid #ccc;border-right:1px solid #ccc;border-left:1px solid #ccc;;\"><p style=\"text-align: center;\">\\_\\_invert\\_\\_(self)</p></td>\n",
      "<td style=\"width:194;height:24;border-bottom:1px solid #ccc;border-right:1px solid #ccc;;\"><p style=\"text-align: center;\">~</p></td>\n",
      "<td style=\"width:194;height:24;border-bottom:1px solid #ccc;border-right:1px solid #ccc;;\"><p style=\"text-align: center;\">~o</p></td>\n",
      "</tr>\n",
      "</tbody></table>"
     ]
    },
    {
     "cell_type": "code",
     "collapsed": false,
     "input": [
      "class Integer:\n",
      "    def __init__(self, i):\n",
      "        self.i = i\n",
      "    def __str__(self):\n",
      "        return str(self.i)\n",
      "    def __add__(self, other):\n",
      "        return self.i + other\n",
      "\n",
      "i = Integer(10)\n",
      "print i\n",
      "print str(i)\n",
      "\n",
      "print\n",
      "i = i + 10\n",
      "print i\n",
      "\n",
      "print\n",
      "i += 10\n",
      "print i"
     ],
     "language": "python",
     "metadata": {},
     "outputs": [
      {
       "output_type": "stream",
       "stream": "stdout",
       "text": [
        "10\n",
        "10\n",
        "\n",
        "20\n",
        "\n",
        "30\n"
       ]
      }
     ],
     "prompt_number": 75
    },
    {
     "cell_type": "code",
     "collapsed": false,
     "input": [
      "class MyString:\n",
      "    def __init__(self, str):\n",
      "        self.str = str\n",
      "    def __div__(self, sep): # \ub098\ub204\uae30 \uc5f0\uc0b0\uc790 /\uac00 \uc0ac\uc6a9\ub418\uc5c8\uc744 \ub54c \ud638\ucd9c\ub418\ub294 \ud568\uc218 \n",
      "        return self.str.split(sep) # \ubb38\uc790\uc5f4 self.str\uc744 sep\ub97c \uae30\uc900\uc73c\ub85c \ubd84\ub9ac\n",
      "\n",
      "m = MyString(\"abcd_abcd_abcd\")\n",
      "print m / \"_\"\n",
      "print m / \"_a\"\n",
      "\n",
      "print\n",
      "print m.__div__(\"_\")"
     ],
     "language": "python",
     "metadata": {},
     "outputs": [
      {
       "output_type": "stream",
       "stream": "stdout",
       "text": [
        "['abcd', 'abcd', 'abcd']\n",
        "['abcd', 'bcd', 'bcd']\n",
        "\n",
        "['abcd', 'abcd', 'abcd']\n"
       ]
      }
     ],
     "prompt_number": 85
    },
    {
     "cell_type": "markdown",
     "metadata": {},
     "source": [
      "- \uc5f0\uc0b0\uc790 \uc67c\ucabd\uc5d0 \ud53c\uc5f0\uc0b0\uc790, \uc5f0\uc0b0\uc790 \uc624\ub978\ucabd\uc5d0 \uac1d\uccb4\uac00 \uc624\ub294 \uacbd\uc6b0\n",
      "  - \uba54\uc18c\ub4dc \uc774\ub984 \uc55e\uc5d0 r\uc774 \ucd94\uac00\ub41c \uba54\uc18c\ub4dc \uc815\uc758"
     ]
    },
    {
     "cell_type": "code",
     "collapsed": false,
     "input": [
      "class MyString:\n",
      "    def __init__(self, str):\n",
      "        self.str = str\n",
      "    def __div__(self, sep):\n",
      "        return str.split(self.str, sep)\n",
      "    __rdiv__ = __div__\n",
      "\n",
      "m = MyString(\"abcd_abcd_abcd\")\n",
      "print m / \"_\"\n",
      "print m / \"_a\"\n",
      "print\n",
      "print \"_\" / m\n",
      "print \"_a\" / m"
     ],
     "language": "python",
     "metadata": {},
     "outputs": [
      {
       "output_type": "stream",
       "stream": "stdout",
       "text": [
        "['abcd', 'abcd', 'abcd']\n",
        "['abcd', 'bcd', 'bcd']\n",
        "\n",
        "['abcd', 'abcd', 'abcd']\n",
        "['abcd', 'bcd', 'bcd']\n"
       ]
      }
     ],
     "prompt_number": 87
    },
    {
     "cell_type": "code",
     "collapsed": false,
     "input": [
      "class MyString:\n",
      "    def __init__(self, str):\n",
      "        self.str = str\n",
      "    def __div__(self, sep):\n",
      "        return str.split(self.str, sep)\n",
      "    __rdiv__ = __div__\n",
      "    def __neg__(self):\n",
      "        t = list(self.str)\n",
      "        t.reverse()\n",
      "        return ''.join(t)\n",
      "    __invert__ = __neg__\n",
      "    \n",
      "m = MyString(\"abcdef\")\n",
      "print -m\n",
      "print ~m"
     ],
     "language": "python",
     "metadata": {},
     "outputs": [
      {
       "output_type": "stream",
       "stream": "stdout",
       "text": [
        "fedcba\n",
        "fedcba\n"
       ]
      }
     ],
     "prompt_number": 90
    },
    {
     "cell_type": "markdown",
     "metadata": {},
     "source": [
      "### 1-2 \ube44\uad50 \uc5f0\uc0b0\uc790 \uc911\ubcf5"
     ]
    },
    {
     "cell_type": "markdown",
     "metadata": {},
     "source": [
      "- \uac01\uac01\uc758 \ube44\uad50 \uc5f0\uc0b0\uc5d0 \ub300\uc751\ub418\ub294 \uba54\uc18c\ub4dc \uc774\ub984\uc774 \uc815\ud574\uc838 \uc788\uc9c0\ub9cc \uadf8\ub7ec\ud55c \uba54\uc18c\ub4dc\uac00 \ubcc4\ub3c4\ub85c \uc815\uc758\ub418\uc5b4 \uc788\uc9c0 \uc54a\uc73c\uba74 cmp\uac00 \ud638\ucd9c\ub428\n",
      "\n",
      "|\uba54\uc18c\ub4dc   |\uc5f0\uc0b0\uc790 |    \ube44\uace0    |\n",
      "|--------|----|----|\n",
      "|\\_\\_cmp\\_\\_(self, other)   | \uc544\ub798 \uba54\uc18c\ub4dc\uac00 \ubd80\uc7ac\ud55c \uc0c1\ud669\uc5d0 \ud638\ucd9c\ub418\ub294 \uba54\uc18c\ub4dc|       |\n",
      "|\\_\\_lt\\_\\_(self, other)   | self < other |     |\n",
      "|\\_\\_le\\_\\_(self, other)   | self <= other  |     |\n",
      "|\\_\\_eq\\_\\_(self, other)   | self == other  |     |\n",
      "|\\_\\_ne\\_\\_(self, other)   | self != other  |     |\n",
      "|\\_\\_gt\\_\\_(self, other)   | self > other  |     |\n",
      "|\\_\\_ge\\_\\_(self, other)   | self >= other  |     |"
     ]
    },
    {
     "cell_type": "markdown",
     "metadata": {},
     "source": [
      "- \uac1d\uccb4 c\uc5d0 \ub300\ud55c c > 1\uc5f0\uc0b0\uc758 \ud589\ub3d9 \ubc29\uc2dd\n",
      "  - c.\\_\\_gt\\_\\_()\uac00 \uc788\ub2e4\uba74 \ud638\ucd9c \uacb0\uacfc\uc744 \uadf8\ub300\ub85c \ubc18\ud658\n",
      "  - \uc815\uc758\ub41c c.\\_\\_gt\\_\\_()\uac00 \uc5c6\uace0, \\_\\_cmp\\_\\_() \ud568\uc218\uac00 \uc788\uc744 \uacbd\uc6b0\n",
      "    - c.\\_\\_cmp\\_\\_() \ud638\ucd9c \uacb0\uacfc\uac00 \uc591\uc218\uc774\uba74 True \ubc18\ud658, \uc544\ub2c8\uba74 False \ubc18\ud658"
     ]
    },
    {
     "cell_type": "code",
     "collapsed": false,
     "input": [
      "class MyCmp:\n",
      "    def __cmp__(self, y):\n",
      "        return 1 - y\n",
      "    \n",
      "c = MyCmp() \n",
      "print c > 1 # c.__cmp__(1)\uc744 \ud638\ucd9c, \ubc18\ud658\uac12\uc774 \uc591\uc218\uc774\uc5b4\uc57c True\n",
      "print c < 1 # c.__cmp__(1)\uc744 \ud638\ucd9c, \ubc18\ud658\uac12\uc774 \uc74c\uc218\uc774\uc5b4\uc57c True\n",
      "print c == 1 # c.__cmp__(1)\uc744 \ud638\ucd9c, \ubc18\ud658\uac12\uc774 0\uc774\uc5b4\uc57c True"
     ],
     "language": "python",
     "metadata": {},
     "outputs": [
      {
       "output_type": "stream",
       "stream": "stdout",
       "text": [
        "False\n",
        "False\n",
        "True\n"
       ]
      }
     ],
     "prompt_number": 22
    },
    {
     "cell_type": "markdown",
     "metadata": {},
     "source": [
      "- \uac1d\uccb4 m\uc5d0 \ub300\ud55c m < 10\uc5f0\uc0b0\uc758 \ud589\ub3d9 \ubc29\uc2dd\n",
      "  - m.\\_\\_lt\\_\\_()\uac00 \uc788\ub2e4\uba74 \ud638\ucd9c \uacb0\uacfc\uc744 \uadf8\ub300\ub85c \ubc18\ud658\n",
      "  - \uc815\uc758\ub41c m.\\_\\_lt\\_\\_()\uac00 \uc5c6\uace0, \\_\\_cmp\\_\\_() \ud568\uc218\uac00 \uc788\uc744 \uacbd\uc6b0\n",
      "    - m.\\_\\_cmp\\_\\_() \ud638\ucd9c \uacb0\uacfc\uac00 \uc74c\uc218\uc774\uba74 True \ubc18\ud658, \uc544\ub2c8\uba74 False \ubc18\ud658"
     ]
    },
    {
     "cell_type": "code",
     "collapsed": false,
     "input": [
      "class MyCmp2:\n",
      "    def __lt__(self, y):\n",
      "        return 1 < y\n",
      "\n",
      "m = MyCmp2()\n",
      "print m < 10 # m.__lt__(10)\uc744 \ud638\ucd9c\n",
      "print m < 2\n",
      "print m < 1"
     ],
     "language": "python",
     "metadata": {},
     "outputs": [
      {
       "output_type": "stream",
       "stream": "stdout",
       "text": [
        "True\n",
        "True\n",
        "False\n"
       ]
      }
     ],
     "prompt_number": 1
    },
    {
     "cell_type": "markdown",
     "metadata": {},
     "source": [
      "- \uac1d\uccb4 m\uc5d0 \ub300\ud55c m == 10\uc5f0\uc0b0\uc758 \ud589\ub3d9 \ubc29\uc2dd\n",
      "  - m.\\_\\_eq\\_\\_()\uac00 \uc788\ub2e4\uba74 \ud638\ucd9c \uacb0\uacfc\uc744 \uadf8\ub300\ub85c \ubc18\ud658\n",
      "  - \uc815\uc758\ub41c m.\\_\\_eq\\_\\_()\uac00 \uc5c6\uace0, \\_\\_cmp\\_\\_() \ud568\uc218\uac00 \uc788\uc744 \uacbd\uc6b0\n",
      "    - m.\\_\\_cmp\\_\\_() \ud638\ucd9c \uacb0\uacfc\uac00 0\uc774\uba74 True \ubc18\ud658, \uc544\ub2c8\uba74 False \ubc18\ud658"
     ]
    },
    {
     "cell_type": "code",
     "collapsed": false,
     "input": [
      "class MyCmp3:\n",
      "    def __eq__(self, y):\n",
      "        return 1 == y\n",
      "\n",
      "m = MyCmp3()\n",
      "print m == 10 # m.__eq__(10)\uc744 \ud638\ucd9c\n",
      "m1 = MyCmp3()\n",
      "print m == 1\n",
      "\n",
      "class MyCmp4:\n",
      "    def __init__(self, value):\n",
      "        self.value = value\n",
      "    def __cmp__(self, other):\n",
      "        if self.value == other:\n",
      "            return 0\n",
      "m2 = MyCmp4(10)\n",
      "print m2 == 10"
     ],
     "language": "python",
     "metadata": {},
     "outputs": [
      {
       "output_type": "stream",
       "stream": "stdout",
       "text": [
        "False\n",
        "True\n",
        "True\n"
       ]
      }
     ],
     "prompt_number": 9
    },
    {
     "cell_type": "markdown",
     "metadata": {},
     "source": [
      "***\n",
      "## 2 \uc2dc\ud000\uc2a4/\ub9e4\ud551 \uc790\ub8cc\ud615\uc758 \uc5f0\uc0b0\uc790 \uc911\ubcf5\n",
      "***"
     ]
    },
    {
     "cell_type": "markdown",
     "metadata": {},
     "source": [
      "- \ud074\ub798\uc2a4\ub97c \uac1c\ubc1c\ud560 \ub54c \ub2e4\uc74c \uba54\uc18c\ub4dc\ub4e4\uc744 \uc801\uc808\ud558\uac8c \uad6c\ud604\ud558\uba74 \uc790\uc2e0\ub9cc\uc758 \uc2dc\ud000\uc2a4 \uc790\ub8cc\ud615\uc744 \ub9cc\ub4e4 \uc218 \uc788\uc74c\n",
      "- \ubcc0\uacbd\ubd88\uac00\ub2a5\ud55c (Immutable) \uc2dc\ud000\uc2a4 \uc790\ub8cc\ud615 \ubc0f \ub9e4\ud551 \uc790\ub8cc\ud615\uc744 \uc704\ud574 \uad6c\ud604\uc774 \ud544\uc694\ud55c \uba54\uc18c\ub4dc"
     ]
    },
    {
     "cell_type": "markdown",
     "metadata": {},
     "source": [
      "|\uba54\uc18c\ub4dc   |\uc5f0\uc0b0\uc790 |\n",
      "|---|---|\n",
      "|\\_\\_len\\_\\_(self)   | len() |\n",
      "|\\_\\_contains\\_\\_(self, item)   | item in self  |\n",
      "|\\_\\_getItem\\_\\_(self, key)   | self[key]  |\n",
      "|\\_\\_setItem\\_\\_(self, key, value)   | self[key] = value  |\n",
      "|\\_\\_delItem\\_\\_(self, key)   | del self(key)  |"
     ]
    },
    {
     "cell_type": "markdown",
     "metadata": {},
     "source": [
      "### 2-1 \uc778\ub371\uc2f1 (Indexing)"
     ]
    },
    {
     "cell_type": "markdown",
     "metadata": {},
     "source": [
      "- len(s1) --> s1.\\_\\_len\\_\\_() \uba54\uc18c\ub4dc \ud638\ucd9c\n",
      "- sl[4] --> s1.\\_\\_getitem\\_\\_(4) \ud638\ucd9c\n",
      "- IndexError\n",
      "  - \uc2dc\ud000\uc2a4 \uc790\ub8cc\ud615\uc774 \ubc94\uc704\ub97c \ubc97\uc5b4\ub09c \uc778\ub371\uc2a4 \ucc38\uc870 \uc694\uad6c\uc2dc\uc5d0 \ubc1c\uc0dd\ub428\n",
      "  - \ub9ac\uc2a4\ud2b8, \ud29c\ud50c, \ubb38\uc790\uc5f4\ub4f1\uc5d0\uc11c\ub3c4 \ub3d9\uc77c\ud55c \uc870\uac74\uc5d0\uc11c \ubc1c\uc0dd\ub428 "
     ]
    },
    {
     "cell_type": "code",
     "collapsed": false,
     "input": [
      "class Square:\n",
      "    def __init__(self, end):\n",
      "        self.end = end\n",
      "    def __len__(self):\n",
      "        return self.end\n",
      "    def __getitem__(self, k):\n",
      "        if k < 0 or self.end <= k: \n",
      "            raise IndexError, k\n",
      "        return k * k\n",
      "    \n",
      "s1 = Square(10)\n",
      "print len(s1) # s1.__len__()\n",
      "print s1[1] #s1.__getitem__(1)\n",
      "print s1[4]\n",
      "print s1[20]\n"
     ],
     "language": "python",
     "metadata": {},
     "outputs": [
      {
       "output_type": "stream",
       "stream": "stdout",
       "text": [
        "10\n",
        "1\n",
        "16\n"
       ]
      },
      {
       "ename": "IndexError",
       "evalue": "20",
       "output_type": "pyerr",
       "traceback": [
        "\u001b[0;31m---------------------------------------------------------------------------\u001b[0m\n\u001b[0;31mIndexError\u001b[0m                                Traceback (most recent call last)",
        "\u001b[0;32m<ipython-input-3-78c6c0117c4f>\u001b[0m in \u001b[0;36m<module>\u001b[0;34m()\u001b[0m\n\u001b[1;32m     13\u001b[0m \u001b[0;32mprint\u001b[0m \u001b[0ms1\u001b[0m\u001b[0;34m[\u001b[0m\u001b[0;36m1\u001b[0m\u001b[0;34m]\u001b[0m \u001b[0;31m#s1.__getitem__(1)\u001b[0m\u001b[0;34m\u001b[0m\u001b[0m\n\u001b[1;32m     14\u001b[0m \u001b[0;32mprint\u001b[0m \u001b[0ms1\u001b[0m\u001b[0;34m[\u001b[0m\u001b[0;36m4\u001b[0m\u001b[0;34m]\u001b[0m\u001b[0;34m\u001b[0m\u001b[0m\n\u001b[0;32m---> 15\u001b[0;31m \u001b[0;32mprint\u001b[0m \u001b[0ms1\u001b[0m\u001b[0;34m[\u001b[0m\u001b[0;36m20\u001b[0m\u001b[0;34m]\u001b[0m\u001b[0;34m\u001b[0m\u001b[0m\n\u001b[0m",
        "\u001b[0;32m<ipython-input-3-78c6c0117c4f>\u001b[0m in \u001b[0;36m__getitem__\u001b[0;34m(self, k)\u001b[0m\n\u001b[1;32m      6\u001b[0m     \u001b[0;32mdef\u001b[0m \u001b[0m__getitem__\u001b[0m\u001b[0;34m(\u001b[0m\u001b[0mself\u001b[0m\u001b[0;34m,\u001b[0m \u001b[0mk\u001b[0m\u001b[0;34m)\u001b[0m\u001b[0;34m:\u001b[0m\u001b[0;34m\u001b[0m\u001b[0m\n\u001b[1;32m      7\u001b[0m         \u001b[0;32mif\u001b[0m \u001b[0mk\u001b[0m \u001b[0;34m<\u001b[0m \u001b[0;36m0\u001b[0m \u001b[0;32mor\u001b[0m \u001b[0mself\u001b[0m\u001b[0;34m.\u001b[0m\u001b[0mend\u001b[0m \u001b[0;34m<=\u001b[0m \u001b[0mk\u001b[0m\u001b[0;34m:\u001b[0m\u001b[0;34m\u001b[0m\u001b[0m\n\u001b[0;32m----> 8\u001b[0;31m             \u001b[0;32mraise\u001b[0m \u001b[0mIndexError\u001b[0m\u001b[0;34m,\u001b[0m \u001b[0mk\u001b[0m\u001b[0;34m\u001b[0m\u001b[0m\n\u001b[0m\u001b[1;32m      9\u001b[0m         \u001b[0;32mreturn\u001b[0m \u001b[0mk\u001b[0m \u001b[0;34m*\u001b[0m \u001b[0mk\u001b[0m\u001b[0;34m\u001b[0m\u001b[0m\n\u001b[1;32m     10\u001b[0m \u001b[0;34m\u001b[0m\u001b[0m\n",
        "\u001b[0;31mIndexError\u001b[0m: 20"
       ]
      }
     ],
     "prompt_number": 3
    },
    {
     "cell_type": "markdown",
     "metadata": {},
     "source": [
      "- \ub2e4\uc74c for \ubb38\uc740 s1\uc5d0 \ub300\ud574 \\_\\_getitem()\\_\\_ \uba54\uc18c\ub4dc\ub97c 0\ubd80\ud130 \ud638\ucd9c\ud558\uc5ec IndexError\uac00 \ubc1c\uc0dd\ud558\uba74 \ub8e8\ud504\ub97c \uc911\ub2e8\ud55c\ub2e4. "
     ]
    },
    {
     "cell_type": "code",
     "collapsed": false,
     "input": [
      "for x in s1:\n",
      "    print x,"
     ],
     "language": "python",
     "metadata": {},
     "outputs": [
      {
       "output_type": "stream",
       "stream": "stdout",
       "text": [
        "0 1 4 9 16 25 36 49 64 81\n"
       ]
      }
     ],
     "prompt_number": 3
    },
    {
     "cell_type": "markdown",
     "metadata": {},
     "source": [
      "- \\_\\_getitem\\_\\_() \uba54\uc18c\ub4dc\uac00 \uc815\uc758\ub418\uc5b4 \uc788\ub2e4\uba74 \ub2e4\ub978 \uc2dc\ud000\uc2a4 \uc790\ub8cc\ud615\uc73c\ub85c \ubcc0\ud658\uc774 \uac00\ub2a5"
     ]
    },
    {
     "cell_type": "code",
     "collapsed": false,
     "input": [
      "print list(s1)\n",
      "print tuple(s1)"
     ],
     "language": "python",
     "metadata": {},
     "outputs": [
      {
       "output_type": "stream",
       "stream": "stdout",
       "text": [
        "[0, 1, 4, 9, 16, 25, 36, 49, 64, 81]\n",
        "(0, 1, 4, 9, 16, 25, 36, 49, 64, 81)\n"
       ]
      }
     ],
     "prompt_number": 4
    },
    {
     "cell_type": "markdown",
     "metadata": {},
     "source": [
      "- \uc704\uc5d0\uc11c \uc54c \uc218 \uc788\ub4ef\uc774 \ud30c\uc774\uc36c\uc740 \ub0b4\uc7a5 \uc790\ub8cc\ud615\uacfc \uac1c\ubc1c\uc790\uac00 \uc815\uc758\ud55c \uc790\ub8cc\ud615\uc5d0 \ub300\ud574 \uc77c\uad00\ub41c \uc5f0\uc0b0 \uc801\uc6a9\uc774 \uac00\ub2a5\n",
      "  - \ud30c\uc774\uc36c \uc5b8\uc5b4\uc758 \uc7a5\uc810: \uc77c\uad00\ub41c \ucf54\ub529 \uc2a4\ud0c0\uc77c \uc720\uc9c0"
     ]
    },
    {
     "cell_type": "markdown",
     "metadata": {},
     "source": [
      "### 2-2 \ub9e4\ud551 \uc790\ub8cc\ud615\uc758 \uc5f0\uc0b0\uc790 \uc911\ubcf5"
     ]
    },
    {
     "cell_type": "code",
     "collapsed": false,
     "input": [
      "class MyDict:\n",
      "    def __init__(self, d = None):\n",
      "        if d == None: d = {}\n",
      "        self.d = d\n",
      "    def __getitem__(self, k): #key\n",
      "        return self.d[k]\n",
      "    def __setitem__(self, k, v):\n",
      "        self.d[k] = v\n",
      "    def __len__(self):\n",
      "        return len(self.d)\n",
      "    \n",
      "m = MyDict()            #__init__\ud638\ucd9c\n",
      "m['day'] = 'light'      #__setitem__\ud638\ucd9c\n",
      "m['night'] = 'darkness' #__setitem__\ud638\ucd9c \n",
      "print m\n",
      "print m['day']          #__getitem__\ud638\ucd9c\n",
      "print m['night']        #__getitem__\ud638\ucd9c\n",
      "print len(m)            #__len__\ud638\ucd9c"
     ],
     "language": "python",
     "metadata": {},
     "outputs": [
      {
       "output_type": "stream",
       "stream": "stdout",
       "text": [
        "<__main__.MyDict instance at 0x10bb37638>\n",
        "light\n",
        "darkness\n",
        "2\n"
       ]
      }
     ],
     "prompt_number": 9
    },
    {
     "cell_type": "code",
     "collapsed": false,
     "input": [
      "class MyDict:\n",
      "    def __init__(self, d=None):\n",
      "        if d == None: d = {}\n",
      "        self.d = d\n",
      "    def __getitem__(self, k):\n",
      "        return self.d[k]\n",
      "    def __setitem__(self, k, v):\n",
      "        self.d[k] = v\n",
      "    def __len__(self):\n",
      "        return len(self.d)\n",
      "    def keys(self):\n",
      "        return self.d.keys()\n",
      "    def values(self):\n",
      "        return self.d.values()\n",
      "    def items(self):\n",
      "        return self.d.items()\n",
      "    \n",
      "m = MyDict({'one':1, 'two':2, 'three':3})\n",
      "print m.keys()\n",
      "print m.values()\n",
      "print m.items()"
     ],
     "language": "python",
     "metadata": {},
     "outputs": [
      {
       "output_type": "stream",
       "stream": "stdout",
       "text": [
        "['three', 'two', 'one']\n",
        "[3, 2, 1]\n",
        "[('three', 3), ('two', 2), ('one', 1)]\n"
       ]
      }
     ],
     "prompt_number": 17
    },
    {
     "cell_type": "markdown",
     "metadata": {},
     "source": [
      "***\n",
      "## 3 \ubb38\uc790\uc5f4 \ubcc0\ud658\uacfc \ud638\ucd9c \uac00\ub2a5 \uac1d\uccb4\n",
      "***"
     ]
    },
    {
     "cell_type": "markdown",
     "metadata": {},
     "source": [
      "### 3-1 \ubb38\uc790\uc5f4\ub85c \ubcc0\ud658\ud558\uae30\n",
      "1) \\_\\_repr\\_\\_\n",
      "- \uac1d\uccb4\ub97c \ub300\ud45c\ud558\uc5ec \uc720\uc77c\ud558\uac8c \ud45c\ud604\ud560 \uc218 \uc788\ub294 \uacf5\uc2dd\uc801\uc778 \ubb38\uc790\uc5f4\n",
      "- eval() \ud568\uc218\uc5d0 \uc758\ud558\uc5ec \uac19\uc740 \uac1d\uccb4\ub85c \uc7ac\uc0dd\uc131 \ub420 \uc218 \uc788\ub294 \ubb38\uc790\uc5f4 \ud45c\ud604\n",
      "\n",
      "2) \\_\\_str\\_\\_\n",
      "- \uac1d\uccb4\uc758 \ube44\uacf5\uc2dd\uc801\uc778 \ubb38\uc790\uc5f4 \ud45c\ud604\n",
      "- \uc0ac\uc6a9\uc790\uac00 \ubcf4\uae30 \ud3b8\ud55c \ud615\ud0dc\ub85c \uc790\uc720\ub86d\uac8c \ud45c\ud604\ub420 \uc218 \uc788\uc74c"
     ]
    },
    {
     "cell_type": "code",
     "collapsed": false,
     "input": [
      "class StringRepr:\n",
      "    def __repr__(self):\n",
      "        return 'repr called'\n",
      "    def __str__(self):\n",
      "        return 'str called'\n",
      "    \n",
      "s = StringRepr()\n",
      "print s\n",
      "print str(s)\n",
      "print repr(s)\n",
      "print `s`"
     ],
     "language": "python",
     "metadata": {},
     "outputs": [
      {
       "output_type": "stream",
       "stream": "stdout",
       "text": [
        "str called\n",
        "str called\n",
        "repr called\n",
        "repr called\n"
       ]
      }
     ],
     "prompt_number": 20
    },
    {
     "cell_type": "markdown",
     "metadata": {},
     "source": [
      "- \\_\\_str\\_\\_() \ud638\ucd9c\uc2dc\n",
      "  - \\_\\_str\\_\\_()\uac00 \uc815\uc758\ub418\uc5b4 \uc788\uc9c0 \uc54a\uc73c\uba74 \\_\\_repr\\_\\_()\uc774 \ub300\uc2e0 \ud638\ucd9c\ub428"
     ]
    },
    {
     "cell_type": "code",
     "collapsed": false,
     "input": [
      "class StringRepr:\n",
      "    def __repr__(self):\n",
      "        return 'repr called'\n",
      "    \n",
      "s = StringRepr()\n",
      "print s\n",
      "print repr(s)\n",
      "print str(s)\n",
      "print `s`"
     ],
     "language": "python",
     "metadata": {},
     "outputs": [
      {
       "output_type": "stream",
       "stream": "stdout",
       "text": [
        "repr called\n",
        "repr called\n",
        "repr called\n",
        "repr called\n"
       ]
      }
     ],
     "prompt_number": 24
    },
    {
     "cell_type": "markdown",
     "metadata": {},
     "source": [
      "- \\_\\_repr\\_\\_() \ud638\ucd9c\uc2dc\n",
      "  - \\_\\_repr\\_\\_()\uc774 \uc815\uc758\ub418\uc5b4 \uc788\uc9c0 \uc54a\uc73c\uba74 \uac1d\uccb4 \uc2dd\ubcc4\uc790\uac00 \ucd9c\ub825\ub428\n",
      "  - \ub300\uc2e0\ud558\uc5ec \\_\\_str\\_\\_()\uc774 \ud638\ucd9c\ub418\uc9c0 \uc54a\uc74c"
     ]
    },
    {
     "cell_type": "code",
     "collapsed": false,
     "input": [
      "class StringRepr:\n",
      "    def __str__(self):\n",
      "        return 'str called'\n",
      "\n",
      "s = StringRepr()\n",
      "print s\n",
      "print repr(s)\n",
      "print str(s)\n",
      "print `s`"
     ],
     "language": "python",
     "metadata": {},
     "outputs": [
      {
       "output_type": "stream",
       "stream": "stdout",
       "text": [
        "str called\n",
        "<__main__.StringRepr instance at 0x101d3f908>\n",
        "str called\n",
        "<__main__.StringRepr instance at 0x101d3f908>\n"
       ]
      }
     ],
     "prompt_number": 25
    },
    {
     "cell_type": "markdown",
     "metadata": {},
     "source": [
      "### 3-2 \ud638\ucd9c \uac00\ub2a5\ud55c \ud074\ub798\uc2a4 \uc778\uc2a4\ud134\uc2a4 \ub9cc\ub4e4\uae30\n",
      "- \ud074\ub798\uc2a4 \uc778\uc2a4\ud134\uc2a4\uc5d0 \\_\\_call\\_\\_ \uba54\uc18c\ub4dc\uac00 \uad6c\ud604\ub418\uc5b4 \uc788\ub2e4\uba74 \ud574\ub2f9 \uc778\uc2a4\ud134\uc2a4\ub294 \ud568\uc218\uc640 \uac19\uc774 \ud638\ucd9c\ub420 \uc218 \uc788\ub2e4.\n",
      "  - \uc778\uc2bd\ub108\uc2a4 x\uc5d0 \ub300\ud574 x(a1, a2, a3)\uc640 \uac19\uc774 \ud638\ucd9c\ub41c\ub2e4\uba74 x.\\_\\_call(a1, a2, a3)\\_\\_ \uac00 \ud638\ucd9c\ub41c\ub2e4."
     ]
    },
    {
     "cell_type": "code",
     "collapsed": false,
     "input": [
      "class Accumulator:\n",
      "    def __init__(self):\n",
      "        self.sum = 0\n",
      "    def __call__(self, *args):\n",
      "        self.sum += sum(args)\n",
      "        return self.sum\n",
      "    \n",
      "acc = Accumulator()\n",
      "print acc(1,2,3,4,5)\n",
      "print acc(6)\n",
      "print acc(7,8,9)\n",
      "print acc.sum"
     ],
     "language": "python",
     "metadata": {},
     "outputs": [
      {
       "output_type": "stream",
       "stream": "stdout",
       "text": [
        "15\n",
        "21\n",
        "45\n",
        "45\n"
       ]
      }
     ],
     "prompt_number": 48
    },
    {
     "cell_type": "markdown",
     "metadata": {},
     "source": [
      "- \ud638\ucd9c \uac00\ub2a5 \uac1d\uccb4\uc778\uc9c0 \uc54c\uc544\ubcf4\uae30"
     ]
    },
    {
     "cell_type": "code",
     "collapsed": false,
     "input": [
      "def check(func):\n",
      "    if callable(func):\n",
      "        print 'callable'\n",
      "    else:\n",
      "        print 'not callable'\n",
      "\n",
      "class B:\n",
      "    def func(self, v):\n",
      "        return v\n",
      "class A:\n",
      "    def __call__(self, v):\n",
      "        return v\n",
      "    \n",
      "a = A()\n",
      "b = B()\n",
      "check(a)\n",
      "check(b)\n",
      "print\n",
      "print callable(a)\n",
      "print callable(b)"
     ],
     "language": "python",
     "metadata": {},
     "outputs": [
      {
       "output_type": "stream",
       "stream": "stdout",
       "text": [
        "callable\n",
        "not callable\n",
        "\n",
        "True\n",
        "False\n"
       ]
      }
     ],
     "prompt_number": 5
    },
    {
     "cell_type": "markdown",
     "metadata": {},
     "source": [
      "<p style='text-align: right;'>\ucc38\uace0 \ubb38\ud5cc: \ud30c\uc774\uc36c(\uc5f4\ud608\uac15\uc758)(\uac1c\uc815\ud310 VER.2), \uc774\uac15\uc131, FreeLec, 2005\ub144 8\uc6d4 29\uc77c</p>"
     ]
    }
   ],
   "metadata": {}
  }
 ]
}