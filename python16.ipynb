{
 "metadata": {
  "name": "",
  "signature": "sha256:f08af513fe9dffe1b6ca2dca03734cfd94a1542f058b3e395cde6f028b4acaab"
 },
 "nbformat": 3,
 "nbformat_minor": 0,
 "worksheets": [
  {
   "cells": [
    {
     "cell_type": "markdown",
     "metadata": {},
     "source": [
      "***\n",
      "***\n",
      "# 16. \ubaa8\ub4c8\uc758 \ud65c\uc6a9 \ubc0f \ud328\ud0a4\uc9c0\n",
      "***\n",
      "***"
     ]
    },
    {
     "cell_type": "markdown",
     "metadata": {},
     "source": [
      "***\n",
      "## 1 \ubaa8\ub4c8\uc758 \ub2e4\uc591\ud55c import \ubc29\ubc95\n",
      "***"
     ]
    },
    {
     "cell_type": "markdown",
     "metadata": {},
     "source": [
      "### 1-1 \ubaa8\ub4c8 import \ud558\uae30\n",
      "#### 1) import \ubaa8\ub4c8\uba85\n",
      "- \uac00\uc7a5 \uae30\ubcf8\uc801\uc778 \ud615\ud0dc\n",
      "  - \uc774\ub984 \uacf5\uac04 mymath\uac00 \uadf8\ub300\ub85c \uc720\uc9c0\ub418\ubbc0\ub85c mymath.area() \ud615\ud0dc\ub85c \uc790\uaca9 \uc774\ub984 \uc0ac\uc6a9"
     ]
    },
    {
     "cell_type": "code",
     "collapsed": false,
     "input": [
      "import mymath\n",
      "print mymath.area(5)"
     ],
     "language": "python",
     "metadata": {},
     "outputs": [
      {
       "output_type": "stream",
       "stream": "stdout",
       "text": [
        "78.5\n"
       ]
      }
     ],
     "prompt_number": 16
    },
    {
     "cell_type": "markdown",
     "metadata": {},
     "source": [
      "#### 2) from \ubaa8\ub4c8\uba85 import \uc774\ub984\ub4e4\n",
      "- \ud574\ub2f9 \ubaa8\ub4c8\uc5d0 \uc874\uc7ac\ud558\ub294 \uc9c0\uc815 \uc774\ub984\ub4e4\uc744 \ud604\uc7ac \uc774\ub984 \uacf5\uac04\uc73c\ub85c \ubd88\ub7ec\ub4e4\uc778\ub2e4.\n",
      "- \ubd88\ub7ec\ub4e4\uc778 \uac01 \uc774\ub984\ub4e4\uc740 \ubb34\uc790\uaca9 \uc774\ub984\uc73c\ub85c\uc11c \uc9c1\uc811 \ucc38\uc870 \uac00\ub2a5\ud558\ub2e4.\n",
      "- import \ud558\ub294 \uc774\ub984\ub4e4\uc774 \uae30\uc874\uc5d0 \ubbf8\ub9ac \uc874\uc7ac\ud558\uace0 \uc788\uc5c8\ub2e4\uba74 \uadf8 \uc774\ub984\ub4e4\uc5d0 \uc758\ud574 \ucc38\uc870\ub418\ub358 \uae30\uc874 \uac1d\uccb4\ub4e4\uc740 \uc0c1\uc2e4\ub41c\ub2e4."
     ]
    },
    {
     "cell_type": "code",
     "collapsed": false,
     "input": [
      "from mymath import area, mypi\n",
      "print area(5)"
     ],
     "language": "python",
     "metadata": {},
     "outputs": [
      {
       "output_type": "stream",
       "stream": "stdout",
       "text": [
        "78.5\n"
       ]
      }
     ],
     "prompt_number": 17
    },
    {
     "cell_type": "markdown",
     "metadata": {},
     "source": [
      "#### 3) from \ubaa8\ub4c8\uba85 import *\n",
      "- \ud574\ub2f9 \ubaa8\ub4c8\uc5d0 \uc874\uc7ac\ud558\ub294 '\\_\\_'\ub85c \uc2dc\uc791\ub418\ub294 \uc774\ub984\ub4e4\uc744 \uc81c\uc678\ud55c \ubaa8\ub4e0 \uc774\ub984\ub4e4\uc744 \ud604\uc7ac \uc774\ub984 \uacf5\uac04\uc73c\ub85c \ubd88\ub7ec\ub4e4\uc778\ub2e4. "
     ]
    },
    {
     "cell_type": "code",
     "collapsed": false,
     "input": [
      "from mymath import *\n",
      "print area(5)"
     ],
     "language": "python",
     "metadata": {},
     "outputs": [
      {
       "output_type": "stream",
       "stream": "stdout",
       "text": [
        "78.5\n"
       ]
      }
     ],
     "prompt_number": 19
    },
    {
     "cell_type": "markdown",
     "metadata": {},
     "source": [
      "#### 4) import \ubaa8\ub4c8\uba85 as \uc0c8\ub85c\uc6b4 \ubaa8\ub4c8 \uc774\ub984\n",
      "- \ud574\ub2f9 \ubaa8\ub4c8\uc744 \uc0c8\ub85c\uc6b4 \ub2e4\ub978 \uc774\ub984\uc73c\ub85c \uc0ac\uc6a9\ud558\uace0\uc790 \ud560 \ub54c \uc0ac\uc6a9\n",
      "- \uae30\uc874 \ubaa8\ub4c8 \uc774\ub984\uc774 \ub108\ubb34 \uae38\uac70\ub098 \ud604\uc7ac \uc0ac\uc6a9\uc911\uc778 \ub2e4\ub984 \uc774\ub984\ub4e4\uacfc \ucda9\ub3cc\uc774 \uc77c\uc5b4\ub0a0 \ub54c \uc720\uc6a9"
     ]
    },
    {
     "cell_type": "code",
     "collapsed": false,
     "input": [
      "import string as chstr\n",
      "print chstr\n",
      "print\n",
      "print chstr.punctuation"
     ],
     "language": "python",
     "metadata": {},
     "outputs": [
      {
       "output_type": "stream",
       "stream": "stdout",
       "text": [
        "<module 'string' from '/Applications/Canopy.app/appdata/canopy-1.4.1.1975.macosx-x86_64/Canopy.app/Contents/lib/python2.7/string.pyc'>\n",
        "\n",
        "!\"#$%&'()*+,-./:;<=>?@[\\]^_`{|}~\n"
       ]
      }
     ],
     "prompt_number": 4
    },
    {
     "cell_type": "markdown",
     "metadata": {},
     "source": [
      "#### 5) from \ubaa8\ub4c8\uba85 import \uc774\ub984 as \uc0c8\ub85c\uc6b4 \uc774\ub984[, \uc774\ub984 as \uc0c8\ub85c\uc6b4 \uc774\ub984]\n",
      "- \ud574\ub2f9 \ubaa8\ub4c8 \ub0b4\uc5d0 \uc815\uc758\ub41c \uc774\ub984\uc744 \ub2e4\ub978 \uc0c8\ub85c\uc6b4 \uc774\ub984\uc73c\ub85c \uc0ac\uc6a9\ud558\uace0\uc790 \ud560 \ub54c \uc0ac\uc6a9"
     ]
    },
    {
     "cell_type": "code",
     "collapsed": false,
     "input": [
      "from string import replace as substitute\n",
      "print substitute\n",
      "print substitute('ham chicken spam', 'chicken', 'egg')"
     ],
     "language": "python",
     "metadata": {},
     "outputs": [
      {
       "output_type": "stream",
       "stream": "stdout",
       "text": [
        "<function replace at 0x1006a01b8>\n",
        "ham egg spam\n"
       ]
      }
     ],
     "prompt_number": 38
    },
    {
     "cell_type": "code",
     "collapsed": false,
     "input": [
      "from string import replace as substitute, upper as up\n",
      "print up\n",
      "print up('abc')"
     ],
     "language": "python",
     "metadata": {},
     "outputs": [
      {
       "output_type": "stream",
       "stream": "stdout",
       "text": [
        "<function upper at 0x10286b668>\n",
        "ABC\n"
       ]
      }
     ],
     "prompt_number": 20
    },
    {
     "cell_type": "markdown",
     "metadata": {},
     "source": [
      "- import \ubb38\uc740 \ubcf4\ud1b5\uc758 \ubb38(statement)\uac00 \uae30\uc785\ub420 \uc218 \uc788\ub294 \uacf3\uc774\uba74 \uc5b4\ub514\uc5d0\uc11c\ub098 \uc0ac\uc6a9 \uac00\ub2a5\n",
      "  - \uc608\ub97c \ub4e4\uba74 \ud568\uc218 \uc815\uc758 def \ubb38 \uc548\uc774\ub098 if \ubb38 \uc548\uc5d0\uc11c \uc0ac\uc6a9\ud560 \uc218 \uc788\uc74c"
     ]
    },
    {
     "cell_type": "code",
     "collapsed": false,
     "input": [
      "def str_test(s):\n",
      "    import string\n",
      "    t = string.split(s)\n",
      "    return t"
     ],
     "language": "python",
     "metadata": {},
     "outputs": [],
     "prompt_number": 40
    },
    {
     "cell_type": "markdown",
     "metadata": {},
     "source": [
      "- \ubaa8\ub4c8 \ub0b4\uc5d0\uc11c import \ud558\ub294 \uc774\ub984\ub4e4\uc744 \ud29c\ud50c \ud0c0\uc785\uc73c\ub85c \ubb36\uc5b4\ub3c4 \ub41c\ub2e4."
     ]
    },
    {
     "cell_type": "code",
     "collapsed": false,
     "input": [
      "from Tkinter import  (Tk, Frame, Button, Entry, Canvas, Text, LEFT, DISABLED, NORMAL, RIDGE, END)"
     ],
     "language": "python",
     "metadata": {},
     "outputs": [],
     "prompt_number": 41
    },
    {
     "cell_type": "markdown",
     "metadata": {},
     "source": [
      "### 1-2 import\uc5d0 \uc758\ud55c \ubaa8\ub4c8 \ucf54\ub4dc \uc218\ud589\n",
      "- import\ub294 \ucf54\ub4dc\ub97c \uac00\uc838\uc624\uae30\ub9cc \ud558\ub294 \uac83\uc774 \uc544\ub2c8\ub77c \uac00\uc838\uc628 \ucf54\ub4dc\ub97c \uc218\ud589\ud55c\ub2e4."
     ]
    },
    {
     "cell_type": "code",
     "collapsed": false,
     "input": [
      "#FILE : mymath02.py\n",
      "mypi = 3.14\n",
      "\n",
      "def add(a, b):\n",
      "    return a + b\n",
      "\n",
      "def area(r):\n",
      "    return mypi * r * r\n",
      "\n",
      "print area(4.0)"
     ],
     "language": "python",
     "metadata": {},
     "outputs": [
      {
       "output_type": "stream",
       "stream": "stdout",
       "text": [
        "50.24\n"
       ]
      }
     ],
     "prompt_number": 43
    },
    {
     "cell_type": "code",
     "collapsed": false,
     "input": [
      "import mymath02"
     ],
     "language": "python",
     "metadata": {},
     "outputs": [
      {
       "output_type": "stream",
       "stream": "stdout",
       "text": [
        "50.24\n"
       ]
      }
     ],
     "prompt_number": 21
    },
    {
     "cell_type": "markdown",
     "metadata": {},
     "source": [
      "### 1-3 \ucef4\ud30c\uc77c\uacfc \uc801\uc7ac\uc2dc\uac04\n",
      "- import mymath\ub97c \uc218\ud589\ud560 \ub54c \ubc1c\uc0dd\ud558\ub294 \uc77c\n",
      "  - 1) \uc6b0\uc120 mymath.pyc\ub97c \ucc3e\ub294\ub2e4.\n",
      "  - 2) mymath.pyc\uac00 \uc5c6\ub2e4\uba74 mymath.py\ub97c \ucc3e\uc544\uc11c mymath.pyc\ub97c \uc0dd\uc131\ud55c\ub2e4.\n",
      "  - 3) \uc0dd\uc131\ub41c mymath.pyc\ub97c \uba54\ubaa8\ub9ac\ub85c \uc77d\uc5b4\ub4e4\uc5ec \uc218\ud589\ud55c\ub2e4.\n",
      "- .pyc \ud30c\uc77c\n",
      "  - \ubc14\uc774\ud2b8 \ucf54\ub4dc \ud30c\uc77c\n",
      "    - \uae30\uacc4\ub098 \ud50c\ub7ab\ud3fc(OS)\uc5d0 \uc758\uc874\ud558\uc9c0 \uc54a\ub3c4\ub85d \ub9cc\ub4e4\uc5b4\uc9c4 \uc77c\uc885\uc758 \ubaa9\uc801 \ucf54\ub4dc (Object Code)\n",
      "    - \ud30c\uc774\uc36c\uc740 \ucef4\ud30c\uc77c \uc5b8\uc5b4\uc774\uba74\uc11c \ub3d9\uc2dc\uc5d0 \uc778\ud130\ud504\ub9ac\ud130 \uc5b8\uc5b4\uc758 \uc218\ud589 \ubc29\uc2dd\uc744 \ucde8\ud558\uace0 \uc788\ub2e4.\n",
      "- \uc0c8\ub85c\uc6b4 .pyc \uc0dd\uc131\uc5d0 \ub300\ud55c \ud310\ub2e8\n",
      "  - .py \uc218\uc815 \uc2dc\uac04\uc774 .pyc \uc218\uc815 \uc2dc\uac04\ubcf4\ub2e4 \ub354 \ucd5c\uadfc\uc77c \ub54c\n",
      "- .py\uac00 \uc5c6\uc774\ub3c4 .pyc \ud30c\uc77c\ub9cc \uc788\uc5b4\ub3c4 import \uac00\ub2a5\n",
      "  - \ucf54\ub4dc\ub97c \uc228\uae30\ub294 \uac04\ub2e8\ud55c \uae30\ubc95\uc73c\ub85c \ud65c\uc6a9 \uac00\ub2a5"
     ]
    },
    {
     "cell_type": "markdown",
     "metadata": {},
     "source": [
      "### 1-4 \ubaa8\ub4c8 \uc774\ub984\uacfc \uc774\ubbf8 \uc0ac\uc6a9\ud558\uace0 \uc788\ub358 \uc774\ub984\uc774 \uac19\ub2e4\uba74?\n",
      "- \uc774\uc804\uc758 \uc774\ub984\uc774 \ucc38\uc870\ud558\ub358 \uac1d\uccb4\ub294 \uc0c1\uc2e4\ub428"
     ]
    },
    {
     "cell_type": "code",
     "collapsed": false,
     "input": [
      "string = \"My first string\"\n",
      "import string\n",
      "print string"
     ],
     "language": "python",
     "metadata": {},
     "outputs": [
      {
       "output_type": "stream",
       "stream": "stdout",
       "text": [
        "<module 'string' from '/Applications/Canopy.app/appdata/canopy-1.4.1.1975.macosx-x86_64/Canopy.app/Contents/lib/python2.7/string.pyc'>\n"
       ]
      }
     ],
     "prompt_number": 23
    },
    {
     "cell_type": "code",
     "collapsed": false,
     "input": [
      "import string\n",
      "string = \"My first string\" #\uc5ec\uae30\uc11c string\uc774\ub780 \uc774\ub984\uc740 \ubb38\uc790\uc5f4\uc744 \ucc38\uc870\ud558\uac8c \ub41c\ub2e4.\n",
      "print string"
     ],
     "language": "python",
     "metadata": {},
     "outputs": [
      {
       "output_type": "stream",
       "stream": "stdout",
       "text": [
        "My first string\n"
       ]
      }
     ],
     "prompt_number": 24
    },
    {
     "cell_type": "markdown",
     "metadata": {},
     "source": [
      "- \ud55c\ubc88 import \ub418\uc5c8\ub358 \ubaa8\ub4c8\uc740 \uba54\ubaa8\ub9ac\uc5d0 \uc801\uc7ac\ub418\uc5b4\uc9c0\uace0, \ub098\uc911\uc5d0 \ub2e4\uc2dc \ub3d9\uc77c\ud55c \ubaa8\ub4c8\uc744 import\ud558\uba74 \uba54\ubaa8\ub9ac\uc5d0 \uc801\uc7ac\ub418\uc5b4 \uc788\ub358 \ubaa8\ub4c8\uc774 \uc989\uc2dc \uc0ac\uc6a9\ub41c\ub2e4."
     ]
    },
    {
     "cell_type": "code",
     "collapsed": false,
     "input": [
      "import string\n",
      "string.a = 1\n",
      "string = \"My first string\"\n",
      "print string\n",
      "\n",
      "import string\n",
      "print string.a  # \uc5ec\uae30\uc11c string \ubaa8\ub4c8\uc774 \uae30\uc874\uc5d0 \uc774\ubbf8 \ub4f1\ub85d\ub418\uc5c8\ub358 \uac83\uc784\uc744 \uc54c \uc218 \uc788\ub2e4."
     ],
     "language": "python",
     "metadata": {},
     "outputs": [
      {
       "output_type": "stream",
       "stream": "stdout",
       "text": [
        "My first string\n",
        "1\n"
       ]
      }
     ],
     "prompt_number": 28
    },
    {
     "cell_type": "markdown",
     "metadata": {},
     "source": [
      "### 1-5 \ubaa8\ub4c8\uc740 \uacf5\uc720\ub41c\ub2e4\n",
      "- \uc11c\ub85c \ub2e4\ub978 \ubaa8\ub4c8\uc5d0\uc11c \ub3d9\uc77c\ud55c \ubaa8\ub4c8\uc740 \uacf5\uc720\ub41c\ub2e4."
     ]
    },
    {
     "cell_type": "code",
     "collapsed": false,
     "input": [
      "import string             # string \ubaa8\ub4c8\uc744 import \ud568\n",
      "\n",
      "print 'test string1'\n",
      "string.a = 1              # import\ud55c string \ubaa8\ub4c8\uc5d0 a \ubcc0\uc218 \ub4f1\ub85d\n",
      "\n",
      "print \"---\"\n",
      "import teststring2        # \uc11c\ub85c \ub2e4\ub978 \ubaa8\ub4c8\uc778 teststring2\ub97c import \ud568\n",
      "print \"---\"\n",
      "\n",
      "print 'test string1 done'"
     ],
     "language": "python",
     "metadata": {},
     "outputs": [
      {
       "output_type": "stream",
       "stream": "stdout",
       "text": [
        "test string1\n",
        "---\n",
        "test string2\n",
        "1\n",
        "test string2 done\n",
        "---\n",
        "test string1 done\n"
       ]
      }
     ],
     "prompt_number": 1
    },
    {
     "cell_type": "code",
     "collapsed": false,
     "input": [
      "#file : teststring2.py\n",
      "import string             # \ub3d9\uc77c\ud55c string \ubaa8\ub4c8\uc744 import \ud568\n",
      "\n",
      "print 'test string2'\n",
      "print string.a            # \ub2e4\ub978 \ubaa8\ub4c8\uc5d0\uc11c \ub4f1\ub85d\ud55c a \ubcc0\uc218 \uc0ac\uc6a9 \uac00\ub2a5\n",
      "print 'test string2 done'"
     ],
     "language": "python",
     "metadata": {},
     "outputs": [
      {
       "output_type": "stream",
       "stream": "stdout",
       "text": [
        "test string2\n",
        "1\n",
        "test string2 done\n"
       ]
      }
     ],
     "prompt_number": 31
    },
    {
     "cell_type": "markdown",
     "metadata": {},
     "source": [
      "### 1-6 \ubaa8\ub4c8\uc758 \uc7ac\uc801\uc7ac(reload)\n",
      "- \uc774\ubbf8 \uba54\ubaa8\ub9ac\uc5d0 \uc801\uc7ac\ub418\uc5b4 \uc788\ub294 \ubaa8\ub4c8\uc740 \ub2e4\uc2dc import \ud558\ub354\ub77c\ub3c4 \uae30\uc874\uc5d0 \uc801\uc7ac\ub418\uc5b4 \uc788\ub294 \ubaa8\ub4c8\uc774 \uadf8\ub300\ub85c \ub2e4\uc2dc \uc774\uc6a9\ub41c\ub2e4."
     ]
    },
    {
     "cell_type": "code",
     "collapsed": false,
     "input": [
      "import mymath\n",
      "mymath.mypi = 6.2   # \uac12 \uc218\uc815(\uc6d0\ub798 \uac12\uc740 3.14)\n",
      "\n",
      "import mymath       # \ub2e4\uc2dc import\n",
      "print mymath.mypi   # 3.14\uac00 \uc544\ub2c8\ub77c 6.2 -> \uc989 \uc774\ubbf8 \uc801\uc7ac\ub418\uc5b4 \uc788\ub294 \ubaa8\ub4c8 \uadf8\ub0e5 \uc774\uc6a9"
     ],
     "language": "python",
     "metadata": {},
     "outputs": [
      {
       "output_type": "stream",
       "stream": "stdout",
       "text": [
        "6.2\n"
       ]
      }
     ],
     "prompt_number": 6
    },
    {
     "cell_type": "markdown",
     "metadata": {},
     "source": [
      "- reload(\ubaa8\ub4c8)\n",
      "  - \uba54\ubaa8\ub9ac\uc5d0 \ub4f1\ub85d\ub41c \uac83\uacfc \uad00\uacc4\uc5c6\uc774 \ud574\ub2f9 \ubaa8\ub4c8\uc758 \ud30c\uc77c\uc5d0\uc11c \uc0c8\ub86d\uac8c \ub2e4\uc2dc \uba54\ubaa8\ub9ac\uc5d0 \uc7ac\uc801\uc7ac \uc2dc\ud0a4\ub294 \ub0b4\uc7a5 \ud568\uc218"
     ]
    },
    {
     "cell_type": "code",
     "collapsed": false,
     "input": [
      "print mymath.mypi\n",
      "reload(mymath)\n",
      "print mymath.mypi"
     ],
     "language": "python",
     "metadata": {},
     "outputs": [
      {
       "output_type": "stream",
       "stream": "stdout",
       "text": [
        "6.2\n",
        "3.14\n"
       ]
      }
     ],
     "prompt_number": 8
    },
    {
     "cell_type": "markdown",
     "metadata": {},
     "source": [
      "***\n",
      "## 2 \ubaa8\ub4c8\uc758 \uc2e4\ud589\uacfc \ud14c\uc2a4\ud2b8 \ucf54\ub4dc\n",
      "***\n",
      "- \\_\\_name\\_\\_\n",
      "  - \ud604\uc7ac\uc758 \ubaa8\ub4c8\uc774 \ucd5c\uc0c1\uc704 \ubaa8\ub4c8\ub85c\uc11c \uc218\ud589\ub418\ub294\uc9c0, \uc544\ub2c8\uba74 \ub2e4\ub978 \ubaa8\ub4c8\uc5d0 \uc758\ud574 import \ub418\uc5b4 \uc218\ud589\ub418\ub294\uc9c0\ub97c \uad6c\ubcc4\ud558\uae30 \uc704\ud574 \uc8fc\ub85c \ud65c\uc6a9"
     ]
    },
    {
     "cell_type": "markdown",
     "metadata": {},
     "source": [
      "- prname.py\ub97c \uc9c1\uc811 \uc218\ud589\ud560 \ub54c\uc758 \ucd9c\ub825 \ub0b4\uc6a9: \\_\\_main\\_\\_\n",
      "  - \\>\\>\\> ipython prname.py\n",
      "    - \\_\\_main\\_\\_\n",
      "  - prname.py\uac00 \ucd5c\uc0c1\uc704 \ubaa8\ub4c8\ub85c\uc11c \uc218\ud589\ub428\uc744 \uc758\ubbf8"
     ]
    },
    {
     "cell_type": "code",
     "collapsed": false,
     "input": [
      "#FILE : prname.py\n",
      "print __name__"
     ],
     "language": "python",
     "metadata": {},
     "outputs": [
      {
       "output_type": "stream",
       "stream": "stdout",
       "text": [
        "__main__\n"
       ]
      }
     ],
     "prompt_number": 38
    },
    {
     "cell_type": "markdown",
     "metadata": {},
     "source": [
      "- prname.py\uac00 \ubaa8\ub4c8\ub85c\uc11c \ub2e4\ub978 \uc774\ub984 \uacf5\uac04\uc73c\ub85c import \ub418\uc5b4\uc9c8 \ub54c\uc758 \ucd9c\ub825 \ub0b4\uc6a9: prname"
     ]
    },
    {
     "cell_type": "code",
     "collapsed": false,
     "input": [
      "import prname\n",
      "print prname.__name__"
     ],
     "language": "python",
     "metadata": {},
     "outputs": [
      {
       "output_type": "stream",
       "stream": "stdout",
       "text": [
        "prname\n",
        "prname\n"
       ]
      }
     ],
     "prompt_number": 9
    },
    {
     "cell_type": "code",
     "collapsed": false,
     "input": [
      "import string\n",
      "print string.__name__\n",
      "\n",
      "import re\n",
      "print re.__name__\n",
      "\n",
      "import mimetools\n",
      "print mimetools.__name__\n",
      "\n",
      "import os\n",
      "print os.__name__"
     ],
     "language": "python",
     "metadata": {},
     "outputs": [
      {
       "output_type": "stream",
       "stream": "stdout",
       "text": [
        "string\n",
        "re\n",
        "mimetools\n",
        "os\n"
       ]
      }
     ],
     "prompt_number": 63
    },
    {
     "cell_type": "markdown",
     "metadata": {},
     "source": [
      "- \uc544\ub798 \ucf54\ub4dc\ub294 \ucd5c\uc0c1\uc704 \ubaa8\ub4c8\ub85c\uc11c \uc218\ud589\ub420 \ub54c\uc5d0\ub9cc test() \ud568\uc218 \ud638\ucd9c\uc774 \uc77c\uc5b4\ub09c\ub2e4. \n",
      "- \ubcf4\ud1b5 \ud30c\uc774\uc36c \ubaa8\ub4c8\uc744 \uac1c\ubc1c\ud560 \ub54c\uc5d0\ub294 \ub9c8\uc9c0\ub9c9 \ubd80\ubd84\uc5d0 if \\_\\_name\\_\\_ == \"\\_\\_main\\_\\_\": \uacfc \uac19\uc740 \ucf54\ub4dc\ub97c \ucd94\uac00\ud558\uc5ec \ud14c\uc2a4\ud2b8 \ucf54\ub4dc\ub97c \uc0bd\uc785\ud55c\ub2e4."
     ]
    },
    {
     "cell_type": "code",
     "collapsed": false,
     "input": [
      "#file: name_attr_test.py\n",
      "def test():\n",
      "    print \"Python is becoming popular.\"\n",
      "    \n",
      "if __name__ == \"__main__\":\n",
      "    test()"
     ],
     "language": "python",
     "metadata": {},
     "outputs": [
      {
       "output_type": "stream",
       "stream": "stdout",
       "text": [
        "Python is becoming popular.\n"
       ]
      }
     ],
     "prompt_number": 65
    },
    {
     "cell_type": "markdown",
     "metadata": {},
     "source": [
      "- \uc815\uc758\ub41c \ubaa8\ub4c8\uc774 \ub2e4\ub978 \ubaa8\ub4c8\ub85c import\ub418\uc5b4\uc9c8 \ub54c\uc5d0\ub294 \\_\\_name\\_\\_\uc740 \ubaa8\ub4c8 \uc774\ub984 \uc790\uccb4\uc774\ubbc0\ub85c \uc704 \ucf54\ub4dc\uc5d0\uc11c if \ubb38\uc774 \uc218\ud589\ub418\uc9c0 \uc54a\ub294\ub2e4. \n",
      "  - \uc989, test() \ud568\uc218 \ud638\ucd9c\uc774 \uace7\ubc14\ub85c \ub418\uc9c0 \uc54a\ub294\ub2e4."
     ]
    },
    {
     "cell_type": "code",
     "collapsed": false,
     "input": [
      "import name_attr_test"
     ],
     "language": "python",
     "metadata": {},
     "outputs": [],
     "prompt_number": 10
    },
    {
     "cell_type": "markdown",
     "metadata": {},
     "source": [
      "***\n",
      "## 2 \ud328\ud0a4\uc9c0\n",
      "***"
     ]
    },
    {
     "cell_type": "markdown",
     "metadata": {},
     "source": [
      "- \ud328\ud0a4\uc9c0 (Package)\n",
      "  - \uc5ec\ub7ec \ubaa8\ub4c8\ub4e4\uc744 \ud55c\ub370 \ubb36\uc5b4\uc11c \uc815\ub9ac\ud574 \ub193\uc740 \uad6c\uc870\n",
      "  - \ubb3c\ub9ac\uc801\uc73c\ub85c \uc5ec\ub7ec \ubaa8\ub4c8 \ud30c\uc77c\uc744 \ubaa8\uc544 \ub193\uc740 \ub514\ub809\ud1a0\ub9ac\uc5d0 \ud574\ub2f9\n",
      "    - \ucd5c\uc0c1\uc704 \ub514\ub809\ud1a0\ub9ac \uc774\ub984\uc774 \ud328\ud0a4\uc9c0 \uc774\ub984\uc774 \ub41c\ub2e4.\n",
      "    - \ucd5c\uc0c1\uc704 \ub514\ub809\ud1a0\ub9ac \ud558\uc704\uc5d0 \uc5ec\ub7ec \uc11c\ube0c \ub514\ub809\ud1a0\ub9ac\ub294 \ud574\ub2f9 \ucd5c\uc0c1\uc704 \ud328\ud0a4\uc9c0\uc758 \ud558\uc704 \ud328\ud0a4\uc9c0\uac00 \ub41c\ub2e4. \n",
      "- \uc608\uc81c: Speech \ud328\ud0a4\uc9c0\n",
      "  - \uac01 \ud3f4\ub354\ub9c8\ub2e4 \\_\\_init\\_\\_.py \ud30c\uc77c \uc874\uc7ac\uc5d0 \uc720\uc758"
     ]
    },
    {
     "cell_type": "markdown",
     "metadata": {},
     "source": [
      "![inheritance](images/package.png)"
     ]
    },
    {
     "cell_type": "markdown",
     "metadata": {},
     "source": [
      "### 2-1 \ud328\ud0a4\uc9c0\uc758 \uad6c\uc870"
     ]
    },
    {
     "cell_type": "code",
     "collapsed": false,
     "input": [
      "import Speech"
     ],
     "language": "python",
     "metadata": {},
     "outputs": [],
     "prompt_number": 20
    },
    {
     "cell_type": "markdown",
     "metadata": {},
     "source": [
      "- Speech \ub514\ub809\ud1a0\ub9ac\uc758 \uc704\uce58\n",
      "  - PYTHONPATH \ud658\uacbd \ubcc0\uc218 (\ub610\ub294 sys.path)\uc5d0 \uc5f4\uac70\ub41c \ud3f4\ub354 \uc911 \ud558\ub098\uc5d0 \uc704\uce58\ud574\uc57c \ud55c\ub2e4."
     ]
    },
    {
     "cell_type": "markdown",
     "metadata": {},
     "source": [
      "- Speech/Recognition/HMM.py \ucf54\ub4dc \ub0b4\uc6a9"
     ]
    },
    {
     "cell_type": "code",
     "collapsed": false,
     "input": [
      "def train():\n",
      "    print \"Train\"\n",
      "    pass\n",
      "\n",
      "def loadModel():\n",
      "    print \"LoadModel\"\n",
      "    pass\n",
      "\n",
      "def saveModel():\n",
      "    print \"SaveModel\"    \n",
      "    pass"
     ],
     "language": "python",
     "metadata": {},
     "outputs": [],
     "prompt_number": 11
    },
    {
     "cell_type": "markdown",
     "metadata": {},
     "source": [
      "### 2-2 \\_\\_init\\_\\_.py\uc758 \uc5ed\ud560\n",
      "- \\_\\_init\\_\\_.py \ud30c\uc77c\uc774 \uc874\uc7ac\ud574\uc57c\uc9c0\ub9cc \ud30c\uc774\uc36c \ud328\ud0a4\uc9c0\ub85c\uc11c \uc778\uc2dd\ub428"
     ]
    },
    {
     "cell_type": "markdown",
     "metadata": {},
     "source": [
      "### 2-3 import \ud558\uae30"
     ]
    },
    {
     "cell_type": "code",
     "collapsed": false,
     "input": [
      "import Speech.Recognition.HMM\n",
      "Speech.Recognition.HMM.train()"
     ],
     "language": "python",
     "metadata": {},
     "outputs": [
      {
       "output_type": "stream",
       "stream": "stdout",
       "text": [
        "Train\n"
       ]
      }
     ],
     "prompt_number": 2
    },
    {
     "cell_type": "code",
     "collapsed": false,
     "input": [
      "from Speech.Recognition import HMM\n",
      "HMM.train()"
     ],
     "language": "python",
     "metadata": {},
     "outputs": [
      {
       "output_type": "stream",
       "stream": "stdout",
       "text": [
        "Train\n"
       ]
      }
     ],
     "prompt_number": 3
    },
    {
     "cell_type": "code",
     "collapsed": false,
     "input": [
      "from Speech.Recognition.HMM import train\n",
      "train()"
     ],
     "language": "python",
     "metadata": {},
     "outputs": [
      {
       "output_type": "stream",
       "stream": "stdout",
       "text": [
        "Train\n"
       ]
      }
     ],
     "prompt_number": 5
    },
    {
     "cell_type": "markdown",
     "metadata": {},
     "source": [
      "### 2-4 import * \ud558\uae30"
     ]
    },
    {
     "cell_type": "code",
     "collapsed": false,
     "input": [
      "from Speech.Recognition.HMM import *\n",
      "train()\n",
      "loadModel()\n",
      "saveModel()"
     ],
     "language": "python",
     "metadata": {},
     "outputs": [
      {
       "output_type": "stream",
       "stream": "stdout",
       "text": [
        "Train\n",
        "LoadModel\n",
        "SaveModel\n"
       ]
      }
     ],
     "prompt_number": 6
    },
    {
     "cell_type": "markdown",
     "metadata": {},
     "source": [
      "- Speech/Recognition \ub514\ub809\ud1a0\ub9ac\uc758 \\_\\_init\\_\\_.py \ud30c\uc77c\uc5d0 \ub2e4\uc74c\uacfc \uac19\uc740 \ub0b4\uc6a9\uc774 \uc788\ub2e4\uace0 \uac00\uc815\ud558\uc790.\n",
      "> \\_\\_all\\_\\_ = ['HMM', 'NN', 'DTW']\n",
      "- \uadf8\ub7ec\uba74 Recognition \ubaa8\ub4c8\uc758 \ud558\uc704 \ubaa8\ub4c8 HMM, NN, DTW\ub97c \ub2e4\uc74c\uacfc \uac19\uc774 \ud3b8\ud558\uac8c \ucc38\uc870 \uac00\ub2a5\ud558\ub2a5\ud558\ub2e4."
     ]
    },
    {
     "cell_type": "code",
     "collapsed": false,
     "input": [
      "from Speech.Recognition import *\n",
      "print HMM\n",
      "print NN\n",
      "print DTW\n",
      "HMM.train()"
     ],
     "language": "python",
     "metadata": {},
     "outputs": [
      {
       "output_type": "stream",
       "stream": "stdout",
       "text": [
        "<module 'Speech.Recognition.HMM' from 'Speech/Recognition/HMM.py'>\n",
        "<module 'Speech.Recognition.NN' from 'Speech/Recognition/NN.pyc'>\n",
        "<module 'Speech.Recognition.DTW' from 'Speech/Recognition/DTW.pyc'>\n",
        "Train\n"
       ]
      }
     ],
     "prompt_number": 7
    },
    {
     "cell_type": "markdown",
     "metadata": {},
     "source": [
      "### 2-5 \ud558\uc704 \ubaa8\ub4c8\uc774 \uc790\ub3d9\uc801\uc73c\ub85c \uc801\uc7ac\ub418\uc9c0 \uc54a\ub294\ub2e4"
     ]
    },
    {
     "cell_type": "markdown",
     "metadata": {},
     "source": [
      "- Speech \ub514\ub809\ud1a0\ub9ac\uc758 \\_\\_init\\_\\_.py \ud30c\uc77c\uc5d0 \ub2e4\uc74c \ub0b4\uc6a9\uc774 \uc788\ub2e4\uace0 \uac00\uc815\ud558\uc790\n",
      "> \\_\\_all\\_\\_ = ['Synthesis']\n",
      "- \uadf8\ub7ec\uba74 Speech\ub9cc import \ud574\ub3c4 Synthesis \ubaa8\ub4c8\uae4c\uc9c0\ub294 \ud3b8\ud558\uac8c \ucc38\uc870 \uac00\ub2a5\ud558\ub2e4."
     ]
    },
    {
     "cell_type": "code",
     "collapsed": false,
     "input": [
      "from Speech import *\n",
      "print Synthesis"
     ],
     "language": "python",
     "metadata": {},
     "outputs": [
      {
       "output_type": "stream",
       "stream": "stdout",
       "text": [
        "<module 'Speech.Synthesis' from 'Speech/Synthesis/__init__.pyc'>\n"
       ]
      }
     ],
     "prompt_number": 8
    },
    {
     "cell_type": "markdown",
     "metadata": {},
     "source": [
      "- \ud558\uc9c0\ub9cc, \uadf8 \ud558\uc704 \ubaa8\ub4c8\uae4c\uc9c0\ub294 \ucc38\uc870\ud560 \uc218 \uc5c6\ub2e4."
     ]
    },
    {
     "cell_type": "code",
     "collapsed": false,
     "input": [
      "print Recognition.HMM"
     ],
     "language": "python",
     "metadata": {},
     "outputs": [
      {
       "ename": "NameError",
       "evalue": "name 'Recognition' is not defined",
       "output_type": "pyerr",
       "traceback": [
        "\u001b[0;31m---------------------------------------------------------------------------\u001b[0m\n\u001b[0;31mNameError\u001b[0m                                 Traceback (most recent call last)",
        "\u001b[0;32m<ipython-input-9-6f332fa1fc57>\u001b[0m in \u001b[0;36m<module>\u001b[0;34m()\u001b[0m\n\u001b[0;32m----> 1\u001b[0;31m \u001b[0;32mprint\u001b[0m \u001b[0mRecognition\u001b[0m\u001b[0;34m.\u001b[0m\u001b[0mHMM\u001b[0m\u001b[0;34m\u001b[0m\u001b[0m\n\u001b[0m",
        "\u001b[0;31mNameError\u001b[0m: name 'Recognition' is not defined"
       ]
      }
     ],
     "prompt_number": 9
    },
    {
     "cell_type": "markdown",
     "metadata": {},
     "source": [
      "<p style='text-align: right;'>\ucc38\uace0 \ubb38\ud5cc: \ud30c\uc774\uc36c(\uc5f4\ud608\uac15\uc758)(\uac1c\uc815\ud310 VER.2), \uc774\uac15\uc131, FreeLec, 2005\ub144 8\uc6d4 29\uc77c</p>"
     ]
    }
   ],
   "metadata": {}
  }
 ]
}