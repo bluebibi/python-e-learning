{
 "metadata": {
  "name": "",
  "signature": "sha256:64167ad4a1c86fa1783746153891e1378670f4ed5243ea47a50bbd157364ba43"
 },
 "nbformat": 3,
 "nbformat_minor": 0,
 "worksheets": [
  {
   "cells": [
    {
     "cell_type": "markdown",
     "metadata": {},
     "source": [
      "***\n",
      "***\n",
      "# 17. \ud074\ub798\uc2a4\uc640 \uac1d\uccb4\n",
      "***\n",
      "***"
     ]
    },
    {
     "cell_type": "markdown",
     "metadata": {},
     "source": [
      "***\n",
      "## 1 \ud30c\uc774\uc36c \ud074\ub798\uc2a4\n",
      "***"
     ]
    },
    {
     "cell_type": "markdown",
     "metadata": {},
     "source": [
      "### 1-1 \ud074\ub798\uc2a4 \uc815\uc758 \ubc0f \uc774\ub984 \uacf5\uac04\n",
      "- \ud30c\uc774\uc36c \ud074\ub798\uc2a4\ub294 \uc0c8\ub85c\uc6b4 \uc774\ub984 \uacf5\uac04\uc744 \uc9c0\uc6d0\ud558\ub294 \ub610 \ub2e4\ub978 \ub2e8\uc704\n",
      "- \ud074\ub798\uc2a4 \uc815\uc758 \uad6c\ubb38\n",
      "> class \ud074\ub798\uc2a4 \uc774\ub984: #\ud5e4\ub354(Header)<br/>\n",
      "> &nbsp;&nbsp;&nbsp;&nbsp;&nbsp;&nbsp;&nbsp;&nbsp;pass #\ubab8\uccb4(Body)\n",
      "- \uc778\uc2a4\ud134\uc2a4: \ud074\ub798\uc2a4\ub85c \ubd80\ud130 \ub9cc\ub4e4\uc5b4\ub0b8 \uac1d\uccb4\n",
      "- \ubaa8\ub4c8 vs. \ud074\ub798\uc2a4 vs. \uc778\uc2a4\ud134\uc2a4\n",
      "  - \ubaa8\ub4c8: \ud30c\uc77c \ub2e8\uc704\ub85c \uc774\ub984 \uacf5\uac04\uc744 \uad6c\uc131\n",
      "  - \ud074\ub798\uc2a4: \ud074\ub798\uc2a4 \uc601\uc5ed \ub0b4\uc5d0 \uc774\ub984 \uacf5\uac04\uc744 \uad6c\uc131\n",
      "  - \uc778\uc2a4\ud134\uc2a4: \uc778\uc2a4\ud134\uc2a4 \uc601\uc5ed \ub0b4\uc5d0 \uc774\ub984 \uacf5\uac04\uc744 \uad6c\uc131"
     ]
    },
    {
     "cell_type": "code",
     "collapsed": false,
     "input": [
      "class S1:\n",
      "    a = 1\n",
      "    \n",
      "print S1.a\n",
      "print\n",
      "\n",
      "S1.b = 2      # \ud074\ub798\uc2a4 \uc774\ub984 \uacf5\uac04\uc5d0 \uc0c8\ub85c\uc6b4 \uc774\ub984\uc758 \uc0dd\uc131\n",
      "print S1.b\n",
      "print\n",
      "\n",
      "print dir(S1) # S1\uc5d0 \ud3ec\ud568\ub41c \uc774\ub984\ub4e4\uc744 \ub9ac\uc2a4\ud2b8\ub85c \ubc18\ud658\n",
      "del S1.b      # \uc774\ub984 \uacf5\uac04 S1\uc5d0\uc11c b\uc0ad\uc81c\n",
      "print dir(S1)"
     ],
     "language": "python",
     "metadata": {},
     "outputs": [
      {
       "output_type": "stream",
       "stream": "stdout",
       "text": [
        "1\n",
        "\n",
        "2\n",
        "\n",
        "['__doc__', '__module__', 'a', 'b']\n",
        "['__doc__', '__module__', 'a']\n"
       ]
      }
     ],
     "prompt_number": 1
    },
    {
     "cell_type": "code",
     "collapsed": false,
     "input": [
      "x = S1()      # x\ub294 S1\uc758 \ud074\ub798\uc2a4 \uc778\uc2a4\ud134\uc2a4\n",
      "print x.a\n",
      "\n",
      "x.a = 10      # \ud074\ub798\uc2a4 \uc778\uc2a4\ud134\uc2a4 x\uc758 \uc774\ub984 \uacf5\uac04\uc5d0 \uc774\ub984 \uc0dd\uc131\n",
      "print x.a\n",
      "\n",
      "print S1.a    # \ud074\ub798\uc2a4 \uc774\ub984 \uacf5\uac04\uacfc \ud074\ub798\uc2a4 \uc778\uc2a4\ud134\uc2a4\uc758 \uc774\ub984\uacf5\uac04\uc740 \ub2e4\ub974\ub2e4"
     ],
     "language": "python",
     "metadata": {},
     "outputs": [
      {
       "output_type": "stream",
       "stream": "stdout",
       "text": [
        "1\n",
        "10\n",
        "1\n"
       ]
      }
     ],
     "prompt_number": 3
    },
    {
     "cell_type": "code",
     "collapsed": false,
     "input": [
      "y = S1()      # S1 \ud074\ub798\uc2a4\uc758 \ub610 \ub2e4\ub978 \uc778\uc2a4\ud134\uc2a4 \uc0dd\uc131\n",
      "\n",
      "y.a = 300     # \ud074\ub798\uc2a4 \uc778\uc2a4\ud134\uc2a4 y\uc758 \uc774\ub984 \uacf5\uac04\uc5d0 \uc774\ub984 \uc0dd\uc131\n",
      "\n",
      "print y.a \n",
      "print x.a     # x \uc778\uc2a4\ud134\uc2a4 \uacf5\uac04\uc758 \uc774\ub984 a \ud655\uc778\n",
      "print S1.a    # \ud074\ub798\uc2a4 \uc774\ub984 \uacf5\uac04\uc758 a \ud655\uc778"
     ],
     "language": "python",
     "metadata": {},
     "outputs": [
      {
       "output_type": "stream",
       "stream": "stdout",
       "text": [
        "300\n",
        "10\n",
        "1\n"
       ]
      }
     ],
     "prompt_number": 5
    },
    {
     "cell_type": "code",
     "collapsed": false,
     "input": [
      "class Simple:\n",
      "    pass\n",
      "\n",
      "s1 = Simple()\n",
      "s2 = Simple()"
     ],
     "language": "python",
     "metadata": {},
     "outputs": [],
     "prompt_number": 2
    },
    {
     "cell_type": "code",
     "collapsed": false,
     "input": [
      "s1.stack = []        # \ub3d9\uc801\uc73c\ub85c \ud074\ub798\uc2a4 \uc778\uc2a4\ud134\uc2a4 \uc774\ub984 \uacf5\uac04 \uc548\uc5d0 \uc0c8\ub85c\uc6b4 \ubcc0\uc218(\uc774\ub984) stack \uc0dd\uc131\n",
      "s1.stack.append(1)   # \uac12 \ucd94\uac00\n",
      "s1.stack.append(2)\n",
      "s1.stack.append(3)\n",
      "\n",
      "print s1.stack       # \ucd9c\ub825\n",
      "print s1.stack.pop() # pop\n",
      "print s1.stack.pop()\n",
      "print\n",
      "print s1.stack       # \ucd5c\uc885 s1.stack\uac12\n",
      "print s2.stack       # s2\uc5d0\ub294 stack\uc744 \uc815\uc758\ud55c \uc801\uc774 \uc5c6\ub2e4.\n"
     ],
     "language": "python",
     "metadata": {},
     "outputs": [
      {
       "output_type": "stream",
       "stream": "stdout",
       "text": [
        "[1, 2, 3]\n",
        "3\n",
        "2\n",
        "\n",
        "[1]\n"
       ]
      },
      {
       "ename": "AttributeError",
       "evalue": "Simple instance has no attribute 'stack'",
       "output_type": "pyerr",
       "traceback": [
        "\u001b[0;31m---------------------------------------------------------------------------\u001b[0m\n\u001b[0;31mAttributeError\u001b[0m                            Traceback (most recent call last)",
        "\u001b[0;32m<ipython-input-4-519a215d35d2>\u001b[0m in \u001b[0;36m<module>\u001b[0;34m()\u001b[0m\n\u001b[1;32m      9\u001b[0m \u001b[0;32mprint\u001b[0m\u001b[0;34m\u001b[0m\u001b[0m\n\u001b[1;32m     10\u001b[0m \u001b[0;32mprint\u001b[0m \u001b[0ms1\u001b[0m\u001b[0;34m.\u001b[0m\u001b[0mstack\u001b[0m       \u001b[0;31m# \ucd5c\uc885 s1.stack\uac12\u001b[0m\u001b[0;34m\u001b[0m\u001b[0m\n\u001b[0;32m---> 11\u001b[0;31m \u001b[0;32mprint\u001b[0m \u001b[0ms2\u001b[0m\u001b[0;34m.\u001b[0m\u001b[0mstack\u001b[0m       \u001b[0;31m# s2\uc5d0\ub294 stack\uc744 \uc815\uc758\ud55c \uc801\uc774 \uc5c6\ub2e4.\u001b[0m\u001b[0;34m\u001b[0m\u001b[0m\n\u001b[0m",
        "\u001b[0;31mAttributeError\u001b[0m: Simple instance has no attribute 'stack'"
       ]
      }
     ],
     "prompt_number": 4
    },
    {
     "cell_type": "markdown",
     "metadata": {},
     "source": [
      "- \ud30c\uc774\uc36c\uc5d0\uc11c\ub294 \ub3d9\uc801\uc73c\ub85c \uc778\uc2a4\ud134\uc2a4 \uc678\ubd80\uc5d0\uc11c \uc778\uc2a4\ud134\uc2a4 \uba64\ubc84\ub97c \ucd94\uac00\ud560 \uc218 \uc788\uc74c\n",
      "  - \ud30c\uc774\uc36c\uc5d0\uc11c\ub294 \ud074\ub798\uc2a4\ub97c \ud558\ub098\uc758 \uc774\ub984 \uacf5\uac04\uc73c\ub85c \ucde8\uae09\ud568"
     ]
    },
    {
     "cell_type": "markdown",
     "metadata": {},
     "source": [
      "![inheritance](images/instance.png)"
     ]
    },
    {
     "cell_type": "code",
     "collapsed": false,
     "input": [
      "del s1.stack  # s1\uc5d0\uc11c stack\uc0ad\uc81c"
     ],
     "language": "python",
     "metadata": {},
     "outputs": [],
     "prompt_number": 26
    },
    {
     "cell_type": "markdown",
     "metadata": {},
     "source": [
      "### 1-2 \uc0c1\uc18d(Inheritance)\n",
      "- \uc0c1\uc704(\uc288\ud37c) \ud074\ub798\uc2a4\ub294 \ud558\uc704(\uc11c\ube0c) \ud074\ub798\uc2a4\uc758 \uc774\ub984 \uacf5\uac04\uc5d0 \ud3ec\ud568\ub428"
     ]
    },
    {
     "cell_type": "code",
     "collapsed": false,
     "input": [
      "class Parent:\n",
      "    a = 10\n",
      "    def f(self):\n",
      "        print 'base'\n",
      "\n",
      "class Child(Base):  # \ud074\ub798\uc2a4 Parent\uc758 \uc18d\uc131\uc744 \ubaa8\ub450 \uc0c1\uc18d\ubc1b\ub294\ub2e4.\n",
      "    b = 100\n",
      "    pass\n",
      "\n",
      "d = Child() \n",
      "d.f()               # Parent \ud074\ub798\uc2a4\uc758 \uba54\uc18c\ub4dc f\uac00 \ud638\ucd9c\ub41c\ub2e4.\n",
      "print d.a\n",
      "print d.b"
     ],
     "language": "python",
     "metadata": {},
     "outputs": [
      {
       "output_type": "stream",
       "stream": "stdout",
       "text": [
        "base\n",
        "10\n",
        "100\n"
       ]
      }
     ],
     "prompt_number": 10
    },
    {
     "cell_type": "markdown",
     "metadata": {},
     "source": [
      "![inheritance](images/inheritance.png)"
     ]
    },
    {
     "cell_type": "markdown",
     "metadata": {},
     "source": [
      "### 1-3 \uc5f0\uc0b0\uc790 \uc911\ubcf5 (Operator Overloading)\n",
      "- \uc5f0\uc0b0\uc790 \uc911\ubcf5: \uac01 \ud074\ub798\uc2a4 \uac1d\uccb4\uc5d0 \uac01\uc885 \uc5f0\uc0b0\uc790(+, -, *, /)\uac00 \uc218\ud589\ub418\uac8c\ub054 \uadf8\ub7ec\ud55c \uc5f0\uc0b0\uc790\ub4e4\uc5d0 \ub300\uc751\ub418\ub294 \ud568\uc218\ub97c \uc815\uc758\ud558\ub294 \uac83\n",
      "- [\ucc38\uace0]: http://blog.eairship.kr/m/post/287"
     ]
    },
    {
     "cell_type": "code",
     "collapsed": false,
     "input": [
      "class MyClass:\n",
      "    pass\n",
      "\n",
      "a = MyClass()\n",
      "print a + 3"
     ],
     "language": "python",
     "metadata": {},
     "outputs": [
      {
       "ename": "TypeError",
       "evalue": "unsupported operand type(s) for +: 'instance' and 'int'",
       "output_type": "pyerr",
       "traceback": [
        "\u001b[0;31m---------------------------------------------------------------------------\u001b[0m\n\u001b[0;31mTypeError\u001b[0m                                 Traceback (most recent call last)",
        "\u001b[0;32m<ipython-input-11-9671fd5ec4de>\u001b[0m in \u001b[0;36m<module>\u001b[0;34m()\u001b[0m\n\u001b[1;32m      3\u001b[0m \u001b[0;34m\u001b[0m\u001b[0m\n\u001b[1;32m      4\u001b[0m \u001b[0ma\u001b[0m \u001b[0;34m=\u001b[0m \u001b[0mMyClass\u001b[0m\u001b[0;34m(\u001b[0m\u001b[0;34m)\u001b[0m\u001b[0;34m\u001b[0m\u001b[0m\n\u001b[0;32m----> 5\u001b[0;31m \u001b[0;32mprint\u001b[0m \u001b[0ma\u001b[0m \u001b[0;34m+\u001b[0m \u001b[0;36m3\u001b[0m\u001b[0;34m\u001b[0m\u001b[0m\n\u001b[0m",
        "\u001b[0;31mTypeError\u001b[0m: unsupported operand type(s) for +: 'instance' and 'int'"
       ]
      }
     ],
     "prompt_number": 11
    },
    {
     "cell_type": "code",
     "collapsed": false,
     "input": [
      "class MyClass:\n",
      "    def __add__(self, x):  # \uc774\ub984 __add__\ub294 + \uc5f0\uc0b0\uc790\ub97c Overloading\ud55c\ub2e4.\n",
      "        print 'add %s called' %x\n",
      "        return x\n",
      "    \n",
      "a = MyClass()\n",
      "print a + 3      # \ub354\ud558\uae30 \uc5f0\uc0b0\uc790\uac00 \uc801\uc6a9\ub418\uc5b4 \ud638\ucd9c\ub428\n"
     ],
     "language": "python",
     "metadata": {},
     "outputs": [
      {
       "output_type": "stream",
       "stream": "stdout",
       "text": [
        "add 3 called\n",
        "3\n"
       ]
      }
     ],
     "prompt_number": 13
    },
    {
     "cell_type": "markdown",
     "metadata": {},
     "source": [
      "***\n",
      "## 2 \uba54\uc3d8\ub4dc\uc758 \uc815\uc758\uc640 \ud638\ucd9c\n",
      "***"
     ]
    },
    {
     "cell_type": "markdown",
     "metadata": {},
     "source": [
      "### 2-1 \uc77c\ubc18 \uba54\uc3d8\ub4dc\uc758 \uc815\uc758\uc640 \ud638\ucd9c"
     ]
    },
    {
     "cell_type": "markdown",
     "metadata": {},
     "source": [
      "- \ud074\ub798\uc2a4 \ub0b4\ubd80\uc5d0 \uba54\uc18c\ub4dc \uc120\uc5b8 - def \ud0a4\uc6cc\ub4dc \uc0ac\uc6a9\n",
      "  - \uc77c\ubc18 \ud568\uc218\uc640 \ub2e4\ub978 \uc810\uc740 \uccab\ubc88\uc9f8 \uc778\uc218\ub85c self \uc0ac\uc6a9 (self\ub77c\ub294 \uc774\ub984\uc740 \uad00\ub840\uc801)\n",
      "    - self: \uc778\uc2a4\ud134\uc2a4 \uac1d\uccb4 \uc790\uc2e0\uc758 \ub808\ud37c\ub7f0\uc2a4\ub97c \uc9c0\ub2c8\uace0 \uc788\uc74c\n",
      "    - \uac01 \uc778\uc2a4\ud134\uc2a4\ub4e4\uc740 self\ub97c \uc774\uc6a9\ud558\uc5ec \uc790\uc2e0\uc758 \uc774\ub984 \uacf5\uac04\uc5d0 \uc811\uadfc "
     ]
    },
    {
     "cell_type": "code",
     "collapsed": false,
     "input": [
      "class MyClass:\n",
      "    def set(self, v):\n",
      "        self.value = v\n",
      "    def get(self):\n",
      "        return self.value"
     ],
     "language": "python",
     "metadata": {},
     "outputs": [],
     "prompt_number": 5
    },
    {
     "cell_type": "markdown",
     "metadata": {},
     "source": [
      "- \uc778\uc2a4\ud134\uc2a4 \uac1d\uccb4\ub97c \ud1b5\ud558\uc5ec \uba54\uc18c\ub4dc\ub97c \ud638\ucd9c\ud560 \ub54c self \uc778\uc790\ub294 \uc5c6\ub2e4\uace0 \uc0dd\uac01"
     ]
    },
    {
     "cell_type": "code",
     "collapsed": false,
     "input": [
      "c = MyClass() # \uc778\uc2a4\ud134\uc2a4 \uc0dd\uc131 \n",
      "c.set('egg')  # \uba54\uc18c\ub4dc set \ud638\ucd9c\n",
      "print c.get() # \uba54\uc18c\ub4dc get \ud638\ucd9c\n",
      "print c.value # \uc778\uc2a4\ud134\uc2a4 \ubcc0\uc218\uc5d0 \uc9c1\uc811 \uc811\uadfc"
     ],
     "language": "python",
     "metadata": {},
     "outputs": [
      {
       "output_type": "stream",
       "stream": "stdout",
       "text": [
        "egg\n",
        "egg\n"
       ]
      }
     ],
     "prompt_number": 6
    },
    {
     "cell_type": "markdown",
     "metadata": {},
     "source": [
      "- \uc704 \ucf54\ub4dc\ub294 \uc2e4\uc81c\ub85c \uc544\ub798 \ucf54\ub4dc\uc640 \ub3d9\uc77c\ud568"
     ]
    },
    {
     "cell_type": "code",
     "collapsed": false,
     "input": [
      "c = MyClass() # \uc778\uc2a4\ud134\uc2a4 \uc0dd\uc131 \n",
      "MyClass.set(c, 'egg')\n",
      "print MyClass.get(c)\n",
      "print c.value"
     ],
     "language": "python",
     "metadata": {},
     "outputs": [
      {
       "output_type": "stream",
       "stream": "stdout",
       "text": [
        "egg\n",
        "egg\n"
       ]
      }
     ],
     "prompt_number": 10
    },
    {
     "cell_type": "code",
     "collapsed": false,
     "input": [
      "class Simple:\n",
      "    pass\n",
      "\n",
      "c = MyClass()\n",
      "s1 = Simple()\n",
      "MyClass.set(s1, 'egg')  # \ub2e4\ub978 \ud074\ub798\uc2a4\uc758 \uc778\uc2a4\ud134\uc2a4\ub97c \ub123\uc5b4\uc8fc\uba74 \uc5d0\ub7ec \ubc1c\uc0dd"
     ],
     "language": "python",
     "metadata": {},
     "outputs": [
      {
       "ename": "TypeError",
       "evalue": "unbound method set() must be called with MyClass instance as first argument (got Simple instance instead)",
       "output_type": "pyerr",
       "traceback": [
        "\u001b[0;31m---------------------------------------------------------------------------\u001b[0m\n\u001b[0;31mTypeError\u001b[0m                                 Traceback (most recent call last)",
        "\u001b[0;32m<ipython-input-14-0660940f4507>\u001b[0m in \u001b[0;36m<module>\u001b[0;34m()\u001b[0m\n\u001b[1;32m      4\u001b[0m \u001b[0mc\u001b[0m \u001b[0;34m=\u001b[0m \u001b[0mMyClass\u001b[0m\u001b[0;34m(\u001b[0m\u001b[0;34m)\u001b[0m\u001b[0;34m\u001b[0m\u001b[0m\n\u001b[1;32m      5\u001b[0m \u001b[0ms1\u001b[0m \u001b[0;34m=\u001b[0m \u001b[0mSimple\u001b[0m\u001b[0;34m(\u001b[0m\u001b[0;34m)\u001b[0m\u001b[0;34m\u001b[0m\u001b[0m\n\u001b[0;32m----> 6\u001b[0;31m \u001b[0mMyClass\u001b[0m\u001b[0;34m.\u001b[0m\u001b[0mset\u001b[0m\u001b[0;34m(\u001b[0m\u001b[0ms1\u001b[0m\u001b[0;34m,\u001b[0m \u001b[0;34m'egg'\u001b[0m\u001b[0;34m)\u001b[0m  \u001b[0;31m# \ub2e4\ub978 \ud074\ub798\uc2a4\uc758 \uc778\uc2a4\ud134\uc2a4\ub97c \ub123\uc5b4\uc8fc\uba74 \uc5d0\ub7ec \ubc1c\uc0dd\u001b[0m\u001b[0;34m\u001b[0m\u001b[0m\n\u001b[0m",
        "\u001b[0;31mTypeError\u001b[0m: unbound method set() must be called with MyClass instance as first argument (got Simple instance instead)"
       ]
      }
     ],
     "prompt_number": 14
    },
    {
     "cell_type": "markdown",
     "metadata": {},
     "source": [
      "- \uba54\uc18c\ub4dc \ud638\ucd9c \uc885\ub958\n",
      "  - Unbound method call: \ud074\ub798\uc2a4 \uac1d\uccb4\ub97c \uc774\uc6a9\ud55c \uba54\uc18c\ub4dc \ud638\ucd9c\n",
      "    - \uc608: MyClass.set(c, 'egg')\n",
      "  - Bound method call: \uc778\uc2a4\ud134\uc2a4 \uac1d\uccb4\ub97c \ud1b5\ud55c \uba54\uc18c\ub4dc \ud638\ucd9c (self \uc778\uc790\ub294 \ud638\ucd9c\ubc1b\uc740 \uac1d\uccb4\uac00 \uc790\ub3d9\uc73c\ub85c \ud560\ub2f9)\n",
      "    - \uc608: c.set('egg')"
     ]
    },
    {
     "cell_type": "markdown",
     "metadata": {},
     "source": [
      "### 2-2 \ud074\ub798\uc2a4 \ub0b4\ubd80\uc5d0\uc11c\uc758 \uba54\uc3d8\ub4dc \ud638\ucd9c"
     ]
    },
    {
     "cell_type": "code",
     "collapsed": false,
     "input": [
      "class MyClass:\n",
      "    def set(self, v):\n",
      "        self.value = v\n",
      "    def incr(self):\n",
      "        self.set(self.value + 1) # \ub0b4\ubd80 \uba54\uc18c\ub4dc \ud638\ucd9c\n",
      "    def get(self):\n",
      "        return self.value\n",
      "    \n",
      "c = MyClass()\n",
      "c.set(1)\n",
      "print c.get()\n",
      "\n",
      "print\n",
      "\n",
      "c.incr()\n",
      "print c.get()"
     ],
     "language": "python",
     "metadata": {},
     "outputs": [
      {
       "output_type": "stream",
       "stream": "stdout",
       "text": [
        "1\n",
        "\n",
        "2\n"
       ]
      }
     ],
     "prompt_number": 18
    },
    {
     "cell_type": "markdown",
     "metadata": {},
     "source": [
      "- \ub9cc\uc57d \uc704 \ucf54\ub4dc\uc5d0\uc11c self.set(self.value + 1)\ub97c set(self.value + 1)\uc73c\ub85c \ubc14\uafb8\uba74 set \ud568\uc218\ub97c \uc815\uc801 \uc601\uc5ed\uc5d0\uc11c \ucc3e\ub294\ub2e4.  "
     ]
    },
    {
     "cell_type": "code",
     "collapsed": false,
     "input": [
      "def set(i):\n",
      "    print \"set function outside function - \", i\n",
      "    \n",
      "class MyClass:\n",
      "    def set(self, v):\n",
      "        self.value = v\n",
      "    def incr(self):\n",
      "        set(self.value + 1)     # \uc815\uc801 \uc601\uc5ed\uc5d0 \uc874\uc7ac\ud558\ub294 set \uba54\uc18c\ub4dc \ud638\ucd9c\n",
      "    def get(self):\n",
      "        return self.value\n",
      "    \n",
      "c = MyClass()\n",
      "c.set(1)\n",
      "print c.get()\n",
      "\n",
      "print\n",
      "\n",
      "c.incr()\n",
      "print c.get()"
     ],
     "language": "python",
     "metadata": {},
     "outputs": [
      {
       "output_type": "stream",
       "stream": "stdout",
       "text": [
        "1\n",
        "\n",
        "set function outside function -  2\n",
        "1\n"
       ]
      }
     ],
     "prompt_number": 7
    },
    {
     "cell_type": "markdown",
     "metadata": {},
     "source": [
      "### 2-3 \uc815\uc801 \uba54\uc18c\ub4dc(static method)\n",
      "- \uc815\uc801 \uba54\uc18c\ub4dc: \uc778\uc2a4\ud134\uc2a4 \uac1d\uccb4\uc640 \ubb34\uad00\ud558\uac8c \uc77c\ubc18\uc801\uc73c\ub85c \ud074\ub798\uc2a4 \uc774\ub984\uc744 \uc774\uc6a9\ud558\uc5ec \uc9c1\uc811 \ud638\ucd9c\ud560 \uc218 \uc788\ub294 \uba54\uc18c\ub4dc\n",
      "  - [\uc8fc\uc758] \ud574\ub2f9 \ud074\ub798\uc2a4\uc758 \uc778\uc2a4\ud134\uc2a4\ub97c \ud1b5\ud574\uc11c\ub3c4 \ud638\ucd9c \uac00\ub2a5\n",
      "- \ub0b4\uc7a5 \ud568\uc218 staticmethod() \ud639\uc740 \uc7a5\uc2dd\uc790(Decorator) @staticmethod \ud65c\uc6a9 "
     ]
    },
    {
     "cell_type": "code",
     "collapsed": false,
     "input": [
      "class D:\n",
      "    def spam(x, y):            # self\uac00 \uc5c6\ub2e4.\n",
      "        print 'static method', x, y\n",
      "    spam = staticmethod(spam)  # static method\ub85c \ub4f1\ub85d, \uc88c\ubcc0\uc758 \uc774\ub984\uc774 \uc815\uc801 \uba54\uc18c\ub4dc\uc758 \uc774\ub984\uc774\ub2e4.\n",
      "    \n",
      "D.spam(1,2) # \uc778\uc2a4\ud134\uc2a4 \uac1d\uccb4 \uc5c6\uc774 \ud074\ub798\uc2a4\uc5d0\uc11c \uc9c1\uc811 \ud638\ucd9c\n",
      "\n",
      "print\n",
      "d = D()\n",
      "d.spam(1,2) # \uc778\uc2a4\ud134\uc2a4 \uac1d\uccb4\ub97c \ud1b5\ud574\uc11c\ub3c4 \ud638\ucd9c \uac00\ub2a5"
     ],
     "language": "python",
     "metadata": {},
     "outputs": [
      {
       "output_type": "stream",
       "stream": "stdout",
       "text": [
        "static method 1 2\n",
        "\n",
        "static method 1 2\n"
       ]
      }
     ],
     "prompt_number": 34
    },
    {
     "cell_type": "code",
     "collapsed": false,
     "input": [
      "class D:\n",
      "    @staticmethod\n",
      "    def spam(x, y):            # self\uac00 \uc5c6\ub2e4.\n",
      "        print 'static method', x, y\n",
      "        \n",
      "D.spam(1,2) # \uc778\uc2a4\ud134\uc2a4 \uac1d\uccb4 \uc5c6\uc774 \ud074\ub798\uc2a4\uc5d0\uc11c \uc9c1\uc811 \ud638\ucd9c\n",
      "\n",
      "print\n",
      "d = D()\n",
      "d.spam(1,2) # \uc778\uc2a4\ud134\uc2a4 \uac1d\uccb4\ub97c \ud1b5\ud574\uc11c\ub3c4 \ud638\ucd9c \uac00\ub2a5"
     ],
     "language": "python",
     "metadata": {},
     "outputs": [
      {
       "output_type": "stream",
       "stream": "stdout",
       "text": [
        "static method 1 2\n",
        "\n",
        "static method 1 2\n"
       ]
      }
     ],
     "prompt_number": 33
    },
    {
     "cell_type": "markdown",
     "metadata": {},
     "source": [
      "### 2-4 \ud074\ub798\uc2a4 \uba54\uc18c\ub4dc(class method)\n",
      "- \ud074\ub798\uc2a4 \uba54\uc18c\ub4dc: \uc778\uc2a4\ud134\uc2a4 \uac1d\uccb4\uc640 \ubb34\uad00\ud558\uac8c \uc77c\ubc18\uc801\uc73c\ub85c \ud074\ub798\uc2a4 \uc774\ub984\uc744 \uc774\uc6a9\ud558\uc5ec \ud638\ucd9c\ud558\uba70 \uccab \uc778\uc218\ub85c \ud074\ub798\uc2a4 \uac1d\uccb4\ub97c \uc790\ub3d9\uc73c\ub85c \ubc1b\ub294 \uba54\uc18c\ub4dc\n",
      "  - [\uc8fc\uc758] \ud574\ub2f9 \ud074\ub798\uc2a4\uc758 \uc778\uc2a4\ud134\uc2a4\ub97c \ud1b5\ud574\uc11c\ub3c4 \ud638\ucd9c \uac00\ub2a5\n",
      "- \ub0b4\uc7a5 \ud568\uc218 classmethod() \ud639\uc740 \uc7a5\uc2dd\uc790(Decorator) @classmethod \ud65c\uc6a9 "
     ]
    },
    {
     "cell_type": "code",
     "collapsed": false,
     "input": [
      "class C:\n",
      "    def spam(cls, y):\n",
      "        print cls, '->', y\n",
      "    spam = classmethod(spam)\n",
      "    \n",
      "print C\n",
      "\n",
      "print\n",
      "C.spam(5) # \uccab\ubc88\uc9f8 \uc778\uc218\ub85c C\uac00 \uc7a0\uc7ac\uc801\uc73c\ub85c \uc804\ub2ec\ub41c\ub2e4.\n",
      "\n",
      "print\n",
      "c = C()\n",
      "c.spam(5)"
     ],
     "language": "python",
     "metadata": {},
     "outputs": [
      {
       "output_type": "stream",
       "stream": "stdout",
       "text": [
        "__main__.C\n",
        "\n",
        "__main__.C -> 5\n",
        "\n",
        "__main__.C -> 5\n"
       ]
      }
     ],
     "prompt_number": 31
    },
    {
     "cell_type": "code",
     "collapsed": false,
     "input": [
      "class C:\n",
      "    @classmethod\n",
      "    def spam(cls, y):\n",
      "        print cls, '->', y\n",
      "    \n",
      "print C\n",
      "\n",
      "print\n",
      "C.spam(5) # \uccab\ubc88\uc9f8 \uc778\uc218\ub85c C\uac00 \uc7a0\uc7ac\uc801\uc73c\ub85c \uc804\ub2ec\ub41c\ub2e4.\n",
      "\n",
      "print\n",
      "c = C()\n",
      "c.spam(5)"
     ],
     "language": "python",
     "metadata": {},
     "outputs": [
      {
       "output_type": "stream",
       "stream": "stdout",
       "text": [
        "__main__.C\n",
        "\n",
        "__main__.C -> 5\n",
        "\n",
        "__main__.C -> 5\n"
       ]
      }
     ],
     "prompt_number": 35
    },
    {
     "cell_type": "markdown",
     "metadata": {},
     "source": [
      "- \uc0c1\uc18d\ubc1b\uc740 \uc11c\ube0c \ud074\ub798\uc2a4\uc744 \ud1b5\ud574 \ud638\ucd9c\ud558\uba74, \uccab \uc778\uc218\uc5d0\ub294 \uc11c\ube0c \ud074\ub798\uc2a4 \uac1d\uccb4\uac00 \uc790\ub3d9\uc73c\ub85c \ud560\ub2f9\ub428 "
     ]
    },
    {
     "cell_type": "code",
     "collapsed": false,
     "input": [
      "class D(C):\n",
      "    pass\n",
      "\n",
      "print D.spam(3)\n",
      "\n",
      "d = D()\n",
      "print d.spam(3)"
     ],
     "language": "python",
     "metadata": {},
     "outputs": [
      {
       "output_type": "stream",
       "stream": "stdout",
       "text": [
        "__main__.D -> 3\n",
        "None\n",
        "__main__.D -> 3\n",
        "None\n"
       ]
      }
     ],
     "prompt_number": 32
    },
    {
     "cell_type": "markdown",
     "metadata": {},
     "source": [
      "***\n",
      "## 3 \ud074\ub798\uc2a4 \uba64\ubc84\uc640 \uc778\uc2a4\ud134\uc2a4 \uba64\ubc84\n",
      "***"
     ]
    },
    {
     "cell_type": "markdown",
     "metadata": {},
     "source": [
      "- \ud074\ub798\uc2a4 \uba64\ubc84 vs. \uc778\uc2a4\ud134\uc2a4 \uba64\ubc84\n",
      "  - \ud074\ub798\uc2a4 \uba64\ubc84\n",
      "    - \ud074\ub798\uc2a4 \uc774\ub984 \uacf5\uac04\uc5d0 \uc0dd\uc131\ub428\n",
      "    - \ubaa8\ub4e0 \uc778\uc2a4\ud134\uc2a4\ub4e4\uc5d0 \uc758\ud574 \uacf5\uc720\ub428\n",
      "  - \uc778\uc2a4\ud134\uc2a4 \uba64\ubc84\n",
      "    - \uc778\uc2a4\ud134\uc2a4 \uc774\ub984 \uacf5\uac04\uc5d0 \uc0dd\uc131\ub428\n",
      "    - \uac01\uac01\uc758 \uc778\uc2a4\ud134\uc2a4 \ub9c8\ub2e4 \ub3c5\ub9bd\uc131\uc774 \ubcf4\uc7a5\ub428"
     ]
    },
    {
     "cell_type": "code",
     "collapsed": false,
     "input": [
      "class Var:\n",
      "    c_mem = 100          # \ud074\ub798\uc2a4 \uba64\ubc84 \uc815\uc758\n",
      "    def f(self): \n",
      "        self.i_mem = 200 # \uc778\uc2a4\ud134\uc2a4 \uba64\ubc84 \uc815\uc758\n",
      "    def g(self):\n",
      "        print self.i_mem\n",
      "        print self.c_mem        "
     ],
     "language": "python",
     "metadata": {},
     "outputs": [],
     "prompt_number": 53
    },
    {
     "cell_type": "code",
     "collapsed": false,
     "input": [
      "print Var.c_mem  # \ud074\ub798\uc2a4 \uac1d\uccb4\ub97c \ud1b5\ud558\uc5ec \ud074\ub798\uc2a4 \uba64\ubc84 \uc811\uadfc\n",
      "\n",
      "v1 = Var()       # \uc778\uc2a4\ud134\uc2a4 v1 \uc0dd\uc131\n",
      "print v1.c_mem   # \uc778\uc2a4\ud134\uc2a4\ub97c \ud1b5\ud558\uc5ec \ud074\ub798\uc2a4 \uba64\ubc84 \uc811\uadfc\n",
      "v1.f()           # \uc778\uc2a4\ud134\uc2a4 \uba64\ubc84 i_mem\uc774 \uc0dd\uc131\ub428\n",
      "print v1.i_mem   # \uc778\uc2a4\ud134\uc2a4 v1\uc744 \ud1b5\ud558\uc5ec \uc778\uc2a4\ud134\uc2a4 \uba64\ubc84 \uc811\uadfc\n",
      "\n",
      "print\n",
      "v2 = Var()       # \uc778\uc2a4\ud134\uc2a4 v2 \uc0dd\uc131\n",
      "print v2.i_mem   # \uc778\uc2a4\ud134\uc2a4 v2\uc5d0\ub294 \uc544\uc9c1 f() \ud638\ucd9c\uc774 \uc548\ub418\uc5b4\uc11c i_mem \uba64\ubc84 \uc5c6\uc74c ==> \uc0dd\uc131\uc790\uc758 \ud544\uc694\uc131"
     ],
     "language": "python",
     "metadata": {},
     "outputs": [
      {
       "output_type": "stream",
       "stream": "stdout",
       "text": [
        "100\n",
        "100\n",
        "200\n",
        "\n"
       ]
      },
      {
       "ename": "AttributeError",
       "evalue": "Var instance has no attribute 'i_mem'",
       "output_type": "pyerr",
       "traceback": [
        "\u001b[0;31m---------------------------------------------------------------------------\u001b[0m\n\u001b[0;31mAttributeError\u001b[0m                            Traceback (most recent call last)",
        "\u001b[0;32m<ipython-input-59-1950cf0552a9>\u001b[0m in \u001b[0;36m<module>\u001b[0;34m()\u001b[0m\n\u001b[1;32m      8\u001b[0m \u001b[0;32mprint\u001b[0m\u001b[0;34m\u001b[0m\u001b[0m\n\u001b[1;32m      9\u001b[0m \u001b[0mv2\u001b[0m \u001b[0;34m=\u001b[0m \u001b[0mVar\u001b[0m\u001b[0;34m(\u001b[0m\u001b[0;34m)\u001b[0m       \u001b[0;31m# \uc778\uc2a4\ud134\uc2a4 v2 \uc0dd\uc131\u001b[0m\u001b[0;34m\u001b[0m\u001b[0m\n\u001b[0;32m---> 10\u001b[0;31m \u001b[0;32mprint\u001b[0m \u001b[0mv2\u001b[0m\u001b[0;34m.\u001b[0m\u001b[0mi_mem\u001b[0m   \u001b[0;31m# \uc778\uc2a4\ud134\uc2a4 v2\uc5d0\ub294 \uc544\uc9c1 f() \ud638\ucd9c\uc774 \uc548\ub418\uc5b4\uc11c i_mem \uba64\ubc84 \uc5c6\uc74c ==> \uc0dd\uc131\uc790\uc758 \ud544\uc694\uc131\u001b[0m\u001b[0;34m\u001b[0m\u001b[0m\n\u001b[0m",
        "\u001b[0;31mAttributeError\u001b[0m: Var instance has no attribute 'i_mem'"
       ]
      }
     ],
     "prompt_number": 59
    },
    {
     "cell_type": "markdown",
     "metadata": {},
     "source": [
      "![inheritance](images/instance2.png)"
     ]
    },
    {
     "cell_type": "markdown",
     "metadata": {},
     "source": [
      "- \"\uc778\uc2a4\ud134\uc2a4 \uc774\ub984.\uba64\ubc84 \uc774\ub984\"\uc73c\ub85c \uba64\ubc84\ub97c \ucc38\uc870\ud560 \ub54c \uba64\ubc84\uc758 \uac80\uc0c9 \uc21c\uc11c\n",
      "  - 1) \uc778\uc2a4\ud134\uc2a4 \uba64\ubc84\n",
      "  - 2) \uc778\uc2a4\ud134\uc2a4\uac00 \uc5c6\ub2e4\uba74 \ud074\ub798\uc2a4 \uba64\ubc84"
     ]
    },
    {
     "cell_type": "code",
     "collapsed": false,
     "input": [
      "print v1.c_mem   # \uc778\uc2a4\ud134\uc2a4 v1\uc744 \ud1b5\ud574 \ud074\ub798\uc2a4 \uba64\ubc84 \ucc38\uc870\n",
      "print v2.c_mem   # \uc778\uc2a4\ud134\uc2a4 v2\ub97c \ud1b5\ud574 \ud074\ub798\uc2a4 \uba64\ubc84 \ucc38\uc870\n",
      "\n",
      "print\n",
      "v1.c_mem = 50    # \uc778\uc2a4\ud134\uc2a4 \uc774\ub984 \uacf5\uac04\uc5d0 c_mem\uc0dd\uc131\n",
      "print v1.c_mem   # \uc778\uc2a4\ud134\uc2a4 v1\uc744 \ud1b5\ud574 \uc778\uc2a4\ud134\uc2a4 \uba64\ubc84 \ucc38\uc870\n",
      "print v2.c_mem   # \uc778\uc2a4\ud134\uc2a4 v2\uc744 \ud1b5\ud574 \ud074\ub798\uc2a4 \uba64\ubc84\ucc38\uc870 (\uc778\uc2a4\ud134\uc2a4 \uba64\ubc84\uac00 \uc5c6\uc73c\ubbc0\ub85c, \ud074\ub798\uc2a4 \uba64\ubc84 \ucc38\uc870)\n",
      "print Var.c_mem  # \ud074\ub798\uc2a4 \uba64\ubc84\ucc38\uc870"
     ],
     "language": "python",
     "metadata": {},
     "outputs": [
      {
       "output_type": "stream",
       "stream": "stdout",
       "text": [
        "100\n",
        "100\n",
        "\n",
        "50\n",
        "100\n",
        "100\n"
       ]
      }
     ],
     "prompt_number": 60
    },
    {
     "cell_type": "markdown",
     "metadata": {},
     "source": [
      "![inheritance](images/instance3.png)"
     ]
    },
    {
     "cell_type": "markdown",
     "metadata": {},
     "source": [
      "***\n",
      "## 4 \uc0dd\uc131\uc790\uc640 \uc18c\uba78\uc790\n",
      "***"
     ]
    },
    {
     "cell_type": "markdown",
     "metadata": {},
     "source": [
      "- \ub2e4\uc74c \uc608\uc81c\uc5d0\uc11c initialize(self)\ub294 \uc778\uc2a4\ud134\uc2a4 \uba64\ubc84\ub4e4\uc758 \ubcc0\uc218\ub97c \uc0dd\uc131\ud558\uace0 \ucd08\uae30\ud654\ud558\uae30 \uc704\ud558\uc5ec \uc815\uc758\ub428\n",
      "- \uac01\uac01\uc758 \uc778\uc2a4\ud134\uc2a4\uac00 \uc0dd\uc131\ub418\uba74 \uace7\ubc14\ub85c initialize() \ud568\uc218\ub97c \ud638\ucd9c\ud558\uc5ec \uc778\uc2a4\ud134\uc2a4 \uba64\ubc84 \ucd08\uae30\ud654 \uacfc\uc815\uc774 \ud544\uc694\ud568\n",
      "- \ub9cc\uc57d \uc0dd\uc131\ud574\uc57c \ud560 \uac1d\uccb4\uac00 \ub9ce\ub2e4\uba74 \uac01\uac01\uc758 \uac1d\uccb4\ub9c8\ub2e4 initialize() \ud568\uc218\uac00 \ud638\ucd9c\ub418\uc5b4\uc57c \ud558\ubbc0\ub85c \ubc88\uac70\ub86d\ub2e4. "
     ]
    },
    {
     "cell_type": "code",
     "collapsed": false,
     "input": [
      "class Const:\n",
      "    def initialize(self):\n",
      "        self.hand = 2\n",
      "        self.foot = 2\n",
      "        self.eye = 2\n",
      "    def print_info(self):\n",
      "        print 'hands=%s foot=%s eyes=%s' % (self.hand, self.foot, self.eye)\n",
      "        \n",
      "c = Const()\n",
      "c.initialize()\n",
      "c.print_info()"
     ],
     "language": "python",
     "metadata": {},
     "outputs": [
      {
       "output_type": "stream",
       "stream": "stdout",
       "text": [
        "hands=2 foot=2 eyes=2\n"
       ]
      }
     ],
     "prompt_number": 58
    },
    {
     "cell_type": "markdown",
     "metadata": {},
     "source": [
      "- \\_\\_init__: \uc0dd\uc131\uc790 \uba54\uc18c\ub4dc\n",
      "  - \uac1d\uccb4\uac00 \uc0dd\uc131\ub420 \ub54c \uc790\ub3d9\uc73c\ub85c \ubd88\ub9ac\uc5b4\uc9c0\ub294 \uba54\uc18c\ub4dc\n",
      "- \\_\\_del__: \uc18c\uba78\uc790 \uba54\uc18c\ub4dc\n",
      "  - \uac1d\uccb4\uac00 \uc18c\uba78 (\uba54\ubaa8\ub9ac\uc5d0\uc11c \ud574\uc81c)\ub420 \ub54c \uc790\ub3d9\uc73c\ub85c \ubd88\ub9ac\uc5b4\uc9c0\ub294 \uba54\uc18c\ub4dc\n",
      "  - \uac1c\ubc1c\uc790\uac00 \ud2b9\ubcc4\ud788 \uc791\uc131\ud558\uc9c0 \uc54a\uc544\ub3c4 \ub420 \uba54\uc18c\ub4dc\n",
      "    - \uc774\uc720: \ud30c\uc774\uc36c\uc5d0\uc11c\ub294 \uba54\ubaa8\ub9ac\ub098 \uae30\ud0c0 \uc790\uc6d0\ub4e4\uc758 \ud574\uc81c\uac00 \uc790\ub3d9\uc73c\ub85c \ub418\uae30 \ub54c\ubb38\uc5d0\n",
      "- [\ucc38\uace0] \\_\\_ (\uc5f0\uc18d\ub41c \ub450 \uac1c\uc758 \uc5b8\ub354\ub77c\uc778)\uc758 \uc758\ubbf8: \uc608\uc57d\ub41c \uc774\ub984"
     ]
    },
    {
     "cell_type": "markdown",
     "metadata": {},
     "source": [
      "- \ub2e4\uc74c \ucf54\ub4dc\uc5d0 \ub300\ud55c \uc124\uba85\n",
      "  - mylife = Life() \ub85c\uc11c \uc778\uc2a4\ud134\uc2a4 mylife\uac00 \uc0dd\uc131\ub418\ub294 \uc21c\uac04 \\_\\_init__ \uc0dd\uc131\uc790 \uba54\uc18c\ub4dc \ud638\ucd9c\n",
      "  - sleep(3)\uc5d0 \uc758\ud574 3\ucd08\uac04 sleep \uc0c1\ud0dc\n",
      "  - 3\ucd08 \uc774\ud6c4 \ud568\uc218\uac00 \ub9ac\ud134\ub428 --> \ub85c\uceec \ubcc0\uc218\uac00 \uba54\ubaa8\ub9ac\uc5d0\uc11c \ud574\uc81c\ub428 --> \\_\\_del__ \uc18c\uba78\uc790 \uba54\uc18c\ub4dc \ud638\ucd9c"
     ]
    },
    {
     "cell_type": "code",
     "collapsed": false,
     "input": [
      "# _*_ coding:utf-8 _*_\n",
      "from time import ctime, sleep\n",
      "\n",
      "class Life:\n",
      "    def __init__(self):              # \uc0dd\uc131\uc790\n",
      "        self.birth = ctime()         # \ud604\uc7ac\uc2dc\uac04\uc5d0 \ub300\ud55c \ubb38\uc790\uc5f4\uc744 \uc5bb\ub294\ub2e4.\n",
      "        print 'Birthday', self.birth # \ud604\uc7ac \uc2dc\uac04 \ucd9c\ub825\n",
      "    def __del__(self):               # \uc18c\uba78\uc790\n",
      "        print 'Deathday', ctime()    # \uc18c\uba78 \uc2dc\uac04 \ucd9c\ub825 \n",
      "\n",
      "def test():\n",
      "    mylife = Life()\n",
      "    print 'Sleeping for 3 sec'\n",
      "    sleep(3) #3\ucd08\uac04 sleep(block)\uc0c1\ud0dc\uc5d0 \uc788\uc74c (CPU \uc810\uc720 \ubabb\ud568)\n",
      "\n",
      "test()"
     ],
     "language": "python",
     "metadata": {},
     "outputs": [
      {
       "output_type": "stream",
       "stream": "stdout",
       "text": [
        "Birthday Thu Nov  6 21:51:25 2014\n",
        "Sleeping for 3 sec\n",
        "Deathday"
       ]
      },
      {
       "output_type": "stream",
       "stream": "stdout",
       "text": [
        " Thu Nov  6 21:51:28 2014\n"
       ]
      }
     ],
     "prompt_number": 66
    },
    {
     "cell_type": "markdown",
     "metadata": {},
     "source": [
      "- \uc778\uc790\ub97c \ubc1b\ub294 \uc0dd\uc131\uc790 \ud638\ucd9c \uac00\ub2a5\n",
      "- [\ucc38\uace0] \\_\\_str\\_\\_: print \uc608\uc57d\uc5b4\ub098 str() \ub0b4\uc7a5\ud568\uc218 \ud638\ucd9c\uc5d0 \ub300\uc751\ub418\ub294 \uba54\uc18c\ub4dc"
     ]
    },
    {
     "cell_type": "code",
     "collapsed": false,
     "input": [
      "class Integer:\n",
      "    def __init__(self, i):\n",
      "        self.i = i\n",
      "    def __str__(self):\n",
      "        return str(self.i)\n",
      "\n",
      "i = Integer(10)\n",
      "print i\n",
      "print str(i)"
     ],
     "language": "python",
     "metadata": {},
     "outputs": [
      {
       "output_type": "stream",
       "stream": "stdout",
       "text": [
        "10\n",
        "10\n"
       ]
      }
     ],
     "prompt_number": 73
    }
   ],
   "metadata": {}
  }
 ]
}