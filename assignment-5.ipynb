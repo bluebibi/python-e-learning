{
 "metadata": {
  "name": "",
  "signature": "sha256:d1488a780c80aea8da8a0a9ef1385645942f720512ad8670a15378173eba605e"
 },
 "nbformat": 3,
 "nbformat_minor": 0,
 "worksheets": [
  {
   "cells": [
    {
     "cell_type": "markdown",
     "metadata": {},
     "source": [
      "# Assignment 5\n",
      "### [\uc815\ubcf4]\n",
      "#### 1) Due Date: 2014\ub144 12\uc6d4 12\uc77c (\uae08\uc694\uc77c), 23\uc2dc 59\ubd84\n",
      "#### 2) \uc81c\ucd9c\ubc29\ubc95: ipython notebook\uc73c\ub85c \uc791\uc131\ub41c \ub0b4\uc6a9\uc744 nbviewer\uc5d0 \uc62c\ub824 \ud574\ub2f9 URL\uc744 EL \uc0ac\uc774\ud2b8\uc5d0 \uc81c\ucd9c\n",
      "- Assignment 1, 2, 3, 4 \ub0b4\uc6a9 \ucc38\uace0\n",
      "\n",
      "#### 3) \ub0b4\uc6a9: \ubc18\ub4dc\uc2dc python code\uc640 \uc218\ud589 \uacb0\uacfc\ub97c ipython notebook \ub0b4\uc5d0 \uc791\uc131\ud558\uc5ec \ub123\uace0 \uc774\uc5d0 \ub300\ud55c \uc124\uba85\ub4f1\uc744 \ud574\ub2f9 \ucf54\ub4dc \uc544\ub798\uc5d0 markdown cell\uc5d0 \ub123\uc5b4 \uae30\uc785\ud558\uc2dc\uc624.\n",
      "#### 4) \uc219\uc81c\uc774\ud6c4 \uc18c\uac10: \ubaa8\ub4e0 \ubb38\uc81c\uc758 \ub2f5\uc744 \uc801\uc740 \uc774\ud6c4\uc5d0 \ud604\uc7ac\uae4c\uc9c0 \uac15\uc758\ub97c \ub4e4\uc740 \uc774\ud6c4\uc758 \uc18c\uac10, \uc219\uc81c\ub97c \ud55c \uc774\ud6c4\uc758 \uc18c\uac10, \ub610\ub294 \uc804\ud558\uace0\uc790 \ud558\ub294 \ub9d0 \ub4f1\uc744 \uc9e7\ub9c9\ud558\uac8c\ub77c\ub3c4 \uc88b\uc73c\ub2c8 \ub9c8\uc9c0\ub9c9\uc5d0 \ud568\uaed8 \uc791\uc131\ud558\uc5ec \uc81c\ucd9c\ud558\uc2dc\uc624. \n",
      "#### 5) \ubb38\uc81c (\ucd1d 9\uac1c)"
     ]
    },
    {
     "cell_type": "markdown",
     "metadata": {},
     "source": [
      "- [1\ubc88 \ubb38\uc81c] \ud074\ub798\uc2a4\uc640 \ubaa8\ub4c8\uc758 \uacf5\ud1b5\uc810\uacfc \ucc28\uc774\uc810\uc5d0 \ub300\ud574 \uc124\uba85\ud558\uc2dc\uc624."
     ]
    },
    {
     "cell_type": "markdown",
     "metadata": {},
     "source": [
      "- [2\ubc88 \ubb38\uc81c] \ub2e4\ud615\uc131\uc5d0 \ub300\ud574 \uc124\uba85\ud558\uace0 \ub2e4\ud615\uc131\uc744 \ubcf4\uc5ec\uc8fc\ub294 \uc790\uc2e0\ub9cc\uc758 \ud30c\uc774\uc36c \ucf54\ub4dc \uc608\uc81c\ub97c \uc81c\uc2dc\ud558\uc2dc\uc624."
     ]
    },
    {
     "cell_type": "markdown",
     "metadata": {},
     "source": [
      "- [3\ubc88 \ubb38\uc81c] \ub2e4\uc74c \uac01 \uc694\uad6c\uc0ac\ud56d \ubaa8\ub450\ub97c \ub9cc\uc871\uc2dc\ud0a4\ub294 Counter \ud074\ub798\uc2a4\ub97c \ucf54\ub529\ud558\uc2dc\uc624 (\uc815\ub2f5\uc744 \uac01 \uc694\uad6c\uc0ac\ud56d\ubcc4\ub85c \uc785\ub825\ud560 \ud544\uc694 \uc5c6\uc774 3\ubc88 \ubb38\uc81c\uc5d0 \ub300\ud574 1\uac1c\uc758 \ud074\ub798\uc2a4 \uc815\uc758 \ucf54\ub4dc\ub97c \uc81c\uc2dc\ud558\uba74 \ub41c\ub2e4.)\n",
      "  - \uc694\uad6c\uc0ac\ud56d 1. \uc0dd\uc131\uc790\uc5d0 count \uac12\uacfc step \uac12\uc744 \uc778\uc790\ub85c \ubc1b\uc744 \uc218 \uc788\ub2e4.\n",
      "    - count: Counter \uc778\uc2a4\ud134\uc2a4\uac00 \uc9c0\ub2c8\ub294 \ucd08\uae30 \uc815\uc218 \uac12\n",
      "    - step: Counter \uc778\uc2a4\ud134\uc2a4\uc758 count\uac00 \uc99d\uac00\ub418\ub294 \uc99d\ubd84 (defalt \uac12: 1)\n",
      "\n",
      "    > \\>\\>\\> c = Counter(10) <br/>\n",
      "    > \\>\\>\\> d = Counter(10, 2) <br/>\n",
      "    \n",
      "  - \uc694\uad6c\uc0ac\ud56d 2. \ub2e4\uc74c\uacfc \uac19\uc774 Counter\uc758 \uc778\uc2a4\ud134\uc2a4\ub97c \ucd9c\ub825\uc744 \ud574\uc8fc\ub294 \\_\\_str\\_\\_() \uba54\uc18c\ub4dc\ub97c \uad6c\ud604\ud558\uc2dc\uc624.\n",
      "    > \\>\\>\\> print c  <br/>\n",
      "    > [Count (step: 1)] 10 <br/> \n",
      "    > \\>\\>\\> print d  <br/>\n",
      "    > [Count (step: 2)] 10 <br/>\n",
      "    \n",
      "  - \uc694\uad6c\uc0ac\ud56d 3. \ub2e4\uc74c\uacfc \uac19\uc774 step\uc5d0 \uc8fc\uc5b4\uc9c4 \uc99d\ubd84\ub9cc\ud07c count\ub97c \uc99d\uac00\uc2dc\ud0a4\ub294 incr() \uba54\uc18c\ub4dc\ub97c \uad6c\ud604\ud558\uc2dc\uc624.\n",
      "    > \\>\\>\\> c.incr()  <br/>\n",
      "    > \\>\\>\\> d.incr()  <br/>\n",
      "    > \\>\\>\\> print c  <br/>\n",
      "    > [Count (step: 1)] 11 <br/> \n",
      "    > \\>\\>\\> print d  <br/>\n",
      "    > [Count (step: 2)] 12 <br/>\n",
      "    \n",
      "  - \uc694\uad6c\uc0ac\ud56d 4. \\_\\_call\\_\\_() \uba54\uc18c\ub4dc\ub97c \ucd94\uac00\ud558\uc5ec \uc778\uc2a4\ud134\uc2a4 \uac1d\uccb4\ub97c \uc9c1\uc811 \ud638\ucd9c\ud560 \uc218 \uc788\ub3c4\ub85d \ud558\uc2dc\uc624. \uc778\uc2a4\ud134\uc2a4 \uac1d\uccb4\ub97c \uc9c1\uc811 \ud638\ucd9c\ud588\uc744 \ub54c\uc758 \ub3d9\uc791\ubc29\uc2dd\uc740 incr() \uba54\uc18c\ub4dc\ub97c \ud638\ucd9c\ud558\uc600\uc744 \ub54c\uc640 \ub3d9\uc77c\ud558\ub2e4. \n",
      "    > \\>\\>\\> c()  <br/>\n",
      "    > \\>\\>\\> d()  <br/>\n",
      "    > \\>\\>\\> print c  <br/>\n",
      "    > [Count (step: 1)] 12 <br/> \n",
      "    > \\>\\>\\> print d  <br/>\n",
      "    > [Count (step: 2)] 14 <br/>\n",
      "    \n",
      "  - \uc694\uad6c\uc0ac\ud56d 5. \ub2e4\uc74c\uacfc \uac19\uc740 \ub450 \uac1c\uc758 \uc0b0\uc220 \uc5f0\uc0b0 (+, -)\uc774 \uc218\ud589\ub420 \uc218 \uc788\ub3c4\ub85d \uad00\ub828 \uba54\uc18c\ub4dc\ub97c \ucd94\uac00\ud558\uc2dc\uc624.\n",
      "    > \\>\\>\\> c = c + 5  <br/>\n",
      "    > \\>\\>\\> d = d - 5  <br/>\n",
      "    > \\>\\>\\> print c  <br/>\n",
      "    > [Count (step: 1)] 17 <br/> \n",
      "    > \\>\\>\\> print d  <br/>\n",
      "    > [Count (step: 2)] 9 <br/>  \n",
      "    \n",
      "  - \uc694\uad6c\uc0ac\ud56d 6. \ub2e4\uc74c\uacfc \uac19\uc740 \uad00\uacc4\uc5f0\uc0b0 (+, -)\uc774 \uc218\ud589\ub420 \uc218 \uc788\ub3c4\ub85d \\_\\_cmp\\_\\_() \uba54\uc18c\ub4dc\ub97c \ucd94\uac00\ud558\uc2dc\uc624.\n",
      "    > \\>\\>\\> print c > 10  <br/>\n",
      "    > True <br/> \n",
      "    > \\>\\>\\> print d > 10 <br/>\n",
      "    > False <br/>\n",
      "    > \\>\\>\\> print c < 10  <br/>\n",
      "    > False <br/> \n",
      "    > \\>\\>\\> print d < 10 <br/>\n",
      "    > True <br/>\n",
      "    > \\>\\>\\> print c == 17  <br/>\n",
      "    > True <br/> \n",
      "    > \\>\\>\\> print d != 9 <br/>\n",
      "    > False <br/>"
     ]
    },
    {
     "cell_type": "markdown",
     "metadata": {},
     "source": [
      "- [4\ubc88 \ubb38\uc81c] \ub2e4\uc74c\uc740 \ub0b4\uc7a5 \uc790\ub8cc\ud615 list\ub97c \uc11c\ube0c\ud074\ub798\uc2f1\ud558\uc5ec \ub9cc\ub4e0 MySet \ud074\ub798\uc2a4 \uc815\uc758 \ub0b4\uc6a9\uc774\ub2e4. \ub2e4\uc74c \ud074\ub798\uc2a4 \uc815\uc758\uc5d0\uc11c \\_\\_init\\_\\_(), \\_\\_str()\\_\\_(), elimicate_duplicate()\uc758 \uc138 \uac1c\uc758 \uba54\uc18c\ub4dc \ucf54\ub4dc \ub0b4\uc6a9\uc744 \uc790\uc2e0\uc774 \ub2e4\ub978 \uc0ac\ub78c\uc5d0\uac8c \uac00\ub974\uce5c\ub2e4\uace0 \uc0dd\uac01\ud558\uba70 \uc124\uba85\ud574\ubcf4\uc2dc\uc624.\n",
      "  - MySet\uc740 \uc9d1\ud569(Set) \uc790\ub8cc\ud615\uc744 \uc815\uc758\ud558\ub824\ub294 \uc758\ub3c4\ud558\uc5d0 \ub9cc\ub4e4\uc5b4\uc9c4 \ud074\ub798\uc2a4\uc774\ub2e4."
     ]
    },
    {
     "cell_type": "code",
     "collapsed": false,
     "input": [
      "class MySet(list):\n",
      "    def __init__(self, l):\n",
      "        for e in l:\n",
      "            self.append(e)\n",
      "        MySet.eliminate_duplicate(self)\n",
      "    \n",
      "    def __str__(self):\n",
      "        result = \"MySet: {\"\n",
      "        for e in self:\n",
      "            result = result + str(e) + \" ,\"\n",
      "        result = result[0:len(result)-2] + \"}\"\n",
      "        return result\n",
      "\n",
      "    @staticmethod    \n",
      "    def eliminate_duplicate(l):\n",
      "        s = []\n",
      "        for e in l:\n",
      "            if e not in s:\n",
      "                s.append(e)\n",
      "        l[:] = []\n",
      "        for e in s:\n",
      "            l.append(e)\n",
      "\n",
      "    \n",
      "if __name__ == \"__main__\":\n",
      "    s = MySet([1, 2, 2, 3])\n",
      "    print s\n",
      "    t = MySet([2, 3, 4, 5, 6, 7, 8, 8, 8, 8, 8, 9])\n",
      "    print t"
     ],
     "language": "python",
     "metadata": {},
     "outputs": [
      {
       "output_type": "stream",
       "stream": "stdout",
       "text": [
        "MySet: {1 ,2 ,3}\n",
        "MySet: {2 ,3 ,4 ,5 ,6 ,7 ,8 ,9}\n"
       ]
      }
     ],
     "prompt_number": 2
    },
    {
     "cell_type": "markdown",
     "metadata": {},
     "source": [
      "- [5\ubc88 \ubb38\uc81c] 4\ubc88 \ubb38\uc81c\uc5d0 \uc815\uc758\ub41c MySet \ud074\ub798\uc2a4\uc5d0 \uba54\uc18c\ub4dc\ub97c \ucd94\uac00\ud558\uc5ec \ub2e4\uc74c \uac01 \uc694\uad6c\uc0ac\ud56d \ubaa8\ub450\ub97c \ub9cc\uc871\uc2dc\ud0a4\ub294 \ucf54\ub529\uc744 \uc81c\uc2dc\ud558\uc2dc\uc624 (\uc815\ub2f5\uc744 \uac01 \uc694\uad6c\uc0ac\ud56d\ubcc4\ub85c \uc785\ub825\ud560 \ud544\uc694 \uc5c6\uc774 5\ubc88 \ubb38\uc81c\uc5d0 \ub300\ud574 1\uac1c\uc758 MySet \ud074\ub798\uc2a4 \uc815\uc758 \ucf54\ub4dc\ub97c \uc81c\uc2dc\ud558\uba74 \ub41c\ub2e4.)\n",
      "  - \uc694\uad6c\uc0ac\ud56d 1. | \uc5f0\uc0b0\uc73c\ub85c \ub450 \uc9d1\ud569\uc758 \ud569\uc9d1\ud569\uc744 \ubc18\ud658\ud55c\ub2e4.\n",
      "    > \\>\\>\\> s = s | t  <br/>\n",
      "    > \\>\\>\\> print s  <br/>\n",
      "    > MySet: {1 ,2 ,3 ,4 ,5 ,6 ,7 ,8 ,9} <br/> \n",
      "    \n",
      "  - \uc694\uad6c\uc0ac\ud56d 2. & \uc5f0\uc0b0\uc73c\ub85c \ub450 \uc9d1\ud569\uc758 \uad50\uc9d1\ud569\uc744 \ubc18\ud658\ud55c\ub2e4.\n",
      "    > \\>\\>\\> s = MySet([1, 2, 3])  <br/>\n",
      "    > \\>\\>\\> t = MySet([3, 4, 5])  <br/>\n",
      "    > \\>\\>\\> s = s & t  <br/>\n",
      "    > \\>\\>\\> print s  <br/>\n",
      "    > MySet: {3} <br/>\n",
      "\n",
      "  - \uc694\uad6c\uc0ac\ud56d 3. - \uc5f0\uc0b0\uc73c\ub85c \ub450 \uc9d1\ud569\uc758 \ucc28\uc9d1\ud569\uc744 \ubc18\ud658\ud55c\ub2e4.\n",
      "    > \\>\\>\\> s = MySet([1, 2, 3])  <br/>\n",
      "    > \\>\\>\\> t = MySet([3, 4, 5])  <br/>\n",
      "    > \\>\\>\\> s = s - t  <br/>\n",
      "    > \\>\\>\\> print s  <br/>\n",
      "    > MySet: {1, 2} <br/>"
     ]
    },
    {
     "cell_type": "markdown",
     "metadata": {},
     "source": [
      "- [6\ubc88 \ubb38\uc81c] 5\ubc88 \ubb38\uc81c\uc5d0\uc11c \uc815\uc758\ud55c MySet \ud074\ub798\uc2a4\uc5d0 \ub300\ud574 \ub2e4\uc74c \uc608\uc81c\ub97c \uc218\ud589\ud558\uba74 \uc624\ub958\uc5c6\uc774 \uc62c\ubc14\ub974\uac8c \ub3d9\uc791\ud558\ub294 \uac83\uc744 \ud655\uc778\ud560 \uc218 \uc788\ub2e4. \ub2e4\uc74c \uc608\uc81c \ub0b4\uc5d0 \uc788\ub294 len(), bool() \ub0b4\uc7a5\ud568\uc218\uc640 in \ud0a4\uc6cc\ub4dc \uc0ac\uc6a9 \uc608\uc81c\uac00 \ubcc4\ub2e4\ub978 \uba54\uc18c\ub4dc \uc815\uc758\ub97c \ud558\uc9c0 \uc54a\uc558\ub294 \ub370\ub3c4 \uc62c\ubc14\ub974\uac8c \uc218\ud589\ub418\ub294 \uc774\uc720\ub97c \uc124\uba85\ud558\uc2dc\uc624.\n",
      "\n",
      "    > \\>\\>\\> s = MySet([1, 2, 3, 4, 5, 6])  <br/>\n",
      "    > \\>\\>\\> print len(s)  <br/>\n",
      "    > 6 <br/>\n",
      "    > \\>\\>\\> print bool(s)  <br/>\n",
      "    > True <br/>\n",
      "    > \\>\\>\\> print 2 in s  <br/>\n",
      "    > True <br/>\n"
     ]
    },
    {
     "cell_type": "markdown",
     "metadata": {},
     "source": [
      "- [7\ubc88 \ubb38\uc81c] \uc774\uc804 Assignment 3 (Assignment 4\uac00 \uc544\ub2d8)\uc758 \ub9c8\uc9c0\ub9c9 \ubb38\uc81c\ub294 \uc6f9 URL\ub85c \uc9c0\uc815\ub41c \uc6f9\ud398\uc774\uc9c0\ub97c \ubb38\uc790\uc5f4\ub85c \uac00\uc838\uc640 \ubaa8\ub4e0 HTML \ud0dc\uadf8 \ubc0f CSS\uc640 Javascript\ub97c \uc81c\uc678\ud55c \uc21c\uc218 \ud14d\uc2a4\ud2b8\ub97c \uc5bb\uc5b4\ub0b4\uace0 \uadf8 \uc548\uc5d0 \uc874\uc7ac\ud558\ub294 \ub2e8\uc5b4\ub97c \ucd94\ucd9c\ud558\uc5ec \uac01 \ub2e8\uc5b4\ub4e4\uc5d0 \ub300\ud574 \ucd9c\ud604\ube48\ub3c4\ub97c \uc0ac\uc804\ud615\ud0dc({'world': 2, 'hello': 1, 'python': 1})\ub85c \uc800\uc7a5\ud558\uc5ec \ucd9c\ub825\ud558\ub294 \uac83\uc774\uc5c8\ub2e4. \uc774\ubc88\uc5d0\ub294 Assignment 3\uacfc Assignment 4\ub97c \ud655\uc7a5/\ubcc0\ud615\ud558\uc5ec \ub2e4\uc74c\uacfc \uac19\uc740 \uc870\uac74\uc744 \ub9cc\uc871\ud558\ub3c4\ub85d \uad6c\ud604\ud558\uc2dc\uc624.\n",
      "  - 1) \uc0c8\ub85c\uc6b4 \ud074\ub798\uc2a4 WebWordsFrequency\ub97c \uc815\uc758\ud558\uc2dc\uc624.\n",
      "  - 2) \uc0dd\uc131\uc790\uc5d0 URL\uc744 0\uac1c\uc5d0\uc11c \uc784\uc758\uc758 \uac1c\uc218\ub97c \ub123\uc744 \uc218 \uc788\ub3c4\ub85d \uc0dd\uc131\uc790 \uc778\uc218\ub97c \uac00\ubcc0\uc778\uc218\ub85c \uc815\uc758\ud558\uc5ec \uac01\uac01\uc758 URL\uc744 \ub9ac\uc2a4\ud2b8 \uc790\ub8cc\ud615\uc5d0 \uc720\uc9c0\ud558\uc2dc\uc624.\n",
      "    > \\>\\>\\> w1 = WebWordsFrequency('http://www.daum.net', 'http://www.naver.com', 'http://www.google.co.kr') <br/>\n",
      "    > \\>\\>\\> w2 = WebWordsFrequency('http://www.daum.net', 'http://www.naver.com') <br/>\n",
      "    > \\>\\>\\> w3 = WebWordsFrequency() <br/>\n",
      "  - 3) addUrl() \uba54\uc18c\ub4dc\ub97c \uad6c\ud604\ud558\uc5ec \uc778\uc2a4\ud134\uc2a4\ub97c \uc0dd\uc131\ud55c \uc774\ud6c4\uc5d0\ub3c4 URL\uc744 \ucd94\uac00\ud560 \uc218 \uc788\ub3c4\ub85d \ud55c\ub2e4.\n",
      "    - \ubc18\ub4dc\uc2dc 1\uac1c\uc758 URL\uc744 \ucd94\uac00\ud558\ub3c4\ub85d \uad6c\ud604 (\uc989, \ub3d9\uc2dc\uc5d0 \uc5ec\ub7ec \uac1c\uc758 URL\uc744 \ucd94\uac00\ud558\ub294 \uac83\uc740 \ubc30\uc81c)\n",
      "    \n",
      "    > \\>\\>\\> w1.addUrl('http://cse.koreatech.ac.kr')<br/>\n",
      "    > \\>\\>\\> w3.addUrl('http://www.koreatech.ac.kr')<br/>\n",
      "  - 4) removeUrl() \uba54\uc18c\ub4dc\ub97c \uad6c\ud604\ud558\uc5ec URL\uc744 \uc0ad\uc81c\ud560 \uc218 \uc788\ub3c4\ub85d \ud55c\ub2e4.\n",
      "    - \ubc18\ub4dc\uc2dc 1\uac1c\uc758 URL\uc744 \uc0ad\uc81c\ud558\ub3c4\ub85d \uad6c\ud604 (\uc989, \ub3d9\uc2dc\uc5d0 \uc5ec\ub7ec \uac1c\uc758 URL\uc744 \uc0ad\uc81c\ud558\ub294 \uac83\uc740 \ubc30\uc81c)  \n",
      "    \n",
      "    > \\>\\>\\> w1.removeUrl('http://www.daum.net')<br/>\n",
      "    > \\>\\>\\> w2.removeUrl('http://www.naver.com')<br/>\n",
      "  - 5) listUrls() \uba54\uc18c\ub4dc\ub97c \uad6c\ud604\ud558\uc5ec \ud604\uc7ac \ub4f1\ub85d\ub41c \ubaa8\ub4e0 URL\uc744 \ucd9c\ub825\ud558\ub294 \uae30\ub2a5\uc744 \ucd94\uac00\n",
      "    > \\>\\>\\> w1.listUrls()<br/>\n",
      "    > http://www.naver.com <br/>\n",
      "    > http://www.google.co.kr <br/>\n",
      "    > http://cse/koreatech.ac.kr <br/>\n",
      "  - 6) getWordsFrequency() \uba54\uc18c\ub4dc\ub97c \uad6c\ud604\ud558\uc5ec \uac01 URL\uc758 \uc6f9\ud398\uc774\uc9c0\ub4e4\uc744 \uc885\ud569\uc801\uc73c\ub85c \ubd84\uc11d\ud55c \ub2e8\uc5b4 \ucd9c\ud604 \ube48\ub3c4 \uc0ac\uc804\uc744 \ubc18\ud658\ud558\uc2dc\uc624.\n",
      "    - \ub9cc\uc57d \ub4f1\ub85d\ub41c URL\uc774 \uc5c6\ub2e4\uba74 \uacf5\ubc31 \uc0ac\uc804\uc744 \ubc18\ud658 \n",
      "    \n",
      "    > \\>\\>\\> w1.getWordsFrequency() <br/>\n",
      "    > {'\ub2e4\uc74c': 8, '\uc548\ub155': 12, 'world': 2, '\uc6b0\ub9ac': 11, 'hello': 1, 'python': 1}\n",
      "  - 7) getMaxFreqencyWords() \uba54\uc18c\ub4dc\ub97c \uad6c\ud604\ud558\uc5ec \uac01 URL\uc758 \uc6f9\ud398\uc774\uc9c0\ub4e4\uc744 \uc885\ud569\uc801\uc73c\ub85c \ubd84\uc11d\ud55c \ub2e8\uc5b4 \ucd9c\ud604 \ube48\ub3c4 \uc0ac\uc804\uc5d0\uc11c \uac00\uc7a5 \ub9ce\uc774 \ucd9c\ud604\ud55c \ub2e8\uc5b4 \ub9ac\uc2a4\ud2b8\ub97c \ubc18\ud658\ud558\uc2dc\uc624.\n",
      "    - \ucd5c\ub2e4 \ucd9c\ud604 \ub2e8\uc5b4\uc758 \ube48\ub3c4\uc218\uac00 \ub3d9\uc77c\ud55c \uacbd\uc6b0 \ubaa8\ub450 \ucd9c\ub825\ud574\uc8fc\uc5b4\uc57c \ud568 \n",
      "    - \ub9cc\uc57d \ub4f1\ub85d\ub41c URL\uc774 \uc5c6\ub2e4\uba74 None\uc744 \ubc18\ud658\n",
      "    \n",
      "    > \\>\\>\\> w1.getMaxFreqencyWords() <br/>\n",
      "    > \uc6b0\ub9ac <br/>\n",
      "    > \\>\\>\\> w2.getMaxFreqencyWords() <br/>\n",
      "    > \ub2e4\uc74c\uc5d0 <br/>\n",
      "    > \uc548\ub155\n",
      "  - 8) Assignment 4\uc5d0\uc11c \uc694\uad6c\ud588\ub358 \ud30c\uc77c\ub85c \uc800\uc7a5\ud558\ub294 \ucf54\ub4dc\ub294 \ubaa8\ub450 \uc0ad\uc81c\ud558\uc2dc\uc624. "
     ]
    },
    {
     "cell_type": "markdown",
     "metadata": {},
     "source": [
      "- [8\ubc88 \ubb38\uc81c] 7\ubc88 \ubb38\uc81c\uc5d0\uc11c \uc815\uc758\ud55c WebWordsFrequency \ud074\ub798\uc2a4\ub97c \uc0c1\uc18d\ud558\uc5ec OrderedWebWordsFrequency \ud074\ub798\uc2a4\ub97c \uc815\uc758\ud558\uace0 \uc288\ud37c\ud074\ub798\uc2a4\uc5d0 \uc815\uc758\ub41c getWordsFrequency() \uba54\uc18c\ub4dc\ub97c \uc624\ubc84\ub77c\uc774\ub4dc \ud558\uc5ec \ub2e8\uc5b4 \ucd9c\ud604 \ube48\ub3c4\ub97c \ub0b4\ub9bc \ucc28\uc21c\uc73c\ub85c \uc815\ub82c\ud558\uc5ec \ub9ac\uc2a4\ud2b8\ub85c \ucd9c\ub825\ud558\uc2dc\uc624.\n",
      "    - \ub9ac\uc2a4\ud2b8 \ub0b4\uc758 \uac01 \uc6d0\uc18c\ub294 \ub2e8\uc5b4\uc640 \ube48\ub3c4\ub97c \uc30d\uc73c\ub85c \uc9c0\ub2c8\ub294 \ud29c\ud50c\uc774\ub2e4.\n",
      "    \n",
      "    > \\>\\>\\> w4 = OrderedWebWordsFrequency('http://www.daum.net', 'http://www.naver.com', 'http://www.google.co.kr') <br/>\n",
      "    > \\>\\>\\> w4.getWordsFrequency() <br/>\n",
      "    > [('\uc548\ub155', 12), ('\uc6b0\ub9ac', 11), ('\ub2e4\uc74c', 8), ('world', 2), ('hello', 1), ('python', 1)]"
     ]
    }
   ],
   "metadata": {}
  }
 ]
}