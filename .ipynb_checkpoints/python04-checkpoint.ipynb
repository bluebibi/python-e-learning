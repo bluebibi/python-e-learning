{
 "metadata": {
  "name": "",
  "signature": "sha256:948f6021fe86459558197f3be619e2e2a4f82677829d31c7fb3f35d29cd7d25d"
 },
 "nbformat": 3,
 "nbformat_minor": 0,
 "worksheets": [
  {
   "cells": [
    {
     "cell_type": "markdown",
     "metadata": {},
     "source": [
      "***\n",
      "***\n",
      "# 4. \ud30c\uc774\uc36c\uc758 \uac01\uc885 \uc5f0\uc0b0\uc790\n",
      "***\n",
      "***"
     ]
    },
    {
     "cell_type": "markdown",
     "metadata": {},
     "source": [
      "***\n",
      "## 1 \uc0b0\uc220 \uc5f0\uc0b0\uc790\n",
      "***"
     ]
    },
    {
     "cell_type": "markdown",
     "metadata": {},
     "source": [
      "| \uc5f0\uc0b0\uc790 |    \uc6b0\uc120\uc21c\uc704  | \uc124\uba85   | \uacb0\ud569\uc21c\uc11c |\n",
      "|:------:|:------:|:-----------------:|:-----------:|\n",
      "| +, -     |    1   |   \ub2e8\ud56d \uc5f0\uc0b0\uc790        |  -  | \n",
      "|  **      |    2   |\uc9c0\uc218 \uc5f0\uc0b0\uc790        | \uc67c\ucabd <- \uc624\ub978\ucabd | \n",
      "| *,/,%,// |    3    |\uacf1\ud558\uae30,\ub098\ub204\uae30,\ub098\uba38\uc9c0,\ubaab | \uc67c\ucabd -> \uc624\ub978\ucabd | \n",
      "| +, -     |    4    |\ub354\ud558\uae30,\ube7c\uae30           |   \uc67c\ucabd -> \uc624\ub978\ucabd  |"
     ]
    },
    {
     "cell_type": "code",
     "collapsed": false,
     "input": [
      "print 2 ** 3\n",
      "print 5 % 2\n",
      "print -5 % 2"
     ],
     "language": "python",
     "metadata": {},
     "outputs": [
      {
       "output_type": "stream",
       "stream": "stdout",
       "text": [
        "8\n",
        "1\n",
        "1\n"
       ]
      }
     ],
     "prompt_number": 3
    },
    {
     "cell_type": "code",
     "collapsed": false,
     "input": [
      "print 3 + 5\n",
      "print 3 + 5.0   # \uc815\uc218 + \uc2e4\uc218\uc758 \uacb0\uacfc\ub294 \uc2e4\uc218"
     ],
     "language": "python",
     "metadata": {},
     "outputs": [
      {
       "output_type": "stream",
       "stream": "stdout",
       "text": [
        "8\n",
        "8.0\n"
       ]
      }
     ],
     "prompt_number": 3
    },
    {
     "cell_type": "code",
     "collapsed": false,
     "input": [
      "print 5 / 2.0   # \uc815\uc218 / \uc2e4\uc218\uc758 \uacb0\uacfc\ub294 \uc2e4\uc218\n",
      "print 5 / 2"
     ],
     "language": "python",
     "metadata": {},
     "outputs": [
      {
       "output_type": "stream",
       "stream": "stdout",
       "text": [
        "2.5\n",
        "2\n"
       ]
      }
     ],
     "prompt_number": 64
    },
    {
     "cell_type": "code",
     "collapsed": false,
     "input": [
      "a = 5 / 3\n",
      "b = 5 % 3\n",
      "\n",
      "print a, b\n",
      "\n",
      "print divmod(5,3)"
     ],
     "language": "python",
     "metadata": {},
     "outputs": [
      {
       "output_type": "stream",
       "stream": "stdout",
       "text": [
        "1 2\n",
        "(1, 2)\n"
       ]
      }
     ],
     "prompt_number": 44
    },
    {
     "cell_type": "code",
     "collapsed": false,
     "input": [
      "print 5 / 3\n",
      "print 5 // 3"
     ],
     "language": "python",
     "metadata": {},
     "outputs": [
      {
       "output_type": "stream",
       "stream": "stdout",
       "text": [
        "1\n",
        "1\n"
       ]
      }
     ],
     "prompt_number": 1
    },
    {
     "cell_type": "markdown",
     "metadata": {},
     "source": [
      "- \ub2e8\ud56d \uc5f0\uc0b0\uc790(-)\uc758 \uc6b0\uc120\uc21c\uc704\uac00 \uc774\ud56d \uc5f0\uc0b0\uc790(/)\uc758 \uc6b0\uc120\uc21c\uc704\ubcf4\ub2e4 \ub192\ub2e4"
     ]
    },
    {
     "cell_type": "code",
     "collapsed": false,
     "input": [
      "print -7/4  # -7\uc744 4\ub85c \ub098\ub208\ub2e4\n",
      "print -(7/4)   "
     ],
     "language": "python",
     "metadata": {},
     "outputs": [
      {
       "output_type": "stream",
       "stream": "stdout",
       "text": [
        "-2\n",
        "-1\n"
       ]
      }
     ],
     "prompt_number": 2
    },
    {
     "cell_type": "code",
     "collapsed": false,
     "input": [
      "print 2 + 3 * 4\n",
      "print (2 + 3) * 4"
     ],
     "language": "python",
     "metadata": {},
     "outputs": [
      {
       "output_type": "stream",
       "stream": "stdout",
       "text": [
        "14\n",
        "20\n"
       ]
      }
     ],
     "prompt_number": 51
    },
    {
     "cell_type": "code",
     "collapsed": false,
     "input": [
      "print 4 / 2 * 2"
     ],
     "language": "python",
     "metadata": {},
     "outputs": [
      {
       "output_type": "stream",
       "stream": "stdout",
       "text": [
        "4\n"
       ]
      }
     ],
     "prompt_number": 53
    },
    {
     "cell_type": "markdown",
     "metadata": {},
     "source": [
      "- ** \uc5f0\uc0b0\uc790\uc758 \uacb0\ud569\uc21c\uc11c\ub294 \uc624\ub978\ucabd\uc5d0\uc11c \uc67c\ucabd"
     ]
    },
    {
     "cell_type": "code",
     "collapsed": false,
     "input": [
      "print 2 ** 3 ** 2\n",
      "print (2 ** 3) ** 2"
     ],
     "language": "python",
     "metadata": {},
     "outputs": [
      {
       "output_type": "stream",
       "stream": "stdout",
       "text": [
        "512\n",
        "64\n"
       ]
      }
     ],
     "prompt_number": 4
    },
    {
     "cell_type": "markdown",
     "metadata": {},
     "source": [
      "***\n",
      "## 2 \uad00\uacc4 \uc5f0\uc0b0\uc790\n",
      "***"
     ]
    },
    {
     "cell_type": "markdown",
     "metadata": {},
     "source": [
      "- \uad00\uacc4 \uc5f0\uc0b0\uc790: \uac1d\uccb4\uac00 \uc9c0\ub2cc \uac12\uc758 \ud06c\uae30(\ub300\uc18c)\ub97c \ube44\uad50\ud558\uc5ec True \ub610\ub294 False\ub97c \ubc18\ud658\ud568"
     ]
    },
    {
     "cell_type": "code",
     "collapsed": false,
     "input": [
      "print 6 == 9\n",
      "print 6 != 9\n",
      "print 1 > 3\n",
      "print 4 <= 5\n",
      "\n",
      "a = 5\n",
      "b = 10\n",
      "print a < b"
     ],
     "language": "python",
     "metadata": {},
     "outputs": [
      {
       "output_type": "stream",
       "stream": "stdout",
       "text": [
        "False\n",
        "True\n",
        "False\n",
        "True\n",
        "True\n"
       ]
      }
     ],
     "prompt_number": 6
    },
    {
     "cell_type": "code",
     "collapsed": false,
     "input": [
      "a = 5\n",
      "b = 10\n",
      "print 0 < a < b"
     ],
     "language": "python",
     "metadata": {},
     "outputs": [
      {
       "output_type": "stream",
       "stream": "stdout",
       "text": [
        "True\n"
       ]
      }
     ],
     "prompt_number": 7
    },
    {
     "cell_type": "code",
     "collapsed": false,
     "input": [
      "a = 5\n",
      "b = 10\n",
      "print 0 < a and a < b"
     ],
     "language": "python",
     "metadata": {},
     "outputs": [
      {
       "output_type": "stream",
       "stream": "stdout",
       "text": [
        "True\n"
       ]
      }
     ],
     "prompt_number": 9
    },
    {
     "cell_type": "markdown",
     "metadata": {},
     "source": [
      "- \ubb38\uc790\uc5f4, \ud29c\ud50c, \ub9ac\uc2a4\ud2b8\uc758 \uad00\uacc4 \uc5f0\uc0b0 \ube44\uad50\ub294 \uc77c\ubc18 \uc0ac\uc804 \uc21c\uc11c \n",
      "- \uc0ac\uc804\uc5d0\uc11c \uc55e\uc5d0 \ub098\uc624\ub294 \uac12\uc774 \uc791\uc740 \uac12\uc73c\ub85c \ud3c9\uac00\ub428"
     ]
    },
    {
     "cell_type": "code",
     "collapsed": false,
     "input": [
      "print 'abcd' > 'abd'             \n",
      "print (1, 2, 4) < (2, 1, 0)      \n",
      "print [1, 3, 2] == [1, 2, 3]"
     ],
     "language": "python",
     "metadata": {},
     "outputs": [
      {
       "output_type": "stream",
       "stream": "stdout",
       "text": [
        "False\n",
        "True\n",
        "False\n"
       ]
      }
     ],
     "prompt_number": 2
    },
    {
     "cell_type": "markdown",
     "metadata": {},
     "source": [
      "- \uc11c\ub85c \ub2e4\ub978 \uc790\ub8cc\ud615\uac04\uc758 \ud06c\uae30 \uad00\uacc4\n",
      "  - \uc22b\uc790 < \uc0ac\uc804 < \ub9ac\uc2a4\ud2b8 < \ubb38\uc790\uc5f4 < \ud29c\ud50c"
     ]
    },
    {
     "cell_type": "code",
     "collapsed": false,
     "input": [
      "print 9999999999999999999999L < 'abc'\n",
      "print {3:2} < [1,2,3] < (1,2,3)"
     ],
     "language": "python",
     "metadata": {},
     "outputs": [
      {
       "output_type": "stream",
       "stream": "stdout",
       "text": [
        "True\n",
        "True\n"
       ]
      }
     ],
     "prompt_number": 64
    },
    {
     "cell_type": "code",
     "collapsed": false,
     "input": [
      "L = [1,2,3, 'abc', 'a', 'z', (1,2,3), [1,2,3], {1:2}, ['abc']]\n",
      "L.sort()\n",
      "print L"
     ],
     "language": "python",
     "metadata": {},
     "outputs": [
      {
       "output_type": "stream",
       "stream": "stdout",
       "text": [
        "[1, 2, 3, {1: 2}, [1, 2, 3], ['abc'], 'a', 'abc', 'z', (1, 2, 3)]\n"
       ]
      }
     ],
     "prompt_number": 10
    },
    {
     "cell_type": "code",
     "collapsed": false,
     "input": [
      "x = [1,2,3]\n",
      "y = [1,2,3]\n",
      "z = y\n",
      "\n",
      "print x == y\n",
      "print x == z\n",
      "print x is y\n",
      "print x is z\n",
      "print y is z"
     ],
     "language": "python",
     "metadata": {},
     "outputs": [
      {
       "output_type": "stream",
       "stream": "stdout",
       "text": [
        "True\n",
        "True\n",
        "False\n",
        "False\n",
        "True\n"
       ]
      }
     ],
     "prompt_number": 3
    },
    {
     "cell_type": "markdown",
     "metadata": {},
     "source": [
      "![image](images/objectIdentity.png)"
     ]
    },
    {
     "cell_type": "markdown",
     "metadata": {},
     "source": [
      "***\n",
      "## 3 \ub17c\ub9ac \uc5f0\uc0b0\uc790 (or \ubd80\uc6b8 \uc5f0\uc0b0\uc790)\n",
      "***"
     ]
    },
    {
     "cell_type": "markdown",
     "metadata": {},
     "source": [
      "- \ud53c\uc5f0\uc0b0\uc790\uc758 \uac12\uc73c\ub85c \uc9c4\ub9ac\uac12\uc778 True \ub610\ub294 False\uc744 \ucde8\ud558\uc5ec \ub17c\ub9ac \uc801\uc778 \uacc4\uc0b0\uc744 \uc218\ud589\ud558\ub294 \uc5f0\uc0b0\uc790\n",
      "  - and\n",
      "  - or\n",
      "  - not\n",
      "- [\uc8fc\uc758] \ub17c\ub9ac \uc5f0\uc0b0\uc790 \uc790\uccb4\uac00 \uac12\uc744 \ubc18\ud658\ud558\uc9c0\ub294 \uc54a\ub294\ub2e4. \n",
      "  - \ub17c\ub9ac \uc5f0\uc0b0\uc744 \ub530\ub77c \ucd5c\uc885\uc801\uc73c\ub85c \ud3c9\uac00(Evaluation)\ub418\uc5b4\uc9c4 \uac12\uc774 \ubc18\ud658\ub41c\ub2e4."
     ]
    },
    {
     "cell_type": "code",
     "collapsed": false,
     "input": [
      "a = 20\n",
      "b = 30\n",
      "print a > 10 and b < 50"
     ],
     "language": "python",
     "metadata": {},
     "outputs": [
      {
       "output_type": "stream",
       "stream": "stdout",
       "text": [
        "True\n"
       ]
      }
     ],
     "prompt_number": 11
    },
    {
     "cell_type": "markdown",
     "metadata": {},
     "source": [
      "- \uc9c4\ub9ac\uac12\uc5d0 \ud574\ub2f9\ud558\ub294 True\uc640 False\ub294 \ub2e4\ub978 \uc0ac\uce59\uc5f0\uc0b0\uc790\ub97c \ub9cc\ub098\uba74 \ub2e4\uc74c\uacfc \uac19\uc774 \ud3c9\uac00\ub428\n",
      "  - True: 1\n",
      "  - False: 0"
     ]
    },
    {
     "cell_type": "code",
     "collapsed": false,
     "input": [
      "print True + 1\n",
      "print False + 1\n",
      "print False * 75\n",
      "print True * 75"
     ],
     "language": "python",
     "metadata": {},
     "outputs": [
      {
       "output_type": "stream",
       "stream": "stdout",
       "text": [
        "2\n",
        "1\n",
        "0\n",
        "75\n"
       ]
      }
     ],
     "prompt_number": 77
    },
    {
     "cell_type": "markdown",
     "metadata": {},
     "source": [
      "- bool() \ub0b4\uc7a5 \ud568\uc218\ub97c \uc774\uc6a9\ud574\uc11c \uc218\uce58 \uac12\uc744 \uc9c4\ub9ac \uac12\uc73c\ub85c \uad50\ud658 \uac00\ub2a5"
     ]
    },
    {
     "cell_type": "code",
     "collapsed": false,
     "input": [
      "print bool(0) # \uc815\uc218 0\uc740 \uac70\uc9d3\n",
      "print bool(1)\n",
      "print bool(100)\n",
      "print bool(-100)\n",
      "print\n",
      "print bool(0.0) # \uc2e4\uc218 0.0\uc740 \uac70\uc9d3\n",
      "print bool(0.1)"
     ],
     "language": "python",
     "metadata": {},
     "outputs": [
      {
       "output_type": "stream",
       "stream": "stdout",
       "text": [
        "False\n",
        "True\n",
        "True\n",
        "True\n",
        "\n",
        "False\n",
        "True\n"
       ]
      }
     ],
     "prompt_number": 82
    },
    {
     "cell_type": "markdown",
     "metadata": {},
     "source": [
      "- \uac12\uc774 \uc5c6\ub294 \ube48 \uac1d\uccb4\ub098 None \uac1d\uccb4\ub294 False\ub85c \ud3c9\uac00\ub428"
     ]
    },
    {
     "cell_type": "code",
     "collapsed": false,
     "input": [
      "print bool('abc')\n",
      "print bool('')\n",
      "print\n",
      "print bool([]) # \uacf5 \ub9ac\uc2a4\ud2b8\ub294 \uac70\uc9d3\n",
      "print bool([1,2,3])\n",
      "print \n",
      "print bool(()) # \uacf5 \ud29c\ud50c\uc740 \uac70\uc9d3\n",
      "print bool((1,2,3))\n",
      "print \n",
      "print bool({}) # \uacf5 \uc0ac\uc804\uc740 \uac70\uc9d3\n",
      "print bool({1:2})\n",
      "print\n",
      "print bool(None) # None \uac1d\uccb4\ub294 \uac70\uc9d3"
     ],
     "language": "python",
     "metadata": {},
     "outputs": [
      {
       "output_type": "stream",
       "stream": "stdout",
       "text": [
        "True\n",
        "False\n",
        "\n",
        "False\n",
        "True\n",
        "\n",
        "False\n",
        "True\n",
        "\n",
        "False\n",
        "True\n",
        "\n",
        "False\n"
       ]
      }
     ],
     "prompt_number": 81
    },
    {
     "cell_type": "code",
     "collapsed": false,
     "input": [
      "print 1 and 1\n",
      "print 1 and 0\n",
      "print 0 or 0 \n",
      "print 1 or 0\n",
      "print \n",
      "print [] or 1  # [] \uac70\uc9d3\n",
      "print [] or () # [], () \uac70\uc9d3\n",
      "print [] and 1 # [] \uac70\uc9d3\uc774\ubbc0\ub85c 1\uc740 \ucc38\uc870\ud560 \ud544\uc694 \uc5c6\uc74c"
     ],
     "language": "python",
     "metadata": {},
     "outputs": [
      {
       "output_type": "stream",
       "stream": "stdout",
       "text": [
        "1\n",
        "0\n",
        "0\n",
        "1\n",
        "\n",
        "1\n",
        "()\n",
        "[]\n"
       ]
      }
     ],
     "prompt_number": 85
    },
    {
     "cell_type": "code",
     "collapsed": false,
     "input": [
      "print 1 and 2 \n",
      "print 1 or 2\n",
      "print \n",
      "print [[]] or 1 # [[]] \ucc38\uc73c\ub85c \uac04\uc8fc\n",
      "print [{}] or 1 # [{}] \ucc38\uc73c\ub85c \uac04\uc8fc\n",
      "print '' or 1   # \ube48 \ubb38\uc790\uc5f4('')\uc740 \uac70\uc9d3"
     ],
     "language": "python",
     "metadata": {},
     "outputs": [
      {
       "output_type": "stream",
       "stream": "stdout",
       "text": [
        "2\n",
        "1\n",
        "\n",
        "[[]]\n",
        "[{}]\n",
        "1\n"
       ]
      }
     ],
     "prompt_number": 12
    },
    {
     "cell_type": "code",
     "collapsed": false,
     "input": [
      "print not(True)\n",
      "print not(1 and 2)\n",
      "print not('' or 1)"
     ],
     "language": "python",
     "metadata": {},
     "outputs": [
      {
       "output_type": "stream",
       "stream": "stdout",
       "text": [
        "False\n",
        "False\n",
        "False\n"
       ]
      }
     ],
     "prompt_number": 3
    },
    {
     "cell_type": "markdown",
     "metadata": {},
     "source": [
      "***\n",
      "## [\ucc38\uace0] \uc5f0\uc0b0\uc790 \uc6b0\uc120 \uc21c\uc704 \ud45c\n",
      "***"
     ]
    },
    {
     "cell_type": "markdown",
     "metadata": {},
     "source": [
      "- \uc5f0\uc0b0\uc790 \uc6b0\uc120 \uc21c\uc704 \ud45c: https://wikidocs.net/1165\n",
      "- \uc2e4\uc81c \ucf54\ub4dc \uac1c\ubc1c\uc744 \ud560 \ub54c\uc5d0\ub294 \uc5f0\uc0b0\uc790 \uc6b0\uc120 \uc21c\uc704\uc5d0 \ub9ce\uc740 \uc758\uc874 \uc5c6\uc774 \uad04\ud638(())\ub97c \uc801\uc808\ud558\uac8c \uc0ac\uc6a9\ud558\uc5ec \ucf54\ub4dc\uc758 \uac00\ub3c5\uc131\uc744 \ub192\uc774\ub294 \uac83\uc774 \uc88b\ub2e4."
     ]
    },
    {
     "cell_type": "markdown",
     "metadata": {},
     "source": [
      "<p style='text-align: right;'>\ucc38\uace0 \ubb38\ud5cc: \ud30c\uc774\uc36c(\uc5f4\ud608\uac15\uc758)(\uac1c\uc815\ud310 VER.2), \uc774\uac15\uc131, FreeLec, 2005\ub144 8\uc6d4 29\uc77c</p>"
     ]
    }
   ],
   "metadata": {}
  }
 ]
}