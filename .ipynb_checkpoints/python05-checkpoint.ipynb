{
 "metadata": {
  "name": "",
  "signature": "sha256:6b6096c2d4f512f9e7688134bf35d09798e3daaa39529896113814f901e6316e"
 },
 "nbformat": 3,
 "nbformat_minor": 0,
 "worksheets": [
  {
   "cells": [
    {
     "cell_type": "markdown",
     "metadata": {},
     "source": [
      "***\n",
      "***\n",
      "# 5. \uc81c\uc5b4\ubb38\uacfc \ud568\uc218 \uae30\ucd08\n",
      "***\n",
      "***"
     ]
    },
    {
     "cell_type": "markdown",
     "metadata": {},
     "source": [
      "***\n",
      "## 1 \ud30c\uc774\uc36c \uc81c\uc5b4\ubb38\n",
      "***"
     ]
    },
    {
     "cell_type": "markdown",
     "metadata": {},
     "source": [
      "### 1-1 \ub4e4\uc5ec\uc4f0\uae30\uc640 \uc81c\uc5b4\ubb38"
     ]
    },
    {
     "cell_type": "markdown",
     "metadata": {},
     "source": [
      "- \ud30c\uc774\uc36c\uc740 \ub4e4\uc5ec\uc4f0\uae30\ub97c \uac15\uc81c\ud558\uc5ec \ucf54\ub4dc\uc758 \uac00\ub3c5\uc131\uc744 \ub192\uc778\ub2e4.\n",
      "- \uac00\uc7a5 \ubc14\uae65\ucabd\uc758 \ucf54\ub4dc\ub294 \ubc18\ub4dc\uc2dc 1\uc5f4\uc5d0 \uc2dc\uc791\ud55c\ub2e4.\n",
      "- \ube14\ub85d \ub0b4\ubd80\uc5d0 \uc788\ub294 statement\ub4e4\uc740 \ub3d9\uc77c\ud55c \uc5f4\uc5d0 \uc704\uce58\ud574\uc57c \ud55c\ub2e4.\n",
      "- \ube14\ub85d\uc758 \ub05d\uc740 \ub4e4\uc5ec\uc4f0\uae30\uac00 \ub05d\ub098\ub294 \ubd80\ubd84\uc73c\ub85c \uac04\uc8fc\ub41c\ub2e4.\n",
      "  - python\uc5d0\ub294 {, }, begin, end \ub4f1\uc758 \ud0a4\uc6cc\ub4dc\uac00 \uc874\uc7ac\ud558\uc9c0 \uc54a\ub294\ub2e4.\n",
      "- \ub4e4\uc5ec\uc4f0\uae30\ub97c \ud560 \ub54c\uc5d0\ub294 \ud0ed\uacfc \uacf5\ubc31\uc744 \uc11e\uc5b4 \uc4f0\uc9c0 \uc54a\ub294\ub2e4."
     ]
    },
    {
     "cell_type": "code",
     "collapsed": false,
     "input": [
      "a = 1 # \uc131\uacf5\n",
      " a = 1 # \uc2e4\ud328"
     ],
     "language": "python",
     "metadata": {},
     "outputs": [
      {
       "ename": "IndentationError",
       "evalue": "unexpected indent (<ipython-input-160-0453a5e2fe16>, line 2)",
       "output_type": "pyerr",
       "traceback": [
        "\u001b[0;36m  File \u001b[0;32m\"<ipython-input-160-0453a5e2fe16>\"\u001b[0;36m, line \u001b[0;32m2\u001b[0m\n\u001b[0;31m    a = 1 # \uc2e4\ud328\u001b[0m\n\u001b[0m    ^\u001b[0m\n\u001b[0;31mIndentationError\u001b[0m\u001b[0;31m:\u001b[0m unexpected indent\n"
       ]
      }
     ],
     "prompt_number": 160
    },
    {
     "cell_type": "code",
     "collapsed": false,
     "input": [
      "if a > 1:\n",
      "    print 'big'\n",
      "     print 'really?'"
     ],
     "language": "python",
     "metadata": {},
     "outputs": [
      {
       "ename": "IndentationError",
       "evalue": "unexpected indent (<ipython-input-161-96672a766929>, line 3)",
       "output_type": "pyerr",
       "traceback": [
        "\u001b[0;36m  File \u001b[0;32m\"<ipython-input-161-96672a766929>\"\u001b[0;36m, line \u001b[0;32m3\u001b[0m\n\u001b[0;31m    print 'really?'\u001b[0m\n\u001b[0m    ^\u001b[0m\n\u001b[0;31mIndentationError\u001b[0m\u001b[0;31m:\u001b[0m unexpected indent\n"
       ]
      }
     ],
     "prompt_number": 161
    },
    {
     "cell_type": "markdown",
     "metadata": {},
     "source": [
      "### 1-2 if\ubb38\n",
      "- if\ubb38\uc758 \ud615\uc2dd\n",
      "\n",
      "> if \uc870\uac74\uc2dd1:\n",
      "\n",
      "> &nbsp;&nbsp;statements\n",
      "\n",
      "> elif \uc870\uac74\uc2dd2:\n",
      "\n",
      "> &nbsp;&nbsp;statements\n",
      "\n",
      "> elif \uc870\uac74\uc2dd3:\n",
      "\n",
      "> &nbsp;&nbsp;statements\n",
      "\n",
      "> else:\n",
      "\n",
      "> &nbsp;&nbsp;statements\n",
      "\n",
      "- \uc870\uac74\uc2dd\uc774\ub098 else \ub2e4\uc74c\uc5d0 \ucf5c\ub860(:) \ud45c\uae30 \ud544\uc694\n",
      "- \ub4e4\uc5ec\uc4f0\uae30(indentation)\ub97c \uc798 \uc9c0\ucf1c\uc57c \ud568"
     ]
    },
    {
     "cell_type": "code",
     "collapsed": false,
     "input": [
      "score = 90\n",
      "if score >= 90:\n",
      "    print 'Congratulations!!! '"
     ],
     "language": "python",
     "metadata": {},
     "outputs": [
      {
       "output_type": "stream",
       "stream": "stdout",
       "text": [
        "Congratulations!!! \n"
       ]
      }
     ],
     "prompt_number": 153
    },
    {
     "cell_type": "code",
     "collapsed": false,
     "input": [
      "a = 10\n",
      "if a > 5:\n",
      "    print 'Big'\n",
      "else:\n",
      "    print 'Small'"
     ],
     "language": "python",
     "metadata": {},
     "outputs": [
      {
       "output_type": "stream",
       "stream": "stdout",
       "text": [
        "Big\n"
       ]
      }
     ],
     "prompt_number": 61
    },
    {
     "cell_type": "markdown",
     "metadata": {},
     "source": [
      "- statement\uac00 1\uac1c\uc778 \uacbd\uc6b0 \uc870\uac74\uc2dd\uacfc \ud55c \uc904\uc5d0 \uc704\uce58 \uac00\ub2a5 (\ucd94\ucc9c\ud558\uc9c0\ub294 \uc54a\uc74c)"
     ]
    },
    {
     "cell_type": "code",
     "collapsed": false,
     "input": [
      "a = 10\n",
      "if a > 5: print 'Big'\n",
      "else: print 'Small'"
     ],
     "language": "python",
     "metadata": {},
     "outputs": [
      {
       "output_type": "stream",
       "stream": "stdout",
       "text": [
        "Big\n"
       ]
      }
     ],
     "prompt_number": 155
    },
    {
     "cell_type": "code",
     "collapsed": false,
     "input": [
      "n = -2\n",
      "if n > 0:\n",
      "    print 'Positive'\n",
      "elif n < 0:\n",
      "    print 'Negative'\n",
      "else:\n",
      "    print 'Zero'"
     ],
     "language": "python",
     "metadata": {},
     "outputs": [
      {
       "output_type": "stream",
       "stream": "stdout",
       "text": [
        "Negative\n"
       ]
      }
     ],
     "prompt_number": 156
    },
    {
     "cell_type": "code",
     "collapsed": false,
     "input": [
      "order = 'spagetti'\n",
      "\n",
      "if order == 'spam':\n",
      "    price = 500\n",
      "elif order == 'ham':\n",
      "    price = 700\n",
      "elif order == 'egg':\n",
      "    price = 300\n",
      "elif order == 'spagetti':\n",
      "    price = 900\n",
      "    \n",
      "print price"
     ],
     "language": "python",
     "metadata": {},
     "outputs": [
      {
       "output_type": "stream",
       "stream": "stdout",
       "text": [
        "900\n"
       ]
      }
     ],
     "prompt_number": 65
    },
    {
     "cell_type": "markdown",
     "metadata": {},
     "source": [
      "- \uc704 \ucf54\ub4dc\uc640 \ub3d9\uc77c\ud55c dictionary \uc790\ub8cc\uad6c\uc870\ub97c \uc0ac\uc6a9\ud55c \ucf54\ub4dc"
     ]
    },
    {
     "cell_type": "code",
     "collapsed": false,
     "input": [
      "order = 'spagetti'\n",
      "menu = {'spam':500, 'ham':700, 'egg':300, 'spagetti':900}\n",
      "price = menu[order]\n",
      "print price"
     ],
     "language": "python",
     "metadata": {},
     "outputs": [
      {
       "output_type": "stream",
       "stream": "stdout",
       "text": [
        "900\n"
       ]
      }
     ],
     "prompt_number": 66
    },
    {
     "cell_type": "markdown",
     "metadata": {},
     "source": [
      "### 1-3 for\ubb38\n",
      "\n",
      "> if <\ud0c0\uac9f> in <\ucee8\ud14c\uc774\ub108 \uac1d\uccb4>:\n",
      "\n",
      "> &nbsp;&nbsp;statements\n",
      "\n",
      "> else:\n",
      "\n",
      "> &nbsp;&nbsp;statements"
     ]
    },
    {
     "cell_type": "code",
     "collapsed": false,
     "input": [
      "a = ['cat', 'cow', 'tiger']\n",
      "for x in a:\n",
      "    print len(x), x"
     ],
     "language": "python",
     "metadata": {},
     "outputs": [
      {
       "output_type": "stream",
       "stream": "stdout",
       "text": [
        "3 cat\n",
        "3 cow\n",
        "5 tiger\n"
       ]
      }
     ],
     "prompt_number": 168
    },
    {
     "cell_type": "code",
     "collapsed": false,
     "input": [
      "for x in [1,2,3]:\n",
      "    print x,"
     ],
     "language": "python",
     "metadata": {},
     "outputs": [
      {
       "output_type": "stream",
       "stream": "stdout",
       "text": [
        "1 2 3\n"
       ]
      }
     ],
     "prompt_number": 169
    },
    {
     "cell_type": "code",
     "collapsed": false,
     "input": [
      "print range(10)\n",
      "\n",
      "for x in range(10):\n",
      "    print x,"
     ],
     "language": "python",
     "metadata": {},
     "outputs": [
      {
       "output_type": "stream",
       "stream": "stdout",
       "text": [
        "[0, 1, 2, 3, 4, 5, 6, 7, 8, 9]\n",
        "0 1 2 3 4 5 6 7 8 9\n"
       ]
      }
     ],
     "prompt_number": 172
    },
    {
     "cell_type": "code",
     "collapsed": false,
     "input": [
      "sum = 0\n",
      "for x in range(1, 11):\n",
      "    sum = sum + x\n",
      "    \n",
      "print sum"
     ],
     "language": "python",
     "metadata": {},
     "outputs": [
      {
       "output_type": "stream",
       "stream": "stdout",
       "text": [
        "55\n"
       ]
      }
     ],
     "prompt_number": 174
    },
    {
     "cell_type": "code",
     "collapsed": false,
     "input": [
      "prod = 1\n",
      "for x in range(1, 11):\n",
      "    prod = prod * x\n",
      "    \n",
      "prod"
     ],
     "language": "python",
     "metadata": {},
     "outputs": [
      {
       "metadata": {},
       "output_type": "pyout",
       "prompt_number": 175,
       "text": [
        "3628800"
       ]
      }
     ],
     "prompt_number": 175
    },
    {
     "cell_type": "markdown",
     "metadata": {},
     "source": [
      "- enumerate() \ub0b4\uc7a5 \ud568\uc218: \ucee8\ud14c\uc774\ub108 \uac1d\uccb4\uac00 \uc9c0\ub2cc \uac01 \uc694\uc18c\uac12\ubfd0\ub9cc \uc544\ub2c8\ub77c \uc778\ub371\uc2a4 \uac12\ub3c4 \ud568\uaed8 \ubc18\ud658\ud55c\ub2e4."
     ]
    },
    {
     "cell_type": "code",
     "collapsed": false,
     "input": [
      "l = ['cat', 'dog', 'bird', 'pig']\n",
      "for k, animal in enumerate(l):\n",
      "    print k, animal"
     ],
     "language": "python",
     "metadata": {},
     "outputs": [
      {
       "output_type": "stream",
       "stream": "stdout",
       "text": [
        "0 cat\n",
        "1 dog\n",
        "2 bird\n",
        "3 pig\n"
       ]
      }
     ],
     "prompt_number": 67
    },
    {
     "cell_type": "code",
     "collapsed": false,
     "input": [
      "t = ('cat', 'dog', 'bird', 'pig')\n",
      "for k, animal in enumerate(t):\n",
      "    print k, animal"
     ],
     "language": "python",
     "metadata": {},
     "outputs": [
      {
       "output_type": "stream",
       "stream": "stdout",
       "text": [
        "0 cat\n",
        "1 dog\n",
        "2 bird\n",
        "3 pig\n"
       ]
      }
     ],
     "prompt_number": 68
    },
    {
     "cell_type": "code",
     "collapsed": false,
     "input": [
      "d = {'c':'cat', 'd':'dog', 'b':'bird', 'p':'pig'}\n",
      "for k, key in enumerate(d):\n",
      "    print k, key, d[key]"
     ],
     "language": "python",
     "metadata": {},
     "outputs": [
      {
       "output_type": "stream",
       "stream": "stdout",
       "text": [
        "0 p pig\n",
        "1 c cat\n",
        "2 b bird\n",
        "3 d dog\n"
       ]
      }
     ],
     "prompt_number": 71
    },
    {
     "cell_type": "markdown",
     "metadata": {},
     "source": [
      "- break: \ub8e8\ud504\ub97c \ube60\uc838\ub098\uac04\ub2e4."
     ]
    },
    {
     "cell_type": "code",
     "collapsed": false,
     "input": [
      "for x in range(10):\n",
      "    if x > 3: break\n",
      "    print x\n",
      "    \n",
      "print 'done'"
     ],
     "language": "python",
     "metadata": {},
     "outputs": [
      {
       "output_type": "stream",
       "stream": "stdout",
       "text": [
        "0\n",
        "1\n",
        "2\n",
        "3\n",
        "done\n"
       ]
      }
     ],
     "prompt_number": 176
    },
    {
     "cell_type": "markdown",
     "metadata": {},
     "source": [
      "- continue: \ub8e8\ud504 \ube14\ub85d \ub0b4\uc758 continue \uc774\ud6c4 \ubd80\ubd84\uc740 \uc218\ud589\ud558\uc9c0 \uc54a\uace0 \ub8e8\ud504\uc758 \uc2dc\uc791\ubd80\ubd84\uc73c\ub85c \uc774\ub3d9\ud55c\ub2e4."
     ]
    },
    {
     "cell_type": "code",
     "collapsed": false,
     "input": [
      "for x in range(10):\n",
      "    if x < 8: continue\n",
      "    print x\n",
      "    \n",
      "print 'done'"
     ],
     "language": "python",
     "metadata": {},
     "outputs": [
      {
       "output_type": "stream",
       "stream": "stdout",
       "text": [
        "8\n",
        "9\n",
        "done\n"
       ]
      }
     ],
     "prompt_number": 177
    },
    {
     "cell_type": "markdown",
     "metadata": {},
     "source": [
      "- else: \ub8e8\ud504\uac00 break\uc5d0 \uc758\ud55c \uc911\ub2e8 \uc5c6\uc774 \uc815\uc0c1\uc801\uc73c\ub85c \ubaa8\ub450 \uc218\ud589\ub418\uba74 else \ube14\ub85d\uc774 \uc218\ud589\ub41c\ub2e4."
     ]
    },
    {
     "cell_type": "code",
     "collapsed": false,
     "input": [
      "for x in range(10):\n",
      "    print x,          # \ucf64\ub9c8(,) \ub54c\ubb38\uc5d0 \uc904\uc774 \ubc14\ub00c\uc9c0 \uc54a\ub294\ub2e4.\n",
      "else:\n",
      "    print 'else block'\n",
      "\n",
      "print 'done'"
     ],
     "language": "python",
     "metadata": {},
     "outputs": [
      {
       "output_type": "stream",
       "stream": "stdout",
       "text": [
        "0 1 2 3 4 5 6 7 8 9 else block\n",
        "done\n"
       ]
      }
     ],
     "prompt_number": 73
    },
    {
     "cell_type": "markdown",
     "metadata": {},
     "source": [
      "- break\uc5d0 \uc758\ud558\uc5ec \ub8e8\ud504\ub97c \ube60\uc838\ub098\uac00\uba74 else \ube14\ub85d\ub3c4 \uc218\ud589\ub418\uc9c0 \uc54a\ub294\ub2e4."
     ]
    },
    {
     "cell_type": "code",
     "collapsed": false,
     "input": [
      "for x in range(10):\n",
      "    break\n",
      "    print x,\n",
      "else:\n",
      "    print 'else block'\n",
      "    \n",
      "print 'done'"
     ],
     "language": "python",
     "metadata": {},
     "outputs": [
      {
       "output_type": "stream",
       "stream": "stdout",
       "text": [
        "done\n"
       ]
      }
     ],
     "prompt_number": 179
    },
    {
     "cell_type": "markdown",
     "metadata": {},
     "source": [
      "- for \ub8e8\ud504\uc758 \uc911\ucca9"
     ]
    },
    {
     "cell_type": "code",
     "collapsed": false,
     "input": [
      "for x in range(2, 4):\n",
      "    for y in range(2, 10):\n",
      "        print x, '*', y, '=', x*y\n",
      "    print"
     ],
     "language": "python",
     "metadata": {},
     "outputs": [
      {
       "output_type": "stream",
       "stream": "stdout",
       "text": [
        "2 * 2 = 4\n",
        "2 * 3 = 6\n",
        "2 * 4 = 8\n",
        "2 * 5 = 10\n",
        "2 * 6 = 12\n",
        "2 * 7 = 14\n",
        "2 * 8 = 16\n",
        "2 * 9 = 18\n",
        "\n",
        "3 * 2 = 6\n",
        "3 * 3 = 9\n",
        "3 * 4 = 12\n",
        "3 * 5 = 15\n",
        "3 * 6 = 18\n",
        "3 * 7 = 21\n",
        "3 * 8 = 24\n",
        "3 * 9 = 27\n",
        "\n"
       ]
      }
     ],
     "prompt_number": 182
    },
    {
     "cell_type": "markdown",
     "metadata": {},
     "source": [
      "### 1-4 while\ubb38"
     ]
    },
    {
     "cell_type": "markdown",
     "metadata": {},
     "source": [
      "- while \uc870\uac74\uc2dd\uc774 \ub9cc\uc871\ud558\ub294 \ub3d9\uc548 while \ube14\ub85d\ub0b4\uc758 statements \ub4e4\uc744 \ubc18\ubcf5 \uc218\ud589\ud55c\ub2e4."
     ]
    },
    {
     "cell_type": "code",
     "collapsed": false,
     "input": [
      "count = 1\n",
      "while count < 11:\n",
      "    print count\n",
      "    count = count + 1"
     ],
     "language": "python",
     "metadata": {},
     "outputs": [
      {
       "output_type": "stream",
       "stream": "stdout",
       "text": [
        "1\n",
        "2\n",
        "3\n",
        "4\n",
        "5\n",
        "6\n",
        "7\n",
        "8\n",
        "9\n",
        "10\n"
       ]
      }
     ],
     "prompt_number": 183
    },
    {
     "cell_type": "code",
     "collapsed": false,
     "input": [
      "sum = 0\n",
      "a = 0\n",
      "while a < 10:\n",
      "    a = a + 1\n",
      "    sum = sum + a\n",
      "print sum"
     ],
     "language": "python",
     "metadata": {},
     "outputs": [
      {
       "output_type": "stream",
       "stream": "stdout",
       "text": [
        "55\n"
       ]
      }
     ],
     "prompt_number": 1
    },
    {
     "cell_type": "code",
     "collapsed": false,
     "input": [
      "x = 0\n",
      "while x < 10:\n",
      "    print x,          # \ucf64\ub9c8(,) \ub54c\ubb38\uc5d0 \uc904\uc774 \ubc14\ub00c\uc9c0 \uc54a\ub294\ub2e4.\n",
      "    x = x + 1\n",
      "else:\n",
      "    print 'else block'\n",
      "\n",
      "print 'done'"
     ],
     "language": "python",
     "metadata": {},
     "outputs": [
      {
       "output_type": "stream",
       "stream": "stdout",
       "text": [
        "0 1 2 3 4 5 6 7 8 9 else block\n",
        "done\n"
       ]
      }
     ],
     "prompt_number": 6
    },
    {
     "cell_type": "code",
     "collapsed": false,
     "input": [
      "x = 0\n",
      "while x < 10:\n",
      "    break\n",
      "    print x,\n",
      "    x = x + 1\n",
      "else:\n",
      "    print 'else block'\n",
      "    \n",
      "print 'done'"
     ],
     "language": "python",
     "metadata": {},
     "outputs": [
      {
       "output_type": "stream",
       "stream": "stdout",
       "text": [
        "done\n"
       ]
      }
     ],
     "prompt_number": 1
    },
    {
     "cell_type": "markdown",
     "metadata": {},
     "source": [
      "- \uc544\ub798 \ucf54\ub4dc\uc5d0\uc11c continue \ub294 \ud544\uc694\ud55c \uad6c\ubb38\uc778\uac00?\n",
      "- \uc544\ub798 \ucf54\ub4dc\uc5d0\uc11c else: \ub294 while\uacfc if \uc911 \uc5b4\ub290 \ud0a4\uc6cc\ub4dc\uc640 \uc5f0\uacb0\ub418\ub294\uac00?"
     ]
    },
    {
     "cell_type": "code",
     "collapsed": false,
     "input": [
      "x = 0\n",
      "while x < 10:\n",
      "    if x < 8:\n",
      "        x = x + 1\n",
      "        continue\n",
      "    else:\n",
      "        print x,\n",
      "        x = x + 1\n",
      "    \n",
      "print 'done'"
     ],
     "language": "python",
     "metadata": {},
     "outputs": [
      {
       "output_type": "stream",
       "stream": "stdout",
       "text": [
        "8 9 done\n"
       ]
      }
     ],
     "prompt_number": 5
    },
    {
     "cell_type": "markdown",
     "metadata": {},
     "source": [
      "***\n",
      "## 2 \ud568\uc218\n",
      "***\n",
      "- \ud568\uc218\ub294 \ubc18\ubcf5\uc801\uc778 \ucf54\ub4dc\ub97c \uc5c6\uc5d0 \uc8fc\uc5b4 \ucf54\ub4dc\uc758 \uae38\uc774\ub97c \uc9e7\uac8c \ub9cc\ub4e4\uc5b4 \uc900\ub2e4.\n",
      "- \ucf54\ub4dc\uc758 \uc720\uc9c0\ubcf4\uc218\ub97c \uc27d\uac8c \ub9cc\ub4e4\uc5b4 \uc900\ub2e4."
     ]
    },
    {
     "cell_type": "code",
     "collapsed": false,
     "input": [
      "def add(a, b):\n",
      "    return a + b\n",
      "\n",
      "print add(3, 4)\n",
      "\n",
      "print add([1,2,3], [4,5,6])"
     ],
     "language": "python",
     "metadata": {},
     "outputs": [
      {
       "output_type": "stream",
       "stream": "stdout",
       "text": [
        "7\n",
        "[1, 2, 3, 4, 5, 6]\n"
       ]
      }
     ],
     "prompt_number": 6
    },
    {
     "cell_type": "markdown",
     "metadata": {},
     "source": [
      "- \uc778\uc790\uc758 \uc774\ub984\uacfc \ud568\uaed8 \uc778\uc790 \uac12\uc744 \ub118\uaca8\uc904 \uc218 \uc788\ub2e4."
     ]
    },
    {
     "cell_type": "code",
     "collapsed": false,
     "input": [
      "def minus(a, b):\n",
      "    return a - b\n",
      "print minus(a=12, b=20)\n",
      "print minus(b=20, a=12)"
     ],
     "language": "python",
     "metadata": {},
     "outputs": [
      {
       "output_type": "stream",
       "stream": "stdout",
       "text": [
        "-8\n",
        "-8\n"
       ]
      }
     ],
     "prompt_number": 7
    },
    {
     "cell_type": "markdown",
     "metadata": {},
     "source": [
      "- \uc778\uc790\uc758 \ub514\ud3f4\ud2b8 \uac12\uc744 \uc9c0\uc815\ud560 \uc218 \uc788\ub2e4."
     ]
    },
    {
     "cell_type": "code",
     "collapsed": false,
     "input": [
      "def incr(x, y=1):\n",
      "    return x + y\n",
      "\n",
      "print incr(5)\n",
      "\n",
      "print incr(5, 10)"
     ],
     "language": "python",
     "metadata": {},
     "outputs": [
      {
       "output_type": "stream",
       "stream": "stdout",
       "text": [
        "6\n",
        "15\n"
       ]
      }
     ],
     "prompt_number": 9
    },
    {
     "cell_type": "markdown",
     "metadata": {},
     "source": [
      "- \ub450 \uac1c \uc774\uc0c1\uc758 \uac12\uc744 \ub3d9\uc2dc\uc5d0 \ubc18\ud658\ud560 \uc218 \uc788\ub2e4."
     ]
    },
    {
     "cell_type": "code",
     "collapsed": false,
     "input": [
      "def calc(x, y):\n",
      "    return x + y, x - y, x * y, x / y\n",
      "\n",
      "print calc(10, 2)"
     ],
     "language": "python",
     "metadata": {},
     "outputs": [
      {
       "output_type": "stream",
       "stream": "stdout",
       "text": [
        "(12, 8, 20, 5)\n"
       ]
      }
     ],
     "prompt_number": 1
    }
   ],
   "metadata": {}
  }
 ]
}