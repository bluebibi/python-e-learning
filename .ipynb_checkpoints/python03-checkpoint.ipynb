{
 "metadata": {
  "name": "",
  "signature": "sha256:2d49299e4d32bf96efb88eb4a51ccd828d21938c091d352c424ee22b26723be3"
 },
 "nbformat": 3,
 "nbformat_minor": 0,
 "worksheets": [
  {
   "cells": [
    {
     "cell_type": "markdown",
     "metadata": {},
     "source": [
      "***\n",
      "***\n",
      "# 3. \ub0b4\uc7a5 \uc790\ub8cc\ud615\uc758 \uae30\ucd08\n",
      "***\n",
      "***"
     ]
    },
    {
     "cell_type": "markdown",
     "metadata": {},
     "source": [
      "***\n",
      "## 1 \uc218\uce58\ud615\n",
      "***"
     ]
    },
    {
     "cell_type": "markdown",
     "metadata": {},
     "source": [
      "### 1-1 \uc815\uc218\ud615 \uc0c1\uc218"
     ]
    },
    {
     "cell_type": "code",
     "collapsed": false,
     "input": [
      "a = 23      # 10\uc9c4 \uc815\uc218\n",
      "b = 023     # 8\uc9c4 \uc815\uc218\n",
      "c = 0x23    # 16\uc9c4 \uc815\uc218\n",
      "print type(a), type(b), type(c)\n",
      "print a, b, c"
     ],
     "language": "python",
     "metadata": {},
     "outputs": [
      {
       "output_type": "stream",
       "stream": "stdout",
       "text": [
        "<type 'int'> <type 'int'> <type 'int'>\n",
        "23 19 35\n"
       ]
      }
     ],
     "prompt_number": 1
    },
    {
     "cell_type": "code",
     "collapsed": false,
     "input": [
      "import sys\n",
      "sys.maxint  # \ucd5c\ub300 \uc815\uc218 \uac12 \ud655\uc778"
     ],
     "language": "python",
     "metadata": {},
     "outputs": [
      {
       "metadata": {},
       "output_type": "pyout",
       "prompt_number": 8,
       "text": [
        "9223372036854775807"
       ]
      }
     ],
     "prompt_number": 8
    },
    {
     "cell_type": "markdown",
     "metadata": {},
     "source": [
      "### 1-2 \uc2e4\uc218\ud615 \uc0c1\uc218"
     ]
    },
    {
     "cell_type": "code",
     "collapsed": false,
     "input": [
      "a = 1.2\n",
      "b = 3.5e3\n",
      "c = -0.2e-4\n",
      "print type(a), type(b), type(c)\n",
      "print a, b, c"
     ],
     "language": "python",
     "metadata": {},
     "outputs": [
      {
       "output_type": "stream",
       "stream": "stdout",
       "text": [
        "<type 'float'> <type 'float'> <type 'float'>\n",
        "1.2 3500.0 -2e-05\n"
       ]
      }
     ],
     "prompt_number": 2
    },
    {
     "cell_type": "markdown",
     "metadata": {},
     "source": [
      "### 1-3 \ub871\ud615 \uc0c1\uc218\n",
      "- \uba54\ubaa8\ub9ac\uac00 \ud5c8\uc6a9\ud558\ub294 \ud55c \uc720\ud6a8\uc790\ub9ac\uc218\ub294 \ubb34\ud55c\ub300"
     ]
    },
    {
     "cell_type": "code",
     "collapsed": false,
     "input": [
      "h1 = 123456789012345678901234567890L    # \ub9c8\uc9c0\ub9c9\uc5d0 L\uc744 \ubd99\uc5ec\uc11c \uba85\uc2dc\uc801\uc73c\ub85c long \ud615\uc774\ub77c\uace0 \uc54c\ub824\ub3c4 \ub418\uace0\n",
      "print type(h1)\n",
      "print h1 * h1\n",
      "print\n",
      "\n",
      "h2 = 123456789012345678901234567890     # L\uc744 \ubd99\uc774\uc9c0 \uc54a\uc544\ub3c4 int\ud615\uc774 \ub2f4\uc744 \uc218 \uc788\ub294 \uc218\uce58\ub97c \ucd08\uacfc\ud558\uba74 \uc790\ub3d9\uc73c\ub85c long\ud615\uc774 \ub41c\ub2e4.    \n",
      "print type(h2)\n",
      "print h2 * h2\n",
      "print\n",
      "\n",
      "h3 = 123L\n",
      "print type(h3)\n",
      "print\n",
      "\n",
      "h4 = 123\n",
      "print type(h4)"
     ],
     "language": "python",
     "metadata": {},
     "outputs": [
      {
       "output_type": "stream",
       "stream": "stdout",
       "text": [
        "<type 'long'>\n",
        "15241578753238836750495351562536198787501905199875019052100\n",
        "\n",
        "<type 'long'>\n",
        "15241578753238836750495351562536198787501905199875019052100\n",
        "\n",
        "<type 'long'>\n",
        "\n",
        "<type 'int'>\n"
       ]
      }
     ],
     "prompt_number": 2
    },
    {
     "cell_type": "code",
     "collapsed": false,
     "input": [
      "hexa = 0x123456789L   # 16\uc9c4\ubc95 long\ud615\n",
      "hexa"
     ],
     "language": "python",
     "metadata": {},
     "outputs": [
      {
       "metadata": {},
       "output_type": "pyout",
       "prompt_number": 18,
       "text": [
        "4886718345L"
       ]
      }
     ],
     "prompt_number": 18
    },
    {
     "cell_type": "code",
     "collapsed": false,
     "input": [
      "123456789012345678890  # \uc790\ub3d9 long\ud615 \ubcc0\ud658"
     ],
     "language": "python",
     "metadata": {},
     "outputs": [
      {
       "metadata": {},
       "output_type": "pyout",
       "prompt_number": 15,
       "text": [
        "123456789012345678890L"
       ]
      }
     ],
     "prompt_number": 15
    },
    {
     "cell_type": "markdown",
     "metadata": {},
     "source": [
      "### 1-4 \ubcf5\uc18c\uc218\ud615 \uc0c1\uc218"
     ]
    },
    {
     "cell_type": "code",
     "collapsed": false,
     "input": [
      "a = 10 + 20j\n",
      "print a\n",
      "\n",
      "b = 10 + 5j\n",
      "print a + b"
     ],
     "language": "python",
     "metadata": {},
     "outputs": [
      {
       "output_type": "stream",
       "stream": "stdout",
       "text": [
        "(10+20j)\n",
        "(20+25j)\n"
       ]
      }
     ],
     "prompt_number": 3
    },
    {
     "cell_type": "markdown",
     "metadata": {},
     "source": [
      "### 1-5 \uc218\uce58 \uc790\ub8cc\ud615\uc758 \uce58\ud658\n",
      "- \uc544\ub798 \uc608\uc5d0\uc11c\ub294 x\uac00 \uc9c0\ub2c8\uace0 \uc788\ub294 1\uc758 \uac12\uc774 \ubcc0\uacbd\ub418\ub294 \uac83\uc774 \uc544\ub2c8\ub77c \uc0c8\ub85c\uc6b4 \uac1d\uccb4 2\ub85c \ub808\ud37c\ub7f0\uc2a4\ub97c \ubcc0\uacbd\ud558\ub294 \uac83\uc784"
     ]
    },
    {
     "cell_type": "code",
     "collapsed": false,
     "input": [
      "x = 1\n",
      "x = 2"
     ],
     "language": "python",
     "metadata": {},
     "outputs": [],
     "prompt_number": 18
    },
    {
     "cell_type": "markdown",
     "metadata": {},
     "source": [
      "![image1](images/referenceChangeNumerical.png)"
     ]
    },
    {
     "cell_type": "markdown",
     "metadata": {},
     "source": [
      "### 1-6 \uc218\uce58 \uc5f0\uc0b0\uacfc \uad00\ub828\ub41c \ub0b4\uc7a5 \ud568\uc218"
     ]
    },
    {
     "cell_type": "code",
     "collapsed": false,
     "input": [
      "print abs(-3)\n",
      "print int(3.141592)\n",
      "print int(-3.1415)\n",
      "print long(3)\n",
      "print float(5)\n",
      "print complex(3.4, 5)\n",
      "print complex(6)"
     ],
     "language": "python",
     "metadata": {},
     "outputs": [
      {
       "output_type": "stream",
       "stream": "stdout",
       "text": [
        "3\n",
        "3\n",
        "-3\n",
        "3\n",
        "5.0\n",
        "(3.4+5j)\n",
        "(6+0j)\n"
       ]
      }
     ],
     "prompt_number": 105
    },
    {
     "cell_type": "code",
     "collapsed": false,
     "input": [
      "print divmod(5, 2)\n",
      "print\n",
      "print pow(2, 3)\n",
      "print pow(2.3, 3.5)"
     ],
     "language": "python",
     "metadata": {},
     "outputs": [
      {
       "output_type": "stream",
       "stream": "stdout",
       "text": [
        "(2, 1)\n",
        "\n",
        "8\n",
        "18.4521691056\n"
       ]
      }
     ],
     "prompt_number": 1
    },
    {
     "cell_type": "markdown",
     "metadata": {},
     "source": [
      "### 1-7 math \ubaa8\ub4c8\uc758 \uc218\uce58 \uc5f0\uc0b0 \ud568\uc218"
     ]
    },
    {
     "cell_type": "code",
     "collapsed": false,
     "input": [
      "import math\n",
      "\n",
      "print math.pi\n",
      "print math.e\n",
      "print math.sin(1.0) # 1.0 \ub77c\ub514\uc548\uc5d0 \ub300\ud55c \uc0ac\uc778 \uac12\n",
      "print math.sqrt(2) # \uc81c\uacf1\uadfc"
     ],
     "language": "python",
     "metadata": {},
     "outputs": [
      {
       "output_type": "stream",
       "stream": "stdout",
       "text": [
        "3.14159265359\n",
        "2.71828182846\n",
        "0.841470984808\n",
        "1.41421356237\n"
       ]
      }
     ],
     "prompt_number": 109
    },
    {
     "cell_type": "code",
     "collapsed": false,
     "input": [
      "r = 5.0 # \ubc18\uc9c0\ub984\n",
      "a = math.pi * r * r # \uba74\uc801\n",
      "\n",
      "degree = 60.0\n",
      "rad = math.pi * degree / 180.0 # \uac01\ub3c4\ub97c \ub77c\ub514\uc548\uc73c\ub85c \ubcc0\ud658\n",
      "print math.sin(rad), math.cos(rad), math.tan(rad) #sin, cos, tan"
     ],
     "language": "python",
     "metadata": {},
     "outputs": [
      {
       "output_type": "stream",
       "stream": "stdout",
       "text": [
        "0.866025403784 0.5 1.73205080757\n"
       ]
      }
     ],
     "prompt_number": 111
    },
    {
     "cell_type": "markdown",
     "metadata": {},
     "source": [
      "***\n",
      "## 2 \ubb38\uc790\uc5f4\n",
      "***"
     ]
    },
    {
     "cell_type": "markdown",
     "metadata": {},
     "source": [
      "### 2-1 \ubb38\uc790\uc5f4 \ud615\uc2dd"
     ]
    },
    {
     "cell_type": "markdown",
     "metadata": {},
     "source": [
      "- \ud55c \uc904 \ubb38\uc790\uc5f4 \ud615\uc2dd\n",
      "  - \ub2e8\uc77c \ub530\uc634\ud45c\n",
      "  - \uc774\uc911 \ub530\uc634\ud45c"
     ]
    },
    {
     "cell_type": "code",
     "collapsed": false,
     "input": [
      "print 'Hello World!'\n",
      "\n",
      "print \"Hello World!\""
     ],
     "language": "python",
     "metadata": {},
     "outputs": [
      {
       "output_type": "stream",
       "stream": "stdout",
       "text": [
        "Hello World!\n",
        "Hello World!\n"
       ]
      }
     ],
     "prompt_number": 81
    },
    {
     "cell_type": "markdown",
     "metadata": {},
     "source": [
      "- \uc5ec\ub7ec \uc904 \ubb38\uc790\uc5f4 \ud615\uc2dd\n",
      "  - \uc5f0\uc18d\ub41c \ub2e8\uc77c \ub530\uc634\ud45c \uc138 \uac1c\n",
      "  - \uc5f0\uc18d\ub41c \uc774\uc911 \ub530\uc634\ud45c \uc138 \uac1c"
     ]
    },
    {
     "cell_type": "code",
     "collapsed": false,
     "input": [
      "multiline = '''\n",
      "To be, or not to be\n",
      "that is the question\n",
      "'''\n",
      "print multiline\n",
      "\n",
      "multiline2 = \"\"\"\n",
      "To be, or not to be\n",
      "that is the question\n",
      "\"\"\"\n",
      "print multiline2"
     ],
     "language": "python",
     "metadata": {},
     "outputs": [
      {
       "output_type": "stream",
       "stream": "stdout",
       "text": [
        "\n",
        "To be, or not to be\n",
        "that is the question\n",
        "\n",
        "\n",
        "To be, or not to be\n",
        "that is the question\n",
        "\n"
       ]
      }
     ],
     "prompt_number": 1
    },
    {
     "cell_type": "markdown",
     "metadata": {},
     "source": [
      "### 2-2 \uc778\ub371\uc2f1(Indexing)\uacfc \uc2ac\ub77c\uc774\uc2f1(Slicing)"
     ]
    },
    {
     "cell_type": "markdown",
     "metadata": {},
     "source": [
      "- Indexing"
     ]
    },
    {
     "cell_type": "code",
     "collapsed": false,
     "input": [
      "s = \"Hello world!\"\n",
      "print s[0]\n",
      "print s[1]\n",
      "print s[-1]\n",
      "print s[-2]"
     ],
     "language": "python",
     "metadata": {},
     "outputs": [
      {
       "output_type": "stream",
       "stream": "stdout",
       "text": [
        "H\n",
        "e\n",
        "!\n",
        "d\n"
       ]
      }
     ],
     "prompt_number": 82
    },
    {
     "cell_type": "markdown",
     "metadata": {},
     "source": [
      "- Slicing\n",
      "  - \ud615\uc2dd: [start(included) : stop(excluded) : step]\n",
      "  - \uae30\ubcf8\uac12: start - 0, stop - \uc790\ub8cc\ud615\uc758 \ud06c\uae30, step - 1"
     ]
    },
    {
     "cell_type": "code",
     "collapsed": false,
     "input": [
      "s = \"Hello world!\"\n",
      "print s[1:3]\n",
      "print s[0:5]"
     ],
     "language": "python",
     "metadata": {},
     "outputs": [
      {
       "output_type": "stream",
       "stream": "stdout",
       "text": [
        "el\n",
        "Hello\n"
       ]
      }
     ],
     "prompt_number": 83
    },
    {
     "cell_type": "code",
     "collapsed": false,
     "input": [
      "s = 'Hello'\n",
      "print s[1:]\n",
      "print s[:3]\n",
      "print s[:]"
     ],
     "language": "python",
     "metadata": {},
     "outputs": [
      {
       "output_type": "stream",
       "stream": "stdout",
       "text": [
        "ello\n",
        "Hel\n",
        "Hello\n"
       ]
      }
     ],
     "prompt_number": 85
    },
    {
     "cell_type": "code",
     "collapsed": false,
     "input": [
      "s = 'abcd'\n",
      "print s[::2]\n",
      "print s[::-1]"
     ],
     "language": "python",
     "metadata": {},
     "outputs": [
      {
       "output_type": "stream",
       "stream": "stdout",
       "text": [
        "ac\n",
        "dcba\n"
       ]
      }
     ],
     "prompt_number": 86
    },
    {
     "cell_type": "markdown",
     "metadata": {},
     "source": [
      "- \ubb38\uc790\uc5f4 \uc790\ub8cc\ud615\uc740 \ubcc0\uacbd\ub418\uc9c0 \uc54a\ub294\ub2e4."
     ]
    },
    {
     "cell_type": "code",
     "collapsed": false,
     "input": [
      "s = 'Hello World'\n",
      "s[0] = 'h'"
     ],
     "language": "python",
     "metadata": {},
     "outputs": [
      {
       "ename": "TypeError",
       "evalue": "'str' object does not support item assignment",
       "output_type": "pyerr",
       "traceback": [
        "\u001b[0;31m---------------------------------------------------------------------------\u001b[0m\n\u001b[0;31mTypeError\u001b[0m                                 Traceback (most recent call last)",
        "\u001b[0;32m<ipython-input-88-28020f3d59a5>\u001b[0m in \u001b[0;36m<module>\u001b[0;34m()\u001b[0m\n\u001b[1;32m      1\u001b[0m \u001b[0ms\u001b[0m \u001b[0;34m=\u001b[0m \u001b[0;34m'Hello World'\u001b[0m\u001b[0;34m\u001b[0m\u001b[0m\n\u001b[0;32m----> 2\u001b[0;31m \u001b[0ms\u001b[0m\u001b[0;34m[\u001b[0m\u001b[0;36m0\u001b[0m\u001b[0;34m]\u001b[0m \u001b[0;34m=\u001b[0m \u001b[0;34m'h'\u001b[0m\u001b[0;34m\u001b[0m\u001b[0m\n\u001b[0m",
        "\u001b[0;31mTypeError\u001b[0m: 'str' object does not support item assignment"
       ]
      }
     ],
     "prompt_number": 88
    },
    {
     "cell_type": "markdown",
     "metadata": {},
     "source": [
      "- \ubb38\uc790\uc5f4\uc744 \ubcc0\uacbd\ud558\ub824\uba74 Slicing \ubc0f \uc5f0\uacb0 \uc5f0\uc0b0 (+)\uc744 \uc8fc\ub85c \uc774\uc6a9\ud55c\ub2e4."
     ]
    },
    {
     "cell_type": "code",
     "collapsed": false,
     "input": [
      "s = 'Hello World'\n",
      "s = 'h' + s[1:]\n",
      "s"
     ],
     "language": "python",
     "metadata": {},
     "outputs": [
      {
       "metadata": {},
       "output_type": "pyout",
       "prompt_number": 9,
       "text": [
        "'hello World'"
       ]
      }
     ],
     "prompt_number": 9
    },
    {
     "cell_type": "markdown",
     "metadata": {},
     "source": [
      "### 2-3 \ubb38\uc790\uc5f4 \uc5f0\uc0b0\n",
      "- +: \uc5f0\uacb0\n",
      "- *: \ubc18\ubcf5"
     ]
    },
    {
     "cell_type": "code",
     "collapsed": false,
     "input": [
      "print 'Hello' + '' + 'World'\n",
      "print 'Hello' * 3\n",
      "print '-' * 60"
     ],
     "language": "python",
     "metadata": {},
     "outputs": [
      {
       "output_type": "stream",
       "stream": "stdout",
       "text": [
        "HelloWorld\n",
        "HelloHelloHello\n",
        "------------------------------------------------------------\n"
       ]
      }
     ],
     "prompt_number": 87
    },
    {
     "cell_type": "markdown",
     "metadata": {},
     "source": [
      "### 2-4 \ubb38\uc790\uc5f4\uc758 \uae38\uc774\n",
      "- len(): \ubb38\uc790\uc5f4\uc758 \uae38\uc774\ub97c \ubc18\ud658\ud558\ub294 \ub0b4\uc7a5\ud568\uc218"
     ]
    },
    {
     "cell_type": "code",
     "collapsed": false,
     "input": [
      "s = 'Hello World'\n",
      "len(s)"
     ],
     "language": "python",
     "metadata": {},
     "outputs": [
      {
       "metadata": {},
       "output_type": "pyout",
       "prompt_number": 90,
       "text": [
        "11"
       ]
      }
     ],
     "prompt_number": 90
    },
    {
     "cell_type": "markdown",
     "metadata": {},
     "source": [
      "### 2-5 \ubb38\uc790\uc5f4\ub0b4 \ud3ec\ud568 \uad00\uacc4 \uc5ec\ubd80\n",
      "- in, not in: \ubb38\uc790\uc5f4\ub0b4\uc5d0 \uc77c\ubd80 \ubb38\uc790\uc5f4\uc774 \ud3ec\ud568\ub418\uc5b4 \uc788\ub294\uc9c0\ub97c \ud30c\uc545\ud558\ub294 \ud0a4\uc6cc\ub4dc"
     ]
    },
    {
     "cell_type": "code",
     "collapsed": false,
     "input": [
      "s = 'Hello World'\n",
      "print 'World' in s\n",
      "print 'World' not in s"
     ],
     "language": "python",
     "metadata": {},
     "outputs": [
      {
       "output_type": "stream",
       "stream": "stdout",
       "text": [
        "True\n",
        "False\n"
       ]
      }
     ],
     "prompt_number": 92
    },
    {
     "cell_type": "markdown",
     "metadata": {},
     "source": [
      "***\n",
      "## 3 \ub9ac\uc2a4\ud2b8\n",
      "***"
     ]
    },
    {
     "cell_type": "markdown",
     "metadata": {},
     "source": [
      "### 3-1 \ub9ac\uc2a4\ud2b8\uc758 \uc815\uc758\uc640 \ub9ac\uc2a4\ud2b8 \uae30\ubcf8 \uc5f0\uc0b0\n",
      "- \ub9ac\uc2a4\ud2b8: \uc784\uc758\uc758 \uac1d\uccb4\ub97c \uc21c\ucc28\uc801\uc73c\ub85c \uc800\uc7a5\ud558\ub294 \uc9d1\ud569\uc801 \uc790\ub8cc\ud615\n",
      "- \ubb38\uc790\uc5f4\uc774 \uc9c0\ub2cc \ub300\ubd80\ubd84\uc758 \uc5f0\uc0b0\ub4e4\uc740 \ub9ac\uc2a4\ud2b8\ub3c4 \uc9c0\uc6d0"
     ]
    },
    {
     "cell_type": "code",
     "collapsed": false,
     "input": [
      "L = [1,2,3]\n",
      "print type(L)\n",
      "print\n",
      "print len(L)\n",
      "print\n",
      "print L[1]\n",
      "print L[-1]\n",
      "print L[1:3]\n",
      "print\n",
      "print L + L\n",
      "print L * 3"
     ],
     "language": "python",
     "metadata": {},
     "outputs": [
      {
       "output_type": "stream",
       "stream": "stdout",
       "text": [
        "<type 'list'>\n",
        "\n",
        "3\n",
        "\n",
        "2\n",
        "3\n",
        "[2, 3]\n",
        "\n",
        "[1, 2, 3, 1, 2, 3]\n",
        "[1, 2, 3, 1, 2, 3, 1, 2, 3]\n"
       ]
      }
     ],
     "prompt_number": 4
    },
    {
     "cell_type": "markdown",
     "metadata": {},
     "source": [
      "- \ub9ac\uc2a4\ud2b8\ub294 \ubcc0\uacbd \uac00\ub2a5"
     ]
    },
    {
     "cell_type": "code",
     "collapsed": false,
     "input": [
      "l1 = [4,5,6]\n",
      "l1[0] = 10\n",
      "print l1"
     ],
     "language": "python",
     "metadata": {},
     "outputs": [
      {
       "output_type": "stream",
       "stream": "stdout",
       "text": [
        "[10, 5, 6]\n"
       ]
      }
     ],
     "prompt_number": 3
    },
    {
     "cell_type": "markdown",
     "metadata": {},
     "source": [
      "![image](images/changeListElement.png)"
     ]
    },
    {
     "cell_type": "markdown",
     "metadata": {},
     "source": [
      "- \ub3d9\uc77c\ud55c \ubcc0\uc218\uc5d0 \ub2e4\ub978 \ub9ac\uc2a4\ud2b8\ub97c \ud560\ub2f9\ud558\ub294 \uac83\uc740 \ud574\ub2f9 \ubcc0\uc218\uc758 \ub808\ud37c\ub7f0\uc2a4\ub97c \ubcc0\uacbd\ud568"
     ]
    },
    {
     "cell_type": "code",
     "collapsed": false,
     "input": [
      "l1 = [1,2,3]\n",
      "l1 = [4,5,6]\n",
      "print l1"
     ],
     "language": "python",
     "metadata": {},
     "outputs": [
      {
       "output_type": "stream",
       "stream": "stdout",
       "text": [
        "[4, 5, 6]\n"
       ]
      }
     ],
     "prompt_number": 4
    },
    {
     "cell_type": "markdown",
     "metadata": {},
     "source": [
      "![image](images/referenceChangeList.png)"
     ]
    },
    {
     "cell_type": "markdown",
     "metadata": {},
     "source": [
      "### 3-2 range() \ud568\uc218\ub97c \ud1b5\ud55c \uc778\ub371\uc2a4 \ub9ac\uc2a4\ud2b8 \uc0dd\uc131\n",
      "- range(k): 0\ubd80\ud130 k-1\uae4c\uc9c0\uc758 \uc22b\uc790\uc758 \ub9ac\uc2a4\ud2b8\ub97c \ubc18\ud658\ud568 "
     ]
    },
    {
     "cell_type": "code",
     "collapsed": false,
     "input": [
      "L = range(10)\n",
      "print L\n",
      "print L[::2]\n",
      "print L[::-1]\n",
      "print 4 in L"
     ],
     "language": "python",
     "metadata": {},
     "outputs": [
      {
       "output_type": "stream",
       "stream": "stdout",
       "text": [
        "[0, 1, 2, 3, 4, 5, 6, 7, 8, 9]\n",
        "[0, 2, 4, 6, 8]\n",
        "[9, 8, 7, 6, 5, 4, 3, 2, 1, 0]\n",
        "True\n"
       ]
      }
     ],
     "prompt_number": 5
    },
    {
     "cell_type": "markdown",
     "metadata": {},
     "source": [
      "***\n",
      "## 4 \ud29c\ud50c\n",
      "***"
     ]
    },
    {
     "cell_type": "markdown",
     "metadata": {},
     "source": [
      "### 4-1 \ud29c\ud50c\uc758 \uc815\uc758\uc640 \uae30\ubcf8 \uc5f0\uc0b0\n",
      "- \ud29c\ud50c: \ub9ac\uc2a4\ud2b8\uc640 \uc720\uc0ac\ud558\uc9c0\ub9cc \ud29c\ud50c \ub0b4\uc758 \uac12\uc744 \ubcc0\uacbd\ud560 \uc218 \uc5c6\uc74c\n",
      "  - \uc801\ud569\ud55c \uc0ac\uc6a9 \uc608\n",
      "    - months = ('January','February','March','April','May','June','July','August','September','October','November','  December')\n",
      "    - \uac01 \uac12\uc5d0 \ub300\ud574 \uc778\ub371\uc2a4\uac00 \ubd80\uc5ec\ub428\n",
      "- \ubb38\uc790\uc5f4\uc774 \uc9c0\ub2cc \ub300\ubd80\ubd84\uc758 \uc5f0\uc0b0\ub4e4\uc740 \ud29c\ud50c\ub3c4 \uc9c0\uc6d0"
     ]
    },
    {
     "cell_type": "code",
     "collapsed": false,
     "input": [
      "t = (1,2,3)\n",
      "\n",
      "print len(t)\n",
      "print\n",
      "print t[0]\n",
      "print t[-1]\n",
      "print t[0:2]\n",
      "print t[::2]\n",
      "print\n",
      "print t + t + t\n",
      "print t * 3\n",
      "print\n",
      "print 3 in t"
     ],
     "language": "python",
     "metadata": {},
     "outputs": [
      {
       "output_type": "stream",
       "stream": "stdout",
       "text": [
        "3\n",
        "\n",
        "1\n",
        "3\n",
        "(1, 2)\n",
        "(1, 3)\n",
        "\n",
        "(1, 2, 3, 1, 2, 3, 1, 2, 3)\n",
        "(1, 2, 3, 1, 2, 3, 1, 2, 3)\n",
        "\n",
        "True\n"
       ]
      }
     ],
     "prompt_number": 9
    },
    {
     "cell_type": "markdown",
     "metadata": {},
     "source": [
      "### 4-2 \ud29c\ud50c\uc758 \uc0c1\uc218\uc801 \uc131\uaca9\n",
      "- \ud29c\ud50c\uc740 \ub0b4\uc6a9 \ubcc0\uacbd \ubd88\uac00"
     ]
    },
    {
     "cell_type": "code",
     "collapsed": false,
     "input": [
      "t = (1,2,3)\n",
      "\n",
      "t[0] = 100"
     ],
     "language": "python",
     "metadata": {},
     "outputs": [
      {
       "ename": "TypeError",
       "evalue": "'tuple' object does not support item assignment",
       "output_type": "pyerr",
       "traceback": [
        "\u001b[0;31m---------------------------------------------------------------------------\u001b[0m\n\u001b[0;31mTypeError\u001b[0m                                 Traceback (most recent call last)",
        "\u001b[0;32m<ipython-input-105-b050fc22719c>\u001b[0m in \u001b[0;36m<module>\u001b[0;34m()\u001b[0m\n\u001b[1;32m      1\u001b[0m \u001b[0mt\u001b[0m \u001b[0;34m=\u001b[0m \u001b[0;34m(\u001b[0m\u001b[0;36m1\u001b[0m\u001b[0;34m,\u001b[0m\u001b[0;36m2\u001b[0m\u001b[0;34m,\u001b[0m\u001b[0;36m3\u001b[0m\u001b[0;34m)\u001b[0m\u001b[0;34m\u001b[0m\u001b[0m\n\u001b[1;32m      2\u001b[0m \u001b[0;34m\u001b[0m\u001b[0m\n\u001b[0;32m----> 3\u001b[0;31m \u001b[0mt\u001b[0m\u001b[0;34m[\u001b[0m\u001b[0;36m0\u001b[0m\u001b[0;34m]\u001b[0m \u001b[0;34m=\u001b[0m \u001b[0;36m100\u001b[0m\u001b[0;34m\u001b[0m\u001b[0m\n\u001b[0m",
        "\u001b[0;31mTypeError\u001b[0m: 'tuple' object does not support item assignment"
       ]
      }
     ],
     "prompt_number": 105
    },
    {
     "cell_type": "markdown",
     "metadata": {},
     "source": [
      "- \ubc18\uba74\uc5d0 \ub9ac\uc2a4\ud2b8\ub294 \ub0b4\uc6a9 \ubcc0\uacbd \uac00\ub2a5"
     ]
    },
    {
     "cell_type": "code",
     "collapsed": false,
     "input": [
      "L = [1,2,3]\n",
      "L[0] = 100\n",
      "\n",
      "print L"
     ],
     "language": "python",
     "metadata": {},
     "outputs": [
      {
       "output_type": "stream",
       "stream": "stdout",
       "text": [
        "[100, 2, 3]\n"
       ]
      }
     ],
     "prompt_number": 107
    },
    {
     "cell_type": "markdown",
     "metadata": {},
     "source": [
      "***\n",
      "## 5 \uc0ac\uc804\n",
      "***"
     ]
    },
    {
     "cell_type": "markdown",
     "metadata": {},
     "source": [
      "### 5-1 \uc0ac\uc804\uc758 \uc815\uc758\uc640 \uae30\ubcf8 \uc0ac\uc6a9\ubc95\n",
      "- \uc815\uc218\ud615 \uc778\ub371\uc2a4\uac00 \uc544\ub2cc \ud0a4\ub97c \uc774\uc6a9\ud558\uc5ec \uac12\uc744 \uc800\uc7a5\ud558\ub294 \uc790\ub8cc \uad6c\uc870\n",
      "  - \uc800\uc7a5\ub41c \uac01 \uc790\ub8cc\uc5d0 \ub300\ud55c \uc21c\uc11c\ub294 \uc758\ubbf8 \uc5c6\uc74c\n",
      "- \ub9e4\ud551(Mapping) \ud568\uc218\uc640 \ube44\uc2b7\ud55c \uc5ed\ud560\uc744 \ud568\n",
      "  - x\ub77c\ub294 \ud0a4\uac12\uc744 \ub123\uc73c\uba74 \uac12 y\ub97c \ubc18\ud658\ud568"
     ]
    },
    {
     "cell_type": "code",
     "collapsed": false,
     "input": [
      "d = {'one': 'hana', 'two': 'dul', 'three': 'set'}\n",
      "print d['one']\n"
     ],
     "language": "python",
     "metadata": {},
     "outputs": [
      {
       "output_type": "stream",
       "stream": "stdout",
       "text": [
        "hana\n"
       ]
      }
     ],
     "prompt_number": 109
    },
    {
     "cell_type": "code",
     "collapsed": false,
     "input": [
      "d = {'one': 'hana', 'two': 'dul', 'three': 'set'}\n",
      "d['four'] = 'net' # \uc0c8 \ud56d\ubaa9\uc758 \uc0bd\uc785\n",
      "print d\n",
      "d['one'] = 1      # \uae30\uc874 \ud56d\ubaa9\uc758 \uac12 \ubcc0\uacbd\n",
      "print d\n",
      "print 'one' in d  # \ud0a4\uc5d0 \ub300\ud55c \uba64\ubc84\uc27d \ud14c\uc2a4\ud2b8"
     ],
     "language": "python",
     "metadata": {},
     "outputs": [
      {
       "output_type": "stream",
       "stream": "stdout",
       "text": [
        "{'four': 'net', 'three': 'set', 'two': 'dul', 'one': 'hana'}\n",
        "{'four': 'net', 'three': 'set', 'two': 'dul', 'one': 1}\n",
        "True\n"
       ]
      }
     ],
     "prompt_number": 13
    },
    {
     "cell_type": "code",
     "collapsed": false,
     "input": [
      "d = {'one': 1, 'two': 'dul', 'three': 'set', 'four': 'net'}\n",
      "print d.keys()    # \ud0a4\ub9cc \ub9ac\uc2a4\ud2b8\ub85c \ucd94\ucd9c\ud568\n",
      "print d.values()  # \uac12\ub9cc \ub9ac\uc2a4\ud2b8\ub85c \ucd94\ucd9c\ud568\n",
      "print d.items()   # \ud0a4\uc640 \uac12\uc758 \ud29c\ud50c\uc744 \ub9ac\uc2a4\ud2b8\ub85c \ubc18\ud658\ud568"
     ],
     "language": "python",
     "metadata": {},
     "outputs": [
      {
       "output_type": "stream",
       "stream": "stdout",
       "text": [
        "['four', 'three', 'two', 'one']\n",
        "['net', 'set', 'dul', 1]\n",
        "[('four', 'net'), ('three', 'set'), ('two', 'dul'), ('one', 1)]\n"
       ]
      }
     ],
     "prompt_number": 17
    },
    {
     "cell_type": "markdown",
     "metadata": {},
     "source": [
      "***\n",
      "## 6 \ub0b4\uc7a5 \uc790\ub8cc\ud615\uc758 \ud2b9\uc131 \uc815\ub9ac\n",
      "***"
     ]
    },
    {
     "cell_type": "markdown",
     "metadata": {},
     "source": [
      "| \uc790\ub8cc\ud615 |   \uc800\uc7a5/\uc811\uadfc \ubc29\ubc95  | \ubcc0\uacbd \uac00\ub2a5\uc131 |       \uc800\uc7a5 \ubaa8\ub378      |\n",
      "|:------:|:-----------------:|:-----------:|:--------------------:|\n",
      "| \uc218\uce58\ud615 |    \uc9c1\uc811(Direct)   |     \ubcc0\uacbd\ubd88\uac00\ub2a5(Immutable)    |   \ub9ac\ud130\ub7f4 (Literal)   |\n",
      "| \ubb38\uc790\uc5f4 | \uc2dc\ud000\uc2a4 (Sequence) |     \ubcc0\uacbd\ubd88\uac00\ub2a5(Immutable)    |   \ub9ac\ud130\ub7f4 (Literal)   |\n",
      "| \ub9ac\uc2a4\ud2b8 | \uc2dc\ud000\uc2a4 (Sequence) |     \ubcc0\uacbd\uac00\ub2a5(Mutable)    | \ucee8\ud14c\uc774\ub108 (Container) |\n",
      "|  \ud29c\ud50c  | \uc2dc\ud000\uc2a4 (Sequence) |     \ubcc0\uacbd\ubd88\uac00\ub2a5(Immutable)    | \ucee8\ud14c\uc774\ub108 (Container) |\n",
      "|  \uc0ac\uc804  |   \ub9e4\ud551 (Mapping)  |     \ubcc0\uacbd\uac00\ub2a5(Mutable)    | \ucee8\ud14c\uc774\ub108 (Container) |"
     ]
    },
    {
     "cell_type": "markdown",
     "metadata": {},
     "source": [
      "***\n",
      "## 7 \uc790\ub8cc\ud615 \ud655\uc778\uacfc \uac1d\uccb4\uc758 \uc2e0\uc6d0 \ud30c\uc545\n",
      "***"
     ]
    },
    {
     "cell_type": "markdown",
     "metadata": {},
     "source": [
      "### 7-1 \ub0b4\uc7a5 \uc790\ub8cc\ud615 \uc54c\uc544\ubcf4\uae30"
     ]
    },
    {
     "cell_type": "code",
     "collapsed": false,
     "input": [
      "print type(3)       #\uc815\uc218\n",
      "print type(3.3)     #\uc2e4\uc218\n",
      "print type('abc')   #\ubb38\uc790\uc5f4"
     ],
     "language": "python",
     "metadata": {},
     "outputs": [
      {
       "output_type": "stream",
       "stream": "stdout",
       "text": [
        "<type 'int'>\n",
        "<type 'float'>\n",
        "<type 'str'>\n"
       ]
      }
     ],
     "prompt_number": 1
    },
    {
     "cell_type": "code",
     "collapsed": false,
     "input": [
      "print type([])      #\ub9ac\uc2a4\ud2b8\n",
      "print type(())      #\ud29c\ud50c\n",
      "print type({})      #\uc0ac\uc804(dict)"
     ],
     "language": "python",
     "metadata": {},
     "outputs": [
      {
       "output_type": "stream",
       "stream": "stdout",
       "text": [
        "<type 'list'>\n",
        "<type 'tuple'>\n",
        "<type 'dict'>\n"
       ]
      }
     ],
     "prompt_number": 2
    },
    {
     "cell_type": "markdown",
     "metadata": {},
     "source": [
      "- \uc790\ub8cc\ud615\uc758 \ube44\uad50"
     ]
    },
    {
     "cell_type": "code",
     "collapsed": false,
     "input": [
      "a = 0\n",
      "L = [1,2,3]\n",
      "print type(a) == type(0)\n",
      "print type(L) == type([])\n",
      "print type(L[0]) == type(0)"
     ],
     "language": "python",
     "metadata": {},
     "outputs": [
      {
       "output_type": "stream",
       "stream": "stdout",
       "text": [
        "True\n",
        "True\n",
        "True\n"
       ]
      }
     ],
     "prompt_number": 41
    },
    {
     "cell_type": "code",
     "collapsed": false,
     "input": [
      "print type(None)    #None \uac1d\uccb4, \uc544\ubb34 \uac12\ub3c4 \uc5c6\ub2e4(\ud639\uc740 \uc544\ub2c8\ub2e4)\ub97c \ub098\ud0c0\ub0b4\ub294 \uac1d\uccb4\n",
      "print\n",
      "a = None\n",
      "print a\n",
      "print type(a)"
     ],
     "language": "python",
     "metadata": {},
     "outputs": [
      {
       "output_type": "stream",
       "stream": "stdout",
       "text": [
        "<type 'NoneType'>\n",
        "\n",
        "None\n",
        "<type 'NoneType'>\n"
       ]
      }
     ],
     "prompt_number": 2
    },
    {
     "cell_type": "markdown",
     "metadata": {},
     "source": [
      "### 7-2 \uac1d\uccb4\uc758 \uc2e0\uc6d0 \uc2dd\ubcc4\ud558\uae30"
     ]
    },
    {
     "cell_type": "markdown",
     "metadata": {},
     "source": [
      "- id(): \uac1d\uccb4\uc758 \uc2dd\ubcc4\uc790\ub97c \ubc18\ud658\ud55c\ub2e4."
     ]
    },
    {
     "cell_type": "code",
     "collapsed": false,
     "input": [
      "a = 500\n",
      "b = a\n",
      "print id(a)\n",
      "print id(b)\n",
      "print\n",
      "x = 1\n",
      "y = 1\n",
      "print id(x)\n",
      "print id(y)"
     ],
     "language": "python",
     "metadata": {},
     "outputs": [
      {
       "output_type": "stream",
       "stream": "stdout",
       "text": [
        "4478569376\n",
        "4478569376\n",
        "\n",
        "4298182776\n",
        "4298182776\n"
       ]
      }
     ],
     "prompt_number": 58
    },
    {
     "cell_type": "markdown",
     "metadata": {},
     "source": [
      "- is \ud0a4\uc6cc\ub4dc: \ub450 \uac1d\uccb4\uc758 \uc2dd\ubcc4\uc790\uac00 \ub3d9\uc77c\ud55c\uc9c0 \ud14c\uc2a4\ud2b8\ud55c\ub2e4."
     ]
    },
    {
     "cell_type": "code",
     "collapsed": false,
     "input": [
      "c = [1,2,3]\n",
      "d = [1,2,3]\n",
      "print c is d\n",
      "\n",
      "a = 500\n",
      "b = a\n",
      "print a is b\n",
      "\n",
      "x = 1\n",
      "y = 1\n",
      "print x is y\n",
      "\n",
      "e = f = [4,5,6]\n",
      "print e is f"
     ],
     "language": "python",
     "metadata": {},
     "outputs": [
      {
       "output_type": "stream",
       "stream": "stdout",
       "text": [
        "False\n",
        "True\n",
        "True\n",
        "True\n"
       ]
      }
     ],
     "prompt_number": 60
    },
    {
     "cell_type": "markdown",
     "metadata": {},
     "source": [
      "- == \uc5f0\uc0b0\uc790: \ub450 \uac1d\uccb4\uc758 \uac12\uc774 \ub3d9\uc77c\ud55c\uc9c0\ub97c \ud14c\uc2a4\ud2b8\ud55c\ub2e4."
     ]
    },
    {
     "cell_type": "code",
     "collapsed": false,
     "input": [
      "c = [1,2,3]\n",
      "d = [1,2,3]\n",
      "c == d"
     ],
     "language": "python",
     "metadata": {},
     "outputs": [
      {
       "metadata": {},
       "output_type": "pyout",
       "prompt_number": 150,
       "text": [
        "True"
       ]
      }
     ],
     "prompt_number": 150
    }
   ],
   "metadata": {}
  }
 ]
}