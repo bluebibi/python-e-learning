{
 "metadata": {
  "name": "",
  "signature": "sha256:77d67ca03aab833f5fbe59dfcb180a4c5251b6f88c2927a9d944abecede0aed3"
 },
 "nbformat": 3,
 "nbformat_minor": 0,
 "worksheets": [
  {
   "cells": [
    {
     "cell_type": "markdown",
     "metadata": {},
     "source": [
      "***\n",
      "***\n",
      "# 6. \ubb38\uc790\uc5f4\uacfc \ud3ec\uba67\ud305\n",
      "***\n",
      "***"
     ]
    },
    {
     "cell_type": "markdown",
     "metadata": {},
     "source": [
      "***\n",
      "## 1 \uc2dc\ud000\uc2a4 \uc790\ub8cc\ud615\uc758 \uc9c0\uc6d0 \uc5f0\uc0b0\n",
      "***"
     ]
    },
    {
     "cell_type": "markdown",
     "metadata": {},
     "source": [
      "### 1-1 \uc2dc\ud000\uc2a4 \uc790\ub8cc\ud615\uc774\ub780?\n",
      "- \uc800\uc7a5\ub41c \uac01 \uc694\uc18c\ub97c \uc815\uc218 Index\ub97c \uc774\uc6a9\ud558\uc5ec \ucc38\uc870\uac00 \uac00\ub2a5\ud55c \uc790\ub8cc\ud615 \n",
      "- \uc2dc\ud000\uc2a4(Sequence) \uc790\ub8cc\ud615: \ubb38\uc790\uc5f4, \ub9ac\uc2a4\ud2b8, \ud29c\ud50c"
     ]
    },
    {
     "cell_type": "code",
     "collapsed": false,
     "input": [
      "s = 'abcdef'\n",
      "L = [100,200,300]\n",
      "t = ('tuple', 'object', 1, 2)"
     ],
     "language": "python",
     "metadata": {},
     "outputs": [],
     "prompt_number": 2
    },
    {
     "cell_type": "markdown",
     "metadata": {},
     "source": [
      "- \uc2dc\ud000\uc2a4 \uc790\ub8cc\ud615\uc774 \uac00\uc9c0\ub294 \uacf5\ud1b5\uc801\uc778 \uc5f0\uc0b0\n",
      "  - \uc778\ub371\uc2f1 (Indexing)\n",
      "  - \uc2ac\ub77c\uc774\uc2f1 (Slicing)\n",
      "  - \ud655\uc7a5 \uc2ac\ub77c\uc774\uc2f1 (Extended Slicing)\n",
      "  - \uc5f0\uacb0 (Concatenation)\n",
      "  - \ubc18\ubcf5 (Repitition)\n",
      "  - \uba64\ubc84\uc27d \ud14c\uc2a4\ud2b8 (Membership Test)\n",
      "  - \uae38\uc774 \uc815\ubcf4 (Length)\n",
      "  - for ~ in \ubb38"
     ]
    },
    {
     "cell_type": "markdown",
     "metadata": {},
     "source": [
      "### 1-2 \uc778\ub371\uc2f1"
     ]
    },
    {
     "cell_type": "code",
     "collapsed": false,
     "input": [
      "s = 'abcdef'\n",
      "l = [100, 200, 300]\n",
      "print s[0]\n",
      "print s[1]\n",
      "print s[-1]\n",
      "print\n",
      "print l[1]\n",
      "l[1] = 900\n",
      "print l[1]"
     ],
     "language": "python",
     "metadata": {},
     "outputs": [
      {
       "output_type": "stream",
       "stream": "stdout",
       "text": [
        "a\n",
        "b\n",
        "f\n",
        "\n",
        "200\n",
        "900\n"
       ]
      }
     ],
     "prompt_number": 1
    },
    {
     "cell_type": "code",
     "collapsed": false,
     "input": [
      "print l[100]"
     ],
     "language": "python",
     "metadata": {},
     "outputs": [
      {
       "ename": "IndexError",
       "evalue": "list index out of range",
       "output_type": "pyerr",
       "traceback": [
        "\u001b[0;31m---------------------------------------------------------------------------\u001b[0m\n\u001b[0;31mIndexError\u001b[0m                                Traceback (most recent call last)",
        "\u001b[0;32m<ipython-input-2-dd85adc9a089>\u001b[0m in \u001b[0;36m<module>\u001b[0;34m()\u001b[0m\n\u001b[0;32m----> 1\u001b[0;31m \u001b[0;32mprint\u001b[0m \u001b[0ml\u001b[0m\u001b[0;34m[\u001b[0m\u001b[0;36m100\u001b[0m\u001b[0;34m]\u001b[0m\u001b[0;34m\u001b[0m\u001b[0m\n\u001b[0m",
        "\u001b[0;31mIndexError\u001b[0m: list index out of range"
       ]
      }
     ],
     "prompt_number": 2
    },
    {
     "cell_type": "markdown",
     "metadata": {},
     "source": [
      "### 1-3 \uc2ac\ub77c\uc774\uc2f1\n",
      "- L[start:end]: start\ub294 exclusive, end\ub294 inclusive"
     ]
    },
    {
     "cell_type": "code",
     "collapsed": false,
     "input": [
      "s = 'abcdef'\n",
      "L = [100, 200, 300]\n",
      "\n",
      "print s[1:3]\n",
      "print s[1:]\n",
      "print s[:]\n",
      "print s[-100:100]\n",
      "print\n",
      "print L[:-1]     # L[:2] \uc640 \ub3d9\uc77c\n",
      "print L[:2]"
     ],
     "language": "python",
     "metadata": {},
     "outputs": [
      {
       "output_type": "stream",
       "stream": "stdout",
       "text": [
        "bc\n",
        "bcdef\n",
        "abcdef\n",
        "abcdef\n",
        "\n",
        "[100, 200]\n",
        "[100, 200]\n"
       ]
      }
     ],
     "prompt_number": 7
    },
    {
     "cell_type": "markdown",
     "metadata": {},
     "source": [
      "### 1-4 \ud655\uc7a5 \uc2ac\ub77c\uc774\uc2f1\n",
      "- L[start:end:step]: \uc778\ub371\uc2f1\ub418\uc5b4\uc9c0\ub294 \uac01 \uc6d0\uc18c\ub4e4 \uc0ac\uc774\uc758 \uac70\ub9ac\uac00 \uc778\ub371\uc2a4 \uae30\uc900\uc73c\ub85c step \ub9cc\ud07c \ub5a8\uc5b4\uc9d0 "
     ]
    },
    {
     "cell_type": "code",
     "collapsed": false,
     "input": [
      "s = 'abcd'\n",
      "print s[::2]   #step:2 - \uac01 \uc6d0\uc18c\ub4e4 \uc0ac\uc774\uc758 \uac70\ub9ac\uac00 \uc778\ub371\uc2a4 \uae30\uc900\uc73c\ub85c 2\uac00 \ub428\n",
      "print s[::-1]  #step:-1 - \uc67c\ucabd \ubc29\ud5a5\uc73c\ub85c 1\uce78\uc529"
     ],
     "language": "python",
     "metadata": {},
     "outputs": [
      {
       "output_type": "stream",
       "stream": "stdout",
       "text": [
        "ac\n",
        "dcba\n"
       ]
      }
     ],
     "prompt_number": 8
    },
    {
     "cell_type": "markdown",
     "metadata": {},
     "source": [
      "### 1-5 \uc5f0\uacb0\ud558\uae30"
     ]
    },
    {
     "cell_type": "code",
     "collapsed": false,
     "input": [
      "s = 'abc' + 'def'\n",
      "print s\n",
      "\n",
      "L = [1,2,3] + [4,5,6]\n",
      "print L"
     ],
     "language": "python",
     "metadata": {},
     "outputs": [
      {
       "output_type": "stream",
       "stream": "stdout",
       "text": [
        "abcdef\n",
        "[1, 2, 3, 4, 5, 6]\n"
       ]
      }
     ],
     "prompt_number": 21
    },
    {
     "cell_type": "markdown",
     "metadata": {},
     "source": [
      "### 1-6 \ubc18\ubcf5\ud558\uae30"
     ]
    },
    {
     "cell_type": "code",
     "collapsed": false,
     "input": [
      "s = 'abc'\n",
      "print s * 4\n",
      "\n",
      "L = [1,2,3]\n",
      "print L * 2"
     ],
     "language": "python",
     "metadata": {},
     "outputs": [
      {
       "output_type": "stream",
       "stream": "stdout",
       "text": [
        "abcabcabcabc\n",
        "[1, 2, 3, 1, 2, 3]\n"
       ]
      }
     ],
     "prompt_number": 1
    },
    {
     "cell_type": "markdown",
     "metadata": {},
     "source": [
      "### 1-7 \uba64\ubc84\uc2ed \ud14c\uc2a4\ud2b8"
     ]
    },
    {
     "cell_type": "code",
     "collapsed": false,
     "input": [
      "s = 'abcde'\n",
      "print 'c' in s\n",
      "\n",
      "t = (1,2,3,4,5)\n",
      "print 2 in t\n",
      "print 10 in t\n",
      "print 10 not in t"
     ],
     "language": "python",
     "metadata": {},
     "outputs": [
      {
       "output_type": "stream",
       "stream": "stdout",
       "text": [
        "True\n",
        "True\n",
        "False\n",
        "True\n"
       ]
      }
     ],
     "prompt_number": 25
    },
    {
     "cell_type": "code",
     "collapsed": false,
     "input": [
      "print 'ab' in 'abcd'\n",
      "print 'ad' in 'abcd'\n",
      "print ' ' in 'abcd'\n",
      "print ' ' in 'abcd '"
     ],
     "language": "python",
     "metadata": {},
     "outputs": [
      {
       "output_type": "stream",
       "stream": "stdout",
       "text": [
        "True\n",
        "False\n",
        "False\n",
        "True\n"
       ]
      }
     ],
     "prompt_number": 10
    },
    {
     "cell_type": "markdown",
     "metadata": {},
     "source": [
      "### 1-8 \uae38\uc774 \uc815\ubcf4"
     ]
    },
    {
     "cell_type": "code",
     "collapsed": false,
     "input": [
      "s = 'abcde'\n",
      "l = [1,2,3]\n",
      "t = (1, 2, 3, 4)\n",
      "print len(s)\n",
      "print len(l)\n",
      "print len(t)"
     ],
     "language": "python",
     "metadata": {},
     "outputs": [
      {
       "output_type": "stream",
       "stream": "stdout",
       "text": [
        "5\n",
        "3\n",
        "4\n"
       ]
      }
     ],
     "prompt_number": 11
    },
    {
     "cell_type": "markdown",
     "metadata": {},
     "source": [
      "### 1-9 for~in \ubb38"
     ]
    },
    {
     "cell_type": "code",
     "collapsed": false,
     "input": [
      "for c in 'abcd':\n",
      "    print c,"
     ],
     "language": "python",
     "metadata": {},
     "outputs": [
      {
       "output_type": "stream",
       "stream": "stdout",
       "text": [
        "a b c d\n"
       ]
      }
     ],
     "prompt_number": 2
    },
    {
     "cell_type": "markdown",
     "metadata": {},
     "source": [
      "***\n",
      "## 2 \ubb38\uc790\uc5f4 \uc815\uc758\ud558\uae30\n",
      "***"
     ]
    },
    {
     "cell_type": "markdown",
     "metadata": {},
     "source": [
      "### 2-1 \ud55c \uc904 \ubb38\uc790\uc5f4"
     ]
    },
    {
     "cell_type": "code",
     "collapsed": false,
     "input": [
      "s = ''\n",
      "str1 = 'Python is great!'\n",
      "str2 = \"Yes, it is.\"\n",
      "str3 = \"It's not like any other languages\""
     ],
     "language": "python",
     "metadata": {},
     "outputs": [],
     "prompt_number": 30
    },
    {
     "cell_type": "code",
     "collapsed": false,
     "input": [
      "str4 = 'Don\\'t walk. \"Run\"'\n",
      "print str4"
     ],
     "language": "python",
     "metadata": {},
     "outputs": [
      {
       "output_type": "stream",
       "stream": "stdout",
       "text": [
        "Don't walk. \"Run\"\n"
       ]
      }
     ],
     "prompt_number": 32
    },
    {
     "cell_type": "markdown",
     "metadata": {},
     "source": [
      "- \\ : \ub2e4\uc74c \ub77c\uc778\uc774 \ud604\uc7ac \ub77c\uc778\uc758 \ub4a4\uc5d0 \uc774\uc5b4\uc9d0\uc744 \ub098\ud0c0\ub0c4 "
     ]
    },
    {
     "cell_type": "code",
     "collapsed": false,
     "input": [
      "long_str = \"This is a rather long string \\\n",
      "containing back slash and new line.\\nGood!\"\n",
      "print long_str"
     ],
     "language": "python",
     "metadata": {},
     "outputs": [
      {
       "output_type": "stream",
       "stream": "stdout",
       "text": [
        "This is a rather long string containing back slash and new line.\n",
        "Good!\n"
       ]
      }
     ],
     "prompt_number": 33
    },
    {
     "cell_type": "markdown",
     "metadata": {},
     "source": [
      "### 2-2 \uc5ec\ub7ec \uc904 \ubb38\uc790\uc5f4"
     ]
    },
    {
     "cell_type": "code",
     "collapsed": false,
     "input": [
      "multiline = \"\"\" While the rest of the world has been catching on to\n",
      "the Perl scripting language, the Linux commnunity,\n",
      "long since past the pleasing shock of Perl's power,\n",
      "has been catching on to a different scripting animal -- Python.\"\"\"\n",
      "print multiline\n",
      "print\n",
      "ml = ''' While the rest of the world has been catching on to\n",
      "the Perl scripting language, the Linux commnunity,\n",
      "long since past the pleasing shock of Perl's power,\n",
      "has been catching on to a different scripting animal -- Python.'''\n",
      "print ml"
     ],
     "language": "python",
     "metadata": {},
     "outputs": [
      {
       "output_type": "stream",
       "stream": "stdout",
       "text": [
        " While the rest of the world has been catching on to\n",
        "the Perl scripting language, the Linux commnunity,\n",
        "long since past the pleasing shock of Perl's power,\n",
        "has been catching on to a different scripting animal -- Python.\n",
        "\n",
        " While the rest of the world has been catching on to\n",
        "the Perl scripting language, the Linux commnunity,\n",
        "long since past the pleasing shock of Perl's power,\n",
        "has been catching on to a different scripting animal -- Python.\n"
       ]
      }
     ],
     "prompt_number": 12
    },
    {
     "cell_type": "markdown",
     "metadata": {},
     "source": [
      "### 2-3 \uc774\uc2a4\ucf00\uc774\ud504 \ubb38\uc790 (Escape Characters)\n",
      "- \ubb38\uc790\uc5f4 \ub0b4\ubd80\uc758 \uc774\uc2a4\ucf00\uc774\ud504 \ubb38\uc790\n",
      "\n",
      "| \uc774\uc2a4\ucf00\uc774\ud504 \ubb38\uc790  | \uc758\ubbf8    |\n",
      "|--------------|--------------|\n",
      "| \\ \\           | \\            |\n",
      "| \\'           | '            |\n",
      "| \\\"           | \"            |\n",
      "| \\b           | \ubc31\uc2a4\ud398\uc774\uc2a4   |\n",
      "| \\n           | \uac1c\ud589         |\n",
      "| \\t           | \ud0ed           |\n",
      "| \\0nn         | 8\uc9c4\ubc95 \uc218 nn  |\n",
      "| \\xnn         | 16\uc9c4\ubc95 \uc218 nn |"
     ]
    },
    {
     "cell_type": "code",
     "collapsed": false,
     "input": [
      "print '\\\\abc\\\\'\n",
      "print\n",
      "print 'abc\\tdef\\tghi'\n",
      "print\n",
      "print 'a\\nb\\nc'"
     ],
     "language": "python",
     "metadata": {},
     "outputs": [
      {
       "output_type": "stream",
       "stream": "stdout",
       "text": [
        "\\abc\\\n",
        "\n",
        "abc\tdef\tghi\n",
        "\n",
        "a\n",
        "b\n",
        "c\n"
       ]
      }
     ],
     "prompt_number": 4
    },
    {
     "cell_type": "markdown",
     "metadata": {},
     "source": [
      "### 2-3 \ubb38\uc790\uc5f4 \uc5f0\uc0b0"
     ]
    },
    {
     "cell_type": "code",
     "collapsed": false,
     "input": [
      "str1 = 'First String'\n",
      "str2 = 'Second String'\n",
      "str3 = str1 + ' ' + str2\n",
      "print str3\n",
      "print str1 * 3\n",
      "print\n",
      "print str1[2]\n",
      "print str1[1:-1]\n",
      "print len(str1)\n",
      "print\n",
      "print str1[0:len(str1)]"
     ],
     "language": "python",
     "metadata": {},
     "outputs": [
      {
       "output_type": "stream",
       "stream": "stdout",
       "text": [
        "First String Second String\n",
        "First StringFirst StringFirst String\n",
        "\n",
        "r\n",
        "irst Strin\n",
        "12\n",
        "\n",
        "First String\n"
       ]
      }
     ],
     "prompt_number": 21
    },
    {
     "cell_type": "markdown",
     "metadata": {},
     "source": [
      "- \ubb38\uc790\uc5f4 \uc790\ub8cc - Immutable (\ubcc0\uacbd\ubd88\uac00\ub2a5)"
     ]
    },
    {
     "cell_type": "code",
     "collapsed": false,
     "input": [
      "str1[0] = 'f'"
     ],
     "language": "python",
     "metadata": {},
     "outputs": [
      {
       "ename": "TypeError",
       "evalue": "'str' object does not support item assignment",
       "output_type": "pyerr",
       "traceback": [
        "\u001b[0;31m---------------------------------------------------------------------------\u001b[0m\n\u001b[0;31mTypeError\u001b[0m                                 Traceback (most recent call last)",
        "\u001b[0;32m<ipython-input-47-7213ba3e679f>\u001b[0m in \u001b[0;36m<module>\u001b[0;34m()\u001b[0m\n\u001b[0;32m----> 1\u001b[0;31m \u001b[0mstr1\u001b[0m\u001b[0;34m[\u001b[0m\u001b[0;36m0\u001b[0m\u001b[0;34m]\u001b[0m \u001b[0;34m=\u001b[0m \u001b[0;34m'f'\u001b[0m\u001b[0;34m\u001b[0m\u001b[0m\n\u001b[0m",
        "\u001b[0;31mTypeError\u001b[0m: 'str' object does not support item assignment"
       ]
      }
     ],
     "prompt_number": 47
    },
    {
     "cell_type": "code",
     "collapsed": false,
     "input": [
      "str1[0:3] = 'abc'"
     ],
     "language": "python",
     "metadata": {},
     "outputs": [
      {
       "ename": "TypeError",
       "evalue": "'str' object does not support item assignment",
       "output_type": "pyerr",
       "traceback": [
        "\u001b[0;31m---------------------------------------------------------------------------\u001b[0m\n\u001b[0;31mTypeError\u001b[0m                                 Traceback (most recent call last)",
        "\u001b[0;32m<ipython-input-48-08d42bad7f22>\u001b[0m in \u001b[0;36m<module>\u001b[0;34m()\u001b[0m\n\u001b[0;32m----> 1\u001b[0;31m \u001b[0mstr1\u001b[0m\u001b[0;34m[\u001b[0m\u001b[0;36m0\u001b[0m\u001b[0;34m:\u001b[0m\u001b[0;36m3\u001b[0m\u001b[0;34m]\u001b[0m \u001b[0;34m=\u001b[0m \u001b[0;34m'abc'\u001b[0m\u001b[0;34m\u001b[0m\u001b[0m\n\u001b[0m",
        "\u001b[0;31mTypeError\u001b[0m: 'str' object does not support item assignment"
       ]
      }
     ],
     "prompt_number": 48
    },
    {
     "cell_type": "markdown",
     "metadata": {},
     "source": [
      "- \ubb38\uc790\uc5f4 \ubcc0\uacbd\uc744 \uc704\ud574\uc11c\ub294 Slicing \ud65c\uc6a9\n",
      "  - [\uc8fc\uc758] \ubb38\uc790\uc5f4 \uc790\uccb4\uac00 \ubcc0\uacbd\ub418\ub294 \uac83\uc774 \uc544\ub2c8\ub77c \uc0c8\ub85c\uc6b4 \ubb38\uc790\uc5f4\uc744 \uc0dd\uc131\ud558\uc5ec \uc7ac\ud560\ub2f9\ud558\ub294 \uac83\uc784"
     ]
    },
    {
     "cell_type": "code",
     "collapsed": false,
     "input": [
      "s = 'spam and egg'\n",
      "s = s[:4] + ', cheese, ' + s[5:]\n",
      "s"
     ],
     "language": "python",
     "metadata": {},
     "outputs": [
      {
       "metadata": {},
       "output_type": "pyout",
       "prompt_number": 24,
       "text": [
        "'spam, cheese, and egg'"
       ]
      }
     ],
     "prompt_number": 24
    },
    {
     "cell_type": "markdown",
     "metadata": {},
     "source": [
      "### 2-4 \uc720\ub2c8\ucf54\ub4dc"
     ]
    },
    {
     "cell_type": "markdown",
     "metadata": {},
     "source": [
      "- \ub2e4\uad6d\uc5b4 \ubb38\uc790\uc758 \uc62c\ubc14\ub978 \ud45c\ud604\uc744 \uc704\ud558\uc5ec \uc720\ub2c8\ucf54\ub4dc \ud0c0\uc785 \uc9c0\uc6d0\uc774 \ub428\n",
      "- \uc720\ub2c8\ucf54\ub4dc \ud0c0\uc785\uc758 \ubb38\uc790\uc5f4 \ub9ac\ud130\ub7f4: u'Hello'"
     ]
    },
    {
     "cell_type": "code",
     "collapsed": false,
     "input": [
      "print u'Spam and Egg'\n",
      "print \n",
      "a = 'a'\n",
      "b = u'bc'\n",
      "print type(a)\n",
      "print a\n",
      "print type(b)\n",
      "print b\n",
      "print\n",
      "c = a + b          # \uc77c\ubc18 \ubb38\uc790\uc5f4\uacfc \uc720\ub2c8\ucf54\ub4dc\ub97c \ud569\uce58\uba74 \uc720\ub2c8\ucf54\ub4dc\ub85c \ubcc0\ud658\n",
      "print type(c)\n",
      "print c"
     ],
     "language": "python",
     "metadata": {},
     "outputs": [
      {
       "output_type": "stream",
       "stream": "stdout",
       "text": [
        "Spam and Egg\n",
        "\n",
        "<type 'str'>\n",
        "a\n",
        "<type 'unicode'>\n",
        "bc\n",
        "\n",
        "<type 'unicode'>\n",
        "abc\n"
       ]
      }
     ],
     "prompt_number": 2
    },
    {
     "cell_type": "code",
     "collapsed": false,
     "input": [
      "print u'Spam \\uB610 Egg'    # \ubb38\uc790\uc5f4 \ub0b4\uc5d0 \uc720\ud2f0\ucf54\ub4dc \uc774\uc2a4\ucf00\uc774\ud504 \ubb38\uc790\uc778 \\uHHHH \uc0ac\uc6a9\uac00\ub2a5, HHHH\ub294 4\uc790\ub9ac 16\uc9c4\uc218 (unicode \ud3ec\ub9f7)"
     ],
     "language": "python",
     "metadata": {},
     "outputs": [
      {
       "output_type": "stream",
       "stream": "stdout",
       "text": [
        "Spam \ub610 Egg\n"
       ]
      }
     ],
     "prompt_number": 20
    },
    {
     "cell_type": "code",
     "collapsed": false,
     "input": [
      "a = unicode('\ud55c\uae00', 'utf-8')     # '\ud55c\uae00' \ubb38\uc790\uc5f4\uc758 \uc778\ucf54\ub529 \ubc29\uc2dd\uc744 'utf-8'\ud615\ud0dc\ub85c \uc778\uc2dd\uc2dc\ud0a4\uba74\uc11c \ud574\ub2f9 \ubb38\uc790\uc5f4\uc744 unicode\ub85c \ubcc0\ud658\n",
      "print type(a)\n",
      "print a"
     ],
     "language": "python",
     "metadata": {},
     "outputs": [
      {
       "output_type": "stream",
       "stream": "stdout",
       "text": [
        "<type 'unicode'>\n",
        "\ud55c\uae00\n"
       ]
      }
     ],
     "prompt_number": 3
    },
    {
     "cell_type": "code",
     "collapsed": false,
     "input": [
      "print len('\ud55c\uae00\uacfc \uc138\uc885\ub300\uc655')\n",
      "print len(unicode('\ud55c\uae00\uacfc \uc138\uc885\ub300\uc655', 'utf-8'))   #\uc720\ub2c8\ucf54\ub4dc \ud0c0\uc785\uc758 \ubb38\uc790\uc5f4\uc740 \ud55c\uae00 \ubb38\uc790\uc5f4 \uae38\uc774\ub97c \uc62c\ubc14\ub974\uac8c \ubc18\ud658\ud568\n",
      "print len(u'\ud55c\uae00\uacfc \uc138\uc885\ub300\uc655')"
     ],
     "language": "python",
     "metadata": {},
     "outputs": [
      {
       "output_type": "stream",
       "stream": "stdout",
       "text": [
        "22\n",
        "8\n",
        "8\n"
       ]
      }
     ],
     "prompt_number": 19
    },
    {
     "cell_type": "code",
     "collapsed": false,
     "input": [
      "u = unicode('\ud55c\uae00\uacfc \uc138\uc885\ub300\uc655', 'utf-8')    #\uc720\ub2c8\ucf54\ub4dc \ud0c0\uc785\uc758 \ud55c\uae00 \ubb38\uc790\uc5f4\uc5d0 \ub300\ud574\uc11c\ub294 \uc778\ub371\uc2f1 \ubc0f \uc2ac\ub77c\uc774\uc2f1\uc774 \uc62c\ubc14\ub974\uac8c \uc218\ud589\ub428 \n",
      "print u[0]\n",
      "print u[1]\n",
      "print u[:3]\n",
      "print u[4:]\n",
      "print u[::-1]\n",
      "print\n",
      "u2 = u'\ud55c\uae00\uacfc \uc138\uc885\ub300\uc655' \n",
      "print u2[0]\n",
      "print u2[1]\n",
      "print u2[:3]\n",
      "print u2[4:]\n",
      "print u2[::-1]\n",
      "print \n",
      "u3 = '\ud55c\uae00\uacfc \uc138\uc885\ub300\uc655'\n",
      "print u3[0]\n",
      "print u3[1]\n",
      "print u3[:3]\n",
      "print u3[4:]\n",
      "print u3[::-1]\n",
      "print"
     ],
     "language": "python",
     "metadata": {},
     "outputs": [
      {
       "output_type": "stream",
       "stream": "stdout",
       "text": [
        "\ud55c\n",
        "\uae00\n",
        "\ud55c\uae00\uacfc\n",
        "\uc138\uc885\ub300\uc655\n",
        "\uc655\ub300\uc885\uc138 \uacfc\uae00\ud55c\n",
        "\n",
        "\ud55c\n",
        "\uae00\n",
        "\ud55c\uae00\uacfc\n",
        "\uc138\uc885\ub300\uc655\n",
        "\uc655\ub300\uc885\uc138 \uacfc\uae00\ud55c\n",
        "\n",
        "\ufffd\n",
        "\ufffd\n",
        "\ud55c\n",
        "\ufffd\ufffd\uacfc \uc138\uc885\ub300\uc655\n",
        "\ufffd\ufffd\uc00c\ub162\uce04\ufffd \ufffd\ufffd\ua038\ua715\ufffd\n",
        "\n"
       ]
      }
     ],
     "prompt_number": 22
    },
    {
     "cell_type": "markdown",
     "metadata": {},
     "source": [
      "***\n",
      "## 3 \ubb38\uc790\uc5f4 \uba54\uc18c\ub4dc(Methods)\n",
      "***"
     ]
    },
    {
     "cell_type": "code",
     "collapsed": false,
     "input": [
      "s = 'i like programming.'\n",
      "print s.upper()\n",
      "print s.upper().lower()\n",
      "print 'I Like Programming'.swapcase()  # \ub300\ubb38\uc790\ub294 \uc18c\ubb38\uc790\ub85c, \uc18c\ubb38\uc790\ub294 \ub300\ubb38\uc790\ub85c \ubcc0\ud658\n",
      "print s.capitalize()                   # \uccab \ubb38\uc790\ub97c \ub300\ubb38\uc790\ub85c \ubcc0\ud658\n",
      "print s.title()                        # \uac01 \ub2e8\uc5b4\uc758 \uccab \ubb38\uc790\ub97c \ub300\ubb38\uc790\ub85c \ubcc0\ud658 "
     ],
     "language": "python",
     "metadata": {},
     "outputs": [
      {
       "output_type": "stream",
       "stream": "stdout",
       "text": [
        "I LIKE PROGRAMMING.\n",
        "i like programming.\n",
        "i lIKE pROGRAMMING\n",
        "I like programming.\n",
        "I Like Programming.\n"
       ]
      }
     ],
     "prompt_number": 18
    },
    {
     "cell_type": "code",
     "collapsed": false,
     "input": [
      "s = 'i like programming, i like swimming.'\n",
      "print s.count('like')                  # 'like' \ubb38\uc790\uc5f4\uc774 \ucd9c\ud604\ud55c \ud69f\uc218\ub97c \ubc18\ud658\n",
      "print\n",
      "print s.find('like')                   # 'like'\uc758 \uccab\uae00\uc790 \uc704\uce58 (offset)\ub97c \ubc18\ud658\n",
      "print s.find('programming')            # 'programming'\uc758 \uccab\uae00\uc790 \uc704\uce58\ub97c \ubc18\ud658\n",
      "print s.find('programmin')             # 'programmin'\uc758 \uccab\uae00\uc790 \uc704\uce58\ub97c \ubc18\ud658\n",
      "print s.find('programmii')             # 'programmii' \ub2e8\uc5b4\ub294 \uc5c6\uae30 \ub54c\ubb38\uc5d0 -1 \ubc18\ud658\n",
      "print\n",
      "print s.find('like', 3)                # offset=3 \ubd80\ud130 'like'\uc744 \uac80\uc0c9\ud558\uc5ec 'like'\uc758 \uccab\uae00\uc790 \uc704\uce58 \ubc18\ud658 \n",
      "print s.find('my')                     # 'my' \ub2e8\uc5b4\ub294 \uc5c6\uae30 \ub54c\ubb38\uc5d0 -1 \ubc18\ud658\n",
      "print\n",
      "print s.rfind('like')                  # find('\ubb38\uc790\uc5f4')\uacfc \ub3d9\uc77c\ud558\uc9c0\ub9cc \uc624\ub978\ucabd\ubd80\ud130 \uac80\uc0c9\n",
      "print s.rfind('like', 23)              # \uc624\ub978\ucabd\ubd80\ud130 \uac80\uc0c9\ud558\ub418 offset=23\uae4c\uc9c0\ub9cc \uac80\uc0c9\n",
      "print"
     ],
     "language": "python",
     "metadata": {},
     "outputs": [
      {
       "output_type": "stream",
       "stream": "stdout",
       "text": [
        "2\n",
        "\n",
        "2\n",
        "7\n",
        "7\n",
        "-1\n",
        "\n",
        "22\n",
        "-1\n",
        "\n",
        "22\n",
        "-1\n",
        "\n"
       ]
      }
     ],
     "prompt_number": 1
    },
    {
     "cell_type": "code",
     "collapsed": false,
     "input": [
      "s = 'i like programming, i like swimming.'\n",
      "print s.startswith('i like')             # 'i like'\ub85c \uc2dc\uc791\ud558\ub294 \ubb38\uc790\uc5f4\uc778\uc9c0 \ud310\ub2e8\n",
      "print s.startswith('I like')             # \ub300\uc18c\ubb38\uc790 \uad6c\ubcc4\n",
      "print\n",
      "\n",
      "print s.endswith('swimming.')            # 'swimming.'\ub85c \ub05d\ub098\ub294 \ubb38\uc790\uc5f4\uc778\uc9c0 \ud310\ub2e8\n",
      "print s.startswith('progr', 7)           # 7\ubc88\uc9f8 \ubb38\uc790\uc5f4\uc774 'progr'\ub85c \uc2dc\uc791\ud558\ub294\uc9c0 \ud310\ub2e8\n",
      "print"
     ],
     "language": "python",
     "metadata": {},
     "outputs": [
      {
       "output_type": "stream",
       "stream": "stdout",
       "text": [
        "True\n",
        "False\n",
        "\n",
        "True\n",
        "True\n",
        "\n"
       ]
      }
     ],
     "prompt_number": 2
    },
    {
     "cell_type": "code",
     "collapsed": false,
     "input": [
      "u = ' spam and ham          '\n",
      "print u.strip()                                      # \uc88c\uc6b0 \uacf5\ubc31\uc744 \uc81c\uac70\ud558\uc5ec \uc0c8\ub85c\uc6b4 \uc2a4\ud2b8\ub9c1 \uc0dd\uc131\n",
      "print u                                              # \uc2a4\ud2b8\ub9c1\uc740 \ubcc0\uacbd\ubd88\uac00\ub2a5 \n",
      "y = u.strip()                                        # strip()\ub294 \uc0c8\ub85c\uc6b4 \uc2a4\ud2b8\ub9c1\uc744 \uc0dd\uc131\ud568\n",
      "print y\n",
      "print\n",
      "\n",
      "print u.rstrip()                                     # \uc624\ub978\ucabd \uacf5\ubc31 \uc81c\uac70\n",
      "print u.lstrip()                                     # \uc67c\ucabd \uacf5\ubc31 \uc81c\uac70   \n",
      "print '     abc '.strip()                            \n",
      "print '><><abc<><><>'.strip('<>')                    # \uc778\uc790\ub85c \uc8fc\uc5b4\uc9c4 \uc2a4\ud2b8\ub9c1 \uc548\uc5d0 \uc9c0\uc815\ub41c \ubaa8\ub4e0 \ubb38\uc790\ub97c \uc88c\uc6b0\uc5d0\uc11c \uc81c\uac70"
     ],
     "language": "python",
     "metadata": {},
     "outputs": [
      {
       "output_type": "stream",
       "stream": "stdout",
       "text": [
        "spam and ham\n",
        " spam and ham          \n",
        "spam and ham\n",
        "\n",
        " spam and ham\n",
        "spam and ham          \n",
        "abc\n",
        "abc\n"
       ]
      }
     ],
     "prompt_number": 4
    },
    {
     "cell_type": "code",
     "collapsed": false,
     "input": [
      "print '><><abc<><><>\\n'.strip('<>')                  # \uc88c\uc6b0 \ub05d\ucabd\uc774 \uc544\ub2cc \ub0b4\ubd80\uc5d0 \uc874\uc7ac\ud558\ub294 \uc9c0\uc815\ubb38\uc790\ub294 \uc81c\uac70\ub418\uc9c0 \uc54a\uc74c \n",
      "print '><><a<>bc<><><>\\n'.strip('<>')\n",
      "print\n",
      "\n",
      "p = ' \\t abc \\t '\n",
      "print p\n",
      "print p.strip()           # \\t\ub3c4 \uacf5\ubc31\ubb38\uc790\uc774\ubbc0\ub85c \uc81c\uac70\ub428"
     ],
     "language": "python",
     "metadata": {},
     "outputs": [
      {
       "output_type": "stream",
       "stream": "stdout",
       "text": [
        "abc<><><>\n",
        "\n",
        "a<>bc<><><>\n",
        "\n",
        "\n",
        " \t abc \t \n",
        "abc\n"
       ]
      }
     ],
     "prompt_number": 5
    },
    {
     "cell_type": "code",
     "collapsed": false,
     "input": [
      "u = 'spam and ham'\n",
      "print u.replace('spam', 'spam, egg')                 #replace()\ub294 \uc0c8\ub85c\uc6b4 \uc2a4\ud2b8\ub9c1\uc744 \uc0dd\uc131\ud568\n",
      "print u\n",
      "k = u.replace('spam', 'spam, egg')\n",
      "print k"
     ],
     "language": "python",
     "metadata": {},
     "outputs": [
      {
       "output_type": "stream",
       "stream": "stdout",
       "text": [
        "spam, egg and ham\n",
        "spam and ham\n",
        "spam, egg and ham\n"
       ]
      }
     ],
     "prompt_number": 36
    },
    {
     "cell_type": "code",
     "collapsed": false,
     "input": [
      "u = ' spam and ham     '\n",
      "print u.split()             # \uacf5\ubc31\uc73c\ub85c \ubd84\ub9ac (\ubaa8\ub4e0 \uacf5\ubc31 \uc81c\uac70 \ubc0f \ubb38\uc790\uc5f4 \ub0b4\uc758 \ub2e8\uc5b4 \ub9ac\uc2a4\ud2b8\ub97c \uc5bb\uc744 \uc218 \uc788\uc74c)\n",
      "print u.split('and')        # 'and'\ub85c \ubd84\ub9ac\n",
      "print\n",
      "\n",
      "u2 = 'spam and ham\\tegg\\ncheese'\n",
      "print u2.split()"
     ],
     "language": "python",
     "metadata": {},
     "outputs": [
      {
       "output_type": "stream",
       "stream": "stdout",
       "text": [
        "['spam', 'and', 'ham']\n",
        "[' spam ', ' ham     ']\n",
        "\n",
        "['spam', 'and', 'ham', 'egg', 'cheese']\n"
       ]
      }
     ],
     "prompt_number": 7
    },
    {
     "cell_type": "code",
     "collapsed": false,
     "input": [
      "u = 'spam ham\\tegg\\ncheese'\n",
      "t = u.split()               # \ubb38\uc790\uc5f4 \ub0b4\uc758 \ub2e8\uc5b4 \ub9ac\uc2a4\ud2b8    \n",
      "t2 = ':'.join(t)            # \ub9ac\uc2a4\ud2b8 t \ub0b4\ubd80\uc758 \uac01 \uc6d0\uc18c\ub4e4\uc744 ':'\ub85c \uc5f0\uacb0\ud55c \ubb38\uc790\uc5f4 \ubc18\ud658\n",
      "print type(t2)\n",
      "print t2\n",
      "print\n",
      "t3 = \",\".join(t)            # \ub9ac\uc2a4\ud2b8 t \ub0b4\ubd80\uc758 \uac01 \uc6d0\uc18c\ub4e4\uc744 ','\uc73c\ub85c \uc5f0\uacb0\ud55c \ubb38\uc790\uc5f4 \ubc18\ud658\n",
      "print t3\n",
      "print\n",
      "t4 = '\\n'.join(t)           # \ub9ac\uc2a4\ud2b8 t \ub0b4\ubd80\uc758 \uac01 \uc6d0\uc18c\ub4e4\uc744 '\\n'\uc73c\ub85c \uc5f0\uacb0\ud55c \ubb38\uc790\uc5f4 \ubc18\ud658\n",
      "print t4\n",
      "print"
     ],
     "language": "python",
     "metadata": {},
     "outputs": [
      {
       "output_type": "stream",
       "stream": "stdout",
       "text": [
        "<type 'str'>\n",
        "spam:ham:egg:cheese\n",
        "\n",
        "spam,ham,egg,cheese\n",
        "\n",
        "spam\n",
        "ham\n",
        "egg\n",
        "cheese\n",
        "\n"
       ]
      }
     ],
     "prompt_number": 8
    },
    {
     "cell_type": "code",
     "collapsed": false,
     "input": [
      "u = \"\uc2a4\ud338 \ud584 \uacc4\ub780 \uce58\uc988\"\n",
      "t = u.split()\n",
      "print t\n",
      "print t[0], t[1], t[2], t[3]\n",
      "print\n",
      "u2 = u\"\uc2a4\ud338 \ud584 \uacc4\ub780 \uce58\uc988\"\n",
      "t2 = u2.split()\n",
      "print t2\n",
      "print t2[0], t2[1], t2[2], t2[3]"
     ],
     "language": "python",
     "metadata": {},
     "outputs": [
      {
       "output_type": "stream",
       "stream": "stdout",
       "text": [
        "['\\xec\\x8a\\xa4\\xed\\x8c\\xb8', '\\xed\\x96\\x84', '\\xea\\xb3\\x84\\xeb\\x9e\\x80', '\\xec\\xb9\\x98\\xec\\xa6\\x88']\n",
        "\uc2a4\ud338 \ud584 \uacc4\ub780 \uce58\uc988\n",
        "\n",
        "[u'\\uc2a4\\ud338', u'\\ud584', u'\\uacc4\\ub780', u'\\uce58\\uc988']\n",
        "\uc2a4\ud338 \ud584 \uacc4\ub780 \uce58\uc988\n"
       ]
      }
     ],
     "prompt_number": 7
    },
    {
     "cell_type": "code",
     "collapsed": false,
     "input": [
      "lines = '''first line\n",
      "second line\n",
      "third line'''\n",
      "print type(lines)\n",
      "lines2 = lines.splitlines()    # \ubb38\uc790\uc5f4\uc744 \ub77c\uc778 \ub2e8\uc704\ub85c \ubd84\ub9ac\ud55c \uac01 \uc6d0\uc18c\ub4e4\uc744 \uc9c0\ub2cc \ub9ac\uc2a4\ud2b8 \ubc18\ud658\n",
      "print type(lines2)\n",
      "print lines2"
     ],
     "language": "python",
     "metadata": {},
     "outputs": [
      {
       "output_type": "stream",
       "stream": "stdout",
       "text": [
        "<type 'str'>\n",
        "<type 'list'>\n",
        "['first line', 'second line', 'third line']\n"
       ]
      }
     ],
     "prompt_number": 9
    },
    {
     "cell_type": "code",
     "collapsed": false,
     "input": [
      "s = 'one:two:three:four'\n",
      "print s.split(':', 2)           # \ub450 \ubc88\ub9cc \ubd84\ub9ac\ud558\uc5ec \uc5bb\uc740 \uac01 \uc6d0\uc18c\ub4e4\uc744 \ub9ac\uc2a4\ud2b8\uc5d0 \ub123\uc5b4 \ubc18\ud658\n",
      "print s.rsplit(':', 1)          # \uc624\ub978\ucabd \ubd80\ud130 \ubd84\ub9ac\ud558\ub418 \ud55c \ubc88\ub9cc \ubd84\ub9ac\ud558\uc5ec \uc5bb\uc740 \uac01 \uc6d0\uc18c\ub4e4\uc744 \ub9ac\uc2a4\ud2b8\uc5d0 \ub123\uc5b4 \ubc18\ud658 "
     ],
     "language": "python",
     "metadata": {},
     "outputs": [
      {
       "output_type": "stream",
       "stream": "stdout",
       "text": [
        "['one', 'two', 'three:four']\n",
        "['one:two:three', 'four']\n"
       ]
      }
     ],
     "prompt_number": 31
    },
    {
     "cell_type": "code",
     "collapsed": false,
     "input": [
      "u = 'spam and egg'\n",
      "c = u.center(60)                # 60\uc790\ub9ac\ub97c \ud655\ubcf4\ud558\ub418 \uae30\uc874 \ubb38\uc790\uc5f4\uc744 \uac00\uc6b4\ub370 \uc815\ub82c\ud55c \uc0c8\ub85c\uc6b4 \ubb38\uc790\uc5f4 \ubc18\ud658\n",
      "print type(c)\n",
      "print c\n",
      "print u.ljust(60)               # 60\uc790\ub9ac\ub97c \ud655\ubcf4\ud558\ub418 \uae30\uc874 \ubb38\uc790\uc5f4\uc744 \uc67c\ucabd \uc815\ub82c\ud55c \uc0c8\ub85c\uc6b4 \ubb38\uc790\uc5f4 \ubc18\ud658\n",
      "print u.rjust(60)               # 60\uc790\ub9ac\ub97c \ud655\ubcf4\ud558\ub418 \uae30\uc874 \ubb38\uc790\uc5f4\uc744 \uc624\ub978\ucabd \uc815\ub82c\ud55c \uc0c8\ub85c\uc6b4 \ubb38\uc790\uc5f4 \ubc18\ud658"
     ],
     "language": "python",
     "metadata": {},
     "outputs": [
      {
       "output_type": "stream",
       "stream": "stdout",
       "text": [
        "<type 'str'>\n",
        "                        spam and egg                        \n",
        "spam and egg                                                \n",
        "                                                spam and egg\n"
       ]
      }
     ],
     "prompt_number": 34
    },
    {
     "cell_type": "code",
     "collapsed": false,
     "input": [
      "u = 'spam and egg'\n",
      "print u.center(60, '-')               # \uacf5\ubc31\uc5d0 \ucc44\uc6cc\uc9c8 \ubb38\uc790\ub97c \uc120\ud0dd\ud560 \uc218 \uc788\uc74c\n",
      "print u.ljust(60, '-')\n",
      "print u.rjust(60, '-')"
     ],
     "language": "python",
     "metadata": {},
     "outputs": [
      {
       "output_type": "stream",
       "stream": "stdout",
       "text": [
        "------------------------spam and egg------------------------\n",
        "spam and egg------------------------------------------------\n",
        "------------------------------------------------spam and egg\n"
       ]
      }
     ],
     "prompt_number": 12
    },
    {
     "cell_type": "code",
     "collapsed": false,
     "input": [
      "print '1234'.isdigit()              # \ubb38\uc790\uc5f4 \ub0b4\uc758 Character\ub4e4\uc774 \ubaa8\ub450 \uc22b\uc790\uc778\uac00?\n",
      "print 'abcd'.isalpha()              # \ubb38\uc790\uc5f4 \ub0b4\uc758 Character\ub4e4\uc774 \ubaa8\ub450 \uc601\ubb38\uc790\uc778\uac00?\n",
      "print '1abc234'.isalnum()           # \ubb38\uc790\uc5f4 \ub0b4\uc758 Character\ub4e4\uc774 \ubaa8\ub450 \uc601\ubb38\uc790 \ub610\ub294 \uc22b\uc790\uc778\uac00? \n",
      "print 'abc'.islower()               # \ubb38\uc790\uc5f4 \ub0b4\uc758 Character\ub4e4\uc774 \ubaa8\ub450 \uc18c\ubb38\uc790\uc778\uac00?\n",
      "print 'ABC'.isupper()               # \ubb38\uc790\uc5f4 \ub0b4\uc758 Character\ub4e4\uc774 \ubaa8\ub450 \ub300\ubb38\uc790\uc778\uac00?\n",
      "print '\\t\\r\\n'.isspace()            # \ubb38\uc790\uc5f4 \ub0b4\uc758 Character\ub4e4\uc774 \ubaa8\ub450 \uacf5\ubc31 \ubb38\uc790\uc778\uac00?\n",
      "print 'This Is A Title'.istitle()   # \ubb38\uc790\uc5f4\uc774 Title \ud615\uc2dd (\uac01 \ub2e8\uc5b4\uc758 \uccab\uae00\uc790\uac00 \ub300\ubb38\uc790)\uc778\uac00?"
     ],
     "language": "python",
     "metadata": {},
     "outputs": [
      {
       "output_type": "stream",
       "stream": "stdout",
       "text": [
        "True\n",
        "True\n",
        "True\n",
        "True\n",
        "True\n",
        "True\n",
        "True\n"
       ]
      }
     ],
     "prompt_number": 42
    },
    {
     "cell_type": "code",
     "collapsed": false,
     "input": [
      "s = '123'\n",
      "print s.zfill(5)           # 5\uae00\uc790 \uc790\ub9ac \ud655\ubcf4\ub4a4 \ubb38\uc790\uc5f4\uc744 \uc4f0\ub418 \ub0a8\ub294 \uacf5\ubc31\uc5d0\ub294 zero (0)\ub97c \ucc44\uc6c0 \n",
      "print 'goofy'.zfill(6)     # 6\uae00\uc790 \uc790\ub9ac \ud655\ubcf4\ub4a4 ..."
     ],
     "language": "python",
     "metadata": {},
     "outputs": [
      {
       "output_type": "stream",
       "stream": "stdout",
       "text": [
        "00123\n",
        "0goofy\n"
       ]
      }
     ],
     "prompt_number": 45
    },
    {
     "cell_type": "markdown",
     "metadata": {},
     "source": [
      "***\n",
      "## 4 \ubb38\uc790\uc5f4 \ud3ec\ub9e4\ud305\n",
      "***"
     ]
    },
    {
     "cell_type": "markdown",
     "metadata": {},
     "source": [
      "### 4-1 \ud29c\ud50c\uc744 \uc774\uc6a9\ud55c \ud3ec\ub9e4\ud305"
     ]
    },
    {
     "cell_type": "markdown",
     "metadata": {},
     "source": [
      "#### 1) \ubb38\uc790\uc5f4 \ubcc0\ud658"
     ]
    },
    {
     "cell_type": "markdown",
     "metadata": {},
     "source": [
      "- %s \uc5f0\uc0b0\uc790: \ud3ec\ub9e4\ud305\ud560 \uac12\uc744 \ubb38\uc790\uc5f4\ub85c \ubc1b\uc544\ub0c4\n",
      "- % \ud29c\ud50c: \ud3ec\ub9e4\ud305 \ub0b4\uc5d0 \uac12\uc744 \ub123\uc5b4\uc90c"
     ]
    },
    {
     "cell_type": "code",
     "collapsed": false,
     "input": [
      "format = 'name = %s, age = %s'\n",
      "format"
     ],
     "language": "python",
     "metadata": {},
     "outputs": [
      {
       "metadata": {},
       "output_type": "pyout",
       "prompt_number": 51,
       "text": [
        "'name = %s, age = %s'"
       ]
      }
     ],
     "prompt_number": 51
    },
    {
     "cell_type": "code",
     "collapsed": false,
     "input": [
      "format % ('gslee', 24)"
     ],
     "language": "python",
     "metadata": {},
     "outputs": [
      {
       "metadata": {},
       "output_type": "pyout",
       "prompt_number": 52,
       "text": [
        "'name = gslee, age = 24'"
       ]
      }
     ],
     "prompt_number": 52
    },
    {
     "cell_type": "code",
     "collapsed": false,
     "input": [
      "letter = '''\n",
      "\uc548\ub155\ud558\uc138\uc694 %s\ub2d8,\n",
      "\n",
      "\uc624\ub298 \ubc24 \ud30c\ud2f0\uc5d0 \ucc38\uc11d\ud574 \uc8fc\uc2e4 \uc218 \uc788\ub098\uc694?\n",
      "\n",
      "\uadf8\ub7fc..\n",
      "\n",
      "\uc774\uac15\uc131 \ub4dc\ub9bc'''\n",
      "name = '\ud64d\uae38\ub3d9'\n",
      "print letter % name\n",
      "print \n",
      "names = ['\ud55c\ud559\uc2e0', '\uc815\uc778\uc219', '\ubc15\ubbf8\uacbd']\n",
      "for name in names:\n",
      "    print letter % name\n",
      "    print '-' * 40\n",
      "    print"
     ],
     "language": "python",
     "metadata": {},
     "outputs": [
      {
       "output_type": "stream",
       "stream": "stdout",
       "text": [
        "\n",
        "\uc548\ub155\ud558\uc138\uc694 \ud64d\uae38\ub3d9\ub2d8,\n",
        "\n",
        "\uc624\ub298 \ubc24 \ud30c\ud2f0\uc5d0 \ucc38\uc11d\ud574 \uc8fc\uc2e4 \uc218 \uc788\ub098\uc694?\n",
        "\n",
        "\uadf8\ub7fc..\n",
        "\n",
        "\uc774\uac15\uc131 \ub4dc\ub9bc\n",
        "\n",
        "\n",
        "\uc548\ub155\ud558\uc138\uc694 \ud55c\ud559\uc2e0\ub2d8,\n",
        "\n",
        "\uc624\ub298 \ubc24 \ud30c\ud2f0\uc5d0 \ucc38\uc11d\ud574 \uc8fc\uc2e4 \uc218 \uc788\ub098\uc694?\n",
        "\n",
        "\uadf8\ub7fc..\n",
        "\n",
        "\uc774\uac15\uc131 \ub4dc\ub9bc\n",
        "----------------------------------------\n",
        "\n",
        "\n",
        "\uc548\ub155\ud558\uc138\uc694 \uc815\uc778\uc219\ub2d8,\n",
        "\n",
        "\uc624\ub298 \ubc24 \ud30c\ud2f0\uc5d0 \ucc38\uc11d\ud574 \uc8fc\uc2e4 \uc218 \uc788\ub098\uc694?\n",
        "\n",
        "\uadf8\ub7fc..\n",
        "\n",
        "\uc774\uac15\uc131 \ub4dc\ub9bc\n",
        "----------------------------------------\n",
        "\n",
        "\n",
        "\uc548\ub155\ud558\uc138\uc694 \ubc15\ubbf8\uacbd\ub2d8,\n",
        "\n",
        "\uc624\ub298 \ubc24 \ud30c\ud2f0\uc5d0 \ucc38\uc11d\ud574 \uc8fc\uc2e4 \uc218 \uc788\ub098\uc694?\n",
        "\n",
        "\uadf8\ub7fc..\n",
        "\n",
        "\uc774\uac15\uc131 \ub4dc\ub9bc\n",
        "----------------------------------------\n",
        "\n"
       ]
      }
     ],
     "prompt_number": 27
    },
    {
     "cell_type": "markdown",
     "metadata": {},
     "source": [
      "#### 2) \uc22b\uc790 \ubcc0\ud658"
     ]
    },
    {
     "cell_type": "markdown",
     "metadata": {},
     "source": [
      "| \ud3ec\ub9f7\ud305 \ubb38\uc790 | \uc124\uba85                                                                         |\n",
      "|-------------|------------------------------------------------------------------------------|\n",
      "|     %s      | \ubb38\uc790\uc5f4\uc744 \ud3ec\ud568\ud55c \uc784\uc758\uc758 \uac1d\uccb4\ub97c \ubb38\uc790\uc5f4\ub85c \ubcc0\ud658\ud558\uc5ec \ucd9c\ub825 (str() \ub0b4\uc7a5 \ud568\uc218 \uc0ac\uc6a9)  |\n",
      "| %r          | \ubb38\uc790\uc5f4\uc744 \ud3ec\ud568\ud55c \uc784\uc758\uc758 \uac1d\uccb4\ub97c \ubb38\uc790\uc5f4\ub85c \ubcc0\ud658\ud558\uc5ec \ucd9c\ub825 (repr() \ub0b4\uc7a5 \ud568\uc218 \uc0ac\uc6a9) |\n",
      "| %c          | 1\uae00\uc790 \ubb38\uc790 (ex. '%c' % 'k)                                                   |\n",
      "| %d          | 10\uc9c4 \uc815\uc218 (%5d: 5\uc790\ub9ac\ub97c \ud655\ubcf4\ud55c \ud6c4 \uc815\uc218 \ud3ec\ub9f7\ud305)                               |\n",
      "| %i          | %d\uc640 \ub3d9\uc77c                                                                    |\n",
      "| %u          | \ubd80\ud638 \uc5c6\ub294 \uc815\uc218. \uc74c\uc218\ub294 \uc591\uc218\ucc98\ub7fc \ud574\uc11d\ud568 (ex. '%u' % -12 --> '4294967284')     |\n",
      "| %o          | 8\uc9c4\uc218 \uc815\uc218 (ex. '%o' % 13 --> 15)                                            |\n",
      "| %x          | 16\uc9c4\uc218 \uc815\uc218 (\uc18c\ubb38\uc790 \ud45c\ud604) (ex. '%x' % 13 --> 'd')                            |\n",
      "| %X          | 16\uc9c4\uc218 \uc815\uc218 (\ub300\ubb38\uc790 \ud45c\ud604) (ex. '%X' % 13 --> 'D')                            |\n",
      "| %e          | \ubd80\ub3d9 \uc18c\uc218\uc810 \uc2e4\uc218\ub97c \uc9c0\uc218 \ud615\ud0dc\ub85c \ud45c\ud604 (%.2e: 2\uc790\ub9ac\ub294 \uc18c\uc218\uc810 \uc774\ud558 \uc790\ub9ac\uc218)  |\n",
      "| %E          | %e \uc640 \ub3d9\uc77c (\ub300\ubb38\uc790 E \ud45c\ud604)  |\n",
      "| %f          | \ubd80\ub3d9 \uc18c\uc218\uc810 \uc2e4\uc218 (%5.2f: \uc18c\uc218\uc810 \ud3ec\ud568 \ucd1d 5\uc790\ub9ac \ud655\ubcf4\ud55c \ud6c4 2\uc790\ub9ac\ub294 \uc18c\uc218\uc810 \uc774\ud558 \uc790\ub9ac\uc218)  |\n",
      "| %g          | \ubd80\ub3d9 \uc18c\uc218\uc810\uc744 \ud3b8\uc758\uc5d0 \ub530\ub77c \uc77c\ubc18 \uc2e4\uc218 \ud615\uc2dd\uc774\ub098 \uc9c0\uc218 \ud615\uc2dd\uc73c\ub85c \ubcc0\ud658 |\n",
      "| %G          | %g\uc640 \ub3d9\uc77c (\ub300\ubb38\uc790 E \ud45c\ud604) |"
     ]
    },
    {
     "cell_type": "code",
     "collapsed": false,
     "input": [
      "print \"%s -- %s -- %d -- %f -- %e\" % ((1, 2), [3,4,5], 5, 5.3, 101.3)"
     ],
     "language": "python",
     "metadata": {},
     "outputs": [
      {
       "output_type": "stream",
       "stream": "stdout",
       "text": [
        "(1, 2) -- [3, 4, 5] -- 5 -- 5.300000 -- 1.013000e+02\n"
       ]
      }
     ],
     "prompt_number": 2
    },
    {
     "cell_type": "code",
     "collapsed": false,
     "input": [
      "print \"%r -- %r\" % ((1, 2), [3, 4, 5])   # str() \ub300\uc2e0\uc5d0 repr() \ub0b4\uc7a5 \ud568\uc218 \uc0ac\uc6a9"
     ],
     "language": "python",
     "metadata": {},
     "outputs": [
      {
       "output_type": "stream",
       "stream": "stdout",
       "text": [
        "(1, 2) -- [3, 4, 5]\n"
       ]
      }
     ],
     "prompt_number": 3
    },
    {
     "cell_type": "code",
     "collapsed": false,
     "input": [
      "print \"%3d -- %5.2f -- %.2e\" % (5, 5.356, 101.3)"
     ],
     "language": "python",
     "metadata": {},
     "outputs": [
      {
       "output_type": "stream",
       "stream": "stdout",
       "text": [
        "  5 --  5.36 -- 1.01e+02\n"
       ]
      }
     ],
     "prompt_number": 4
    },
    {
     "cell_type": "code",
     "collapsed": false,
     "input": [
      "a = 456\n",
      "print '%d -- %o -- %x -- %X' % (a, a, a, a)"
     ],
     "language": "python",
     "metadata": {},
     "outputs": [
      {
       "output_type": "stream",
       "stream": "stdout",
       "text": [
        "456 -- 710 -- 1c8 -- 1C8\n"
       ]
      }
     ],
     "prompt_number": 5
    },
    {
     "cell_type": "markdown",
     "metadata": {},
     "source": [
      "### 4-2 \uc0ac\uc804(Dictionary)\uc744 \uc774\uc6a9\ud55c \ud3ec\ub9e4\ud305"
     ]
    },
    {
     "cell_type": "code",
     "collapsed": false,
     "input": [
      "print '%(\uc774\ub984)s -- %(\uc804\ud654\ubc88\ud638)s' %{'\uc774\ub984':'\ud64d\uae38\ub3d9', '\uc804\ud654\ubc88\ud638':5284}\n",
      "print '%(\uc774\ub984)s -- %(\uc804\ud654\ubc88\ud638)s' %{'\uc804\ud654\ubc88\ud638':5284, '\uc774\ub984':'\ud64d\uae38\ub3d9'}\n",
      "print '%(\uc774\ub984)s -- %(\uc804\ud654\ubc88\ud638)s' %{'\uc804\ud654\ubc88\ud638':5284, '\uc774\ub984':'\ud64d\uae38\ub3d9', '\uc8fc\uc18c':'Seoul'}"
     ],
     "language": "python",
     "metadata": {},
     "outputs": [
      {
       "output_type": "stream",
       "stream": "stdout",
       "text": [
        "\ud64d\uae38\ub3d9 -- 5284\n",
        "\ud64d\uae38\ub3d9 -- 5284\n",
        "\ud64d\uae38\ub3d9 -- 5284\n"
       ]
      }
     ],
     "prompt_number": 1
    },
    {
     "cell_type": "markdown",
     "metadata": {},
     "source": [
      "- \ubaa8\ub4e0 \ubcc0\uc218\ub294 Dictionary \ud615\ud0dc\ub85c \uad00\ub9ac\uac00 \ub428\n",
      "- vars(): \ubcc0\uc218 \uad00\ub9ac Dictionary\ub97c \ubc18\ud658\ud558\ub294 \ub0b4\uc7a5\ud568\uc218"
     ]
    },
    {
     "cell_type": "code",
     "collapsed": false,
     "input": [
      "name = 'gslee'\n",
      "# vars()\n",
      "vars()['name']"
     ],
     "language": "python",
     "metadata": {},
     "outputs": [
      {
       "metadata": {},
       "output_type": "pyout",
       "prompt_number": 4,
       "text": [
        "'gslee'"
       ]
      }
     ],
     "prompt_number": 4
    },
    {
     "cell_type": "code",
     "collapsed": false,
     "input": [
      "name = 'gslee'\n",
      "phone = 5284\n",
      "'%(name)s -- %(phone)s' % vars()"
     ],
     "language": "python",
     "metadata": {},
     "outputs": [
      {
       "metadata": {},
       "output_type": "pyout",
       "prompt_number": 50,
       "text": [
        "'gslee -- 5284'"
       ]
      }
     ],
     "prompt_number": 50
    },
    {
     "cell_type": "markdown",
     "metadata": {},
     "source": [
      "<p style='text-align: right;'>\ucc38\uace0 \ubb38\ud5cc: \ud30c\uc774\uc36c(\uc5f4\ud608\uac15\uc758)(\uac1c\uc815\ud310 VER.2), \uc774\uac15\uc131, FreeLec, 2005\ub144 8\uc6d4 29\uc77c</p>"
     ]
    }
   ],
   "metadata": {}
  }
 ]
}