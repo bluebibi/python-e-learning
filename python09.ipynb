{
 "metadata": {
  "name": "",
  "signature": "sha256:a66522c47c0fe0234db6bfe5d7fd880be10be3b32b29999f8a77c84f8a3a7af8"
 },
 "nbformat": 3,
 "nbformat_minor": 0,
 "worksheets": [
  {
   "cells": [
    {
     "cell_type": "markdown",
     "metadata": {},
     "source": [
      "***\n",
      "***\n",
      "# 7. \ub9ac\uc2a4\ud2b8\uc758 \uae30\ucd08\n",
      "***\n",
      "***"
     ]
    },
    {
     "cell_type": "markdown",
     "metadata": {},
     "source": [
      "***\n",
      "## 1 \ub9ac\uc2a4\ud2b8 \uc0dd\uc131 \ubc0f \uae30\ubcf8 \uc5f0\uc0b0\n",
      "***\n",
      "- \ub9ac\uc2a4\ud2b8: \uc2dc\ud000\uc2a4 \uc790\ub8cc\ud615\uc774\uba74\uc11c \ubcc0\uacbd \uac00\ub2a5(Mutable)\n",
      "- \ub9ac\uc2a4\ud2b8\uc5d0\uc11c \uc9c0\uc6d0\ud558\ub294 \uc77c\ubc18\uc801\uc778 \uc5f0\uc0b0\n",
      "  - \uc778\ub371\uc2f1, \uc2ac\ub77c\uc774\uc2f1, \uc5f0\uacb0, \ubc18\ubcf5, \uba64\ubc84\uc27d \ud14c\uc2a4\ud2b8"
     ]
    },
    {
     "cell_type": "code",
     "collapsed": false,
     "input": [
      "l = []\n",
      "l = [1, 2, \"Great\"]\n",
      "print l[0], l[-1]\n",
      "print l[1:3], l[:]\n",
      "print\n",
      "\n",
      "L = range(10)\n",
      "print L[::2]\n",
      "print\n",
      "\n",
      "print l * 2\n",
      "print l + [3, 4, 5]\n",
      "print len(l)\n",
      "print\n",
      "print 4 in L"
     ],
     "language": "python",
     "metadata": {},
     "outputs": [
      {
       "output_type": "stream",
       "stream": "stdout",
       "text": [
        "1 Great\n",
        "[2, 'Great'] [1, 2, 'Great']\n",
        "\n",
        "[0, 2, 4, 6, 8]\n",
        "\n",
        "[1, 2, 'Great', 1, 2, 'Great']\n",
        "[1, 2, 'Great', 3, 4, 5]\n",
        "3\n",
        "\n",
        "True\n"
       ]
      }
     ],
     "prompt_number": 1
    },
    {
     "cell_type": "markdown",
     "metadata": {},
     "source": [
      "- Mutable \ud2b9\uc131\uc744 \uc9c0\ub2cc \ub9ac\uc2a4\ud2b8\uc758 \uac12 \ubcc0\uacbd"
     ]
    },
    {
     "cell_type": "code",
     "collapsed": false,
     "input": [
      "a = ['spam', 'eggs', 100, 1234]\n",
      "a[2] = a[2] + 23\n",
      "print a"
     ],
     "language": "python",
     "metadata": {},
     "outputs": [
      {
       "output_type": "stream",
       "stream": "stdout",
       "text": [
        "['spam', 'eggs', 123, 1234]\n"
       ]
      }
     ],
     "prompt_number": 11
    },
    {
     "cell_type": "markdown",
     "metadata": {},
     "source": [
      "- \ub9ac\uc2a4\ud2b8 \uc6d0\uc18c\uc5d0 \ub300\ud55c \uc2ac\ub77c\uc774\uc2a4 \uce58\ud658"
     ]
    },
    {
     "cell_type": "code",
     "collapsed": false,
     "input": [
      "a = ['spam', 'eggs', 123, 1234]\n",
      "a[0:2] = [1,12] # \ub3d9\uc77c\ud55c \ud06c\uae30\uc5d0 \ub300\ud55c \uc2ac\ub77c\uc774\uc2a4 \uce58\ud658\n",
      "print a\n",
      "\n",
      "a[0:2] = [1] # \uc11c\ub85c \ub2e4\ub978 \ud06c\uae30\uc5d0 \ub300\ud55c \uc2ac\ub77c\uc774\uc2a4 \uce58\ud658\n",
      "print a\n",
      "\n",
      "a[0:1] = [1, 2, 3] # \uc11c\ub85c \ub2e4\ub978 \ud06c\uae30\uc5d0 \ub300\ud55c \uc2ac\ub77c\uc774\uc2a4 \uce58\ud658\n",
      "print a"
     ],
     "language": "python",
     "metadata": {},
     "outputs": [
      {
       "output_type": "stream",
       "stream": "stdout",
       "text": [
        "[1, 12, 123, 1234]\n",
        "[1, 123, 1234]\n",
        "[1, 2, 3, 123, 1234]\n"
       ]
      }
     ],
     "prompt_number": 5
    },
    {
     "cell_type": "markdown",
     "metadata": {},
     "source": [
      "- \ub9ac\uc2a4\ud2b8 \uc6d0\uc18c\uc5d0 \ub300\ud55c \uc2ac\ub77c\uc774\uc2a4 \uc0ad\uc81c"
     ]
    },
    {
     "cell_type": "code",
     "collapsed": false,
     "input": [
      "a = [1, 12, 123, 1234]\n",
      "a[0:2] = []\n",
      "\n",
      "print a"
     ],
     "language": "python",
     "metadata": {},
     "outputs": [
      {
       "output_type": "stream",
       "stream": "stdout",
       "text": [
        "[123, 1234]\n"
       ]
      }
     ],
     "prompt_number": 1
    },
    {
     "cell_type": "markdown",
     "metadata": {},
     "source": [
      "- \ub9ac\uc2a4\ud2b8 \uc6d0\uc18c \uc0ac\uc774\uc5d0 \uc2ac\ub77c\uc774\uc2a4 \uc0bd\uc785"
     ]
    },
    {
     "cell_type": "code",
     "collapsed": false,
     "input": [
      "a = [123, 1234]\n",
      "a[1:1] = ['spam', 'ham'] # 1\ubc88\uc9f8 \uc778\ub371\uc2a4\uc5d0 \uc0bd\uc785\n",
      "print a\n",
      "\n",
      "b = [123, 1234]          \n",
      "b[1:2] = ['spam', 'ham'] # 1\ubc88\uc9f8 \uc6d0\uc18c\uc5d0 \ub300\ud55c \uce58\ud658\n",
      "print b\n",
      "\n",
      "a[:0] = a # \ub9ac\uc2a4\ud2b8 \ub9e8 \uc55e\uc5d0 \uc790\uae30 \uc790\uc2e0\uc744 \uc0bd\uc785\n",
      "print a"
     ],
     "language": "python",
     "metadata": {},
     "outputs": [
      {
       "output_type": "stream",
       "stream": "stdout",
       "text": [
        "[123, 'spam', 'ham', 1234]\n",
        "[123, 'spam', 'ham']\n",
        "[123, 'spam', 'ham', 1234, 123, 'spam', 'ham', 1234]\n"
       ]
      }
     ],
     "prompt_number": 1
    },
    {
     "cell_type": "markdown",
     "metadata": {},
     "source": [
      "- del\uc744 \uc774\uc6a9\ud55c \ub9ac\uc2a4\ud2b8 \uc694\uc18c \uc0ad\uc81c"
     ]
    },
    {
     "cell_type": "code",
     "collapsed": false,
     "input": [
      "a = [1, 2, 3, 4]\n",
      "del a[0]\n",
      "print a\n",
      "\n",
      "del a[1:]\n",
      "print a"
     ],
     "language": "python",
     "metadata": {},
     "outputs": [
      {
       "output_type": "stream",
       "stream": "stdout",
       "text": [
        "[2, 3, 4]\n",
        "[2]\n"
       ]
      }
     ],
     "prompt_number": 17
    },
    {
     "cell_type": "code",
     "collapsed": false,
     "input": [
      "a = range(4)\n",
      "print a\n",
      "print a[::2]\n",
      "\n",
      "del a[::2]\n",
      "print a"
     ],
     "language": "python",
     "metadata": {},
     "outputs": [
      {
       "output_type": "stream",
       "stream": "stdout",
       "text": [
        "[0, 1, 2, 3]\n",
        "[0, 2]\n",
        "[1, 3]\n"
       ]
      }
     ],
     "prompt_number": 9
    },
    {
     "cell_type": "markdown",
     "metadata": {},
     "source": [
      "- \ub9ac\uc2a4\ud2b8 \uc790\uccb4\uc5d0 \ub300\ud55c \uc0ad\uc81c\n",
      "  - \uc815\ud655\ud788\ub294 \ub9ac\uc2a4\ud2b8\ub97c \uac00\ub9ac\ud0a4\ub294 \ub808\ud37c\ub7f0\uc2a4\ub97c \uc9c0\ub2cc \ubcc0\uc218 a \uc0ad\uc81c"
     ]
    },
    {
     "cell_type": "code",
     "collapsed": false,
     "input": [
      "a = range(5)\n",
      "del a\n",
      "print a"
     ],
     "language": "python",
     "metadata": {},
     "outputs": [
      {
       "ename": "NameError",
       "evalue": "name 'a' is not defined",
       "output_type": "pyerr",
       "traceback": [
        "\u001b[0;31m---------------------------------------------------------------------------\u001b[0m\n\u001b[0;31mNameError\u001b[0m                                 Traceback (most recent call last)",
        "\u001b[0;32m<ipython-input-3-0820131cb511>\u001b[0m in \u001b[0;36m<module>\u001b[0;34m()\u001b[0m\n\u001b[1;32m      1\u001b[0m \u001b[0ma\u001b[0m \u001b[0;34m=\u001b[0m \u001b[0mrange\u001b[0m\u001b[0;34m(\u001b[0m\u001b[0;36m5\u001b[0m\u001b[0;34m)\u001b[0m\u001b[0;34m\u001b[0m\u001b[0m\n\u001b[1;32m      2\u001b[0m \u001b[0;32mdel\u001b[0m \u001b[0ma\u001b[0m\u001b[0;34m\u001b[0m\u001b[0m\n\u001b[0;32m----> 3\u001b[0;31m \u001b[0;32mprint\u001b[0m \u001b[0ma\u001b[0m\u001b[0;34m\u001b[0m\u001b[0m\n\u001b[0m",
        "\u001b[0;31mNameError\u001b[0m: name 'a' is not defined"
       ]
      }
     ],
     "prompt_number": 3
    },
    {
     "cell_type": "markdown",
     "metadata": {},
     "source": [
      "- \uc911\ucca9 \ub9ac\uc2a4\ud2b8: \ub9ac\uc2a4\ud2b8 \uc548\uc5d0 \uc694\uc18c\ub85c\uc11c \ub9ac\uc2a4\ud2b8\ub97c \uc9c0\ub2cc \ub9ac\uc2a4\ud2b8"
     ]
    },
    {
     "cell_type": "code",
     "collapsed": false,
     "input": [
      "s = [1, 2, 3]\n",
      "t = ['begin', s, 'end']\n",
      "print t\n",
      "\n",
      "print t[1][1]"
     ],
     "language": "python",
     "metadata": {},
     "outputs": [
      {
       "output_type": "stream",
       "stream": "stdout",
       "text": [
        "['begin', [1, 2, 3], 'end']\n",
        "2\n"
       ]
      }
     ],
     "prompt_number": 6
    },
    {
     "cell_type": "code",
     "collapsed": false,
     "input": [
      "s[1] = 100\n",
      "print t"
     ],
     "language": "python",
     "metadata": {},
     "outputs": [
      {
       "output_type": "stream",
       "stream": "stdout",
       "text": [
        "['begin', [1, 100, 3], 'end']\n"
       ]
      }
     ],
     "prompt_number": 7
    },
    {
     "cell_type": "code",
     "collapsed": false,
     "input": [
      "L = [1, ['a', ['x', 'y'], 'b'], 3]\n",
      "print L[0]\n",
      "print L[1]\n",
      "print L[1][1]\n",
      "print L[1][1][1]"
     ],
     "language": "python",
     "metadata": {},
     "outputs": [
      {
       "output_type": "stream",
       "stream": "stdout",
       "text": [
        "1\n",
        "['a', ['x', 'y'], 'b']\n",
        "['x', 'y']\n",
        "y\n"
       ]
      }
     ],
     "prompt_number": 22
    },
    {
     "cell_type": "markdown",
     "metadata": {},
     "source": [
      "- range: \uc21c\ucc28\uc801\uc778 \uc815\uc218 \ub9ac\uc2a4\ud2b8 \ub9cc\ub4e4\uae30"
     ]
    },
    {
     "cell_type": "code",
     "collapsed": false,
     "input": [
      "print range(10) # 0(Included)\ubd80\ud130 10(Excluded)\uae4c\uc9c0\n",
      "\n",
      "print range(5, 15) # 5(Included)\ubd80\ud130 15(Excluded)\uae4c\uc9c0\n",
      "\n",
      "print range(5, 15, 2) # 0(Included)\ubd80\ud130 10(Excluded)\uae4c\uc9c0, Step: 2"
     ],
     "language": "python",
     "metadata": {},
     "outputs": [
      {
       "output_type": "stream",
       "stream": "stdout",
       "text": [
        "[0, 1, 2, 3, 4, 5, 6, 7, 8, 9]\n",
        "[5, 6, 7, 8, 9, 10, 11, 12, 13, 14]\n",
        "[5, 7, 9, 11, 13]\n"
       ]
      }
     ],
     "prompt_number": 4
    },
    {
     "cell_type": "code",
     "collapsed": false,
     "input": [
      "for el in range(10):\n",
      "    print el, 'inch=', el * 2.54, 'centi'"
     ],
     "language": "python",
     "metadata": {},
     "outputs": [
      {
       "output_type": "stream",
       "stream": "stdout",
       "text": [
        "0 inch= 0.0 centi\n",
        "1 inch= 2.54 centi\n",
        "2 inch= 5.08 centi\n",
        "3 inch= 7.62 centi\n",
        "4 inch= 10.16 centi\n",
        "5 inch= 12.7 centi\n",
        "6 inch= 15.24 centi\n",
        "7 inch= 17.78 centi\n",
        "8 inch= 20.32 centi\n",
        "9 inch= 22.86 centi\n"
       ]
      }
     ],
     "prompt_number": 80
    },
    {
     "cell_type": "code",
     "collapsed": false,
     "input": [
      "sun, mon, tue, wed, thu, fri, sat = range(7)\n",
      "print sun, mon, tue, wed, thu, fri, sat"
     ],
     "language": "python",
     "metadata": {},
     "outputs": [
      {
       "output_type": "stream",
       "stream": "stdout",
       "text": [
        "0 1 2 3 4 5 6\n"
       ]
      }
     ],
     "prompt_number": 2
    },
    {
     "cell_type": "markdown",
     "metadata": {},
     "source": [
      "- \ub9ac\uc2a4\ud2b8 \uc548\uc758 \uac01 \uc790\ub8cc\uac00 \ud29c\ud50c\uc77c \ub54c for \ubb38\uc744 \uc0ac\uc6a9\ud558\uc5ec \uac12 \ucd94\ucd9c \ubc29\ubc95"
     ]
    },
    {
     "cell_type": "code",
     "collapsed": false,
     "input": [
      "lt = [('one', 1), ('two', 2), ('three', 3)]\n",
      "for t in lt:\n",
      "    print 'name =', t[0] ,', num =', t[1]"
     ],
     "language": "python",
     "metadata": {},
     "outputs": [
      {
       "output_type": "stream",
       "stream": "stdout",
       "text": [
        "name = one , num = 1\n",
        "name = two , num = 2\n",
        "name = three , num = 3\n"
       ]
      }
     ],
     "prompt_number": 4
    },
    {
     "cell_type": "markdown",
     "metadata": {},
     "source": [
      "- \uc544\ub798 \ucf54\ub4dc\uac00 \ub354 \ud6a8\uc728\uc801"
     ]
    },
    {
     "cell_type": "code",
     "collapsed": false,
     "input": [
      "lt = [('one', 1), ('two', 2), ('three', 3)]\n",
      "for t in lt:\n",
      "    print 'name = %s, num = %s' % t"
     ],
     "language": "python",
     "metadata": {},
     "outputs": [
      {
       "output_type": "stream",
       "stream": "stdout",
       "text": [
        "name = one, num = 1\n",
        "name = two, num = 2\n",
        "name = three, num = 3\n"
       ]
      }
     ],
     "prompt_number": 8
    },
    {
     "cell_type": "markdown",
     "metadata": {},
     "source": [
      "- for \ubb38\uc758 \ud5e4\ub354\uc5d0\uc11c \uac01 \ud29c\ud50c\uc758 \uac12 \ucd94\ucd9c"
     ]
    },
    {
     "cell_type": "code",
     "collapsed": false,
     "input": [
      "lt = [('one', 1), ('two', 2), ('three', 3)]\n",
      "for name, num in lt:\n",
      "    print name, num"
     ],
     "language": "python",
     "metadata": {},
     "outputs": [
      {
       "output_type": "stream",
       "stream": "stdout",
       "text": [
        "one 1\n",
        "two 2\n",
        "three 3\n"
       ]
      }
     ],
     "prompt_number": 12
    },
    {
     "cell_type": "markdown",
     "metadata": {},
     "source": [
      "- \ub9ac\uc2a4\ud2b8 \uc548\uc758 \uac01 \uc790\ub8cc\uac00 \ub9ac\uc2a4\ud2b8\uc5ec\ub3c4 for \ubb38\uc758 \ud5e4\ub354\uc5d0\uc11c \ub3d9\uc77c\ud558\uac8c \uac12 \ucd94\ucd9c \uac00\ub2a5"
     ]
    },
    {
     "cell_type": "code",
     "collapsed": false,
     "input": [
      "LL = [['one', 1], ['two', 2], ['three', 3]]\n",
      "for name, num in LL:\n",
      "    print name, num"
     ],
     "language": "python",
     "metadata": {},
     "outputs": [
      {
       "output_type": "stream",
       "stream": "stdout",
       "text": [
        "one 1\n",
        "two 2\n",
        "three 3\n"
       ]
      }
     ],
     "prompt_number": 38
    },
    {
     "cell_type": "markdown",
     "metadata": {},
     "source": [
      "***\n",
      "## 2 \ub9ac\uc2a4\ud2b8 \uba54\uc18c\ub4dc\n",
      "***"
     ]
    },
    {
     "cell_type": "markdown",
     "metadata": {},
     "source": [
      "### 2-1 \ub9ac\uc2a4\ud2b8\uac00 \uc9c0\uc6d0\ud558\ub294 \uba54\uc18c\ub4dc"
     ]
    },
    {
     "cell_type": "code",
     "collapsed": false,
     "input": [
      "s = [1, 2, 3]\n",
      "\n",
      "s.append(5) # \ub9ac\uc2a4\ud2b8 \ub9e8 \ub9c8\uc9c0\ub9c9\uc5d0 \uc815\uc218 \uac12 5 \ucd94\uac00\n",
      "print s\n",
      "\n",
      "s.insert(3, 4) # 3 \uc778\ub371\uc2a4 \uc704\uce58\uc5d0 \uc815\uc218 \uac12 4 \ucd94\uac00\n",
      "print s"
     ],
     "language": "python",
     "metadata": {},
     "outputs": [
      {
       "output_type": "stream",
       "stream": "stdout",
       "text": [
        "[1, 2, 3, 5]\n",
        "[1, 2, 3, 4, 5]\n"
       ]
      }
     ],
     "prompt_number": 19
    },
    {
     "cell_type": "code",
     "collapsed": false,
     "input": [
      "s = [1, 2, 3, 4, 5]\n",
      "\n",
      "print s.index(3)        # \uac12 3\uc758 \uc778\ub371\uc2a4 \ubc18\ud658\n",
      "\n",
      "print s.count(2)        # \uac12 2\uc758 \uac1c\uc218 \ubc18\ud658\n",
      "\n",
      "s = [1, 2, 2, 2, 2, 2, 3, 4, 5]\n",
      "print s.count(2)"
     ],
     "language": "python",
     "metadata": {},
     "outputs": [
      {
       "output_type": "stream",
       "stream": "stdout",
       "text": [
        "2\n",
        "1\n",
        "5\n"
       ]
      }
     ],
     "prompt_number": 24
    },
    {
     "cell_type": "markdown",
     "metadata": {},
     "source": [
      "- python\uc758 \uc18c\ud305 \uc54c\uace0\ub9ac\uc998: Timsort (\ubcc0\ud615\ub41c merge sort)\n",
      "  - \ucc38\uace0: http://orchistro.tistory.com/175"
     ]
    },
    {
     "cell_type": "code",
     "collapsed": false,
     "input": [
      "s = [1, 2, -10, -7, 100]\n",
      "s.reverse() # \uc790\ub8cc\uc758 \uc21c\uc11c\ub97c \ub4a4\uc9d1\uae30 (\ubc18\ud658\uac12 \uc5c6\uc74c)   \n",
      "print s\n",
      "\n",
      "s.sort() # \uc815\ub82c (\ubc18\ud658\uac12 \uc5c6\uc74c)\n",
      "print s"
     ],
     "language": "python",
     "metadata": {},
     "outputs": [
      {
       "output_type": "stream",
       "stream": "stdout",
       "text": [
        "[100, -7, -10, 2, 1]\n",
        "[-10, -7, 1, 2, 100]\n"
       ]
      }
     ],
     "prompt_number": 5
    },
    {
     "cell_type": "code",
     "collapsed": false,
     "input": [
      "s = [10, 20, 30, 40, 50]\n",
      "s.remove(10) # \uc790\ub8cc \uac12 10 \uc0ad\uc81c\n",
      "print s\n",
      "\n",
      "s = [10, 20, 30, 20, 40, 50] # \uc790\ub8cc \uac12\uc774 \uc5ec\ub7ec\uac1c \uc874\uc7ac\ud558\uba74 \uccab\ubc88\uc9f8 \uac83\ub9cc \uc0ad\uc81c\n",
      "s.remove(20)\n",
      "print s\n",
      "\n",
      "s.extend([60, 70]) # \uc0c8\ub85c\uc6b4 \ub9ac\uc2a4\ud2b8([60, 70]\ub97c \uae30\uc874 \ub9ac\uc2a4\ud2b8 s \ub4a4\uc5d0 \ubcd1\ud569\n",
      "print s\n",
      "\n",
      "s.append([60, 70]) # \uc8fc\uc758: append\ub85c \uc0c8\ub85c\uc6b4 \ub9ac\uc2a4\ud2b8\ub97c \ucd94\uac00\ud558\uba74 \ud558\ub098\uc758 \uc790\ub8cc \uc694\uc18c\ub85c\uc11c \ucd94\uac00\n",
      "print s"
     ],
     "language": "python",
     "metadata": {},
     "outputs": [
      {
       "output_type": "stream",
       "stream": "stdout",
       "text": [
        "[20, 30, 40, 50]\n",
        "[10, 30, 20, 40, 50]\n",
        "[10, 30, 20, 40, 50, 60, 70]\n",
        "[10, 30, 20, 40, 50, 60, 70, [60, 70]]\n"
       ]
      }
     ],
     "prompt_number": 36
    },
    {
     "cell_type": "markdown",
     "metadata": {},
     "source": [
      "### 2-2 \ub9ac\uc2a4\ud2b8\ub97c \uc2a4\ud0dd(Stack)\uc73c\ub85c \uc0ac\uc6a9\ud558\uae30"
     ]
    },
    {
     "cell_type": "code",
     "collapsed": false,
     "input": [
      "s = [10, 20, 30, 40, 50]\n",
      "s.append(60)\n",
      "print s\n",
      "\n",
      "print s.pop()\n",
      "\n",
      "print s"
     ],
     "language": "python",
     "metadata": {},
     "outputs": [
      {
       "output_type": "stream",
       "stream": "stdout",
       "text": [
        "[10, 20, 30, 40, 50, 60]\n",
        "60\n",
        "[10, 20, 30, 40, 50]\n"
       ]
      }
     ],
     "prompt_number": 37
    },
    {
     "cell_type": "markdown",
     "metadata": {},
     "source": [
      "![image](images/stack.png)"
     ]
    },
    {
     "cell_type": "code",
     "collapsed": false,
     "input": [
      "s = [10, 20, 30, 40, 50]\n",
      "print s.pop(0)   #0 \ubc88\uc9f8 \uc778\ub371\uc2a4 \uac12\uc744 \uaebc\ub0b8\ub2e4.\n",
      "\n",
      "print s\n",
      "\n",
      "print s.pop(1)   #1 \ubc88\uc9f8 \uc778\ub371\uc2a4 \uac12\uc744 \uaebc\ub0b8\ub2e4.\n",
      "\n",
      "print s"
     ],
     "language": "python",
     "metadata": {},
     "outputs": [
      {
       "output_type": "stream",
       "stream": "stdout",
       "text": [
        "10\n",
        "[20, 30, 40, 50]\n",
        "30\n",
        "[20, 40, 50]\n"
       ]
      }
     ],
     "prompt_number": 2
    },
    {
     "cell_type": "markdown",
     "metadata": {},
     "source": [
      "### 2-3 \ub9ac\uc2a4\ud2b8\ub97c \ud050(Queue)\ub85c \uc0ac\uc6a9\ud558\uae30"
     ]
    },
    {
     "cell_type": "code",
     "collapsed": false,
     "input": [
      "q = [10, 20, 30, 40, 50]\n",
      "q.append(60)\n",
      "print q.pop(0)\n",
      "\n",
      "print q"
     ],
     "language": "python",
     "metadata": {},
     "outputs": [
      {
       "output_type": "stream",
       "stream": "stdout",
       "text": [
        "10\n",
        "[20, 30, 40, 50, 60]\n"
       ]
      }
     ],
     "prompt_number": 3
    },
    {
     "cell_type": "markdown",
     "metadata": {},
     "source": [
      "![image](images/queue.png)"
     ]
    },
    {
     "cell_type": "markdown",
     "metadata": {},
     "source": [
      "<p style='text-align: right;'>\ucc38\uace0 \ubb38\ud5cc: \ud30c\uc774\uc36c(\uc5f4\ud608\uac15\uc758)(\uac1c\uc815\ud310 VER.2), \uc774\uac15\uc131, FreeLec, 2005\ub144 8\uc6d4 29\uc77c</p>"
     ]
    }
   ],
   "metadata": {}
  }
 ]
}