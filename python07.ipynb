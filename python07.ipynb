{
 "metadata": {
  "name": "",
  "signature": "sha256:92ebc20554a309445294b3ed63c826bf2f881460b484bcd98ff71ad9132256e2"
 },
 "nbformat": 3,
 "nbformat_minor": 0,
 "worksheets": [
  {
   "cells": [
    {
     "cell_type": "markdown",
     "metadata": {},
     "source": [
      "***\n",
      "***\n",
      "# 7. \ub9ac\uc2a4\ud2b8\n",
      "***\n",
      "***"
     ]
    },
    {
     "cell_type": "markdown",
     "metadata": {},
     "source": [
      "***\n",
      "## 1 \ub9ac\uc2a4\ud2b8 \ud65c\uc6a9\ubc95\n",
      "***\n",
      "- \ub9ac\uc2a4\ud2b8: \uc2dc\ud000\uc2a4 \uc790\ub8cc\ud615\uc774\uba74\uc11c \ubcc0\uacbd \uac00\ub2a5(Mutable)\n",
      "- \ub9ac\uc2a4\ud2b8\uc5d0\uc11c \uc9c0\uc6d0\ud558\ub294 \uc77c\ubc18\uc801\uc778 \uc5f0\uc0b0\n",
      "  - \uc778\ub371\uc2f1, \uc2ac\ub77c\uc774\uc2f1, \uc5f0\uacb0, \ubc18\ubcf5, \uba64\ubc84\uc27d \ud14c\uc2a4\ud2b8"
     ]
    },
    {
     "cell_type": "code",
     "collapsed": false,
     "input": [
      "l = []\n",
      "l = [1,2,\"Great\"]\n",
      "print l[0], l[-1]\n",
      "print l[1:3], l[:]\n",
      "print\n",
      "\n",
      "L = range(10)\n",
      "print L[::2]\n",
      "print\n",
      "\n",
      "print l * 2\n",
      "print l + [3, 4, 5]\n",
      "print len(l)\n",
      "print\n",
      "print 4 in L"
     ],
     "language": "python",
     "metadata": {},
     "outputs": [
      {
       "output_type": "stream",
       "stream": "stdout",
       "text": [
        "1 Great\n",
        "[2, 'Great'] [1, 2, 'Great']\n",
        "\n",
        "[0, 2, 4, 6, 8]\n",
        "\n",
        "[1, 2, 'Great', 1, 2, 'Great']\n",
        "[1, 2, 'Great', 3, 4, 5]\n",
        "3\n",
        "\n",
        "True\n"
       ]
      }
     ],
     "prompt_number": 3
    },
    {
     "cell_type": "markdown",
     "metadata": {},
     "source": [
      "- Mutable \ud2b9\uc131\uc744 \uc9c0\ub2cc \ub9ac\uc2a4\ud2b8\uc758 \uac12 \ubcc0\uacbd"
     ]
    },
    {
     "cell_type": "code",
     "collapsed": false,
     "input": [
      "a = ['spam', 'eggs', 100, 1234]\n",
      "a[2] = a[2] + 23\n",
      "print a"
     ],
     "language": "python",
     "metadata": {},
     "outputs": [
      {
       "output_type": "stream",
       "stream": "stdout",
       "text": [
        "['spam', 'eggs', 123, 1234]\n"
       ]
      }
     ],
     "prompt_number": 11
    },
    {
     "cell_type": "markdown",
     "metadata": {},
     "source": [
      "- \ub9ac\uc2a4\ud2b8 \uc6d0\uc18c\uc5d0 \ub300\ud55c \uc2ac\ub77c\uc774\uc2a4 \uce58\ud658"
     ]
    },
    {
     "cell_type": "code",
     "collapsed": false,
     "input": [
      "a = ['spam', 'eggs', 123, 1234]\n",
      "a[0:2] = [1,12]      # \ub3d9\uc77c\ud55c \ud06c\uae30\uc5d0 \ub300\ud55c \uc2ac\ub77c\uc774\uc2a4 \uce58\ud658\n",
      "print a\n",
      "\n",
      "a[0:2] = [1]         # \uc11c\ub85c \ub2e4\ub978 \ud06c\uae30\uc5d0 \ub300\ud55c \uc2ac\ub77c\uc774\uc2a4 \uce58\ud658\n",
      "print a\n",
      "\n",
      "a[0:1] = [1, 2, 3]   # \uc11c\ub85c \ub2e4\ub978 \ud06c\uae30\uc5d0 \ub300\ud55c \uc2ac\ub77c\uc774\uc2a4 \uce58\ud658\n",
      "print a"
     ],
     "language": "python",
     "metadata": {},
     "outputs": [
      {
       "output_type": "stream",
       "stream": "stdout",
       "text": [
        "[1, 12, 123, 1234]\n",
        "[1, 123, 1234]\n",
        "[1, 2, 3, 123, 1234]\n"
       ]
      }
     ],
     "prompt_number": 5
    },
    {
     "cell_type": "markdown",
     "metadata": {},
     "source": [
      "- \ub9ac\uc2a4\ud2b8 \uc6d0\uc18c\uc5d0 \ub300\ud55c \uc2ac\ub77c\uc774\uc2a4 \uc0ad\uc81c"
     ]
    },
    {
     "cell_type": "code",
     "collapsed": false,
     "input": [
      "a = [1, 12, 123, 1234]\n",
      "a[0:2] = []\n",
      "\n",
      "print a"
     ],
     "language": "python",
     "metadata": {},
     "outputs": [
      {
       "output_type": "stream",
       "stream": "stdout",
       "text": [
        "[123, 1234]\n"
       ]
      }
     ],
     "prompt_number": 1
    },
    {
     "cell_type": "markdown",
     "metadata": {},
     "source": [
      "- \ub9ac\uc2a4\ud2b8 \uc6d0\uc18c \uc0ac\uc774\uc5d0 \uc2ac\ub77c\uc774\uc2a4 \uc0bd\uc785"
     ]
    },
    {
     "cell_type": "code",
     "collapsed": false,
     "input": [
      "a = [123, 1234]\n",
      "a[1:1] = ['spam', 'ham']    # 1\ubc88\uc9f8 \uc778\ub371\uc2a4\uc5d0 \uc0bd\uc785\n",
      "print a\n",
      "\n",
      "b = [123, 1234]          \n",
      "b[1:2] = ['spam', 'ham']    # 1\ubc88\uc9f8 \uc6d0\uc18c\uc5d0 \ub300\ud55c \uce58\ud658\n",
      "print b\n",
      "\n",
      "a[:0] = a                   # \ub9ac\uc2a4\ud2b8 \ub9e8 \uc55e\uc5d0 \uc790\uae30 \uc790\uc2e0\uc744 \uc0bd\uc785\n",
      "print a"
     ],
     "language": "python",
     "metadata": {},
     "outputs": [
      {
       "output_type": "stream",
       "stream": "stdout",
       "text": [
        "[123, 'spam', 'ham', 1234]\n",
        "[123, 'spam', 'ham']\n",
        "[123, 'spam', 'ham', 1234, 123, 'spam', 'ham', 1234]\n"
       ]
      }
     ],
     "prompt_number": 1
    },
    {
     "cell_type": "markdown",
     "metadata": {},
     "source": [
      "- del\uc744 \uc774\uc6a9\ud55c \ub9ac\uc2a4\ud2b8 \uc694\uc18c \uc0ad\uc81c"
     ]
    },
    {
     "cell_type": "code",
     "collapsed": false,
     "input": [
      "a = [1, 2, 3, 4]\n",
      "del a[0]\n",
      "print a\n",
      "\n",
      "del a[1:]\n",
      "print a"
     ],
     "language": "python",
     "metadata": {},
     "outputs": [
      {
       "output_type": "stream",
       "stream": "stdout",
       "text": [
        "[2, 3, 4]\n",
        "[2]\n"
       ]
      }
     ],
     "prompt_number": 17
    },
    {
     "cell_type": "code",
     "collapsed": false,
     "input": [
      "a = range(4)\n",
      "print a\n",
      "print a[::2]\n",
      "\n",
      "del a[::2]\n",
      "print a"
     ],
     "language": "python",
     "metadata": {},
     "outputs": [
      {
       "output_type": "stream",
       "stream": "stdout",
       "text": [
        "[0, 1, 2, 3]\n",
        "[0, 2]\n",
        "[1, 3]\n"
       ]
      }
     ],
     "prompt_number": 9
    },
    {
     "cell_type": "code",
     "collapsed": false,
     "input": [
      "a = range(5)\n",
      "del a          # \ub9ac\uc2a4\ud2b8 \uc790\uccb4\uc5d0 \ub300\ud55c \uc0ad\uc81c (\uc815\ud655\ud788\ub294 \ub9ac\uc2a4\ud2b8\ub97c \uac00\ub9ac\ud0a4\ub294 \ub808\ud37c\ub7f0\uc2a4\ub97c \uc9c0\ub2cc \ubcc0\uc218 a \uc0ad\uc81c)\n",
      "print a"
     ],
     "language": "python",
     "metadata": {},
     "outputs": [
      {
       "ename": "NameError",
       "evalue": "name 'a' is not defined",
       "output_type": "pyerr",
       "traceback": [
        "\u001b[0;31m---------------------------------------------------------------------------\u001b[0m\n\u001b[0;31mNameError\u001b[0m                                 Traceback (most recent call last)",
        "\u001b[0;32m<ipython-input-14-02d3151b8089>\u001b[0m in \u001b[0;36m<module>\u001b[0;34m()\u001b[0m\n\u001b[1;32m      1\u001b[0m \u001b[0ma\u001b[0m \u001b[0;34m=\u001b[0m \u001b[0mrange\u001b[0m\u001b[0;34m(\u001b[0m\u001b[0;36m5\u001b[0m\u001b[0;34m)\u001b[0m\u001b[0;34m\u001b[0m\u001b[0m\n\u001b[1;32m      2\u001b[0m \u001b[0;32mdel\u001b[0m \u001b[0ma\u001b[0m          \u001b[0;31m# \ub9ac\uc2a4\ud2b8 \uc790\uccb4\uc5d0 \ub300\ud55c \uc0ad\uc81c (\uc815\ud655\ud788\ub294 \ub9ac\uc2a4\ud2b8\ub97c \uac00\ub9ac\ud0a4\ub294 \ub808\ud37c\ub7f0\uc2a4\ub97c \uc9c0\ub2cc \ubcc0\uc218 a \uc0ad\uc81c)\u001b[0m\u001b[0;34m\u001b[0m\u001b[0m\n\u001b[0;32m----> 3\u001b[0;31m \u001b[0;32mprint\u001b[0m \u001b[0ma\u001b[0m\u001b[0;34m\u001b[0m\u001b[0m\n\u001b[0m",
        "\u001b[0;31mNameError\u001b[0m: name 'a' is not defined"
       ]
      }
     ],
     "prompt_number": 14
    },
    {
     "cell_type": "markdown",
     "metadata": {},
     "source": [
      "- \uc911\ucca9 \ub9ac\uc2a4\ud2b8: \ub9ac\uc2a4\ud2b8 \uc548\uc5d0 \uc694\uc18c\ub85c\uc11c \ub9ac\uc2a4\ud2b8\ub97c \uc9c0\ub2cc \ub9ac\uc2a4\ud2b8"
     ]
    },
    {
     "cell_type": "code",
     "collapsed": false,
     "input": [
      "s = [1, 2, 3]\n",
      "t = ['begin', s, 'end']\n",
      "print t\n",
      "\n",
      "print t[1][1]"
     ],
     "language": "python",
     "metadata": {},
     "outputs": [
      {
       "output_type": "stream",
       "stream": "stdout",
       "text": [
        "['begin', [1, 2, 3], 'end']\n",
        "2\n"
       ]
      }
     ],
     "prompt_number": 6
    },
    {
     "cell_type": "code",
     "collapsed": false,
     "input": [
      "s[1] = 100\n",
      "print t"
     ],
     "language": "python",
     "metadata": {},
     "outputs": [
      {
       "output_type": "stream",
       "stream": "stdout",
       "text": [
        "['begin', [1, 100, 3], 'end']\n"
       ]
      }
     ],
     "prompt_number": 7
    },
    {
     "cell_type": "code",
     "collapsed": false,
     "input": [
      "L = [1, ['a', ['x', 'y'], 'b'], 3]\n",
      "print L[0]\n",
      "print L[1]\n",
      "print L[1][1]\n",
      "print L[1][1][1]"
     ],
     "language": "python",
     "metadata": {},
     "outputs": [
      {
       "output_type": "stream",
       "stream": "stdout",
       "text": [
        "1\n",
        "['a', ['x', 'y'], 'b']\n",
        "['x', 'y']\n",
        "y\n"
       ]
      }
     ],
     "prompt_number": 22
    },
    {
     "cell_type": "markdown",
     "metadata": {},
     "source": [
      "- range: \uc21c\ucc28\uc801\uc778 \uc815\uc218 \ub9ac\uc2a4\ud2b8 \ub9cc\ub4e4\uae30"
     ]
    },
    {
     "cell_type": "code",
     "collapsed": false,
     "input": [
      "print range(10)            # 0(Included)\ubd80\ud130 10(Excluded)\uae4c\uc9c0\n",
      "\n",
      "print range(5, 15)         # 5(Included)\ubd80\ud130 15(Excluded)\uae4c\uc9c0\n",
      "\n",
      "print range(5, 15, 2)      # 0(Included)\ubd80\ud130 10(Excluded)\uae4c\uc9c0, Step: 2\n",
      "\n",
      "print range(0, -10, -1)    # 0(Included)\ubd80\ud130 -10(Excluded)\uae4c\uc9c0, Step: -1"
     ],
     "language": "python",
     "metadata": {},
     "outputs": [
      {
       "output_type": "stream",
       "stream": "stdout",
       "text": [
        "[0, 1, 2, 3, 4, 5, 6, 7, 8, 9]\n",
        "[5, 6, 7, 8, 9, 10, 11, 12, 13, 14]\n",
        "[5, 7, 9, 11, 13]\n",
        "[0, -1, -2, -3, -4, -5, -6, -7, -8, -9]\n"
       ]
      }
     ],
     "prompt_number": 1
    },
    {
     "cell_type": "code",
     "collapsed": false,
     "input": [
      "for el in range(10):\n",
      "    print el, 'inch=', el * 2.54, 'centi'"
     ],
     "language": "python",
     "metadata": {},
     "outputs": [
      {
       "output_type": "stream",
       "stream": "stdout",
       "text": [
        "0 inch= 0.0 centi\n",
        "1 inch= 2.54 centi\n",
        "2 inch= 5.08 centi\n",
        "3 inch= 7.62 centi\n",
        "4 inch= 10.16 centi\n",
        "5 inch= 12.7 centi\n",
        "6 inch= 15.24 centi\n",
        "7 inch= 17.78 centi\n",
        "8 inch= 20.32 centi\n",
        "9 inch= 22.86 centi\n"
       ]
      }
     ],
     "prompt_number": 80
    },
    {
     "cell_type": "code",
     "collapsed": false,
     "input": [
      "sun, mon, tue, wed, thu, fri, sat = range(7)\n",
      "print sun, mon, tue, wed, thu, fri, sat"
     ],
     "language": "python",
     "metadata": {},
     "outputs": [
      {
       "output_type": "stream",
       "stream": "stdout",
       "text": [
        "0 1 2 3 4 5 6\n"
       ]
      }
     ],
     "prompt_number": 2
    },
    {
     "cell_type": "markdown",
     "metadata": {},
     "source": [
      "- \ud29c\ud50c \ud639\uc740 \ub9ac\uc2a4\ud2b8\uc758 \ub9ac\uc2a4\ud2b8 \ubc18\ubcf5 \ucc38\uc870\ud558\uae30\n",
      "  - \ub9ac\uc2a4\ud2b8 \uc548\uc758 \uac01 \uc790\ub8cc\uac00 \ud29c\ud50c\uc77c \ub54c for \ubb38\uc744 \uc0ac\uc6a9\ud558\uc5ec \uac12 \ucd94\ucd9c \ubc29\ubc95"
     ]
    },
    {
     "cell_type": "code",
     "collapsed": false,
     "input": [
      "lt = [('one', 1), ('two', 2), ('three', 3)]\n",
      "for t in lt:\n",
      "    print 'name =', t[0] ,', num =', t[1]"
     ],
     "language": "python",
     "metadata": {},
     "outputs": [
      {
       "output_type": "stream",
       "stream": "stdout",
       "text": [
        "name = one , num = 1\n",
        "name = two , num = 2\n",
        "name = three , num = 3\n"
       ]
      }
     ],
     "prompt_number": 4
    },
    {
     "cell_type": "markdown",
     "metadata": {},
     "source": [
      "- \uc544\ub798 \ucf54\ub4dc\uac00 \ub354 \ud6a8\uc728\uc801"
     ]
    },
    {
     "cell_type": "code",
     "collapsed": false,
     "input": [
      "lt = [('one', 1), ('two', 2), ('three', 3)]\n",
      "for t in lt:\n",
      "    print 'name = %s, num = %s' % t"
     ],
     "language": "python",
     "metadata": {},
     "outputs": [
      {
       "output_type": "stream",
       "stream": "stdout",
       "text": [
        "name = one, num = 1\n",
        "name = two, num = 2\n",
        "name = three, num = 3\n"
       ]
      }
     ],
     "prompt_number": 8
    },
    {
     "cell_type": "markdown",
     "metadata": {},
     "source": [
      "- for \ubb38\uc758 \ud5e4\ub354\uc5d0\uc11c \uac01 \ud29c\ud50c\uc758 \uac12 \ucd94\ucd9c"
     ]
    },
    {
     "cell_type": "code",
     "collapsed": false,
     "input": [
      "lt = [('one', 1), ('two', 2), ('three', 3)]\n",
      "for name, num in lt:\n",
      "    print name, num"
     ],
     "language": "python",
     "metadata": {},
     "outputs": [
      {
       "output_type": "stream",
       "stream": "stdout",
       "text": [
        "one 1\n",
        "two 2\n",
        "three 3\n"
       ]
      }
     ],
     "prompt_number": 12
    },
    {
     "cell_type": "markdown",
     "metadata": {},
     "source": [
      "- \ub9ac\uc2a4\ud2b8 \uc548\uc758 \uac01 \uc790\ub8cc\uac00 \ub9ac\uc2a4\ud2b8\uc5ec\ub3c4 for \ubb38\uc758 \ud5e4\ub354\uc5d0\uc11c \ub3d9\uc77c\ud558\uac8c \uac12 \ucd94\ucd9c \uac00\ub2a5"
     ]
    },
    {
     "cell_type": "code",
     "collapsed": false,
     "input": [
      "LL = [['one', 1], ['two', 2], ['three', 3]]\n",
      "for name, num in LL:\n",
      "    print name, num"
     ],
     "language": "python",
     "metadata": {},
     "outputs": [
      {
       "output_type": "stream",
       "stream": "stdout",
       "text": [
        "one 1\n",
        "two 2\n",
        "three 3\n"
       ]
      }
     ],
     "prompt_number": 38
    },
    {
     "cell_type": "markdown",
     "metadata": {},
     "source": [
      "***\n",
      "## 2 \ub9ac\uc2a4\ud2b8 \uba54\uc18c\ub4dc\n",
      "***"
     ]
    },
    {
     "cell_type": "markdown",
     "metadata": {},
     "source": [
      "### 2-1 \ub9ac\uc2a4\ud2b8\uac00 \uc9c0\uc6d0\ud558\ub294 \uba54\uc18c\ub4dc"
     ]
    },
    {
     "cell_type": "code",
     "collapsed": false,
     "input": [
      "s = [1, 2, 3]\n",
      "\n",
      "s.append(5)             # \ub9ac\uc2a4\ud2b8 \ub9e8 \ub9c8\uc9c0\ub9c9\uc5d0 \uc815\uc218 \uac12 5 \ucd94\uac00\n",
      "print s\n",
      "\n",
      "s.insert(3, 4)          # 3 \uc778\ub371\uc2a4 \uc704\uce58\uc5d0 \uc815\uc218 \uac12 4 \ucd94\uac00\n",
      "print s"
     ],
     "language": "python",
     "metadata": {},
     "outputs": [
      {
       "output_type": "stream",
       "stream": "stdout",
       "text": [
        "[1, 2, 3, 5]\n",
        "[1, 2, 3, 4, 5]\n"
       ]
      }
     ],
     "prompt_number": 19
    },
    {
     "cell_type": "code",
     "collapsed": false,
     "input": [
      "s = [1, 2, 3, 4, 5]\n",
      "\n",
      "print s.index(3)        # \uac12 3\uc758 \uc778\ub371\uc2a4 \ubc18\ud658\n",
      "\n",
      "print s.count(2)        # \uac12 2\uc758 \uac1c\uc218 \ubc18\ud658\n",
      "\n",
      "s = [1, 2, 2, 2, 2, 2, 3, 4, 5]\n",
      "print s.count(2)"
     ],
     "language": "python",
     "metadata": {},
     "outputs": [
      {
       "output_type": "stream",
       "stream": "stdout",
       "text": [
        "2\n",
        "1\n",
        "5\n"
       ]
      }
     ],
     "prompt_number": 24
    },
    {
     "cell_type": "markdown",
     "metadata": {},
     "source": [
      "- python\uc758 \uc18c\ud305 \uc54c\uace0\ub9ac\uc998: Timsort (\ubcc0\ud615\ub41c merge sort)\n",
      "  - \ucc38\uace0: http://orchistro.tistory.com/175"
     ]
    },
    {
     "cell_type": "code",
     "collapsed": false,
     "input": [
      "s = [1, 2, -10, -7, 100]\n",
      "s.reverse()       # \uc790\ub8cc\uc758 \uc21c\uc11c\ub97c \ub4a4\uc9d1\uae30 (\ubc18\ud658\uac12 \uc5c6\uc74c)   \n",
      "print s\n",
      "\n",
      "s.sort()          # \uc815\ub82c (\ubc18\ud658\uac12 \uc5c6\uc74c)\n",
      "print s"
     ],
     "language": "python",
     "metadata": {},
     "outputs": [
      {
       "output_type": "stream",
       "stream": "stdout",
       "text": [
        "[100, -7, -10, 2, 1]\n",
        "[-10, -7, 1, 2, 100]\n"
       ]
      }
     ],
     "prompt_number": 8
    },
    {
     "cell_type": "code",
     "collapsed": false,
     "input": [
      "s = [10, 20, 30, 40, 50]\n",
      "s.remove(10)        # \uc790\ub8cc \uac12 10 \uc0ad\uc81c\n",
      "print s\n",
      "\n",
      "s = [10, 20, 30, 20, 40, 50]   # \uc790\ub8cc \uac12\uc774 \uc5ec\ub7ec\uac1c \uc874\uc7ac\ud558\uba74 \uccab\ubc88\uc9f8 \uac83\ub9cc \uc0ad\uc81c\n",
      "s.remove(20)\n",
      "print s\n",
      "\n",
      "s.extend([60, 70])  # \uc0c8\ub85c\uc6b4 \ub9ac\uc2a4\ud2b8([60, 70]\ub97c \uae30\uc874 \ub9ac\uc2a4\ud2b8 s \ub4a4\uc5d0 \ubcd1\ud569\n",
      "print s\n",
      "\n",
      "s.append([60, 70])  # \uc8fc\uc758: append\ub85c \uc0c8\ub85c\uc6b4 \ub9ac\uc2a4\ud2b8\ub97c \ucd94\uac00\ud558\uba74 \ud558\ub098\uc758 \uc790\ub8cc \uc694\uc18c\ub85c\uc11c \ucd94\uac00\n",
      "print s"
     ],
     "language": "python",
     "metadata": {},
     "outputs": [
      {
       "output_type": "stream",
       "stream": "stdout",
       "text": [
        "[20, 30, 40, 50]\n",
        "[10, 30, 20, 40, 50]\n",
        "[10, 30, 20, 40, 50, 60, 70]\n",
        "[10, 30, 20, 40, 50, 60, 70, [60, 70]]\n"
       ]
      }
     ],
     "prompt_number": 36
    },
    {
     "cell_type": "markdown",
     "metadata": {},
     "source": [
      "### 2-2 \ub9ac\uc2a4\ud2b8\ub97c \uc2a4\ud0dd(Stack)\uc73c\ub85c \uc0ac\uc6a9\ud558\uae30"
     ]
    },
    {
     "cell_type": "code",
     "collapsed": false,
     "input": [
      "s = [10, 20, 30, 40, 50]\n",
      "s.append(60)\n",
      "print s\n",
      "\n",
      "print s.pop()\n",
      "\n",
      "print s"
     ],
     "language": "python",
     "metadata": {},
     "outputs": [
      {
       "output_type": "stream",
       "stream": "stdout",
       "text": [
        "[10, 20, 30, 40, 50, 60]\n",
        "60\n",
        "[10, 20, 30, 40, 50]\n"
       ]
      }
     ],
     "prompt_number": 37
    },
    {
     "cell_type": "markdown",
     "metadata": {},
     "source": [
      "![image](images/stack.png)"
     ]
    },
    {
     "cell_type": "code",
     "collapsed": false,
     "input": [
      "s = [10, 20, 30, 40, 50]\n",
      "print s.pop(0)   #0 \ubc88\uc9f8 \uc778\ub371\uc2a4 \uac12\uc744 \uaebc\ub0b8\ub2e4.\n",
      "\n",
      "print s\n",
      "\n",
      "print s.pop(1)   #1 \ubc88\uc9f8 \uc778\ub371\uc2a4 \uac12\uc744 \uaebc\ub0b8\ub2e4.\n",
      "\n",
      "print s"
     ],
     "language": "python",
     "metadata": {},
     "outputs": [
      {
       "output_type": "stream",
       "stream": "stdout",
       "text": [
        "10\n",
        "[20, 30, 40, 50]\n",
        "30\n",
        "[20, 40, 50]\n"
       ]
      }
     ],
     "prompt_number": 2
    },
    {
     "cell_type": "markdown",
     "metadata": {},
     "source": [
      "### 2-3 \ub9ac\uc2a4\ud2b8\ub97c \ud050(Queue)\ub85c \uc0ac\uc6a9\ud558\uae30"
     ]
    },
    {
     "cell_type": "code",
     "collapsed": false,
     "input": [
      "q = [10, 20, 30, 40, 50]\n",
      "q.append(60)\n",
      "print q.pop(0)\n",
      "\n",
      "print q"
     ],
     "language": "python",
     "metadata": {},
     "outputs": [
      {
       "output_type": "stream",
       "stream": "stdout",
       "text": [
        "10\n",
        "[20, 30, 40, 50, 60]\n"
       ]
      }
     ],
     "prompt_number": 3
    },
    {
     "cell_type": "markdown",
     "metadata": {},
     "source": [
      "![image](images/queue.png)"
     ]
    },
    {
     "cell_type": "markdown",
     "metadata": {},
     "source": [
      "***\n",
      "## 3 \ub9ac\uc2a4\ud2b8 \uc815\ub82c\ud558\uae30\n",
      "***"
     ]
    },
    {
     "cell_type": "markdown",
     "metadata": {},
     "source": [
      "### 3-1 \ub9ac\uc2a4\ud2b8\uc758 sort \uba54\uc18c\ub4dc"
     ]
    },
    {
     "cell_type": "code",
     "collapsed": false,
     "input": [
      "L = [1, 5, 3, 9, 8, 4, 2]\n",
      "L.sort()\n",
      "L"
     ],
     "language": "python",
     "metadata": {},
     "outputs": [
      {
       "metadata": {},
       "output_type": "pyout",
       "prompt_number": 44,
       "text": [
        "[1, 2, 3, 4, 5, 8, 9]"
       ]
      }
     ],
     "prompt_number": 44
    },
    {
     "cell_type": "markdown",
     "metadata": {},
     "source": [
      "- \ud30c\uc774\uc36c\uc740 \ub514\ud3f4\ud2b8\ub85c cmp(a, b) \ub0b4\uc7a5 \ud568\uc218\ub97c \uc774\uc6a9\ud558\uc5ec \uc815\ub82c \ubc29\uc2dd\uc744 \uacb0\uc815\ud55c\ub2e4.\n",
      "- cmp(a, b)\n",
      "  - if a < b: return -1\n",
      "  - if a > b: return 1\n",
      "  - if a == b: return 0"
     ]
    },
    {
     "cell_type": "code",
     "collapsed": false,
     "input": [
      "print cmp(1,2)\n",
      "\n",
      "print cmp(5,2)\n",
      "\n",
      "print cmp('abc', 'abc')"
     ],
     "language": "python",
     "metadata": {},
     "outputs": [
      {
       "output_type": "stream",
       "stream": "stdout",
       "text": [
        "-1\n",
        "1\n",
        "0\n"
       ]
      }
     ],
     "prompt_number": 45
    },
    {
     "cell_type": "markdown",
     "metadata": {},
     "source": [
      "- \uae30\ubcf8 \uc815\ub82c \ubc29\uc2dd\uc744 \ubcc0\uacbd\ud558\ub824\uba74 cmp(a, b)\uc640 \uac19\uc740 \ube44\uad50 \ud568\uc218\ub97c \uc9c1\uc811 \ub9cc\ub4e4\uc5b4\uc11c sort() \ud568\uc218\uc758 \uc778\uc790\ub85c \ub123\ub294\ub2e4."
     ]
    },
    {
     "cell_type": "code",
     "collapsed": false,
     "input": [
      "def mycmp(a1, a2):      # \ub300\uc18c\uad00\uacc4\uc5d0 \ub530\ub978 \uc21c\uc11c\ub97c \ubc18\ub300\ub85c \ubc14\uafb8\uc5c8\uc74c\n",
      "    return cmp(a2, a1)\n",
      "\n",
      "L = [1, 5, 3, 2, 4, 6]\n",
      "L.sort(mycmp)           # \uc5ed\uc21c\uc73c\ub85c \uc815\ub82c\n",
      "print L"
     ],
     "language": "python",
     "metadata": {},
     "outputs": [
      {
       "output_type": "stream",
       "stream": "stdout",
       "text": [
        "[6, 5, 4, 3, 2, 1]\n"
       ]
      }
     ],
     "prompt_number": 14
    },
    {
     "cell_type": "markdown",
     "metadata": {},
     "source": [
      "- \uc5ec\ub7ec \ud29c\ud50c\uc744 \uc694\uc18c\ub85c \uc9c0\ub2cc \ub9ac\uc2a4\ud2b8\uc778 \uacbd\uc6b0, \ud29c\ud50c\uc758 \uccab\ubc88\uc9f8 \uac12\uc774 \uc544\ub2cc \ub2e4\ub978 \uc704\uce58\uc5d0 \uc788\ub294 \uac12\uc744 \uae30\uc900\uc73c\ub85c \uc815\ub82c "
     ]
    },
    {
     "cell_type": "code",
     "collapsed": false,
     "input": [
      "def cmp_1(a1, a2):\n",
      "    return cmp(a1[1], a2[1])\n",
      "\n",
      "def cmp_2(a1, a2):\n",
      "    return cmp(a1[2], a2[2])\n",
      "\n",
      "L = [ ('lee', 5, 38), ('kim', 3, 28), ('jung', 10, 36)]\n",
      "L.sort()\n",
      "print 'sorted by name:', L\n",
      "\n",
      "L.sort(cmp_1)\n",
      "print 'sorted by experience:', L\n",
      "\n",
      "L.sort(cmp_2)\n",
      "print 'sorted by age:', L"
     ],
     "language": "python",
     "metadata": {},
     "outputs": [
      {
       "output_type": "stream",
       "stream": "stdout",
       "text": [
        "sorted by name: [('jung', 10, 36), ('kim', 3, 28), ('lee', 5, 38)]\n",
        "sorted by experience: [('kim', 3, 28), ('lee', 5, 38), ('jung', 10, 36)]\n",
        "sorted by age: [('kim', 3, 28), ('jung', 10, 36), ('lee', 5, 38)]\n"
       ]
      }
     ],
     "prompt_number": 49
    },
    {
     "cell_type": "markdown",
     "metadata": {},
     "source": [
      "- Python 2.4 \ubd80\ud130\ub294 sort() \ud568\uc218 \uc778\uc790\ub85c reverse \uac12\uc744 \ubc1b\uc744 \uc218 \uc788\ub3c4\ub85d \uc218\uc815\ub418\uc5c8\ub2e4.\n",
      "  - reverse \uc778\uc790\uac12\uc744 True\ub85c \uc8fc\uba74 \uc5ed\uc21c\uc73c\ub85c \uc815\ub82c\ub428"
     ]
    },
    {
     "cell_type": "code",
     "collapsed": false,
     "input": [
      "L = [1, 6, 3, 8, 6, 2, 9]\n",
      "L.sort(reverse = True)\n",
      "L"
     ],
     "language": "python",
     "metadata": {},
     "outputs": [
      {
       "metadata": {},
       "output_type": "pyout",
       "prompt_number": 56,
       "text": [
        "[9, 8, 6, 6, 3, 2, 1]"
       ]
      }
     ],
     "prompt_number": 56
    },
    {
     "cell_type": "markdown",
     "metadata": {},
     "source": [
      "- sort() \ud568\uc218 \uc778\uc790\ub85c key\uc5d0 \ud568\uc218\ub97c \ub123\uc5b4\uc904 \uc218 \uc788\ub2e4.\n",
      "  - \uac01 \ub9ac\uc2a4\ud2b8 \uc6d0\uc18c\uc5d0 \ub300\ud574 \ube44\uad50\ud568\uc218\ub97c \ud638\ucd9c \uc9c1\uc804\uc5d0 key \ud568\uc218\ub97c \uba3c\uc800 \ud638\ucd9c\ud55c\ub2e4.  "
     ]
    },
    {
     "cell_type": "code",
     "collapsed": false,
     "input": [
      "L = ['123', '34', '56', '2345']\n",
      "L.sort()\n",
      "print L\n",
      "\n",
      "L.sort(key=int)\n",
      "print L"
     ],
     "language": "python",
     "metadata": {},
     "outputs": [
      {
       "output_type": "stream",
       "stream": "stdout",
       "text": [
        "['123', '2345', '34', '56']\n",
        "['34', '56', '123', '2345']\n"
       ]
      }
     ],
     "prompt_number": 51
    },
    {
     "cell_type": "markdown",
     "metadata": {},
     "source": [
      "### 3-2 sorted \ub0b4\uc7a5 \ud568\uc218\n",
      "- L.sort() \ud568\uc218\ub294 \ub9ac\ud134\uac12\uc744 \ubc18\ud658\ud558\uc9c0 \uc54a\ub294\ub2e4.\n",
      "  - \uc989, L \uc790\uccb4\ub97c \uc815\ub82c\ud558\uc5ec \ubcc0\uacbd\ud55c\ub2e4."
     ]
    },
    {
     "cell_type": "code",
     "collapsed": false,
     "input": [
      "L = [1, 6, 3, 8, 6, 2, 9]\n",
      "newList = L.sort()\n",
      "print newList\n",
      "print L"
     ],
     "language": "python",
     "metadata": {},
     "outputs": [
      {
       "output_type": "stream",
       "stream": "stdout",
       "text": [
        "None\n",
        "[1, 2, 3, 6, 6, 8, 9]\n"
       ]
      }
     ],
     "prompt_number": 19
    },
    {
     "cell_type": "markdown",
     "metadata": {},
     "source": [
      "- sorted() \ub0b4\uc7a5\ud568\uc218\ub294 L \uc790\uccb4\uc5d0\ub294 \ub0b4\uc6a9 \ubcc0\uacbd \uc5c6\uc774 \uc815\ub82c\uc774 \ub418\uc5b4\uc9c4 \uc0c8\ub85c\uc6b4 \ub9ac\uc2a4\ud2b8\ub97c \ubc18\ud658\ud55c\ub2e4."
     ]
    },
    {
     "cell_type": "code",
     "collapsed": false,
     "input": [
      "L = [1, 6, 3, 8, 6, 2, 9]\n",
      "newList = sorted(L)\n",
      "print newList\n",
      "print L"
     ],
     "language": "python",
     "metadata": {},
     "outputs": [
      {
       "output_type": "stream",
       "stream": "stdout",
       "text": [
        "[1, 2, 3, 6, 6, 8, 9]\n",
        "[1, 6, 3, 8, 6, 2, 9]\n"
       ]
      }
     ],
     "prompt_number": 15
    },
    {
     "cell_type": "code",
     "collapsed": false,
     "input": [
      "for ele in sorted(L):\n",
      "    print ele,"
     ],
     "language": "python",
     "metadata": {},
     "outputs": [
      {
       "output_type": "stream",
       "stream": "stdout",
       "text": [
        "1 2 3 6 6 8 9\n"
       ]
      }
     ],
     "prompt_number": 55
    },
    {
     "cell_type": "markdown",
     "metadata": {},
     "source": [
      "- sorted() \ud568\uc218\uc758 \ub450\ubc88\uc9f8 \uc778\uc790\ub85c cmp \ud568\uc218 \uc9c0\uc815 \uac00\ub2a5"
     ]
    },
    {
     "cell_type": "code",
     "collapsed": false,
     "input": [
      "def mycmp(a1, a2):      # \ub300\uc18c\uad00\uacc4\uc5d0 \ub530\ub978 \uc21c\uc11c\ub97c \ubc18\ub300\ub85c \ubc14\uafb8\uc5c8\uc74c\n",
      "    return cmp(a2, a1)\n",
      "\n",
      "L = [1, 5, 3, 2, 4, 6]\n",
      "print sorted(L, mycmp)  # \uc5ed\uc21c\uc73c\ub85c \uc815\ub82c\n",
      "print L"
     ],
     "language": "python",
     "metadata": {},
     "outputs": [
      {
       "output_type": "stream",
       "stream": "stdout",
       "text": [
        "[6, 5, 4, 3, 2, 1]\n",
        "[1, 5, 3, 2, 4, 6]\n"
       ]
      }
     ],
     "prompt_number": 10
    },
    {
     "cell_type": "markdown",
     "metadata": {},
     "source": [
      "- \uc778\uc790\ub85c reverse\uc640 key \uc9c0\uc815 \uac00\ub2a5"
     ]
    },
    {
     "cell_type": "code",
     "collapsed": false,
     "input": [
      "L = [1, 6, 3, 8, 6, 2, 9]\n",
      "print sorted(L, reverse=True)\n",
      "\n",
      "L = ['123', '34', '56', '2345']\n",
      "print sorted(L, key=int)"
     ],
     "language": "python",
     "metadata": {},
     "outputs": [
      {
       "output_type": "stream",
       "stream": "stdout",
       "text": [
        "[9, 8, 6, 6, 3, 2, 1]\n",
        "['34', '56', '123', '2345']\n"
       ]
      }
     ],
     "prompt_number": 9
    },
    {
     "cell_type": "markdown",
     "metadata": {},
     "source": [
      "### 3-3 reversed \ub0b4\uc7a5 \ud568\uc218\n",
      "- L.reverse()\ub3c4 \ubc18\ud658\uac12\uc774 \uc5c6\ub2e4.\n",
      "  - \uc989, L \uc790\uccb4\ub97c \uc5ed\uc21c\uc73c\ub85c \ub4a4\uc9d1\ub294\ub2e4.\n",
      "  - [\uc8fc\uc758] \uc5ed\uc21c \uc815\ub82c\uc774 \uc544\ub2c8\ub2e4."
     ]
    },
    {
     "cell_type": "code",
     "collapsed": false,
     "input": [
      "L = [1, 6, 3, 8, 6, 2, 9]\n",
      "r = L.reverse()\n",
      "print r\n",
      "print L"
     ],
     "language": "python",
     "metadata": {},
     "outputs": [
      {
       "output_type": "stream",
       "stream": "stdout",
       "text": [
        "None\n",
        "[9, 2, 6, 8, 3, 6, 1]\n"
       ]
      }
     ],
     "prompt_number": 18
    },
    {
     "cell_type": "code",
     "collapsed": false,
     "input": [
      "L = [1, 6, 3, 8, 6, 2, 9]\n",
      "L.reverse()       # \uc5ed\uc21c\uc73c\ub85c \ub4a4\uc9d1\ub294\ub2e4.\n",
      "for ele in L:\n",
      "  print ele + 2,\n",
      "\n",
      "print\n",
      "L.reverse()       # \ub2e4\uc2dc \uc6d0\uc0c1\ud0dc\ub85c \ubcf5\uadc0\uc2dc\ud0a8\ub2e4.\n",
      "print L"
     ],
     "language": "python",
     "metadata": {},
     "outputs": [
      {
       "output_type": "stream",
       "stream": "stdout",
       "text": [
        "11 4 8 10 5 8 3\n",
        "[1, 6, 3, 8, 6, 2, 9]\n"
       ]
      }
     ],
     "prompt_number": 27
    },
    {
     "cell_type": "markdown",
     "metadata": {},
     "source": [
      "- reversed() \ub0b4\uc7a5\ud568\uc218\ub294 sorted() \ucc98\ub7fc \ub0b4\uc6a9\uc774 \ub4a4\uc9d1\ud78c \ub9ac\uc2a4\ud2b8\ub97c \ubc18\ud658\ud55c\ub2e4.\n",
      "  - sorted() \ucc98\ub7fc \uc6d0\ub798 \ub9ac\uc2a4\ud2b8 \ub0b4\uc6a9\uc5d0\ub294 \ubcc0\ud568\uc5c6\ub2e4."
     ]
    },
    {
     "cell_type": "code",
     "collapsed": false,
     "input": [
      "L = [1, 6, 3, 8, 6, 2, 9]\n",
      "print L\n",
      "for ele in reversed(L):\n",
      "    print ele + 2, \n",
      "print\n",
      "print L"
     ],
     "language": "python",
     "metadata": {},
     "outputs": [
      {
       "output_type": "stream",
       "stream": "stdout",
       "text": [
        "[1, 6, 3, 8, 6, 2, 9]\n",
        "11 4 8 10 5 8 3\n",
        "[1, 6, 3, 8, 6, 2, 9]\n"
       ]
      }
     ],
     "prompt_number": 31
    },
    {
     "cell_type": "markdown",
     "metadata": {},
     "source": [
      "***\n",
      "## 4 \ub9ac\uc2a4\ud2b8 \ub0b4\ud3ec(List Comprehension)\n",
      "***\n",
      "- \ub9ac\uc2a4\ud2b8 \ub0b4\ud3ec\ub294 \ud568\uc218\uc801 \ud504\ub85c\uadf8\ub798\ubc0d \uc5b8\uc5b4\uc778 Haskell (http://www.haskell.org )\uc5d0\uc11c \uadf8 \ud615\uc2dd\uc744 \ub530\uc628 \uac83 "
     ]
    },
    {
     "cell_type": "code",
     "collapsed": false,
     "input": [
      "L = []\n",
      "for k in range(10):\n",
      "    L.append(k*k)\n",
      "    \n",
      "print L"
     ],
     "language": "python",
     "metadata": {},
     "outputs": [
      {
       "output_type": "stream",
       "stream": "stdout",
       "text": [
        "[0, 1, 4, 9, 16, 25, 36, 49, 64, 81]\n"
       ]
      }
     ],
     "prompt_number": 74
    },
    {
     "cell_type": "markdown",
     "metadata": {},
     "source": [
      "- \uc704 \ucf54\ub529\uc740 \ub9ac\uc2a4\ud2b8 \ub0b4\ud3ec \ub9ac\ud130\ub7f4 \ubc29\uc2dd\uc744 \ud65c\uc6a9\ud574\uc11c \uc544\ub798\uc640 \uac19\uc774 \ubcc0\uacbd\ud560 \uc218 \uc788\ub2e4."
     ]
    },
    {
     "cell_type": "code",
     "collapsed": false,
     "input": [
      "L = [k * k for k in range(10)]\n",
      "print L"
     ],
     "language": "python",
     "metadata": {},
     "outputs": [
      {
       "output_type": "stream",
       "stream": "stdout",
       "text": [
        "[0, 1, 4, 9, 16, 25, 36, 49, 64, 81]\n"
       ]
      }
     ],
     "prompt_number": 32
    },
    {
     "cell_type": "markdown",
     "metadata": {},
     "source": [
      "- \ub9ac\uc2a4\ud2b8 \ub0b4\ud3ec \ub9ac\ud130\ub7f4\n",
      "<pre>\n",
      "[expression for expr1 in sequence1\n",
      "              for expr2 in sequence2 \n",
      "              ...\n",
      "              for exprN in sequenceN\n",
      "              if condition]\n",
      "</pre>\n",
      "- expression\uc758 \ud3c9\uac00 \uacb0\uacfc \ubc18\ub4dc\uc2dc \ud55c \uac1c\uc758 \uc6d0\uc18c\uac00 \ub098\uc640\uc57c \ud55c\ub2e4.\n",
      "  - \ud2c0\ub9b0 \uc608: [ x, y for x in seq1 for u in seq2 ]\n",
      "- \ub9cc\uc57d \ub450 \uac1c\uc758 \uc774\uc0c1\uc758 \ud3c9\uac00 \uacb0\uacfc\uac00 \ub098\uc624\uba74 \ud29c\ud50c \ub4f1\uc73c\ub85c \uac10\uc2f8 \uc8fc\uc5b4\uc57c \ud55c\ub2e4.\n",
      "  - \uc62c\ubc14\ub978 \uc608: [ (x, y) for x in seq1 for u in seq2 ]\n",
      "- \uc704 \ub9ac\ud130\ub7f4\uc740 \ub2e4\uc74c\uc758 \uc77c\ubc18\uc801\uc778 for \ubb38\uc758 \ub9ac\ud138\ub7ec\uacfc \ub3d9\uc77c\n",
      "<pre>\n",
      "l = []\n",
      "for expr1 in sequence1:\n",
      "   for expr2 in sequence2:\n",
      "      ...\n",
      "         for exprtN in sequenceN:\n",
      "            if condition:\n",
      "               l.append(expression)\n",
      "</pre>\n",
      "               "
     ]
    },
    {
     "cell_type": "code",
     "collapsed": false,
     "input": [
      "L = [k * k for k in range(10) if k % 2]   # \ud640\uc218\uc758 \uc81c\uacf1\ub9cc \ub9ac\uc2a4\ud2b8\ub85c \ud615\uc131\n",
      "print L"
     ],
     "language": "python",
     "metadata": {},
     "outputs": [
      {
       "output_type": "stream",
       "stream": "stdout",
       "text": [
        "[1, 9, 25, 49, 81]\n"
       ]
      }
     ],
     "prompt_number": 11
    },
    {
     "cell_type": "code",
     "collapsed": false,
     "input": [
      "L = []\n",
      "for k in range(10):\n",
      "    if k%2:\n",
      "        L.append(k*k)\n",
      "print L"
     ],
     "language": "python",
     "metadata": {},
     "outputs": [
      {
       "output_type": "stream",
       "stream": "stdout",
       "text": [
        "[1, 9, 25, 49, 81]\n"
       ]
      }
     ],
     "prompt_number": 2
    },
    {
     "cell_type": "markdown",
     "metadata": {},
     "source": [
      "- 20\ubcf4\ub2e4 \uc791\uc740 2\uc758 \ubc30\uc218\uc640 3\uc758 \ubc30\uc218\uc5d0 \ub300\ud574 \uadf8 \ub450 \uc218\uc758 \ud569\uc774 7\uc758 \ubc30\uc218\uc778 \uac83\ub4e4\uc5d0 \ub300\ud574 \uadf8 \ub450 \uc218\uc758 \uacf1\uc744 \ucd9c\ub825\ud558\ub294 \ucf54\ub4dc"
     ]
    },
    {
     "cell_type": "code",
     "collapsed": false,
     "input": [
      "[(i, j, i*j) for i in range(2, 20, 2)\n",
      "             for j in range(3, 20, 3)\n",
      "             if (i + j) % 7 == 0]\n"
     ],
     "language": "python",
     "metadata": {},
     "outputs": [
      {
       "metadata": {},
       "output_type": "pyout",
       "prompt_number": 3,
       "text": [
        "[(2, 12, 24),\n",
        " (4, 3, 12),\n",
        " (6, 15, 90),\n",
        " (8, 6, 48),\n",
        " (10, 18, 180),\n",
        " (12, 9, 108),\n",
        " (16, 12, 192),\n",
        " (18, 3, 54)]"
       ]
      }
     ],
     "prompt_number": 3
    },
    {
     "cell_type": "markdown",
     "metadata": {},
     "source": [
      "- \ub450 \uac1c\uc758 \uc2dc\ud000\uc2a4 \uc790\ub8cc\ud615\uc5d0 \ub300\ud574 \uac01\uac01\uc758 \uc6d0\uc18c\uc5d0 \ub300\ud55c \uc30d\uc744 \ud29c\ud50c \ud615\ud0dc\ub85c \ub9cc\ub4e4\uba74\uc11c \ub9ac\uc2a4\ud2b8\uc5d0 \uc800\uc7a5\ud558\ub294 \ucf54\ub4dc"
     ]
    },
    {
     "cell_type": "code",
     "collapsed": false,
     "input": [
      "seq1 = 'abc'\n",
      "seq2 = (1, 2, 3)\n",
      "[ (x, y) for x in seq1 for y in seq2]"
     ],
     "language": "python",
     "metadata": {},
     "outputs": [
      {
       "metadata": {},
       "output_type": "pyout",
       "prompt_number": 77,
       "text": [
        "[('a', 1),\n",
        " ('a', 2),\n",
        " ('a', 3),\n",
        " ('b', 1),\n",
        " ('b', 2),\n",
        " ('b', 3),\n",
        " ('c', 1),\n",
        " ('c', 2),\n",
        " ('c', 3)]"
       ]
      }
     ],
     "prompt_number": 77
    },
    {
     "cell_type": "code",
     "collapsed": false,
     "input": [
      "words = 'The quick brown fox jumps over the lazy dog'.split()\n",
      "stuff = [[w.upper(), w.lower(), len(w)] for w in words]\n",
      "for i in stuff:\n",
      "    print i"
     ],
     "language": "python",
     "metadata": {},
     "outputs": [
      {
       "output_type": "stream",
       "stream": "stdout",
       "text": [
        "['THE', 'the', 3]\n",
        "['QUICK', 'quick', 5]\n",
        "['BROWN', 'brown', 5]\n",
        "['FOX', 'fox', 3]\n",
        "['JUMPS', 'jumps', 5]\n",
        "['OVER', 'over', 4]\n",
        "['THE', 'the', 3]\n",
        "['LAZY', 'lazy', 4]\n",
        "['DOG', 'dog', 3]\n"
       ]
      }
     ],
     "prompt_number": 2
    },
    {
     "cell_type": "markdown",
     "metadata": {},
     "source": [
      "<p style='text-align: right;'>\ucc38\uace0 \ubb38\ud5cc: \ud30c\uc774\uc36c(\uc5f4\ud608\uac15\uc758)(\uac1c\uc815\ud310 VER.2), \uc774\uac15\uc131, FreeLec, 2005\ub144 8\uc6d4 29\uc77c</p>"
     ]
    }
   ],
   "metadata": {}
  }
 ]
}