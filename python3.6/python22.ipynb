{
 "cells": [
  {
   "cell_type": "markdown",
   "metadata": {},
   "source": [
    "***\n",
    "***\n",
    "# 22. 약한참조, 반복자, 발생자\n",
    "***\n",
    "***"
   ]
  },
  {
   "cell_type": "markdown",
   "metadata": {},
   "source": [
    "***\n",
    "## 1 약한 참조\n",
    "***"
   ]
  },
  {
   "cell_type": "markdown",
   "metadata": {},
   "source": [
    "### 1-1 약한 참조의 정의\n",
    "- 약한 참조 (Weak Reference)\n",
    "  - 레퍼런스 카운트로 고려되지 않는 참조"
   ]
  },
  {
   "cell_type": "markdown",
   "metadata": {},
   "source": [
    "### 1-2 약한 참조의 필요성"
   ]
  },
  {
   "cell_type": "markdown",
   "metadata": {},
   "source": [
    "![inheritance](images/cyclingref.png)"
   ]
  },
  {
   "cell_type": "markdown",
   "metadata": {},
   "source": [
    "- 1) 레퍼런스 카운트가 증가되지 않으므로 순환 참조가 방지된다.\n",
    "    - 순환 참조 (Cyclic Reference)\n",
    "      - 서로 다른 객체들 사이에 참조 방식이 순환 형태로 연결되는 방식\n",
    "      - 독립적으로 존재하지만 순환 참조되는 서로 다른 객체 그룹은 쓰레기 수집이 안된다.\n",
    "        - 주기적으로 순환 참조를 조사하여 쓰레기 수집하는 기능이 있지만, CPU 자원 낭비가 심하다.\n",
    "        - 이러한 쓰레기 수집 빈도가 낮으면 순환 참조되는 많은 객체들이 메모리를 쓸데없이 점유하게 됨\n",
    "- 2) 다양한 인스턴스들 사이에서 공유되는 객체에 대한 일종의 케시(Cache)를 만드는 데 활용된다."
   ]
  },
  {
   "cell_type": "markdown",
   "metadata": {},
   "source": [
    "### 1-3 약한 참조 모듈\n",
    "#### 1) weakref.ref(o)\n",
    "- weakref 모듈의 ref(o) 함수\n",
    "  - 객체 o에 대한 약한 참조를 생성한다.\n",
    "  - 해당 객체가 메모리에 정상적으로 남아 있는지 조사한다.\n",
    "    - 객체가 메모리에 남아 있지 않으면 None을 반환한다.\n",
    "\n",
    "- 약한 참조로 부터 실제 객체를 참조하는 방법\n",
    "  - 약한 참조 객체에 함수형태 호출"
   ]
  },
  {
   "cell_type": "code",
   "execution_count": 16,
   "metadata": {},
   "outputs": [
    {
     "name": "stdout",
     "output_type": "stream",
     "text": [
      "refcount - 2\n",
      "\n",
      "refcount - 3\n",
      "\n",
      "refcount - 3\n",
      "\n"
     ]
    }
   ],
   "source": [
    "import sys\n",
    "import weakref # weakref 모듈 임포트\n",
    "class C:\n",
    "    pass\n",
    "c = C() # 클래스 C의 인스턴스 생성 \n",
    "c.a = 1 # 인스턴스 c에 테스트용 값 설정 \n",
    "print \"refcount -\", sys.getrefcount(c) # 객체 c의 레퍼런스 카운트 조회\n",
    "print\n",
    "\n",
    "d = c # 일반적인 레퍼런스 카운트 증가 방법\n",
    "print \"refcount -\", sys.getrefcount(c) # 객체 c의 레퍼런스 카운트 조회\n",
    "print \n",
    "\n",
    "r = weakref.ref(c) # 약한 참조 객체 r 생성\n",
    "print \"refcount -\", sys.getrefcount(c) # 객체 c의 레퍼런스 카운트 조회 --> 카운트 불변\n",
    "print"
   ]
  },
  {
   "cell_type": "code",
   "execution_count": 17,
   "metadata": {},
   "outputs": [
    {
     "name": "stdout",
     "output_type": "stream",
     "text": [
      "<weakref at 0x10d83e998; to 'instance' at 0x10d893830>\n",
      "<__main__.C instance at 0x10d893830>\n",
      "<__main__.C instance at 0x10d893830>\n",
      "1\n",
      "\n",
      "None\n"
     ]
    },
    {
     "ename": "AttributeError",
     "evalue": "'NoneType' object has no attribute 'a'",
     "output_type": "error",
     "traceback": [
      "\u001b[0;31m---------------------------------------------------------------------------\u001b[0m\n\u001b[0;31mAttributeError\u001b[0m                            Traceback (most recent call last)",
      "\u001b[0;32m<ipython-input-17-0a1d693859de>\u001b[0m in \u001b[0;36m<module>\u001b[0;34m()\u001b[0m\n\u001b[1;32m      8\u001b[0m \u001b[0;32mdel\u001b[0m \u001b[0md\u001b[0m\u001b[0;34m\u001b[0m\u001b[0m\n\u001b[1;32m      9\u001b[0m \u001b[0;32mprint\u001b[0m \u001b[0mr\u001b[0m\u001b[0;34m(\u001b[0m\u001b[0;34m)\u001b[0m \u001b[0;31m# None을 리턴한다\u001b[0m\u001b[0;34m\u001b[0m\u001b[0m\n\u001b[0;32m---> 10\u001b[0;31m \u001b[0;32mprint\u001b[0m \u001b[0mr\u001b[0m\u001b[0;34m(\u001b[0m\u001b[0;34m)\u001b[0m\u001b[0;34m.\u001b[0m\u001b[0ma\u001b[0m \u001b[0;31m# 속성도 참조할 수 없다\u001b[0m\u001b[0;34m\u001b[0m\u001b[0m\n\u001b[0m",
      "\u001b[0;31mAttributeError\u001b[0m: 'NoneType' object has no attribute 'a'"
     ]
    }
   ],
   "source": [
    "print r # 약한 참조(weakref) 객체\n",
    "print r() # 약한 참조로 부터 실제 객체를 참조하는 방법: 약한 참조 객체에 함수형태로 호출\n",
    "print c \n",
    "print r().a # 약한 참조를 이용한 실제 객체 멤버 참조\n",
    "print \n",
    "\n",
    "del c # 객체 제거\n",
    "del d\n",
    "print r() # None을 리턴한다\n",
    "print r().a # 속성도 참조할 수 없다"
   ]
  },
  {
   "cell_type": "markdown",
   "metadata": {},
   "source": [
    "- 내장 자료형 객체 (리스트, 튜플, 사전 등)에 대해서는 약한 참조를 만들 수 없다."
   ]
  },
  {
   "cell_type": "code",
   "execution_count": 7,
   "metadata": {},
   "outputs": [
    {
     "ename": "TypeError",
     "evalue": "cannot create weak reference to 'dict' object",
     "output_type": "error",
     "traceback": [
      "\u001b[0;31m---------------------------------------------------------------------------\u001b[0m\n\u001b[0;31mTypeError\u001b[0m                                 Traceback (most recent call last)",
      "\u001b[0;32m<ipython-input-7-b2a48d12fd2b>\u001b[0m in \u001b[0;36m<module>\u001b[0;34m()\u001b[0m\n\u001b[1;32m      1\u001b[0m \u001b[0md\u001b[0m \u001b[0;34m=\u001b[0m \u001b[0;34m{\u001b[0m\u001b[0;34m'one'\u001b[0m\u001b[0;34m:\u001b[0m \u001b[0;36m1\u001b[0m\u001b[0;34m,\u001b[0m \u001b[0;34m'two'\u001b[0m\u001b[0;34m:\u001b[0m \u001b[0;36m2\u001b[0m\u001b[0;34m}\u001b[0m\u001b[0;34m\u001b[0m\u001b[0m\n\u001b[0;32m----> 2\u001b[0;31m \u001b[0mwd\u001b[0m \u001b[0;34m=\u001b[0m \u001b[0mweakref\u001b[0m\u001b[0;34m.\u001b[0m\u001b[0mref\u001b[0m\u001b[0;34m(\u001b[0m\u001b[0md\u001b[0m\u001b[0;34m)\u001b[0m\u001b[0;34m\u001b[0m\u001b[0m\n\u001b[0m",
      "\u001b[0;31mTypeError\u001b[0m: cannot create weak reference to 'dict' object"
     ]
    }
   ],
   "source": [
    "d = {'one': 1, 'two': 2}\n",
    "wd = weakref.ref(d)"
   ]
  },
  {
   "cell_type": "markdown",
   "metadata": {},
   "source": [
    "#### 2) weakref.proxy(o)\n",
    "- weakref의 proxy(o)는 객체 o에 대한 약한 참조 프록시를 생성한다.\n",
    "  - 프록시를 이용하면 함수 형식을 사용하지 않아도 실제 객체를 바로 참조할 수 있다.\n",
    "  - ref(o) 함수보다 더 선호되는 함수"
   ]
  },
  {
   "cell_type": "code",
   "execution_count": 19,
   "metadata": {},
   "outputs": [
    {
     "name": "stdout",
     "output_type": "stream",
     "text": [
      "refcount - 2\n",
      "refcount - 2\n",
      "\n",
      "<__main__.C instance at 0x10d8a9998>\n",
      "<__main__.C instance at 0x10d8a9998>\n",
      "2\n"
     ]
    }
   ],
   "source": [
    "import sys\n",
    "import weakref\n",
    "class C:\n",
    "    pass\n",
    "\n",
    "c = C()\n",
    "c.a = 2\n",
    "print \"refcount -\", sys.getrefcount(c) # 객체 c의 레퍼런스 카운트 조회\n",
    "p = weakref.proxy(c) # 프록시 객체를 만든다\n",
    "print \"refcount -\", sys.getrefcount(c) # 객체 c의 레퍼런스 카운트 조회 --> 카운트 불변\n",
    "print \n",
    "print p\n",
    "print c\n",
    "print p.a"
   ]
  },
  {
   "cell_type": "code",
   "execution_count": 30,
   "metadata": {},
   "outputs": [
    {
     "name": "stdout",
     "output_type": "stream",
     "text": [
      "2\n",
      "[<weakref at 0x10de07c58; to 'instance' at 0x10de06e60>, <weakproxy at 0x10de07ba8 to instance at 0x10de06e60>]\n"
     ]
    }
   ],
   "source": [
    "import weakref\n",
    "class C:\n",
    "    pass\n",
    "\n",
    "c = C() # 참조할 객체 생성\n",
    "r = weakref.ref(c) # weakref 생성\n",
    "p = weakref.proxy(c) # weakref 프록시 생성\n",
    "print weakref.getweakrefcount(c) # weakref 개수 조회\n",
    "print weakref.getweakrefs(c) # weakref 목록 조회"
   ]
  },
  {
   "cell_type": "markdown",
   "metadata": {},
   "source": [
    "### 1-4 약한 사전\n",
    "- 약한 사전 (Weak Dictionary)\n",
    "  - 사전의 키(key)나 값(value)으로 다른 객체들에 대한 약한 참조를 지니는 사전\n",
    "  - 주로 다른 객체들에 대한 캐시(Cache)로 활용\n",
    "  - 일반적인 사전과의 차이점\n",
    "    - 키(key)나 값(value)으로 사용되는 객체는 약한 참조를 지닌다.\n",
    "    - 실제 객체가 삭제되면 자동적으로 약한 사전에 있는 (키, 값)의 쌍도 삭제된다.\n",
    "    - 즉, 실제 객체가 사라지면 캐시역할을 하는 약한 사전에서도 해당 아이템이 제거되므로 효율적인 객체 소멸 관리가 가능하다. "
   ]
  },
  {
   "cell_type": "markdown",
   "metadata": {},
   "source": [
    "- weakref 모듈의 WeakValueDictionary 클래스\n",
    "  - weakref 모듈의 WeakValueDictionary 클래스의 생성자는 약한 사전을 생성한다."
   ]
  },
  {
   "cell_type": "code",
   "execution_count": 16,
   "metadata": {},
   "outputs": [
    {
     "name": "stdout",
     "output_type": "stream",
     "text": [
      "<WeakValueDictionary at 4526484584>\n",
      "[(1, <__main__.C instance at 0x10dccad40>)]\n",
      "4\n",
      "[]\n"
     ]
    }
   ],
   "source": [
    "import weakref\n",
    "class C:\n",
    "    pass\n",
    "\n",
    "c = C()\n",
    "c.a = 4\n",
    "d = weakref.WeakValueDictionary() # WeakValueDictionary 객체 생성\n",
    "print d\n",
    "\n",
    "d[1] = c # 실제 객체에 대한 약한 참조 아이템 생성\n",
    "print d.items() # 사전 내용 확인\n",
    "print d[1].a # 실제 객체의 속성 참조\n",
    "\n",
    "del c # 실제 객체 삭제\n",
    "print d.items() # 약한 사전에 해당 객체 아이템도 제거되어 있음"
   ]
  },
  {
   "cell_type": "markdown",
   "metadata": {},
   "source": [
    "- 일반 사전을 통하여 동일한 예제를 수행하면 마지막에 해당 객체를 삭제해도 일반 사전 내에서는 여전히 존재함"
   ]
  },
  {
   "cell_type": "code",
   "execution_count": 21,
   "metadata": {},
   "outputs": [
    {
     "name": "stdout",
     "output_type": "stream",
     "text": [
      "{}\n",
      "[(1, <__main__.C instance at 0x10d893878>)]\n",
      "4\n",
      "[(1, <__main__.C instance at 0x10d893878>)]\n"
     ]
    }
   ],
   "source": [
    "class C:\n",
    "    pass\n",
    "\n",
    "c = C()\n",
    "c.a = 4\n",
    "d = {} # 일반 사전 객체 생성\n",
    "print d\n",
    "\n",
    "d[1] = c # 실제 객체에 대한 일반 참조 아이템 생성\n",
    "print d.items() # 사전 내용 확인\n",
    "print d[1].a # 실제 객체의 속성 참조\n",
    "\n",
    "del c # 객체 삭제 (사전에 해당 객체의 레퍼런스가 있으므로 객체는 실제로 메모리 해제되지 않음)\n",
    "print d.items() # 일반 사전에 해당 객체 아이템이 여전히 남아 있음"
   ]
  },
  {
   "cell_type": "markdown",
   "metadata": {},
   "source": [
    "***\n",
    "## 2 반복자\n",
    "***"
   ]
  },
  {
   "cell_type": "markdown",
   "metadata": {},
   "source": [
    "### 2-1 반복자 객체\n",
    "- 반복자 객체\n",
    "  - next() 메소드를 지니고 있는 객체\n",
    "  - next() 메소드로 더 이상 자료를 념겨줄 수 없을 때 StopIteration 예외가 발생한다.\n",
    "- 반복자 객체 생성 방법\n",
    "  - iter(o) 내장 함수\n",
    "    - 객체 o의 반복자 객체를 반환한다.\n",
    "- 반복자 객체의 효율성\n",
    "  - 반복자가 원 객체의 원소들을 복사하여 지니고 있지 않다."
   ]
  },
  {
   "cell_type": "code",
   "execution_count": 20,
   "metadata": {},
   "outputs": [
    {
     "name": "stdout",
     "output_type": "stream",
     "text": [
      "<listiterator object at 0x102648cd0>\n",
      "1\n",
      "2\n",
      "3\n"
     ]
    },
    {
     "ename": "StopIteration",
     "evalue": "",
     "output_type": "error",
     "traceback": [
      "\u001b[0;31m---------------------------------------------------------------------------\u001b[0m\n\u001b[0;31mStopIteration\u001b[0m                             Traceback (most recent call last)",
      "\u001b[0;32m<ipython-input-20-98af67aeb8bc>\u001b[0m in \u001b[0;36m<module>\u001b[0;34m()\u001b[0m\n\u001b[1;32m      5\u001b[0m \u001b[0;32mprint\u001b[0m \u001b[0mI\u001b[0m\u001b[0;34m.\u001b[0m\u001b[0mnext\u001b[0m\u001b[0;34m(\u001b[0m\u001b[0;34m)\u001b[0m\u001b[0;34m\u001b[0m\u001b[0m\n\u001b[1;32m      6\u001b[0m \u001b[0;32mprint\u001b[0m \u001b[0mI\u001b[0m\u001b[0;34m.\u001b[0m\u001b[0mnext\u001b[0m\u001b[0;34m(\u001b[0m\u001b[0;34m)\u001b[0m\u001b[0;34m\u001b[0m\u001b[0m\n\u001b[0;32m----> 7\u001b[0;31m \u001b[0;32mprint\u001b[0m \u001b[0mI\u001b[0m\u001b[0;34m.\u001b[0m\u001b[0mnext\u001b[0m\u001b[0;34m(\u001b[0m\u001b[0;34m)\u001b[0m\u001b[0;34m\u001b[0m\u001b[0m\n\u001b[0m",
      "\u001b[0;31mStopIteration\u001b[0m: "
     ]
    }
   ],
   "source": [
    "I = iter([1,2,3])\n",
    "print I\n",
    "\n",
    "print I.next()\n",
    "print I.next()\n",
    "print I.next()\n",
    "print I.next()"
   ]
  },
  {
   "cell_type": "markdown",
   "metadata": {},
   "source": [
    "- 리스트 객체에 대해 일반적인 for ~ in 반복 문 사용예"
   ]
  },
  {
   "cell_type": "code",
   "execution_count": 53,
   "metadata": {},
   "outputs": [
    {
     "name": "stdout",
     "output_type": "stream",
     "text": [
      "2\n",
      "3\n",
      "4\n"
     ]
    }
   ],
   "source": [
    "def f(x):\n",
    "    print x + 1\n",
    "\n",
    "for x in [1,2,3]:\n",
    "    f(x)"
   ]
  },
  {
   "cell_type": "markdown",
   "metadata": {},
   "source": [
    "- 리스트 객체에 반복자를 활용한 예"
   ]
  },
  {
   "cell_type": "code",
   "execution_count": 23,
   "metadata": {},
   "outputs": [
    {
     "name": "stdout",
     "output_type": "stream",
     "text": [
      "2\n",
      "3\n",
      "4\n"
     ]
    }
   ],
   "source": [
    "def f(x):\n",
    "    print x + 1\n",
    "\n",
    "t = iter([1,2,3])\n",
    "while 1:\n",
    "    try:\n",
    "        x = t.next()\n",
    "    except StopIteration:\n",
    "        break\n",
    "    f(x)"
   ]
  },
  {
   "cell_type": "markdown",
   "metadata": {},
   "source": [
    "- for ~ in 구문에 반복자를 활용할 수 있다.\n",
    "  - for 문이 돌때 마다 반복자 객체의 next() 함수가 자동으로 호출되어 순차적으로 각 객체에 접근 가능하다.\n",
    "  - StopIteration이 발생하면 for ~ in 구문이 멈춘다."
   ]
  },
  {
   "cell_type": "code",
   "execution_count": 1,
   "metadata": {},
   "outputs": [
    {
     "name": "stdout",
     "output_type": "stream",
     "text": [
      "2\n",
      "3\n",
      "4\n"
     ]
    }
   ],
   "source": [
    "def f(x):\n",
    "    print x + 1\n",
    "\n",
    "t = iter([1,2,3])\n",
    "for x in t:\n",
    "    f(x)"
   ]
  },
  {
   "cell_type": "code",
   "execution_count": 2,
   "metadata": {},
   "outputs": [
    {
     "name": "stdout",
     "output_type": "stream",
     "text": [
      "2\n",
      "3\n",
      "4\n"
     ]
    }
   ],
   "source": [
    "def f(x):\n",
    "    print x + 1\n",
    "\n",
    "for x in iter([1,2,3]):\n",
    "    f(x)"
   ]
  },
  {
   "cell_type": "code",
   "execution_count": 24,
   "metadata": {},
   "outputs": [
    {
     "name": "stdout",
     "output_type": "stream",
     "text": [
      "2\n",
      "3\n",
      "4\n"
     ]
    }
   ],
   "source": [
    "def f(x):\n",
    "    print x + 1\n",
    "\n",
    "for x in iter((1,2,3)):\n",
    "    f(x)"
   ]
  },
  {
   "cell_type": "markdown",
   "metadata": {},
   "source": [
    "### 2-2 클래스에 반복자 구현하기"
   ]
  },
  {
   "cell_type": "markdown",
   "metadata": {},
   "source": [
    "- 내장 함수 iter(o)에 대응되는 \\_\\_iter\\_\\_(self)의 구현 \n",
    "  - 객체 o에 iter(o)를 호출하면 자동으로 \\_\\_iter\\_\\_(self) 함수 호출\n",
    "  - \\_\\_iter\\_\\_(self) 함수는 next() 함수를 지닌 반복자 객체를 반환해야 한다."
   ]
  },
  {
   "cell_type": "code",
   "execution_count": 3,
   "metadata": {},
   "outputs": [
    {
     "name": "stdout",
     "output_type": "stream",
     "text": [
      "abc\n",
      "def\n",
      "ghi\n",
      "\n",
      "<__main__.Seq instance at 0x10ddc5680>\n",
      "['abc\\n', 'def\\n', 'ghi\\n']\n",
      "('abc\\n', 'def\\n', 'ghi\\n')\n"
     ]
    }
   ],
   "source": [
    "class Seq:\n",
    "    def __init__(self, fname):\n",
    "        self.file = open(fname)\n",
    "    #def __getitem__(self, n):\n",
    "    #    if n == 10:\n",
    "    #        raise StopIteration\n",
    "    #    return n\n",
    "    def __iter__(self):\n",
    "        return self\n",
    "    def next(self):\n",
    "        line = self.file.readline() # 한 라인을 읽는다.\n",
    "        if not line: \n",
    "            raise StopIteration     # 읽을 수 없으면 예외 발생\n",
    "        return line                 # 읽은 라인을 리턴한다.\n",
    "    \n",
    "s = Seq('readme.txt')     # s 인스턴스가 next() 메소드를 지니고 있으므로 s 인스턴스 자체가 반복자임 \n",
    "for line in s: # 우선 __iter__() 메소드를 호출하여 반복자를 얻고, 반복자에 대해서 for ~ in 구문에 의하여 next() 메소드가 호출됨\n",
    "    print line,\n",
    "\n",
    "print \n",
    "\n",
    "print Seq('readme.txt')\n",
    "\n",
    "print list(Seq('readme.txt'))  # list() 내장 함수가 객체를 인수로 받으면 해당 객체의 반복자를 얻어와 next()를 매번 호출하여 각 원소를 얻어온다. \n",
    "print tuple(Seq('readme.txt')) # tuple() 내장 함수가 객체를 인수로 받으면 해당 객체의 반복자를 얻어와 next()를 매번 호출하여 각 원소를 얻어온다. "
   ]
  },
  {
   "cell_type": "markdown",
   "metadata": {},
   "source": [
    "### 2-3 사전의 반복자"
   ]
  },
  {
   "cell_type": "markdown",
   "metadata": {},
   "source": [
    "- 사전에 대해 for ~ in 구문은 키에 대해 반복한다."
   ]
  },
  {
   "cell_type": "code",
   "execution_count": 53,
   "metadata": {},
   "outputs": [
    {
     "name": "stdout",
     "output_type": "stream",
     "text": [
      "four 4\n",
      "three 3\n",
      "five 5\n",
      "two 2\n",
      "one 1\n"
     ]
    }
   ],
   "source": [
    "d = {'one':1, 'two':2, 'three':3, 'four':4, 'five':5}\n",
    "for key in d:\n",
    "    print key, d[key]"
   ]
  },
  {
   "cell_type": "code",
   "execution_count": 6,
   "metadata": {},
   "outputs": [
    {
     "name": "stdout",
     "output_type": "stream",
     "text": [
      "four 4\n",
      "three 3\n",
      "five 5\n",
      "two 2\n",
      "one 1\n"
     ]
    }
   ],
   "source": [
    "d = {'one':1, 'two':2, 'three':3, 'four':4, 'five':5}\n",
    "for key in iter(d):\n",
    "    print key, d[key]"
   ]
  },
  {
   "cell_type": "markdown",
   "metadata": {},
   "source": [
    "- d.iterkeys() 함수\n",
    "  - 사전 d가 지닌 키에 대한 반복자 객체를 반환한다."
   ]
  },
  {
   "cell_type": "code",
   "execution_count": 7,
   "metadata": {},
   "outputs": [
    {
     "name": "stdout",
     "output_type": "stream",
     "text": [
      "four three five two one\n"
     ]
    }
   ],
   "source": [
    "for key in d.iterkeys():   # 키에 대한 반복자, d.iterkeys() 가 반환한 반복자에 대해 next() 함수가 순차적으로 불리워짐\n",
    "    print key,"
   ]
  },
  {
   "cell_type": "code",
   "execution_count": 8,
   "metadata": {},
   "outputs": [
    {
     "name": "stdout",
     "output_type": "stream",
     "text": [
      "four\n",
      "three five two one\n"
     ]
    }
   ],
   "source": [
    "keyset = d.iterkeys()\n",
    "print keyset.next()     # 반복자 객체는 항상 next() 메소드를 지니고 있음\n",
    "for key in keyset:      # keyset 반복자에 대해 next() 메소드가 순차적으로 호출됨\n",
    "    print key,"
   ]
  },
  {
   "cell_type": "markdown",
   "metadata": {},
   "source": [
    "- d.itervalues() 함수\n",
    "  - 사전 d가 지닌 값에 대한 반복자 객체를 반환한다."
   ]
  },
  {
   "cell_type": "code",
   "execution_count": 10,
   "metadata": {},
   "outputs": [
    {
     "name": "stdout",
     "output_type": "stream",
     "text": [
      "4 3 5 2 1\n"
     ]
    }
   ],
   "source": [
    "for value in d.itervalues():    # 값에 대한 반복자\n",
    "    print value, "
   ]
  },
  {
   "cell_type": "markdown",
   "metadata": {},
   "source": [
    "- d.iteritems() 함수\n",
    "  - 사전 d의 각 아이템에 대한 반복자 객체를 반환한다."
   ]
  },
  {
   "cell_type": "code",
   "execution_count": 9,
   "metadata": {},
   "outputs": [
    {
     "name": "stdout",
     "output_type": "stream",
     "text": [
      "four 4\n",
      "three 3\n",
      "five 5\n",
      "two 2\n",
      "one 1\n"
     ]
    }
   ],
   "source": [
    "for key, value in d.iteritems(): #(키,값)에 대한 반복자\n",
    "    print key, value"
   ]
  },
  {
   "cell_type": "markdown",
   "metadata": {},
   "source": [
    "### 2-4 파일 객체의 반복자"
   ]
  },
  {
   "cell_type": "markdown",
   "metadata": {},
   "source": [
    "- 파일 객체는 그 자체가 반복자임\n",
    "  - next() 함수에 의해 각 라인이 순차적으로 읽혀짐"
   ]
  },
  {
   "cell_type": "code",
   "execution_count": 21,
   "metadata": {},
   "outputs": [
    {
     "name": "stdout",
     "output_type": "stream",
     "text": [
      "f.next() 1: Hello World\n",
      "\n",
      "2: Hello World\n",
      "3: Hello World\n",
      "4: Hello World\n",
      "5: Hello World\n"
     ]
    }
   ],
   "source": [
    "f = open('readme.txt')\n",
    "print \"f.next()\", f.next()\n",
    "for line in f:   # f.next() 가 순차적으로 호출됨\n",
    "    print line,    "
   ]
  },
  {
   "cell_type": "markdown",
   "metadata": {},
   "source": [
    "***\n",
    "## 3 발생자\n",
    "***"
   ]
  },
  {
   "cell_type": "markdown",
   "metadata": {},
   "source": [
    "### 3-1 발생자란?\n",
    "- 발생자(Generator)\n",
    "  - (중단됨 시점부터) 재실행 가능한 함수\n",
    "  \n",
    "- 아래 함수 f()는 자신의 인수 및 내부 변수로서 a, b, c, d를 지니고 있다.\n",
    "  - 이러한 a, b, c, d 변수들은 함수가 종료되고 반환될 때 모두 사라진다.\n",
    "- 발생자는 f()와 같이 함수가 종료될 때 메모리에서 해제되는 것을 막고 다시 함수가 호출 될 때 이전에 수행이 종료되었던 지점 부터 계속 수행이 가능하도록 구현된 함수이다."
   ]
  },
  {
   "cell_type": "code",
   "execution_count": 17,
   "metadata": {},
   "outputs": [],
   "source": [
    "def f(a,b):\n",
    "    c = a * b\n",
    "    d = a + b\n",
    "    return c, d"
   ]
  },
  {
   "cell_type": "markdown",
   "metadata": {},
   "source": [
    "- yield 키워드\n",
    "  - return 대신에 yield에 의해 값을 반환하는 함수는 발생자이다.\n",
    "  - yield는 return과 유사하게 임의의 값을 반환하지만 함수의 실행 상태를 보존하면서 함수를 호출한 쪽으로 복귀시켜준다.\n",
    "- 발생자는 곧 반복자이다.\n",
    "  - 즉, 발생자에게 next() 호출이 가능하다."
   ]
  },
  {
   "cell_type": "code",
   "execution_count": 5,
   "metadata": {},
   "outputs": [],
   "source": [
    "def generate_ints(N):\n",
    "    for i in range(N):\n",
    "        yield i"
   ]
  },
  {
   "cell_type": "code",
   "execution_count": 8,
   "metadata": {},
   "outputs": [
    {
     "name": "stdout",
     "output_type": "stream",
     "text": [
      "<generator object generate_ints at 0x10ddd6410>\n",
      "0\n",
      "1\n",
      "2\n"
     ]
    },
    {
     "ename": "StopIteration",
     "evalue": "",
     "output_type": "error",
     "traceback": [
      "\u001b[0;31m---------------------------------------------------------------------------\u001b[0m\n\u001b[0;31mStopIteration\u001b[0m                             Traceback (most recent call last)",
      "\u001b[0;32m<ipython-input-8-65149ac25109>\u001b[0m in \u001b[0;36m<module>\u001b[0;34m()\u001b[0m\n\u001b[1;32m      4\u001b[0m \u001b[0;32mprint\u001b[0m \u001b[0mgen\u001b[0m\u001b[0;34m.\u001b[0m\u001b[0mnext\u001b[0m\u001b[0;34m(\u001b[0m\u001b[0;34m)\u001b[0m \u001b[0;31m# 발생자 실행 재개. yield에 의해 값 반환 후 다시 중단\u001b[0m\u001b[0;34m\u001b[0m\u001b[0m\n\u001b[1;32m      5\u001b[0m \u001b[0;32mprint\u001b[0m \u001b[0mgen\u001b[0m\u001b[0;34m.\u001b[0m\u001b[0mnext\u001b[0m\u001b[0;34m(\u001b[0m\u001b[0;34m)\u001b[0m \u001b[0;31m# 발생자 실행 재개. yield에 의해 값 반환 후 다시 중단\u001b[0m\u001b[0;34m\u001b[0m\u001b[0m\n\u001b[0;32m----> 6\u001b[0;31m \u001b[0;32mprint\u001b[0m \u001b[0mgen\u001b[0m\u001b[0;34m.\u001b[0m\u001b[0mnext\u001b[0m\u001b[0;34m(\u001b[0m\u001b[0;34m)\u001b[0m \u001b[0;31m# 발생자 실행 재개. yield에 의해 더 이상 반환할 값이 없다면 StopIteration 예외를 던짐\u001b[0m\u001b[0;34m\u001b[0m\u001b[0m\n\u001b[0m",
      "\u001b[0;31mStopIteration\u001b[0m: "
     ]
    }
   ],
   "source": [
    "gen = generate_ints(3) # 발생자 객체를 얻는다. generate_ints() 함수에 대한 초기 스택 프레임이 만들어지나 실행은 중단되어 있는 상태임\n",
    "print gen\n",
    "print gen.next() # 발생자 객체는 반복자 인터페이스를 가진다. 발생자의 실행이 재개됨. yield에 의해 값 반환 후 다시 실행이 중단됨\n",
    "print gen.next() # 발생자 실행 재개. yield에 의해 값 반환 후 다시 중단\n",
    "print gen.next() # 발생자 실행 재개. yield에 의해 값 반환 후 다시 중단\n",
    "print gen.next() # 발생자 실행 재개. yield에 의해 더 이상 반환할 값이 없다면 StopIteration 예외를 던짐"
   ]
  },
  {
   "cell_type": "markdown",
   "metadata": {},
   "source": [
    "- 위와 같은 세부 동작 방식을 이용하여, 다음과 같이 for ~ in 구문에 적용할 수 있다."
   ]
  },
  {
   "cell_type": "code",
   "execution_count": 22,
   "metadata": {},
   "outputs": [
    {
     "name": "stdout",
     "output_type": "stream",
     "text": [
      "0 1 2 3 4\n"
     ]
    }
   ],
   "source": [
    "for i in generate_ints(5):\n",
    "    print i,"
   ]
  },
  {
   "cell_type": "markdown",
   "metadata": {},
   "source": [
    "- 발생자 함수와 일반 함수의 차이점\n",
    "  - 일반 함수는 함수가 호출되면 그 함수 내부에 정의된 모든 일을 마치고 결과를 반환함\n",
    "  - 발생자 함수는 함수 내에서 수행 중에 중간 결과 값을 반환할 수 있음\n",
    "- 발생자가 유용하게 사용되는 경우\n",
    "  - 함수 처리의 중간 결과를 다른 코드에서 참조할 경우\n",
    "  - 모든 결과를 한꺼번에 처리하는 것이 아니라 함수 처리 중에 나온 중간 결과를 사용해야 할 경우"
   ]
  },
  {
   "cell_type": "markdown",
   "metadata": {},
   "source": [
    "### 3-2 발생자 구문\n",
    "- 리스트 내포(List Comprehension)\n",
    "  - 리스트 객체의 새로운 생성\n",
    "  - 메모리를 실제로 점유하면서 생성됨"
   ]
  },
  {
   "cell_type": "code",
   "execution_count": 19,
   "metadata": {},
   "outputs": [
    {
     "name": "stdout",
     "output_type": "stream",
     "text": [
      "[0, 5, 10, 15, 20, 25, 30, 35, 40, 45, 50, 55, 60, 65, 70, 75, 80, 85, 90, 95]\n"
     ]
    }
   ],
   "source": [
    "print [k for k in range(100) if k % 5 == 0]"
   ]
  },
  {
   "cell_type": "markdown",
   "metadata": {},
   "source": [
    "- 리스트 내포 구문에 []가 아니라 () 사용\n",
    "  - 리스트 대신에 발생자 생성\n",
    "  - 처음부터 모든 원소가 생성되지 않고 필요한 시점에 각 원소가 만들어짐\n",
    "  - 메모리를 보다 효율적으로 사용함"
   ]
  },
  {
   "cell_type": "code",
   "execution_count": 11,
   "metadata": {},
   "outputs": [
    {
     "name": "stdout",
     "output_type": "stream",
     "text": [
      "<generator object <genexpr> at 0x10d84df50>\n",
      "0\n",
      "5\n",
      "10\n",
      "15 20 25 30 35 40 45 50 55 60 65 70 75 80 85 90 95\n"
     ]
    }
   ],
   "source": [
    "a = (k for k in range(100) if k % 5 == 0)\n",
    "print a\n",
    "print a.next()\n",
    "print a.next()\n",
    "print a.next()\n",
    "for i in a:\n",
    "    print i,"
   ]
  },
  {
   "cell_type": "markdown",
   "metadata": {},
   "source": [
    "- 아래 예는 sum 내장 함수에 발생자를 넣어줌\n",
    "  - sum을 호출하는 시점에는 발생자가 아직 호출되기 직전이므로 각 원소들은 아직 존재하지 않는다.\n",
    "  - sum 내부에서 발생자가 지니고 있는 next() 함수를 호출하여 각 원소들을 직접 만들어 활용한다.\n",
    "  - 메모시 사용 효율이 높다."
   ]
  },
  {
   "cell_type": "code",
   "execution_count": 35,
   "metadata": {},
   "outputs": [
    {
     "name": "stdout",
     "output_type": "stream",
     "text": [
      "950\n"
     ]
    }
   ],
   "source": [
    "print sum((k for k in range(100) if k % 5 == 0))"
   ]
  },
  {
   "cell_type": "markdown",
   "metadata": {},
   "source": [
    "### 3-3 발생자의 활용 예 1 - 피보나치 수열"
   ]
  },
  {
   "cell_type": "code",
   "execution_count": 42,
   "metadata": {},
   "outputs": [
    {
     "name": "stdout",
     "output_type": "stream",
     "text": [
      "1 1 2 3 5 8 13 21 34 55 89\n"
     ]
    }
   ],
   "source": [
    "def fibonacci(a = 1, b = 1):\n",
    "    while 1:\n",
    "        yield a \n",
    "        a, b = b, a + b\n",
    "        \n",
    "for k in fibonacci():  # 발생자를 직접 for ~ in 구문에 활용\n",
    "    if k > 100: \n",
    "        break\n",
    "    print k,"
   ]
  },
  {
   "cell_type": "markdown",
   "metadata": {},
   "source": [
    "### 3-4 발생자의 활용 예 2 - 홀수 집합 만들기"
   ]
  },
  {
   "cell_type": "markdown",
   "metadata": {},
   "source": [
    "- 반복자를 활용한 예"
   ]
  },
  {
   "cell_type": "code",
   "execution_count": 43,
   "metadata": {},
   "outputs": [
    {
     "name": "stdout",
     "output_type": "stream",
     "text": [
      "1 3 5 7 9 11 13 15 17 19\n",
      "[1, 3, 5, 7, 9, 11, 13, 15, 17, 19]\n"
     ]
    }
   ],
   "source": [
    "class Odds:\n",
    "    def __init__(self, limit = None): # 생성자 정의\n",
    "        self.data = -1                # 초기 값\n",
    "        self.limit = limit            # 한계 값\n",
    "    def __iter__(self):               # Odds 객체의 반복자를 반환하는 특수 함수\n",
    "        return self\n",
    "    def next(self):                   # 반복자의 필수 함수\n",
    "        self.data += 2\n",
    "        if self.limit and self.limit <= self.data:\n",
    "            raise StopIteration\n",
    "        return self.data\n",
    "\n",
    "for k in Odds(20):\n",
    "    print k,\n",
    "print\n",
    "print list(Odds(20)) # list() 내장 함수가 객체를 인수로 받으면 해당 객체의 반복자를 얻어와 next()를 매번 호출하여 각 원소를 얻어온다. "
   ]
  },
  {
   "cell_type": "markdown",
   "metadata": {},
   "source": [
    "- 발생자를 활용한 예"
   ]
  },
  {
   "cell_type": "code",
   "execution_count": 71,
   "metadata": {},
   "outputs": [
    {
     "name": "stdout",
     "output_type": "stream",
     "text": [
      "1 3 5 7 9 11 13 15 17 19\n",
      "[1, 3, 5, 7, 9, 11, 13, 15, 17, 19]\n"
     ]
    }
   ],
   "source": [
    "def odds(limit=None):\n",
    "    k = 1\n",
    "    while not limit or limit >= k:\n",
    "        yield k\n",
    "        k += 2\n",
    "        \n",
    "for k in odds(20):\n",
    "    print k,\n",
    "print\n",
    "print list(odds(20)) # list() 내장 함수가 발생자를 인수로 받으면 해당 발생자의 next()를 매번 호출하여 각 원소를 얻어온다. "
   ]
  },
  {
   "cell_type": "markdown",
   "metadata": {},
   "source": [
    "<p style='text-align: right;'>참고 문헌: 파이썬(열혈강의)(개정판 VER.2), 이강성, FreeLec, 2005년 8월 29일</p>"
   ]
  }
 ],
 "metadata": {
  "kernelspec": {
   "display_name": "Python 3",
   "language": "python",
   "name": "python3"
  },
  "language_info": {
   "codemirror_mode": {
    "name": "ipython",
    "version": 3
   },
   "file_extension": ".py",
   "mimetype": "text/x-python",
   "name": "python",
   "nbconvert_exporter": "python",
   "pygments_lexer": "ipython3",
   "version": "3.6.1"
  }
 },
 "nbformat": 4,
 "nbformat_minor": 1
}
