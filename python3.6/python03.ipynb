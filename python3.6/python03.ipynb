{
 "cells": [
  {
   "cell_type": "markdown",
   "metadata": {},
   "source": [
    "***\n",
    "***\n",
    "# 3. 내장 자료형의 기초\n",
    "***\n",
    "***"
   ]
  },
  {
   "cell_type": "markdown",
   "metadata": {},
   "source": [
    "***\n",
    "## 1 수치 자료형\n",
    "***"
   ]
  },
  {
   "cell_type": "markdown",
   "metadata": {},
   "source": [
    "### 1-1 정수형 상수"
   ]
  },
  {
   "cell_type": "code",
   "execution_count": 2,
   "metadata": {},
   "outputs": [
    {
     "name": "stdout",
     "output_type": "stream",
     "text": [
      "<class 'int'> <class 'int'> <class 'int'>\n",
      "23 19 35\n"
     ]
    }
   ],
   "source": [
    "a = 23      # 10진 정수\n",
    "# b = 023 \n",
    "b = 0o23     # 8진 정수\n",
    "c = 0x23    # 16진 정수\n",
    "print(type(a), type(b), type(c))\n",
    "print(a, b, c)"
   ]
  },
  {
   "cell_type": "code",
   "execution_count": 1,
   "metadata": {},
   "outputs": [
    {
     "name": "stdout",
     "output_type": "stream",
     "text": [
      "9223372036854775807\n"
     ]
    }
   ],
   "source": [
    "import sys\n",
    "# print sys.maxint <-- python2 에서만 동작\n",
    "\n",
    "print(sys.maxsize)  # 최대 정수 값 확인\n",
    "# https://docs.python.org/3/library/sys.html#sys.maxsize"
   ]
  },
  {
   "cell_type": "code",
   "execution_count": 2,
   "metadata": {},
   "outputs": [
    {
     "name": "stdout",
     "output_type": "stream",
     "text": [
      "9223372036854775808\n",
      "<class 'int'>\n"
     ]
    }
   ],
   "source": [
    "a = 9223372036854775808\n",
    "print(a)\n",
    "print(type(a))"
   ]
  },
  {
   "cell_type": "markdown",
   "metadata": {},
   "source": [
    "### 1-2 실수형 상수"
   ]
  },
  {
   "cell_type": "code",
   "execution_count": 13,
   "metadata": {},
   "outputs": [
    {
     "name": "stdout",
     "output_type": "stream",
     "text": [
      "<class 'float'> <class 'float'> <class 'float'>\n",
      "\n",
      "1.2\n",
      "3500.0\n",
      "-2e-05\n",
      "\n",
      "1.200\n",
      "3500.000\n",
      "-0.00002000\n"
     ]
    }
   ],
   "source": [
    "a = 1.2\n",
    "b = 3.5e3\n",
    "c = -0.2e-4\n",
    "print(type(a), type(b), type(c))\n",
    "print()\n",
    "print(a)\n",
    "print(b)\n",
    "print(c)\n",
    "print()\n",
    "print(\"{:5.3f}\".format(a))\n",
    "print(\"{:5.3f}\".format(b))\n",
    "print(\"{:10.8f}\".format(c))"
   ]
  },
  {
   "cell_type": "markdown",
   "metadata": {},
   "source": [
    "### 1-3 롱형 상수\n",
    "- Python3부터는 더 이상 존재하지 않음<br>\n",
    "\n",
    "Python 2 had separate int and long types for non-floating-point numbers. An int could not be any larger than sys.maxint, which varied by platform. Longs were defined by appending an L to the end of the number, and they could be, well, longer than ints. In Python 3, there is only one integer type, called int, which mostly behaves like the long type in Python 2. Since there are no longer two types, there is no need for special syntax to distinguish them.<br>\n",
    "<br>\n",
    "참고: http://www.diveintopython3.net/porting-code-to-python-3-with-2to3.html"
   ]
  },
  {
   "cell_type": "code",
   "execution_count": 15,
   "metadata": {},
   "outputs": [
    {
     "name": "stdout",
     "output_type": "stream",
     "text": [
      "<class 'int'>\n",
      "15241578753238836750495351562536198787501905199875019052100\n",
      "\n",
      "<class 'int'>\n",
      "15241578753238836750495351562536198787501905199875019052100\n",
      "\n",
      "<class 'int'>\n",
      "\n",
      "<class 'int'>\n"
     ]
    }
   ],
   "source": [
    "h1 = 123456789012345678901234567890    # Python2에서는 마지막에 L을 붙여서 명시적으로 long 형이라고 알려줬다.\n",
    "print(type(h1))\n",
    "print(h1 * h1)\n",
    "print()\n",
    "\n",
    "h2 = 123456789012345678901234567890     # Python2에서는 L을 붙이지 않아도 int형이 담을 수 있는 수치(sys.maxint)를 초과하면 자동으로 long형이 됐다.    \n",
    "print(type(h2))\n",
    "print(h2 * h2)\n",
    "print()\n",
    "\n",
    "h3 = 123\n",
    "print(type(h3))\n",
    "print()\n",
    "\n",
    "h4 = 123\n",
    "print(type(h4))"
   ]
  },
  {
   "cell_type": "markdown",
   "metadata": {},
   "source": [
    "### 1-4 복소수형 상수"
   ]
  },
  {
   "cell_type": "code",
   "execution_count": 17,
   "metadata": {},
   "outputs": [
    {
     "name": "stdout",
     "output_type": "stream",
     "text": [
      "(10+20j)\n",
      "<class 'complex'>\n",
      "\n",
      "(20+25j)\n"
     ]
    }
   ],
   "source": [
    "a = 10 + 20j\n",
    "print(a)\n",
    "print(type(a))\n",
    "print()\n",
    "\n",
    "b = 10 + 5j\n",
    "print(a + b)"
   ]
  },
  {
   "cell_type": "markdown",
   "metadata": {},
   "source": [
    "### 1-5 수치 자료형의 치환\n",
    "- 아래 예에서는 x가 지니고 있는 1의 값이 변경되는 것이 아니라 새로운 객체 2로 레퍼런스를 변경하는 것임"
   ]
  },
  {
   "cell_type": "code",
   "execution_count": 17,
   "metadata": {
    "collapsed": true
   },
   "outputs": [],
   "source": [
    "x = 1\n",
    "x = 2"
   ]
  },
  {
   "cell_type": "markdown",
   "metadata": {},
   "source": [
    "![image1](../images/referenceChangeNumerical.png)"
   ]
  },
  {
   "cell_type": "markdown",
   "metadata": {},
   "source": [
    "### 1-6 수치 연산과 관련된 내장 함수"
   ]
  },
  {
   "cell_type": "code",
   "execution_count": 3,
   "metadata": {},
   "outputs": [
    {
     "name": "stdout",
     "output_type": "stream",
     "text": [
      "3\n",
      "3\n",
      "-3\n",
      "3\n",
      "5.0\n",
      "(3.4+5j)\n",
      "(6+0j)\n"
     ]
    }
   ],
   "source": [
    "print(abs(-3))\n",
    "print(int(3.141592))\n",
    "print(int(-3.1415))\n",
    "# print long(3)   # In Python 3, the old long() function no longer exists\n",
    "print(int(3)) \n",
    "print(float(5))\n",
    "print(complex(3.4, 5))\n",
    "print(complex(6))"
   ]
  },
  {
   "cell_type": "code",
   "execution_count": 18,
   "metadata": {},
   "outputs": [
    {
     "name": "stdout",
     "output_type": "stream",
     "text": [
      "(2, 1)\n",
      "\n",
      "8\n",
      "18.45216910555504\n"
     ]
    }
   ],
   "source": [
    "print(divmod(5, 2))\n",
    "print()\n",
    "print(pow(2, 3))\n",
    "print(pow(2.3, 3.5))"
   ]
  },
  {
   "cell_type": "markdown",
   "metadata": {},
   "source": [
    "### 1-7 <code>math</code> 모듈의 수치 연산 함수"
   ]
  },
  {
   "cell_type": "code",
   "execution_count": 19,
   "metadata": {},
   "outputs": [
    {
     "name": "stdout",
     "output_type": "stream",
     "text": [
      "3.141592653589793\n",
      "2.718281828459045\n",
      "0.8414709848078965\n",
      "1.4142135623730951\n"
     ]
    }
   ],
   "source": [
    "import math\n",
    "\n",
    "print(math.pi)\n",
    "print(math.e)\n",
    "print(math.sin(1.0)) # 1.0 라디안에 대한 사인 값\n",
    "print(math.sqrt(2)) # 제곱근\n",
    "\n",
    "# 3.14159265359\n",
    "# 2.71828182846\n",
    "# 0.841470984808\n",
    "# 1.41421356237"
   ]
  },
  {
   "cell_type": "code",
   "execution_count": 20,
   "metadata": {},
   "outputs": [
    {
     "name": "stdout",
     "output_type": "stream",
     "text": [
      "0.8660254037844386 0.5000000000000001 1.7320508075688767\n"
     ]
    }
   ],
   "source": [
    "r = 5.0 # 반지름\n",
    "a = math.pi * r * r # 면적\n",
    "\n",
    "degree = 60.0\n",
    "rad = math.pi * degree / 180.0 # 각도를 라디안으로 변환\n",
    "print(math.sin(rad), math.cos(rad), math.tan(rad)) #sin, cos, tan"
   ]
  },
  {
   "cell_type": "markdown",
   "metadata": {},
   "source": [
    "***\n",
    "## 2 문자열\n",
    "***"
   ]
  },
  {
   "cell_type": "markdown",
   "metadata": {},
   "source": [
    "### 2-1 문자열 형식"
   ]
  },
  {
   "cell_type": "markdown",
   "metadata": {},
   "source": [
    "- 한 줄 문자열 형식\n",
    "  - 단일 따옴표\n",
    "  - 이중 따옴표"
   ]
  },
  {
   "cell_type": "code",
   "execution_count": 7,
   "metadata": {},
   "outputs": [
    {
     "name": "stdout",
     "output_type": "stream",
     "text": [
      "Hello World!\n",
      "Hello World!\n"
     ]
    }
   ],
   "source": [
    "print('Hello World!')\n",
    "\n",
    "print(\"Hello World!\")"
   ]
  },
  {
   "cell_type": "markdown",
   "metadata": {},
   "source": [
    "- 여러 줄 문자열 형식\n",
    "  - 연속된 단일 따옴표 세 개\n",
    "  - 연속된 이중 따옴표 세 개"
   ]
  },
  {
   "cell_type": "code",
   "execution_count": 8,
   "metadata": {},
   "outputs": [
    {
     "name": "stdout",
     "output_type": "stream",
     "text": [
      "\n",
      "To be, or not to be\n",
      "that is the question\n",
      "\n",
      "\n",
      "To be, or not to be\n",
      "that is the question\n",
      "\n"
     ]
    }
   ],
   "source": [
    "multiline = '''\n",
    "To be, or not to be\n",
    "that is the question\n",
    "'''\n",
    "print(multiline)\n",
    "\n",
    "multiline2 = \"\"\"\n",
    "To be, or not to be\n",
    "that is the question\n",
    "\"\"\"\n",
    "print(multiline2)"
   ]
  },
  {
   "cell_type": "markdown",
   "metadata": {},
   "source": [
    "### 2-2 인덱싱(Indexing)과 슬라이싱(Slicing)"
   ]
  },
  {
   "cell_type": "markdown",
   "metadata": {},
   "source": [
    "- Indexing"
   ]
  },
  {
   "cell_type": "code",
   "execution_count": 9,
   "metadata": {},
   "outputs": [
    {
     "name": "stdout",
     "output_type": "stream",
     "text": [
      "H\n",
      "e\n",
      "!\n",
      "d\n"
     ]
    }
   ],
   "source": [
    "s = \"Hello world!\"\n",
    "print(s[0])\n",
    "print(s[1])\n",
    "print(s[-1])\n",
    "print(s[-2])"
   ]
  },
  {
   "cell_type": "markdown",
   "metadata": {},
   "source": [
    "- Slicing\n",
    "  - 형식: <code>[start(included) : stop(excluded) : step]</code>\n",
    "  - 기본값: start - 0, stop - 자료형의 크기, step - 1"
   ]
  },
  {
   "cell_type": "code",
   "execution_count": 10,
   "metadata": {},
   "outputs": [
    {
     "name": "stdout",
     "output_type": "stream",
     "text": [
      "el\n",
      "Hello\n"
     ]
    }
   ],
   "source": [
    "s = \"Hello world!\"\n",
    "print(s[1:3])\n",
    "print(s[0:5])"
   ]
  },
  {
   "cell_type": "code",
   "execution_count": 13,
   "metadata": {},
   "outputs": [
    {
     "name": "stdout",
     "output_type": "stream",
     "text": [
      "ello\n",
      "Hel\n",
      "Hello\n"
     ]
    }
   ],
   "source": [
    "s = 'Hello'\n",
    "print(s[1:])\n",
    "print(s[:3])\n",
    "print(s[:])"
   ]
  },
  {
   "cell_type": "code",
   "execution_count": 14,
   "metadata": {},
   "outputs": [
    {
     "name": "stdout",
     "output_type": "stream",
     "text": [
      "ac\n",
      "dcba\n"
     ]
    }
   ],
   "source": [
    "s = 'abcd'\n",
    "print(s[::2])\n",
    "print(s[::-1])"
   ]
  },
  {
   "cell_type": "markdown",
   "metadata": {},
   "source": [
    "- 문자열 자료형은 변경되지 않는다."
   ]
  },
  {
   "cell_type": "code",
   "execution_count": 16,
   "metadata": {},
   "outputs": [
    {
     "ename": "TypeError",
     "evalue": "'str' object does not support item assignment",
     "output_type": "error",
     "traceback": [
      "\u001b[0;31m---------------------------------------------------------------------------\u001b[0m",
      "\u001b[0;31mTypeError\u001b[0m                                 Traceback (most recent call last)",
      "\u001b[0;32m<ipython-input-16-28020f3d59a5>\u001b[0m in \u001b[0;36m<module>\u001b[0;34m()\u001b[0m\n\u001b[1;32m      1\u001b[0m \u001b[0ms\u001b[0m \u001b[0;34m=\u001b[0m \u001b[0;34m'Hello World'\u001b[0m\u001b[0;34m\u001b[0m\u001b[0m\n\u001b[0;32m----> 2\u001b[0;31m \u001b[0ms\u001b[0m\u001b[0;34m[\u001b[0m\u001b[0;36m0\u001b[0m\u001b[0;34m]\u001b[0m \u001b[0;34m=\u001b[0m \u001b[0;34m'h'\u001b[0m\u001b[0;34m\u001b[0m\u001b[0m\n\u001b[0m",
      "\u001b[0;31mTypeError\u001b[0m: 'str' object does not support item assignment"
     ]
    }
   ],
   "source": [
    "s = 'Hello World'\n",
    "s[0] = 'h'"
   ]
  },
  {
   "cell_type": "markdown",
   "metadata": {},
   "source": [
    "- 문자열을 변경하려면 Slicing 및 연결 연산 (+)을 주로 이용한다."
   ]
  },
  {
   "cell_type": "code",
   "execution_count": 17,
   "metadata": {},
   "outputs": [
    {
     "data": {
      "text/plain": [
       "'hello World'"
      ]
     },
     "execution_count": 17,
     "metadata": {},
     "output_type": "execute_result"
    }
   ],
   "source": [
    "s = 'Hello World'\n",
    "s = 'h' + s[1:]\n",
    "s"
   ]
  },
  {
   "cell_type": "markdown",
   "metadata": {},
   "source": [
    "### 2-3 문자열 연산\n",
    "- <code>+</code>: 연결\n",
    "- <code>*</code>: 반복"
   ]
  },
  {
   "cell_type": "code",
   "execution_count": 21,
   "metadata": {},
   "outputs": [
    {
     "name": "stdout",
     "output_type": "stream",
     "text": [
      "Hello World\n",
      "HelloHelloHello\n",
      "------------------------------------------------------------\n"
     ]
    }
   ],
   "source": [
    "print('Hello' + ' ' + 'World')\n",
    "print('Hello' * 3)\n",
    "print('-' * 60)"
   ]
  },
  {
   "cell_type": "markdown",
   "metadata": {},
   "source": [
    "### 2-4 문자열의 길이\n",
    "- <code>len()</code>: 문자열의 길이를 반환하는 내장함수\n",
    "- Return the number of items in a container."
   ]
  },
  {
   "cell_type": "code",
   "execution_count": 19,
   "metadata": {},
   "outputs": [
    {
     "data": {
      "text/plain": [
       "11"
      ]
     },
     "execution_count": 19,
     "metadata": {},
     "output_type": "execute_result"
    }
   ],
   "source": [
    "s = 'Hello World'\n",
    "len(s)"
   ]
  },
  {
   "cell_type": "markdown",
   "metadata": {},
   "source": [
    "### 2-5 문자열내 포함 관계 여부\n",
    "- <code>in</code>, <code>not in</code>: 문자열내에 일부 문자열이 포함되어 있는지를 파악하는 키워드"
   ]
  },
  {
   "cell_type": "code",
   "execution_count": 20,
   "metadata": {},
   "outputs": [
    {
     "name": "stdout",
     "output_type": "stream",
     "text": [
      "True\n",
      "False\n"
     ]
    }
   ],
   "source": [
    "s = 'Hello World'\n",
    "print('World' in s)\n",
    "print('World' not in s)"
   ]
  },
  {
   "cell_type": "markdown",
   "metadata": {},
   "source": [
    "<p style='text-align: right;'>참고 문헌: 파이썬(열혈강의)(개정판 VER.2), 이강성, FreeLec, 2005년 8월 29일</p>"
   ]
  }
 ],
 "metadata": {
  "kernelspec": {
   "display_name": "Python 3",
   "language": "python",
   "name": "python3"
  },
  "language_info": {
   "codemirror_mode": {
    "name": "ipython",
    "version": 3
   },
   "file_extension": ".py",
   "mimetype": "text/x-python",
   "name": "python",
   "nbconvert_exporter": "python",
   "pygments_lexer": "ipython3",
   "version": "3.6.5"
  }
 },
 "nbformat": 4,
 "nbformat_minor": 1
}
