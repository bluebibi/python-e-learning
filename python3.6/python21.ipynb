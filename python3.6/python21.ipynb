{
 "metadata": {
  "name": "",
  "signature": "sha256:8f9b177eb7705dd02d3af4493e8b1149b369cd12a697af1db111d8dfe3b6e92e"
 },
 "nbformat": 3,
 "nbformat_minor": 0,
 "worksheets": [
  {
   "cells": [
    {
     "cell_type": "markdown",
     "metadata": {},
     "source": [
      "***\n",
      "***\n",
      "# 21. \uc0c1\uc18d\uacfc \ub2e4\ud615\uc131\n",
      "***\n",
      "***"
     ]
    },
    {
     "cell_type": "markdown",
     "metadata": {},
     "source": [
      "***\n",
      "## 1 \ud074\ub798\uc2a4 \uc0c1\uc18d\n",
      "***"
     ]
    },
    {
     "cell_type": "markdown",
     "metadata": {},
     "source": [
      "### 1-1 \ud074\ub798\uc2a4 \uc0c1\uc18d\uacfc \uc774\ub984 \uacf5\uac04\uc758 \uad00\uacc4"
     ]
    },
    {
     "cell_type": "markdown",
     "metadata": {},
     "source": [
      "- \uc0c1\uc18d\uc758 \uc774\uc720\n",
      "  - \ucf54\ub4dc\uc758 \uc7ac\uc0ac\uc6a9\n",
      "  - \uc0c1\uc18d\ubc1b\uc740 \uc790\uc2dd \ud074\ub798\uc2a4\ub294 \uc0c1\uc18d\uc744 \ud574\uc900 \ubd80\ubaa8 \ud074\ub798\uc2a4\uc758 \ubaa8\ub4e0 \uae30\ub2a5\uc744 \uadf8\ub300\ub85c \uc0ac\uc6a9\n",
      "  - \uc790\uc2dd \ud074\ub798\uc2a4\ub294 \ud544\uc694\ud55c \uae30\ub2a5\ub9cc\uc744 \uc815\uc758\ud558\uac70\ub098 \uae30\uc874\uc758 \uae30\ub2a5\uc744 \ubcc0\uacbd\ud560 \uc218 \uc788\uc74c"
     ]
    },
    {
     "cell_type": "code",
     "collapsed": false,
     "input": [
      "class Person:\n",
      "    def __init__(self, name, phone=None):\n",
      "        self.name = name\n",
      "        self.phone = phone\n",
      "    def __str__(self):\n",
      "        return '<Person %s %s>' % (self.name, self.phone)"
     ],
     "language": "python",
     "metadata": {},
     "outputs": [],
     "prompt_number": 1
    },
    {
     "cell_type": "code",
     "collapsed": false,
     "input": [
      "class Employee(Person):                    # \uad04\ud638 \uc548\uc5d0 \uc4f0\uc5ec\uc9c4 \ud074\ub798\uc2a4\ub294 \uc288\ud37c\ud074\ub798\uc2a4\ub97c \uc758\ubbf8\ud55c\ub2e4.\n",
      "    def __init__(self, name, phone, position, salary):\n",
      "        Person.__init__(self, name, phone) # Person\ud074\ub798\uc2a4\uc758 \uc0dd\uc131\uc790 \ud638\ucd9c\n",
      "        self.position = position\n",
      "        self.salary = salary"
     ],
     "language": "python",
     "metadata": {},
     "outputs": [],
     "prompt_number": 2
    },
    {
     "cell_type": "markdown",
     "metadata": {},
     "source": [
      "- \uc774\ub984 \uacf5\uac04\uc758 \ud3ec\ud568\uad00\uacc4\n",
      "  - \uc790\uc2dd \ud074\ub798\uc2a4 > \ubd80\ubaa8 \ud074\ub798\uc2a4"
     ]
    },
    {
     "cell_type": "markdown",
     "metadata": {},
     "source": [
      "![inheritance](images/inheritance2.png)"
     ]
    },
    {
     "cell_type": "code",
     "collapsed": false,
     "input": [
      "p1 = Person('\ud64d\uae38\ub3d9', 1498)\n",
      "print p1.name\n",
      "print p1\n",
      "\n",
      "print\n",
      "\n",
      "m1 = Employee('\uc190\ucc3d\ud76c', 5564, '\ub300\ub9ac', 200)\n",
      "m2 = Employee('\uae40\uae30\ub3d9', 8546, '\uacfc\uc7a5', 300)\n",
      "print m1.name, m1.position  # \uc288\ud37c\ud074\ub798\uc2a4\uc640 \uc11c\ube0c\ud074\ub798\uc2a4\uc758 \uba64\ubc84\ub97c \ud558\ub098\uc529 \ucd9c\ub825\ud55c\ub2e4.\n",
      "print m1\n",
      "print m2.name, m2.position\n",
      "print m2"
     ],
     "language": "python",
     "metadata": {},
     "outputs": [
      {
       "output_type": "stream",
       "stream": "stdout",
       "text": [
        "\ud64d\uae38\ub3d9\n",
        "<Person \ud64d\uae38\ub3d9 1498>\n",
        "\n",
        "\uc190\ucc3d\ud76c \ub300\ub9ac\n",
        "<Person \uc190\ucc3d\ud76c 5564>\n",
        "\uae40\uae30\ub3d9 \uacfc\uc7a5\n",
        "<Person \uae40\uae30\ub3d9 8546>\n"
       ]
      }
     ],
     "prompt_number": 3
    },
    {
     "cell_type": "markdown",
     "metadata": {},
     "source": [
      "![inheritance](images/inheritance3.png)"
     ]
    },
    {
     "cell_type": "markdown",
     "metadata": {},
     "source": [
      "### 1-2 \uc0dd\uc131\uc790 \ud638\ucd9c\n",
      "- \uc11c\ube0c \ud074\ub798\uc2a4\uc758 \uc0dd\uc131\uc790\ub294 \uc288\ud37c \ud074\ub798\uc2a4\uc758 \uc0dd\uc131\uc790\ub97c \uc790\ub3d9\uc73c\ub85c \ud638\ucd9c\ud558\uc9c0 \uc54a\ub294\ub2e4."
     ]
    },
    {
     "cell_type": "code",
     "collapsed": false,
     "input": [
      "class Super:\n",
      "    def __init__(self):\n",
      "        print 'Super init called'\n",
      "\n",
      "class Sub(Super):\n",
      "    def __init__(self):\n",
      "        print 'Sub init called'\n",
      "    \n",
      "s = Sub()"
     ],
     "language": "python",
     "metadata": {},
     "outputs": [
      {
       "output_type": "stream",
       "stream": "stdout",
       "text": [
        "Sub init called\n"
       ]
      }
     ],
     "prompt_number": 4
    },
    {
     "cell_type": "markdown",
     "metadata": {},
     "source": [
      "- \uc11c\ube0c \ud074\ub798\uc2a4\uc758 \uc0dd\uc131\uc790\uc5d0\uc11c \uc288\ud37c \ud074\ub798\uc2a4\uc758 \uc0dd\uc131\uc790\ub97c \uba85\uc2dc\uc801\uc73c\ub85c \ud638\ucd9c\ud574\uc57c \ud55c\ub2e4."
     ]
    },
    {
     "cell_type": "code",
     "collapsed": false,
     "input": [
      "class Super:\n",
      "    def __init__(self):\n",
      "        print 'Super init called'\n",
      "        \n",
      "class Sub(Super):\n",
      "    def __init__(self):\n",
      "        Super.__init__(self)   # \uba85\uc2dc\uc801\uc73c\ub85c \uc288\ud37c\ud074\ub798\uc2a4\uc758 \uc0dd\uc131\uc790\ub97c \ud638\ucd9c\ud55c\ub2e4.\n",
      "        print 'Sub init called'\n",
      "    \n",
      "s = Sub()"
     ],
     "language": "python",
     "metadata": {},
     "outputs": [
      {
       "output_type": "stream",
       "stream": "stdout",
       "text": [
        "Super init called\n",
        "Sub init called\n"
       ]
      }
     ],
     "prompt_number": 3
    },
    {
     "cell_type": "markdown",
     "metadata": {},
     "source": [
      "- \uc11c\ube0c \ud074\ub798\uc2a4\uc5d0 \uc0dd\uc131\uc790\uac00 \uc815\uc758\ub418\uc5b4 \uc788\uc9c0 \uc54a\uc740 \uacbd\uc6b0\uc5d0\ub294 \uc288\ud37c \ud074\ub798\uc2a4\uc758 \uc0dd\uc131\uc790\uac00 \ud638\ucd9c\ub41c\ub2e4. "
     ]
    },
    {
     "cell_type": "code",
     "collapsed": false,
     "input": [
      "class Super:\n",
      "    def __init__(self):\n",
      "        print 'Super init called'\n",
      "        \n",
      "class Sub(Super):\n",
      "    pass\n",
      "\n",
      "s = Sub()"
     ],
     "language": "python",
     "metadata": {},
     "outputs": [
      {
       "output_type": "stream",
       "stream": "stdout",
       "text": [
        "Super init called\n"
       ]
      }
     ],
     "prompt_number": 66
    },
    {
     "cell_type": "markdown",
     "metadata": {},
     "source": [
      "### 1-3 \uba54\uc3d8\ub4dc\uc758 \ub300\uce58 (\uba54\uc18c\ub4dc \uc624\ubc84\ub77c\uc774\ub4dc - Override)\n",
      "- \uc11c\ube0c \ud074\ub798\uc2a4\uc5d0\uc11c \uc288\ud37c \ud074\ub798\uc2a4\uc5d0 \uc815\uc758\ub41c \uba54\uc18c\ub4dc\ub97c \uc7ac\uc815\uc758\ud558\uc5ec \ub300\uce58\ud558\ub294 \uae30\ub2a5"
     ]
    },
    {
     "cell_type": "code",
     "collapsed": false,
     "input": [
      "class Person:\n",
      "    def __init__(self, name, phone=None):\n",
      "        self.name = name\n",
      "        self.phone = phone\n",
      "    def __str__(self):\n",
      "        return '<Person %s %s>' % (self.name, self.phone)\n",
      "    \n",
      "class Employee(Person):\n",
      "    def __init__(self, name, phone, position, salary):\n",
      "        Person.__init__(self, name, phone)\n",
      "        self.position = position\n",
      "        self.salary = salary\n",
      "        \n",
      "p1 = Person('gslee', 5284)\n",
      "m1 = Employee('kslee', 5224, 'President', 500)\n",
      "\n",
      "print p1\n",
      "print m1"
     ],
     "language": "python",
     "metadata": {},
     "outputs": [
      {
       "output_type": "stream",
       "stream": "stdout",
       "text": [
        "<Person gslee 5284>\n",
        "<Person kslee 5224>\n"
       ]
      }
     ],
     "prompt_number": 1
    },
    {
     "cell_type": "code",
     "collapsed": false,
     "input": [
      "class Employee(Person):\n",
      "    def __init__(self, name, phone, position, salary):\n",
      "        Person.__init__(self, name, phone)\n",
      "        self.position = position\n",
      "        self.salary = salary\n",
      "    def __str__(self):\n",
      "        return '<Employee %s %s %s %s>' % (self.name, self.phone, self.position, self.salary)\n",
      "    \n",
      "p1 = Person('gslee', 5284)\n",
      "m1 = Employee('kslee', 5224, 'President', 500)\n",
      "\n",
      "print p1\n",
      "print m1"
     ],
     "language": "python",
     "metadata": {},
     "outputs": [
      {
       "output_type": "stream",
       "stream": "stdout",
       "text": [
        "<Person gslee 5284>\n",
        "<Employee kslee 5224 President 500>\n"
       ]
      }
     ],
     "prompt_number": 2
    },
    {
     "cell_type": "markdown",
     "metadata": {},
     "source": [
      "### 1-4 \ub2e4\ud615\uc131(Polymorphism)\n",
      "- \uc0c1\uc18d \uad00\uacc4 \ub0b4\uc758 \ub2e4\ub978 \ud074\ub798\uc2a4\ub4e4\uc758 \uc778\uc2a4\ud134\uc2a4\ub4e4\uc774 \uac19\uc740 \uba64\ubc84 \ud568\uc218 \ud638\ucd9c\uc5d0 \ub300\ud574 \uac01\uac01 \ub2e4\ub974\uac8c \ubc18\uc751\ud558\ub3c4\ub85d \ud558\ub294 \uae30\ub2a5\n",
      "  - \uc5f0\uc0b0\uc790 \uc624\ubc84\ub85c\ub529\ub3c4 \ub2e4\ud615\uc131\uc744 \uc9c0\uc6d0\ud558\ub294 \uc911\uc694\ud55c \uae30\uc220 \n",
      "    - \uc608\ub97c \ub4e4\uc5b4, a\uc640 b\uc758 \uac1d\uccb4 \ud615\uc5d0 \ub530\ub77c a + b\uc758 + \uc5f0\uc0b0\uc790 \ud589\ub3d9 \ubc29\uc2dd\uc774 \ubcc0\uacbd\ub418\ub294 \uac83\n",
      "\n",
      "- \ub2e4\ud615\uc131\uc758 \uc7a5\uc810\n",
      "  - \uc801\uc740 \ucf54\ub529\uc73c\ub85c \ub2e4\uc591\ud55c \uac1d\uccb4\ub4e4\uc5d0\uac8c \uc720\uc0ac\ud55c \uc791\uc5c5\uc744 \uc218\ud589\uc2dc\ud0ac \uc218 \uc788\uc74c\n",
      "  - \ud504\ub85c\uadf8\ub7a8 \uc791\uc131 \ucf54\ub4dc \ub7c9\uc774 \uc904\uc5b4\ub4e0\ub2e4.\n",
      "  - \ucf54\ub4dc\uc758 \uac00\ub3c5\uc131\uc744 \ub192\ud600\uc900\ub2e4.\n",
      "  \n",
      "- \ud30c\uc774\uc36c\uc5d0\uc11c \ub2e4\ud615\uc131\uc758 \uc7a5\uc810\n",
      "  - \ud615 \uc120\uc5b8\uc774 \uc5c6\ub2e4\ub294 \uc810\uc5d0\uc11c \ud30c\uc774\uc36c\uc5d0\uc11c\ub294 \ub2e4\ud615\uc131\uc744 \uc801\uc6a9\ud558\uae30\uac00 \ub354\uc6b1 \uc6a9\uc774\ud558\ub2e4.\n",
      "  - \uc2e4\uc2dc\uac04\uc73c\ub85c \uac1d\uccb4\uc758 \ud615\uc774 \uacb0\uc815\ub418\ubbc0\ub85c \ub2e8 \ud558\ub098\uc758 \uba54\uc18c\ub4dc\uc5d0 \uc758\ud574 \ucc98\ub9ac\ub420 \uc218 \uc788\ub294 \uac1d\uccb4\uc758 \uc885\ub958\uc5d0 \uc81c\ud55c\uc774 \uc5c6\ub2e4.\n",
      "    - \uc989, \ub2e4\ub978 \uc5b8\uc5b4\ubcf4\ub2e4 \ucf54\ub4dc\uc758 \uc591\uc774 \ub354\uc6b1 \uc904\uc5b4\ub4e0\ub2e4."
     ]
    },
    {
     "cell_type": "code",
     "collapsed": false,
     "input": [
      "class Animal:\n",
      "    def cry(self):\n",
      "        print '...'\n",
      "        \n",
      "class Dog(Animal):\n",
      "    def cry(self):\n",
      "        print '\uba4d\uba4d'\n",
      "        \n",
      "class Duck(Animal):\n",
      "    def cry(self):\n",
      "        print '\uaf65\uaf65'\n",
      "        \n",
      "class Fish(Animal):\n",
      "    pass\n",
      "\n",
      "for each in (Dog(), Duck(), Fish()):\n",
      "    each.cry()"
     ],
     "language": "python",
     "metadata": {},
     "outputs": [
      {
       "output_type": "stream",
       "stream": "stdout",
       "text": [
        "\uba4d\uba4d\n",
        "\uaf65\uaf65\n",
        "...\n"
       ]
      }
     ],
     "prompt_number": 57
    },
    {
     "cell_type": "markdown",
     "metadata": {},
     "source": [
      "***\n",
      "## 2 \ub0b4\uc7a5 \uc790\ub8cc\ud615\uacfc \ud074\ub798\uc2a4\uc758 \ud1b5\uc77c\n",
      "***\n",
      "- \ub0b4\uc7a5 \uc790\ub8cc\ud615(list, dict, tuple, string)\uc744 \uc0c1\uc18d\ud558\uc5ec \uc0ac\uc6a9\uc790 \ud074\ub798\uc2a4\ub97c \uc815\uc758\ud558\ub294 \uac83\n",
      "  - \ub0b4\uc7a5 \uc790\ub8cc\ud615\uacfc \uc0ac\uc6a9\uc790 \uc790\ub8cc\ud615\uc758 \ucc28\uc774\ub97c \uc5c6\uc5d0\uace0 \ud1b5\uc77c\ub41c \uad00\uc810\uc73c\ub85c \ubaa8\ub4e0 \uac1d\uccb4\ub97c \ub2e4\ub8f0 \uc218 \uc788\ub294 \ubc29\uc548\n",
      "- \ud074\ub798\uc2a4 \uc815\uc758\ub294 \uc0c8\ub85c\uc6b4 \uc790\ub8cc\ud615\uc758 \uc815\uc758\uc784"
     ]
    },
    {
     "cell_type": "markdown",
     "metadata": {},
     "source": [
      "### 2-1 \ub9ac\uc2a4\ud2b8 \uc11c\ube0c \ud074\ub798\uc2a4 \ub9cc\ub4e4\uae30"
     ]
    },
    {
     "cell_type": "code",
     "collapsed": false,
     "input": [
      "a = list()\n",
      "print a\n",
      "print dir(a)"
     ],
     "language": "python",
     "metadata": {},
     "outputs": [
      {
       "output_type": "stream",
       "stream": "stdout",
       "text": [
        "[]\n",
        "['__add__', '__class__', '__contains__', '__delattr__', '__delitem__', '__delslice__', '__doc__', '__eq__', '__format__', '__ge__', '__getattribute__', '__getitem__', '__getslice__', '__gt__', '__hash__', '__iadd__', '__imul__', '__init__', '__iter__', '__le__', '__len__', '__lt__', '__mul__', '__ne__', '__new__', '__reduce__', '__reduce_ex__', '__repr__', '__reversed__', '__rmul__', '__setattr__', '__setitem__', '__setslice__', '__sizeof__', '__str__', '__subclasshook__', 'append', 'count', 'extend', 'index', 'insert', 'pop', 'remove', 'reverse', 'sort']\n"
       ]
      }
     ],
     "prompt_number": 11
    },
    {
     "cell_type": "markdown",
     "metadata": {},
     "source": [
      "- \uc544\ub798 \uc608\uc81c\ub294 \ub0b4\uc7a5 \uc790\ub8cc\ud615\uc778 list\ub97c \uc0c1\uc18d\ud558\uc5ec \ube84\uc148 \uc5f0\uc0b0(-)\uc744 \ucd94\uac00\ud568"
     ]
    },
    {
     "cell_type": "code",
     "collapsed": false,
     "input": [
      "class MyList(list):\n",
      "    def __sub__(self, other):   # '-' \uc5f0\uc0b0\uc790 \uc911\ubcf5 \ud568\uc218 \uc815\uc758\n",
      "        for x in other:\n",
      "            if x in self:\n",
      "                self.remove(x)     # \uac01 \ud56d\ubaa9\uc744 \ud558\ub098\uc529 \uc0ad\uc81c\ud55c\ub2e4.\n",
      "        return self\n",
      "\n",
      "L = MyList([1, 2, 3, 'spam', 4, 5])\n",
      "print L\n",
      "print\n",
      "\n",
      "L = L - ['spam', 4]\n",
      "print L"
     ],
     "language": "python",
     "metadata": {},
     "outputs": [
      {
       "output_type": "stream",
       "stream": "stdout",
       "text": [
        "[1, 2, 3, 'spam', 4, 5]\n",
        "\n",
        "[1, 2, 3, 5]\n"
       ]
      }
     ],
     "prompt_number": 51
    },
    {
     "cell_type": "markdown",
     "metadata": {},
     "source": [
      "#### 1) Stack \ud074\ub798\uc2a4 \uc815\uc758 \uc608\n",
      "- \uc288\ud37c \ud074\ub798\uc2a4\ub85c list \ud074\ub798\uc2a4\ub97c \uc9c0\ub2cc\ub2e4.\n",
      "- \uc989, list \ud074\ub798\uc2a4\ub97c \ud655\uc7a5\ud558\uc5ec Stack \ud074\ub798\uc2a4\ub97c \uc815\uc758\ud568"
     ]
    },
    {
     "cell_type": "code",
     "collapsed": false,
     "input": [
      "class Stack(list):  # \ud074\ub798\uc2a4 \uc815\uc758\n",
      "    push = list.append\n",
      "    \n",
      "s = Stack()         # \uc778\uc2a4\ud134\uc2a4 \uc0dd\uc131\n",
      "\n",
      "s.push(4)\n",
      "s.push(5)\n",
      "print s\n",
      "print\n",
      "\n",
      "s = Stack([1,2,3])\n",
      "s.push(4)\n",
      "s.push(5)\n",
      "print s\n",
      "print\n",
      "\n",
      "print s.pop()       # \uc288\ud37c \ud074\ub798\uc2a4\uc778 \ub9ac\uc2a4\ud2b8 \ud074\ub798\uc2a4\uc758 pop() \uba54\uc18c\ub4dc \ud638\ucd9c\n",
      "print s.pop()\n",
      "print s"
     ],
     "language": "python",
     "metadata": {},
     "outputs": [
      {
       "output_type": "stream",
       "stream": "stdout",
       "text": [
        "[4, 5]\n",
        "\n",
        "[1, 2, 3, 4, 5]\n",
        "\n",
        "5\n",
        "4\n",
        "[1, 2, 3]\n"
       ]
      }
     ],
     "prompt_number": 12
    },
    {
     "cell_type": "markdown",
     "metadata": {},
     "source": [
      "#### 2) Queue \ud074\ub798\uc2a4 \uc815\uc758 \uc608\n",
      "- \uc288\ud37c \ud074\ub798\uc2a4\ub85c \uc5ed\uc2dc list\ub97c \uc9c0\ub2cc\ub2e4.\n",
      "- \uc989, list \ud074\ub798\uc2a4\ub97c \ud655\uc7a5\ud558\uc5ec Queue \ud074\ub798\uc2a4\ub97c \uc815\uc758\ud568 "
     ]
    },
    {
     "cell_type": "code",
     "collapsed": false,
     "input": [
      "class Queue(list):\n",
      "    enqueue = list.append\n",
      "    def dequeue(self):\n",
      "        return self.pop(0)\n",
      "    \n",
      "q = Queue()\n",
      "q.enqueue(1)      # \ub370\uc774\ud130 \ucd94\uac00\n",
      "q.enqueue(2)\n",
      "print q\n",
      "\n",
      "print q.dequeue() # \ub370\uc774\ud130 \uaebc\ub0b4\uae30\n",
      "print q.dequeue()"
     ],
     "language": "python",
     "metadata": {},
     "outputs": [
      {
       "output_type": "stream",
       "stream": "stdout",
       "text": [
        "[1, 2]\n",
        "1\n",
        "2\n"
       ]
      }
     ],
     "prompt_number": 13
    },
    {
     "cell_type": "markdown",
     "metadata": {},
     "source": [
      "### 2-2 \uc0ac\uc804 \uc11c\ube0c \ud074\ub798\uc2a4 \ub9cc\ub4e4\uae30"
     ]
    },
    {
     "cell_type": "code",
     "collapsed": false,
     "input": [
      "a = dict()\n",
      "print a\n",
      "print dir(a)"
     ],
     "language": "python",
     "metadata": {},
     "outputs": [
      {
       "output_type": "stream",
       "stream": "stdout",
       "text": [
        "{}\n",
        "['__class__', '__cmp__', '__contains__', '__delattr__', '__delitem__', '__doc__', '__eq__', '__format__', '__ge__', '__getattribute__', '__getitem__', '__gt__', '__hash__', '__init__', '__iter__', '__le__', '__len__', '__lt__', '__ne__', '__new__', '__reduce__', '__reduce_ex__', '__repr__', '__setattr__', '__setitem__', '__sizeof__', '__str__', '__subclasshook__', 'clear', 'copy', 'fromkeys', 'get', 'has_key', 'items', 'iteritems', 'iterkeys', 'itervalues', 'keys', 'pop', 'popitem', 'setdefault', 'update', 'values', 'viewitems', 'viewkeys', 'viewvalues']\n"
       ]
      }
     ],
     "prompt_number": 6
    },
    {
     "cell_type": "markdown",
     "metadata": {},
     "source": [
      "- \uc544\ub798 \uc608\uc81c\ub294 keys() \uba54\uc18c\ub4dc\ub97c \uc815\ub82c\ub41c \ud0a4\uac12 \ub9ac\uc2a4\ud2b8\ub97c \ubc18\ud658\ud558\ub3c4\ub85d \uc7ac\uc815\uc758\ud55c\ub2e4."
     ]
    },
    {
     "cell_type": "code",
     "collapsed": false,
     "input": [
      "class MyDict(dict):\n",
      "    def keys(self):\n",
      "        K = dict.keys(self) # \uc5b8\ubc14\uc6b4\ub4dc \uba54\uc18c\ub4dc \ud638\ucd9c --> K = self.keys() \ub77c\uace0 \ud638\ucd9c\ud558\uba74 \ubb34\ud55c \uc7ac\uadc0 \ud638\ucd9c\n",
      "        K.sort()\n",
      "        return K\n",
      "\n",
      "d = MyDict({'one':1, 'two':2, 'three':3})\n",
      "print d.keys()\n",
      "print\n",
      "\n",
      "d2 = {'one':1, 'two':2, 'three':3}\n",
      "print d2.keys()"
     ],
     "language": "python",
     "metadata": {},
     "outputs": [
      {
       "output_type": "stream",
       "stream": "stdout",
       "text": [
        "['one', 'three', 'two']\n",
        "\n",
        "['three', 'two', 'one']\n"
       ]
      }
     ],
     "prompt_number": 56
    },
    {
     "cell_type": "markdown",
     "metadata": {},
     "source": [
      "***\n",
      "## 3 \uc0c1\uc18d \uad00\uacc4\uc5d0 \uc788\ub294 \ud074\ub798\uc2a4\ub4e4\uc758 \uc815\ubcf4 \ud68d\ub4dd\n",
      "***"
     ]
    },
    {
     "cell_type": "markdown",
     "metadata": {},
     "source": [
      "### 3-1 \uac1d\uccb4\uac00 \uc5b4\ub5a4 \ud074\ub798\uc2a4\uc5d0 \uc18d\ud574 \uc788\ub294\uc9c0 \ud655\uc778\ud558\uae30"
     ]
    },
    {
     "cell_type": "markdown",
     "metadata": {},
     "source": [
      "- \uac1d\uccb4\uc758 \uc790\ub8cc\ud615 \ube44\uad50 \ubc29\ubc95 I (\uc804\ud1b5\uc801 \ubc29\ubc95)"
     ]
    },
    {
     "cell_type": "code",
     "collapsed": false,
     "input": [
      "import types\n",
      "\n",
      "print type(123) == types.IntType\n",
      "print type(123) == type(0)"
     ],
     "language": "python",
     "metadata": {},
     "outputs": [
      {
       "output_type": "stream",
       "stream": "stdout",
       "text": [
        "True\n",
        "True\n"
       ]
      }
     ],
     "prompt_number": 5
    },
    {
     "cell_type": "markdown",
     "metadata": {},
     "source": [
      "- \uac1d\uccb4\uc758 \uc790\ub8cc\ud615 \ube44\uad50 \ubc29\ubc95 II (\uc0c8\ub85c\uc6b4 \ubc29\ubc95)\n",
      "  - isinstance() \ub0b4\uc7a5 \ud568\uc218\uc640 \uae30\ubcf8 \uac1d\uccb4 \ud074\ub798\uc2a4 \uc0ac\uc6a9"
     ]
    },
    {
     "cell_type": "code",
     "collapsed": false,
     "input": [
      "print isinstance(123, int)\n",
      "print int"
     ],
     "language": "python",
     "metadata": {},
     "outputs": [
      {
       "output_type": "stream",
       "stream": "stdout",
       "text": [
        " True\n",
        "<type 'int'>\n"
       ]
      }
     ],
     "prompt_number": 10
    },
    {
     "cell_type": "markdown",
     "metadata": {},
     "source": [
      "- \uc11c\ube0c \ud074\ub798\uc2a4\uc758 \uc778\uc2a4\ud134\uc2a4\ub294 \uc288\ud37c \ud074\ub798\uc2a4\uc758 \uc778\uc2a4\ud134\uc2a4\uc774\uae30\ub3c4 \ud558\ub2e4."
     ]
    },
    {
     "cell_type": "code",
     "collapsed": false,
     "input": [
      "class A:\n",
      "    pass\n",
      "\n",
      "class B:\n",
      "    def f(self):\n",
      "        pass\n",
      "    \n",
      "class C(B):\n",
      "    pass\n",
      "\n",
      "def check(obj):\n",
      "    print obj, '=>',\n",
      "    if isinstance(obj, A):\n",
      "        print 'A',\n",
      "    if isinstance(obj, B):\n",
      "        print 'B',\n",
      "    if isinstance(obj, C):\n",
      "        print 'C',\n",
      "    print\n",
      "    \n",
      "a = A()\n",
      "b = B()\n",
      "c = C()\n",
      "\n",
      "check(a)\n",
      "check(b)\n",
      "check(c)"
     ],
     "language": "python",
     "metadata": {},
     "outputs": [
      {
       "output_type": "stream",
       "stream": "stdout",
       "text": [
        "<__main__.A instance at 0x10de34e60> => A\n",
        "<__main__.B instance at 0x10de34e18> => B\n",
        "<__main__.C instance at 0x10de34cf8> => B C\n"
       ]
      }
     ],
     "prompt_number": 18
    },
    {
     "cell_type": "markdown",
     "metadata": {},
     "source": [
      "### 3-2 \ud074\ub798\uc2a4 \uac04\uc758 \uc0c1\uc18d \uad00\uacc4 \uc54c\uc544\ub0b4\uae30\n",
      "- issubclass() \ub0b4\uc7a5 \ud568\uc218 \ud65c\uc6a9"
     ]
    },
    {
     "cell_type": "code",
     "collapsed": false,
     "input": [
      "class A:\n",
      "    pass\n",
      "\n",
      "class B:\n",
      "    def f(self):\n",
      "        pass\n",
      "    \n",
      "class C(B):\n",
      "    pass\n",
      "\n",
      "def check(obj):\n",
      "    print obj, '=>',\n",
      "    if issubclass(obj, A):\n",
      "        print 'A',\n",
      "    if issubclass(obj, B):\n",
      "        print 'B',\n",
      "    if issubclass(obj, C):\n",
      "        print 'C',\n",
      "    print\n",
      "    \n",
      "check(A)\n",
      "check(B)\n",
      "check(C)"
     ],
     "language": "python",
     "metadata": {},
     "outputs": [
      {
       "output_type": "stream",
       "stream": "stdout",
       "text": [
        "__main__.A => A\n",
        "__main__.B => B\n",
        "__main__.C => B C\n"
       ]
      }
     ],
     "prompt_number": 20
    },
    {
     "cell_type": "markdown",
     "metadata": {},
     "source": [
      "<p style='text-align: right;'>\ucc38\uace0 \ubb38\ud5cc: \ud30c\uc774\uc36c(\uc5f4\ud608\uac15\uc758)(\uac1c\uc815\ud310 VER.2), \uc774\uac15\uc131, FreeLec, 2005\ub144 8\uc6d4 29\uc77c</p>"
     ]
    }
   ],
   "metadata": {}
  }
 ]
}