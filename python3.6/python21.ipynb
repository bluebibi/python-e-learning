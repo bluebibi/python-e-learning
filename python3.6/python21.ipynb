{
 "cells": [
  {
   "cell_type": "markdown",
   "metadata": {},
   "source": [
    "***\n",
    "***\n",
    "# 21. 상속과 다형성\n",
    "***\n",
    "***"
   ]
  },
  {
   "cell_type": "markdown",
   "metadata": {},
   "source": [
    "***\n",
    "## 1 클래스 상속\n",
    "***"
   ]
  },
  {
   "cell_type": "markdown",
   "metadata": {},
   "source": [
    "### 1-1 클래스 상속과 이름 공간의 관계"
   ]
  },
  {
   "cell_type": "markdown",
   "metadata": {},
   "source": [
    "- 상속의 이유\n",
    "  - 코드의 재사용\n",
    "  - 상속받은 자식 클래스는 상속을 해준 부모 클래스의 모든 기능을 그대로 사용\n",
    "  - 자식 클래스는 필요한 기능만을 정의하거나 기존의 기능을 변경(재정의, Override)할 수 있음\n",
    "\n",
    "- 부모 클래스 메소드 호출 방법\n",
    "  - Unbound 메소드 호출\n",
    "    - 부모 클래스.메소드(self, ...)\n",
    "  - Bound 메소드 호출\n",
    "    - ```super()```\n",
    "    - ```super(Subclass, self)```\n",
    "    - ```super(Subclass, self)``` call is equivalent to the parameterless ```super()``` call.\n",
    "  - super()에 대한 자세한 설명\n",
    "    - https://realpython.com/python-super/"
   ]
  },
  {
   "cell_type": "code",
   "execution_count": 85,
   "metadata": {},
   "outputs": [],
   "source": [
    "class Person:\n",
    "    def __init__(self, name, phone=None):\n",
    "        self.name = name\n",
    "        self.phone = phone\n",
    "        \n",
    "    def __str__(self):\n",
    "        return '<Person {0} {1}>'.format(self.name, self.phone)"
   ]
  },
  {
   "cell_type": "code",
   "execution_count": 86,
   "metadata": {},
   "outputs": [],
   "source": [
    "class Employee(Person):                    # 괄호 안에 쓰여진 클래스는 슈퍼클래스를 의미한다.\n",
    "    def __init__(self, name, phone, position, salary):\n",
    "        #Person.__init__(self, name, phone) # Person클래스의 생성자 호출 --> Unbound Method Call\n",
    "        #super().__init__(name, phone)                 # --> Bound Method Call - 1\n",
    "        super(Employee, self).__init__(name, phone)   # --> Bound Method Call - 2\n",
    "        \n",
    "        self.position = position\n",
    "        self.salary = salary"
   ]
  },
  {
   "cell_type": "markdown",
   "metadata": {},
   "source": [
    "- 이름 공간의 포함관계\n",
    "  - 자식 클래스 > 부모 클래스"
   ]
  },
  {
   "cell_type": "markdown",
   "metadata": {},
   "source": [
    "![inheritance](../images/inheritance2.png)"
   ]
  },
  {
   "cell_type": "code",
   "execution_count": 7,
   "metadata": {},
   "outputs": [
    {
     "name": "stdout",
     "output_type": "stream",
     "text": [
      "홍길동\n",
      "<Person 홍길동 1498>\n",
      "\n",
      "손창희 대리\n",
      "<Person 손창희 5564>\n",
      "김기동 과장\n",
      "<Person 김기동 8546>\n"
     ]
    }
   ],
   "source": [
    "p1 = Person('홍길동', 1498)\n",
    "print(p1.name)\n",
    "print(p1)\n",
    "\n",
    "print()\n",
    "\n",
    "m1 = Employee('손창희', 5564, '대리', 200)\n",
    "m2 = Employee('김기동', 8546, '과장', 300)\n",
    "print(m1.name, m1.position)  # 슈퍼클래스와 서브클래스의 멤버를 하나씩 출력한다.\n",
    "print(m1)\n",
    "print(m2.name, m2.position)\n",
    "print(m2)"
   ]
  },
  {
   "cell_type": "code",
   "execution_count": 21,
   "metadata": {},
   "outputs": [
    {
     "name": "stdout",
     "output_type": "stream",
     "text": [
      "['name', 'phone']\n"
     ]
    }
   ],
   "source": [
    "l1 = [x for x in dir(p1) if not x.startswith(\"__\")]\n",
    "print(l1)"
   ]
  },
  {
   "cell_type": "code",
   "execution_count": 23,
   "metadata": {},
   "outputs": [
    {
     "name": "stdout",
     "output_type": "stream",
     "text": [
      "['name', 'phone', 'position', 'salary']\n"
     ]
    }
   ],
   "source": [
    "l2 = [x for x in dir(m1) if not x.startswith(\"__\")]\n",
    "print(l2)"
   ]
  },
  {
   "cell_type": "markdown",
   "metadata": {},
   "source": [
    "![inheritance](../images/inheritance3.png)"
   ]
  },
  {
   "cell_type": "markdown",
   "metadata": {},
   "source": [
    "### 1-2 생성자 호출\n",
    "- 서브 클래스의 생성자는 슈퍼 클래스의 생성자를 자동으로 호출하지 않는다."
   ]
  },
  {
   "cell_type": "code",
   "execution_count": 11,
   "metadata": {},
   "outputs": [
    {
     "name": "stdout",
     "output_type": "stream",
     "text": [
      "Sub init called\n"
     ]
    }
   ],
   "source": [
    "class Super:\n",
    "    def __init__(self):\n",
    "        print('Super init called')\n",
    "\n",
    "class Sub(Super):\n",
    "    def __init__(self):\n",
    "        print('Sub init called')\n",
    "    \n",
    "s = Sub()"
   ]
  },
  {
   "cell_type": "markdown",
   "metadata": {},
   "source": [
    "- 서브 클래스의 생성자에서 슈퍼 클래스의 생성자를 명시적으로 호출해야 한다."
   ]
  },
  {
   "cell_type": "code",
   "execution_count": 12,
   "metadata": {},
   "outputs": [
    {
     "name": "stdout",
     "output_type": "stream",
     "text": [
      "Super init called\n",
      "Sub init called\n"
     ]
    }
   ],
   "source": [
    "class Super:\n",
    "    def __init__(self):\n",
    "        print('Super init called')\n",
    "        \n",
    "class Sub(Super):\n",
    "    def __init__(self):\n",
    "        #Super.__init__(self)          # Unbound 방식으로 슈퍼클래스의 생성자를 호출한다.\n",
    "        #super().__init__()             # 또는 왼쪽처럼 Bound 메소드 호출 \n",
    "        super(Sub, self).__init__()    # 또는 왼쪽처럼 Bound 메소드 호출         \n",
    "        print('Sub init called')\n",
    "    \n",
    "s = Sub()"
   ]
  },
  {
   "cell_type": "markdown",
   "metadata": {},
   "source": [
    "- 서브 클래스에 생성자가 정의되어 있지 않은 경우에는 슈퍼 클래스의 생성자가 호출된다. "
   ]
  },
  {
   "cell_type": "code",
   "execution_count": 13,
   "metadata": {},
   "outputs": [
    {
     "name": "stdout",
     "output_type": "stream",
     "text": [
      "Super init called\n"
     ]
    }
   ],
   "source": [
    "class Super:\n",
    "    def __init__(self):\n",
    "        print('Super init called')\n",
    "        \n",
    "class Sub(Super):\n",
    "    pass\n",
    "\n",
    "s = Sub()"
   ]
  },
  {
   "cell_type": "markdown",
   "metadata": {},
   "source": [
    "### 1-3 메쏘드의 대치 (메소드 오버라이드 - Override)\n",
    "- 서브 클래스에서 슈퍼 클래스에 정의된 메소드를 재정의하여 대치하는 기능"
   ]
  },
  {
   "cell_type": "code",
   "execution_count": 16,
   "metadata": {},
   "outputs": [
    {
     "name": "stdout",
     "output_type": "stream",
     "text": [
      "<Person gslee 5284>\n",
      "<Person kslee 5224>\n"
     ]
    }
   ],
   "source": [
    "class Person:\n",
    "    def __init__(self, name, phone=None):\n",
    "        self.name = name\n",
    "        self.phone = phone\n",
    "        \n",
    "    def __str__(self):\n",
    "        return '<Person %s %s>' % (self.name, self.phone)\n",
    "    \n",
    "class Employee(Person):\n",
    "    def __init__(self, name, phone, position, salary):\n",
    "        #Person.__init__(self, name, phone)\n",
    "        super(Employee, self).__init__(name, phone)\n",
    "        self.position = position\n",
    "        self.salary = salary\n",
    "        \n",
    "p1 = Person('gslee', 5284)\n",
    "m1 = Employee('kslee', 5224, 'President', 500)\n",
    "\n",
    "print(p1)\n",
    "print(m1)"
   ]
  },
  {
   "cell_type": "code",
   "execution_count": 17,
   "metadata": {},
   "outputs": [
    {
     "name": "stdout",
     "output_type": "stream",
     "text": [
      "<Person gslee 5284>\n",
      "<Employee kslee 5224 President 500>\n"
     ]
    }
   ],
   "source": [
    "class Employee(Person):\n",
    "    def __init__(self, name, phone, position, salary):\n",
    "        #Person.__init__(self, name, phone)\n",
    "        super(Employee, self).__init__(name, phone)\n",
    "        self.position = position\n",
    "        self.salary = salary\n",
    "        \n",
    "    def __str__(self):\n",
    "        return '<Employee %s %s %s %s>' % (self.name, self.phone, self.position, self.salary)\n",
    "    \n",
    "p1 = Person('gslee', 5284)\n",
    "m1 = Employee('kslee', 5224, 'President', 500)\n",
    "\n",
    "print(p1)\n",
    "print(m1)"
   ]
  },
  {
   "cell_type": "code",
   "execution_count": 42,
   "metadata": {},
   "outputs": [
    {
     "name": "stdout",
     "output_type": "stream",
     "text": [
      "<Person gslee 5284>\n",
      "<Employee kslee 5224> - <President 500>\n"
     ]
    }
   ],
   "source": [
    "class Employee(Person):\n",
    "    def __init__(self, name, phone, position, salary):\n",
    "        #Person.__init__(self, name, phone)\n",
    "        super(Employee, self).__init__(name, phone)\n",
    "        self.position = position\n",
    "        self.salary = salary\n",
    "        \n",
    "    def __str__(self):\n",
    "        s = super().__str__()     # 부모 객체의 메소드 호출 (bound)\n",
    "        s = s.replace(\"Person\", \"Employee\")\n",
    "        return s + ' - <%s %s>' % (self.position, self.salary)\n",
    "    \n",
    "p1 = Person('gslee', 5284)\n",
    "m1 = Employee('kslee', 5224, 'President', 500)\n",
    "\n",
    "print(p1)\n",
    "print(m1)"
   ]
  },
  {
   "cell_type": "code",
   "execution_count": 49,
   "metadata": {},
   "outputs": [
    {
     "name": "stdout",
     "output_type": "stream",
     "text": [
      "<Person gslee 5284>\n",
      "<Employee kslee 5224> - <President 500>\n"
     ]
    }
   ],
   "source": [
    "class Employee(Person):\n",
    "    def __init__(self, name, phone, position, salary):\n",
    "        #Person.__init__(self, name, phone)\n",
    "        super(Employee, self).__init__(name, phone)\n",
    "        self.position = position\n",
    "        self.salary = salary\n",
    "        \n",
    "    def __str__(self):\n",
    "        s = Person.__str__(self)     # 부모 객체의 메소드 호출 (unbound)\n",
    "        s = s.replace(\"Person\", \"Employee\")\n",
    "        return s + ' - <%s %s>' % (self.position, self.salary)\n",
    "    \n",
    "p1 = Person('gslee', 5284)\n",
    "m1 = Employee('kslee', 5224, 'President', 500)\n",
    "\n",
    "print(p1)\n",
    "print(m1)"
   ]
  },
  {
   "cell_type": "markdown",
   "metadata": {},
   "source": [
    "### 1-4 다형성(Polymorphism)\n",
    "- 상속 관계 내의 다른 클래스들의 인스턴스들이 같은 멤버 함수 호출에 대해 각각 다르게 반응하도록 하는 기능\n",
    "  - 연산자 오버로딩도 다형성을 지원하는 중요한 기술 \n",
    "    - 예를 들어, a와 b의 객체 형에 따라 a + b의 + 연산자 행동 방식이 변경되는 것\n",
    "\n",
    "\n",
    "- 다형성의 장점\n",
    "  - 적은 코딩으로 다양한 객체들에게 유사한 작업을 수행시킬 수 있음\n",
    "  - 일관된 코딩 방식이 유지됨\n",
    "  - 프로그램 작성 코드 량이 줄어든다.\n",
    "  - 코드의 가독성을 높혀준다\n",
    " \n",
    "  \n",
    "- 파이썬에서 다형성의 장점\n",
    "  - 형 선언이 없다는 점에서 파이썬에서는 다형성을 적용하기가 더욱 용이하다.\n",
    "  - 실시간으로 객체의 형이 결정되므로 단 하나의 메소드에 의해 처리될 수 있는 객체의 종류에 제한이 없다.\n",
    "    - 즉, 다른 언어보다 코드의 양이 더욱 줄어든다."
   ]
  },
  {
   "cell_type": "code",
   "execution_count": 21,
   "metadata": {},
   "outputs": [
    {
     "name": "stdout",
     "output_type": "stream",
     "text": [
      "멍멍\n",
      "꽥꽥\n",
      "...\n"
     ]
    }
   ],
   "source": [
    "class Animal:\n",
    "    def cry(self):\n",
    "        print('...')\n",
    "        \n",
    "class Dog(Animal):\n",
    "    def cry(self):\n",
    "        print('멍멍')\n",
    "        \n",
    "class Duck(Animal):\n",
    "    def cry(self):\n",
    "        print('꽥꽥')\n",
    "        \n",
    "class Fish(Animal):\n",
    "    pass\n",
    "\n",
    "for each in (Dog(), Duck(), Fish()):\n",
    "    each.cry()"
   ]
  },
  {
   "cell_type": "markdown",
   "metadata": {},
   "source": [
    "***\n",
    "## 2 내장 자료형과 클래스의 통일\n",
    "***\n",
    "- 내장 자료형(list, dict, tuple, string)을 상속하여 사용자 클래스를 정의하는 것\n",
    "  - 내장 자료형과 사용자 자료형의 차이를 없에고 통일된 관점으로 모든 객체를 다룰 수 있는 방안\n",
    "- 클래스 정의는 새로운 자료형의 정의임"
   ]
  },
  {
   "cell_type": "markdown",
   "metadata": {},
   "source": [
    "### 2-1 리스트 서브 클래스 만들기"
   ]
  },
  {
   "cell_type": "code",
   "execution_count": 22,
   "metadata": {},
   "outputs": [
    {
     "name": "stdout",
     "output_type": "stream",
     "text": [
      "[]\n",
      "['__add__', '__class__', '__contains__', '__delattr__', '__delitem__', '__dir__', '__doc__', '__eq__', '__format__', '__ge__', '__getattribute__', '__getitem__', '__gt__', '__hash__', '__iadd__', '__imul__', '__init__', '__init_subclass__', '__iter__', '__le__', '__len__', '__lt__', '__mul__', '__ne__', '__new__', '__reduce__', '__reduce_ex__', '__repr__', '__reversed__', '__rmul__', '__setattr__', '__setitem__', '__sizeof__', '__str__', '__subclasshook__', 'append', 'clear', 'copy', 'count', 'extend', 'index', 'insert', 'pop', 'remove', 'reverse', 'sort']\n"
     ]
    }
   ],
   "source": [
    "a = list()\n",
    "print(a)\n",
    "print(dir(a))"
   ]
  },
  {
   "cell_type": "markdown",
   "metadata": {},
   "source": [
    "- 아래 예제는 내장 자료형인 list를 상속하여 뺄셈 연산(-)을 추가함"
   ]
  },
  {
   "cell_type": "code",
   "execution_count": 26,
   "metadata": {},
   "outputs": [
    {
     "name": "stdout",
     "output_type": "stream",
     "text": [
      "[1, 2, 3, 'spam', 4, 5]\n",
      "\n",
      "[1, 2, 3, 5]\n"
     ]
    }
   ],
   "source": [
    "class MyList(list):\n",
    "    def __sub__(self, other):   # '-' 연산자 중복 함수 정의\n",
    "        for x in other:\n",
    "            if x in self:\n",
    "                self.remove(x)     # 각 항목을 하나씩 삭제한다.\n",
    "        return self\n",
    "\n",
    "L = MyList([1, 2, 3, 'spam', 4, 5])\n",
    "print(L)\n",
    "print()\n",
    "\n",
    "L = L - ['spam', 4]\n",
    "print(L)"
   ]
  },
  {
   "cell_type": "markdown",
   "metadata": {},
   "source": [
    "#### 1) Stack 클래스 정의 예\n",
    "- 슈퍼 클래스로 list 클래스를 지정\n",
    "- 즉, list 클래스를 확장하여 Stack 클래스를 정의함"
   ]
  },
  {
   "cell_type": "code",
   "execution_count": 51,
   "metadata": {},
   "outputs": [
    {
     "name": "stdout",
     "output_type": "stream",
     "text": [
      "[4, 5]\n",
      "\n",
      "[1, 2, 3, 4, 5]\n",
      "\n",
      "5\n",
      "4\n",
      "[1, 2, 3]\n"
     ]
    }
   ],
   "source": [
    "class Stack(list):  # 클래스 정의\n",
    "    push = list.append\n",
    "\n",
    "s = Stack()         # 인스턴스 생성\n",
    "\n",
    "s.push(4)\n",
    "s.push(5)\n",
    "print(s)\n",
    "print()\n",
    "\n",
    "s = Stack([1,2,3])\n",
    "s.push(4)\n",
    "s.push(5)\n",
    "print(s)\n",
    "print()\n",
    "\n",
    "print(s.pop())       # 슈퍼 클래스인 리스트 클래스의 pop() 메소드 호출\n",
    "print(s.pop())\n",
    "print(s)"
   ]
  },
  {
   "cell_type": "code",
   "execution_count": 32,
   "metadata": {},
   "outputs": [
    {
     "name": "stdout",
     "output_type": "stream",
     "text": [
      "[4, 5]\n",
      "\n",
      "[1, 2, 3, 4, 5]\n",
      "\n",
      "5\n",
      "4\n",
      "[1, 2, 3]\n"
     ]
    }
   ],
   "source": [
    "class Stack(list):  # 클래스 정의\n",
    "    def push(self, other):\n",
    "        self.append(other)\n",
    "    \n",
    "s = Stack()         # 인스턴스 생성\n",
    "\n",
    "s.push(4)\n",
    "s.push(5)\n",
    "print(s)\n",
    "print()\n",
    "\n",
    "s = Stack([1,2,3])\n",
    "s.push(4)\n",
    "s.push(5)\n",
    "print(s)\n",
    "print()\n",
    "\n",
    "print(s.pop())       # 슈퍼 클래스인 리스트 클래스의 pop() 메소드 호출\n",
    "print(s.pop())\n",
    "print(s)"
   ]
  },
  {
   "cell_type": "markdown",
   "metadata": {},
   "source": [
    "#### 2) Queue 클래스 정의 예\n",
    "- 슈퍼 클래스로 역시 list를 지닌다.\n",
    "- 즉, list 클래스를 확장하여 Queue 클래스를 정의함 "
   ]
  },
  {
   "cell_type": "code",
   "execution_count": 39,
   "metadata": {},
   "outputs": [
    {
     "name": "stdout",
     "output_type": "stream",
     "text": [
      "[1, 2]\n",
      "<class 'type'>\n",
      "1\n",
      "<class 'type'>\n",
      "2\n"
     ]
    }
   ],
   "source": [
    "class Queue(list):\n",
    "    enqueue = list.append\n",
    "    \n",
    "    def dequeue(self):\n",
    "        return self.pop(0)\n",
    "    \n",
    "q = Queue()\n",
    "q.enqueue(1)      # 데이터 추가\n",
    "q.enqueue(2)\n",
    "print(q)\n",
    "\n",
    "print(q.dequeue()) # 데이터 꺼내기\n",
    "print(q.dequeue())"
   ]
  },
  {
   "cell_type": "markdown",
   "metadata": {},
   "source": [
    "### 2-2 사전 서브 클래스 만들기"
   ]
  },
  {
   "cell_type": "code",
   "execution_count": 26,
   "metadata": {},
   "outputs": [
    {
     "name": "stdout",
     "output_type": "stream",
     "text": [
      "{}\n",
      "['__class__', '__contains__', '__delattr__', '__delitem__', '__dir__', '__doc__', '__eq__', '__format__', '__ge__', '__getattribute__', '__getitem__', '__gt__', '__hash__', '__init__', '__init_subclass__', '__iter__', '__le__', '__len__', '__lt__', '__ne__', '__new__', '__reduce__', '__reduce_ex__', '__repr__', '__setattr__', '__setitem__', '__sizeof__', '__str__', '__subclasshook__', 'clear', 'copy', 'fromkeys', 'get', 'items', 'keys', 'pop', 'popitem', 'setdefault', 'update', 'values']\n"
     ]
    }
   ],
   "source": [
    "a = dict()\n",
    "print(a)\n",
    "print(dir(a))"
   ]
  },
  {
   "cell_type": "markdown",
   "metadata": {},
   "source": [
    "- 아래 예제는 keys() 메소드를 정렬된 키값 리스트를 반환하도록 재정의한다."
   ]
  },
  {
   "cell_type": "code",
   "execution_count": 53,
   "metadata": {},
   "outputs": [
    {
     "name": "stdout",
     "output_type": "stream",
     "text": [
      "dict_keys(['b', 'c', 'a'])\n",
      "['b', 'c', 'a']\n",
      "\n",
      "['a', 'b', 'c']\n"
     ]
    }
   ],
   "source": [
    "class MyDict(dict):\n",
    "    def keys(self):\n",
    "        K = list(dict.keys(self)) # 언바운드 메소드 호출 --> K = list(self.keys()) 라고 호출하면 무한 재귀 호출\n",
    "        K.sort()\n",
    "        return K\n",
    "\n",
    "d = {'b':1, 'c':2, 'a':3}\n",
    "print(d.keys())\n",
    "print(list(d.keys()))\n",
    "print()\n",
    "\n",
    "d2 = MyDict({'b':1, 'c':2, 'a':3})\n",
    "print(d2.keys())"
   ]
  },
  {
   "cell_type": "code",
   "execution_count": 54,
   "metadata": {},
   "outputs": [
    {
     "name": "stdout",
     "output_type": "stream",
     "text": [
      "dict_keys(['b', 'c', 'a'])\n",
      "['b', 'c', 'a']\n",
      "\n",
      "['a', 'b', 'c']\n"
     ]
    }
   ],
   "source": [
    "class MyDict(dict):\n",
    "    def keys(self):\n",
    "        K = list(super().keys()) # 바운드 메소드 호출\n",
    "        K.sort()\n",
    "        return K\n",
    "\n",
    "d = {'b':1, 'c':2, 'a':3}\n",
    "print(d.keys())\n",
    "print(list(d.keys()))\n",
    "print()\n",
    "\n",
    "d2 = MyDict({'b':1, 'c':2, 'a':3})\n",
    "print(d2.keys())"
   ]
  },
  {
   "cell_type": "markdown",
   "metadata": {},
   "source": [
    "***\n",
    "## 3 상속 관계에 있는 클래스들의 정보 획득\n",
    "***"
   ]
  },
  {
   "cell_type": "markdown",
   "metadata": {},
   "source": [
    "### 3-1 객체가 어떤 클래스에 속해 있는지 확인하기"
   ]
  },
  {
   "cell_type": "code",
   "execution_count": 31,
   "metadata": {},
   "outputs": [
    {
     "name": "stdout",
     "output_type": "stream",
     "text": [
      "<class 'int'>\n"
     ]
    }
   ],
   "source": [
    "print(int)"
   ]
  },
  {
   "cell_type": "markdown",
   "metadata": {},
   "source": [
    "- 객체의 자료형 비교 방법 I (전통적 방법)"
   ]
  },
  {
   "cell_type": "code",
   "execution_count": 29,
   "metadata": {},
   "outputs": [
    {
     "name": "stdout",
     "output_type": "stream",
     "text": [
      "True\n",
      "True\n",
      "True\n"
     ]
    }
   ],
   "source": [
    "print(type(123) == int)\n",
    "print(type(123) == type(0))\n",
    "a = 12345678\n",
    "print(type(a) == type(0))"
   ]
  },
  {
   "cell_type": "markdown",
   "metadata": {},
   "source": [
    "- 객체의 자료형 비교 방법 II (새로운 방법)\n",
    "  - isinstance() 내장 함수와 기본 객체 클래스 사용"
   ]
  },
  {
   "cell_type": "code",
   "execution_count": 30,
   "metadata": {},
   "outputs": [
    {
     "name": "stdout",
     "output_type": "stream",
     "text": [
      "True\n"
     ]
    }
   ],
   "source": [
    "print(isinstance(123, int))"
   ]
  },
  {
   "cell_type": "markdown",
   "metadata": {},
   "source": [
    "- 서브 클래스의 인스턴스는 슈퍼 클래스의 인스턴스이기도 하다."
   ]
  },
  {
   "cell_type": "code",
   "execution_count": 33,
   "metadata": {},
   "outputs": [
    {
     "name": "stdout",
     "output_type": "stream",
     "text": [
      "<__main__.A object at 0x10c2f9c50> => A\n",
      "<__main__.B object at 0x10c2dae48> => B\n",
      "<__main__.C object at 0x10c2f9ac8> => BC\n"
     ]
    }
   ],
   "source": [
    "class A:\n",
    "    pass\n",
    "\n",
    "class B:\n",
    "    def f(self):\n",
    "        pass\n",
    "    \n",
    "class C(B):\n",
    "    pass\n",
    "\n",
    "def check(obj):\n",
    "    print(obj, '=>', end=\" \")\n",
    "    if isinstance(obj, A):\n",
    "        print('A', end=\"\")\n",
    "    if isinstance(obj, B):\n",
    "        print('B', end=\"\")\n",
    "    if isinstance(obj, C):\n",
    "        print('C', end=\"\")\n",
    "    print()\n",
    "    \n",
    "a = A()\n",
    "b = B()\n",
    "c = C()\n",
    "\n",
    "check(a)\n",
    "check(b)\n",
    "check(c)"
   ]
  },
  {
   "cell_type": "markdown",
   "metadata": {},
   "source": [
    "### 3-2 클래스 간의 상속 관계 알아내기\n",
    "- issubclass() 내장 함수 활용"
   ]
  },
  {
   "cell_type": "code",
   "execution_count": 34,
   "metadata": {},
   "outputs": [
    {
     "name": "stdout",
     "output_type": "stream",
     "text": [
      "<class '__main__.A'> => A\n",
      "<class '__main__.B'> => B\n",
      "<class '__main__.C'> => BC\n"
     ]
    }
   ],
   "source": [
    "class A:\n",
    "    pass\n",
    "\n",
    "class B:\n",
    "    def f(self):\n",
    "        pass\n",
    "    \n",
    "class C(B):\n",
    "    pass\n",
    "\n",
    "def check(obj):\n",
    "    print(obj, '=>', end=\" \")\n",
    "    if issubclass(obj, A):\n",
    "        print('A', end=\"\")\n",
    "    if issubclass(obj, B):\n",
    "        print('B', end=\"\")\n",
    "    if issubclass(obj, C):\n",
    "        print('C', end=\"\")\n",
    "    print()\n",
    "    \n",
    "check(A)\n",
    "check(B)\n",
    "check(C)"
   ]
  },
  {
   "cell_type": "markdown",
   "metadata": {},
   "source": [
    "***\n",
    "## 4 다중 상속\n",
    "***"
   ]
  },
  {
   "cell_type": "markdown",
   "metadata": {},
   "source": [
    "![inheritance](../images/MRO.jpg)"
   ]
  },
  {
   "cell_type": "code",
   "execution_count": 57,
   "metadata": {},
   "outputs": [],
   "source": [
    "class X: pass\n",
    "class Y: pass\n",
    "class Z: pass\n",
    "\n",
    "class A(X, Y): pass\n",
    "class B(Y, Z): pass\n",
    "\n",
    "class M(B, A, Z): pass"
   ]
  },
  {
   "cell_type": "code",
   "execution_count": 72,
   "metadata": {},
   "outputs": [
    {
     "name": "stdout",
     "output_type": "stream",
     "text": [
      "True\n",
      "True\n",
      "\n",
      "False\n",
      "False\n",
      "\n",
      "[<class '__main__.B'>, <class '__main__.Y'>, <class '__main__.Z'>, <class 'object'>]\n"
     ]
    }
   ],
   "source": [
    "x = X()\n",
    "y = Y()\n",
    "z = Z()\n",
    "\n",
    "a = A()\n",
    "b = B()\n",
    "\n",
    "m = M()\n",
    "\n",
    "print(issubclass(A, X))\n",
    "print(isinstance(a, X))\n",
    "\n",
    "print()\n",
    "\n",
    "print(issubclass(B, X))\n",
    "print(isinstance(b, X))\n",
    "\n",
    "print()\n",
    "\n",
    "print(B.mro())"
   ]
  },
  {
   "cell_type": "code",
   "execution_count": 73,
   "metadata": {},
   "outputs": [
    {
     "name": "stdout",
     "output_type": "stream",
     "text": [
      "True\n",
      "True\n",
      "\n",
      "True\n",
      "True\n",
      "\n",
      "True\n",
      "True\n"
     ]
    }
   ],
   "source": [
    "print(issubclass(M, Z))\n",
    "print(isinstance(m, Z))\n",
    "\n",
    "print()\n",
    "\n",
    "print(issubclass(M, X))\n",
    "print(isinstance(m, X))\n",
    "\n",
    "print()\n",
    "\n",
    "print(issubclass(M, Y))\n",
    "print(isinstance(m, Y))"
   ]
  },
  {
   "cell_type": "code",
   "execution_count": 74,
   "metadata": {},
   "outputs": [
    {
     "name": "stdout",
     "output_type": "stream",
     "text": [
      "[<class '__main__.M'>, <class '__main__.B'>, <class '__main__.A'>, <class '__main__.X'>, <class '__main__.Y'>, <class '__main__.Z'>, <class 'object'>]\n"
     ]
    }
   ],
   "source": [
    "print(M.mro()) # method resolution order"
   ]
  },
  {
   "cell_type": "markdown",
   "metadata": {},
   "source": [
    "- 다중 상속 예제"
   ]
  },
  {
   "cell_type": "code",
   "execution_count": 84,
   "metadata": {},
   "outputs": [
    {
     "name": "stdout",
     "output_type": "stream",
     "text": [
      "Alice\n",
      "10\n",
      "3\n"
     ]
    }
   ],
   "source": [
    "class Human:\n",
    "    def __init__(self, name):\n",
    "        self.name = name\n",
    "\n",
    "class Coder:\n",
    "    def __init__(self, skills):\n",
    "        self.skills = skills\n",
    "\n",
    "class Pythonista(Human, Coder):\n",
    "    def __init__(self, name, skills, dream):\n",
    "        Human.__init__(self, name)\n",
    "        Coder.__init__(self, skills)\n",
    "        self.dream = dream\n",
    "\n",
    "obj = Pythonista(\"Alice\", 3, 10)\n",
    "\n",
    "print(obj.name)\n",
    "print(obj.skills)\n",
    "print(obj.dream)"
   ]
  },
  {
   "cell_type": "markdown",
   "metadata": {},
   "source": [
    "- 다중 상속 문제 해결 "
   ]
  },
  {
   "cell_type": "code",
   "execution_count": 87,
   "metadata": {},
   "outputs": [
    {
     "name": "stdout",
     "output_type": "stream",
     "text": [
      "Class D __init__()\n",
      "Class B __init__()\n",
      "Class A __init__()\n",
      "Class C __init__()\n",
      "Class A __init__()\n"
     ]
    }
   ],
   "source": [
    "class A:\n",
    "    def __init__(self):\n",
    "        print(\"Class A __init__()\")\n",
    "\n",
    "class B(A):\n",
    "    def __init__(self):\n",
    "        print(\"Class B __init__()\")\n",
    "        A.__init__(self)\n",
    "\n",
    "class C(A):\n",
    "    def __init__(self):\n",
    "        print(\"Class C __init__()\")\n",
    "        A.__init__(self)\n",
    "\n",
    "class D(B, C):\n",
    "    def __init__(self):\n",
    "        print(\"Class D __init__()\")\n",
    "        B.__init__(self)\n",
    "        C.__init__(self)\n",
    "\n",
    "d = D()"
   ]
  },
  {
   "cell_type": "code",
   "execution_count": 90,
   "metadata": {},
   "outputs": [
    {
     "name": "stdout",
     "output_type": "stream",
     "text": [
      "Class D __init__()\n",
      "Class B __init__()\n",
      "Class C __init__()\n",
      "Class A __init__()\n",
      "[<class '__main__.D'>, <class '__main__.B'>, <class '__main__.C'>, <class '__main__.A'>, <class 'object'>]\n"
     ]
    }
   ],
   "source": [
    "class A:\n",
    "    def __init__(self):\n",
    "        print(\"Class A __init__()\")\n",
    "\n",
    "class B(A):\n",
    "    def __init__(self):\n",
    "        print(\"Class B __init__()\")\n",
    "        super().__init__()\n",
    "\n",
    "class C(A):\n",
    "    def __init__(self):\n",
    "        print(\"Class C __init__()\")\n",
    "        super().__init__()\n",
    "\n",
    "class D(B, C):\n",
    "    def __init__(self):\n",
    "        print(\"Class D __init__()\")\n",
    "        super().__init__()\n",
    "\n",
    "d = D()\n",
    "print(D.mro())"
   ]
  },
  {
   "cell_type": "code",
   "execution_count": 91,
   "metadata": {},
   "outputs": [
    {
     "name": "stdout",
     "output_type": "stream",
     "text": [
      "Class D __init__()\n",
      "Class B __init__()\n",
      "Class C __init__()\n",
      "Class A __init__()\n",
      "[<class '__main__.D'>, <class '__main__.B'>, <class '__main__.C'>, <class '__main__.A'>, <class 'object'>]\n"
     ]
    }
   ],
   "source": [
    "class A:\n",
    "    def __init__(self):\n",
    "        print(\"Class A __init__()\")\n",
    "\n",
    "class B(A):\n",
    "    def __init__(self):\n",
    "        print(\"Class B __init__()\")\n",
    "        super(B, self).__init__()\n",
    "\n",
    "class C(A):\n",
    "    def __init__(self):\n",
    "        print(\"Class C __init__()\")\n",
    "        super(C, self).__init__()\n",
    "\n",
    "class D(B, C):\n",
    "    def __init__(self):\n",
    "        print(\"Class D __init__()\")\n",
    "        super(D, self).__init__()\n",
    "\n",
    "d = D()\n",
    "print(D.mro())"
   ]
  },
  {
   "cell_type": "markdown",
   "metadata": {},
   "source": [
    "<p style='text-align: right;'>참고 문헌: 파이썬(열혈강의)(개정판 VER.2), 이강성, FreeLec, 2005년 8월 29일</p>"
   ]
  }
 ],
 "metadata": {
  "anaconda-cloud": {},
  "kernelspec": {
   "display_name": "Python 3",
   "language": "python",
   "name": "python3"
  },
  "language_info": {
   "codemirror_mode": {
    "name": "ipython",
    "version": 3
   },
   "file_extension": ".py",
   "mimetype": "text/x-python",
   "name": "python",
   "nbconvert_exporter": "python",
   "pygments_lexer": "ipython3",
   "version": "3.6.8"
  }
 },
 "nbformat": 4,
 "nbformat_minor": 1
}
