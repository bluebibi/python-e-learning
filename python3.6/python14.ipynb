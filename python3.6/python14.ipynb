{
 "cells": [
  {
   "cell_type": "markdown",
   "metadata": {},
   "source": [
    "***\n",
    "***\n",
    "# 14. 파일과 디렉토리 다루기\n",
    "***\n",
    "***"
   ]
  },
  {
   "cell_type": "markdown",
   "metadata": {},
   "source": [
    "***\n",
    "## 1 파일 다루기\n",
    "***"
   ]
  },
  {
   "cell_type": "markdown",
   "metadata": {},
   "source": [
    "### 1-1 파일 목록 얻기\n",
    "- os.listdir('경로')\n",
    "  - 디렉토리 안에 들어 있는 각 파일 목록 반환"
   ]
  },
  {
   "cell_type": "code",
   "execution_count": 1,
   "metadata": {},
   "outputs": [
    {
     "name": "stdout",
     "output_type": "stream",
     "text": [
      "['assignment2019', 'python10.ipynb', 'python09.ipynb', 'mymath.py', 'assignment-5.ipynb', 'python12.ipynb', 'removeme.txt', 'python16.ipynb', 'supplement-2016-09.ipynb', 'assignment-1.ipynb', 'assignment-3.ipynb', 'python14.ipynb', 'Untitled.ipynb', 'assignment-4.ipynb', 't1.txt', 'python13.ipynb', 'python11.ipynb', 'python08.ipynb', 'pickle.txt', 'assignment-2.ipynb', 'python15.ipynb', '__pycache__', 'python17.ipynb', 'Speech', 'python02.ipynb', 't.txt', 'python19.ipynb', 'module_test.py', 'python04.ipynb', 'python20.ipynb', 'prname.ipynb', 'pickle2.txt', 'python22.ipynb', 'python06.ipynb', 'readme.txt', '.ipynb_checkpoints', 'python18.ipynb', 'python01.ipynb', 'python03.ipynb', 'python23.ipynb', 'output.txt', 'python07.ipynb', 'python05.ipynb', 'prname.py', 'python21.ipynb']\n",
      "\n",
      "['python10.ipynb', 'music', 'python09.ipynb', 'mymath.py', 'assignment-5.ipynb', 'python12.ipynb', 'Untitled1.ipynb', 'python16.ipynb', 'supplement-2016-09.ipynb', 'assignment-1.ipynb', 'assignment-3.ipynb', 'Untitled3.ipynb', 'python14.ipynb', 'images', 'assignment-4.ipynb', 'python13.ipynb', 'python11.ipynb', 'python08.ipynb', 'The Python Challenge.webloc', 'assignment-2.ipynb', 'turtle_method-3.png', 'turtle_method-2.png', 'python15.ipynb', 'Untitled2.ipynb', 'python3.6', 'python17.ipynb', 'turtle_method-1.png', 'Speech', 'aaa', 'python02.ipynb', 'README.md', 'python19.ipynb', '.gitignore', 'module_test.py', 'python04.ipynb', 'python20.ipynb', 'python22.ipynb', 'files', 'python06.ipynb', 'supplement.ipynb', '.ipynb_checkpoints', 'python18.ipynb', 'python01.ipynb', 'python03.ipynb', '.git', 'python23.ipynb', '과제3-모범답안.ipynb', 'python07.ipynb', 'python05.ipynb', 'turtle_example.png', '범이의 데이터 아키텍처 -- [Python] [개념을 잡아주는 프로그래밍 정석] 4.8 연습문제.webloc', 'mymath.ipynb', 'python21.ipynb']\n"
     ]
    }
   ],
   "source": [
    "import os\n",
    "\n",
    "print(os.listdir('.'))   # 현재 디렉토리의 파일 목록 얻기\n",
    "print()\n",
    "\n",
    "print(os.listdir('../')) # 현재 디렉토리의 부모 디렉토리의 파일 목록 얻기"
   ]
  },
  {
   "cell_type": "markdown",
   "metadata": {},
   "source": [
    "### 1-2 파일 종류 알아보기\n",
    "- os.path 모듈의 다음 함수들은 파일의 종류를 판단하여 True 또는 False를 반환한다.\n",
    "  - isfile(filepath)\n",
    "    - 순수 파일이면 True\n",
    "  - isdir(filepath)\n",
    "    - 디렉토리이면 True\n",
    "  - islink(filepath)\n",
    "    - 심볼릭링크이면 True"
   ]
  },
  {
   "cell_type": "code",
   "execution_count": 15,
   "metadata": {},
   "outputs": [
    {
     "name": "stdout",
     "output_type": "stream",
     "text": [
      "assignment2019 :Directory\n",
      "python10.ipynb :Regular file\n",
      "python09.ipynb :Regular file\n",
      "mymath.py :Regular file\n",
      "assignment-5.ipynb :Regular file\n",
      "python12.ipynb :Regular file\n",
      "removeme.txt :Regular file\n",
      "python16.ipynb :Regular file\n",
      "supplement-2016-09.ipynb :Regular file\n",
      "assignment-1.ipynb :Regular file\n",
      "assignment-3.ipynb :Regular file\n",
      "python14.ipynb :Regular file\n",
      "Untitled.ipynb :Regular file\n",
      "assignment-4.ipynb :Regular file\n",
      "t1.txt :Regular file\n",
      "python13.ipynb :Regular file\n",
      "python11.ipynb :Regular file\n",
      "python08.ipynb :Regular file\n",
      "pickle.txt :Regular file\n",
      "assignment-2.ipynb :Regular file\n",
      "python15.ipynb :Regular file\n",
      "__pycache__ :Directory\n",
      "python17.ipynb :Regular file\n",
      "Speech :Directory\n",
      "python02.ipynb :Regular file\n",
      "t.txt :Regular file\n",
      "python19.ipynb :Regular file\n",
      "module_test.py :Regular file\n",
      "python04.ipynb :Regular file\n",
      "python20.ipynb :Regular file\n",
      "prname.ipynb :Regular file\n",
      "pickle2.txt :Regular file\n",
      "python22.ipynb :Regular file\n",
      "python06.ipynb :Regular file\n",
      "readme.txt :Regular file\n",
      ".ipynb_checkpoints :Directory\n",
      "python18.ipynb :Regular file\n",
      "python01.ipynb :Regular file\n",
      "python03.ipynb :Regular file\n",
      "python23.ipynb :Regular file\n",
      "output.txt :Regular file\n",
      "python07.ipynb :Regular file\n",
      "python05.ipynb :Regular file\n",
      "prname.py :Regular file\n",
      "python21.ipynb :Regular file\n"
     ]
    }
   ],
   "source": [
    "import os\n",
    "def filetype(fpath):\n",
    "    print(fpath, ':', end=\"\")\n",
    "    \n",
    "    if os.path.isfile(fpath):\n",
    "        print('Regular file')\n",
    "        \n",
    "    if os.path.isdir(fpath):\n",
    "        print('Directory')\n",
    "\n",
    "    if os.path.islink(fpath):\n",
    "        print('Symbolic link')\n",
    "        \n",
    "flist = os.listdir('.')\n",
    "for fname in flist:\n",
    "    filetype(fname)"
   ]
  },
  {
   "cell_type": "markdown",
   "metadata": {},
   "source": [
    "### 1-3 파일의 허가권\n",
    "#### 1) 파일의 허가권 알아보기\n",
    "- os.access(filepath, mode)\n",
    "  - mode에 들어갈 값\n",
    "    - os.F_OK: 파일 자체가 존재하는 것을 테스트\n",
    "    - os.R_OK: 읽기 권한이 있는 것을 테스트\n",
    "    - os.W_OK: 쓰기 권한이 있는 것을 테스트\n",
    "    - os.X_OK: 실행 권한이 있는 것(또는 디렉토리인지)을 테스트"
   ]
  },
  {
   "cell_type": "code",
   "execution_count": 16,
   "metadata": {},
   "outputs": [
    {
     "name": "stdout",
     "output_type": "stream",
     "text": [
      "assignment2019 :Exists - RWX\n",
      "python10.ipynb :Exists - RW\n",
      "python09.ipynb :Exists - RW\n",
      "mymath.py :Exists - RW\n",
      "assignment-5.ipynb :Exists - RW\n",
      "python12.ipynb :Exists - RW\n",
      "removeme.txt :Exists - RW\n",
      "python16.ipynb :Exists - RW\n",
      "supplement-2016-09.ipynb :Exists - RW\n",
      "assignment-1.ipynb :Exists - RW\n",
      "assignment-3.ipynb :Exists - RW\n",
      "python14.ipynb :Exists - RW\n",
      "Untitled.ipynb :Exists - RW\n",
      "assignment-4.ipynb :Exists - RW\n",
      "t1.txt :Exists - RW\n",
      "python13.ipynb :Exists - RW\n",
      "python11.ipynb :Exists - RW\n",
      "python08.ipynb :Exists - RW\n",
      "pickle.txt :Exists - RW\n",
      "assignment-2.ipynb :Exists - RW\n",
      "python15.ipynb :Exists - RW\n",
      "__pycache__ :Exists - RWX\n",
      "python17.ipynb :Exists - RW\n",
      "Speech :Exists - RWX\n",
      "python02.ipynb :Exists - RW\n",
      "t.txt :Exists - RW\n",
      "python19.ipynb :Exists - RW\n",
      "module_test.py :Exists - RW\n",
      "python04.ipynb :Exists - RW\n",
      "python20.ipynb :Exists - RW\n",
      "prname.ipynb :Exists - RW\n",
      "pickle2.txt :Exists - RW\n",
      "python22.ipynb :Exists - RW\n",
      "python06.ipynb :Exists - RW\n",
      "readme.txt :Exists - RW\n",
      ".ipynb_checkpoints :Exists - RWX\n",
      "python18.ipynb :Exists - RW\n",
      "python01.ipynb :Exists - RW\n",
      "python03.ipynb :Exists - RW\n",
      "python23.ipynb :Exists - RW\n",
      "output.txt :Exists - RW\n",
      "python07.ipynb :Exists - RW\n",
      "python05.ipynb :Exists - RW\n",
      "prname.py :Exists - RW\n",
      "python21.ipynb :Exists - RW\n"
     ]
    }
   ],
   "source": [
    "import os\n",
    "def fileaccess(fpath):\n",
    "    print(fpath, ':', end=\"\")\n",
    "    \n",
    "    if os.access(fpath, os.F_OK): \n",
    "        print('Exists - ', end=\"\")\n",
    "    else: \n",
    "        return\n",
    "    \n",
    "    if os.access(fpath, os.R_OK): \n",
    "        print('R', end=\"\")\n",
    "        \n",
    "    if os.access(fpath, os.W_OK): \n",
    "        print('W', end=\"\")\n",
    "        \n",
    "    if os.access(fpath, os.X_OK): \n",
    "        print('X', end=\"\")\n",
    "    print()\n",
    "    \n",
    "flist = os.listdir('.')\n",
    "for fname in flist:\n",
    "    fileaccess(fname)"
   ]
  },
  {
   "cell_type": "markdown",
   "metadata": {},
   "source": [
    "#### 2) 파일의 허가권 변경하기\n",
    "- os.chmod(filepath, mode)"
   ]
  },
  {
   "cell_type": "code",
   "execution_count": 26,
   "metadata": {},
   "outputs": [
    {
     "name": "stdout",
     "output_type": "stream",
     "text": [
      "-rwxrwxrwx  1 yhhan  staff  17 10 27 22:40 \u001b[31moutput.txt\u001b[m\u001b[m*\r\n"
     ]
    }
   ],
   "source": [
    "os.chmod('output.txt', 0o777) # 리눅스에서의 실행 예\n",
    "\n",
    "%ls -al output.txt"
   ]
  },
  {
   "cell_type": "markdown",
   "metadata": {},
   "source": [
    "### 1-4 파일 조작하기\n",
    "#### 1) 파일 이름 변경하기\n",
    "- os.rename(old_filepath, new_filepath)"
   ]
  },
  {
   "cell_type": "code",
   "execution_count": 51,
   "metadata": {},
   "outputs": [],
   "source": [
    "s = \"\"\"Its power: Python developers typically report \n",
    "they are able to develop applications in a half\n",
    "to a tenth the amount of time it takes them to do\n",
    "the same work in such languages as C.\"\"\"\n",
    "\n",
    "with open('t.txt', 'w') as f:\n",
    "    f.write(s) # 문자열을 파일에 기록"
   ]
  },
  {
   "cell_type": "code",
   "execution_count": 52,
   "metadata": {},
   "outputs": [
    {
     "name": "stdout",
     "output_type": "stream",
     "text": [
      "False\n",
      "True\n"
     ]
    }
   ],
   "source": [
    "import os\n",
    "os.rename('t.txt', 't1.txt')  # t.txt를 t1.txt로 바꾼다\n",
    "print(os.access('t.txt', os.F_OK))\n",
    "print(os.access('t1.txt', os.F_OK))"
   ]
  },
  {
   "cell_type": "markdown",
   "metadata": {},
   "source": [
    "#### 2) 파일 이동하기\n",
    "- os.rename(old_filepath, new_filepath)"
   ]
  },
  {
   "cell_type": "code",
   "execution_count": 53,
   "metadata": {},
   "outputs": [],
   "source": [
    "os.mkdir('example') "
   ]
  },
  {
   "cell_type": "code",
   "execution_count": 54,
   "metadata": {},
   "outputs": [
    {
     "name": "stdout",
     "output_type": "stream",
     "text": [
      "True\n"
     ]
    }
   ],
   "source": [
    "os.rename('t1.txt', './example/t1.txt') # 현재 작업 디렉토리의 t1.txt를 example에 t1.txt이름으로 옮긴다.\n",
    "print(os.access('./example/t1.txt', os.F_OK))"
   ]
  },
  {
   "cell_type": "markdown",
   "metadata": {},
   "source": [
    "#### 3) 파일 복사하기\n",
    "- shutil 모듈 활용\n",
    "- shutil.copyfile(src_filepath, dest_filepath)"
   ]
  },
  {
   "cell_type": "code",
   "execution_count": 55,
   "metadata": {},
   "outputs": [
    {
     "name": "stdout",
     "output_type": "stream",
     "text": [
      "True\n"
     ]
    }
   ],
   "source": [
    "import shutil\n",
    "shutil.copyfile('output.txt', 'output_new.txt')\n",
    "print(os.access('output_new.txt', os.F_OK))"
   ]
  },
  {
   "cell_type": "markdown",
   "metadata": {},
   "source": [
    "### 1-5 파일 이름 다루기"
   ]
  },
  {
   "cell_type": "markdown",
   "metadata": {},
   "source": [
    "#### 1) 상대 경로를 절대 경로로 변환하기 [중요]\n",
    "- os.path.abspath(상대경로)\n",
    "  - 실제 파일 존재와는 무관하게 절대경로로 변경함"
   ]
  },
  {
   "cell_type": "code",
   "execution_count": 66,
   "metadata": {},
   "outputs": [
    {
     "name": "stdout",
     "output_type": "stream",
     "text": [
      "/Users/yhhan/git/python-e-learning/python3.6/o.txt\n"
     ]
    }
   ],
   "source": [
    "import os\n",
    "print(os.path.abspath('o.txt'))"
   ]
  },
  {
   "cell_type": "markdown",
   "metadata": {},
   "source": [
    "#### 2) 주어진 경로의 파일이 존재하는지 확인 [중요]\n",
    "- os.path.exists(filepath)"
   ]
  },
  {
   "cell_type": "code",
   "execution_count": 67,
   "metadata": {},
   "outputs": [
    {
     "name": "stdout",
     "output_type": "stream",
     "text": [
      "False\n",
      "False\n",
      "False\n"
     ]
    }
   ],
   "source": [
    "f = '/Users/yhhan/git/python-e-learning/sample.txt'\n",
    "print(os.path.exists(f))\n",
    "print(os.path.exists('sample.txt'))\n",
    "print(os.path.exists('asdf.txt'))"
   ]
  },
  {
   "cell_type": "markdown",
   "metadata": {},
   "source": [
    "#### 3) 현재/부모 디렉토리를 가리키는 이름 얻기"
   ]
  },
  {
   "cell_type": "code",
   "execution_count": 68,
   "metadata": {},
   "outputs": [
    {
     "name": "stdout",
     "output_type": "stream",
     "text": [
      ".\n",
      "..\n"
     ]
    }
   ],
   "source": [
    "print(os.curdir) #현재 디렉토리\n",
    "print(os.pardir) #부모 디렉토리"
   ]
  },
  {
   "cell_type": "markdown",
   "metadata": {},
   "source": [
    "#### 4) 디렉토리 분리 문자 얻기"
   ]
  },
  {
   "cell_type": "code",
   "execution_count": 69,
   "metadata": {},
   "outputs": [
    {
     "name": "stdout",
     "output_type": "stream",
     "text": [
      "/\n"
     ]
    }
   ],
   "source": [
    "print(os.sep)"
   ]
  },
  {
   "cell_type": "markdown",
   "metadata": {},
   "source": [
    "### 1-6 경로명 분리하기"
   ]
  },
  {
   "cell_type": "markdown",
   "metadata": {},
   "source": [
    "#### 1) 경로와 파일명으로 분리"
   ]
  },
  {
   "cell_type": "code",
   "execution_count": 70,
   "metadata": {},
   "outputs": [
    {
     "name": "stdout",
     "output_type": "stream",
     "text": [
      "t.txt\n",
      "/Users/yhhan/git/python-e-learning\n"
     ]
    }
   ],
   "source": [
    "f = '/Users/yhhan/git/python-e-learning/t.txt'\n",
    "\n",
    "print(os.path.basename(f)) # 파일명만 추출\n",
    "print(os.path.dirname(f))  # 디렉토리 경로 추출"
   ]
  },
  {
   "cell_type": "markdown",
   "metadata": {},
   "source": [
    "#### 2) 경로명과 파일명을 한번에 분리"
   ]
  },
  {
   "cell_type": "code",
   "execution_count": 71,
   "metadata": {},
   "outputs": [
    {
     "name": "stdout",
     "output_type": "stream",
     "text": [
      "('/Users/yhhan/git/python-e-learning', 't.txt')\n"
     ]
    }
   ],
   "source": [
    "print(os.path.split(f))"
   ]
  },
  {
   "cell_type": "markdown",
   "metadata": {},
   "source": [
    "#### 3) MS 윈도우즈에서 드라이브명과 파일 경로명을 분리"
   ]
  },
  {
   "cell_type": "code",
   "execution_count": 72,
   "metadata": {},
   "outputs": [
    {
     "name": "stdout",
     "output_type": "stream",
     "text": [
      "('', '/Users/yhhan/git/python-e-learning/t.txt')\n"
     ]
    }
   ],
   "source": [
    "print(os.path.splitdrive(f))"
   ]
  },
  {
   "cell_type": "markdown",
   "metadata": {},
   "source": [
    "#### 4) 확장자 분리"
   ]
  },
  {
   "cell_type": "code",
   "execution_count": 73,
   "metadata": {},
   "outputs": [
    {
     "name": "stdout",
     "output_type": "stream",
     "text": [
      "('/Users/yhhan/git/python-e-learning/t', '.txt')\n"
     ]
    }
   ],
   "source": [
    "print(os.path.splitext(f))"
   ]
  },
  {
   "cell_type": "markdown",
   "metadata": {},
   "source": [
    "### 1-7 경로명 생성하기 [중요]"
   ]
  },
  {
   "cell_type": "markdown",
   "metadata": {},
   "source": [
    "- Linux and Mac"
   ]
  },
  {
   "cell_type": "code",
   "execution_count": 77,
   "metadata": {},
   "outputs": [
    {
     "name": "stdout",
     "output_type": "stream",
     "text": [
      "/Users/yhhan/git/python-e-learning/t.txt\n"
     ]
    }
   ],
   "source": [
    "path = os.path.join(\"/\", \"Users\", \"yhhan\", \"git\", \"python-e-learning\", \"t.txt\")\n",
    "print(path)"
   ]
  },
  {
   "cell_type": "markdown",
   "metadata": {},
   "source": [
    "- Windows"
   ]
  },
  {
   "cell_type": "code",
   "execution_count": 79,
   "metadata": {},
   "outputs": [
    {
     "name": "stdout",
     "output_type": "stream",
     "text": [
      "c:\\/Users/yhhan\n"
     ]
    }
   ],
   "source": [
    "path = os.path.join(\"c:\\\\\", \"Users\", \"yhhan\")\n",
    "print(path)"
   ]
  },
  {
   "cell_type": "markdown",
   "metadata": {},
   "source": [
    "***\n",
    "## 2 디렉토리 다루기\n",
    "***"
   ]
  },
  {
   "cell_type": "markdown",
   "metadata": {},
   "source": [
    "### 2-1 디렉토리에 관련된 일반 작업"
   ]
  },
  {
   "cell_type": "markdown",
   "metadata": {},
   "source": [
    "#### 1) 현재 작업 디렉토리 알아보기"
   ]
  },
  {
   "cell_type": "code",
   "execution_count": 24,
   "metadata": {},
   "outputs": [
    {
     "name": "stdout",
     "output_type": "stream",
     "text": [
      "/Users/yhhan/git/python-e-learning/python3.6\n"
     ]
    }
   ],
   "source": [
    "import os\n",
    "print(os.getcwd())"
   ]
  },
  {
   "cell_type": "markdown",
   "metadata": {},
   "source": [
    "#### 2) 작업 디렉토리 변경하기"
   ]
  },
  {
   "cell_type": "code",
   "execution_count": 104,
   "metadata": {},
   "outputs": [
    {
     "name": "stdout",
     "output_type": "stream",
     "text": [
      "/Users/yhhan/Public\n"
     ]
    }
   ],
   "source": [
    "path = os.path.join(\"/\", \"Users\", \"yhhan\", \"Public\")\n",
    "#path = os.path.join(\"c:\\\\\", \"Users\", \"yhhan\", \"Public\") \n",
    "\n",
    "os.chdir(path)\n",
    "print(os.getcwd())"
   ]
  },
  {
   "cell_type": "markdown",
   "metadata": {},
   "source": [
    "#### 3) 디렉토리 만들기"
   ]
  },
  {
   "cell_type": "code",
   "execution_count": 109,
   "metadata": {},
   "outputs": [
    {
     "name": "stdout",
     "output_type": "stream",
     "text": [
      "total 0\n",
      "drwxr-xr-x  2 yhhan  staff   64 10 27 23:39 \u001b[34m.\u001b[m\u001b[m/\n",
      "drwxr-xr-x+ 6 yhhan  staff  192 10 27 23:39 \u001b[34m..\u001b[m\u001b[m/\n",
      "True\n",
      "True\n",
      "False\n"
     ]
    }
   ],
   "source": [
    "import os\n",
    "\n",
    "os.mkdir('temp')        # 0755 기본 모드(rwxr-xr-x)로 만들어짐\n",
    "%ls -al temp\n",
    "# os.mkdir('temp2', 0700) # 0700 모드(rwx------)로 만들어짐\n",
    "\n",
    "os.mkdir('temp2', 0o700)\n",
    "os.makedirs('temp2/level1/level2') #0755 기본 모드, 중간에 필요한 디렉토리도 모두생성\n",
    "\n",
    "print(os.access('/Users/yhhan/Public/temp', os.F_OK))\n",
    "print(os.access('/Users/yhhan/Public/temp2', os.F_OK))\n",
    "print(os.access('/Users/yhhan/Public/temp/level1/level2', os.F_OK))"
   ]
  },
  {
   "cell_type": "code",
   "execution_count": 110,
   "metadata": {},
   "outputs": [],
   "source": [
    "import os\n",
    "\n",
    "os.mkdir('temp3', 0o700)\n",
    "\n",
    "path = os.path.join(\"temp3\", \"level1\", \"level2\")\n",
    "os.makedirs(path) #0755 기본 모드, 중간에 필요한 디렉토리도 모두생성"
   ]
  },
  {
   "cell_type": "markdown",
   "metadata": {},
   "source": [
    "#### 4) 디렉토리 삭제"
   ]
  },
  {
   "cell_type": "code",
   "execution_count": 111,
   "metadata": {},
   "outputs": [],
   "source": [
    "os.rmdir('temp') #디렉토리에 내용이 없을 때 삭제가능"
   ]
  },
  {
   "cell_type": "code",
   "execution_count": 112,
   "metadata": {},
   "outputs": [
    {
     "ename": "OSError",
     "evalue": "[Errno 66] Directory not empty: 'temp3'",
     "output_type": "error",
     "traceback": [
      "\u001b[0;31m---------------------------------------------------------------------------\u001b[0m",
      "\u001b[0;31mOSError\u001b[0m                                   Traceback (most recent call last)",
      "\u001b[0;32m<ipython-input-112-4a5a038b13f9>\u001b[0m in \u001b[0;36m<module>\u001b[0;34m\u001b[0m\n\u001b[0;32m----> 1\u001b[0;31m \u001b[0mos\u001b[0m\u001b[0;34m.\u001b[0m\u001b[0mrmdir\u001b[0m\u001b[0;34m(\u001b[0m\u001b[0;34m'temp3'\u001b[0m\u001b[0;34m)\u001b[0m \u001b[0;31m#디렉토리에 다른 파일이 있으면 삭제할 수 없음\u001b[0m\u001b[0;34m\u001b[0m\u001b[0;34m\u001b[0m\u001b[0m\n\u001b[0m",
      "\u001b[0;31mOSError\u001b[0m: [Errno 66] Directory not empty: 'temp3'"
     ]
    }
   ],
   "source": [
    "os.rmdir('temp3') #디렉토리에 다른 파일이 있으면 삭제할 수 없음"
   ]
  },
  {
   "cell_type": "markdown",
   "metadata": {},
   "source": [
    "#### 5) 다단계 디렉토리 삭제\n",
    "- os.removedirs(filepath)\n",
    "  - filepath에 지정된 디렉토리들 중 맨 오른쪽 디렉토리 부터 차례차례로 삭제한다.\n",
    "  - 디렉토리에 다른 파일이 있으면 삭제하기 않고 중단"
   ]
  },
  {
   "cell_type": "code",
   "execution_count": 113,
   "metadata": {},
   "outputs": [],
   "source": [
    "os.removedirs('temp2/level1/level2')"
   ]
  },
  {
   "cell_type": "markdown",
   "metadata": {},
   "source": [
    "#### 6) 하위 디렉토리까지 모두 한번에 삭제\n",
    "- shutil.rmtree() \n",
    "  - 파일은 물론 하위 디렉토리까지 모두 한번에 삭제 가능\n",
    "  - 조심해서 사용해야 함"
   ]
  },
  {
   "cell_type": "code",
   "execution_count": 114,
   "metadata": {},
   "outputs": [
    {
     "name": "stdout",
     "output_type": "stream",
     "text": [
      "True\n",
      "True\n"
     ]
    }
   ],
   "source": [
    "import os\n",
    "\n",
    "os.mkdir('temp')        # 0755 기본 모드(rwxr-xr-x)로 만들어짐\n",
    "os.makedirs('temp/level1/level2') #0755 기본 모드, 중간에 필요한 디렉토리도 모두생성\n",
    "\n",
    "print(os.access('/Users/yhhan/Public/temp', os.F_OK))\n",
    "print(os.access('/Users/yhhan/Public/temp/level1/level2', os.F_OK))"
   ]
  },
  {
   "cell_type": "code",
   "execution_count": 115,
   "metadata": {},
   "outputs": [],
   "source": [
    "import shutil\n",
    "shutil.rmtree('temp3')"
   ]
  },
  {
   "cell_type": "markdown",
   "metadata": {},
   "source": [
    "#### 7) 디렉토리 복사\n",
    "- shutil.copytree(src_filepath, dest_filepath)\n",
    "  - 하위 디렉토리와 파일등을 지니고 있는 디렉토리를 복사"
   ]
  },
  {
   "cell_type": "code",
   "execution_count": 118,
   "metadata": {},
   "outputs": [
    {
     "data": {
      "text/plain": [
       "'myweb_backup'"
      ]
     },
     "execution_count": 118,
     "metadata": {},
     "output_type": "execute_result"
    }
   ],
   "source": [
    "os.mkdir('temp/temp2', 0o700)\n",
    "shutil.copytree('temp', 'myweb_backup')"
   ]
  },
  {
   "cell_type": "markdown",
   "metadata": {},
   "source": [
    "### 2-2 디렉토리(트리) 탐색하기\n",
    "- os.walk(filepath)\n",
    "  - filepath 부터 시작하여 재귀적으로 모든 하위 디렉토리까지 탐색을 하는 함수\n",
    "  - 탐색시 발견하는 모든 파일에 대해서는 다음 튜플을 리턴함\n",
    "    - (dirpath, dirnames, filemnames)\n",
    "      - dirpath: 탐색하고 있는 디렉토리 경로\n",
    "      - dirnames: dirpath 안에 존재하는 서브 디렉토리의 리스트\n",
    "      - filenames: dirpath 안에 존재하는 파일 리스트"
   ]
  },
  {
   "cell_type": "markdown",
   "metadata": {},
   "source": [
    "- 아래 예는 현재 디렉토리부터 모든 하위 디렉토리 내에 존재하는 모든 txt 파일을 삭제하는 프로그램"
   ]
  },
  {
   "cell_type": "code",
   "execution_count": 130,
   "metadata": {},
   "outputs": [
    {
     "name": "stdout",
     "output_type": "stream",
     "text": [
      "/Users/yhhan/Public\n"
     ]
    }
   ],
   "source": [
    "path = os.path.join(\"/\", \"Users\", \"yhhan\", \"Public\")\n",
    "#path = os.path.join(\"c:\\\\\", \"Users\", \"yhhan\", \"Public\") \n",
    "\n",
    "os.chdir(path)\n",
    "print(os.getcwd())"
   ]
  },
  {
   "cell_type": "code",
   "execution_count": 131,
   "metadata": {},
   "outputs": [
    {
     "name": "stdout",
     "output_type": "stream",
     "text": [
      "/Users/yhhan/Public/temp\n",
      "\n",
      "removing /Users/yhhan/Public/temp/t.txt\n",
      "removing /Users/yhhan/Public/temp/level1/t.txt\n",
      "removing /Users/yhhan/Public/temp/level1/level2/t.txt\n",
      "\n",
      "/Users/yhhan/Public\n"
     ]
    }
   ],
   "source": [
    "if os.path.exists('temp'):\n",
    "    shutil.rmtree('temp')\n",
    "\n",
    "path = os.path.join(\"temp\", \"level1\", \"level2\")\n",
    "os.makedirs(path)\n",
    "\n",
    "with open(os.path.join(\"temp\", \"t.txt\"), \"w\") as f:\n",
    "    f.write(\"aaa\")\n",
    "    \n",
    "with open(os.path.join(\"temp\", \"level1\", \"t.txt\"), \"w\") as f:\n",
    "    f.write(\"aaa\")\n",
    "    \n",
    "with open(os.path.join(\"temp\", \"level1\", \"level2\", \"t.txt\"), \"w\") as f:\n",
    "    f.write(\"aaa\")\n",
    "\n",
    "path = os.path.join(\"temp\")\n",
    "os.chdir(path)\n",
    "print(os.getcwd())\n",
    "print()\n",
    "for path, subdirs, files in os.walk(os.getcwd()):\n",
    "    for fname in files:\n",
    "        if fname.endswith('.txt'):\n",
    "            fullpath = os.path.join(path, fname)\n",
    "            print('removing', fullpath)\n",
    "            os.remove(fullpath)\n",
    "\n",
    "print()\n",
    "os.chdir(\"..\")\n",
    "print(os.getcwd())"
   ]
  },
  {
   "cell_type": "code",
   "execution_count": 35,
   "metadata": {},
   "outputs": [
    {
     "name": "stdout",
     "output_type": "stream",
     "text": [
      "/Users/yhhan/git/python-e-learning\n",
      "\n",
      "removing /Users/yhhan/git/python-e-learning/pickle.txt\n",
      "removing /Users/yhhan/git/python-e-learning/pickle2.txt\n",
      "removing /Users/yhhan/git/python-e-learning/readme.txt\n",
      "removing /Users/yhhan/git/python-e-learning/removeme.txt\n",
      "removing /Users/yhhan/git/python-e-learning/sample.txt\n",
      "removing /Users/yhhan/git/python-e-learning/sample_new.txt\n",
      "removing /Users/yhhan/git/python-e-learning/t.txt\n",
      "removing /Users/yhhan/git/python-e-learning/t1.txt\n",
      "removing /Users/yhhan/git/python-e-learning/t2.txt\n",
      "removing /Users/yhhan/git/python-e-learning/example/t1.txt\n",
      "removing /Users/yhhan/git/python-e-learning/python3.6/output.txt\n",
      "removing /Users/yhhan/git/python-e-learning/python3.6/sample.txt\n",
      "removing /Users/yhhan/git/python-e-learning/python3.6/sample_new.txt\n",
      "removing /Users/yhhan/git/python-e-learning/python3.6/t_new.txt\n",
      "removing /Users/yhhan/git/python-e-learning/python3.6/example/t1.txt\n"
     ]
    }
   ],
   "source": [
    "import os\n",
    "os.chdir('/Users/yhhan/git/python-e-learning')\n",
    "print(os.getcwd())\n",
    "print()\n",
    "for path, subdirs, files in os.walk(os.getcwd()):\n",
    "    for fname in files:\n",
    "        if fname.endswith('.txt'):\n",
    "            fullpath = os.path.join(path, fname)\n",
    "            print('removing', fullpath)\n",
    "            os.remove(fullpath)"
   ]
  },
  {
   "cell_type": "markdown",
   "metadata": {},
   "source": [
    "<p style='text-align: right;'>참고 문헌: 파이썬(열혈강의)(개정판 VER.2), 이강성, FreeLec, 2005년 8월 29일</p>"
   ]
  }
 ],
 "metadata": {
  "kernelspec": {
   "display_name": "Python 3",
   "language": "python",
   "name": "python3"
  },
  "language_info": {
   "codemirror_mode": {
    "name": "ipython",
    "version": 3
   },
   "file_extension": ".py",
   "mimetype": "text/x-python",
   "name": "python",
   "nbconvert_exporter": "python",
   "pygments_lexer": "ipython3",
   "version": "3.6.8"
  }
 },
 "nbformat": 4,
 "nbformat_minor": 1
}
