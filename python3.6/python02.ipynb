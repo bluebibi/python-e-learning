{
 "metadata": {
  "name": "",
  "signature": "sha256:ab93534d35b1345ad96d879e8a7dc685b8037f9ba9a30fa7da8dd5ab6183eed8"
 },
 "nbformat": 3,
 "nbformat_minor": 0,
 "worksheets": [
  {
   "cells": [
    {
     "cell_type": "markdown",
     "metadata": {},
     "source": [
      "***\n",
      "***\n",
      "# 2. \ud30c\uc774\uc36c \uc5b8\uc5b4\uc758 \uae30\ubcf8\ubb38\ud615\n",
      "***\n",
      "***"
     ]
    },
    {
     "cell_type": "markdown",
     "metadata": {},
     "source": [
      "***\n",
      "## 1 \ud30c\uc774\uc36c \uc608\uc57d\uc5b4 \ubc0f \ub0b4\uc7a5 \ud568\uc218\n",
      "***"
     ]
    },
    {
     "cell_type": "markdown",
     "metadata": {},
     "source": [
      "### 1-1 \uc608\uc57d\uc5b4 (Reserved Words)\n",
      "- \uc608\uc57d\uc5b4 (\ub610\ub294 \ud0a4\uc6cc\ub4dc)\n",
      "  - \ud30c\uc774\uc36c\uc5d0\uc11c \uc774\ubbf8 \ubb38\ubc95\uc801\uc778 \uc6a9\ub3c4\ub85c \uc0ac\uc6a9\ub418\uace0 \uc788\uae30 \ub54c\ubb38\uc5d0 \ubcc0\uc218\uba85\ub4f1\uc758 \uc2dd\ubcc4\uc790\ub85c \uc0ac\uc6a9\ud558\uba74 \uc548\ub418\ub294 \ub2e8\uc5b4\ub4e4"
     ]
    },
    {
     "cell_type": "markdown",
     "metadata": {},
     "source": [
      "### 1-2 \uc608\uc57d\uc5b4\uc758 \uc885\ub958 \uc54c\uc544\ubcf4\uae30"
     ]
    },
    {
     "cell_type": "code",
     "collapsed": false,
     "input": [
      "import keyword\n",
      "\n",
      "print keyword.kwlist\n",
      "print\n",
      "print len(keyword.kwlist)"
     ],
     "language": "python",
     "metadata": {},
     "outputs": [
      {
       "output_type": "stream",
       "stream": "stdout",
       "text": [
        "['and', 'as', 'assert', 'break', 'class', 'continue', 'def', 'del', 'elif', 'else', 'except', 'exec', 'finally', 'for', 'from', 'global', 'if', 'import', 'in', 'is', 'lambda', 'not', 'or', 'pass', 'print', 'raise', 'return', 'try', 'while', 'with', 'yield']\n",
        "\n",
        "31\n"
       ]
      }
     ],
     "prompt_number": 5
    },
    {
     "cell_type": "markdown",
     "metadata": {},
     "source": [
      "### 1-3 \ub0b4\uc7a5 \ud568\uc218 (Built-in Function)\n",
      "- \ubcc4\ub3c4\uc758 \ubaa8\ub4c8(Module)\uc758 \ucd94\uac00 \uc5c6\uc774 \uae30\ubcf8\uc801\uc73c\ub85c \uc81c\uacf5\ub418\ub294 \ud568\uc218\ub4e4\n",
      "- \ucc38\uace0 \uc0ac\uc774\ud2b8\n",
      "  1. \ub0b4\uc7a5(Built-in) \ud568\uc218: https://docs.python.org/2/library/functions.html\n",
      "- \ub300\ud45c\uc801\uc778 \ub0b4\uc7a5 \ud568\uc218\n",
      "  - abs, max, min, pow, chr, str, range, type, ..."
     ]
    },
    {
     "cell_type": "markdown",
     "metadata": {},
     "source": [
      "- abs(x)\n",
      "  - \uc218\uce58\ud615 \uc790\ub8cc x\uc5d0 \ub300\ud574 x\uc758 \uc808\ub300\uac12\uc744 \ubc18\ud658\ud558\ub294 \ud568\uc218"
     ]
    },
    {
     "cell_type": "code",
     "collapsed": false,
     "input": [
      "print abs(3)\n",
      "print abs(-3)"
     ],
     "language": "python",
     "metadata": {},
     "outputs": [
      {
       "output_type": "stream",
       "stream": "stdout",
       "text": [
        "3\n",
        "3\n"
       ]
      }
     ],
     "prompt_number": 1
    },
    {
     "cell_type": "markdown",
     "metadata": {},
     "source": [
      "- max(s)\n",
      "  - \uc2dc\ud000\uc2a4 \uc790\ub8cc\ud615(\ubb38\uc790\uc5f4, \ub9ac\uc2a4\ud2b8, \ud29c\ud50c)\uc744 \uc785\ub825\ubc1b\uc544 \uadf8 \uc790\ub8cc\uac00 \uc9c0\ub2cc \uc6d0\uc18c \uc911 \ucd5c\ub300\uac12\uc744 \ubc18\ud658\ud558\ub294 \ud568\uc218"
     ]
    },
    {
     "cell_type": "code",
     "collapsed": false,
     "input": [
      "print max(1, 2)\n",
      "print max([1, 2, 3])\n",
      "print max(\"python\")"
     ],
     "language": "python",
     "metadata": {},
     "outputs": [
      {
       "output_type": "stream",
       "stream": "stdout",
       "text": [
        "2\n",
        "3\n",
        "y\n"
       ]
      }
     ],
     "prompt_number": 20
    },
    {
     "cell_type": "markdown",
     "metadata": {},
     "source": [
      "- min(s)\n",
      "  - \uc2dc\ud000\uc2a4 \uc790\ub8cc\ud615(\ubb38\uc790\uc5f4, \ub9ac\uc2a4\ud2b8, \ud29c\ud50c)\uc744 \uc785\ub825\ubc1b\uc544 \uadf8 \uc790\ub8cc\uac00 \uc9c0\ub2cc \uc6d0\uc18c \uc911 \ucd5c\uc18c\uac12\uc744 \ubc18\ud658\ud558\ub294 \ud568\uc218"
     ]
    },
    {
     "cell_type": "code",
     "collapsed": false,
     "input": [
      "print min(1, 2)\n",
      "print min([1, 2, 3])\n",
      "print min(\"python\")"
     ],
     "language": "python",
     "metadata": {},
     "outputs": [
      {
       "output_type": "stream",
       "stream": "stdout",
       "text": [
        "1\n",
        "1\n",
        "h\n"
       ]
      }
     ],
     "prompt_number": 18
    },
    {
     "cell_type": "markdown",
     "metadata": {},
     "source": [
      "- pow(x,y)\n",
      "  - \uc218\uce58\ud615 \uc790\ub8cc\ud615 x, y\uc5d0 \ub300\ud574 x\uc758 y\uc2b9\uc744 \ubc18\ud658\ud558\ub294 \ud568\uc218"
     ]
    },
    {
     "cell_type": "code",
     "collapsed": false,
     "input": [
      "print pow(2, 4)\n",
      "print pow(3, 3)\n",
      "print pow(2, -1)"
     ],
     "language": "python",
     "metadata": {},
     "outputs": [
      {
       "output_type": "stream",
       "stream": "stdout",
       "text": [
        "16\n",
        "27\n",
        "0.5\n"
       ]
      }
     ],
     "prompt_number": 19
    },
    {
     "cell_type": "markdown",
     "metadata": {},
     "source": [
      "- chr(i)\n",
      "  - \uc815\uc218 \ud615\ud0dc\uc758 ASCII\ucf54\ub4dc \uac12\uc744 \uc785\ub825\uc73c\ub85c \ubc1b\uc544 \uadf8\uc5d0 \ud574\ub2f9\ud558\ub294 \ubb38\uc790\ub97c \ubc18\ud658\ud558\ub294 \ud568\uc218\n",
      "  - \uc778\uc218 i\uc758 \ubc94\uc704: 0\ubd80\ud130 255\uae4c\uc9c0"
     ]
    },
    {
     "cell_type": "code",
     "collapsed": false,
     "input": [
      "print chr(97)\n",
      "print chr(65)\n",
      "print chr(48)"
     ],
     "language": "python",
     "metadata": {},
     "outputs": [
      {
       "output_type": "stream",
       "stream": "stdout",
       "text": [
        "a\n",
        "A\n",
        "0\n"
       ]
      }
     ],
     "prompt_number": 10
    },
    {
     "cell_type": "markdown",
     "metadata": {},
     "source": [
      "- str(object)\n",
      "  - \uc784\uc758\uc758 \uac1d\uccb4 object\uc5d0 \ub300\ud574 \ud574\ub2f9 \uac1d\uccb4\ub97c \ud45c\ud604\ud558\ub294 \ubb38\uc790\uc5f4\uc744 \ubc18\ud658\ud558\ub294 \ud568\uc218"
     ]
    },
    {
     "cell_type": "code",
     "collapsed": false,
     "input": [
      "print str(3)\n",
      "print str([1, 2])"
     ],
     "language": "python",
     "metadata": {},
     "outputs": [
      {
       "output_type": "stream",
       "stream": "stdout",
       "text": [
        "3\n",
        "[1, 2]\n"
       ]
      }
     ],
     "prompt_number": 17
    },
    {
     "cell_type": "markdown",
     "metadata": {},
     "source": [
      "- range([start,]stop[,step])\n",
      "  - \uc218\uce58\ud615 \uc790\ub8cc\ud615\uc73c\ub85c start, stop, step \ub4f1\uc744 \uc785\ub825\ubc1b\uc544 \ud574\ub2f9 \ubc94\uc704\uc5d0 \ud574\ub2f9\ud558\ub294 \uc815\uc218\ub97c \ub9ac\uc2a4\ud2b8\ub85c \ubc18\ud658\ud558\ub294 \ud568\uc218\n",
      "  - \uc778\uc218\uac00 \ud558\ub098(stop)\uc778 \uacbd\uc6b0\n",
      "    - 0\ubd80\ud130 stop-1\uae4c\uc9c0\uc758 \uc815\uc218 \ub9ac\uc2a4\ud2b8\ub97c \ubc18\ud658\ud55c\ub2e4.\n",
      "  - \uc778\uc218\uac00 \ub450 \uac1c(start, stop)\uc778 \uacbd\uc6b0\n",
      "    - start\ubd80\ud130 stop-1\uae4c\uc9c0\uc758 \uc815\uc218 \ub9ac\uc2a4\ud2b8\ub97c \ubc18\ud658\ud55c\ub2e4.\n",
      "  - \uc778\uc218\uac00 \uc138 \uac1c(start, stop, step)\uc778 \uacbd\uc6b0\n",
      "    - start\ubd80\ud130 stop-1\uae4c\uc9c0\uc758 \uc815\uc218\ub97c \ubc18\ud658\ud558\ub418 \uac01 \uc815\uc218 \uc0ac\uc774\uc758 \uac70\ub9ac\uac00 step\uc778 \uac83\ub4e4\ub9cc \ubc18\ud658\ud55c\ub2e4.\n",
      "    "
     ]
    },
    {
     "cell_type": "code",
     "collapsed": false,
     "input": [
      "print range(10)\n",
      "print range(3, 10)\n",
      "print range(3, 10, 2)"
     ],
     "language": "python",
     "metadata": {},
     "outputs": [
      {
       "output_type": "stream",
       "stream": "stdout",
       "text": [
        "[0, 1, 2, 3, 4, 5, 6, 7, 8, 9]\n",
        "[3, 4, 5, 6, 7, 8, 9]\n",
        "[3, 5, 7, 9]\n"
       ]
      }
     ],
     "prompt_number": 15
    },
    {
     "cell_type": "markdown",
     "metadata": {},
     "source": [
      "- type(object)\n",
      "  - \uc784\uc758\uc758 \uac1d\uccb4 object\uc758 \uc790\ub8cc\ud615\uc744 \ubc18\ud658\ud558\ub294 \ud568\uc218"
     ]
    },
    {
     "cell_type": "code",
     "collapsed": false,
     "input": [
      "print type(-1)\n",
      "print type('abc')\n",
      "print type([1, 2, 3])"
     ],
     "language": "python",
     "metadata": {},
     "outputs": [
      {
       "output_type": "stream",
       "stream": "stdout",
       "text": [
        "<type 'int'>\n",
        "<type 'str'>\n",
        "<type 'list'>\n"
       ]
      }
     ],
     "prompt_number": 16
    },
    {
     "cell_type": "markdown",
     "metadata": {},
     "source": [
      "***\n",
      "## 2 \ud30c\uc774\uc36c \uc2dd\ubcc4\uc790\uc640 \ubcc0\uc218 \uc0ac\uc6a9\n",
      "***"
     ]
    },
    {
     "cell_type": "markdown",
     "metadata": {},
     "source": [
      "### 2-1 \uc2dd\ubcc4\uc790 \ub9cc\ub4dc\ub294 \ubc95"
     ]
    },
    {
     "cell_type": "markdown",
     "metadata": {},
     "source": [
      "- \ud30c\uc774\uc36c \uc2dd\ubcc4\uc790\ub294 \ubcc0\uc218, \ud568\uc218, \ubaa8\ub4c8, \ud074\ub798\uc2a4 \ub610\ub294 \uac1d\uccb4\ub97c \uc2dd\ubcc4\ud558\ub294\ub370 \uc0ac\uc6a9\ub418\ub294 \uc774\ub984\uc774\ub2e4.\n",
      "- \uc2dd\ubcc4\uc790\uc758 \uc870\uac74\n",
      "  - \ub300\uc18c\ubb38\uc790 \uad6c\ubcc4\ud568\n",
      "  - \uc2dd\ubcc4\uc790\ub294 \ubb38\uc790 A~Z \ub610\ub294 a~z\uacfc \uc5b8\ub354\ubc14(\\_)\ub85c \uc2dc\uc791\ud560 \uc218 \uc788\ub2e4. \n",
      "  - \uc2dd\ubcc4\uc790 \uccab \uc2dc\uc791\uc744 \uc81c\uc678\ud558\uace0 \uc2dd\ubcc4\uc790 \ub0b4\uc5d0 \uc22b\uc790(0~9)\ub97c \uc0ac\uc6a9\ud560 \uc218 \uc788\ub2e4.\n",
      "  - \ud2b9\uc218\ubb38\uc790 @, $, %\ub4f1\uc740 \uc2dd\ubcc4\uc790\uc5d0 \uc62c \uc218 \uc5c6\ub2e4.\n",
      "  - \uc608\ub97c \ub4e4\uc5b4 \ub2e4\uc74c\uacfc \uac19\uc740 \uac83\uc740 \uc2dd\ubcc4\uc790\uac00 \ub420 \uc218 \uc5c6\uc74c\n",
      "    - 1abc, @file, %x"
     ]
    },
    {
     "cell_type": "markdown",
     "metadata": {},
     "source": [
      "### 2-2 \ubcc0\uc218\uba85 \ub9cc\ub4e4 \ub54c \uc870\uc2ec\ud560 \uc810"
     ]
    },
    {
     "cell_type": "markdown",
     "metadata": {},
     "source": [
      "- \uc608\uc57d\uc5b4, \ub0b4\uc7a5\ud568\uc218, \ubaa8\ub4c8 \uc774\ub984\uc744 \ubcc0\uc218\uba85\uc73c\ub85c \ub9cc\ub4dc\ub294 \uc77c\uc774 \uc5c6\ub3c4\ub85d \ud560\uac83"
     ]
    },
    {
     "cell_type": "code",
     "collapsed": false,
     "input": [
      "print str(12345)"
     ],
     "language": "python",
     "metadata": {},
     "outputs": [
      {
       "output_type": "stream",
       "stream": "stdout",
       "text": [
        "12345\n"
       ]
      }
     ],
     "prompt_number": 1
    },
    {
     "cell_type": "code",
     "collapsed": false,
     "input": [
      "str = 'abc'\n",
      "\n",
      "print str(12345)"
     ],
     "language": "python",
     "metadata": {},
     "outputs": [
      {
       "ename": "TypeError",
       "evalue": "'str' object is not callable",
       "output_type": "pyerr",
       "traceback": [
        "\u001b[0;31m---------------------------------------------------------------------------\u001b[0m\n\u001b[0;31mTypeError\u001b[0m                                 Traceback (most recent call last)",
        "\u001b[0;32m<ipython-input-2-ad06f2f248af>\u001b[0m in \u001b[0;36m<module>\u001b[0;34m()\u001b[0m\n\u001b[1;32m      1\u001b[0m \u001b[0mstr\u001b[0m \u001b[0;34m=\u001b[0m \u001b[0;34m'abc'\u001b[0m\u001b[0;34m\u001b[0m\u001b[0m\n\u001b[1;32m      2\u001b[0m \u001b[0;34m\u001b[0m\u001b[0m\n\u001b[0;32m----> 3\u001b[0;31m \u001b[0;32mprint\u001b[0m \u001b[0mstr\u001b[0m\u001b[0;34m(\u001b[0m\u001b[0;36m12345\u001b[0m\u001b[0;34m)\u001b[0m\u001b[0;34m\u001b[0m\u001b[0m\n\u001b[0m",
        "\u001b[0;31mTypeError\u001b[0m: 'str' object is not callable"
       ]
      }
     ],
     "prompt_number": 2
    },
    {
     "cell_type": "markdown",
     "metadata": {},
     "source": [
      "### 2-3 \ubcc0\uc218\uc758 \uc0dd\uc131 \ubc0f \uc0ac\uc6a9\n",
      "- \ud30c\uc774\uc36c\uc5d0\uc11c \ubcc0\uc218\uac00 \uc0dd\uc131\ub418\ub294 \uc2dc\uc810\uc740 \ud574\ub2f9 \ubcc0\uc218\uc5d0 \uc784\uc758\uc758 \uac12\uc774 \ud560\ub2f9\ub420 \ub54c\uc774\ub2e4."
     ]
    },
    {
     "cell_type": "code",
     "collapsed": false,
     "input": [
      "a = 1\n",
      "print a"
     ],
     "language": "python",
     "metadata": {},
     "outputs": [
      {
       "output_type": "stream",
       "stream": "stdout",
       "text": [
        "1\n"
       ]
      }
     ],
     "prompt_number": 21
    },
    {
     "cell_type": "markdown",
     "metadata": {},
     "source": [
      "- \ubcc0\uc218\uc758 \uc0dd\uc131 \uc5c6\uc774 \uace7\ubc14\ub85c \uc0ac\uc6a9\ud560 \uc218 \uc5c6\ub2e4."
     ]
    },
    {
     "cell_type": "code",
     "collapsed": false,
     "input": [
      "print b"
     ],
     "language": "python",
     "metadata": {},
     "outputs": [
      {
       "ename": "NameError",
       "evalue": "name 'b' is not defined",
       "output_type": "pyerr",
       "traceback": [
        "\u001b[0;31m---------------------------------------------------------------------------\u001b[0m\n\u001b[0;31mNameError\u001b[0m                                 Traceback (most recent call last)",
        "\u001b[0;32m<ipython-input-22-ab3a5d8f1075>\u001b[0m in \u001b[0;36m<module>\u001b[0;34m()\u001b[0m\n\u001b[0;32m----> 1\u001b[0;31m \u001b[0;32mprint\u001b[0m \u001b[0mb\u001b[0m\u001b[0;34m\u001b[0m\u001b[0m\n\u001b[0m",
        "\u001b[0;31mNameError\u001b[0m: name 'b' is not defined"
       ]
      }
     ],
     "prompt_number": 22
    },
    {
     "cell_type": "markdown",
     "metadata": {},
     "source": [
      "### 2-4 \ubcc0\uc218\uc758 \uc0ad\uc81c\n",
      "- del \uc774\ub77c\ub294 \uc608\uc57d\uc5b4 \uc0ac\uc6a9"
     ]
    },
    {
     "cell_type": "code",
     "collapsed": false,
     "input": [
      "b = 2\n",
      "print b\n",
      "\n",
      "del b\n",
      "print b"
     ],
     "language": "python",
     "metadata": {},
     "outputs": [
      {
       "output_type": "stream",
       "stream": "stdout",
       "text": [
        "2\n"
       ]
      },
      {
       "ename": "NameError",
       "evalue": "name 'b' is not defined",
       "output_type": "pyerr",
       "traceback": [
        "\u001b[0;31m---------------------------------------------------------------------------\u001b[0m\n\u001b[0;31mNameError\u001b[0m                                 Traceback (most recent call last)",
        "\u001b[0;32m<ipython-input-24-026dc2933af4>\u001b[0m in \u001b[0;36m<module>\u001b[0;34m()\u001b[0m\n\u001b[1;32m      3\u001b[0m \u001b[0;34m\u001b[0m\u001b[0m\n\u001b[1;32m      4\u001b[0m \u001b[0;32mdel\u001b[0m \u001b[0mb\u001b[0m\u001b[0;34m\u001b[0m\u001b[0m\n\u001b[0;32m----> 5\u001b[0;31m \u001b[0;32mprint\u001b[0m \u001b[0mb\u001b[0m\u001b[0;34m\u001b[0m\u001b[0m\n\u001b[0m",
        "\u001b[0;31mNameError\u001b[0m: name 'b' is not defined"
       ]
      }
     ],
     "prompt_number": 24
    },
    {
     "cell_type": "markdown",
     "metadata": {},
     "source": [
      "***\n",
      "## 3 \ud30c\uc774\uc36c \uae30\ucd08 \ubb38\ud615\n",
      "***"
     ]
    },
    {
     "cell_type": "markdown",
     "metadata": {},
     "source": [
      "### 3-1 \uc8fc\uc11d\ubb38"
     ]
    },
    {
     "cell_type": "code",
     "collapsed": false,
     "input": [
      "#\uc774\uac83\uc740 \uc8fc\uc11d\uc785\ub2c8\ub2e4.\n",
      "import sys #\uc774\uac83\ub3c4 \uc8fc\uc11d\uc785\ub2c8\ub2e4."
     ],
     "language": "python",
     "metadata": {},
     "outputs": [],
     "prompt_number": 1
    },
    {
     "cell_type": "markdown",
     "metadata": {},
     "source": [
      "### 3-2 \uc5f0\uc18d\ub77c\uc778"
     ]
    },
    {
     "cell_type": "code",
     "collapsed": false,
     "input": [
      "a = 1\n",
      "b = 3\n",
      "if (a == 1) and \\\n",
      "(b == 3):\n",
      "    print 'connected lines'"
     ],
     "language": "python",
     "metadata": {},
     "outputs": [
      {
       "output_type": "stream",
       "stream": "stdout",
       "text": [
        "connected lines\n"
       ]
      }
     ],
     "prompt_number": 3
    },
    {
     "cell_type": "code",
     "collapsed": false,
     "input": [
      "a = 1\n",
      "b = 3\n",
      "if (a == 1) and (b == 3):\n",
      "    print 'connected lines'"
     ],
     "language": "python",
     "metadata": {},
     "outputs": [
      {
       "output_type": "stream",
       "stream": "stdout",
       "text": [
        "connected lines\n"
       ]
      }
     ],
     "prompt_number": 25
    },
    {
     "cell_type": "markdown",
     "metadata": {},
     "source": [
      "### 3-3 \ud560\ub2f9\ubb38 (Assignment)"
     ]
    },
    {
     "cell_type": "code",
     "collapsed": false,
     "input": [
      "a = 1\n",
      "b = a"
     ],
     "language": "python",
     "metadata": {},
     "outputs": [],
     "prompt_number": 14
    },
    {
     "cell_type": "code",
     "collapsed": false,
     "input": [
      "1 + 3 = a"
     ],
     "language": "python",
     "metadata": {},
     "outputs": [
      {
       "ename": "SyntaxError",
       "evalue": "can't assign to operator (<ipython-input-15-3aa35fdab4b7>, line 1)",
       "output_type": "pyerr",
       "traceback": [
        "\u001b[0;36m  File \u001b[0;32m\"<ipython-input-15-3aa35fdab4b7>\"\u001b[0;36m, line \u001b[0;32m1\u001b[0m\n\u001b[0;31m    1 + 3 = a\u001b[0m\n\u001b[0;31mSyntaxError\u001b[0m\u001b[0;31m:\u001b[0m can't assign to operator\n"
       ]
      }
     ],
     "prompt_number": 15
    },
    {
     "cell_type": "code",
     "collapsed": false,
     "input": [
      "a = 1\n",
      "a = a + 1\n",
      "print a"
     ],
     "language": "python",
     "metadata": {},
     "outputs": [
      {
       "output_type": "stream",
       "stream": "stdout",
       "text": [
        "2\n"
       ]
      }
     ],
     "prompt_number": 26
    },
    {
     "cell_type": "code",
     "collapsed": false,
     "input": [
      "c, d = 3, 4\n",
      "print c, d\n",
      "\n",
      "x = y = z = 0\n",
      "print x, y, z\n",
      "\n",
      "e = 3.5; f = 5.6\n",
      "print e, f\n"
     ],
     "language": "python",
     "metadata": {},
     "outputs": [
      {
       "output_type": "stream",
       "stream": "stdout",
       "text": [
        "3 4\n",
        "0 0 0\n",
        "3.5 5.6\n"
       ]
      }
     ],
     "prompt_number": 27
    },
    {
     "cell_type": "markdown",
     "metadata": {},
     "source": [
      "- \ub450 \ubcc0\uc218\uc758 \uac12\uc744 swap\ud558\ub294 \ubc29\ubc95"
     ]
    },
    {
     "cell_type": "code",
     "collapsed": false,
     "input": [
      "e = 3.5; f = 5.6\n",
      "e, f = f, e\n",
      "print e, f"
     ],
     "language": "python",
     "metadata": {},
     "outputs": [
      {
       "output_type": "stream",
       "stream": "stdout",
       "text": [
        "5.6 3.5\n"
       ]
      }
     ],
     "prompt_number": 28
    },
    {
     "cell_type": "markdown",
     "metadata": {},
     "source": [
      "- \uc544\ub798\uc5d0\uc11c b = c + d\ub294 \uc2dd(Expression)\uc774 \uc544\ub2c8\ub77c \ubb38(Statement)\uc774\uae30 \ub54c\ubb38\uc5d0 a\uc5d0 \ud560\ub2f9\ub420 \uc218 \uc5c6\ub2e4."
     ]
    },
    {
     "cell_type": "code",
     "collapsed": false,
     "input": [
      "a = (b = c + d)"
     ],
     "language": "python",
     "metadata": {},
     "outputs": [
      {
       "ename": "SyntaxError",
       "evalue": "invalid syntax (<ipython-input-29-79d71c957091>, line 1)",
       "output_type": "pyerr",
       "traceback": [
        "\u001b[0;36m  File \u001b[0;32m\"<ipython-input-29-79d71c957091>\"\u001b[0;36m, line \u001b[0;32m1\u001b[0m\n\u001b[0;31m    a = (b = c + d)\u001b[0m\n\u001b[0m           ^\u001b[0m\n\u001b[0;31mSyntaxError\u001b[0m\u001b[0;31m:\u001b[0m invalid syntax\n"
       ]
      }
     ],
     "prompt_number": 29
    },
    {
     "cell_type": "markdown",
     "metadata": {},
     "source": [
      "### 3-4 \ud655\uc7a5 \ud560\ub2f9\ubb38"
     ]
    },
    {
     "cell_type": "code",
     "collapsed": false,
     "input": [
      "a = 1\n",
      "a += 4\n",
      "print a"
     ],
     "language": "python",
     "metadata": {},
     "outputs": [
      {
       "output_type": "stream",
       "stream": "stdout",
       "text": [
        "5\n"
       ]
      }
     ],
     "prompt_number": 3
    },
    {
     "cell_type": "code",
     "collapsed": false,
     "input": [
      "a = 10\n",
      "a -= 3\n",
      "print a"
     ],
     "language": "python",
     "metadata": {},
     "outputs": [
      {
       "output_type": "stream",
       "stream": "stdout",
       "text": [
        "7\n"
       ]
      }
     ],
     "prompt_number": 4
    },
    {
     "cell_type": "code",
     "collapsed": false,
     "input": [
      "a = 10\n",
      "a *= 2+3\n",
      "print a"
     ],
     "language": "python",
     "metadata": {},
     "outputs": [
      {
       "output_type": "stream",
       "stream": "stdout",
       "text": [
        "50\n"
       ]
      }
     ],
     "prompt_number": 5
    },
    {
     "cell_type": "markdown",
     "metadata": {},
     "source": [
      "### 3-5 \uac1d\uccb4\uc640 \ud560\ub2f9\n",
      "- \uac1d\uccb4\uc758 \ubcc0\uc218\ub294 \ud574\ub2f9 \uac1d\uccb4\uc758 \ub808\ud37c\ub7f0\uc2a4\ub97c \uc9c0\ub2c8\uace0 \uc788\uc74c\n",
      "- a = 1\uc774\ub77c\ub294 Statement\uc5d0\uc11c a\ub294 \uc774\ub984, 1\uc740 \uac1d\uccb4\uc774\uba70 a \ubcc0\uc218\ub294 1\uc774\ub77c\ub294 \uac1d\uccb4\ub97c \uac00\ub9ac\ud0a8\ub2e4.\n",
      "  - \uc989, a \ubcc0\uc218\ub294 1 \uac1d\uccb4\uc758 \ub808\ud37c\ub7f0\uc2a4\ub97c \uc9c0\ub2c8\uace0 \uc788\uc74c"
     ]
    },
    {
     "cell_type": "code",
     "collapsed": false,
     "input": [
      "a = [1,2,3]\n",
      "b = [10, a, 20]\n",
      "c = ['x', a, 'y']\n",
      "\n",
      "print a\n",
      "print b\n",
      "print c"
     ],
     "language": "python",
     "metadata": {},
     "outputs": [
      {
       "output_type": "stream",
       "stream": "stdout",
       "text": [
        "[1, 2, 3]\n",
        "[10, [1, 2, 3], 20]\n",
        "['a', [1, 2, 3], 'b']\n"
       ]
      }
     ],
     "prompt_number": 42
    },
    {
     "cell_type": "markdown",
     "metadata": {},
     "source": [
      "![image](images/assignment.png)"
     ]
    },
    {
     "cell_type": "code",
     "collapsed": false,
     "input": [
      "a[1] = 1000\n",
      "\n",
      "print a\n",
      "print b\n",
      "print c"
     ],
     "language": "python",
     "metadata": {},
     "outputs": [
      {
       "output_type": "stream",
       "stream": "stdout",
       "text": [
        "[1, 1000, 3]\n",
        "[10, [1, 1000, 3], 20]\n",
        "['a', [1, 1000, 3], 'b']\n"
       ]
      }
     ],
     "prompt_number": 43
    },
    {
     "cell_type": "markdown",
     "metadata": {},
     "source": [
      "***\n",
      "## 4 \ucf58\uc194 \uc785\ucd9c\ub825\n",
      "***"
     ]
    },
    {
     "cell_type": "markdown",
     "metadata": {},
     "source": [
      "### 4-1 \ucf58\uc194 \uc785\ub825"
     ]
    },
    {
     "cell_type": "markdown",
     "metadata": {},
     "source": [
      "- \ucf58\uc194 (Console)\n",
      "  - \uc708\ub3c4\uc6b0\uc988\uc5d0\uc11c\ub294 Command\ucc3d, \ub9ac\ub205\uc2a4/\ub9e5\uc5d0\uc11c\ub294 Terminal\ucc3d\n",
      "  - \uac01 IDE (\uc608, \uc774\ud074\ub9bd\uc2a4)\uc5d0\uc11c\ub294 \ubcc4\ub3c4\uc758 \ucf58\uc194 \ucc3d\uc774 \uc81c\uacf5\ub428\n",
      "- raw_input(): \ubb38\uc790\uc5f4 \uc785\ub825 \ub0b4\uc7a5\ud568\uc218"
     ]
    },
    {
     "cell_type": "code",
     "collapsed": false,
     "input": [
      "name = raw_input('name?')"
     ],
     "language": "python",
     "metadata": {},
     "outputs": [
      {
       "name": "stdout",
       "output_type": "stream",
       "stream": "stdout",
       "text": [
        "name?\ud64d\uae38\ub3d9\n"
       ]
      }
     ],
     "prompt_number": 7
    },
    {
     "cell_type": "code",
     "collapsed": false,
     "input": [
      "print name"
     ],
     "language": "python",
     "metadata": {},
     "outputs": [
      {
       "output_type": "stream",
       "stream": "stdout",
       "text": [
        "\ud64d\uae38\ub3d9\n"
       ]
      }
     ],
     "prompt_number": 8
    },
    {
     "cell_type": "markdown",
     "metadata": {},
     "source": [
      "- int(): \ubb38\uc790\uc5f4\uc744 \uc815\uc218\ub85c \ubcc0\ud658\ud558\ub294 \ub0b4\uc7a5\ud568\uc218"
     ]
    },
    {
     "cell_type": "code",
     "collapsed": false,
     "input": [
      "k = int(raw_input('int : '))\n",
      "print k"
     ],
     "language": "python",
     "metadata": {},
     "outputs": [
      {
       "name": "stdout",
       "output_type": "stream",
       "stream": "stdout",
       "text": [
        "int : 12\n"
       ]
      },
      {
       "output_type": "stream",
       "stream": "stdout",
       "text": [
        "12\n"
       ]
      }
     ],
     "prompt_number": 6
    },
    {
     "cell_type": "markdown",
     "metadata": {},
     "source": [
      "- input(): \uc815\uc218, \uc2e4\uc218, Expression \uc785\ub825 \ub0b4\uc7a5\ud568\uc218"
     ]
    },
    {
     "cell_type": "code",
     "collapsed": false,
     "input": [
      "i = input('int :')\n",
      "print i"
     ],
     "language": "python",
     "metadata": {},
     "outputs": [
      {
       "name": "stdout",
       "output_type": "stream",
       "stream": "stdout",
       "text": [
        "int :45\n"
       ]
      },
      {
       "output_type": "stream",
       "stream": "stdout",
       "text": [
        "45\n"
       ]
      }
     ],
     "prompt_number": 9
    },
    {
     "cell_type": "code",
     "collapsed": false,
     "input": [
      "k = input('expr:')\n",
      "print k"
     ],
     "language": "python",
     "metadata": {},
     "outputs": [
      {
       "name": "stdout",
       "output_type": "stream",
       "stream": "stdout",
       "text": [
        "expr:30 + 50\n"
       ]
      },
      {
       "output_type": "stream",
       "stream": "stdout",
       "text": [
        "80\n"
       ]
      }
     ],
     "prompt_number": 10
    },
    {
     "cell_type": "markdown",
     "metadata": {},
     "source": [
      "### 4-2 \ucf58\uc194 \ucd9c\ub825"
     ]
    },
    {
     "cell_type": "markdown",
     "metadata": {},
     "source": [
      "- print: \ud654\uba74\uc5d0 \uc790\ub8cc\ub97c \ucd9c\ub825\ud558\ub294 \ubcf4\ud3b8\uc801\uc778 statement\n",
      "- \uc5ec\ub7ec \uc790\ub8cc\ub97c \ud55c\uaebc\ubc88\uc5d0 \ucd9c\ub825\ud560 \ub54c\uc5d0\ub294 \ucf64\ub9c8(,)\ub97c \uc0ac\uc6a9"
     ]
    },
    {
     "cell_type": "code",
     "collapsed": false,
     "input": [
      "print 4 + 5, 4 - 2"
     ],
     "language": "python",
     "metadata": {},
     "outputs": [
      {
       "output_type": "stream",
       "stream": "stdout",
       "text": [
        "9 2\n"
       ]
      }
     ],
     "prompt_number": 68
    },
    {
     "cell_type": "markdown",
     "metadata": {},
     "source": [
      "- \uc138\ubbf8\ucf5c\ub860(;)\uc740 \uc21c\ucc28\uc801\uc73c\ub85c \uc785\ub825\ub41c \uac01 statement\ub97c \ubd84\ub9ac\ud568 "
     ]
    },
    {
     "cell_type": "code",
     "collapsed": false,
     "input": [
      "print 1; print 2"
     ],
     "language": "python",
     "metadata": {},
     "outputs": [
      {
       "output_type": "stream",
       "stream": "stdout",
       "text": [
        "1\n",
        "2\n"
       ]
      }
     ],
     "prompt_number": 69
    },
    {
     "cell_type": "markdown",
     "metadata": {},
     "source": [
      "- \uae30\ubcf8\uc801\uc73c\ub85c print\ub294 \ub9c8\uc9c0\ub9c9\uc5d0 \uc904\ubc14\uafc8\uc744 \ud558\uc9c0\ub9cc \ucf64\ub9c8(,)\uac00 \ub9c8\uc9c0\ub9c9\uc5d0 \uc788\uc73c\uba74 \uc904\ubc14\uafc8\uc744 \ud558\uc9c0 \uc54a\ub294\ub2e4."
     ]
    },
    {
     "cell_type": "code",
     "collapsed": false,
     "input": [
      "print 1,\n",
      "print 2"
     ],
     "language": "python",
     "metadata": {},
     "outputs": [
      {
       "output_type": "stream",
       "stream": "stdout",
       "text": [
        "1 2\n"
       ]
      }
     ],
     "prompt_number": 1
    },
    {
     "cell_type": "markdown",
     "metadata": {},
     "source": [
      "- +\uc5f0\uc0b0\uc790\ub294 \uc22b\uc790\uc640 \ubb38\uc790\uc5f4\uc5d0 \ub300\ud55c \uc5f0\uc0b0\uc744 \uc9c0\uc6d0\ud558\uc9c0 \uc54a\ub294\ub2e4."
     ]
    },
    {
     "cell_type": "code",
     "collapsed": false,
     "input": [
      "print 12 + 'spam'"
     ],
     "language": "python",
     "metadata": {},
     "outputs": [
      {
       "ename": "TypeError",
       "evalue": "unsupported operand type(s) for +: 'int' and 'str'",
       "output_type": "pyerr",
       "traceback": [
        "\u001b[0;31m---------------------------------------------------------------------------\u001b[0m\n\u001b[0;31mTypeError\u001b[0m                                 Traceback (most recent call last)",
        "\u001b[0;32m<ipython-input-71-84ee898a197b>\u001b[0m in \u001b[0;36m<module>\u001b[0;34m()\u001b[0m\n\u001b[0;32m----> 1\u001b[0;31m \u001b[0;32mprint\u001b[0m \u001b[0;36m12\u001b[0m \u001b[0;34m+\u001b[0m \u001b[0;34m'spam'\u001b[0m\u001b[0;34m\u001b[0m\u001b[0m\n\u001b[0m",
        "\u001b[0;31mTypeError\u001b[0m: unsupported operand type(s) for +: 'int' and 'str'"
       ]
      }
     ],
     "prompt_number": 71
    },
    {
     "cell_type": "code",
     "collapsed": false,
     "input": [
      "print '12' + 'spam'"
     ],
     "language": "python",
     "metadata": {},
     "outputs": [
      {
       "output_type": "stream",
       "stream": "stdout",
       "text": [
        "12spam\n"
       ]
      }
     ],
     "prompt_number": 4
    },
    {
     "cell_type": "markdown",
     "metadata": {},
     "source": [
      "<p style='text-align: right;'>\ucc38\uace0 \ubb38\ud5cc: \ud30c\uc774\uc36c(\uc5f4\ud608\uac15\uc758)(\uac1c\uc815\ud310 VER.2), \uc774\uac15\uc131, FreeLec, 2005\ub144 8\uc6d4 29\uc77c</p>"
     ]
    }
   ],
   "metadata": {}
  }
 ]
}