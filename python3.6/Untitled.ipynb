{
 "cells": [
  {
   "cell_type": "code",
   "execution_count": 1,
   "metadata": {},
   "outputs": [
    {
     "name": "stdout",
     "output_type": "stream",
     "text": [
      "4474029488\n",
      "4474029488\n",
      "True\n",
      "\n",
      "4513853680\n",
      "4513854096\n",
      "False\n"
     ]
    }
   ],
   "source": [
    "x = 1\n",
    "y = 1\n",
    "print(id(x))\n",
    "print(id(y))\n",
    "print(x is y)\n",
    "print()\n",
    "\n",
    "# 작은 값의 정수는 별도로 객체를 생성\n",
    "x2 = 1000000000000000000\n",
    "y2 = 1000000000000000000\n",
    "print(id(x2))\n",
    "print(id(y2))\n",
    "print(x2 is y2)"
   ]
  },
  {
   "cell_type": "code",
   "execution_count": 8,
   "metadata": {},
   "outputs": [
    {
     "name": "stdout",
     "output_type": "stream",
     "text": [
      "4513943152\n",
      "4513943152\n",
      "True\n"
     ]
    }
   ],
   "source": [
    "x = \"abcdefghijklmn\"\n",
    "y = \"abcdefghijklmn\"\n",
    "print(id(x))\n",
    "print(id(y))\n",
    "print(x is y)"
   ]
  },
  {
   "cell_type": "code",
   "execution_count": 10,
   "metadata": {},
   "outputs": [
    {
     "name": "stdout",
     "output_type": "stream",
     "text": [
      "8\n"
     ]
    }
   ],
   "source": [
    "a = 4\n",
    "b = 2\n",
    "print(a*b)"
   ]
  },
  {
   "cell_type": "code",
   "execution_count": 11,
   "metadata": {},
   "outputs": [
    {
     "name": "stdout",
     "output_type": "stream",
     "text": [
      "False\n",
      "True\n"
     ]
    }
   ],
   "source": [
    "print({0:0, 1:1} == {0:0, 1:2})\n",
    "print({0:0, 1:1} == {0:0, 1:1})"
   ]
  },
  {
   "cell_type": "code",
   "execution_count": 12,
   "metadata": {},
   "outputs": [
    {
     "name": "stdout",
     "output_type": "stream",
     "text": [
      "True\n",
      "True\n",
      "False\n",
      "False\n",
      "True\n"
     ]
    }
   ],
   "source": [
    "x = [1,2,3]\n",
    "y = [1,2,3]\n",
    "z = y\n",
    "\n",
    "print(x == y)\n",
    "print(x == z)\n",
    "print(x is y)\n",
    "print(x is z)\n",
    "print(y is z)"
   ]
  },
  {
   "cell_type": "code",
   "execution_count": 13,
   "metadata": {},
   "outputs": [
    {
     "name": "stdout",
     "output_type": "stream",
     "text": [
      "True\n",
      "True\n"
     ]
    }
   ],
   "source": [
    "print(x[0] == y[0])\n",
    "print(x[0] is y[0])"
   ]
  },
  {
   "cell_type": "code",
   "execution_count": 15,
   "metadata": {},
   "outputs": [
    {
     "name": "stdout",
     "output_type": "stream",
     "text": [
      "1569151624.751703\n",
      "<class 'float'>\n",
      "\n",
      "totalSeconds - 1569151624\n",
      "totalMinutes - 26152527\n",
      "totalHours - 435875\n",
      "현재 시각은 11 : 27 : 4 GMT 입니다.\n"
     ]
    }
   ],
   "source": [
    "import time\n",
    "\n",
    "currentTime = time.time()           # Unix Epoch 부터 현재까지 경과된 시각 (GMT/UST 기준)을 실수형 초 단위로 최대한 정확하게 얻어온다.\n",
    "print(currentTime)\n",
    "print(type(currentTime))\n",
    "print()\n",
    "\n",
    "totalSeconds = int(currentTime)     # 1970년 1월 1일 0시 이후부터 현재시각까지의 정수형 초 값을 얻어온다.\n",
    "print(\"totalSeconds -\", totalSeconds)\n",
    "currentSecond = totalSeconds % 60   # 현재 시각의 초 값을 얻어온다.\n",
    "\n",
    "totalMinutes = totalSeconds // 60   # 전체 분 값을 계산한다. \n",
    "print(\"totalMinutes -\", totalMinutes)\n",
    "currentMinute = totalMinutes % 60   # 현재 시각의 분 값을 얻어온다.\n",
    "\n",
    "totalHours = totalMinutes // 60      # 전체 시 값을 계산한다.\n",
    "print(\"totalHours -\", totalHours)\n",
    "currentHours = totalHours % 24      # 현재 시각의 시 값을 얻어온다.\n",
    "\n",
    "print(\"현재 시각은\", currentHours, \":\", currentMinute, \":\", currentSecond, \"GMT 입니다.\")"
   ]
  },
  {
   "cell_type": "code",
   "execution_count": null,
   "metadata": {},
   "outputs": [],
   "source": []
  }
 ],
 "metadata": {
  "kernelspec": {
   "display_name": "Python 3",
   "language": "python",
   "name": "python3"
  },
  "language_info": {
   "codemirror_mode": {
    "name": "ipython",
    "version": 3
   },
   "file_extension": ".py",
   "mimetype": "text/x-python",
   "name": "python",
   "nbconvert_exporter": "python",
   "pygments_lexer": "ipython3",
   "version": "3.6.8"
  }
 },
 "nbformat": 4,
 "nbformat_minor": 2
}
