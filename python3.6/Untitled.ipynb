{
 "cells": [
  {
   "cell_type": "code",
   "execution_count": 11,
   "metadata": {},
   "outputs": [
    {
     "name": "stdout",
     "output_type": "stream",
     "text": [
      "['spam', [1], 'ham', 123, 1234]\n"
     ]
    }
   ],
   "source": [
    "a = [123, 1234]\n",
    "b = ['spam', [1], 'ham']\n",
    "a[0:0] = b\n",
    "print(a)"
   ]
  },
  {
   "cell_type": "code",
   "execution_count": 6,
   "metadata": {},
   "outputs": [
    {
     "name": "stdout",
     "output_type": "stream",
     "text": [
      "3\n"
     ]
    }
   ],
   "source": [
    "print(len(a))"
   ]
  },
  {
   "cell_type": "code",
   "execution_count": 13,
   "metadata": {},
   "outputs": [
    {
     "name": "stdout",
     "output_type": "stream",
     "text": [
      "[1, 2, 3, 6, 6, 8, 9]\n",
      "[9, 8, 6, 6, 3, 2, 1]\n",
      "[1, 2, 3, 6, 6, 8, 9]\n"
     ]
    }
   ],
   "source": [
    "L = [1, 6, 3, 8, 6, 2, 9]\n",
    "L.sort()\n",
    "print(L)\n",
    "L.sort(reverse=True) # L.sort(reverse = 1)\n",
    "print(L)\n",
    "L.sort(reverse=False) # L.sort(reverse = 1)\n",
    "print(L)"
   ]
  },
  {
   "cell_type": "code",
   "execution_count": null,
   "metadata": {},
   "outputs": [],
   "source": []
  }
 ],
 "metadata": {
  "kernelspec": {
   "display_name": "Python 3",
   "language": "python",
   "name": "python3"
  },
  "language_info": {
   "codemirror_mode": {
    "name": "ipython",
    "version": 3
   },
   "file_extension": ".py",
   "mimetype": "text/x-python",
   "name": "python",
   "nbconvert_exporter": "python",
   "pygments_lexer": "ipython3",
   "version": "3.6.8"
  }
 },
 "nbformat": 4,
 "nbformat_minor": 2
}
