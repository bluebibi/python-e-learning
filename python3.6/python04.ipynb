{
 "metadata": {
  "name": "",
  "signature": "sha256:d741b33c2e388a74e523537b59691d549be7e1f2e8d247cdb03a101bac3eea2b"
 },
 "nbformat": 3,
 "nbformat_minor": 0,
 "worksheets": [
  {
   "cells": [
    {
     "cell_type": "markdown",
     "metadata": {},
     "source": [
      "***\n",
      "***\n",
      "# 4. \ub9ac\uc2a4\ud2b8, \ud29c\ud50c, \uc0ac\uc804 \ubc0f \ub0b4\uc7a5 \uc790\ub8cc\ud615 \ud2b9\uc131\n",
      "***\n",
      "***"
     ]
    },
    {
     "cell_type": "markdown",
     "metadata": {},
     "source": [
      "***\n",
      "## 1 \ub9ac\uc2a4\ud2b8, \ud29c\ud50c, \uc0ac\uc804\n",
      "***"
     ]
    },
    {
     "cell_type": "markdown",
     "metadata": {},
     "source": [
      "### 1-1 \ub9ac\uc2a4\ud2b8\uc758 \uc815\uc758\uc640 \ub9ac\uc2a4\ud2b8 \uae30\ubcf8 \uc5f0\uc0b0\n",
      "- \ub9ac\uc2a4\ud2b8: \uc784\uc758\uc758 \uac1d\uccb4\ub97c \uc21c\ucc28\uc801\uc73c\ub85c \uc800\uc7a5\ud558\ub294 \uc9d1\ud569\uc801 \uc790\ub8cc\ud615\n",
      "- \ubb38\uc790\uc5f4\uc774 \uc9c0\ub2cc \ub300\ubd80\ubd84\uc758 \uc5f0\uc0b0\ub4e4\uc740 \ub9ac\uc2a4\ud2b8\ub3c4 \uc9c0\uc6d0"
     ]
    },
    {
     "cell_type": "code",
     "collapsed": false,
     "input": [
      "L = [1,2,3]\n",
      "print type(L)\n",
      "print\n",
      "print len(L)\n",
      "print\n",
      "print L[1]\n",
      "print L[-1]\n",
      "print L[1:3]\n",
      "print\n",
      "print L + L\n",
      "print L * 3"
     ],
     "language": "python",
     "metadata": {},
     "outputs": [
      {
       "output_type": "stream",
       "stream": "stdout",
       "text": [
        "<type 'list'>\n",
        "\n",
        "3\n",
        "\n",
        "2\n",
        "3\n",
        "[2, 3]\n",
        "\n",
        "[1, 2, 3, 1, 2, 3]\n",
        "[1, 2, 3, 1, 2, 3, 1, 2, 3]\n"
       ]
      }
     ],
     "prompt_number": 4
    },
    {
     "cell_type": "markdown",
     "metadata": {},
     "source": [
      "- \ub9ac\uc2a4\ud2b8\ub294 \ubcc0\uacbd \uac00\ub2a5"
     ]
    },
    {
     "cell_type": "code",
     "collapsed": false,
     "input": [
      "l1 = [4,5,6]\n",
      "l1[0] = 10\n",
      "print l1"
     ],
     "language": "python",
     "metadata": {},
     "outputs": [
      {
       "output_type": "stream",
       "stream": "stdout",
       "text": [
        "[10, 5, 6]\n"
       ]
      }
     ],
     "prompt_number": 3
    },
    {
     "cell_type": "markdown",
     "metadata": {},
     "source": [
      "![image](images/changeListElement.png)"
     ]
    },
    {
     "cell_type": "markdown",
     "metadata": {},
     "source": [
      "- \ub3d9\uc77c\ud55c \ubcc0\uc218\uc5d0 \ub2e4\ub978 \ub9ac\uc2a4\ud2b8\ub97c \ud560\ub2f9\ud558\ub294 \uac83\uc740 \ud574\ub2f9 \ubcc0\uc218\uc758 \ub808\ud37c\ub7f0\uc2a4\ub97c \ubcc0\uacbd\ud568"
     ]
    },
    {
     "cell_type": "code",
     "collapsed": false,
     "input": [
      "l1 = [1,2,3]\n",
      "l1 = [4,5,6]\n",
      "print l1"
     ],
     "language": "python",
     "metadata": {},
     "outputs": [
      {
       "output_type": "stream",
       "stream": "stdout",
       "text": [
        "[4, 5, 6]\n"
       ]
      }
     ],
     "prompt_number": 4
    },
    {
     "cell_type": "markdown",
     "metadata": {},
     "source": [
      "![image](images/referenceChangeList.png)"
     ]
    },
    {
     "cell_type": "markdown",
     "metadata": {},
     "source": [
      "### 1-2 range() \ud568\uc218\ub97c \ud1b5\ud55c \uc778\ub371\uc2a4 \ub9ac\uc2a4\ud2b8 \uc0dd\uc131\n",
      "- range(k): 0\ubd80\ud130 k-1\uae4c\uc9c0\uc758 \uc22b\uc790\uc758 \ub9ac\uc2a4\ud2b8\ub97c \ubc18\ud658\ud568 "
     ]
    },
    {
     "cell_type": "code",
     "collapsed": false,
     "input": [
      "L = range(10)\n",
      "print L\n",
      "print L[::2]\n",
      "print L[::-1]\n",
      "print 4 in L"
     ],
     "language": "python",
     "metadata": {},
     "outputs": [
      {
       "output_type": "stream",
       "stream": "stdout",
       "text": [
        "[0, 1, 2, 3, 4, 5, 6, 7, 8, 9]\n",
        "[0, 2, 4, 6, 8]\n",
        "[9, 8, 7, 6, 5, 4, 3, 2, 1, 0]\n",
        "True\n"
       ]
      }
     ],
     "prompt_number": 5
    },
    {
     "cell_type": "markdown",
     "metadata": {},
     "source": [
      "### 1-3 \ud29c\ud50c\uc758 \uc815\uc758\uc640 \uae30\ubcf8 \uc5f0\uc0b0\n",
      "- \ud29c\ud50c: \ub9ac\uc2a4\ud2b8\uc640 \uc720\uc0ac\ud558\uc9c0\ub9cc \ud29c\ud50c \ub0b4\uc758 \uac12\uc744 \ubcc0\uacbd\ud560 \uc218 \uc5c6\uc74c\n",
      "  - \uc801\ud569\ud55c \uc0ac\uc6a9 \uc608\n",
      "    - months = ('January','February','March','April','May','June','July','August','September','October','November','  December')\n",
      "    - \uac01 \uac12\uc5d0 \ub300\ud574 \uc778\ub371\uc2a4\uac00 \ubd80\uc5ec\ub428\n",
      "- \ubb38\uc790\uc5f4\uc774 \uc9c0\ub2cc \ub300\ubd80\ubd84\uc758 \uc5f0\uc0b0\ub4e4\uc740 \ud29c\ud50c\ub3c4 \uc9c0\uc6d0"
     ]
    },
    {
     "cell_type": "code",
     "collapsed": false,
     "input": [
      "t = (1,2,3)\n",
      "\n",
      "print len(t)\n",
      "print\n",
      "print t[0]\n",
      "print t[-1]\n",
      "print t[0:2]\n",
      "print t[::2]\n",
      "print\n",
      "print t + t + t\n",
      "print t * 3\n",
      "print\n",
      "print 3 in t"
     ],
     "language": "python",
     "metadata": {},
     "outputs": [
      {
       "output_type": "stream",
       "stream": "stdout",
       "text": [
        "3\n",
        "\n",
        "1\n",
        "3\n",
        "(1, 2)\n",
        "(1, 3)\n",
        "\n",
        "(1, 2, 3, 1, 2, 3, 1, 2, 3)\n",
        "(1, 2, 3, 1, 2, 3, 1, 2, 3)\n",
        "\n",
        "True\n"
       ]
      }
     ],
     "prompt_number": 9
    },
    {
     "cell_type": "markdown",
     "metadata": {},
     "source": [
      "### 1-4 \ud29c\ud50c\uc758 \uc0c1\uc218\uc801 \uc131\uaca9\n",
      "- \ud29c\ud50c\uc740 \ub0b4\uc6a9 \ubcc0\uacbd \ubd88\uac00"
     ]
    },
    {
     "cell_type": "code",
     "collapsed": false,
     "input": [
      "t = (1,2,3)\n",
      "\n",
      "t[0] = 100"
     ],
     "language": "python",
     "metadata": {},
     "outputs": [
      {
       "ename": "TypeError",
       "evalue": "'tuple' object does not support item assignment",
       "output_type": "pyerr",
       "traceback": [
        "\u001b[0;31m---------------------------------------------------------------------------\u001b[0m\n\u001b[0;31mTypeError\u001b[0m                                 Traceback (most recent call last)",
        "\u001b[0;32m<ipython-input-105-b050fc22719c>\u001b[0m in \u001b[0;36m<module>\u001b[0;34m()\u001b[0m\n\u001b[1;32m      1\u001b[0m \u001b[0mt\u001b[0m \u001b[0;34m=\u001b[0m \u001b[0;34m(\u001b[0m\u001b[0;36m1\u001b[0m\u001b[0;34m,\u001b[0m\u001b[0;36m2\u001b[0m\u001b[0;34m,\u001b[0m\u001b[0;36m3\u001b[0m\u001b[0;34m)\u001b[0m\u001b[0;34m\u001b[0m\u001b[0m\n\u001b[1;32m      2\u001b[0m \u001b[0;34m\u001b[0m\u001b[0m\n\u001b[0;32m----> 3\u001b[0;31m \u001b[0mt\u001b[0m\u001b[0;34m[\u001b[0m\u001b[0;36m0\u001b[0m\u001b[0;34m]\u001b[0m \u001b[0;34m=\u001b[0m \u001b[0;36m100\u001b[0m\u001b[0;34m\u001b[0m\u001b[0m\n\u001b[0m",
        "\u001b[0;31mTypeError\u001b[0m: 'tuple' object does not support item assignment"
       ]
      }
     ],
     "prompt_number": 105
    },
    {
     "cell_type": "markdown",
     "metadata": {},
     "source": [
      "- \ubc18\uba74\uc5d0 \ub9ac\uc2a4\ud2b8\ub294 \ub0b4\uc6a9 \ubcc0\uacbd \uac00\ub2a5"
     ]
    },
    {
     "cell_type": "code",
     "collapsed": false,
     "input": [
      "L = [1,2,3]\n",
      "L[0] = 100\n",
      "\n",
      "print L"
     ],
     "language": "python",
     "metadata": {},
     "outputs": [
      {
       "output_type": "stream",
       "stream": "stdout",
       "text": [
        "[100, 2, 3]\n"
       ]
      }
     ],
     "prompt_number": 107
    },
    {
     "cell_type": "markdown",
     "metadata": {},
     "source": [
      "### 1-5 \uc0ac\uc804\uc758 \uc815\uc758\uc640 \uae30\ubcf8 \uc0ac\uc6a9\ubc95\n",
      "- \uc815\uc218\ud615 \uc778\ub371\uc2a4\uac00 \uc544\ub2cc \ud0a4\ub97c \uc774\uc6a9\ud558\uc5ec \uac12\uc744 \uc800\uc7a5\ud558\ub294 \uc790\ub8cc \uad6c\uc870\n",
      "  - \uc800\uc7a5\ub41c \uac01 \uc790\ub8cc\uc5d0 \ub300\ud55c \uc21c\uc11c\ub294 \uc758\ubbf8 \uc5c6\uc74c\n",
      "- \ub9e4\ud551(Mapping) \ud568\uc218\uc640 \ube44\uc2b7\ud55c \uc5ed\ud560\uc744 \ud568\n",
      "  - x\ub77c\ub294 \ud0a4\uac12\uc744 \ub123\uc73c\uba74 \uac12 y\ub97c \ubc18\ud658\ud568"
     ]
    },
    {
     "cell_type": "code",
     "collapsed": false,
     "input": [
      "d = {'one': 'hana', 'two': 'dul', 'three': 'set'}\n",
      "print d['one']\n"
     ],
     "language": "python",
     "metadata": {},
     "outputs": [
      {
       "output_type": "stream",
       "stream": "stdout",
       "text": [
        "hana\n"
       ]
      }
     ],
     "prompt_number": 109
    },
    {
     "cell_type": "code",
     "collapsed": false,
     "input": [
      "d = {'one': 'hana', 'two': 'dul', 'three': 'set'}\n",
      "d['four'] = 'net' # \uc0c8 \ud56d\ubaa9\uc758 \uc0bd\uc785\n",
      "print d\n",
      "d['one'] = 1      # \uae30\uc874 \ud56d\ubaa9\uc758 \uac12 \ubcc0\uacbd\n",
      "print d\n",
      "print 'one' in d  # \ud0a4\uc5d0 \ub300\ud55c \uba64\ubc84\uc27d \ud14c\uc2a4\ud2b8"
     ],
     "language": "python",
     "metadata": {},
     "outputs": [
      {
       "output_type": "stream",
       "stream": "stdout",
       "text": [
        "{'four': 'net', 'three': 'set', 'two': 'dul', 'one': 'hana'}\n",
        "{'four': 'net', 'three': 'set', 'two': 'dul', 'one': 1}\n",
        "True\n"
       ]
      }
     ],
     "prompt_number": 13
    },
    {
     "cell_type": "code",
     "collapsed": false,
     "input": [
      "d = {'one': 1, 'two': 'dul', 'three': 'set', 'four': 'net'}\n",
      "print d.keys()    # \ud0a4\ub9cc \ub9ac\uc2a4\ud2b8\ub85c \ucd94\ucd9c\ud568\n",
      "print d.values()  # \uac12\ub9cc \ub9ac\uc2a4\ud2b8\ub85c \ucd94\ucd9c\ud568\n",
      "print d.items()   # \ud0a4\uc640 \uac12\uc758 \ud29c\ud50c\uc744 \ub9ac\uc2a4\ud2b8\ub85c \ubc18\ud658\ud568"
     ],
     "language": "python",
     "metadata": {},
     "outputs": [
      {
       "output_type": "stream",
       "stream": "stdout",
       "text": [
        "['four', 'three', 'two', 'one']\n",
        "['net', 'set', 'dul', 1]\n",
        "[('four', 'net'), ('three', 'set'), ('two', 'dul'), ('one', 1)]\n"
       ]
      }
     ],
     "prompt_number": 17
    },
    {
     "cell_type": "markdown",
     "metadata": {},
     "source": [
      "***\n",
      "## 2 \ub0b4\uc7a5 \uc790\ub8cc\ud615\uc758 \uc815\ub9ac\uc640 \uac1d\uccb4 \uc2e0\uc6d0 \ud30c\uc545\n",
      "***"
     ]
    },
    {
     "cell_type": "markdown",
     "metadata": {},
     "source": [
      "### 2-1 \ub0b4\uc7a5 \uc790\ub8cc\ud615\uc758 \ud2b9\uc131 \uc815\ub9ac"
     ]
    },
    {
     "cell_type": "markdown",
     "metadata": {},
     "source": [
      "| \uc790\ub8cc\ud615 |   \uc800\uc7a5/\uc811\uadfc \ubc29\ubc95  | \ubcc0\uacbd \uac00\ub2a5\uc131 |       \uc800\uc7a5 \ubaa8\ub378      |\n",
      "|:------:|:-----------------:|:-----------:|:--------------------:|\n",
      "| \uc218\uce58\ud615 |    \uc9c1\uc811(Direct)   |     \ubcc0\uacbd\ubd88\uac00\ub2a5(Immutable)    |   \ub9ac\ud130\ub7f4 (Literal)   |\n",
      "| \ubb38\uc790\uc5f4 | \uc2dc\ud000\uc2a4 (Sequence) |     \ubcc0\uacbd\ubd88\uac00\ub2a5(Immutable)    |   \ub9ac\ud130\ub7f4 (Literal)   |\n",
      "| \ub9ac\uc2a4\ud2b8 | \uc2dc\ud000\uc2a4 (Sequence) |     \ubcc0\uacbd\uac00\ub2a5(Mutable)    | \ucee8\ud14c\uc774\ub108 (Container) |\n",
      "|  \ud29c\ud50c  | \uc2dc\ud000\uc2a4 (Sequence) |     \ubcc0\uacbd\ubd88\uac00\ub2a5(Immutable)    | \ucee8\ud14c\uc774\ub108 (Container) |\n",
      "|  \uc0ac\uc804  |   \ub9e4\ud551 (Mapping)  |     \ubcc0\uacbd\uac00\ub2a5(Mutable)    | \ucee8\ud14c\uc774\ub108 (Container) |"
     ]
    },
    {
     "cell_type": "markdown",
     "metadata": {},
     "source": [
      "### 2-2 \ub0b4\uc7a5 \uc790\ub8cc\ud615 \uc54c\uc544\ubcf4\uae30"
     ]
    },
    {
     "cell_type": "code",
     "collapsed": false,
     "input": [
      "print type(3)       #\uc815\uc218\n",
      "print type(3.3)     #\uc2e4\uc218\n",
      "print type('abc')   #\ubb38\uc790\uc5f4"
     ],
     "language": "python",
     "metadata": {},
     "outputs": [
      {
       "output_type": "stream",
       "stream": "stdout",
       "text": [
        "<type 'int'>\n",
        "<type 'float'>\n",
        "<type 'str'>\n"
       ]
      }
     ],
     "prompt_number": 1
    },
    {
     "cell_type": "code",
     "collapsed": false,
     "input": [
      "print type([])      #\ub9ac\uc2a4\ud2b8\n",
      "print type(())      #\ud29c\ud50c\n",
      "print type({})      #\uc0ac\uc804(dict)"
     ],
     "language": "python",
     "metadata": {},
     "outputs": [
      {
       "output_type": "stream",
       "stream": "stdout",
       "text": [
        "<type 'list'>\n",
        "<type 'tuple'>\n",
        "<type 'dict'>\n"
       ]
      }
     ],
     "prompt_number": 2
    },
    {
     "cell_type": "markdown",
     "metadata": {},
     "source": [
      "- \uc790\ub8cc\ud615\uc758 \ube44\uad50"
     ]
    },
    {
     "cell_type": "code",
     "collapsed": false,
     "input": [
      "a = 0\n",
      "L = [1,2,3]\n",
      "print type(a) == type(0)\n",
      "print type(L) == type([])\n",
      "print type(L[0]) == type(0)"
     ],
     "language": "python",
     "metadata": {},
     "outputs": [
      {
       "output_type": "stream",
       "stream": "stdout",
       "text": [
        "True\n",
        "True\n",
        "True\n"
       ]
      }
     ],
     "prompt_number": 41
    },
    {
     "cell_type": "code",
     "collapsed": false,
     "input": [
      "print type(None)    #None \uac1d\uccb4, \uc544\ubb34 \uac12\ub3c4 \uc5c6\ub2e4(\ud639\uc740 \uc544\ub2c8\ub2e4)\ub97c \ub098\ud0c0\ub0b4\ub294 \uac1d\uccb4\n",
      "print\n",
      "a = None\n",
      "print a\n",
      "print type(a)"
     ],
     "language": "python",
     "metadata": {},
     "outputs": [
      {
       "output_type": "stream",
       "stream": "stdout",
       "text": [
        "<type 'NoneType'>\n",
        "\n",
        "None\n",
        "<type 'NoneType'>\n"
       ]
      }
     ],
     "prompt_number": 2
    },
    {
     "cell_type": "markdown",
     "metadata": {},
     "source": [
      "### 2-3 \uac1d\uccb4\uc758 \uc2e0\uc6d0 \uc2dd\ubcc4\ud558\uae30"
     ]
    },
    {
     "cell_type": "markdown",
     "metadata": {},
     "source": [
      "- id(): \uac1d\uccb4\uc758 \uc2dd\ubcc4\uc790\ub97c \ubc18\ud658\ud55c\ub2e4."
     ]
    },
    {
     "cell_type": "code",
     "collapsed": false,
     "input": [
      "a = 500\n",
      "b = a\n",
      "print id(a)\n",
      "print id(b)\n",
      "print\n",
      "x = 1\n",
      "y = 1\n",
      "print id(x)\n",
      "print id(y)"
     ],
     "language": "python",
     "metadata": {},
     "outputs": [
      {
       "output_type": "stream",
       "stream": "stdout",
       "text": [
        "4478569376\n",
        "4478569376\n",
        "\n",
        "4298182776\n",
        "4298182776\n"
       ]
      }
     ],
     "prompt_number": 58
    },
    {
     "cell_type": "markdown",
     "metadata": {},
     "source": [
      "- is \ud0a4\uc6cc\ub4dc: \ub450 \uac1d\uccb4\uc758 \uc2dd\ubcc4\uc790\uac00 \ub3d9\uc77c\ud55c\uc9c0 \ud14c\uc2a4\ud2b8\ud55c\ub2e4."
     ]
    },
    {
     "cell_type": "code",
     "collapsed": false,
     "input": [
      "c = [1,2,3]\n",
      "d = [1,2,3]\n",
      "print c is d\n",
      "\n",
      "a = 500\n",
      "b = a\n",
      "print a is b\n",
      "\n",
      "x = 1\n",
      "y = 1\n",
      "print x is y\n",
      "\n",
      "e = f = [4,5,6]\n",
      "print e is f"
     ],
     "language": "python",
     "metadata": {},
     "outputs": [
      {
       "output_type": "stream",
       "stream": "stdout",
       "text": [
        "False\n",
        "True\n",
        "True\n",
        "True\n"
       ]
      }
     ],
     "prompt_number": 60
    },
    {
     "cell_type": "markdown",
     "metadata": {},
     "source": [
      "- == \uc5f0\uc0b0\uc790: \ub450 \uac1d\uccb4\uc758 \uac12\uc774 \ub3d9\uc77c\ud55c\uc9c0\ub97c \ud14c\uc2a4\ud2b8\ud55c\ub2e4."
     ]
    },
    {
     "cell_type": "code",
     "collapsed": false,
     "input": [
      "c = [1,2,3]\n",
      "d = [1,2,3]\n",
      "c == d"
     ],
     "language": "python",
     "metadata": {},
     "outputs": [
      {
       "metadata": {},
       "output_type": "pyout",
       "prompt_number": 150,
       "text": [
        "True"
       ]
      }
     ],
     "prompt_number": 150
    },
    {
     "cell_type": "markdown",
     "metadata": {},
     "source": [
      "<p style='text-align: right;'>\ucc38\uace0 \ubb38\ud5cc: \ud30c\uc774\uc36c(\uc5f4\ud608\uac15\uc758)(\uac1c\uc815\ud310 VER.2), \uc774\uac15\uc131, FreeLec, 2005\ub144 8\uc6d4 29\uc77c</p>"
     ]
    }
   ],
   "metadata": {}
  }
 ]
}