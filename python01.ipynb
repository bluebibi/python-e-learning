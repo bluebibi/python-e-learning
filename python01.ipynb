{
 "metadata": {
  "name": "",
  "signature": "sha256:bf53c0d54c7ad670b9f104a286692af1c12dbb2be017d9e0b50cb675ab32bfee"
 },
 "nbformat": 3,
 "nbformat_minor": 0,
 "worksheets": [
  {
   "cells": [
    {
     "cell_type": "markdown",
     "metadata": {},
     "source": [
      "***\n",
      "***\n",
      "# 1\ud68c. Python \uc2dc\uc791\ud558\uae30\n",
      "***\n",
      "***"
     ]
    },
    {
     "cell_type": "markdown",
     "metadata": {},
     "source": [
      "***\n",
      "## 1. \uc2a4\ud06c\ub9bd\ud2b8 \uc5b8\uc5b4\uc758 \uc774\ud574\n",
      "***"
     ]
    },
    {
     "cell_type": "markdown",
     "metadata": {},
     "source": [
      "### 1-1 \uc2a4\ud06c\ub9bd\ud2b8(Script) \uc5b8\uc5b4\ub780 \ubb34\uc5c7\uc778\uac00?\n",
      "- \uc2a4\ud06c\ub9bd\ud2b8(scripts)\uc758 \uc0ac\uc804\uc801 \uc758\ubbf8 - \uc5f0\uadf9\uc758 \ub300\uc0ac\ub4f1\uc774 \uc801\ud600 \uc788\ub294 \uc2a4\ud06c\ub9bd\ud2b8\uc5d0\uc11c \uc720\ub798\n",
      "- Script Language\uc758 wikipedia \uc815\uc758 (http://en.wikipedia.org/wiki/Scripting_language)\n",
      "  - a programming language that supports scripts, programs written for a special run-time environment that can interpret (rather than compile) and automate the execution of tasks that could alternatively be executed one-by-one by a human operator"
     ]
    },
    {
     "cell_type": "markdown",
     "metadata": {},
     "source": [
      "### 1-2 \ucef4\ud30c\uc77c \uc5b8\uc5b4\uc640 \uc2a4\ud06c\ub9bd\ud2b8 \uc5b8\uc5b4\uc640\uc758 \ube44\uad50 \n",
      "- \ucef4\ud30c\uc77c(Compile) \ubc29\uc2dd\uc758 \uc5b8\uc5b4\uc5d0 \uc758\ud574 \uc791\uc131\ub418\ub294 \uc751\uc6a9 \ud504\ub85c\uadf8\ub7a8\uc740 \ucef4\ud30c\uc77c\ub7ec\uc5d0 \uc758\ud574 \uae30\uacc4\uc5b4\ub85c \ubc88\uc5ed\ub41c \ucc44\ub85c \uc2e4\ud589\ub418\uae30 \ub54c\ubb38\uc5d0, \uc218\uc815\uc774 \ube48\ubc88\ud558\uac8c \ubc1c\uc0dd\ud560 \uacbd\uc6b0\uc5d0\ub294 \uc218\uc815 \ud6c4 \ub2e4\uc2dc \ucef4\ud30c\uc77c\uc744 \ud574\uc57c\ud568.\n",
      "  - \ub369\uce58\uac00 \ud070 \ud504\ub85c\uadf8\ub7a8\uc740 \ucef4\ud30c\uc77c \uc2dc\uac04\uc774 \uaf64 \uae38\ub2e4. \uc989, \uac04\ub2e8\ud55c \uc218\uc815\uc5d0\ub3c4 \uc624\ub79c\uae30\uac04\uc758 \ucef4\ud30c\uc77c \uc2dc\uac04\uc774 \uc694\uad6c\ub41c\ub2e4. "
     ]
    },
    {
     "cell_type": "markdown",
     "metadata": {},
     "source": [
      "![](./images/compiler_interpreter2.png)"
     ]
    },
    {
     "cell_type": "markdown",
     "metadata": {},
     "source": [
      "- \ubc18\uba74\uc5d0 \uc218\uc815\uc774 \ube48\ubc88\ud558\uac8c \ubc1c\uc0dd\ud558\ub294 \uacbd\uc6b0\uc5d0\ub294 \uc18c\uc2a4 \ucf54\ub4dc\ub97c \ud55c\uc904 \ud55c\uc904 \uc77d\uc5b4 \ubc14\ub85c\ubc14\ub85c \uc2e4\ud589\ud558\ub294 \uc778\ud130\ud504\ub9ac\ud130 \ubc29\uc2dd\uc774 \uc0c1\ub2f9\ud788 \uc720\ub9ac\ud558\ub2e4. \n",
      "- \uc2a4\ud06c\ub9bd\ud2b8 \uc18c\uc2a4\ucf54\ub4dc\ub97c \ucef4\ud30c\uc77c \ubc29\uc2dd\uc5d0 \uc758\ud574 \uc911\uac04 \ucf54\ub4dc(Bytecode)\ub85c \uc6b0\uc120 \ub9cc\ub4e4\uace0, \uc774\ub97c \ub2e4\uc2dc \uc778\ud130\ud504\ub9ac\ud130 \ubc29\uc2dd\uc73c\ub85c \ud574\uc11d\ud558\uc5ec \uc218\ud589\ud558\ub294 \ubc29\ubc95\ub3c4 \uc885\uc885 \ud65c\uc6a9\ub41c\ub2e4."
     ]
    },
    {
     "cell_type": "markdown",
     "metadata": {},
     "source": [
      "![](./images/bytecode.png)"
     ]
    },
    {
     "cell_type": "markdown",
     "metadata": {},
     "source": [
      "- \uc2a4\ud06c\ub9bd\ud2b8 \uc5b8\uc5b4\uc758 \uc7a5\uc810\n",
      "  - \uac1c\ubc1c \uc2dc\uac04\uc774 \ub2e8\ucd95\ub41c\ub2e4.\n",
      "  - \uc18c\uc2a4 \ucf54\ub4dc \uc218\uc815\uc774 \ube60\ub974\uace0 \uac04\ub2e8\ud558\uac8c \uc774\ub8e8\uc5b4\uc9c4\ub2e4.\n",
      "- \uc2a4\ud06c\ub9bd\ud2b8 \uc5b8\uc5b4\uc758 \ub2e8\uc810\n",
      "  - \uc911\uac04 \ucf54\ub4dc\ub97c \ub9cc\ub4dc\ub294 \uac83\uc740 \uac04\ub2e8\ud558\uc9c0\ub9cc \uadf8\uac83\uc744 \uc2e4\uc81c\ub85c \uc2e4\ud589\uc2dc\ud0a4\ub294 \uac83\uc740 \ub9ce\uc740 \uc791\uc5c5\uc744 \ud544\uc694\ub85c \ud55c\ub2e4.\n",
      "  - \uc2e4\ud589 \uc2dc\uac04\uc774 \uc624\ub798 \uac78\ub9b0\ub2e4."
     ]
    },
    {
     "cell_type": "markdown",
     "metadata": {},
     "source": [
      "### 1-3 \ub300\ud45c\uc801\uc778 \uc2a4\ud06c\ub9bd\ud2b8 \uc5b8\uc5b4 \n",
      "- JavaScript\n",
      "- ActionScript\n",
      "- Perl\n",
      "- PHP\n",
      "- Python\n",
      "- Lua\n",
      "- Ruby"
     ]
    },
    {
     "cell_type": "markdown",
     "metadata": {},
     "source": [
      "***\n",
      "## 2 \ud30c\uc774\uc36c \uc5b8\uc5b4\uc758 \uc720\ub798 \ubc0f \ud2b9\uc9d5\n",
      "***"
     ]
    },
    {
     "cell_type": "markdown",
     "metadata": {},
     "source": [
      "### 2-1 \ud30c\uc774\uc36c\uc774\ub780 \ubb34\uc5c7\uc778\uac00?"
     ]
    },
    {
     "cell_type": "markdown",
     "metadata": {},
     "source": [
      "- Python\uc758 \uc0ac\uc804\uc801 \uc758\ubbf8\ub294 \ub3c5\uc774 \uc5c6\ub294 \ubc40\uc73c\ub85c \uba39\uc774\ub97c \ubab8\uc73c\ub85c \uac10\uc544\uc11c \uc555\uc0ac\uc2dc\ud0a4\ub294 \ud070\ubc40, \ub610\ub294 \uadf8\ub9ac\uc2a4 \uc2e0\ud654\uc5d0 \ub098\uc624\ub294 \uc545\ub9c8"
     ]
    },
    {
     "cell_type": "markdown",
     "metadata": {},
     "source": [
      "### 2-2 \uc65c \ud30c\uc774\uc36c\uc774\ub780 \uc774\ub984\uc774 \ubd99\uc5c8\ub098?"
     ]
    },
    {
     "cell_type": "markdown",
     "metadata": {},
     "source": [
      "- \ud504\ub85c\uadf8\ub798\ubc0d \uc5b8\uc5b4\ub85c\uc11c Python \uc774\ub984\uc758 \uc720\ub798\ub294 1970\ub144\ub300\uc5d0 \uc601\uad6d BBC\uc5d0\uc11c \ubc29\uc601\ud55c \"Monty Python's Flying Circus\" \ubc29\uc601 \ud504\ub85c\uadf8\ub7a8\uc5d0\uc11c \uc720\ub798\ub418\uc5c8\ub2e4. \uc774 \ud504\ub85c\uadf8\ub7a8\uc740 \ub9e4\uc6b0 \uc5b4\uc0c9\ud558\uace0 \uc774\uc0c1\ud55c \ud589\ub3d9\uc744 \ubcf4\uc774\ub294 \uc0ac\ub78c\ub4e4\uc744 \uc1fc\ud615\ud0dc\ub85c \ubc29\uc601\ud558\uc5ec \ub9ce\uc740 \uc778\uae30\ub97c \ub204\ub838\ub2e4. \n",
      "- \uc774 \uc5b8\uc5b4\ub97c \ub9cc\ub4e0 <a href=\"http://en.wikipedia.org/wiki/Guido_van_Rossum\" target=\"_blank\">Guido van Rossum</a>\uc774 \uc774 \ud504\ub85c\uadf8\ub7a8\uc758 \ub300\ub2e8\ud55c \ud32c\uc774\uc5c8\uae30 \ub54c\ubb38\uc774\uc5c8\ub2e4. \n",
      "- 1989\ub144 12\uc6d4 \ud06c\ub9ac\uc2a4\ub9c8\uc2a4 \ud734\uac00\ub97c \ubcf4\ub0b4\uace0 \uc788\ub358 Guido\ub294 \ud734\uac00 \uae30\uac04\ub3d9\uc548 \ubb34\uc5c7\uc778\uac00 \uc7ac\ubbf8\uc788\uac8c \ud560 \uc218 \uc788\ub294 \ubb34\uc5b8\uac00\ub97c \ucc3e\uace0 \uc788\uc5c8\ub2e4. \n",
      "- \uc5f0\ud734\ub77c\uc11c \uc5f0\uad6c\uc2e4\uc774 \ub2eb\ud78c \uc0c1\ud669\uc5d0\uc11c \uc9d1\uc5d0\uc11c \ucef4\ud4e8\ud130\ub97c \uac00\uc9c0\uace0 \uc608\uc804\ubd80\ud130 \uc0dd\uac01\ud558\uace0 \uc788\uc5c8\ub358 \uc778\ud130\ud504\ub9ac\ud130(interpreter)\ub97c \ub9cc\ub4e4\uc5b4 \ubcf4\uae30\ub85c \uacb0\uc2ec\ud558\uc600\ub2e4. \n",
      "- \uc989, Guido\uac00 \ubb34\ub8cc\ud55c \ud55c\ub54c\ub97c \ubcf4\ub0b4\uae30 \uc704\ud558\uc5ec \ub9cc\ub4e4\uae30 \uc2dc\uc791\ud588\ub358 \uc5b8\uc5b4\uac00 \uc9c0\uae08 \ub9ce\uc740 \uc0ac\ub78c\ub4e4\uc774 \uc0ac\uc6a9\ud558\ub294 Python \uc5b8\uc5b4\uac00 \ub418\uc5c8\ub2e4."
     ]
    },
    {
     "cell_type": "markdown",
     "metadata": {},
     "source": [
      "### 2-3 \ud30c\uc774\uc36c\uc758 \ucd9c\ubc1c"
     ]
    },
    {
     "cell_type": "markdown",
     "metadata": {},
     "source": [
      "- \ud30c\uc774\uc36c\uc758 \uae30\ubc18\uc740 80\ub144\ub300 \ucd08\ubc18\uc5d0 Guido\uac00 \ub3d9\ub8cc\ub4e4\uacfc \ud568\uaed8 \uac1c\ubc1c\uc744 \ud558\uc600\ub358 ABC\ub77c\ub294 \uc5b8\uc5b4\uc774\ub2e4. \n",
      "- 80\ub144\ub300\uc5d0 ABC\ub77c\ub294 \uc5b8\uc5b4\ub294 \ucd5c\uace0\uc758 \uad50\uc721\uc6a9 \uc5b8\uc5b4\ub85c \uc54c\ub824\uc84c\uc5c8\uace0 \uc804\ubb38 \ud504\ub85c\uadf8\ub798\uba38\uac00 \uc544\ub2cc \uc0ac\ub78c\uc774 \ubc30\uc6b0\uae30 \ud3b8\ud558\uac8c \ub9cc\ub4e4\uc5b4\uc9c4 \uc544\uc8fc \ud6cc\ub96d\ud55c \uc5b8\uc5b4\uc600\ub2e4. \n",
      "- \uadf8\ub7fc\uc5d0\ub3c4 \ubd88\uad6c\ud558\uace0 \uc804\ubb38 \ud504\ub85c\uadf8\ub798\uba38\ub4e4\uc5d0\uac8c\ub294 \uac70\uc758 \ubc1b\uc544 \ub4e4\uc5ec\uc9c0\uc9c0\ub3c4 \uc54a\uc558\uace0 \uc798 \uc0ac\uc6a9\ub418\uc9c0\ub3c4 \uc54a\uc558\ub2e4.\n",
      "- \uc774\ub294 \ud504\ub85c\uadf8\ub798\ubc0d\uc774 \ub300\uc911\ud654\uac00 \ub9ce\uc774 \ub418\uc9c0 \uc54a\uc740 \uc0c1\ud669\uc5d0\uc11c \uc804\ubb38 \ud504\ub85c\uadf8\ub798\uba38\ub4e4\uc5d0\uac8c \uc678\uba74\ubc1b\uc558\uc744 \ub54c\uc5d0 \ub098\uc62c \uc218 \uc788\ub294 \uacb0\uacfc\ub77c\uace0 \ubcfc \uc218 \uc788\ub2e4. \n",
      "- Guido\ub294 \ud30c\uc774\uc36c\uc73c\ub85c \uc2e4\uc81c \ubb38\uc81c\ub97c \ub354\uc6b1\ub354 \uc27d\uac8c \ud574\uacb0\ud560 \uc218 \uc788\ub3c4\ub85d \uc124\uacc4\ud558\uc600\uc73c\uba70 C\uc5b8\uc5b4\ub098 \uc720\ub2c9\uc2a4 \uc258\uc744 \ub300\uc2e0\ud574\uc11c \uc880 \ub354 \ud3b8\ud558\uac8c \uc0ac\uc6a9\ud560 \uc218 \uc788\ub294 \uc5b8\uc5b4\ub97c \uac1c\ubc1c\ud558\ub294 \ub370 \ucd08\uc810\uc744 \ub9de\ucd94\uc5c8\ub2e4. "
     ]
    },
    {
     "cell_type": "markdown",
     "metadata": {},
     "source": [
      "### 2-4 \uc65c \ud30c\uc774\uc36c\uc744 \ubc30\uc6cc\uc57c \ud558\ub294\uac00?"
     ]
    },
    {
     "cell_type": "markdown",
     "metadata": {},
     "source": [
      "- \uac00\uc7a5 \uc911\uc694\ud55c \ub300\ub2f5: \"\uc0dd\uc0b0\uc131\uc774 \ub744\uc5b4\ub098\uae30 \ub54c\ubb38\"\n",
      "- \uba3c\uc800 \uac1c\ubc1c\ud558\ub77c! \uadf8\ub9ac\uace0 \ub098\uc11c \uc131\ub2a5\uc744 \uac1c\uc120\ud558\ub77c."
     ]
    },
    {
     "cell_type": "markdown",
     "metadata": {},
     "source": [
      "### 2-5 \ud30c\uc774\uc36c\uc740 \uc5b4\ub5a4 \uc5b8\uc5b4\uc778\uac00?"
     ]
    },
    {
     "cell_type": "markdown",
     "metadata": {},
     "source": [
      "- \ub300\ud654 \uae30\ub2a5\uc758 \uc778\ud130\ud504\ub9ac\ud130 \uc5b8\uc5b4\n",
      "- \ub3d9\uc801\uc778 \ub370\uc774\ud130 \ud0c0\uc785 \uacb0\uc815 \uc9c0\uc6d0"
     ]
    },
    {
     "cell_type": "code",
     "collapsed": false,
     "input": [
      "def add(a,b):\n",
      "    return a+b\n",
      "\n",
      "print add(1,2)\n",
      "print add('abc', 'def')\n",
      "print add([1, 2, 3], [4, 5, 6])"
     ],
     "language": "python",
     "metadata": {},
     "outputs": [
      {
       "output_type": "stream",
       "stream": "stdout",
       "text": [
        "3\n",
        "abcdef\n",
        "[1, 2, 3, 4, 5, 6]\n"
       ]
      }
     ],
     "prompt_number": 1
    },
    {
     "cell_type": "markdown",
     "metadata": {},
     "source": [
      "- \ud50c\ub7ab\ud3fc \ub3c5\ub9bd\uc801 \uc5b8\uc5b4\n",
      "- \uac1c\ubc1c \uae30\uac04 \ub2e8\ucd95\uc5d0 \ucd1b\uc810\uc744 \ub454 \uc5b8\uc5b4\n",
      "- \uac04\ub2e8\ud558\uace0 \uc26c\uc6b4 \ubb38\ubc95\n",
      "- \uace0\uc218\uc900\uc758 \ub0b4\uc7a5 \uac1d\uccb4 \uc790\ub8cc\ud615 \uc81c\uacf5"
     ]
    },
    {
     "cell_type": "code",
     "collapsed": false,
     "input": [
      "a=[12, 'abcde', 4+2j, [3,4,5]]\n",
      "a.append('add')\n",
      "print a;"
     ],
     "language": "python",
     "metadata": {},
     "outputs": [
      {
       "output_type": "stream",
       "stream": "stdout",
       "text": [
        "[12, 'abcde', (4+2j), [3, 4, 5], 'add']\n"
       ]
      }
     ],
     "prompt_number": 2
    },
    {
     "cell_type": "markdown",
     "metadata": {},
     "source": [
      "- \uba54\ubaa8\ub9ac \uc790\ub3d9 \uad00\ub9ac\n",
      "- \uc26c\uc6b4 \uc720\uc9c0 \ubcf4\uc218\n",
      "- \ub9ce\uc740 \uc218\uc758 \ub77c\uc774\ube0c\ub7ec\ub9ac \uc81c\uacf5\n",
      "- \uc9e7\uc544\uc9c0\ub294 \ucf54\ub4dc\n",
      "- \ub192\uc740 \ud655\uc7a5\uc131"
     ]
    },
    {
     "cell_type": "markdown",
     "metadata": {},
     "source": [
      "### 2-6 \ud30c\uc774\uc36c\uc744 \uc5b4\ub514\uc5d0 \uc0ac\uc6a9\ud558\uba74 \uc801\ub2f9\ud55c\uac00?"
     ]
    },
    {
     "cell_type": "markdown",
     "metadata": {},
     "source": [
      "- \uc2dc\uc2a4\ud15c \uc720\ud2f8\ub9ac\ud2f0\n",
      "- GUI\n",
      "  - wxpython, tkinter\n",
      "- \uac8c\uc784 \ud504\ub85c\uadf8\ub798\ubc0d\n",
      "  - \ud30c\uc774\uc36c \uac8c\uc784\uc5d4\uc9c4: PyOpenGL PySDL PyGame Kivy PyOgre Panda3D Cocos2D PySoy\n",
      "- \uc6f9 \ud504\ub85c\uadf8\ub798\ubc0d\n",
      "  - django \ud504\ub808\uc784\uc6cc\ud06c\n",
      "- \uc218\uce58 \ud504\ub85c\uadf8\ub798\ubc0d\n",
      "  - nextworkx \ubaa8\ub4c8\n",
      "- \ub370\uc774\ud130\ubca0\uc774\uc2a4 \ud504\ub85c\uadf8\ub798\ubc0d\n",
      "- \uae30\ud0c0\n",
      "- \ucc38\uace0: http://mulgu.kr/73"
     ]
    },
    {
     "cell_type": "markdown",
     "metadata": {},
     "source": [
      "### 2-7 \ud30c\uc774\uc36c\uc758 \uc7a5\uc810"
     ]
    },
    {
     "cell_type": "markdown",
     "metadata": {},
     "source": [
      "- Guido\uac00 \uc0dd\uac01\ud588\ub358 Python \ubb38\ubc95\uc801 \ud2b9\uc9d5\uc740 \ub4e4\uc5ec\uc4f0\uae30\ub97c \ucca0\uc800\ud558\uac8c \uc9c0\ud0a8\ub3c4\ub85d \uc5b8\uc5b4\ub97c \uc124\uacc4\ud588\ub2e4\ub294 \uc810\uc774\ub2e4. \n",
      "- \uc774\ub294 \ucf54\ub4dc\uc758 \uac00\ub3c5\uc131\uc744 \ud604\uaca9\ud788 \ub192\ud600\uc900\ub2e4.\n",
      "- C \uc5b8\uc5b4\uc5d0\uc11c\ucc98\ub7fc {} \ub4f1\uc758 \uad04\ud638\ub97c \ub123\uc9c0 \uc54a\uae30 \ub54c\ubb38\uc5d0 \ud504\ub85c\uadf8\ub7a8\uc744 \uc880\ub354 \uae54\ub054\ud558\uac8c \ub9cc\ub4e4\uc5b4\uc900\ub2e4. \n",
      "- \ud30c\uc774\uc36c \ucf54\ub4dc\ub294 \uc7ac\uc0ac\uc6a9\ud558\uae30\uac00 \uc27d\ub2e4. \n",
      "- \ucf54\ub4dc\uc758 \ubd84\uc11d\uc774 \uc27d\uae30 \ub54c\ubb38\uc5d0 \ub2e4\ub978 \uc0ac\ub78c\uc774 \uc791\uc131\ud55c \ucf54\ub4dc\ub97c \ubc1b\uc544\uc11c \uc791\uc5c5\ud558\ub294 \uc0ac\ub78c\ub4e4\uc774 \ud6e8\uc52c \ub354 \uc791\uc5c5\uc744 \ud3b8\ud558\uac8c \ud574\uc900\ub2e4. "
     ]
    },
    {
     "cell_type": "markdown",
     "metadata": {},
     "source": [
      "***\n",
      "## 03 \ud30c\uc774\uc36c \ucf54\ub529 \ud658\uacbd \uad6c\uc131\n",
      "***"
     ]
    },
    {
     "cell_type": "markdown",
     "metadata": {},
     "source": [
      "### 3-1 \ud30c\uc774\uc36c \ucf54\ub529 \ud658\uacbd \uad6c\ucd95 "
     ]
    },
    {
     "cell_type": "markdown",
     "metadata": {},
     "source": [
      "#### 3-1-1 Python \uc804\uc6a9 \ud1b5\ud569\uac1c\ubc1c\ud658\uacbd(IDE) \uc0ac\uc6a9 \n",
      "- \ubcc4\ub3c4\uc758 \ud30c\uc774\uc36c \uc124\uce58 \uc5c6\uc774 \uc544\ub798 \ud1b5\ud569\uac1c\ubc1c\ud658\uacbd\uc744 \uc0ac\uc6a9\ud558\uba74 \uc790\ub3d9\uc73c\ub85c \ud30c\uc774\uc36c\uc774 \uc124\uce58\ub428\n",
      "- Enthought Canopy\n",
      "  - https://www.enthought.com/products/canopy/\n",
      "  - CANOPY EXPRESS (Free) \ub2e4\uc6b4\ub85c\ub4dc \n",
      "- \ud30c\uc77c\ud3b8\uc9d1\uae30\n",
      "  - acroedit (http://www.acrosoft.pe.kr/board)\ub4f1 \uc0ac\uc6a9\n",
      "- Python \uc2e4\ud589\n",
      "  - CMD \ucc3d\n",
      "  - ipython \uba85\ub839\uc5b4 \uc774\uc6a9\n",
      "\n",
      "#### 3-1-2 \uc774\ud074\ub9bd\uc2a4 \uc0ac\uc6a9\n",
      "- \ud30c\uc774\uc36c \uc124\uce58\n",
      "  - https://www.python.org/downloads/\n",
      "  - \ubcf8 \uac15\uc88c\uc5d0\uc11c\ub294 \ud30c\uc774\uc36c 2.7.x \ubc84\uc804 \uc0ac\uc6a9\n",
      "- \uc774\ud074\ub9bd\uc2a4\uc5d0\uc11c \ud30c\uc774\uc36c \uc124\uce58 \ubc29\ubc95\n",
      "  - http://arisu1000.tistory.com/27707"
     ]
    },
    {
     "cell_type": "markdown",
     "metadata": {},
     "source": [
      "### 3-2 \ub300\ud654\uc2dd \ubaa8\ub4dc\ub85c \uac04\ub2e8\ud55c \ud30c\uc774\uc36c \uc608\uc81c \uc2e4\ud589\ud558\uae30"
     ]
    },
    {
     "cell_type": "code",
     "collapsed": false,
     "input": [
      "print 4+5\n",
      "print \"Hello World!\""
     ],
     "language": "python",
     "metadata": {},
     "outputs": [
      {
       "output_type": "stream",
       "stream": "stdout",
       "text": [
        "9\n",
        "Hello World!\n"
       ]
      }
     ],
     "prompt_number": 2
    },
    {
     "cell_type": "heading",
     "level": 3,
     "metadata": {},
     "source": [
      "3-3 \uc0b0\uc220 \uc5f0\uc0b0\ud558\uae30"
     ]
    },
    {
     "cell_type": "code",
     "collapsed": false,
     "input": [
      "# -*- coding: utf-8 -*-\n",
      "print 4 + 5\n",
      "print 12 - 32\n",
      "print (4 + 5) * 6\n",
      "print 4 + 5 * 6\n",
      "print 9 / 5        # \uc815\uc218/\uc815\uc218 \uc5f0\uc0b0 \uacb0\uacfc\ub294 \uc815\uc218\n",
      "print 9.0 / 5.0\n",
      "print 9 / 5.0"
     ],
     "language": "python",
     "metadata": {},
     "outputs": [
      {
       "output_type": "stream",
       "stream": "stdout",
       "text": [
        "9\n",
        "-20\n",
        "54\n",
        "34\n",
        "1\n",
        "1.8\n",
        "1.8\n"
       ]
      }
     ],
     "prompt_number": 2
    },
    {
     "cell_type": "markdown",
     "metadata": {},
     "source": [
      "###3-4 \uac04\ub2e8\ud55c \ubb38\uc790\uc5f4 \uc5f0\uc0b0\ud558\uae30"
     ]
    },
    {
     "cell_type": "code",
     "collapsed": false,
     "input": [
      "print 'Hello'\n",
      "print \"Hi there!\""
     ],
     "language": "python",
     "metadata": {},
     "outputs": [
      {
       "output_type": "stream",
       "stream": "stdout",
       "text": [
        "Hello\n",
        "Hi there!\n"
       ]
      }
     ],
     "prompt_number": 5
    },
    {
     "cell_type": "code",
     "collapsed": false,
     "input": [
      "a = 'My name is '\n",
      "b = 'Amenda'\n",
      "print a + b"
     ],
     "language": "python",
     "metadata": {},
     "outputs": [
      {
       "output_type": "stream",
       "stream": "stdout",
       "text": [
        "My name is Amenda\n"
       ]
      }
     ],
     "prompt_number": 3
    },
    {
     "cell_type": "markdown",
     "metadata": {},
     "source": [
      "### 3-5 \ud30c\uc774\uc36c \ubc84\uc804 \uc54c\uc544\ubcf4\uae30"
     ]
    },
    {
     "cell_type": "code",
     "collapsed": false,
     "input": [
      "import sys\n",
      "print sys.version\n",
      "print\n",
      "print sys.version_info"
     ],
     "language": "python",
     "metadata": {},
     "outputs": [
      {
       "output_type": "stream",
       "stream": "stdout",
       "text": [
        "2.7.6 | 64-bit | (default, Jun  4 2014, 16:42:26) \n",
        "[GCC 4.2.1 (Apple Inc. build 5666) (dot 3)]\n",
        "\n",
        "sys.version_info(major=2, minor=7, micro=6, releaselevel='final', serial=0)\n"
       ]
      }
     ],
     "prompt_number": 3
    },
    {
     "cell_type": "markdown",
     "metadata": {},
     "source": [
      "### 3-6 \ud30c\uc77c\ub85c \uc800\uc7a5\ud558\uc5ec \uc2e4\ud589\ud558\uae30"
     ]
    },
    {
     "cell_type": "markdown",
     "metadata": {},
     "source": [
      "- \ub2e4\uc74c \ub0b4\uc6a9\uc758 cal.py \ub9cc\ub4e4\uae30\n",
      "```\n",
      "# file: cal.py\n",
      "import calendar\n",
      "calendar.prmonth(2014, 11)\n",
      "```\n",
      "- \ucee4\ub9e8\ud2b8 \ucc3d (\ud130\ubbf8\ub110 \ucc3d)\uc5d0\uc11c \ud574\ub2f9 \ud3f4\ub354\ub85c \uc774\ub3d9 \ud6c4 \ub2e4\uc74c \uba85\ub839\uc5b4 \uc218\ud589 python.py\n",
      "  - python cal.py"
     ]
    },
    {
     "cell_type": "markdown",
     "metadata": {},
     "source": [
      "### 3-7 \ub300\ud654\uc2dd \ubaa8\ub4dc\uc5d0\uc11c \ud639\uc740 \ub2e4\ub978 \ubaa8\ub4c8\uc5d0\uc11c \ubaa8\ub4c8 \ud30c\uc77c \uc2e4\ud589\ud558\uae30"
     ]
    },
    {
     "cell_type": "code",
     "collapsed": false,
     "input": [
      "execfile('/Users/yhhan/git/python-e-learning/files/cal.py')"
     ],
     "language": "python",
     "metadata": {},
     "outputs": [
      {
       "output_type": "stream",
       "stream": "stdout",
       "text": [
        "   November 2014\n",
        "Mo Tu We Th Fr Sa Su\n",
        "                1  2\n",
        " 3  4  5  6  7  8  9\n",
        "10 11 12 13 14 15 16\n",
        "17 18 19 20 21 22 23\n",
        "24 25 26 27 28 29 30\n"
       ]
      }
     ],
     "prompt_number": 5
    }
   ],
   "metadata": {}
  }
 ]
}