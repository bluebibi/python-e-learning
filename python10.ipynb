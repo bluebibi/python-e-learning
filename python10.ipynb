{
 "metadata": {
  "celltoolbar": "Raw Cell Format",
  "name": "",
  "signature": "sha256:a3f1d0691f22ef95c83e901f198a83a14132a2ad9a45c3bd946bea9c945538c4"
 },
 "nbformat": 3,
 "nbformat_minor": 0,
 "worksheets": [
  {
   "cells": [
    {
     "cell_type": "markdown",
     "metadata": {},
     "source": [
      "***\n",
      "***\n",
      "# 10. \uc0ac\uc804(Dictionaries)\n",
      "***\n",
      "***"
     ]
    },
    {
     "cell_type": "markdown",
     "metadata": {},
     "source": [
      "***\n",
      "## 1 \uc0ac\uc804 \ud65c\uc6a9\ubc95\n",
      "***\n",
      "- \uc0ac\uc804(Dictionary) \uac1d\uccb4\uc758 \ud2b9\uc9d5\n",
      "  - \uc9d1\ud569\uc801 \uc790\ub8cc\ud615\n",
      "  - \uc790\ub8cc\uc758 \uc21c\uc11c\ub97c \uc815\ud558\uc9c0 \uc54a\ub294 \ub9e4\ud551(Mapping)\ud615\n",
      "    - \ud0a4(Key)\ub97c \uc774\uc6a9\ud558\uc5ec \uac12(Value)\uc5d0 \uc811\uadfc\n",
      "    - \uc2dc\ud000\uc2a4 \uc790\ub8cc\ud615\uc740 \uc544\ub2d8\n",
      "  - \ud0a4\uc640 \uac12\uc758 \ub9e4\ud551 1\uac1c\ub97c \uc544\uc774\ud15c(item)\uc774\ub77c\uace0 \ubd80\ub984"
     ]
    },
    {
     "cell_type": "code",
     "collapsed": false,
     "input": [
      "member = {'basketball':5, 'soccer':11, 'baseball':9}\n",
      "print member['baseball'] # \uac80\uc0c9"
     ],
     "language": "python",
     "metadata": {},
     "outputs": [
      {
       "output_type": "stream",
       "stream": "stdout",
       "text": [
        "9\n"
       ]
      }
     ],
     "prompt_number": 1
    },
    {
     "cell_type": "markdown",
     "metadata": {},
     "source": [
      "- \uac12\uc744 \uc800\uc7a5\ud560 \uc2dc\uc5d0 \ud0a4\ub97c \uc0ac\uc6a9\n",
      "  - \ud0a4\uac00 \uc5c6\ub2e4\uba74 \uc0c8\ub85c\uc6b4 \ud0a4\uc640 \uac12\uc758 \uc544\uc774\ud15c\uc774 \uc0dd\uc131\n",
      "  - \ud0a4\uac00 \uc774\ubbf8 \uc874\uc7ac\ud55c\ub2e4\uba74 \uadf8 \ud0a4\uc5d0 \ud574\ub2f9\ud558\ub294 \uac12\uc774 \ubcc0\uacbd"
     ]
    },
    {
     "cell_type": "code",
     "collapsed": false,
     "input": [
      "member = {'basketball':5, 'soccer':11, 'baseball':9}\n",
      "member['volleyball'] = 7 # \uc0c8\ub85c\uc6b4 \uc544\uc774\ud15c \uc124\uc815\n",
      "member['volleyball'] = 6 # \ubcc0\uacbd\n",
      "print member\n",
      "print len(member)        # \uc544\uc774\ud15c\uc758 \uac1c\uc218 \ubc18\ud658 "
     ],
     "language": "python",
     "metadata": {},
     "outputs": [
      {
       "output_type": "stream",
       "stream": "stdout",
       "text": [
        "{'soccer': 11, 'basketball': 5, 'baseball': 9, 'volleyball': 6}\n",
        "4\n"
       ]
      }
     ],
     "prompt_number": 5
    },
    {
     "cell_type": "markdown",
     "metadata": {},
     "source": [
      "- \uc0ac\uc804\uc744 \ucd9c\ub825\ud558\uba74 \uac01 \uc544\uc774\ud15c\ub4e4\uc774 \uc784\uc758\uc758 \uc21c\uc11c\ub85c \ucd9c\ub825\ub41c\ub2e4.\n",
      "- \uc0c8\ub85c\uc6b4 \uc544\uc774\ud15c\uc774 \ub4e4\uc5b4\uc624\uba74 \ud0a4 \ub0b4\uc6a9\uc5d0 \ub530\ub77c \uadf8 \uc21c\uc11c\uac00 \ub2ec\ub77c\uc9c4\ub2e4.\n",
      "- \ub0b4\ubd80\uc801\uc73c\ub85c \ud0a4 \ub0b4\uc6a9\uc5d0 \ub300\ud574 \ud574\uc26c(Hash) \uae30\ubc95\uc744 \uc0ac\uc6a9\n",
      "  - \uac80\uc0c9 \uc18d\ub3c4\uac00 \ub9e4\uc6b0 \ube60\ub984\n",
      "  - [\ucc38\uace0]: http://www.laurentluce.com/posts/python-dictionary-implementation/\n",
      "- \ud0a4\uc640 \uac12 \ub9e4\ud551\uc5d0 \ub300\ud55c \uc544\uc774\ud15c\uc744 \uc0ad\uc81c\ud560 \ub54c\uc5d0\ub294 del\uacfc \ud568\uaed8 \ud0a4\uac12 \uba85\uc2dc "
     ]
    },
    {
     "cell_type": "code",
     "collapsed": false,
     "input": [
      "member = {'basketball':5, 'soccer':11, 'baseball':9}\n",
      "del member['basketball'] # \ud56d\ubaa9 \uc0ad\uc81c\n",
      "print member"
     ],
     "language": "python",
     "metadata": {},
     "outputs": [
      {
       "output_type": "stream",
       "stream": "stdout",
       "text": [
        "{'soccer': 11, 'baseball': 9}\n"
       ]
      }
     ],
     "prompt_number": 4
    },
    {
     "cell_type": "markdown",
     "metadata": {},
     "source": [
      "- [\uc911\uc694] \ud0a4\ub294 \ubcc0\uacbd \ubd88\uac00\ub2a5 (Immutable) \uc790\ub8cc\ub9cc \uac00\ub2a5\n",
      "  - \ubb38\uc790\uc5f4, \uc22b\uc790, \ud29c\ud50c\uc740 \uac00\ub2a5\n",
      "  - \ub9ac\uc2a4\ud2b8, \uc0ac\uc804\uc740 \ud0a4\uac00 \ub420 \uc218 \uc5c6\uc74c\n",
      "- \ubc18\uba74\uc5d0 \uc0ac\uc804\uc5d0 \uc785\ub825\ub418\ub294 \uac12\uc740 \uc784\uc758\uc758 \uac1d\uccb4"
     ]
    },
    {
     "cell_type": "code",
     "collapsed": false,
     "input": [
      "d = {}\n",
      "d['str'] = 'abc'\n",
      "d[1] = 4\n",
      "d[(1,2,3)] = 'tuple'\n",
      "d[[1,2,3]] = 'list' # \ub9ac\uc2a4\ud2b8\ub294 \ud0a4\uac00 \ub420 \uc218 \uc5c6\ub2e4."
     ],
     "language": "python",
     "metadata": {},
     "outputs": [
      {
       "ename": "TypeError",
       "evalue": "unhashable type: 'list'",
       "output_type": "pyerr",
       "traceback": [
        "\u001b[0;31m---------------------------------------------------------------------------\u001b[0m\n\u001b[0;31mTypeError\u001b[0m                                 Traceback (most recent call last)",
        "\u001b[0;32m<ipython-input-2-4f2e8eb1eca7>\u001b[0m in \u001b[0;36m<module>\u001b[0;34m()\u001b[0m\n\u001b[1;32m      3\u001b[0m \u001b[0md\u001b[0m\u001b[0;34m[\u001b[0m\u001b[0;36m1\u001b[0m\u001b[0;34m]\u001b[0m \u001b[0;34m=\u001b[0m \u001b[0;36m4\u001b[0m\u001b[0;34m\u001b[0m\u001b[0m\n\u001b[1;32m      4\u001b[0m \u001b[0md\u001b[0m\u001b[0;34m[\u001b[0m\u001b[0;34m(\u001b[0m\u001b[0;36m1\u001b[0m\u001b[0;34m,\u001b[0m\u001b[0;36m2\u001b[0m\u001b[0;34m,\u001b[0m\u001b[0;36m3\u001b[0m\u001b[0;34m)\u001b[0m\u001b[0;34m]\u001b[0m \u001b[0;34m=\u001b[0m \u001b[0;34m'tuple'\u001b[0m\u001b[0;34m\u001b[0m\u001b[0m\n\u001b[0;32m----> 5\u001b[0;31m \u001b[0md\u001b[0m\u001b[0;34m[\u001b[0m\u001b[0;34m[\u001b[0m\u001b[0;36m1\u001b[0m\u001b[0;34m,\u001b[0m\u001b[0;36m2\u001b[0m\u001b[0;34m,\u001b[0m\u001b[0;36m3\u001b[0m\u001b[0;34m]\u001b[0m\u001b[0;34m]\u001b[0m \u001b[0;34m=\u001b[0m \u001b[0;34m'list'\u001b[0m \u001b[0;31m# \ub9ac\uc2a4\ud2b8\ub294 \ud0a4\uac00 \ub420 \uc218 \uc5c6\ub2e4.\u001b[0m\u001b[0;34m\u001b[0m\u001b[0m\n\u001b[0m",
        "\u001b[0;31mTypeError\u001b[0m: unhashable type: 'list'"
       ]
      }
     ],
     "prompt_number": 2
    },
    {
     "cell_type": "code",
     "collapsed": false,
     "input": [
      "d[{1:2}] = 3 # \uc0ac\uc804\uc740 \ud0a4\uac00 \ub420 \uc218 \uc5c6\ub2e4."
     ],
     "language": "python",
     "metadata": {},
     "outputs": [
      {
       "ename": "TypeError",
       "evalue": "unhashable type: 'dict'",
       "output_type": "pyerr",
       "traceback": [
        "\u001b[0;31m---------------------------------------------------------------------------\u001b[0m\n\u001b[0;31mTypeError\u001b[0m                                 Traceback (most recent call last)",
        "\u001b[0;32m<ipython-input-3-de0c91623d77>\u001b[0m in \u001b[0;36m<module>\u001b[0;34m()\u001b[0m\n\u001b[0;32m----> 1\u001b[0;31m \u001b[0md\u001b[0m\u001b[0;34m[\u001b[0m\u001b[0;34m{\u001b[0m\u001b[0;36m1\u001b[0m\u001b[0;34m:\u001b[0m\u001b[0;36m2\u001b[0m\u001b[0;34m}\u001b[0m\u001b[0;34m]\u001b[0m \u001b[0;34m=\u001b[0m \u001b[0;36m3\u001b[0m \u001b[0;31m# \uc0ac\uc804\uc740 \ud0a4\uac00 \ub420 \uc218 \uc5c6\ub2e4.\u001b[0m\u001b[0;34m\u001b[0m\u001b[0m\n\u001b[0m",
        "\u001b[0;31mTypeError\u001b[0m: unhashable type: 'dict'"
       ]
      }
     ],
     "prompt_number": 3
    },
    {
     "cell_type": "markdown",
     "metadata": {},
     "source": [
      "- \ud568\uc218 \uc774\ub984\uc740 \uc0ac\uc804\uc758 \ud0a4\ub098 \uac12\uc73c\ub85c \uc0ac\uc6a9 \uac00\ub2a5\ud568"
     ]
    },
    {
     "cell_type": "code",
     "collapsed": false,
     "input": [
      "def add(a, b):\n",
      "    return a + b\n",
      "\n",
      "def sub(a, b):\n",
      "    return a - b\n",
      "\n",
      "action = {0: add, 1: sub}   # \ud568\uc218 \uc774\ub984\uc744 \uc0ac\uc804\uc758 \uac12\uc73c\ub85c \uc0ac\uc6a9\n",
      "print action[0](4, 5)\n",
      "print action[1](4, 5)\n",
      "print\n",
      "action2 = {add: 1, sub: 2}  # \ud568\uc218 \uc774\ub984\uc744 \uc0ac\uc804\uc758 \ud0a4\ub85c \uc0ac\uc6a9\n",
      "print action2[add]"
     ],
     "language": "python",
     "metadata": {},
     "outputs": [
      {
       "output_type": "stream",
       "stream": "stdout",
       "text": [
        "9\n",
        "-1\n",
        "\n",
        "1\n"
       ]
      }
     ],
     "prompt_number": 5
    },
    {
     "cell_type": "markdown",
     "metadata": {},
     "source": [
      "- \uc0ac\uc804\uc744 \uc0dd\uc131\ud558\ub294 \ub2e4\ub978 \ubc29\ubc95: \ub0b4\uc7a5\ud568\uc218 dict() \uc0ac\uc6a9"
     ]
    },
    {
     "cell_type": "code",
     "collapsed": false,
     "input": [
      "d = dict()\n",
      "print type(d)\n",
      "print \n",
      "\n",
      "print dict(one=1, two=2)\n",
      "print dict([('one', 1), ('two', 2)])\n",
      "print dict({'one':1, 'two':2})"
     ],
     "language": "python",
     "metadata": {},
     "outputs": [
      {
       "output_type": "stream",
       "stream": "stdout",
       "text": [
        "<type 'dict'>\n",
        "\n",
        "{'two': 2, 'one': 1}\n",
        "{'two': 2, 'one': 1}\n",
        "{'two': 2, 'one': 1}\n"
       ]
      }
     ],
     "prompt_number": 8
    },
    {
     "cell_type": "code",
     "collapsed": false,
     "input": [
      "keys = ['one', 'two', 'three']\n",
      "values = (1, 2, 3)\n",
      "print zip(keys, values) # zip(): \ub450 \uac1c\uc758 \uc790\ub8cc\ub97c \uc21c\uc11c\ub300\ub85c \uc30d\uc73c\ub85c \ubb36\uc740 \ud29c\ud50c\ub4e4\uc758 \ub9ac\uc2a4\ud2b8 \ubc18\ud658\n",
      "print dict(zip(keys, values))"
     ],
     "language": "python",
     "metadata": {},
     "outputs": [
      {
       "output_type": "stream",
       "stream": "stdout",
       "text": [
        "[('one', 1), ('two', 2), ('three', 3)]\n",
        "{'three': 3, 'two': 2, 'one': 1}\n"
       ]
      }
     ],
     "prompt_number": 9
    },
    {
     "cell_type": "markdown",
     "metadata": {},
     "source": [
      "***\n",
      "## 2 \uc0ac\uc804 \uba54\uc18c\ub4dc\n",
      "***"
     ]
    },
    {
     "cell_type": "markdown",
     "metadata": {},
     "source": [
      "- \uc0ac\uc804\uc774 \uc9c0\uc6d0\ud558\ub294 \uc911\uc694 \uba54\uc18c\ub4dc\n",
      "  - D.keys(): \uc0ac\uc804 D\uc5d0\uc11c \ud0a4\ub4e4\uc744 \ub9ac\uc2a4\ud2b8\ub85c \ubc18\ud658\n",
      "  - D.values(): \uc0ac\uc804 D\uc5d0\uc11c \uac12\ub4e4\uc744 \ub9ac\uc2a4\ud2b8\ub85c \ubc18\ud658\n",
      "  - D.items(): \uc0ac\uc804 D\uc5d0\uc11c \uac01 \uc544\uc774\ud15c\uc744 \ud29c\ud50c\ud615\ud0dc\ub85c \uac00\uc838\uc640 \ub9ac\uc2a4\ud2b8\ub85c \ubc18\ud658\n",
      "- key in D: \uc0ac\uc804 D\uc548\uc5d0 key\ub97c \ud0a4\uac12\uc744 \uac00\uc9c4 \uc544\uc774\ud15c\uc774 \uc788\ub294\uc9c0 \ud655\uc778"
     ]
    },
    {
     "cell_type": "code",
     "collapsed": false,
     "input": [
      "phone = {'jack':9465215, 'jin':1111, 'Joseph':6584321}\n",
      "\n",
      "print phone.keys() # \ud0a4\uc758 \ub9ac\uc2a4\ud2b8 \ubc18\ud658\n",
      "print phone.values() # \uac12\ub4e4\uc758 \ub9ac\uc2a4\ud2b8 \ubc18\ud658\n",
      "print phone.items() # (\ud0a4, \uac12)\uc758 \ub9ac\uc2a4\ud2b8 \ubc18\ud658\n",
      "print\n",
      "print 'jack' in phone # 'jack'\uc774 phone\uc758 \ud0a4\uc5d0 \ud3ec\ud568\ub418\uc5b4 \uc788\ub294\uac00?\n",
      "print 'lee' in phone"
     ],
     "language": "python",
     "metadata": {},
     "outputs": [
      {
       "output_type": "stream",
       "stream": "stdout",
       "text": [
        "['jin', 'Joseph', 'jack']\n",
        "[1111, 6584321, 9465215]\n",
        "[('jin', 1111), ('Joseph', 6584321), ('jack', 9465215)]\n",
        "\n",
        "True\n",
        "False\n"
       ]
      }
     ],
     "prompt_number": 10
    },
    {
     "cell_type": "markdown",
     "metadata": {},
     "source": [
      "- D2 = D.copy(): \uc0ac\uc804 D\ub97c \ubcf5\uc0ac\ud558\uc5ec D2 \uc0ac\uc804\uc5d0 \ud560\ub2f9\ud55c\ub2e4."
     ]
    },
    {
     "cell_type": "code",
     "collapsed": false,
     "input": [
      "phone = {'jack':9465215, 'jin':1111, 'Joseph':6584321}\n",
      "p = phone # \uc0ac\uc804 \ub808\ud37c\ub7f0\uc2a4 \ubcf5\uc0ac. \uc0ac\uc804 \uac1d\uccb4\ub294 \uacf5\uc720\ub41c\ub2e4.\n",
      "\n",
      "phone['jack'] = 1234 # phone\uc744 \ubcc0\uacbd\ud558\uba74\n",
      "print phone\n",
      "print p # p\ub3c4 \ud568\uaed8 \ubcc0\uacbd\ub41c\ub2e4.\n",
      "print\n",
      "\n",
      "ph = phone.copy() # \uc0ac\uc804\ubcf5\uc0ac. \ubcc4\ub3c4\uc758 \uc0ac\uc804 \uac1d\uccb4\uac00 \ub9c8\ub828\ub41c\ub2e4.\n",
      "phone['jack'] = 1111 # phone\uc744 \ubc14\uafd4\ub3c4\n",
      "print phone\n",
      "print ph # ph\ub294 \ubc14\ub00c\uc9c0 \uc54a\ub294\ub2e4."
     ],
     "language": "python",
     "metadata": {},
     "outputs": [
      {
       "output_type": "stream",
       "stream": "stdout",
       "text": [
        "{'jin': 1111, 'Joseph': 6584321, 'jack': 1234}\n",
        "{'jin': 1111, 'Joseph': 6584321, 'jack': 1234}\n",
        "\n",
        "{'jin': 1111, 'Joseph': 6584321, 'jack': 1111}\n",
        "{'jin': 1111, 'Joseph': 6584321, 'jack': 1234}\n"
       ]
      }
     ],
     "prompt_number": 11
    },
    {
     "cell_type": "markdown",
     "metadata": {},
     "source": [
      "- [\uc8fc\uc758] D.copy()\ub294 Shallow Copy\ub97c \uc218\ud589\ud55c\ub2e4."
     ]
    },
    {
     "cell_type": "code",
     "collapsed": false,
     "input": [
      "phone = {'a': [1,2,3], 'b': 4}\n",
      "phone2 = phone.copy()\n",
      "print phone\n",
      "print phone2\n",
      "print\n",
      "\n",
      "phone['b'] = 100\n",
      "print phone\n",
      "print phone2\n",
      "print\n",
      "\n",
      "phone['a'][0] = 100\n",
      "print phone\n",
      "print phone2"
     ],
     "language": "python",
     "metadata": {},
     "outputs": [
      {
       "output_type": "stream",
       "stream": "stdout",
       "text": [
        "{'a': [1, 2, 3], 'b': 4}\n",
        "{'a': [1, 2, 3], 'b': 4}\n",
        "\n",
        "{'a': [1, 2, 3], 'b': 100}\n",
        "{'a': [1, 2, 3], 'b': 4}\n",
        "\n",
        "{'a': [100, 2, 3], 'b': 100}\n",
        "{'a': [100, 2, 3], 'b': 4}\n"
       ]
      }
     ],
     "prompt_number": 6
    },
    {
     "cell_type": "markdown",
     "metadata": {},
     "source": [
      "![image](images/shallow_copy.png)"
     ]
    },
    {
     "cell_type": "code",
     "collapsed": false,
     "input": [
      "ph = {'jack':9465215, 'jin':1111, 'Joseph':6584321}\n",
      "\n",
      "print ph.get('jack')  # 'jack'\uc5d0 \ub300\ud55c \uac12\uc744 \uc5bb\ub294\ub2e4. ph['jack']\uacfc \uac19\ub2e4.\n",
      "print ph.get('gslee') # 'gslee'\uc5d0 \ub300\ud55c \uac12\uc744 \uc5bb\ub294\ub2e4. \uac12\uc774 \uc5c6\ub294 \uacbd\uc6b0 None\ubc18\ud658"
     ],
     "language": "python",
     "metadata": {},
     "outputs": [
      {
       "output_type": "stream",
       "stream": "stdout",
       "text": [
        "9465215\n",
        "None\n"
       ]
      }
     ],
     "prompt_number": 12
    },
    {
     "cell_type": "code",
     "collapsed": false,
     "input": [
      "ph = {'jack':9465215, 'jin':1111, 'Joseph':6584321}\n",
      "print ph['gslee'] # ph['gslee']\ub294 \ud0a4\uac00 \uc5c6\ub294 \uacbd\uc6b0 \uc608\uc678\ubc1c\uc0dd"
     ],
     "language": "python",
     "metadata": {},
     "outputs": [
      {
       "ename": "KeyError",
       "evalue": "'gslee'",
       "output_type": "pyerr",
       "traceback": [
        "\u001b[0;31m---------------------------------------------------------------------------\u001b[0m\n\u001b[0;31mKeyError\u001b[0m                                  Traceback (most recent call last)",
        "\u001b[0;32m<ipython-input-11-00dc298a68ec>\u001b[0m in \u001b[0;36m<module>\u001b[0;34m()\u001b[0m\n\u001b[1;32m      1\u001b[0m \u001b[0mph\u001b[0m \u001b[0;34m=\u001b[0m \u001b[0;34m{\u001b[0m\u001b[0;34m'jack'\u001b[0m\u001b[0;34m:\u001b[0m\u001b[0;36m9465215\u001b[0m\u001b[0;34m,\u001b[0m \u001b[0;34m'jin'\u001b[0m\u001b[0;34m:\u001b[0m\u001b[0;36m1111\u001b[0m\u001b[0;34m,\u001b[0m \u001b[0;34m'Joseph'\u001b[0m\u001b[0;34m:\u001b[0m\u001b[0;36m6584321\u001b[0m\u001b[0;34m}\u001b[0m\u001b[0;34m\u001b[0m\u001b[0m\n\u001b[0;32m----> 2\u001b[0;31m \u001b[0;32mprint\u001b[0m \u001b[0mph\u001b[0m\u001b[0;34m[\u001b[0m\u001b[0;34m'gslee'\u001b[0m\u001b[0;34m]\u001b[0m     \u001b[0;31m# ph['gslee']\ub294 \ud0a4\uac00 \uc5c6\ub294 \uacbd\uc6b0 \uc608\uc678\ubc1c\uc0dd\u001b[0m\u001b[0;34m\u001b[0m\u001b[0m\n\u001b[0m",
        "\u001b[0;31mKeyError\u001b[0m: 'gslee'"
       ]
      }
     ],
     "prompt_number": 11
    },
    {
     "cell_type": "code",
     "collapsed": false,
     "input": [
      "ph = {'jack':9465215, 'jin':1111, 'Joseph':6584321}\n",
      "print ph.get('gslee', 5284) # \uc778\uc218\ub97c \ud558\ub098 \ub354 \uc81c\uacf5\ud558\uba74 'gslee'\uac00 \uc5c6\ub294 \uacbd\uc6b0\uc5d0 5284 \ub9ac\ud134\n",
      "print ph # \uc0ac\uc804\uc5d0\ub294 \ubcc0\ud654\uac00 \uc5c6\ub2e4\n",
      "print \n",
      "\n",
      "print ph.popitem()                 # \uc784\uc758\uc758 \uc544\uc774\ud15c\uc744 \uaebc\ub0b8\ub2e4.\n",
      "print ph\n",
      "print\n",
      "\n",
      "print ph.popitem()                 # \uc784\uc758\uc758 \uc544\uc774\ud15c\uc744 \uaebc\ub0b8\ub2e4.\n",
      "print ph \n",
      "print\n",
      "\n",
      "print ph.pop('jack')               # \ud0a4 \uac12\uc744 \ud1b5\ud574 \ud574\ub2f9 \uc544\uc774\ud15c\uc744 \uc9c0\uc815\ud558\uc5ec \uaebc\ub0b8\ub2e4.\n",
      "print ph"
     ],
     "language": "python",
     "metadata": {},
     "outputs": [
      {
       "output_type": "stream",
       "stream": "stdout",
       "text": [
        "5284\n",
        "{'jin': 1111, 'Joseph': 6584321, 'jack': 9465215}\n",
        "\n",
        "('jin', 1111)\n",
        "{'Joseph': 6584321, 'jack': 9465215}\n",
        "\n",
        "('Joseph', 6584321)\n",
        "{'jack': 9465215}\n",
        "\n",
        "9465215\n",
        "{}\n"
       ]
      }
     ],
     "prompt_number": 13
    },
    {
     "cell_type": "code",
     "collapsed": false,
     "input": [
      "phone = {'jack':9465215, 'jin':1111, 'Joseph':6584321}\n",
      "ph = {'kim':12312, 'lee': 9090}\n",
      "phone.update(ph) # \uc0ac\uc804 phone\uc758 \ub0b4\uc6a9\uc744 ph\uc73c\ub85c \ucd94\uac00 \uac31\uc2e0\n",
      "print phone\n",
      "print\n",
      "phone.clear() # \uc0ac\uc804\uc758 \ubaa8\ub4e0 \uc785\ub825\uc744 \uc5c6\uc564\ub2e4.\n",
      "print phone"
     ],
     "language": "python",
     "metadata": {},
     "outputs": [
      {
       "output_type": "stream",
       "stream": "stdout",
       "text": [
        "{'jin': 1111, 'Joseph': 6584321, 'jack': 9465215, 'kim': 12312, 'lee': 9090}\n",
        "\n",
        "{}\n"
       ]
      }
     ],
     "prompt_number": 14
    },
    {
     "cell_type": "markdown",
     "metadata": {},
     "source": [
      "***\n",
      "## 3 \ub8e8\ud504\ub97c \uc774\uc6a9\ud55c \uc0ac\uc804 \ub0b4\uc6a9 \ucc38\uc870\n",
      "***"
     ]
    },
    {
     "cell_type": "markdown",
     "metadata": {},
     "source": [
      "- \uc0ac\uc804\uc758 \ubaa8\ub4e0 \ud0a4\uac12\uc744 \uc21c\ucc28\uc801\uc73c\ub85c \ucc38\uc870\ud558\ub294 \ubc29\ubc95"
     ]
    },
    {
     "cell_type": "code",
     "collapsed": false,
     "input": [
      "D = {'a':1, 'b':2, 'c':3}\n",
      "for key in D.keys():\n",
      "    print key, D[key]"
     ],
     "language": "python",
     "metadata": {},
     "outputs": [
      {
       "output_type": "stream",
       "stream": "stdout",
       "text": [
        "a 1\n",
        "c 3\n",
        "b 2\n"
       ]
      }
     ],
     "prompt_number": 15
    },
    {
     "cell_type": "markdown",
     "metadata": {},
     "source": [
      "- \uc0ac\uc804 \uc790\uccb4\ub97c for\ub8e8\ud504\uc5d0 \ud65c\uc6a9\ud558\uba74 \ud0a4\uc5d0 \ub300\ud55c \ub8e8\ud504\uac00 \uc2e4\ud589\ub41c\ub2e4."
     ]
    },
    {
     "cell_type": "code",
     "collapsed": false,
     "input": [
      "D = {'a':1, 'b':2, 'c':3}\n",
      "for key in D:\n",
      "    print key, D[key]"
     ],
     "language": "python",
     "metadata": {},
     "outputs": [
      {
       "output_type": "stream",
       "stream": "stdout",
       "text": [
        "a 1\n",
        "c 3\n",
        "b 2\n"
       ]
      }
     ],
     "prompt_number": 16
    },
    {
     "cell_type": "markdown",
     "metadata": {},
     "source": [
      "- \ud0a4\uc640 \uac12\uc744 \ub3d9\uc2dc\uc5d0 \ucc38\uc870\ud558\ub824\uba74 D.items()\ub97c \ud65c\uc6a9\ud55c\ub2e4."
     ]
    },
    {
     "cell_type": "code",
     "collapsed": false,
     "input": [
      "for key, value in D.items():\n",
      "    print key, value"
     ],
     "language": "python",
     "metadata": {},
     "outputs": [
      {
       "output_type": "stream",
       "stream": "stdout",
       "text": [
        "a 1\n",
        "c 3\n",
        "b 2\n"
       ]
      }
     ],
     "prompt_number": 17
    },
    {
     "cell_type": "markdown",
     "metadata": {},
     "source": [
      "- \uc0ac\uc804\uc5d0 \uc785\ub825\ub41c \uc544\uc774\ud15c\ub4e4\uc740 \uc77c\uc815\ud55c \uc21c\uc11c\uac00 \uc5c6\ub2e4.\n",
      "- \ud0a4\uac12\uc5d0 \ub300\ud55c \uc815\ub82c\uc740 \uc544\uc774\ud15c\ub4e4\uc744 \ub9ac\uc2a4\ud2b8\ub85c \ubf51\uc740 \ub2e4\uc74c\uc5d0 \ud574\ub2f9 \ub9ac\uc2a4\ud2b8\uc5d0 \uc788\ub294 sort() \ud568\uc218\ub97c \ud65c\uc6a9\ud55c\ub2e4."
     ]
    },
    {
     "cell_type": "code",
     "collapsed": false,
     "input": [
      "D = {'a':1, 'b':2, 'c':3}\n",
      "items = D.items()\n",
      "print items\n",
      "print\n",
      "\n",
      "items.sort()\n",
      "print items\n",
      "print \n",
      "\n",
      "for k,v in items:\n",
      "    print k, v"
     ],
     "language": "python",
     "metadata": {},
     "outputs": [
      {
       "output_type": "stream",
       "stream": "stdout",
       "text": [
        "[('a', 1), ('c', 3), ('b', 2)]\n",
        "\n",
        "[('a', 1), ('b', 2), ('c', 3)]\n",
        "\n",
        "a 1\n",
        "b 2\n",
        "c 3\n"
       ]
      }
     ],
     "prompt_number": 9
    },
    {
     "cell_type": "markdown",
     "metadata": {},
     "source": [
      "<p style='text-align: right;'>\ucc38\uace0 \ubb38\ud5cc: \ud30c\uc774\uc36c(\uc5f4\ud608\uac15\uc758)(\uac1c\uc815\ud310 VER.2), \uc774\uac15\uc131, FreeLec, 2005\ub144 8\uc6d4 29\uc77c</p>"
     ]
    }
   ],
   "metadata": {}
  }
 ]
}